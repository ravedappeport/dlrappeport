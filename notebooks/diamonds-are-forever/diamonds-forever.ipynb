{
 "cells": [
  {
   "cell_type": "code",
   "execution_count": 5,
   "metadata": {},
   "outputs": [],
   "source": [
    "import pandas as pd\n",
    "import os\n",
    "import pickle"
   ]
  },
  {
   "cell_type": "code",
   "execution_count": 28,
   "metadata": {},
   "outputs": [],
   "source": [
    "## options\n",
    "pd.set_option('display.max_columns', None)\n",
    "pd.set_option('display.max_rows', None)"
   ]
  },
  {
   "cell_type": "code",
   "execution_count": 32,
   "metadata": {},
   "outputs": [],
   "source": [
    "### Brilliant Earth\n",
    "if os.path.exists(os.path.abspath('./brilliant-earth.pickle')):\n",
    "    with open('brilliant-earth.pickle', 'rb') as handle:\n",
    "        be_diamond_data = pickle.load(handle)\n",
    "        \n",
    "be_df=pd.DataFrame(data=be_diamond_data)[['shape', 'price', 'carat','cut','color', 'clarity','title']]\n",
    "be_df['vendor'] = 'Brilliant Earth'\n",
    "be_df['is_lab'] = False\n",
    "\n",
    "\n",
    "if os.path.exists(os.path.abspath('./brilliant-earth-lab.pickle')):\n",
    "    with open('brilliant-earth-lab.pickle', 'rb') as handle:\n",
    "        be_lab_diamond_data = pickle.load(handle)\n",
    "        \n",
    "bel_df = pd.DataFrame(data=be_lab_diamond_data)[['shape', 'price', 'carat','cut','color', 'clarity','title']]\n",
    "bel_df['vendor'] = 'Brilliant Earth'\n",
    "bel_df['is_lab'] = True\n"
   ]
  },
  {
   "cell_type": "code",
   "execution_count": 33,
   "metadata": {},
   "outputs": [
    {
     "data": {
      "text/html": [
       "<div>\n",
       "<style scoped>\n",
       "    .dataframe tbody tr th:only-of-type {\n",
       "        vertical-align: middle;\n",
       "    }\n",
       "\n",
       "    .dataframe tbody tr th {\n",
       "        vertical-align: top;\n",
       "    }\n",
       "\n",
       "    .dataframe thead th {\n",
       "        text-align: right;\n",
       "    }\n",
       "</style>\n",
       "<table border=\"1\" class=\"dataframe\">\n",
       "  <thead>\n",
       "    <tr style=\"text-align: right;\">\n",
       "      <th></th>\n",
       "      <th>shape</th>\n",
       "      <th>price</th>\n",
       "      <th>carat</th>\n",
       "      <th>cut</th>\n",
       "      <th>color</th>\n",
       "      <th>clarity</th>\n",
       "      <th>title</th>\n",
       "      <th>vendor</th>\n",
       "      <th>is_lab</th>\n",
       "    </tr>\n",
       "  </thead>\n",
       "  <tbody>\n",
       "    <tr>\n",
       "      <th>74746</th>\n",
       "      <td>Round</td>\n",
       "      <td>3330</td>\n",
       "      <td>0.71</td>\n",
       "      <td>Super Ideal</td>\n",
       "      <td>H</td>\n",
       "      <td>VS1</td>\n",
       "      <td>0.71 Carat Round Diamond</td>\n",
       "      <td>Brilliant Earth</td>\n",
       "      <td>False</td>\n",
       "    </tr>\n",
       "  </tbody>\n",
       "</table>\n",
       "</div>"
      ],
      "text/plain": [
       "       shape  price  carat          cut color clarity  \\\n",
       "74746  Round   3330   0.71  Super Ideal     H     VS1   \n",
       "\n",
       "                          title           vendor  is_lab  \n",
       "74746  0.71 Carat Round Diamond  Brilliant Earth   False  "
      ]
     },
     "execution_count": 33,
     "metadata": {},
     "output_type": "execute_result"
    }
   ],
   "source": [
    "be_df.sample(1)"
   ]
  },
  {
   "cell_type": "code",
   "execution_count": 37,
   "metadata": {},
   "outputs": [
    {
     "data": {
      "text/plain": [
       "array(['Super Ideal', 'Ideal', 'Good', 'Very Good', 'Fair'], dtype=object)"
      ]
     },
     "execution_count": 37,
     "metadata": {},
     "output_type": "execute_result"
    }
   ],
   "source": [
    "be_df.cut.unique()"
   ]
  },
  {
   "cell_type": "code",
   "execution_count": null,
   "metadata": {},
   "outputs": [],
   "source": []
  },
  {
   "cell_type": "code",
   "execution_count": 38,
   "metadata": {},
   "outputs": [],
   "source": [
    "### Blue Nile\n",
    "if os.path.exists(os.path.abspath('./blue-nile.pickle')):\n",
    "    with open('blue-nile.pickle', 'rb') as handle:\n",
    "        bn_diamond_data = pickle.load(handle)\n",
    "\n",
    "bn_df_raw = pd.DataFrame(data = bn_diamond_data)\n",
    "\n",
    "bn_df = pd.DataFrame()\n",
    "bn_df['shape'] = bn_df_raw.shapeName.apply(lambda x: x[0])\n",
    "bn_df['price'] = bn_df_raw.price.apply(lambda x: x[0])\n",
    "bn_df['carat'] = bn_df_raw.carat.apply(lambda x: x[0])\n",
    "bn_df['cut'] = bn_df_raw.cut.apply(lambda x: x[0]['label']).map({\n",
    "    'Good': 'Good', \n",
    "    'Very Good': 'Very Good',\n",
    "    'Ideal': 'Ideal',\n",
    "    'Astor Ideal': 'Super Ideal',\n",
    "})\n",
    "bn_df['color'] = bn_df_raw.color.apply(lambda x: x[0])\n",
    "bn_df['clarity'] = bn_df_raw.clarity.apply(lambda x: x[0])\n",
    "bn_df['vendor'] = 'Blue Nile'\n",
    "bn_df['is_lab'] = False"
   ]
  },
  {
   "cell_type": "code",
   "execution_count": 39,
   "metadata": {},
   "outputs": [
    {
     "data": {
      "text/html": [
       "<div>\n",
       "<style scoped>\n",
       "    .dataframe tbody tr th:only-of-type {\n",
       "        vertical-align: middle;\n",
       "    }\n",
       "\n",
       "    .dataframe tbody tr th {\n",
       "        vertical-align: top;\n",
       "    }\n",
       "\n",
       "    .dataframe thead th {\n",
       "        text-align: right;\n",
       "    }\n",
       "</style>\n",
       "<table border=\"1\" class=\"dataframe\">\n",
       "  <thead>\n",
       "    <tr style=\"text-align: right;\">\n",
       "      <th></th>\n",
       "      <th>shape</th>\n",
       "      <th>price</th>\n",
       "      <th>carat</th>\n",
       "      <th>cut</th>\n",
       "      <th>color</th>\n",
       "      <th>clarity</th>\n",
       "      <th>vendor</th>\n",
       "      <th>is_lab</th>\n",
       "    </tr>\n",
       "  </thead>\n",
       "  <tbody>\n",
       "    <tr>\n",
       "      <th>0</th>\n",
       "      <td>Round</td>\n",
       "      <td>$250</td>\n",
       "      <td>0.23</td>\n",
       "      <td>Very Good</td>\n",
       "      <td>E</td>\n",
       "      <td>SI1</td>\n",
       "      <td>Blue Nile</td>\n",
       "      <td>False</td>\n",
       "    </tr>\n",
       "    <tr>\n",
       "      <th>1</th>\n",
       "      <td>Round</td>\n",
       "      <td>$277</td>\n",
       "      <td>0.23</td>\n",
       "      <td>Very Good</td>\n",
       "      <td>F</td>\n",
       "      <td>SI1</td>\n",
       "      <td>Blue Nile</td>\n",
       "      <td>False</td>\n",
       "    </tr>\n",
       "    <tr>\n",
       "      <th>2</th>\n",
       "      <td>Round</td>\n",
       "      <td>$277</td>\n",
       "      <td>0.23</td>\n",
       "      <td>Very Good</td>\n",
       "      <td>F</td>\n",
       "      <td>SI1</td>\n",
       "      <td>Blue Nile</td>\n",
       "      <td>False</td>\n",
       "    </tr>\n",
       "    <tr>\n",
       "      <th>3</th>\n",
       "      <td>Round</td>\n",
       "      <td>$280</td>\n",
       "      <td>0.23</td>\n",
       "      <td>Very Good</td>\n",
       "      <td>D</td>\n",
       "      <td>SI1</td>\n",
       "      <td>Blue Nile</td>\n",
       "      <td>False</td>\n",
       "    </tr>\n",
       "    <tr>\n",
       "      <th>4</th>\n",
       "      <td>Round</td>\n",
       "      <td>$286</td>\n",
       "      <td>0.23</td>\n",
       "      <td>Good</td>\n",
       "      <td>D</td>\n",
       "      <td>SI2</td>\n",
       "      <td>Blue Nile</td>\n",
       "      <td>False</td>\n",
       "    </tr>\n",
       "  </tbody>\n",
       "</table>\n",
       "</div>"
      ],
      "text/plain": [
       "   shape price carat        cut color clarity     vendor  is_lab\n",
       "0  Round  $250  0.23  Very Good     E     SI1  Blue Nile   False\n",
       "1  Round  $277  0.23  Very Good     F     SI1  Blue Nile   False\n",
       "2  Round  $277  0.23  Very Good     F     SI1  Blue Nile   False\n",
       "3  Round  $280  0.23  Very Good     D     SI1  Blue Nile   False\n",
       "4  Round  $286  0.23       Good     D     SI2  Blue Nile   False"
      ]
     },
     "execution_count": 39,
     "metadata": {},
     "output_type": "execute_result"
    }
   ],
   "source": [
    "bn_df.head()"
   ]
  },
  {
   "cell_type": "code",
   "execution_count": null,
   "metadata": {},
   "outputs": [],
   "source": []
  },
  {
   "cell_type": "code",
   "execution_count": null,
   "metadata": {},
   "outputs": [],
   "source": []
  },
  {
   "cell_type": "code",
   "execution_count": null,
   "metadata": {},
   "outputs": [],
   "source": []
  }
 ],
 "metadata": {
  "kernelspec": {
   "display_name": "Python 3",
   "language": "python",
   "name": "python3"
  },
  "language_info": {
   "codemirror_mode": {
    "name": "ipython",
    "version": 3
   },
   "file_extension": ".py",
   "mimetype": "text/x-python",
   "name": "python",
   "nbconvert_exporter": "python",
   "pygments_lexer": "ipython3",
   "version": "3.6.8"
  }
 },
 "nbformat": 4,
 "nbformat_minor": 4
}
