{
 "cells": [
  {
   "cell_type": "code",
   "execution_count": 67,
   "metadata": {},
   "outputs": [],
   "source": [
    "import pandas as pd\n",
    "import bs4\n",
    "import requests\n",
    "import urllib\n",
    "import time\n",
    "from selenium import webdriver"
   ]
  },
  {
   "cell_type": "markdown",
   "metadata": {},
   "source": [
    "[beautiful soup docs](https://www.crummy.com/software/BeautifulSoup/bs4/doc/)"
   ]
  },
  {
   "cell_type": "code",
   "execution_count": 44,
   "metadata": {},
   "outputs": [],
   "source": [
    "_URL = \"https://www.brilliantearth.com/round-diamonds-search/\"\n",
    "driver = webdriver.Chrome()\n",
    "\n",
    "driver.get(_URL)\n",
    "\n",
    "soup = bs4.BeautifulSoup(driver.page_source, 'html.parser')\n",
    "driver.quit()\n",
    "# page = urllib.request.urlopen(url=_URL)"
   ]
  },
  {
   "cell_type": "markdown",
   "metadata": {},
   "source": [
    "Selenium to the rescue!!!"
   ]
  },
  {
   "cell_type": "code",
   "execution_count": 45,
   "metadata": {},
   "outputs": [],
   "source": [
    "res = soup.find_all(name='tr', attrs={'class':'search-item'})"
   ]
  },
  {
   "cell_type": "code",
   "execution_count": 32,
   "metadata": {},
   "outputs": [
    {
     "name": "stdout",
     "output_type": "stream",
     "text": [
      "<tr class=\"search-item\"><td scope=\"col\" width=\"2%\"></td><td class=\"shape\" scope=\"col\" style=\"text-align: left\" width=\"10%\">\n",
      "<div class=\"shape-img\">\n",
      "<img alt=\"diamond shape\" class=\"mr5\" src=\"//imagestg2015.brilliantearth.com/static/img/diamond-search/diamond-shape/round.png\" width=\"20\"/>\n",
      "<span class=\"shape-type-360\"></span>\n",
      "</div>\n",
      "Round</td><td class=\"price sort-active\" scope=\"col\" width=\"10%\">$430</td><td class=\"carat\" scope=\"col\" width=\"9%\">0.32</td><td class=\"cut\" scope=\"col\" width=\"12%\">Super Ideal</td><td class=\"color\" scope=\"col\" width=\"8%\">J</td><td class=\"clarity\" scope=\"col\" width=\"8%\">SI2</td><td class=\"report\" scope=\"col\" width=\"8%\">GIA</td><td class=\"width_ratio_hide\" scope=\"col\" width=\"8%\">1</td><td class=\"un-bubble-ga\" data-action=\"Click\" data-category=\"Search\" data-id=\"10254741\" data-label=\"Loose Diamond|Search|Compare\" onclick=\"dtl.stop_jump();\" scope=\"col\" width=\"9%\"><div class=\"checkbox checkbox-ty4\"><label><input class=\"hidden\"/><span class=\"sr-only\">checkbox</span><i class=\"icons-checkbox\"></i></label></div></td></tr>\n",
      "<tr class=\"search-item\"><td scope=\"col\" width=\"2%\"></td><td class=\"shape\" scope=\"col\" style=\"text-align: left\" width=\"10%\">\n",
      "<div class=\"shape-img\">\n",
      "<img alt=\"diamond shape\" class=\"mr5\" src=\"//imagestg2015.brilliantearth.com/static/img/diamond-search/diamond-shape/round.png\" width=\"20\"/>\n",
      "<span class=\"shape-type-360\"></span>\n",
      "</div>\n",
      "Round</td><td class=\"price sort-active\" scope=\"col\" width=\"10%\">$430</td><td class=\"carat\" scope=\"col\" width=\"9%\">0.30</td><td class=\"cut\" scope=\"col\" width=\"12%\">Ideal</td><td class=\"color\" scope=\"col\" width=\"8%\">J</td><td class=\"clarity\" scope=\"col\" width=\"8%\">SI1</td><td class=\"report\" scope=\"col\" width=\"8%\">GIA</td><td class=\"width_ratio_hide\" scope=\"col\" width=\"8%\">1</td><td class=\"un-bubble-ga\" data-action=\"Click\" data-category=\"Search\" data-id=\"10086497\" data-label=\"Loose Diamond|Search|Compare\" onclick=\"dtl.stop_jump();\" scope=\"col\" width=\"9%\"><div class=\"checkbox checkbox-ty4\"><label><input class=\"hidden\"/><span class=\"sr-only\">checkbox</span><i class=\"icons-checkbox\"></i></label></div></td></tr>\n"
     ]
    }
   ],
   "source": [
    "for r in res[:2]:\n",
    "    print(r)"
   ]
  },
  {
   "cell_type": "code",
   "execution_count": 66,
   "metadata": {},
   "outputs": [
    {
     "data": {
      "text/html": [
       "<div>\n",
       "<style scoped>\n",
       "    .dataframe tbody tr th:only-of-type {\n",
       "        vertical-align: middle;\n",
       "    }\n",
       "\n",
       "    .dataframe tbody tr th {\n",
       "        vertical-align: top;\n",
       "    }\n",
       "\n",
       "    .dataframe thead th {\n",
       "        text-align: right;\n",
       "    }\n",
       "</style>\n",
       "<table border=\"1\" class=\"dataframe\">\n",
       "  <thead>\n",
       "    <tr style=\"text-align: right;\">\n",
       "      <th></th>\n",
       "      <th>price</th>\n",
       "      <th>carat</th>\n",
       "    </tr>\n",
       "  </thead>\n",
       "  <tbody>\n",
       "    <tr>\n",
       "      <th>0</th>\n",
       "      <td>$430</td>\n",
       "      <td>0.32</td>\n",
       "    </tr>\n",
       "    <tr>\n",
       "      <th>1</th>\n",
       "      <td>$430</td>\n",
       "      <td>0.30</td>\n",
       "    </tr>\n",
       "    <tr>\n",
       "      <th>2</th>\n",
       "      <td>$430</td>\n",
       "      <td>0.30</td>\n",
       "    </tr>\n",
       "    <tr>\n",
       "      <th>3</th>\n",
       "      <td>$430</td>\n",
       "      <td>0.30</td>\n",
       "    </tr>\n",
       "    <tr>\n",
       "      <th>4</th>\n",
       "      <td>$430</td>\n",
       "      <td>0.30</td>\n",
       "    </tr>\n",
       "  </tbody>\n",
       "</table>\n",
       "</div>"
      ],
      "text/plain": [
       "  price carat\n",
       "0  $430  0.32\n",
       "1  $430  0.30\n",
       "2  $430  0.30\n",
       "3  $430  0.30\n",
       "4  $430  0.30"
      ]
     },
     "execution_count": 66,
     "metadata": {},
     "output_type": "execute_result"
    }
   ],
   "source": [
    "data = {\n",
    "    'price':[]\n",
    "    , 'carat':[]\n",
    "}\n",
    "\n",
    "for r in res:\n",
    "    data['price'] = data['price'] + [r.find(name='td', attrs={'class':'price sort-active'}).text]\n",
    "    data['carat'] = data['carat'] + [r.find(name='td', attrs={'class':'carat'}).text]\n",
    "\n",
    "\n",
    "df = pd.DataFrame(data=data)\n",
    "\n",
    "df.head()"
   ]
  },
  {
   "cell_type": "code",
   "execution_count": 49,
   "metadata": {},
   "outputs": [
    {
     "data": {
      "text/plain": [
       "\u001b[0;31mSignature:\u001b[0m\n",
       "\u001b[0msoup\u001b[0m\u001b[0;34m.\u001b[0m\u001b[0mfind_all\u001b[0m\u001b[0;34m(\u001b[0m\u001b[0;34m\u001b[0m\n",
       "\u001b[0;34m\u001b[0m    \u001b[0mname\u001b[0m\u001b[0;34m=\u001b[0m\u001b[0;32mNone\u001b[0m\u001b[0;34m,\u001b[0m\u001b[0;34m\u001b[0m\n",
       "\u001b[0;34m\u001b[0m    \u001b[0mattrs\u001b[0m\u001b[0;34m=\u001b[0m\u001b[0;34m{\u001b[0m\u001b[0;34m}\u001b[0m\u001b[0;34m,\u001b[0m\u001b[0;34m\u001b[0m\n",
       "\u001b[0;34m\u001b[0m    \u001b[0mrecursive\u001b[0m\u001b[0;34m=\u001b[0m\u001b[0;32mTrue\u001b[0m\u001b[0;34m,\u001b[0m\u001b[0;34m\u001b[0m\n",
       "\u001b[0;34m\u001b[0m    \u001b[0mtext\u001b[0m\u001b[0;34m=\u001b[0m\u001b[0;32mNone\u001b[0m\u001b[0;34m,\u001b[0m\u001b[0;34m\u001b[0m\n",
       "\u001b[0;34m\u001b[0m    \u001b[0mlimit\u001b[0m\u001b[0;34m=\u001b[0m\u001b[0;32mNone\u001b[0m\u001b[0;34m,\u001b[0m\u001b[0;34m\u001b[0m\n",
       "\u001b[0;34m\u001b[0m    \u001b[0;34m**\u001b[0m\u001b[0mkwargs\u001b[0m\u001b[0;34m,\u001b[0m\u001b[0;34m\u001b[0m\n",
       "\u001b[0;34m\u001b[0m\u001b[0;34m)\u001b[0m\u001b[0;34m\u001b[0m\u001b[0;34m\u001b[0m\u001b[0m\n",
       "\u001b[0;31mSource:\u001b[0m   \n",
       "    \u001b[0;32mdef\u001b[0m \u001b[0mfind_all\u001b[0m\u001b[0;34m(\u001b[0m\u001b[0mself\u001b[0m\u001b[0;34m,\u001b[0m \u001b[0mname\u001b[0m\u001b[0;34m=\u001b[0m\u001b[0;32mNone\u001b[0m\u001b[0;34m,\u001b[0m \u001b[0mattrs\u001b[0m\u001b[0;34m=\u001b[0m\u001b[0;34m{\u001b[0m\u001b[0;34m}\u001b[0m\u001b[0;34m,\u001b[0m \u001b[0mrecursive\u001b[0m\u001b[0;34m=\u001b[0m\u001b[0;32mTrue\u001b[0m\u001b[0;34m,\u001b[0m \u001b[0mtext\u001b[0m\u001b[0;34m=\u001b[0m\u001b[0;32mNone\u001b[0m\u001b[0;34m,\u001b[0m\u001b[0;34m\u001b[0m\n",
       "\u001b[0;34m\u001b[0m                 \u001b[0mlimit\u001b[0m\u001b[0;34m=\u001b[0m\u001b[0;32mNone\u001b[0m\u001b[0;34m,\u001b[0m \u001b[0;34m**\u001b[0m\u001b[0mkwargs\u001b[0m\u001b[0;34m)\u001b[0m\u001b[0;34m:\u001b[0m\u001b[0;34m\u001b[0m\n",
       "\u001b[0;34m\u001b[0m        \u001b[0;34m\"\"\"Look in the children of this PageElement and find all\u001b[0m\n",
       "\u001b[0;34m        PageElements that match the given criteria.\u001b[0m\n",
       "\u001b[0;34m\u001b[0m\n",
       "\u001b[0;34m        All find_* methods take a common set of arguments. See the online\u001b[0m\n",
       "\u001b[0;34m        documentation for detailed explanations.\u001b[0m\n",
       "\u001b[0;34m\u001b[0m\n",
       "\u001b[0;34m        :param name: A filter on tag name.\u001b[0m\n",
       "\u001b[0;34m        :param attrs: A dictionary of filters on attribute values.\u001b[0m\n",
       "\u001b[0;34m        :param recursive: If this is True, find_all() will perform a\u001b[0m\n",
       "\u001b[0;34m            recursive search of this PageElement's children. Otherwise,\u001b[0m\n",
       "\u001b[0;34m            only the direct children will be considered.\u001b[0m\n",
       "\u001b[0;34m        :param limit: Stop looking after finding this many results.\u001b[0m\n",
       "\u001b[0;34m        :kwargs: A dictionary of filters on attribute values.\u001b[0m\n",
       "\u001b[0;34m        :return: A ResultSet of PageElements.\u001b[0m\n",
       "\u001b[0;34m        :rtype: bs4.element.ResultSet\u001b[0m\n",
       "\u001b[0;34m        \"\"\"\u001b[0m\u001b[0;34m\u001b[0m\n",
       "\u001b[0;34m\u001b[0m        \u001b[0mgenerator\u001b[0m \u001b[0;34m=\u001b[0m \u001b[0mself\u001b[0m\u001b[0;34m.\u001b[0m\u001b[0mdescendants\u001b[0m\u001b[0;34m\u001b[0m\n",
       "\u001b[0;34m\u001b[0m        \u001b[0;32mif\u001b[0m \u001b[0;32mnot\u001b[0m \u001b[0mrecursive\u001b[0m\u001b[0;34m:\u001b[0m\u001b[0;34m\u001b[0m\n",
       "\u001b[0;34m\u001b[0m            \u001b[0mgenerator\u001b[0m \u001b[0;34m=\u001b[0m \u001b[0mself\u001b[0m\u001b[0;34m.\u001b[0m\u001b[0mchildren\u001b[0m\u001b[0;34m\u001b[0m\n",
       "\u001b[0;34m\u001b[0m        \u001b[0;32mreturn\u001b[0m \u001b[0mself\u001b[0m\u001b[0;34m.\u001b[0m\u001b[0m_find_all\u001b[0m\u001b[0;34m(\u001b[0m\u001b[0mname\u001b[0m\u001b[0;34m,\u001b[0m \u001b[0mattrs\u001b[0m\u001b[0;34m,\u001b[0m \u001b[0mtext\u001b[0m\u001b[0;34m,\u001b[0m \u001b[0mlimit\u001b[0m\u001b[0;34m,\u001b[0m \u001b[0mgenerator\u001b[0m\u001b[0;34m,\u001b[0m \u001b[0;34m**\u001b[0m\u001b[0mkwargs\u001b[0m\u001b[0;34m)\u001b[0m\u001b[0;34m\u001b[0m\u001b[0;34m\u001b[0m\u001b[0m\n",
       "\u001b[0;31mFile:\u001b[0m      ~/venv/dlrappeport/lib/python3.6/site-packages/bs4/element.py\n",
       "\u001b[0;31mType:\u001b[0m      method\n"
      ]
     },
     "metadata": {},
     "output_type": "display_data"
    }
   ],
   "source": [
    "??soup.find_all"
   ]
  },
  {
   "cell_type": "code",
   "execution_count": null,
   "metadata": {},
   "outputs": [],
   "source": []
  }
 ],
 "metadata": {
  "kernelspec": {
   "display_name": "Python 3",
   "language": "python",
   "name": "python3"
  },
  "language_info": {
   "codemirror_mode": {
    "name": "ipython",
    "version": 3
   },
   "file_extension": ".py",
   "mimetype": "text/x-python",
   "name": "python",
   "nbconvert_exporter": "python",
   "pygments_lexer": "ipython3",
   "version": "3.6.8"
  }
 },
 "nbformat": 4,
 "nbformat_minor": 4
}
