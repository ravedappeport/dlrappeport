{
 "cells": [
  {
   "cell_type": "code",
   "execution_count": 75,
   "metadata": {},
   "outputs": [],
   "source": [
    "import pandas as pd\n",
    "import bs4\n",
    "import requests\n",
    "import urllib\n",
    "import time\n",
    "import json\n",
    "import pickle\n",
    "import os\n",
    "from urllib.parse import urlparse, parse_qs\n",
    "# from selenium import webdriver\n",
    "# from selenium.webdriver.common.action_chains import ActionChains\n",
    "# from selenium.webdriver.common.keys import Keys\n"
   ]
  },
  {
   "cell_type": "markdown",
   "metadata": {},
   "source": [
    "[beautiful soup docs](https://www.crummy.com/software/BeautifulSoup/bs4/doc/)"
   ]
  },
  {
   "cell_type": "markdown",
   "metadata": {},
   "source": [
    "#### change of plans\n",
    "I think I've had change of heart and am going to go the requests route"
   ]
  },
  {
   "cell_type": "markdown",
   "metadata": {},
   "source": [
    "### Brilliant Earth"
   ]
  },
  {
   "cell_type": "code",
   "execution_count": 77,
   "metadata": {},
   "outputs": [],
   "source": [
    "### time to get all the diamond data from brilliant earth\n",
    "if os.path.exists(os.path.abspath('./brilliant-earth.pickle')):\n",
    "    with open('brilliant-earth.pickle', 'rb') as handle:\n",
    "        be_diamond_data = pickle.load(handle)\n",
    "\n",
    "else:\n",
    "    \n",
    "    be_diamond_data = []\n",
    "    p_url = urlparse('https://www.brilliantearth.com/loose-diamonds/list/?shapes=All&cuts=Fair%2CGood%2CVery%20Good%2CIdeal%2CSuper%20Ideal&colors=J%2CI%2CH%2CG%2CF%2CE%2CD&clarities=SI2%2CSI1%2CVS2%2CVS1%2CVVS2%2CVVS1%2CIF%2CFL&polishes=Good%2CVery%20Good%2CExcellent&symmetries=Good%2CVery%20Good%2CExcellent&fluorescences=Very%20Strong%2CStrong%2CMedium%2CFaint%2CNone&min_carat=0.25&max_carat=1.20&min_table=45.00&max_table=87.00&min_depth=3.50&max_depth=89.10&min_price=400&max_price=802310&row=0&page=1&requestedDataSize=100&order_by=price&order_method=asc&currency=%24&min_ratio=1.00&max_ratio=2.75&diamond_blockchain=all&diamond_dor=all&MIN_PRICE=400&MAX_PRICE=802310&MIN_CARAT=0.25&MAX_CARAT=12.88&MIN_TABLE=45&MAX_TABLE=87&MIN_DEPTH=3.5&MAX_DEPTH=89.1&is_mobile=true&diamond_search=new')\n",
    "\n",
    "\n",
    "    query = parse_qs(p_url.query)\n",
    "    # extract the URL without query parameters\n",
    "    url = p_url._replace(query=None).geturl()\n",
    "\n",
    "    query['requestedDataSize'] = ['5000']\n",
    "\n",
    "    for n in range(0,300):\n",
    "        min_carat = \"{:0.2f}\".format(n/1e2)\n",
    "        max_carat = \"{:0.2f}\".format(n/1e2+0.01)\n",
    "    #     print(min_carat, max_carat)\n",
    "\n",
    "        query['min_carat'] = min_carat\n",
    "        query['max_carat'] = max_carat\n",
    "\n",
    "        r = requests.get(url=url, params=query)\n",
    "\n",
    "        data = json.loads(r.text)\n",
    "        be_diamond_data = be_diamond_data + data.get('diamonds')\n",
    "        \n",
    "    # save brilliant earth data to pickle file    \n",
    "    with open('brilliant-earth.pickle', 'wb') as handle:\n",
    "        pickle.dump(be_diamond_data, handle)"
   ]
  },
  {
   "cell_type": "markdown",
   "metadata": {},
   "source": [
    "## James Allen"
   ]
  },
  {
   "cell_type": "code",
   "execution_count": 107,
   "metadata": {},
   "outputs": [],
   "source": [
    "import requests\n",
    "\n",
    "\n",
    "\n",
    "# data = '{\"query\":\"{\\\\n searchByIDs(price:{from:200, to:5000000} \\\\n carat:{from:0, to:5} \\\\n page:{count:100, size:12, number:1}depth:{from:46, to:78}tableSize:{from:52, to:80}color:{from: 1 to: 2} cut:{from: 0 to: 1} clarity:{from: 1 to: 9} shapeID:[1] isLabDiamond:true shippingDays:999 ) { \\\\n total\\\\n hits\\\\n pageNumber\\\\n numberOfPages\\\\n items {\\\\n \\\\n \\\\n categories\\\\n productID\\\\n sku\\\\n productType\\\\n generalType\\\\n isExpressShipping\\\\n title\\\\n description\\\\n itemID\\\\n sku\\\\n shippingDate\\\\n isFirmShipping\\\\n price\\\\n salePrice\\\\n url\\\\n metaTitle\\\\n metaDescription\\\\n targetSite\\\\n status {\\\\n id\\\\n name\\\\n }\\\\n media {\\\\n thumb\\\\n hearts\\\\n arrows\\\\n gallery\\\\n gallerySet\\\\n galleryDisplayType\\\\n stageDisplayType\\\\n segomaPhotoID\\\\n tab\\\\n stage\\\\n stageSet\\\\n supperZoom\\\\n supperZoomSet\\\\n sideView\\\\n cert\\\\n cart\\\\n }\\\\n stone {\\\\n simpleColor\\\\n species\\\\n variety\\\\n treatment\\\\n ratio\\\\n isTrueHearts\\\\n isGemstonePair\\\\n fancyColorOvertone\\\\n measurements\\\\n measureLength\\\\n measureWidth\\\\n isLabDiamond\\\\n isArgyle\\\\n carat\\\\n shape {\\\\n id\\\\n name\\\\n }\\\\n color {\\\\n id\\\\n name\\\\n isFancy\\\\n }\\\\n cut {\\\\n id\\\\n name\\\\n }\\\\n clarity {\\\\n id\\\\n name\\\\n }\\\\n lab {\\\\n id\\\\n name\\\\n }\\\\n flour {\\\\n id\\\\n name\\\\n fullName\\\\n }\\\\n symmetry {\\\\n id\\\\n name\\\\n fullName\\\\n }\\\\n polish {\\\\n id\\\\n name\\\\n fullName\\\\n }\\\\n colorIntensity {\\\\n id\\\\n name\\\\n }\\\\n depth\\\\n tableSize\\\\n }\\\\n \\\\n }\\\\n }\\\\n }\"}'\n",
    "\n",
    "\n"
   ]
  },
  {
   "cell_type": "code",
   "execution_count": 134,
   "metadata": {},
   "outputs": [],
   "source": [
    "## get james allen diamond data\n",
    "\n",
    "if os.path.exists(os.path.abspath('./james-allen.pickle')):\n",
    "    with open('james-allen.pickle', 'rb') as handle:\n",
    "        ja_diamond_data = pickle.load(handle)\n",
    "else:\n",
    "\n",
    "    headers = {\n",
    "        'authority': 'product-service.r2net.com',\n",
    "        'user-agent': 'Mozilla/5.0 (Linux; Android 6.0; Nexus 5 Build/MRA58N) AppleWebKit/537.36 (KHTML, like Gecko) Chrome/87.0.4280.88 Mobile Safari/537.36',\n",
    "        'content-type': 'application/json',\n",
    "        'accept': '*/*',\n",
    "        'origin': 'https://www.jamesallen.com',\n",
    "        'sec-fetch-site': 'cross-site',\n",
    "        'sec-fetch-mode': 'cors',\n",
    "        'sec-fetch-dest': 'empty',\n",
    "        'referer': 'https://www.jamesallen.com/',\n",
    "        'accept-language': 'en-US,en;q=0.9',\n",
    "    }\n",
    "\n",
    "    ja_diamond_data = []\n",
    "\n",
    "    for n in range(0,300):\n",
    "        min_carat = \"{:0.2f}\".format(n/1e2)\n",
    "        max_carat = \"{:0.2f}\".format(n/1e2+0.01)\n",
    "\n",
    "\n",
    "\n",
    "        data_str_pre = '{\"query\":\"{\\\\n searchByIDs(price:{from:200, to:5000000} \\\\n carat:{' \n",
    "        carat_str = f'from:{min_carat}, to:{max_carat}'\n",
    "        data_str_post = '} \\\\n page:{count:100, size:12, number:1}depth:{from:46, to:78}tableSize:{from:52, to:80}color:{from: 1 to: 2} cut:{from: 0 to: 1} clarity:{from: 1 to: 9} shapeID:[1] isLabDiamond:true shippingDays:999 ) { \\\\n total\\\\n hits\\\\n pageNumber\\\\n numberOfPages\\\\n items {\\\\n \\\\n \\\\n categories\\\\n productID\\\\n sku\\\\n productType\\\\n generalType\\\\n isExpressShipping\\\\n title\\\\n description\\\\n itemID\\\\n sku\\\\n shippingDate\\\\n isFirmShipping\\\\n price\\\\n salePrice\\\\n url\\\\n metaTitle\\\\n metaDescription\\\\n targetSite\\\\n status {\\\\n id\\\\n name\\\\n }\\\\n media {\\\\n thumb\\\\n hearts\\\\n arrows\\\\n gallery\\\\n gallerySet\\\\n galleryDisplayType\\\\n stageDisplayType\\\\n segomaPhotoID\\\\n tab\\\\n stage\\\\n stageSet\\\\n supperZoom\\\\n supperZoomSet\\\\n sideView\\\\n cert\\\\n cart\\\\n }\\\\n stone {\\\\n simpleColor\\\\n species\\\\n variety\\\\n treatment\\\\n ratio\\\\n isTrueHearts\\\\n isGemstonePair\\\\n fancyColorOvertone\\\\n measurements\\\\n measureLength\\\\n measureWidth\\\\n isLabDiamond\\\\n isArgyle\\\\n carat\\\\n shape {\\\\n id\\\\n name\\\\n }\\\\n color {\\\\n id\\\\n name\\\\n isFancy\\\\n }\\\\n cut {\\\\n id\\\\n name\\\\n }\\\\n clarity {\\\\n id\\\\n name\\\\n }\\\\n lab {\\\\n id\\\\n name\\\\n }\\\\n flour {\\\\n id\\\\n name\\\\n fullName\\\\n }\\\\n symmetry {\\\\n id\\\\n name\\\\n fullName\\\\n }\\\\n polish {\\\\n id\\\\n name\\\\n fullName\\\\n }\\\\n colorIntensity {\\\\n id\\\\n name\\\\n }\\\\n depth\\\\n tableSize\\\\n }\\\\n \\\\n }\\\\n }\\\\n }\"}'\n",
    "\n",
    "        query_str = data_str_pre + carat_str + data_str_post\n",
    "\n",
    "        r = requests.post('https://product-service.r2net.com/diamond/v/2/', headers=headers, data=query_str)\n",
    "\n",
    "        data = json.loads(r.text)['data']['searchByIDs']['items']\n",
    "#         print(min_carat, max_carat, r, len(data))\n",
    "\n",
    "        ja_diamond_data = ja_diamond_data + data"
   ]
  },
  {
   "cell_type": "markdown",
   "metadata": {},
   "source": [
    "### Blue Nile"
   ]
  },
  {
   "cell_type": "code",
   "execution_count": 10,
   "metadata": {},
   "outputs": [],
   "source": [
    "import requests\n",
    "\n",
    "headers = {\n",
    "    'authority': 'www.bluenile.com',\n",
    "    'accept': 'application/json, text/plain, */*',\n",
    "    'x-bn-pageid': 'Diamond Search',\n",
    "    'user-agent': 'Mozilla/5.0 (Linux; Android 6.0; Nexus 5 Build/MRA58N) AppleWebKit/537.36 (KHTML, like Gecko) Chrome/87.0.4280.141 Mobile Safari/537.36',\n",
    "    'sec-fetch-site': 'same-origin',\n",
    "    'sec-fetch-mode': 'cors',\n",
    "    'sec-fetch-dest': 'empty',\n",
    "    'referer': 'https://www.bluenile.com/diamond-search',\n",
    "    'accept-language': 'en-US,en;q=0.9',\n",
    "    'cookie': 'browserCheck=ver~1&browserCheck~true; holiday=ver~1&hasAdjustedHolidayShipping~false; GUID=B25EA0DE_C6D2_4790_88A5_0A87C918C5E6; locale=ver~2&country~USA&currency~USD&language~en-us&productSet~BN; devconfig=ver~4&debugmode~false&force_serve_awesome~false&force_serve_local_chat~false&force_serve_local_yotpo~false&force_serve_non_awesome~false&force_serve_non_local_chat~false&force_serve_non_local_yotpo~false&force_serve_non_pre_launch~false&force_serve_non_solr~false&force_serve_pre_launch~false&force_serve_solr~false; wishlist=ver~1&wishList~0; sitetrack=ver~3&jse~1; _gcl_au=1.1.1605991087.1610419601; _ga=GA1.2.1696426602.1610419601; _gid=GA1.2.1893636969.1610419601; IR_gbd=bluenile.com; __helocckid=b9bf6694-a454-97d6-2da7-200c126ccf8f; __pdst=ad6ade15416548069ab508c56f2588e3; _fbp=fb.1.1610419600966.1283118642; _wchtbl_uid=84c2b0f1-a25f-47a1-a37c-3b43f8e807dc; _wchtbl_sid=fc218346-ab3c-45bb-9800-dcc2ff03f831; _pin_unauth=dWlkPVlUZ3lPVEZsWkRJdE5XTTJZaTAwTURBd0xXRTJNall0TXpsbU1UZzNPR000TkRrMQ; brwsr=66157032-5480-11eb-8080-42010a246fee; IR_PI=66157032-5480-11eb-8080-42010a246fee%7C1610506000847; outbrain_cid_fetch=true; _svsid=614c15d1df5a1d3381d7c91320b13693; _wchtbl_do_not_process=0; _wchtbl_pixel_sync=1; migrationstatus=ver~2&redirected~false; pop=ver~3&belpop~false&china~false&sweeps_date~20210111&emailpop~false&french~false&ie~false&internationalSelect~false&iphoneApp~false&s100off~false&survey~false&sweeps_count~1&uae~false&webroompop~false; bnper=ver~7&NIB~0&DM~-&EU_AGREED~false&GUID~B25EA0DE_C6D2_4790_88A5_0A87C918C5E6&LV~2021-01-11T18%3A47%3A04.821-08%3A00&NOT_SELL~false&PAGING~-1&SESS-CT~1&STC~8PCYW9&FB_MINI~false&SUB~false; device=ver~2&orientation~Portrait&resolution~700x534&device_type~Phone; _uetsid=65e27d70548011eba8e1bf6366c67c73; _uetvid=65e2b200548011eb86933f44f7cbc4da; IR_8660=1610419626491%7C2230897%7C1610419600847%7C%7C; _fw_crm_v=2bcc6544-4295-4783-ffa6-b226f2e75948; bnses=ver~2&ats~20210111+18%3A47&cdclosed~false&filterTooltipClosed~true&ace~false&quickshipseen~true&fbcs~false&imeu~false&nu~true&ss~0&legal_notice_eu_closed~false&mbpop~false&sswpu~true&exitpu~false&spvc~5&deo~false&nogtm~false&livechat~closed; _gat_UA-171306-15=1; dsearch=ver~9&visible~800000000&newUser~true&showCatView~false&shownHolidayShipping~&state~RD-23-79-------------------0------0%2Cnull%2Cnull-carat-asc-USD-----false-false-false',\n",
    "}\n",
    "\n",
    "params = (\n",
    "    ('startIndex', '0'),\n",
    "    ('pageSize', '50'),\n",
    "    ('_', '1610419689549'),\n",
    "    ('unlimitedPaging', 'false'),\n",
    "    ('sortDirection', 'desc'),\n",
    "    ('sortColumn', 'carat'),\n",
    "    ('shape', 'RD'),\n",
    "    ('minCarat', '0.23'),\n",
    "    ('maxCarat', '0.79'),\n",
    "    ('maxDateType', 'MANUFACTURING_REQUIRED'),\n",
    "    ('isQuickShip', 'false'),\n",
    "    ('hasVisualization', 'false'),\n",
    "    ('isFiltersExpanded', 'false'),\n",
    "    ('astorFilterActive', 'false'),\n",
    "    ('country', 'USA'),\n",
    "    ('language', 'en-us'),\n",
    "    ('currency', 'USD'),\n",
    "    ('productSet', 'BN'),\n",
    ")\n",
    "\n",
    "r = requests.get('https://www.bluenile.com/api/public/diamond-search-grid/v2', headers=headers, params=params)\n",
    "\n",
    "#NB. Original query string below. It seems impossible to parse and\n",
    "#reproduce query strings 100% accurately so the one below is given\n",
    "#in case the reproduced version is not \"correct\".\n",
    "# response = requests.get('https://www.bluenile.com/api/public/diamond-search-grid/v2?startIndex=0&pageSize=50&_=1610419689549&unlimitedPaging=false&sortDirection=desc&sortColumn=carat&shape=RD&minCarat=0.23&maxCarat=0.79&maxDateType=MANUFACTURING_REQUIRED&isQuickShip=false&hasVisualization=false&isFiltersExpanded=false&astorFilterActive=false&country=USA&language=en-us&currency=USD&productSet=BN', headers=headers)\n"
   ]
  },
  {
   "cell_type": "code",
   "execution_count": 11,
   "metadata": {},
   "outputs": [
    {
     "data": {
      "text/plain": [
       "'{\"startIndex\":0,\"endIndex\":49,\"countRaw\":132366,\"recommendedCountRaw\":20,\"count\":\"132,366\",\"sortColumn\":\"carat\",\"sortDirection\":\"desc\",\"results\":[{\"detailsPageUrl\":\"./diamond-details/LD15017161\",\"carat\":[\"0.79\"],\"date\":[\"Jan 18\"],\"dateSet\":[\"Jan 20\"],\"price\":[\"$1,769\"],\"strikethroughPrice\":null,\"pricePerCarat\":[\"$2,239\"],\"skus\":[\"LD15017161\"],\"id\":\"LD15017161\",\"shapeCode\":[\"RD\"],\"shapeName\":[\"Round\"],\"clarity\":[\"SI2\"],\"color\":[\"I\"],\"culet\":[\"Small\"],\"cut\":[{\"label\":\"Good\",\"labelSmall\":\"Good\"}],\"depth\":[\"61.1\"],\"fluorescence\":[\"Faint\"],\"lxwRatio\":[\"1.01\"],\"polish\":[\"Good\"],\"symmetry\":[\"Very Good\"],\"table\":[\"62.0\"],\"hasVisualization\":[false],\"visualizationImageUrl\":null,\"v360BaseUrl\":null,\"measurements\":[{\"label\":\"5.89 x 5.93 x 3.61 mm\",\"labelSmall\":\"5.89 x 5.93 x 3.61\"}],\"willArriveForHoliday\":false,\"imageUrl\":null,\"sellingIndex\":0.58114576,\"sold\":false,\"quickShip\":true},{\"detailsPageUrl\":\"./diamond-details/LD15081985\",\"carat\":[\"0.79\"],\"date\":[\"Feb 8\"],\"dateSet\":[\"Feb 9\"],\"price\":[\"$1,7'"
      ]
     },
     "execution_count": 11,
     "metadata": {},
     "output_type": "execute_result"
    }
   ],
   "source": [
    "r.text[:1000]"
   ]
  },
  {
   "cell_type": "code",
   "execution_count": null,
   "metadata": {},
   "outputs": [],
   "source": []
  }
 ],
 "metadata": {
  "kernelspec": {
   "display_name": "Python 3",
   "language": "python",
   "name": "python3"
  },
  "language_info": {
   "codemirror_mode": {
    "name": "ipython",
    "version": 3
   },
   "file_extension": ".py",
   "mimetype": "text/x-python",
   "name": "python",
   "nbconvert_exporter": "python",
   "pygments_lexer": "ipython3",
   "version": "3.6.8"
  }
 },
 "nbformat": 4,
 "nbformat_minor": 4
}
