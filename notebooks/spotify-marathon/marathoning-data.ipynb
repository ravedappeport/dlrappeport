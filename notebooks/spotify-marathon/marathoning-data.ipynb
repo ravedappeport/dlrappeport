{
 "cells": [
  {
   "cell_type": "code",
   "execution_count": 1,
   "id": "0288adf8-3674-4f17-8470-ca5230ae7627",
   "metadata": {},
   "outputs": [],
   "source": [
    "import yaml\n",
    "import spotipy\n",
    "import urllib as url\n",
    "import random\n",
    "import pickle\n",
    "from spotipy.oauth2 import SpotifyOAuth"
   ]
  },
  {
   "cell_type": "code",
   "execution_count": 2,
   "id": "fc0289c5-b8b7-48e5-8513-0cc86ce15a77",
   "metadata": {},
   "outputs": [],
   "source": [
    "creds = yaml.load(open('/Users/daverappeport/.spotify/creds.yml','r'), Loader=yaml.FullLoader)\n",
    "redirect_url=\"http://localhost:9001/callback\"\n",
    "scope = [\"user-library-read\", \"playlist-modify-private\",\"playlist-modify-public\"]"
   ]
  },
  {
   "cell_type": "code",
   "execution_count": 3,
   "id": "2d753d11-7d92-46cf-a976-f069e5c8e9df",
   "metadata": {},
   "outputs": [],
   "source": [
    "auth_manager=SpotifyOAuth(client_id=creds.get('client_id'), client_secret=creds.get('client_secret'), redirect_uri=redirect_url, scope=scope)\n",
    "sp=spotipy.Spotify(auth_manager=auth_manager)"
   ]
  },
  {
   "cell_type": "code",
   "execution_count": 4,
   "id": "4e281cd8-b661-493b-a7b7-81f9852dd4cf",
   "metadata": {},
   "outputs": [],
   "source": [
    "results = sp.current_user_saved_tracks()"
   ]
  },
  {
   "cell_type": "code",
   "execution_count": 5,
   "id": "444b4f34-637d-4885-8f31-b540b133bc84",
   "metadata": {},
   "outputs": [
    {
     "data": {
      "text/plain": [
       "dict_keys(['href', 'items', 'limit', 'next', 'offset', 'previous', 'total'])"
      ]
     },
     "execution_count": 5,
     "metadata": {},
     "output_type": "execute_result"
    }
   ],
   "source": [
    "results.keys()"
   ]
  },
  {
   "cell_type": "code",
   "execution_count": 6,
   "id": "f27376f9-356b-4327-aa94-d2d96c344503",
   "metadata": {},
   "outputs": [
    {
     "data": {
      "text/plain": [
       "dict_keys(['album', 'artists', 'available_markets', 'disc_number', 'duration_ms', 'explicit', 'external_ids', 'external_urls', 'href', 'id', 'is_local', 'name', 'popularity', 'preview_url', 'track_number', 'type', 'uri'])"
      ]
     },
     "execution_count": 6,
     "metadata": {},
     "output_type": "execute_result"
    }
   ],
   "source": [
    "results.get('items')[0].get('track').keys()"
   ]
  },
  {
   "cell_type": "code",
   "execution_count": 7,
   "id": "969be2be-8928-41e7-a8d7-27132fe1ea36",
   "metadata": {},
   "outputs": [],
   "source": [
    "user=sp.current_user()"
   ]
  },
  {
   "cell_type": "code",
   "execution_count": 8,
   "id": "57172987-2c97-4e75-938b-ee3dc8005a92",
   "metadata": {},
   "outputs": [
    {
     "name": "stdout",
     "output_type": "stream",
     "text": [
      "My Peloton Music by RaveDapeport\n",
      "Golden Hour\n",
      "Rapp Haus\n",
      "Ghost Town\n",
      "Asian Dinner\n",
      "Vibes\n",
      "Cruise\n",
      "The Long and Winding Road\n",
      "good shit\n",
      "Workout\n",
      "Starred\n",
      "Gimme Some More\n",
      "Liked from Radio\n",
      "GDTG\n"
     ]
    }
   ],
   "source": [
    "for plist in sp.user_playlists(user=user['id']).get('items'):\n",
    "    print(plist.get('name'))"
   ]
  },
  {
   "cell_type": "code",
   "execution_count": 9,
   "id": "4a1f0936-0d51-4f0f-9fb8-947250a94c9c",
   "metadata": {},
   "outputs": [],
   "source": [
    "running_seeds_url=\"https://open.spotify.com/playlist/5NrLk0qUyICYEG8cZWK7SL\"\n",
    "res_playlist_id=url.parse.urlparse(running_seeds_url).path.split('/')[2]"
   ]
  },
  {
   "cell_type": "code",
   "execution_count": 10,
   "id": "cdf9cc06-32aa-40d6-9eff-9d4d21792184",
   "metadata": {},
   "outputs": [],
   "source": [
    "running_recs_url=\"https://open.spotify.com/playlist/3Elnf5eDmqXA9dC52Dr9UJ\"\n",
    "rec_playlist_id=url.parse.urlparse(running_recs_url).path.split('/')[2]"
   ]
  },
  {
   "cell_type": "code",
   "execution_count": 11,
   "id": "93b8b346-2a3f-4cbd-9d74-fe5403fa66da",
   "metadata": {},
   "outputs": [],
   "source": [
    "seed_tracks = sp.playlist_items(playlist_id=res_playlist_id)"
   ]
  },
  {
   "cell_type": "code",
   "execution_count": 12,
   "id": "468d8d5b-ce3d-4c05-9a80-57b441af230a",
   "metadata": {},
   "outputs": [],
   "source": [
    "seed_track_ids = [track.get('track').get('id') for track in seed_tracks.get('items')]"
   ]
  },
  {
   "cell_type": "code",
   "execution_count": 13,
   "id": "053f562b-eab0-4ddf-a98b-016452b942cf",
   "metadata": {},
   "outputs": [],
   "source": [
    "# seed_track_ids"
   ]
  },
  {
   "cell_type": "code",
   "execution_count": 19,
   "id": "177958b7-bd1e-4f44-957d-0e42720bbb79",
   "metadata": {},
   "outputs": [
    {
     "data": {
      "text/plain": [
       "240"
      ]
     },
     "execution_count": 19,
     "metadata": {},
     "output_type": "execute_result"
    }
   ],
   "source": [
    "res = []\n",
    "for trackid in seed_track_ids: \n",
    "    res = res + sp.recommendations(seed_tracks=[trackid]).get('tracks')\n",
    "len(res)"
   ]
  },
  {
   "cell_type": "code",
   "execution_count": 24,
   "id": "2e432576-b7cd-4c27-98e4-4fce361e49c3",
   "metadata": {},
   "outputs": [],
   "source": [
    "rec_track_ids = set([track.get('id') for track in res])"
   ]
  },
  {
   "cell_type": "code",
   "execution_count": 27,
   "id": "bdd15f2f-24bf-41c4-a28f-70db460af9dc",
   "metadata": {},
   "outputs": [
    {
     "name": "stdout",
     "output_type": "stream",
     "text": [
      "We Belong , RAC\n",
      "Still Young , The Cat Empire\n",
      "Heartbeat , Claptone\n",
      "6's to 9's (feat. Rationale) , Big Wild\n",
      "The Real Deal (radio Edit) , GoldFish\n",
      "Woke up in Bangkok (feat. Martin Gallop) , Deepend\n",
      "Swear Like a Sailor , Tep No\n",
      "Wonderful , Chris Malinchak\n",
      "Southern Man , Akshin Alizadeh\n",
      "Baby , Bakermat\n",
      "Let Go , RAC\n",
      "Walking in the Sun , PANG!\n",
      "Everything Is Changing (feat. Julia Church) , GoldFish\n",
      "Montrose Ave , Y.V.E. 48\n",
      "Home , Moontricks\n",
      "Birds , Chef'Special\n",
      "Glory Box , The Avener\n",
      "Wait and See (Deep Chills Remix) , Deep Chills\n",
      "Show Me , Big Wild\n",
      "So Good to Me - Extended Mix , Chris Malinchak\n",
      "With Me , Lane 8\n",
      "ONLY , ZHU\n",
      "Sleepless In NYC , Autograf\n",
      "Impact (feat. Robyn & Channel Tres) , SG Lewis\n",
      "Dímelo , Snakehips\n",
      "Numb , ZHU\n",
      "Lost You (feat. Twin Shadow & D'Angelo Lacy) , Zeds Dead\n",
      "Hello Clouds - Original Mix , Justin Martin\n",
      "Sugar - Original Mix , Moon Boots\n",
      "Blast Off (feat. Pharrell Williams) , Gesaffelstein\n",
      "Molecules , Disclosure\n",
      "The Longest Road - deadmau5 Remix Edit , Morgan Page\n",
      "Mi Rumba , Sofi Tukker\n",
      "All On Me (feat. Zhu) , Tchami\n",
      "Thief , Ookay\n",
      "Say It , Phantoms\n",
      "Loyal , ODESZA\n",
      "Only Yesterday , Pretty Lights\n",
      "On Your Mind , Kaskade\n",
      "I Remember , deadmau5\n",
      "Up on the Sun , Meat Puppets\n",
      "Freeker By the Speaker , Keller Williams\n",
      "Farmhouse , Phish\n",
      "Meet Me In the City , North Mississippi Allstars\n",
      "The Sinister Minister , Béla Fleck and the Flecktones\n",
      "Water Song , Hot Tuna\n",
      "Wordless Chorus , My Morning Jacket\n",
      "South Side Strut , Jerry Garcia\n",
      "In Spite of Ourselves (feat. Iris DeMent) , John Prine\n",
      "Joyful Girl , Soulive\n",
      "Find Your Cloud , Papadosio\n",
      "One For Chuck , Circles Around The Sun\n",
      "Scarlet Begonias - 2013 Remaster , Grateful Dead\n",
      "Sandusky , Uncle Tupelo\n",
      "Can't Rock My Dream Face , Umphrey's McGee\n",
      "Orange Blossoms , JJ Grey & Mofro\n",
      "Kangaroo , The Big Wu\n",
      "Keep On Growing - Remastered , Derek & The Dominos\n",
      "Only a River , Bob Weir\n",
      "Light Up Or Leave Me Alone , Traffic\n",
      "Promises , Diplo\n",
      "West Coast (feat. Quinn XCII) , DVBBS\n",
      "About You , KREAM\n",
      "Caught In The Rain , Ferreck Dawn\n",
      "Praise (feat. Gunna) , Tchami\n",
      "So What (feat. A R I Z O N A) , Louis The Child\n",
      "Chemical , MK\n",
      "Touch , Dillon Francis\n",
      "Never Let Me Down , Gorgon City\n",
      "Body Pump , Aluna\n",
      "Lost It , ZHU\n",
      "Douha (Mali Mali) , Disclosure\n",
      "On My Mind - Purple Disco Machine Remix , Diplo\n",
      "FEELING GUD , NGHTMRE\n",
      "Morenita , HUGEL\n",
      "Hippies (feat. Two Another) , The Magician\n",
      "Drinkee - Vintage Culture & John Summit Remix , Sofi Tukker\n",
      "Jumpin' , CID\n",
      "Underwater - Dombresky Remix , Anabel Englund\n",
      "Love To The World , Diplo\n",
      "I'm Into You , Chet Faker\n",
      "Help Me Lose My Mind , Disclosure\n",
      "Learning For Your Love , Marcus Marr\n",
      "So Good to Me - Radio Edit , Chris Malinchak\n",
      "The Clown , Maribou State\n",
      "High You Are (Branchez Remix) , What So Not\n",
      "Fading , Vallis Alps\n",
      "3 Days , Rhye\n",
      "Since I Left You , The Avalanches\n",
      "Supernatural , AlunaGeorge\n",
      "Klapp Klapp , Little Dragon\n",
      "Always , Panama\n",
      "California Girls , NoMBe\n",
      "All Under One Roof Raving , Jamie xx\n",
      "Holding On , Classixx\n",
      "Marijuana , Chrome Sparks\n",
      "My Life , ZHU\n",
      "Silver , Caribou\n",
      "Run , Tourist\n",
      "Come Down , Crooked Colours\n",
      "Ten Tonne Skeleton , Royal Blood\n",
      "White Noize , Bonaparte\n",
      "Always Ascending , Franz Ferdinand\n",
      "Düsseldorf , Teleman\n",
      "Hey Heartbreaker , Dream Wife\n",
      "Train , Brick + Mortar\n",
      "Trust Me... I'm A Genius , The Family Rain\n",
      "Love Is to Die , Warpaint\n",
      "Figure It Out , Royal Blood\n",
      "Keep Your Lips Sealed , The Dø\n",
      "Mountain at My Gates , Foals\n",
      "Fire , Barns Courtney\n",
      "Ill Ray (The King) , Kasabian\n",
      "Liberty Mother - Bonus Track , Goodbye June\n",
      "Royal Jelly , Deap Vally\n",
      "Beast , Nico Vega\n",
      "3WW , alt-J\n",
      "Black Holes (Solid Ground) , The Blue Stones\n",
      "Heart-Shaped Box , Dead Sara\n",
      "Class Historian , BRONCHO\n",
      "There's Nothing in the Water We Can't Fight , Cloud Control\n",
      "Rich Girls , The Virgins\n",
      "Giving Up the Gun , Vampire Weekend\n",
      "Colours , Grouplove\n",
      "A Little Piece , The Jezabels\n",
      "Sometime Around Midnight , The Airborne Toxic Event\n",
      "Atlas Hands , Benjamin Francis Leftwich\n",
      "Banquet , Bloc Party\n",
      "Second Chance , Peter Bjorn and John\n",
      "Higher Love , James Vincent McMorrow\n",
      "Only Love , Ben Howard\n",
      "Dirty Paws , Of Monsters and Men\n",
      "Contact High , Architecture In Helsinki\n",
      "Wide Eyes , Local Natives\n",
      "Big Jet Plane , Angus & Julia Stone\n",
      "Paddling Out , Miike Snow\n",
      "Pyro , Kings of Leon\n",
      "VCR , The xx\n",
      "Factory , Band of Horses\n",
      "A-Punk , Vampire Weekend\n",
      "Rawnald Gregory Erickson the Second , STRFKR\n",
      "Forever (Pt. II) (feat. Kaleem Taylor) , Snakehips\n",
      "When I Get There , Big Wild\n",
      "Jealous (I Ain't With It) , Chromeo\n",
      "I Wanna Help Your Mind , Goth Babe\n",
      "Psychic City - Classixx Remix , YACHT\n",
      "All of the People , Panama Wedding\n",
      "Crave You - Adventure Club Remix , Flight Facilities\n",
      "Leave A Trace - Goldroom Remix , CHVRCHES\n",
      "Not Going Home , Great Good Fine Ok\n",
      "Holding on for Life - Zeds Dead Remix , Broken Bells\n",
      "6's to 9's (feat. Rationale) , Big Wild\n",
      "Reflections , MisterWives\n",
      "Come Alive (feat. Toro y Moi) , Chromeo\n",
      "Lifted Up (1985) , Passion Pit\n",
      "Coffee , Sylvan Esso\n",
      "Hollywood , RAC\n",
      "Joypunks , Big Wild\n",
      "Show Me The Way , Penguin Prison\n",
      "Young Blood , The Naked And Famous\n",
      "I've Got to Get Away (aka Man Next Door) , John Holt\n",
      "Miss You - Long Edit , The Dynamics\n",
      "Witness (1 Hope) , Roots Manuva\n",
      "Country Road , Toots & The Maytals\n",
      "Brothers On The Slide , Cymande\n",
      "Train to Skaville , The Ethiopians\n",
      "Ain't No Sunshine , Horace Andy\n",
      "And The Living Is Easy , Guts\n",
      "Black Venom , The Budos Band\n",
      "Strong Me Strong , Yellowman\n",
      "007 (Shanty Town) , Desmond Dekker\n",
      "Married Girl , The Slackers\n",
      "Bongo Bong , Manu Chao\n",
      "See You Leave , RJD2\n",
      "Summer Breeze , Jackie Mittoo\n",
      "Black Rabbit , Prince Fatty\n",
      "Seven Nation Army , The Dynamics\n",
      "Rivers of Babylon - Long Version , The Melodians\n",
      "Dust And Dirt , The Black Seeds\n",
      "You Wish , Nightmares On Wax\n",
      "Ani Kuni - Edit , Polo & Pan\n",
      "Her , Her\n",
      "Niemand , KOMPROMAT\n",
      "La clé des champs , NTO\n",
      "The Fool , Moderat\n",
      "The Rest of My Days , S+C+A+R+R\n",
      "Playground , Møme\n",
      "Goodbye (feat. Soap&Skin) [Theme from Dark, A Netflix Original Series] , Apparat\n",
      "Sorry About the Carpet , Agar Agar\n",
      "Pourquoi pas , Miel De Montagne\n",
      "Blow Up , Kid Francescoli\n",
      "Look , Sébastien Tellier\n",
      "Bunny , Tourist\n",
      "Juvenile , The Blaze\n",
      "The Trip , Still Corners\n",
      "Jimmy , Moriarty\n",
      "Come Online , Kid Francescoli\n",
      "Haul (feat. Mohna) , Christian Löffler\n",
      "Five Minutes , Her\n",
      "Somewhere (feat. Octavian) , The Blaze\n",
      "Key to Love (Is Understanding) , BADBADNOTGOOD\n",
      "Charcoal Baby , Blood Orange\n",
      "My Lady's On Fire , Ty Segall\n",
      "Kids Fallin' In Love , DOPE LEMON\n",
      "Weird Fishes , Lianne La Havas\n",
      "Since I Left You , The Avalanches\n",
      "Beautiful Strangers , Kevin Morby\n",
      "Tyrone , My Morning Jacket\n",
      "Don't Turn Around , Biig Piig\n",
      "Midnight , Khruangbin\n",
      "Casio , Jungle\n",
      "Johny Says Stay Cool , Babe Rainbow\n",
      "Marinade , DOPE LEMON\n",
      "Charlotte's Thong , Connan Mockasin\n",
      "Where You Belong , Little Dragon\n",
      "Keep Moving , Jungle\n",
      "I Just Want to Dance , SAULT\n",
      "Abusey Junction , KOKOROKO\n",
      "Inside Friend (feat. John Mayer) , Leon Bridges\n",
      "The Sweetest Meditation , Lord Echo\n",
      "Someone Else , Rezz\n",
      "When I'm Down , Whethan\n",
      "Lose My Mind (feat. Mr Gabriel) , Jai Wolf\n",
      "Better Off Alone , Purity Ring\n",
      "Str8 Outta Mumbai , Jai Paul\n",
      "Quits , Flume\n",
      "Sundream , RÜFÜS DU SOL\n",
      "Colours , Goth Babe\n",
      "Reasons , San Cisco\n",
      "All My Friends , Madeon\n",
      "Run , Lane 8\n",
      "Upside Down (feat. Grouplove) , Whethan\n",
      "Innerbloom , RÜFÜS DU SOL\n",
      "Overdrive , Hippie Sabotage\n",
      "Big Love (with EARTHGANG & MNDR) , Louis The Child\n",
      "stardew , Purity Ring\n",
      "Charlie , Mallrat\n",
      "Something Comforting , Porter Robinson\n",
      "Lay Down , Touch Sensitive\n",
      "Live In Life , The Rubens\n"
     ]
    }
   ],
   "source": [
    "for track in res:\n",
    "    print(track.get('name'), ',', track.get('artists')[0].get('name'))"
   ]
  },
  {
   "cell_type": "code",
   "execution_count": 29,
   "id": "886f0049-7e5b-475e-a007-e17de59a22c8",
   "metadata": {},
   "outputs": [
    {
     "data": {
      "text/plain": [
       "{'snapshot_id': 'MTEsNThjOGEyMjc0ODg3YzVlMjcyYzU0MjE2ODAxYmJhMzU1NzQ4NGU0YQ=='}"
      ]
     },
     "execution_count": 29,
     "metadata": {},
     "output_type": "execute_result"
    }
   ],
   "source": [
    "### if you need to clear the playlist\n",
    "sp.playlist_remove_all_occurrences_of_items(\n",
    "    playlist_id=rec_playlist_id, \n",
    "    items=[track.get('track').get('id') for track in sp.playlist_items(playlist_id=rec_playlist_id).get('items')]\n",
    ")"
   ]
  },
  {
   "cell_type": "code",
   "execution_count": 30,
   "id": "b62cfbae-8246-44a6-8e0b-cee95ad9d381",
   "metadata": {},
   "outputs": [],
   "source": [
    "# add new items to running recs playlist\n",
    "for item in rec_track_ids:\n",
    "    sp.playlist_add_items(playlist_id=rec_playlist_id, items=[item])"
   ]
  },
  {
   "cell_type": "code",
   "execution_count": null,
   "id": "aaf5d125-a544-45f3-8938-4e2f1dd30abd",
   "metadata": {},
   "outputs": [],
   "source": [
    "# audio features\n",
    "random.choice(list(sp.audio_features(tracks=rec_track_ids)))"
   ]
  },
  {
   "cell_type": "code",
   "execution_count": null,
   "id": "ca04be43-e144-47f4-86cf-8cbc41cbe3f5",
   "metadata": {},
   "outputs": [],
   "source": [
    "#### let's get my 300 most recent saved tracks\n",
    "saved_tracks = []\n",
    "\n",
    "for n in range(0,6):\n",
    "    tracks = sp.current_user_saved_tracks(limit=50, offset=n*50)\n",
    "    saved_tracks = saved_tracks + [t.get('track') for t in tracks.get('items')]\n",
    "\n",
    "print(len(saved_tracks))"
   ]
  },
  {
   "cell_type": "code",
   "execution_count": null,
   "id": "3440d4d4-3652-44a9-ace6-88901c849e8c",
   "metadata": {},
   "outputs": [],
   "source": [
    "# res.get('items')[0].get('track')\n",
    "new_music = []\n",
    "\n",
    "for item in saved_tracks:\n",
    "    \n",
    "    seed_id = item.get('id')\n",
    "    recs = sp.recommendations(seed_tracks=[seed_id])\n",
    "    \n",
    "    for track in recs.get('tracks'):\n",
    "        new_music.append(track)"
   ]
  },
  {
   "cell_type": "code",
   "execution_count": null,
   "id": "00930691-d37a-4a54-ab03-b21e779ec9dd",
   "metadata": {},
   "outputs": [],
   "source": [
    "# and now we have 6k new tracks\n",
    "print(len(new_music))\n",
    "\n",
    "# random.choice(new_music)"
   ]
  },
  {
   "cell_type": "code",
   "execution_count": null,
   "id": "385c4ab6-b65c-44e1-b4f7-1ec8be836564",
   "metadata": {},
   "outputs": [],
   "source": [
    "new_music_dict = {}\n",
    "\n",
    "for m in new_music:\n",
    "    new_music_dict[m.get('id')] = m\n",
    "    \n",
    "# get audio features\n",
    "for n in range(0, int(len(new_music)/50)):\n",
    "    features = sp.audio_features(tracks=[t.get('id') for t in new_music[n*50:(n+1)*50]])\n",
    "    \n",
    "    for f in features:\n",
    "        new_music_dict[f.get('id')]['audio_features'] = f"
   ]
  },
  {
   "cell_type": "code",
   "execution_count": null,
   "id": "ac3e8d24-70d4-46d0-9556-c112786da325",
   "metadata": {},
   "outputs": [],
   "source": [
    "# k = random.choice(list(new_music_dict.keys()))\n",
    "# new_music_dict[k]"
   ]
  },
  {
   "cell_type": "code",
   "execution_count": null,
   "id": "b83477a8-faed-4bd7-9d3a-6d81cb37bc26",
   "metadata": {},
   "outputs": [],
   "source": [
    "saved_music_dict = {} \n",
    "\n",
    "for m in saved_tracks:\n",
    "    saved_music_dict[m.get('id')] = m\n",
    "    \n",
    "# get audio features\n",
    "for n in range(0, int(len(saved_tracks)/50)):\n",
    "    features = sp.audio_features(tracks=[t.get('id') for t in saved_tracks[n*50:(n+1)*50]])\n",
    "    \n",
    "    for f in features:\n",
    "        saved_music_dict[f.get('id')]['audio_features'] = f"
   ]
  },
  {
   "cell_type": "code",
   "execution_count": null,
   "id": "ddf76bd4-ad31-48ee-81be-e93855c2a817",
   "metadata": {},
   "outputs": [],
   "source": [
    "# saved_music_dict.get(random.choice(list(saved_music_dict.keys())))"
   ]
  },
  {
   "cell_type": "code",
   "execution_count": null,
   "id": "8f6693b4-e263-43a5-90f0-399d02e7353e",
   "metadata": {},
   "outputs": [],
   "source": [
    "# save spotify data to pickle file    \n",
    "with open('new_music_dict.pickle', 'wb') as handle:\n",
    "    pickle.dump(new_music_dict, handle)"
   ]
  },
  {
   "cell_type": "code",
   "execution_count": null,
   "id": "a4b1a15a-a57f-4394-a9eb-1909d3a177eb",
   "metadata": {},
   "outputs": [],
   "source": [
    "# save spotify data to pickle file    \n",
    "with open('saved_music_dict.pickle', 'wb') as handle:\n",
    "    pickle.dump(saved_music_dict, handle)"
   ]
  },
  {
   "cell_type": "code",
   "execution_count": null,
   "id": "531942c3-37a0-4e21-bc22-729b4a4d972f",
   "metadata": {},
   "outputs": [],
   "source": [
    "total_ms = 0\n",
    "for k in new_music_dict.keys():\n",
    "    total_ms+=new_music_dict[k]['audio_features']['duration_ms']\n",
    "\n",
    "total_hours = total_ms/1e3/60/60\n",
    "print(f'We have {total_hours} of music in our data')"
   ]
  },
  {
   "cell_type": "code",
   "execution_count": null,
   "id": "72a273d6-71b6-4fd0-8748-695df5d51269",
   "metadata": {},
   "outputs": [],
   "source": [
    "len(new_music_dict.keys())"
   ]
  },
  {
   "cell_type": "code",
   "execution_count": null,
   "id": "46c0ec06-4d74-4f7f-9e69-abec578a6a53",
   "metadata": {},
   "outputs": [],
   "source": []
  },
  {
   "cell_type": "code",
   "execution_count": null,
   "id": "107b5374-579c-4519-b7cd-90a43c39f630",
   "metadata": {},
   "outputs": [],
   "source": []
  }
 ],
 "metadata": {
  "kernelspec": {
   "display_name": "Python 3 (ipykernel)",
   "language": "python",
   "name": "python3"
  },
  "language_info": {
   "codemirror_mode": {
    "name": "ipython",
    "version": 3
   },
   "file_extension": ".py",
   "mimetype": "text/x-python",
   "name": "python",
   "nbconvert_exporter": "python",
   "pygments_lexer": "ipython3",
   "version": "3.8.9"
  }
 },
 "nbformat": 4,
 "nbformat_minor": 5
}
