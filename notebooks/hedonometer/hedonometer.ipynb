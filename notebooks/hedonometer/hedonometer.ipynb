{
 "cells": [
  {
   "cell_type": "code",
   "execution_count": 1,
   "metadata": {},
   "outputs": [],
   "source": [
    "import pandas as pd"
   ]
  },
  {
   "cell_type": "markdown",
   "metadata": {},
   "source": [
    "(link to dataset)[https://dataverse.harvard.edu/dataset.xhtml?id=3047332]"
   ]
  },
  {
   "cell_type": "code",
   "execution_count": 2,
   "metadata": {},
   "outputs": [],
   "source": [
    "tweets_df = pd.read_csv('./top-20-tweets-2017.csv')"
   ]
  },
  {
   "cell_type": "code",
   "execution_count": 3,
   "metadata": {},
   "outputs": [
    {
     "data": {
      "text/plain": [
       "(52542, 10)"
      ]
     },
     "execution_count": 3,
     "metadata": {},
     "output_type": "execute_result"
    }
   ],
   "source": [
    "tweets_df.shape"
   ]
  },
  {
   "cell_type": "code",
   "execution_count": 4,
   "metadata": {},
   "outputs": [
    {
     "data": {
      "text/plain": [
       "author               object\n",
       "content              object\n",
       "country              object\n",
       "date_time            object\n",
       "id                  float64\n",
       "language             object\n",
       "latitude            float64\n",
       "longitude           float64\n",
       "number_of_likes       int64\n",
       "number_of_shares      int64\n",
       "dtype: object"
      ]
     },
     "execution_count": 4,
     "metadata": {},
     "output_type": "execute_result"
    }
   ],
   "source": [
    "tweets_df.dtypes"
   ]
  },
  {
   "cell_type": "code",
   "execution_count": 5,
   "metadata": {},
   "outputs": [
    {
     "name": "stdout",
     "output_type": "stream",
     "text": [
      "01/01/2011 02:16 31/12/2016 23:59\n"
     ]
    }
   ],
   "source": [
    "print(\n",
    "    tweets_df.date_time.min()\n",
    "    , tweets_df.date_time.max()\n",
    ")"
   ]
  },
  {
   "cell_type": "code",
   "execution_count": 6,
   "metadata": {},
   "outputs": [
    {
     "data": {
      "text/html": [
       "<div>\n",
       "<style scoped>\n",
       "    .dataframe tbody tr th:only-of-type {\n",
       "        vertical-align: middle;\n",
       "    }\n",
       "\n",
       "    .dataframe tbody tr th {\n",
       "        vertical-align: top;\n",
       "    }\n",
       "\n",
       "    .dataframe thead th {\n",
       "        text-align: right;\n",
       "    }\n",
       "</style>\n",
       "<table border=\"1\" class=\"dataframe\">\n",
       "  <thead>\n",
       "    <tr style=\"text-align: right;\">\n",
       "      <th></th>\n",
       "      <th>author</th>\n",
       "      <th>content</th>\n",
       "      <th>country</th>\n",
       "      <th>date_time</th>\n",
       "      <th>id</th>\n",
       "      <th>language</th>\n",
       "      <th>latitude</th>\n",
       "      <th>longitude</th>\n",
       "      <th>number_of_likes</th>\n",
       "      <th>number_of_shares</th>\n",
       "    </tr>\n",
       "  </thead>\n",
       "  <tbody>\n",
       "    <tr>\n",
       "      <th>31153</th>\n",
       "      <td>britneyspears</td>\n",
       "      <td>Awww!  #Smurfs2 was super cute!  The boys love...</td>\n",
       "      <td>NaN</td>\n",
       "      <td>28/07/2013 21:28</td>\n",
       "      <td>3.615990e+17</td>\n",
       "      <td>en</td>\n",
       "      <td>NaN</td>\n",
       "      <td>NaN</td>\n",
       "      <td>2487</td>\n",
       "      <td>2816</td>\n",
       "    </tr>\n",
       "    <tr>\n",
       "      <th>22705</th>\n",
       "      <td>Twitter</td>\n",
       "      <td>Happy Persian New Year! Here's a gift made by ...</td>\n",
       "      <td>NaN</td>\n",
       "      <td>20/03/2014 21:26</td>\n",
       "      <td>4.467600e+17</td>\n",
       "      <td>en</td>\n",
       "      <td>NaN</td>\n",
       "      <td>NaN</td>\n",
       "      <td>999</td>\n",
       "      <td>851</td>\n",
       "    </tr>\n",
       "    <tr>\n",
       "      <th>549</th>\n",
       "      <td>katyperry</td>\n",
       "      <td>@katycatwendy ur avatar tho 😛</td>\n",
       "      <td>NaN</td>\n",
       "      <td>15/07/2016 05:53</td>\n",
       "      <td>7.538300e+17</td>\n",
       "      <td>hi</td>\n",
       "      <td>NaN</td>\n",
       "      <td>NaN</td>\n",
       "      <td>4330</td>\n",
       "      <td>1395</td>\n",
       "    </tr>\n",
       "    <tr>\n",
       "      <th>6743</th>\n",
       "      <td>taylorswift13</td>\n",
       "      <td>Christmas trees. :) http://t.co/gRmRHBet</td>\n",
       "      <td>NaN</td>\n",
       "      <td>27/11/2011 00:53</td>\n",
       "      <td>1.405940e+17</td>\n",
       "      <td>et</td>\n",
       "      <td>NaN</td>\n",
       "      <td>NaN</td>\n",
       "      <td>1363</td>\n",
       "      <td>2683</td>\n",
       "    </tr>\n",
       "    <tr>\n",
       "      <th>31769</th>\n",
       "      <td>Cristiano</td>\n",
       "      <td>So happy and glad to win. Thanks Real Madrid a...</td>\n",
       "      <td>NaN</td>\n",
       "      <td>12/12/2016 22:34</td>\n",
       "      <td>8.084400e+17</td>\n",
       "      <td>en</td>\n",
       "      <td>NaN</td>\n",
       "      <td>NaN</td>\n",
       "      <td>128474</td>\n",
       "      <td>70288</td>\n",
       "    </tr>\n",
       "    <tr>\n",
       "      <th>29879</th>\n",
       "      <td>britneyspears</td>\n",
       "      <td>@BabifanBritney Actually this is available int...</td>\n",
       "      <td>NaN</td>\n",
       "      <td>11/02/2015 00:29</td>\n",
       "      <td>5.653070e+17</td>\n",
       "      <td>en</td>\n",
       "      <td>NaN</td>\n",
       "      <td>NaN</td>\n",
       "      <td>528</td>\n",
       "      <td>270</td>\n",
       "    </tr>\n",
       "    <tr>\n",
       "      <th>45780</th>\n",
       "      <td>shakira</td>\n",
       "      <td>Sign here to tell your current leaders that we...</td>\n",
       "      <td>NaN</td>\n",
       "      <td>16/09/2015 22:22</td>\n",
       "      <td>6.442750e+17</td>\n",
       "      <td>en</td>\n",
       "      <td>NaN</td>\n",
       "      <td>NaN</td>\n",
       "      <td>1006</td>\n",
       "      <td>401</td>\n",
       "    </tr>\n",
       "    <tr>\n",
       "      <th>47077</th>\n",
       "      <td>shakira</td>\n",
       "      <td>This week, Shakira met with @HardRock to donat...</td>\n",
       "      <td>NaN</td>\n",
       "      <td>13/06/2013 16:43</td>\n",
       "      <td>3.452200e+17</td>\n",
       "      <td>en</td>\n",
       "      <td>NaN</td>\n",
       "      <td>NaN</td>\n",
       "      <td>215</td>\n",
       "      <td>243</td>\n",
       "    </tr>\n",
       "    <tr>\n",
       "      <th>34708</th>\n",
       "      <td>selenagomez</td>\n",
       "      <td>NY fam time ☺️ http://t.co/EUJbQSL2Et</td>\n",
       "      <td>NaN</td>\n",
       "      <td>15/12/2014 04:27</td>\n",
       "      <td>5.443480e+17</td>\n",
       "      <td>en</td>\n",
       "      <td>NaN</td>\n",
       "      <td>NaN</td>\n",
       "      <td>13883</td>\n",
       "      <td>9059</td>\n",
       "    </tr>\n",
       "    <tr>\n",
       "      <th>14149</th>\n",
       "      <td>YouTube</td>\n",
       "      <td>When cardio day is killing you → https://t.co/...</td>\n",
       "      <td>NaN</td>\n",
       "      <td>01/08/2016 20:10</td>\n",
       "      <td>7.602060e+17</td>\n",
       "      <td>en</td>\n",
       "      <td>NaN</td>\n",
       "      <td>NaN</td>\n",
       "      <td>2385</td>\n",
       "      <td>642</td>\n",
       "    </tr>\n",
       "  </tbody>\n",
       "</table>\n",
       "</div>"
      ],
      "text/plain": [
       "              author                                            content  \\\n",
       "31153  britneyspears  Awww!  #Smurfs2 was super cute!  The boys love...   \n",
       "22705        Twitter  Happy Persian New Year! Here's a gift made by ...   \n",
       "549        katyperry                      @katycatwendy ur avatar tho 😛   \n",
       "6743   taylorswift13           Christmas trees. :) http://t.co/gRmRHBet   \n",
       "31769      Cristiano  So happy and glad to win. Thanks Real Madrid a...   \n",
       "29879  britneyspears  @BabifanBritney Actually this is available int...   \n",
       "45780        shakira  Sign here to tell your current leaders that we...   \n",
       "47077        shakira  This week, Shakira met with @HardRock to donat...   \n",
       "34708    selenagomez              NY fam time ☺️ http://t.co/EUJbQSL2Et   \n",
       "14149        YouTube  When cardio day is killing you → https://t.co/...   \n",
       "\n",
       "      country         date_time            id language  latitude  longitude  \\\n",
       "31153     NaN  28/07/2013 21:28  3.615990e+17       en       NaN        NaN   \n",
       "22705     NaN  20/03/2014 21:26  4.467600e+17       en       NaN        NaN   \n",
       "549       NaN  15/07/2016 05:53  7.538300e+17       hi       NaN        NaN   \n",
       "6743      NaN  27/11/2011 00:53  1.405940e+17       et       NaN        NaN   \n",
       "31769     NaN  12/12/2016 22:34  8.084400e+17       en       NaN        NaN   \n",
       "29879     NaN  11/02/2015 00:29  5.653070e+17       en       NaN        NaN   \n",
       "45780     NaN  16/09/2015 22:22  6.442750e+17       en       NaN        NaN   \n",
       "47077     NaN  13/06/2013 16:43  3.452200e+17       en       NaN        NaN   \n",
       "34708     NaN  15/12/2014 04:27  5.443480e+17       en       NaN        NaN   \n",
       "14149     NaN  01/08/2016 20:10  7.602060e+17       en       NaN        NaN   \n",
       "\n",
       "       number_of_likes  number_of_shares  \n",
       "31153             2487              2816  \n",
       "22705              999               851  \n",
       "549               4330              1395  \n",
       "6743              1363              2683  \n",
       "31769           128474             70288  \n",
       "29879              528               270  \n",
       "45780             1006               401  \n",
       "47077              215               243  \n",
       "34708            13883              9059  \n",
       "14149             2385               642  "
      ]
     },
     "execution_count": 6,
     "metadata": {},
     "output_type": "execute_result"
    }
   ],
   "source": [
    "tweets_df.sample(10)"
   ]
  },
  {
   "cell_type": "code",
   "execution_count": 7,
   "metadata": {},
   "outputs": [
    {
     "data": {
      "text/plain": [
       "array(['katyperry', 'justinbieber', 'taylorswift13', 'BarackObama',\n",
       "       'rihanna', 'YouTube', 'ladygaga', 'TheEllenShow', 'Twitter',\n",
       "       'jtimberlake', 'KimKardashian', 'britneyspears', 'Cristiano',\n",
       "       'selenagomez', 'cnnbrk', 'jimmyfallon', 'ArianaGrande', 'shakira',\n",
       "       'instagram', 'ddlovato'], dtype=object)"
      ]
     },
     "execution_count": 7,
     "metadata": {},
     "output_type": "execute_result"
    }
   ],
   "source": [
    "tweets_df.author.unique()"
   ]
  },
  {
   "cell_type": "code",
   "execution_count": 8,
   "metadata": {},
   "outputs": [],
   "source": [
    "from vaderSentiment.vaderSentiment import SentimentIntensityAnalyzer\n",
    "analyser = SentimentIntensityAnalyzer()"
   ]
  },
  {
   "cell_type": "code",
   "execution_count": 9,
   "metadata": {},
   "outputs": [],
   "source": [
    "sample_tweets = tweets_df.content.sample(1000).values\n",
    "sample_scores = []\n",
    "for tweet in sample_tweets:\n",
    "    sample_scores.append(analyser.polarity_scores(tweet))\n",
    "    \n",
    "df = pd.DataFrame(data = {'tweet': sample_tweets, 'vader_score': sample_scores})\n",
    "df['sample_compound_score'] = df.vader_score.apply(lambda x: x['compound'])\n",
    "    "
   ]
  },
  {
   "cell_type": "code",
   "execution_count": 19,
   "metadata": {},
   "outputs": [],
   "source": [
    "tweets_df['vader_score'] = tweets_df.content.apply(lambda x: analyser.polarity_scores(x))"
   ]
  },
  {
   "cell_type": "code",
   "execution_count": 29,
   "metadata": {},
   "outputs": [],
   "source": [
    "tweets_df['compound_score'] = tweets_df.vader_score.apply(lambda x: x['compound'])\n",
    "tweets_df['datetime'] = pd.to_datetime(tweets_df.date_time)\n",
    "    "
   ]
  },
  {
   "cell_type": "code",
   "execution_count": 24,
   "metadata": {},
   "outputs": [],
   "source": [
    "import seaborn as sns\n"
   ]
  },
  {
   "cell_type": "code",
   "execution_count": 23,
   "metadata": {},
   "outputs": [
    {
     "data": {
      "text/plain": [
       "<seaborn.axisgrid.FacetGrid at 0x12db3ef98>"
      ]
     },
     "execution_count": 23,
     "metadata": {},
     "output_type": "execute_result"
    },
    {
     "data": {
      "image/png": "[encoded data removed]",
      "text/plain": [
       "<Figure size 360x360 with 1 Axes>"
      ]
     },
     "metadata": {
      "needs_background": "light"
     },
     "output_type": "display_data"
    }
   ],
   "source": [
    "# distribution of compound_score\n",
    "sns.displot(tweets_df.compound_score)"
   ]
  },
  {
   "cell_type": "code",
   "execution_count": 39,
   "metadata": {},
   "outputs": [
    {
     "data": {
      "text/plain": [
       "<AxesSubplot:xlabel='datetime', ylabel='compound_score'>"
      ]
     },
     "execution_count": 39,
     "metadata": {},
     "output_type": "execute_result"
    },
    {
     "data": {
      "image/png": "[encoded data removed]",
      "text/plain": [
       "<Figure size 432x288 with 1 Axes>"
      ]
     },
     "metadata": {
      "needs_background": "light"
     },
     "output_type": "display_data"
    }
   ],
   "source": [
    "sentiment_by_day = tweets_df.groupby(tweets_df.datetime.dt.date).agg(\n",
    "    {'compound_score': 'sum'}\n",
    ")\n",
    "\n",
    "sns.lineplot(data=sentiment_by_day, x=\"datetime\", y=\"compound_score\")"
   ]
  },
  {
   "cell_type": "code",
   "execution_count": null,
   "metadata": {},
   "outputs": [],
   "source": []
  },
  {
   "cell_type": "code",
   "execution_count": null,
   "metadata": {},
   "outputs": [],
   "source": []
  },
  {
   "cell_type": "code",
   "execution_count": null,
   "metadata": {},
   "outputs": [],
   "source": []
  },
  {
   "cell_type": "code",
   "execution_count": null,
   "metadata": {},
   "outputs": [],
   "source": []
  },
  {
   "cell_type": "code",
   "execution_count": null,
   "metadata": {},
   "outputs": [],
   "source": []
  },
  {
   "cell_type": "code",
   "execution_count": null,
   "metadata": {},
   "outputs": [],
   "source": []
  },
  {
   "cell_type": "code",
   "execution_count": null,
   "metadata": {},
   "outputs": [],
   "source": []
  },
  {
   "cell_type": "code",
   "execution_count": null,
   "metadata": {},
   "outputs": [],
   "source": []
  },
  {
   "cell_type": "code",
   "execution_count": null,
   "metadata": {},
   "outputs": [],
   "source": []
  },
  {
   "cell_type": "code",
   "execution_count": null,
   "metadata": {},
   "outputs": [],
   "source": []
  },
  {
   "cell_type": "code",
   "execution_count": null,
   "metadata": {},
   "outputs": [],
   "source": []
  },
  {
   "cell_type": "markdown",
   "metadata": {},
   "source": [
    "[tutorial notes](http://docs.tweepy.org/en/latest/getting_started.html)"
   ]
  },
  {
   "cell_type": "code",
   "execution_count": 14,
   "metadata": {},
   "outputs": [],
   "source": [
    "import os\n",
    "import yaml\n",
    "import tweepy"
   ]
  },
  {
   "cell_type": "code",
   "execution_count": 15,
   "metadata": {},
   "outputs": [],
   "source": [
    "# api creds\n",
    "creds = yaml.load(\n",
    "    open(os.path.expanduser('~/.twitter/creds.yml')), \n",
    "    Loader=yaml.FullLoader)"
   ]
  },
  {
   "cell_type": "code",
   "execution_count": 16,
   "metadata": {},
   "outputs": [],
   "source": [
    "# api auth\n",
    "auth = tweepy.OAuthHandler(\n",
    "    consumer_key=creds['api-key'], \n",
    "    consumer_secret=creds['api-secret']\n",
    ")\n",
    "\n",
    "auth.set_access_token(\n",
    "    key=creds['access-token'], \n",
    "    secret=creds['access-token-secret']\n",
    ")\n",
    "\n",
    "api = tweepy.API(auth)"
   ]
  },
  {
   "cell_type": "code",
   "execution_count": 17,
   "metadata": {},
   "outputs": [
    {
     "name": "stdout",
     "output_type": "stream",
     "text": [
      "Dalvin Cook you fuckhead!\n",
      "WITCHING HOUR LIVE STREAM!\n",
      "\n",
      "https://t.co/GhyrBZFZeR\n",
      "“China is innocent!”\n",
      "\n",
      "Facing global anger over their initial mishandling of the outbreak, Chinese authorities are t… https://t.co/uc0VRsXCUB\n",
      "Update on @Billyhottakes’ parlays. I just paid him 2 units ($40) to shut up and stop rooting against me. \n",
      "\n",
      "Therefor… https://t.co/kwtQxsQFf8\n",
      "Historic locust infestations, a monthlong civil war and coronavirus lockdowns have left Ethiopia's once-golden econ… https://t.co/FA2AZLUwim\n",
      "⚠️ Offensive Genius at work ⚠️ https://t.co/YJCHmLybvI\n",
      "This camera angle in DET CHI dosent even look like football. Im too dumb to process whats going on and it makes me… https://t.co/1WVT2fr8PE\n",
      "These FIFA 21 Next Gen graphics look incredible 🤯 https://t.co/4wP13VtE3C\n",
      "Sindrome del sopravvissuto, rabbia, ripensamenti e incubi. Queste sono solo alcune delle cose che tormentano gli ab… https://t.co/st8RL1iNpq\n",
      "🌳🌳🌳 💨 💨 💨 https://t.co/EGJ13mii5U\n",
      "RT @pamshaffermusic: Ever spent an afternoon on the back patio of @StoriesEchoPark ? Do you want to ever again once we are out of this horr…\n",
      "Mohamed Salah has as many PL goals as Cristiano Ronaldo in 65 fewer games 🤯 https://t.co/RgKePeCMQp\n",
      "In the climactic final days of Brexit negotiations between Prime Minister Boris Johnson of Britain and EU President… https://t.co/yNRTucEuwH\n",
      "RT @shortygblues: @profgalloway also if you like this, here's another good read with some broader societal themes\n",
      "\n",
      "https://t.co/p2SUG96cny\n",
      "Sam Darnold allready has it. Were 2/3 of the way there w Derek Carr, Kirk Cousins, Brandon Alle. or Mike Glennon ju… https://t.co/PKXqxcDAaq\n",
      "Georgia Gov. Brian Kemp won’t call a special session of the state’s legislature and push lawmakers to appoint pro-T… https://t.co/toLGgzwmdw\n",
      "Baker's first half was dangerous:\n",
      "\n",
      "20/25 Comp/Att\n",
      "290 Pass Yards\n",
      "4 TD\n",
      "\n",
      "Browns up 38-7 against Titans 😳 https://t.co/Mbjy08WW5q\n",
      "RT @dstokes111: @PFTCommenter https://t.co/uW97UjMNH3\n",
      "The Trump administration made the U.S. citizenship test more difficult. Test your knowledge on some of the topics t… https://t.co/H4YZEeTLUk\n"
     ]
    }
   ],
   "source": [
    "public_tweets = api.home_timeline()\n",
    "for tweet in public_tweets:\n",
    "    print(tweet.text)"
   ]
  },
  {
   "cell_type": "code",
   "execution_count": 18,
   "metadata": {},
   "outputs": [
    {
     "data": {
      "text/plain": [
       "User(_api=<tweepy.api.API object at 0x12df89ef0>, _json={'id': 491393897, 'id_str': '491393897', 'name': 'Dave Rappeport', 'screen_name': 'RaveDappeport', 'location': '', 'profile_location': None, 'description': 'percolating and proliferating nonsense', 'url': None, 'entities': {'description': {'urls': []}}, 'protected': False, 'followers_count': 5, 'friends_count': 54, 'listed_count': 0, 'created_at': 'Mon Feb 13 15:53:21 +0000 2012', 'favourites_count': 4, 'utc_offset': None, 'time_zone': None, 'geo_enabled': False, 'verified': False, 'statuses_count': 8, 'lang': None, 'status': {'created_at': 'Sun Feb 17 02:39:30 +0000 2013', 'id': 302970499300982784, 'id_str': '302970499300982784', 'text': 'Great speeches are a quality of great men #devries', 'truncated': False, 'entities': {'hashtags': [{'text': 'devries', 'indices': [42, 50]}], 'symbols': [], 'user_mentions': [], 'urls': []}, 'source': '<a href=\"http://www.apple.com\" rel=\"nofollow\">iOS</a>', 'in_reply_to_status_id': None, 'in_reply_to_status_id_str': None, 'in_reply_to_user_id': None, 'in_reply_to_user_id_str': None, 'in_reply_to_screen_name': None, 'geo': None, 'coordinates': None, 'place': None, 'contributors': None, 'is_quote_status': False, 'retweet_count': 0, 'favorite_count': 0, 'favorited': False, 'retweeted': False, 'lang': 'en'}, 'contributors_enabled': False, 'is_translator': False, 'is_translation_enabled': False, 'profile_background_color': 'C0DEED', 'profile_background_image_url': 'http://abs.twimg.com/images/themes/theme1/bg.png', 'profile_background_image_url_https': 'https://abs.twimg.com/images/themes/theme1/bg.png', 'profile_background_tile': False, 'profile_image_url': 'http://pbs.twimg.com/profile_images/870382791279693824/LTGW3zpC_normal.jpg', 'profile_image_url_https': 'https://pbs.twimg.com/profile_images/870382791279693824/LTGW3zpC_normal.jpg', 'profile_link_color': '1DA1F2', 'profile_sidebar_border_color': 'C0DEED', 'profile_sidebar_fill_color': 'DDEEF6', 'profile_text_color': '333333', 'profile_use_background_image': True, 'has_extended_profile': False, 'default_profile': True, 'default_profile_image': False, 'following': False, 'follow_request_sent': False, 'notifications': False, 'translator_type': 'none', 'suspended': False, 'needs_phone_verification': False}, id=491393897, id_str='491393897', name='Dave Rappeport', screen_name='RaveDappeport', location='', profile_location=None, description='percolating and proliferating nonsense', url=None, entities={'description': {'urls': []}}, protected=False, followers_count=5, friends_count=54, listed_count=0, created_at=datetime.datetime(2012, 2, 13, 15, 53, 21), favourites_count=4, utc_offset=None, time_zone=None, geo_enabled=False, verified=False, statuses_count=8, lang=None, status=Status(_api=<tweepy.api.API object at 0x12df89ef0>, _json={'created_at': 'Sun Feb 17 02:39:30 +0000 2013', 'id': 302970499300982784, 'id_str': '302970499300982784', 'text': 'Great speeches are a quality of great men #devries', 'truncated': False, 'entities': {'hashtags': [{'text': 'devries', 'indices': [42, 50]}], 'symbols': [], 'user_mentions': [], 'urls': []}, 'source': '<a href=\"http://www.apple.com\" rel=\"nofollow\">iOS</a>', 'in_reply_to_status_id': None, 'in_reply_to_status_id_str': None, 'in_reply_to_user_id': None, 'in_reply_to_user_id_str': None, 'in_reply_to_screen_name': None, 'geo': None, 'coordinates': None, 'place': None, 'contributors': None, 'is_quote_status': False, 'retweet_count': 0, 'favorite_count': 0, 'favorited': False, 'retweeted': False, 'lang': 'en'}, created_at=datetime.datetime(2013, 2, 17, 2, 39, 30), id=302970499300982784, id_str='302970499300982784', text='Great speeches are a quality of great men #devries', truncated=False, entities={'hashtags': [{'text': 'devries', 'indices': [42, 50]}], 'symbols': [], 'user_mentions': [], 'urls': []}, source='iOS', source_url='http://www.apple.com', in_reply_to_status_id=None, in_reply_to_status_id_str=None, in_reply_to_user_id=None, in_reply_to_user_id_str=None, in_reply_to_screen_name=None, geo=None, coordinates=None, place=None, contributors=None, is_quote_status=False, retweet_count=0, favorite_count=0, favorited=False, retweeted=False, lang='en'), contributors_enabled=False, is_translator=False, is_translation_enabled=False, profile_background_color='C0DEED', profile_background_image_url='http://abs.twimg.com/images/themes/theme1/bg.png', profile_background_image_url_https='https://abs.twimg.com/images/themes/theme1/bg.png', profile_background_tile=False, profile_image_url='http://pbs.twimg.com/profile_images/870382791279693824/LTGW3zpC_normal.jpg', profile_image_url_https='https://pbs.twimg.com/profile_images/870382791279693824/LTGW3zpC_normal.jpg', profile_link_color='1DA1F2', profile_sidebar_border_color='C0DEED', profile_sidebar_fill_color='DDEEF6', profile_text_color='333333', profile_use_background_image=True, has_extended_profile=False, default_profile=True, default_profile_image=False, following=False, follow_request_sent=False, notifications=False, translator_type='none', suspended=False, needs_phone_verification=False)"
      ]
     },
     "execution_count": 18,
     "metadata": {},
     "output_type": "execute_result"
    }
   ],
   "source": [
    "user = api.get_user('ravedappeport')\n",
    "user"
   ]
  },
  {
   "cell_type": "code",
   "execution_count": null,
   "metadata": {},
   "outputs": [],
   "source": []
  },
  {
   "cell_type": "code",
   "execution_count": null,
   "metadata": {},
   "outputs": [],
   "source": []
  },
  {
   "cell_type": "code",
   "execution_count": null,
   "metadata": {},
   "outputs": [],
   "source": []
  }
 ],
 "metadata": {
  "kernelspec": {
   "display_name": "Python 3",
   "language": "python",
   "name": "python3"
  },
  "language_info": {
   "codemirror_mode": {
    "name": "ipython",
    "version": 3
   },
   "file_extension": ".py",
   "mimetype": "text/x-python",
   "name": "python",
   "nbconvert_exporter": "python",
   "pygments_lexer": "ipython3",
   "version": "3.6.8"
  }
 },
 "nbformat": 4,
 "nbformat_minor": 4
}
