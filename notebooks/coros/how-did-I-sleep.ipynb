{
 "cells": [
  {
   "cell_type": "code",
   "execution_count": 54,
   "id": "476540fd-06fa-4ecc-9f83-2cd384428204",
   "metadata": {},
   "outputs": [],
   "source": [
    "import pandas as pd\n",
    "import json\n",
    "import plotly\n",
    "import yaml\n",
    "import requests\n",
    "import os"
   ]
  },
  {
   "cell_type": "code",
   "execution_count": 2,
   "id": "899b325b-6329-4ba7-995d-231e85f17bdd",
   "metadata": {},
   "outputs": [],
   "source": [
    "with open('/Users/dave/transfer/coros/creds.yml','r') as f:\n",
    "    creds = yaml.safe_load(f)"
   ]
  },
  {
   "cell_type": "code",
   "execution_count": 3,
   "id": "5ea60553-57db-45ce-91c1-f58a49d77898",
   "metadata": {},
   "outputs": [],
   "source": [
    "import pprint\n",
    "pp = pprint.PrettyPrinter(indent=4)"
   ]
  },
  {
   "cell_type": "code",
   "execution_count": 4,
   "id": "53fcd882-0308-40ee-8068-a426a2cacf34",
   "metadata": {},
   "outputs": [],
   "source": [
    "# import requests\n",
    "\n",
    "userId = creds.get('userId')\n",
    "accessToken = creds.get('accessToken')\n",
    "# print(userId, accessToken)\n",
    "\n",
    "## need to update headers and params each time you proxy\n",
    "headers = {\n",
    "    'Host': 'api.coros.com',\n",
    "    'accept': '*/*',\n",
    "    # Already added when you pass json=\n",
    "    # 'content-type': 'application/json',\n",
    "    'yfheader': f'{{\"userId\":{userId},\"appVersion\":563005788913664,\"releaseType\":1,\"clientType\":2,\"timezone\":-20,\"mobileName\":\"iOS\",\"language\":\"en-US\",\"systemVersion\":\"16.1.1\",\"userSettingScope\":\"CAEQARgBIAE=\",\"testFlightInstalled\":0}}',\n",
    "    'x-app-req-env': 'release-202209',\n",
    "    'user-agent': 'Coros/2.13.14 (iPhone; iOS 15.7; Scale/3.00)',\n",
    "    'accept-language': 'en-US;q=1',\n",
    "}\n",
    "\n",
    "params = {\n",
    "    'accessToken': accessToken,\n",
    "}\n",
    "\n",
    "json_data = {\n",
    "    'startTime': 20210101,\n",
    "    'endTime': 20221111,\n",
    "    'accessToken': accessToken,\n",
    "    'dataType': [\n",
    "        5,\n",
    "        13,\n",
    "    ],\n",
    "    'dataVersion': 1,\n",
    "    'statisticType': 1,\n",
    "}\n",
    "\n",
    "response = requests.post('https://api.coros.com/coros/data/statistic/daily', params=params, headers=headers, json=json_data)"
   ]
  },
  {
   "cell_type": "code",
   "execution_count": 5,
   "id": "4250f269-e23c-4a61-8c87-bbea740a563f",
   "metadata": {},
   "outputs": [
    {
     "data": {
      "text/plain": [
       "200"
      ]
     },
     "execution_count": 5,
     "metadata": {},
     "output_type": "execute_result"
    }
   ],
   "source": [
    "response.status_code"
   ]
  },
  {
   "cell_type": "code",
   "execution_count": 6,
   "id": "dbd30741-67a7-41e7-bfa9-c23b93fbd82a",
   "metadata": {},
   "outputs": [],
   "source": [
    "# json_data = json.loads(response.text)\n",
    "\n",
    "with open('/Users/dave/transfer/coros/coros-sleep-data.all.json','w') as f:\n",
    "    f.write(response.text)\n"
   ]
  },
  {
   "cell_type": "code",
   "execution_count": 7,
   "id": "04047a1a-ca32-43a9-b6d7-a067e17c96d3",
   "metadata": {},
   "outputs": [],
   "source": [
    "with open('/Users/dave/transfer/coros/coros-sleep-data.all.json','r') as f:\n",
    "    json_data = json.load(f)"
   ]
  },
  {
   "cell_type": "code",
   "execution_count": 8,
   "id": "73f0a232-0463-4162-9536-24e5d067158c",
   "metadata": {},
   "outputs": [],
   "source": [
    "for dct in json_data.get('data').get('statisticData').get('dayDataList')[-1:-3]:\n",
    "    print(dct)"
   ]
  },
  {
   "cell_type": "code",
   "execution_count": null,
   "id": "e9a32386-79a8-4086-b6be-68e793877d68",
   "metadata": {},
   "outputs": [],
   "source": []
  },
  {
   "cell_type": "markdown",
   "id": "ae0bd8e8-3dbf-4d35-b087-983f326268b0",
   "metadata": {},
   "source": [
    "### Dataframe and Graph(s)"
   ]
  },
  {
   "cell_type": "code",
   "execution_count": 9,
   "id": "94da72cf-eed0-4035-890a-c56a38633151",
   "metadata": {},
   "outputs": [],
   "source": [
    "import plotly.graph_objects as go"
   ]
  },
  {
   "cell_type": "code",
   "execution_count": 9,
   "id": "5e1d163f-61e1-4db0-86fb-7245b2cb8246",
   "metadata": {},
   "outputs": [
    {
     "data": {
      "text/plain": [
       "{'avgHeartRate': 55,\n",
       " 'deepTime': 146,\n",
       " 'eyeTime': 0,\n",
       " 'lightTime': 392,\n",
       " 'maxHeartRate': 79,\n",
       " 'minHeartRate': 46,\n",
       " 'totalSleepTime': 538,\n",
       " 'wakeTime': 33}"
      ]
     },
     "execution_count": 9,
     "metadata": {},
     "output_type": "execute_result"
    }
   ],
   "source": [
    "json_data.get('data').get('statisticData').get('dayDataList')[0]['sleepData']"
   ]
  },
  {
   "cell_type": "code",
   "execution_count": 10,
   "id": "9a649e31-f721-4f64-8bd9-51c79d075cc8",
   "metadata": {},
   "outputs": [],
   "source": [
    "df = pd.json_normalize(json_data.get('data').get('statisticData').get('dayDataList'))"
   ]
  },
  {
   "cell_type": "code",
   "execution_count": 11,
   "id": "51bb3b22-2ee7-4e5f-ac65-b8ea949002b5",
   "metadata": {},
   "outputs": [
    {
     "data": {
      "text/html": [
       "<div>\n",
       "<style scoped>\n",
       "    .dataframe tbody tr th:only-of-type {\n",
       "        vertical-align: middle;\n",
       "    }\n",
       "\n",
       "    .dataframe tbody tr th {\n",
       "        vertical-align: top;\n",
       "    }\n",
       "\n",
       "    .dataframe thead th {\n",
       "        text-align: right;\n",
       "    }\n",
       "</style>\n",
       "<table border=\"1\" class=\"dataframe\">\n",
       "  <thead>\n",
       "    <tr style=\"text-align: right;\">\n",
       "      <th></th>\n",
       "      <th>happenDay</th>\n",
       "      <th>performance</th>\n",
       "      <th>sleepList</th>\n",
       "      <th>sleepData.avgHeartRate</th>\n",
       "      <th>sleepData.deepTime</th>\n",
       "      <th>sleepData.eyeTime</th>\n",
       "      <th>sleepData.lightTime</th>\n",
       "      <th>sleepData.maxHeartRate</th>\n",
       "      <th>sleepData.minHeartRate</th>\n",
       "      <th>sleepData.totalSleepTime</th>\n",
       "      <th>sleepData.wakeTime</th>\n",
       "    </tr>\n",
       "  </thead>\n",
       "  <tbody>\n",
       "    <tr>\n",
       "      <th>0</th>\n",
       "      <td>20221111</td>\n",
       "      <td>-1</td>\n",
       "      <td>[AA8AKAAAAMMAAABaAwAAELVtY+zkOm5j7LeMNAE7AiEAi...</td>\n",
       "      <td>55</td>\n",
       "      <td>146</td>\n",
       "      <td>0</td>\n",
       "      <td>392</td>\n",
       "      <td>79</td>\n",
       "      <td>46</td>\n",
       "      <td>538</td>\n",
       "      <td>33</td>\n",
       "    </tr>\n",
       "    <tr>\n",
       "      <th>1</th>\n",
       "      <td>20221110</td>\n",
       "      <td>-1</td>\n",
       "      <td>[AA8AKAAAAEsAAAAiAgAA6INsY+yw2Wxj7LaMNAFuAR4A/...</td>\n",
       "      <td>56</td>\n",
       "      <td>83</td>\n",
       "      <td>0</td>\n",
       "      <td>253</td>\n",
       "      <td>95</td>\n",
       "      <td>48</td>\n",
       "      <td>336</td>\n",
       "      <td>30</td>\n",
       "    </tr>\n",
       "    <tr>\n",
       "      <th>2</th>\n",
       "      <td>20221109</td>\n",
       "      <td>-1</td>\n",
       "      <td>[AA8AKAAAAJsAAAC4AgAA7CZrY+xwk2tj7LWMNAHPASQAH...</td>\n",
       "      <td>55</td>\n",
       "      <td>140</td>\n",
       "      <td>0</td>\n",
       "      <td>287</td>\n",
       "      <td>75</td>\n",
       "      <td>43</td>\n",
       "      <td>427</td>\n",
       "      <td>36</td>\n",
       "    </tr>\n",
       "    <tr>\n",
       "      <th>3</th>\n",
       "      <td>20221108</td>\n",
       "      <td>-1</td>\n",
       "      <td>[AA8AKAAAAK8AAABnAgAAHMtpY+z4Kmpj7LSMNAGZATcAA...</td>\n",
       "      <td>57</td>\n",
       "      <td>96</td>\n",
       "      <td>0</td>\n",
       "      <td>258</td>\n",
       "      <td>77</td>\n",
       "      <td>40</td>\n",
       "      <td>354</td>\n",
       "      <td>55</td>\n",
       "    </tr>\n",
       "    <tr>\n",
       "      <th>4</th>\n",
       "      <td>20221107</td>\n",
       "      <td>-1</td>\n",
       "      <td>[AA8AKAAAANcAAAAtAwAAjGtoY+zQ6mhj7LOMNAEfAisAX...</td>\n",
       "      <td>51</td>\n",
       "      <td>152</td>\n",
       "      <td>0</td>\n",
       "      <td>348</td>\n",
       "      <td>71</td>\n",
       "      <td>44</td>\n",
       "      <td>500</td>\n",
       "      <td>43</td>\n",
       "    </tr>\n",
       "  </tbody>\n",
       "</table>\n",
       "</div>"
      ],
      "text/plain": [
       "   happenDay  performance                                          sleepList  \\\n",
       "0   20221111           -1  [AA8AKAAAAMMAAABaAwAAELVtY+zkOm5j7LeMNAE7AiEAi...   \n",
       "1   20221110           -1  [AA8AKAAAAEsAAAAiAgAA6INsY+yw2Wxj7LaMNAFuAR4A/...   \n",
       "2   20221109           -1  [AA8AKAAAAJsAAAC4AgAA7CZrY+xwk2tj7LWMNAHPASQAH...   \n",
       "3   20221108           -1  [AA8AKAAAAK8AAABnAgAAHMtpY+z4Kmpj7LSMNAGZATcAA...   \n",
       "4   20221107           -1  [AA8AKAAAANcAAAAtAwAAjGtoY+zQ6mhj7LOMNAEfAisAX...   \n",
       "\n",
       "   sleepData.avgHeartRate  sleepData.deepTime  sleepData.eyeTime  \\\n",
       "0                      55                 146                  0   \n",
       "1                      56                  83                  0   \n",
       "2                      55                 140                  0   \n",
       "3                      57                  96                  0   \n",
       "4                      51                 152                  0   \n",
       "\n",
       "   sleepData.lightTime  sleepData.maxHeartRate  sleepData.minHeartRate  \\\n",
       "0                  392                      79                      46   \n",
       "1                  253                      95                      48   \n",
       "2                  287                      75                      43   \n",
       "3                  258                      77                      40   \n",
       "4                  348                      71                      44   \n",
       "\n",
       "   sleepData.totalSleepTime  sleepData.wakeTime  \n",
       "0                       538                  33  \n",
       "1                       336                  30  \n",
       "2                       427                  36  \n",
       "3                       354                  55  \n",
       "4                       500                  43  "
      ]
     },
     "execution_count": 11,
     "metadata": {},
     "output_type": "execute_result"
    }
   ],
   "source": [
    "df.head()"
   ]
  },
  {
   "cell_type": "code",
   "execution_count": 12,
   "id": "8d36e1d0-d9b2-447f-9e54-f509933616e5",
   "metadata": {},
   "outputs": [],
   "source": [
    "df['sleepDate'] = pd.to_datetime(df.happenDay, format='%Y%m%d')\n",
    "df['sleepDate.weekDay'] = df['sleepDate'].apply(lambda x: x.strftime('%A'))"
   ]
  },
  {
   "cell_type": "code",
   "execution_count": 13,
   "id": "e9fb7799-3e5b-4f87-91b2-a73fc2fe9ea5",
   "metadata": {},
   "outputs": [
    {
     "data": {
      "text/plain": [
       "count                              349\n",
       "mean     2022-05-17 12:39:11.862464256\n",
       "min                2021-11-23 00:00:00\n",
       "25%                2022-02-18 00:00:00\n",
       "50%                2022-05-17 00:00:00\n",
       "75%                2022-08-13 00:00:00\n",
       "max                2022-11-11 00:00:00\n",
       "Name: sleepDate, dtype: object"
      ]
     },
     "execution_count": 13,
     "metadata": {},
     "output_type": "execute_result"
    }
   ],
   "source": [
    "df['sleepDate'].describe(datetime_is_numeric=True)"
   ]
  },
  {
   "cell_type": "code",
   "execution_count": 33,
   "id": "36742bae-7c9f-4e09-9d57-79b6af11f243",
   "metadata": {},
   "outputs": [],
   "source": [
    "# sort values by sleep date, helpful for rolling graphs\n",
    "df.sort_values(by='sleepDate', inplace=True)\n",
    "df.reset_index(inplace=True)"
   ]
  },
  {
   "cell_type": "code",
   "execution_count": 34,
   "id": "77371975-5630-4182-8ae0-f0c6feca3dde",
   "metadata": {},
   "outputs": [
    {
     "data": {
      "text/html": [
       "<div>\n",
       "<style scoped>\n",
       "    .dataframe tbody tr th:only-of-type {\n",
       "        vertical-align: middle;\n",
       "    }\n",
       "\n",
       "    .dataframe tbody tr th {\n",
       "        vertical-align: top;\n",
       "    }\n",
       "\n",
       "    .dataframe thead th {\n",
       "        text-align: right;\n",
       "    }\n",
       "</style>\n",
       "<table border=\"1\" class=\"dataframe\">\n",
       "  <thead>\n",
       "    <tr style=\"text-align: right;\">\n",
       "      <th></th>\n",
       "      <th>sleepDate</th>\n",
       "    </tr>\n",
       "  </thead>\n",
       "  <tbody>\n",
       "    <tr>\n",
       "      <th>0</th>\n",
       "      <td>2021-11-23</td>\n",
       "    </tr>\n",
       "    <tr>\n",
       "      <th>1</th>\n",
       "      <td>2021-11-24</td>\n",
       "    </tr>\n",
       "    <tr>\n",
       "      <th>2</th>\n",
       "      <td>2021-11-25</td>\n",
       "    </tr>\n",
       "    <tr>\n",
       "      <th>3</th>\n",
       "      <td>2021-11-26</td>\n",
       "    </tr>\n",
       "    <tr>\n",
       "      <th>4</th>\n",
       "      <td>2021-11-27</td>\n",
       "    </tr>\n",
       "  </tbody>\n",
       "</table>\n",
       "</div>"
      ],
      "text/plain": [
       "   sleepDate\n",
       "0 2021-11-23\n",
       "1 2021-11-24\n",
       "2 2021-11-25\n",
       "3 2021-11-26\n",
       "4 2021-11-27"
      ]
     },
     "execution_count": 34,
     "metadata": {},
     "output_type": "execute_result"
    }
   ],
   "source": [
    "df.loc[:,['sleepDate']].head()"
   ]
  },
  {
   "cell_type": "code",
   "execution_count": 72,
   "id": "f5288264-3c57-4ec4-b13a-4600d7c44a37",
   "metadata": {},
   "outputs": [
    {
     "name": "stderr",
     "output_type": "stream",
     "text": [
      "objc[6262]: Class WebSwapCGLLayer is implemented in both /System/Library/Frameworks/WebKit.framework/Versions/A/Frameworks/WebCore.framework/Versions/A/Frameworks/libANGLE-shared.dylib (0x214e93808) and /Applications/Google Chrome.app/Contents/Frameworks/Google Chrome Framework.framework/Versions/107.0.5304.110/Libraries/libGLESv2.dylib (0x1081600d8). One of the two will be used. Which one is undefined.\n",
      "[1119/094258.778819:INFO:headless_shell.cc(657)] Written to file /var/folders/yb/sc0yzym535g02dhr12mwm9h40000gn/T/tmp3_tvpv8a/temp.png.\n"
     ]
    }
   ],
   "source": [
    "### summary stats\n",
    "import dataframe_image as dfi\n",
    "\n",
    "sum_stats = df.rename(columns={'sleepData.totalSleepTime':'sleepTime', 'sleepData.deepTime':'deepTime', 'sleepData.avgHeartRate':'avgHR'})\\\n",
    "    .loc[:, ['sleepTime','deepTime','avgHR']].describe().T\n",
    "\n",
    "dfi.export(sum_stats, os.path.abspath('../../personal-site/static/img/sleep-proxy/sum-stats.png'))"
   ]
  },
  {
   "cell_type": "code",
   "execution_count": 35,
   "id": "f9515543-54a2-4c9e-81a6-20717da83fed",
   "metadata": {},
   "outputs": [],
   "source": [
    "# marker text values\n",
    "tick_values_df = df.rename(columns={'sleepData.totalSleepTime':'sleepTime', 'sleepData.deepTime':'deepTime', 'sleepData.avgHeartRate':'avgHR'})\\\n",
    "    .loc[:, ['sleepTime','deepTime','avgHR']]\n",
    "\n",
    "tick_text = [f'Sleep Time: {sleepTime} mins<br> Deep Sleep Time: {deepTime} mins<br> Avg Heart Rate: {avgHR} bpm' \n",
    "             for (sleepTime, deepTime, avgHR) in tick_values_df.values]\n"
   ]
  },
  {
   "cell_type": "code",
   "execution_count": 56,
   "id": "36b9a5d3-e6e9-469d-b5da-9831f93b1ef3",
   "metadata": {},
   "outputs": [
    {
     "data": {
      "application/vnd.plotly.v1+json": {
       "config": {
        "plotlyServerURL": "https://plot.ly"
       },
       "data": [
        {
         "hoverinfo": "text",
         "marker": {
          "colorscale": [
           [
            0,
            "rgb(75, 41, 145)"
           ],
           [
            0.16666666666666666,
            "rgb(135, 44, 162)"
           ],
           [
            0.3333333333333333,
            "rgb(192, 54, 157)"
           ],
           [
            0.5,
            "rgb(234, 79, 136)"
           ],
           [
            0.6666666666666666,
            "rgb(250, 120, 118)"
           ],
           [
            0.8333333333333334,
            "rgb(246, 169, 122)"
           ],
           [
            1,
            "rgb(237, 217, 163)"
           ]
          ],
          "line": {
           "width": 1
          }
         },
         "mode": "markers+lines",
         "name": "values",
         "text": [
          "Sleep Time: 315 mins<br> Deep Sleep Time: 57 mins<br> Avg Heart Rate: 52 bpm",
          "Sleep Time: 481 mins<br> Deep Sleep Time: 148 mins<br> Avg Heart Rate: 54 bpm",
          "Sleep Time: 388 mins<br> Deep Sleep Time: 147 mins<br> Avg Heart Rate: 54 bpm",
          "Sleep Time: 385 mins<br> Deep Sleep Time: 155 mins<br> Avg Heart Rate: 51 bpm",
          "Sleep Time: 405 mins<br> Deep Sleep Time: 116 mins<br> Avg Heart Rate: 52 bpm",
          "Sleep Time: 354 mins<br> Deep Sleep Time: 94 mins<br> Avg Heart Rate: 57 bpm",
          "Sleep Time: 487 mins<br> Deep Sleep Time: 186 mins<br> Avg Heart Rate: 57 bpm",
          "Sleep Time: 441 mins<br> Deep Sleep Time: 73 mins<br> Avg Heart Rate: 54 bpm",
          "Sleep Time: 412 mins<br> Deep Sleep Time: 83 mins<br> Avg Heart Rate: 54 bpm",
          "Sleep Time: 380 mins<br> Deep Sleep Time: 80 mins<br> Avg Heart Rate: 56 bpm",
          "Sleep Time: 385 mins<br> Deep Sleep Time: 119 mins<br> Avg Heart Rate: 53 bpm",
          "Sleep Time: 461 mins<br> Deep Sleep Time: 97 mins<br> Avg Heart Rate: 53 bpm",
          "Sleep Time: 412 mins<br> Deep Sleep Time: 88 mins<br> Avg Heart Rate: 54 bpm",
          "Sleep Time: 366 mins<br> Deep Sleep Time: 107 mins<br> Avg Heart Rate: 59 bpm",
          "Sleep Time: 344 mins<br> Deep Sleep Time: 79 mins<br> Avg Heart Rate: 54 bpm",
          "Sleep Time: 383 mins<br> Deep Sleep Time: 61 mins<br> Avg Heart Rate: 52 bpm",
          "Sleep Time: 386 mins<br> Deep Sleep Time: 101 mins<br> Avg Heart Rate: 53 bpm",
          "Sleep Time: 467 mins<br> Deep Sleep Time: 175 mins<br> Avg Heart Rate: 55 bpm",
          "Sleep Time: 424 mins<br> Deep Sleep Time: 98 mins<br> Avg Heart Rate: 55 bpm",
          "Sleep Time: 360 mins<br> Deep Sleep Time: 99 mins<br> Avg Heart Rate: 57 bpm",
          "Sleep Time: 329 mins<br> Deep Sleep Time: 61 mins<br> Avg Heart Rate: 56 bpm",
          "Sleep Time: 426 mins<br> Deep Sleep Time: 66 mins<br> Avg Heart Rate: 59 bpm",
          "Sleep Time: 424 mins<br> Deep Sleep Time: 111 mins<br> Avg Heart Rate: 60 bpm",
          "Sleep Time: 413 mins<br> Deep Sleep Time: 94 mins<br> Avg Heart Rate: 55 bpm",
          "Sleep Time: 440 mins<br> Deep Sleep Time: 124 mins<br> Avg Heart Rate: 55 bpm",
          "Sleep Time: 457 mins<br> Deep Sleep Time: 111 mins<br> Avg Heart Rate: 59 bpm",
          "Sleep Time: 373 mins<br> Deep Sleep Time: 109 mins<br> Avg Heart Rate: 59 bpm",
          "Sleep Time: 459 mins<br> Deep Sleep Time: 91 mins<br> Avg Heart Rate: 60 bpm",
          "Sleep Time: 456 mins<br> Deep Sleep Time: 182 mins<br> Avg Heart Rate: 60 bpm",
          "Sleep Time: 498 mins<br> Deep Sleep Time: 105 mins<br> Avg Heart Rate: 54 bpm",
          "Sleep Time: 387 mins<br> Deep Sleep Time: 145 mins<br> Avg Heart Rate: 52 bpm",
          "Sleep Time: 485 mins<br> Deep Sleep Time: 189 mins<br> Avg Heart Rate: 51 bpm",
          "Sleep Time: 441 mins<br> Deep Sleep Time: 85 mins<br> Avg Heart Rate: 56 bpm",
          "Sleep Time: 333 mins<br> Deep Sleep Time: 109 mins<br> Avg Heart Rate: 49 bpm",
          "Sleep Time: 430 mins<br> Deep Sleep Time: 75 mins<br> Avg Heart Rate: 48 bpm",
          "Sleep Time: 342 mins<br> Deep Sleep Time: 116 mins<br> Avg Heart Rate: 50 bpm",
          "Sleep Time: 428 mins<br> Deep Sleep Time: 51 mins<br> Avg Heart Rate: 57 bpm",
          "Sleep Time: 357 mins<br> Deep Sleep Time: 101 mins<br> Avg Heart Rate: 53 bpm",
          "Sleep Time: 372 mins<br> Deep Sleep Time: 138 mins<br> Avg Heart Rate: 59 bpm",
          "Sleep Time: 296 mins<br> Deep Sleep Time: 66 mins<br> Avg Heart Rate: 54 bpm",
          "Sleep Time: 238 mins<br> Deep Sleep Time: 89 mins<br> Avg Heart Rate: 55 bpm",
          "Sleep Time: 467 mins<br> Deep Sleep Time: 196 mins<br> Avg Heart Rate: 55 bpm",
          "Sleep Time: 449 mins<br> Deep Sleep Time: 66 mins<br> Avg Heart Rate: 55 bpm",
          "Sleep Time: 493 mins<br> Deep Sleep Time: 202 mins<br> Avg Heart Rate: 52 bpm",
          "Sleep Time: 441 mins<br> Deep Sleep Time: 145 mins<br> Avg Heart Rate: 48 bpm",
          "Sleep Time: 428 mins<br> Deep Sleep Time: 123 mins<br> Avg Heart Rate: 51 bpm",
          "Sleep Time: 394 mins<br> Deep Sleep Time: 67 mins<br> Avg Heart Rate: 54 bpm",
          "Sleep Time: 458 mins<br> Deep Sleep Time: 88 mins<br> Avg Heart Rate: 57 bpm",
          "Sleep Time: 404 mins<br> Deep Sleep Time: 99 mins<br> Avg Heart Rate: 49 bpm",
          "Sleep Time: 414 mins<br> Deep Sleep Time: 67 mins<br> Avg Heart Rate: 49 bpm",
          "Sleep Time: 457 mins<br> Deep Sleep Time: 125 mins<br> Avg Heart Rate: 53 bpm",
          "Sleep Time: 400 mins<br> Deep Sleep Time: 149 mins<br> Avg Heart Rate: 50 bpm",
          "Sleep Time: 360 mins<br> Deep Sleep Time: 78 mins<br> Avg Heart Rate: 55 bpm",
          "Sleep Time: 386 mins<br> Deep Sleep Time: 122 mins<br> Avg Heart Rate: 55 bpm",
          "Sleep Time: 406 mins<br> Deep Sleep Time: 87 mins<br> Avg Heart Rate: 56 bpm",
          "Sleep Time: 358 mins<br> Deep Sleep Time: 96 mins<br> Avg Heart Rate: 60 bpm",
          "Sleep Time: 446 mins<br> Deep Sleep Time: 83 mins<br> Avg Heart Rate: 54 bpm",
          "Sleep Time: 393 mins<br> Deep Sleep Time: 116 mins<br> Avg Heart Rate: 56 bpm",
          "Sleep Time: 429 mins<br> Deep Sleep Time: 93 mins<br> Avg Heart Rate: 57 bpm",
          "Sleep Time: 379 mins<br> Deep Sleep Time: 101 mins<br> Avg Heart Rate: 56 bpm",
          "Sleep Time: 368 mins<br> Deep Sleep Time: 85 mins<br> Avg Heart Rate: 54 bpm",
          "Sleep Time: 336 mins<br> Deep Sleep Time: 120 mins<br> Avg Heart Rate: 57 bpm",
          "Sleep Time: 388 mins<br> Deep Sleep Time: 117 mins<br> Avg Heart Rate: 57 bpm",
          "Sleep Time: 379 mins<br> Deep Sleep Time: 121 mins<br> Avg Heart Rate: 61 bpm",
          "Sleep Time: 360 mins<br> Deep Sleep Time: 150 mins<br> Avg Heart Rate: 56 bpm",
          "Sleep Time: 390 mins<br> Deep Sleep Time: 111 mins<br> Avg Heart Rate: 60 bpm",
          "Sleep Time: 349 mins<br> Deep Sleep Time: 97 mins<br> Avg Heart Rate: 58 bpm",
          "Sleep Time: 338 mins<br> Deep Sleep Time: 62 mins<br> Avg Heart Rate: 56 bpm",
          "Sleep Time: 357 mins<br> Deep Sleep Time: 101 mins<br> Avg Heart Rate: 56 bpm",
          "Sleep Time: 420 mins<br> Deep Sleep Time: 102 mins<br> Avg Heart Rate: 61 bpm",
          "Sleep Time: 438 mins<br> Deep Sleep Time: 121 mins<br> Avg Heart Rate: 61 bpm",
          "Sleep Time: 310 mins<br> Deep Sleep Time: 68 mins<br> Avg Heart Rate: 55 bpm",
          "Sleep Time: 436 mins<br> Deep Sleep Time: 119 mins<br> Avg Heart Rate: 53 bpm",
          "Sleep Time: 366 mins<br> Deep Sleep Time: 66 mins<br> Avg Heart Rate: 54 bpm",
          "Sleep Time: 364 mins<br> Deep Sleep Time: 83 mins<br> Avg Heart Rate: 50 bpm",
          "Sleep Time: 375 mins<br> Deep Sleep Time: 103 mins<br> Avg Heart Rate: 57 bpm",
          "Sleep Time: 403 mins<br> Deep Sleep Time: 87 mins<br> Avg Heart Rate: 61 bpm",
          "Sleep Time: 381 mins<br> Deep Sleep Time: 118 mins<br> Avg Heart Rate: 52 bpm",
          "Sleep Time: 368 mins<br> Deep Sleep Time: 72 mins<br> Avg Heart Rate: 56 bpm",
          "Sleep Time: 380 mins<br> Deep Sleep Time: 88 mins<br> Avg Heart Rate: 57 bpm",
          "Sleep Time: 443 mins<br> Deep Sleep Time: 145 mins<br> Avg Heart Rate: 55 bpm",
          "Sleep Time: 377 mins<br> Deep Sleep Time: 128 mins<br> Avg Heart Rate: 52 bpm",
          "Sleep Time: 457 mins<br> Deep Sleep Time: 141 mins<br> Avg Heart Rate: 56 bpm",
          "Sleep Time: 364 mins<br> Deep Sleep Time: 105 mins<br> Avg Heart Rate: 53 bpm",
          "Sleep Time: 449 mins<br> Deep Sleep Time: 116 mins<br> Avg Heart Rate: 53 bpm",
          "Sleep Time: 307 mins<br> Deep Sleep Time: 58 mins<br> Avg Heart Rate: 54 bpm",
          "Sleep Time: 411 mins<br> Deep Sleep Time: 99 mins<br> Avg Heart Rate: 53 bpm",
          "Sleep Time: 306 mins<br> Deep Sleep Time: 68 mins<br> Avg Heart Rate: 52 bpm",
          "Sleep Time: 349 mins<br> Deep Sleep Time: 78 mins<br> Avg Heart Rate: 52 bpm",
          "Sleep Time: 296 mins<br> Deep Sleep Time: 88 mins<br> Avg Heart Rate: 53 bpm",
          "Sleep Time: 355 mins<br> Deep Sleep Time: 104 mins<br> Avg Heart Rate: 50 bpm",
          "Sleep Time: 289 mins<br> Deep Sleep Time: 107 mins<br> Avg Heart Rate: 52 bpm",
          "Sleep Time: 403 mins<br> Deep Sleep Time: 73 mins<br> Avg Heart Rate: 54 bpm",
          "Sleep Time: 423 mins<br> Deep Sleep Time: 94 mins<br> Avg Heart Rate: 52 bpm",
          "Sleep Time: 424 mins<br> Deep Sleep Time: 150 mins<br> Avg Heart Rate: 53 bpm",
          "Sleep Time: 278 mins<br> Deep Sleep Time: 134 mins<br> Avg Heart Rate: 54 bpm",
          "Sleep Time: 447 mins<br> Deep Sleep Time: 92 mins<br> Avg Heart Rate: 52 bpm",
          "Sleep Time: 386 mins<br> Deep Sleep Time: 110 mins<br> Avg Heart Rate: 60 bpm",
          "Sleep Time: 338 mins<br> Deep Sleep Time: 85 mins<br> Avg Heart Rate: 49 bpm",
          "Sleep Time: 336 mins<br> Deep Sleep Time: 125 mins<br> Avg Heart Rate: 51 bpm",
          "Sleep Time: 423 mins<br> Deep Sleep Time: 98 mins<br> Avg Heart Rate: 58 bpm",
          "Sleep Time: 253 mins<br> Deep Sleep Time: 86 mins<br> Avg Heart Rate: 49 bpm",
          "Sleep Time: 375 mins<br> Deep Sleep Time: 136 mins<br> Avg Heart Rate: 49 bpm",
          "Sleep Time: 456 mins<br> Deep Sleep Time: 171 mins<br> Avg Heart Rate: 55 bpm",
          "Sleep Time: 290 mins<br> Deep Sleep Time: 94 mins<br> Avg Heart Rate: 56 bpm",
          "Sleep Time: 299 mins<br> Deep Sleep Time: 123 mins<br> Avg Heart Rate: 53 bpm",
          "Sleep Time: 508 mins<br> Deep Sleep Time: 128 mins<br> Avg Heart Rate: 53 bpm",
          "Sleep Time: 409 mins<br> Deep Sleep Time: 165 mins<br> Avg Heart Rate: 57 bpm",
          "Sleep Time: 418 mins<br> Deep Sleep Time: 143 mins<br> Avg Heart Rate: 51 bpm",
          "Sleep Time: 353 mins<br> Deep Sleep Time: 122 mins<br> Avg Heart Rate: 51 bpm",
          "Sleep Time: 423 mins<br> Deep Sleep Time: 57 mins<br> Avg Heart Rate: 50 bpm",
          "Sleep Time: 442 mins<br> Deep Sleep Time: 54 mins<br> Avg Heart Rate: 51 bpm",
          "Sleep Time: 416 mins<br> Deep Sleep Time: 80 mins<br> Avg Heart Rate: 50 bpm",
          "Sleep Time: 414 mins<br> Deep Sleep Time: 66 mins<br> Avg Heart Rate: 50 bpm",
          "Sleep Time: 292 mins<br> Deep Sleep Time: 84 mins<br> Avg Heart Rate: 50 bpm",
          "Sleep Time: 380 mins<br> Deep Sleep Time: 97 mins<br> Avg Heart Rate: 52 bpm",
          "Sleep Time: 337 mins<br> Deep Sleep Time: 45 mins<br> Avg Heart Rate: 56 bpm",
          "Sleep Time: 526 mins<br> Deep Sleep Time: 99 mins<br> Avg Heart Rate: 54 bpm",
          "Sleep Time: 448 mins<br> Deep Sleep Time: 66 mins<br> Avg Heart Rate: 54 bpm",
          "Sleep Time: 364 mins<br> Deep Sleep Time: 56 mins<br> Avg Heart Rate: 56 bpm",
          "Sleep Time: 392 mins<br> Deep Sleep Time: 125 mins<br> Avg Heart Rate: 57 bpm",
          "Sleep Time: 403 mins<br> Deep Sleep Time: 136 mins<br> Avg Heart Rate: 56 bpm",
          "Sleep Time: 421 mins<br> Deep Sleep Time: 142 mins<br> Avg Heart Rate: 59 bpm",
          "Sleep Time: 450 mins<br> Deep Sleep Time: 85 mins<br> Avg Heart Rate: 59 bpm",
          "Sleep Time: 408 mins<br> Deep Sleep Time: 82 mins<br> Avg Heart Rate: 57 bpm",
          "Sleep Time: 426 mins<br> Deep Sleep Time: 99 mins<br> Avg Heart Rate: 52 bpm",
          "Sleep Time: 379 mins<br> Deep Sleep Time: 144 mins<br> Avg Heart Rate: 59 bpm",
          "Sleep Time: 417 mins<br> Deep Sleep Time: 137 mins<br> Avg Heart Rate: 52 bpm",
          "Sleep Time: 363 mins<br> Deep Sleep Time: 85 mins<br> Avg Heart Rate: 54 bpm",
          "Sleep Time: 419 mins<br> Deep Sleep Time: 114 mins<br> Avg Heart Rate: 52 bpm",
          "Sleep Time: 450 mins<br> Deep Sleep Time: 131 mins<br> Avg Heart Rate: 56 bpm",
          "Sleep Time: 413 mins<br> Deep Sleep Time: 146 mins<br> Avg Heart Rate: 58 bpm",
          "Sleep Time: 386 mins<br> Deep Sleep Time: 122 mins<br> Avg Heart Rate: 58 bpm",
          "Sleep Time: 420 mins<br> Deep Sleep Time: 72 mins<br> Avg Heart Rate: 57 bpm",
          "Sleep Time: 369 mins<br> Deep Sleep Time: 116 mins<br> Avg Heart Rate: 52 bpm",
          "Sleep Time: 446 mins<br> Deep Sleep Time: 134 mins<br> Avg Heart Rate: 58 bpm",
          "Sleep Time: 407 mins<br> Deep Sleep Time: 134 mins<br> Avg Heart Rate: 54 bpm",
          "Sleep Time: 420 mins<br> Deep Sleep Time: 109 mins<br> Avg Heart Rate: 57 bpm",
          "Sleep Time: 428 mins<br> Deep Sleep Time: 125 mins<br> Avg Heart Rate: 60 bpm",
          "Sleep Time: 409 mins<br> Deep Sleep Time: 60 mins<br> Avg Heart Rate: 55 bpm",
          "Sleep Time: 393 mins<br> Deep Sleep Time: 139 mins<br> Avg Heart Rate: 59 bpm",
          "Sleep Time: 421 mins<br> Deep Sleep Time: 137 mins<br> Avg Heart Rate: 57 bpm",
          "Sleep Time: 343 mins<br> Deep Sleep Time: 52 mins<br> Avg Heart Rate: 53 bpm",
          "Sleep Time: 368 mins<br> Deep Sleep Time: 119 mins<br> Avg Heart Rate: 57 bpm",
          "Sleep Time: 485 mins<br> Deep Sleep Time: 150 mins<br> Avg Heart Rate: 53 bpm",
          "Sleep Time: 409 mins<br> Deep Sleep Time: 82 mins<br> Avg Heart Rate: 59 bpm",
          "Sleep Time: 378 mins<br> Deep Sleep Time: 79 mins<br> Avg Heart Rate: 56 bpm",
          "Sleep Time: 395 mins<br> Deep Sleep Time: 64 mins<br> Avg Heart Rate: 53 bpm",
          "Sleep Time: 385 mins<br> Deep Sleep Time: 104 mins<br> Avg Heart Rate: 52 bpm",
          "Sleep Time: 365 mins<br> Deep Sleep Time: 97 mins<br> Avg Heart Rate: 53 bpm",
          "Sleep Time: 387 mins<br> Deep Sleep Time: 114 mins<br> Avg Heart Rate: 53 bpm",
          "Sleep Time: 300 mins<br> Deep Sleep Time: 108 mins<br> Avg Heart Rate: 52 bpm",
          "Sleep Time: 405 mins<br> Deep Sleep Time: 121 mins<br> Avg Heart Rate: 54 bpm",
          "Sleep Time: 375 mins<br> Deep Sleep Time: 67 mins<br> Avg Heart Rate: 54 bpm",
          "Sleep Time: 372 mins<br> Deep Sleep Time: 103 mins<br> Avg Heart Rate: 55 bpm",
          "Sleep Time: 360 mins<br> Deep Sleep Time: 52 mins<br> Avg Heart Rate: 52 bpm",
          "Sleep Time: 357 mins<br> Deep Sleep Time: 152 mins<br> Avg Heart Rate: 56 bpm",
          "Sleep Time: 410 mins<br> Deep Sleep Time: 131 mins<br> Avg Heart Rate: 55 bpm",
          "Sleep Time: 379 mins<br> Deep Sleep Time: 144 mins<br> Avg Heart Rate: 57 bpm",
          "Sleep Time: 370 mins<br> Deep Sleep Time: 115 mins<br> Avg Heart Rate: 56 bpm",
          "Sleep Time: 361 mins<br> Deep Sleep Time: 98 mins<br> Avg Heart Rate: 51 bpm",
          "Sleep Time: 371 mins<br> Deep Sleep Time: 113 mins<br> Avg Heart Rate: 53 bpm",
          "Sleep Time: 397 mins<br> Deep Sleep Time: 67 mins<br> Avg Heart Rate: 55 bpm",
          "Sleep Time: 375 mins<br> Deep Sleep Time: 131 mins<br> Avg Heart Rate: 59 bpm",
          "Sleep Time: 397 mins<br> Deep Sleep Time: 97 mins<br> Avg Heart Rate: 56 bpm",
          "Sleep Time: 516 mins<br> Deep Sleep Time: 108 mins<br> Avg Heart Rate: 60 bpm",
          "Sleep Time: 392 mins<br> Deep Sleep Time: 98 mins<br> Avg Heart Rate: 57 bpm",
          "Sleep Time: 425 mins<br> Deep Sleep Time: 113 mins<br> Avg Heart Rate: 55 bpm",
          "Sleep Time: 397 mins<br> Deep Sleep Time: 139 mins<br> Avg Heart Rate: 59 bpm",
          "Sleep Time: 358 mins<br> Deep Sleep Time: 107 mins<br> Avg Heart Rate: 52 bpm",
          "Sleep Time: 382 mins<br> Deep Sleep Time: 90 mins<br> Avg Heart Rate: 55 bpm",
          "Sleep Time: 286 mins<br> Deep Sleep Time: 55 mins<br> Avg Heart Rate: 59 bpm",
          "Sleep Time: 430 mins<br> Deep Sleep Time: 96 mins<br> Avg Heart Rate: 55 bpm",
          "Sleep Time: 415 mins<br> Deep Sleep Time: 57 mins<br> Avg Heart Rate: 67 bpm",
          "Sleep Time: 380 mins<br> Deep Sleep Time: 74 mins<br> Avg Heart Rate: 62 bpm",
          "Sleep Time: 406 mins<br> Deep Sleep Time: 109 mins<br> Avg Heart Rate: 58 bpm",
          "Sleep Time: 432 mins<br> Deep Sleep Time: 110 mins<br> Avg Heart Rate: 59 bpm",
          "Sleep Time: 385 mins<br> Deep Sleep Time: 115 mins<br> Avg Heart Rate: 59 bpm",
          "Sleep Time: 410 mins<br> Deep Sleep Time: 108 mins<br> Avg Heart Rate: 54 bpm",
          "Sleep Time: 330 mins<br> Deep Sleep Time: 85 mins<br> Avg Heart Rate: 61 bpm",
          "Sleep Time: 494 mins<br> Deep Sleep Time: 102 mins<br> Avg Heart Rate: 62 bpm",
          "Sleep Time: 380 mins<br> Deep Sleep Time: 125 mins<br> Avg Heart Rate: 61 bpm",
          "Sleep Time: 432 mins<br> Deep Sleep Time: 133 mins<br> Avg Heart Rate: 60 bpm",
          "Sleep Time: 422 mins<br> Deep Sleep Time: 107 mins<br> Avg Heart Rate: 55 bpm",
          "Sleep Time: 401 mins<br> Deep Sleep Time: 133 mins<br> Avg Heart Rate: 58 bpm",
          "Sleep Time: 395 mins<br> Deep Sleep Time: 84 mins<br> Avg Heart Rate: 55 bpm",
          "Sleep Time: 364 mins<br> Deep Sleep Time: 86 mins<br> Avg Heart Rate: 62 bpm",
          "Sleep Time: 407 mins<br> Deep Sleep Time: 83 mins<br> Avg Heart Rate: 60 bpm",
          "Sleep Time: 388 mins<br> Deep Sleep Time: 81 mins<br> Avg Heart Rate: 64 bpm",
          "Sleep Time: 417 mins<br> Deep Sleep Time: 122 mins<br> Avg Heart Rate: 59 bpm",
          "Sleep Time: 393 mins<br> Deep Sleep Time: 77 mins<br> Avg Heart Rate: 59 bpm",
          "Sleep Time: 306 mins<br> Deep Sleep Time: 53 mins<br> Avg Heart Rate: 54 bpm",
          "Sleep Time: 202 mins<br> Deep Sleep Time: 41 mins<br> Avg Heart Rate: 62 bpm",
          "Sleep Time: 319 mins<br> Deep Sleep Time: 133 mins<br> Avg Heart Rate: 60 bpm",
          "Sleep Time: 350 mins<br> Deep Sleep Time: 90 mins<br> Avg Heart Rate: 57 bpm",
          "Sleep Time: 320 mins<br> Deep Sleep Time: 105 mins<br> Avg Heart Rate: 50 bpm",
          "Sleep Time: 365 mins<br> Deep Sleep Time: 74 mins<br> Avg Heart Rate: 57 bpm",
          "Sleep Time: 413 mins<br> Deep Sleep Time: 114 mins<br> Avg Heart Rate: 57 bpm",
          "Sleep Time: 362 mins<br> Deep Sleep Time: 96 mins<br> Avg Heart Rate: 52 bpm",
          "Sleep Time: 341 mins<br> Deep Sleep Time: 102 mins<br> Avg Heart Rate: 57 bpm",
          "Sleep Time: 393 mins<br> Deep Sleep Time: 73 mins<br> Avg Heart Rate: 55 bpm",
          "Sleep Time: 336 mins<br> Deep Sleep Time: 108 mins<br> Avg Heart Rate: 52 bpm",
          "Sleep Time: 355 mins<br> Deep Sleep Time: 76 mins<br> Avg Heart Rate: 59 bpm",
          "Sleep Time: 411 mins<br> Deep Sleep Time: 122 mins<br> Avg Heart Rate: 58 bpm",
          "Sleep Time: 365 mins<br> Deep Sleep Time: 106 mins<br> Avg Heart Rate: 57 bpm",
          "Sleep Time: 370 mins<br> Deep Sleep Time: 105 mins<br> Avg Heart Rate: 54 bpm",
          "Sleep Time: 302 mins<br> Deep Sleep Time: 100 mins<br> Avg Heart Rate: 63 bpm",
          "Sleep Time: 461 mins<br> Deep Sleep Time: 169 mins<br> Avg Heart Rate: 57 bpm",
          "Sleep Time: 327 mins<br> Deep Sleep Time: 102 mins<br> Avg Heart Rate: 57 bpm",
          "Sleep Time: 384 mins<br> Deep Sleep Time: 81 mins<br> Avg Heart Rate: 53 bpm",
          "Sleep Time: 243 mins<br> Deep Sleep Time: 61 mins<br> Avg Heart Rate: 56 bpm",
          "Sleep Time: 380 mins<br> Deep Sleep Time: 125 mins<br> Avg Heart Rate: 54 bpm",
          "Sleep Time: 326 mins<br> Deep Sleep Time: 109 mins<br> Avg Heart Rate: 50 bpm",
          "Sleep Time: 295 mins<br> Deep Sleep Time: 83 mins<br> Avg Heart Rate: 62 bpm",
          "Sleep Time: 246 mins<br> Deep Sleep Time: 136 mins<br> Avg Heart Rate: 48 bpm",
          "Sleep Time: 402 mins<br> Deep Sleep Time: 118 mins<br> Avg Heart Rate: 54 bpm",
          "Sleep Time: 406 mins<br> Deep Sleep Time: 141 mins<br> Avg Heart Rate: 54 bpm",
          "Sleep Time: 334 mins<br> Deep Sleep Time: 129 mins<br> Avg Heart Rate: 54 bpm",
          "Sleep Time: 346 mins<br> Deep Sleep Time: 89 mins<br> Avg Heart Rate: 55 bpm",
          "Sleep Time: 341 mins<br> Deep Sleep Time: 131 mins<br> Avg Heart Rate: 51 bpm",
          "Sleep Time: 421 mins<br> Deep Sleep Time: 135 mins<br> Avg Heart Rate: 58 bpm",
          "Sleep Time: 411 mins<br> Deep Sleep Time: 178 mins<br> Avg Heart Rate: 53 bpm",
          "Sleep Time: 371 mins<br> Deep Sleep Time: 69 mins<br> Avg Heart Rate: 58 bpm",
          "Sleep Time: 397 mins<br> Deep Sleep Time: 64 mins<br> Avg Heart Rate: 54 bpm",
          "Sleep Time: 372 mins<br> Deep Sleep Time: 108 mins<br> Avg Heart Rate: 52 bpm",
          "Sleep Time: 359 mins<br> Deep Sleep Time: 111 mins<br> Avg Heart Rate: 55 bpm",
          "Sleep Time: 343 mins<br> Deep Sleep Time: 118 mins<br> Avg Heart Rate: 55 bpm",
          "Sleep Time: 255 mins<br> Deep Sleep Time: 30 mins<br> Avg Heart Rate: 54 bpm",
          "Sleep Time: 350 mins<br> Deep Sleep Time: 67 mins<br> Avg Heart Rate: 57 bpm",
          "Sleep Time: 366 mins<br> Deep Sleep Time: 115 mins<br> Avg Heart Rate: 58 bpm",
          "Sleep Time: 340 mins<br> Deep Sleep Time: 89 mins<br> Avg Heart Rate: 56 bpm",
          "Sleep Time: 396 mins<br> Deep Sleep Time: 50 mins<br> Avg Heart Rate: 60 bpm",
          "Sleep Time: 337 mins<br> Deep Sleep Time: 62 mins<br> Avg Heart Rate: 57 bpm",
          "Sleep Time: 442 mins<br> Deep Sleep Time: 66 mins<br> Avg Heart Rate: 54 bpm",
          "Sleep Time: 353 mins<br> Deep Sleep Time: 139 mins<br> Avg Heart Rate: 59 bpm",
          "Sleep Time: 432 mins<br> Deep Sleep Time: 105 mins<br> Avg Heart Rate: 62 bpm",
          "Sleep Time: 352 mins<br> Deep Sleep Time: 109 mins<br> Avg Heart Rate: 59 bpm",
          "Sleep Time: 382 mins<br> Deep Sleep Time: 91 mins<br> Avg Heart Rate: 64 bpm",
          "Sleep Time: 367 mins<br> Deep Sleep Time: 106 mins<br> Avg Heart Rate: 58 bpm",
          "Sleep Time: 433 mins<br> Deep Sleep Time: 164 mins<br> Avg Heart Rate: 57 bpm",
          "Sleep Time: 240 mins<br> Deep Sleep Time: 76 mins<br> Avg Heart Rate: 53 bpm",
          "Sleep Time: 344 mins<br> Deep Sleep Time: 142 mins<br> Avg Heart Rate: 51 bpm",
          "Sleep Time: 357 mins<br> Deep Sleep Time: 43 mins<br> Avg Heart Rate: 54 bpm",
          "Sleep Time: 451 mins<br> Deep Sleep Time: 81 mins<br> Avg Heart Rate: 58 bpm",
          "Sleep Time: 416 mins<br> Deep Sleep Time: 71 mins<br> Avg Heart Rate: 56 bpm",
          "Sleep Time: 311 mins<br> Deep Sleep Time: 100 mins<br> Avg Heart Rate: 58 bpm",
          "Sleep Time: 439 mins<br> Deep Sleep Time: 85 mins<br> Avg Heart Rate: 54 bpm",
          "Sleep Time: 389 mins<br> Deep Sleep Time: 114 mins<br> Avg Heart Rate: 52 bpm",
          "Sleep Time: 453 mins<br> Deep Sleep Time: 80 mins<br> Avg Heart Rate: 55 bpm",
          "Sleep Time: 450 mins<br> Deep Sleep Time: 85 mins<br> Avg Heart Rate: 61 bpm",
          "Sleep Time: 345 mins<br> Deep Sleep Time: 23 mins<br> Avg Heart Rate: 56 bpm",
          "Sleep Time: 454 mins<br> Deep Sleep Time: 127 mins<br> Avg Heart Rate: 59 bpm",
          "Sleep Time: 385 mins<br> Deep Sleep Time: 80 mins<br> Avg Heart Rate: 58 bpm",
          "Sleep Time: 357 mins<br> Deep Sleep Time: 76 mins<br> Avg Heart Rate: 58 bpm",
          "Sleep Time: 346 mins<br> Deep Sleep Time: 74 mins<br> Avg Heart Rate: 61 bpm",
          "Sleep Time: 340 mins<br> Deep Sleep Time: 68 mins<br> Avg Heart Rate: 57 bpm",
          "Sleep Time: 346 mins<br> Deep Sleep Time: 73 mins<br> Avg Heart Rate: 66 bpm",
          "Sleep Time: 339 mins<br> Deep Sleep Time: 95 mins<br> Avg Heart Rate: 59 bpm",
          "Sleep Time: 445 mins<br> Deep Sleep Time: 43 mins<br> Avg Heart Rate: 58 bpm",
          "Sleep Time: 420 mins<br> Deep Sleep Time: 104 mins<br> Avg Heart Rate: 62 bpm",
          "Sleep Time: 299 mins<br> Deep Sleep Time: 92 mins<br> Avg Heart Rate: 62 bpm",
          "Sleep Time: 487 mins<br> Deep Sleep Time: 71 mins<br> Avg Heart Rate: 61 bpm",
          "Sleep Time: 511 mins<br> Deep Sleep Time: 114 mins<br> Avg Heart Rate: 64 bpm",
          "Sleep Time: 440 mins<br> Deep Sleep Time: 192 mins<br> Avg Heart Rate: 62 bpm",
          "Sleep Time: 432 mins<br> Deep Sleep Time: 118 mins<br> Avg Heart Rate: 64 bpm",
          "Sleep Time: 404 mins<br> Deep Sleep Time: 106 mins<br> Avg Heart Rate: 60 bpm",
          "Sleep Time: 378 mins<br> Deep Sleep Time: 99 mins<br> Avg Heart Rate: 60 bpm",
          "Sleep Time: 460 mins<br> Deep Sleep Time: 122 mins<br> Avg Heart Rate: 65 bpm",
          "Sleep Time: 401 mins<br> Deep Sleep Time: 108 mins<br> Avg Heart Rate: 61 bpm",
          "Sleep Time: 482 mins<br> Deep Sleep Time: 188 mins<br> Avg Heart Rate: 60 bpm",
          "Sleep Time: 458 mins<br> Deep Sleep Time: 134 mins<br> Avg Heart Rate: 69 bpm",
          "Sleep Time: 387 mins<br> Deep Sleep Time: 118 mins<br> Avg Heart Rate: 63 bpm",
          "Sleep Time: 419 mins<br> Deep Sleep Time: 45 mins<br> Avg Heart Rate: 61 bpm",
          "Sleep Time: 388 mins<br> Deep Sleep Time: 97 mins<br> Avg Heart Rate: 59 bpm",
          "Sleep Time: 366 mins<br> Deep Sleep Time: 80 mins<br> Avg Heart Rate: 60 bpm",
          "Sleep Time: 298 mins<br> Deep Sleep Time: 55 mins<br> Avg Heart Rate: 57 bpm",
          "Sleep Time: 422 mins<br> Deep Sleep Time: 76 mins<br> Avg Heart Rate: 58 bpm",
          "Sleep Time: 354 mins<br> Deep Sleep Time: 88 mins<br> Avg Heart Rate: 56 bpm",
          "Sleep Time: 350 mins<br> Deep Sleep Time: 47 mins<br> Avg Heart Rate: 62 bpm",
          "Sleep Time: 452 mins<br> Deep Sleep Time: 91 mins<br> Avg Heart Rate: 63 bpm",
          "Sleep Time: 373 mins<br> Deep Sleep Time: 88 mins<br> Avg Heart Rate: 66 bpm",
          "Sleep Time: 284 mins<br> Deep Sleep Time: 110 mins<br> Avg Heart Rate: 52 bpm",
          "Sleep Time: 426 mins<br> Deep Sleep Time: 120 mins<br> Avg Heart Rate: 60 bpm",
          "Sleep Time: 353 mins<br> Deep Sleep Time: 99 mins<br> Avg Heart Rate: 59 bpm",
          "Sleep Time: 240 mins<br> Deep Sleep Time: 102 mins<br> Avg Heart Rate: 62 bpm",
          "Sleep Time: 419 mins<br> Deep Sleep Time: 50 mins<br> Avg Heart Rate: 64 bpm",
          "Sleep Time: 393 mins<br> Deep Sleep Time: 118 mins<br> Avg Heart Rate: 65 bpm",
          "Sleep Time: 417 mins<br> Deep Sleep Time: 100 mins<br> Avg Heart Rate: 59 bpm",
          "Sleep Time: 353 mins<br> Deep Sleep Time: 37 mins<br> Avg Heart Rate: 61 bpm",
          "Sleep Time: 378 mins<br> Deep Sleep Time: 135 mins<br> Avg Heart Rate: 60 bpm",
          "Sleep Time: 284 mins<br> Deep Sleep Time: 67 mins<br> Avg Heart Rate: 57 bpm",
          "Sleep Time: 440 mins<br> Deep Sleep Time: 112 mins<br> Avg Heart Rate: 60 bpm",
          "Sleep Time: 387 mins<br> Deep Sleep Time: 94 mins<br> Avg Heart Rate: 68 bpm",
          "Sleep Time: 390 mins<br> Deep Sleep Time: 85 mins<br> Avg Heart Rate: 60 bpm",
          "Sleep Time: 362 mins<br> Deep Sleep Time: 124 mins<br> Avg Heart Rate: 61 bpm",
          "Sleep Time: 218 mins<br> Deep Sleep Time: 79 mins<br> Avg Heart Rate: 57 bpm",
          "Sleep Time: 455 mins<br> Deep Sleep Time: 147 mins<br> Avg Heart Rate: 65 bpm",
          "Sleep Time: 301 mins<br> Deep Sleep Time: 88 mins<br> Avg Heart Rate: 55 bpm",
          "Sleep Time: 207 mins<br> Deep Sleep Time: 78 mins<br> Avg Heart Rate: 55 bpm",
          "Sleep Time: 417 mins<br> Deep Sleep Time: 120 mins<br> Avg Heart Rate: 58 bpm",
          "Sleep Time: 378 mins<br> Deep Sleep Time: 99 mins<br> Avg Heart Rate: 59 bpm",
          "Sleep Time: 322 mins<br> Deep Sleep Time: 118 mins<br> Avg Heart Rate: 54 bpm",
          "Sleep Time: 363 mins<br> Deep Sleep Time: 117 mins<br> Avg Heart Rate: 55 bpm",
          "Sleep Time: 364 mins<br> Deep Sleep Time: 106 mins<br> Avg Heart Rate: 63 bpm",
          "Sleep Time: 491 mins<br> Deep Sleep Time: 70 mins<br> Avg Heart Rate: 65 bpm",
          "Sleep Time: 340 mins<br> Deep Sleep Time: 118 mins<br> Avg Heart Rate: 62 bpm",
          "Sleep Time: 399 mins<br> Deep Sleep Time: 93 mins<br> Avg Heart Rate: 62 bpm",
          "Sleep Time: 353 mins<br> Deep Sleep Time: 74 mins<br> Avg Heart Rate: 58 bpm",
          "Sleep Time: 412 mins<br> Deep Sleep Time: 127 mins<br> Avg Heart Rate: 63 bpm",
          "Sleep Time: 360 mins<br> Deep Sleep Time: 79 mins<br> Avg Heart Rate: 60 bpm",
          "Sleep Time: 435 mins<br> Deep Sleep Time: 66 mins<br> Avg Heart Rate: 57 bpm",
          "Sleep Time: 438 mins<br> Deep Sleep Time: 84 mins<br> Avg Heart Rate: 60 bpm",
          "Sleep Time: 429 mins<br> Deep Sleep Time: 144 mins<br> Avg Heart Rate: 56 bpm",
          "Sleep Time: 209 mins<br> Deep Sleep Time: 55 mins<br> Avg Heart Rate: 51 bpm",
          "Sleep Time: 342 mins<br> Deep Sleep Time: 94 mins<br> Avg Heart Rate: 50 bpm",
          "Sleep Time: 360 mins<br> Deep Sleep Time: 118 mins<br> Avg Heart Rate: 63 bpm",
          "Sleep Time: 393 mins<br> Deep Sleep Time: 54 mins<br> Avg Heart Rate: 57 bpm",
          "Sleep Time: 463 mins<br> Deep Sleep Time: 111 mins<br> Avg Heart Rate: 58 bpm",
          "Sleep Time: 323 mins<br> Deep Sleep Time: 42 mins<br> Avg Heart Rate: 56 bpm",
          "Sleep Time: 403 mins<br> Deep Sleep Time: 76 mins<br> Avg Heart Rate: 56 bpm",
          "Sleep Time: 417 mins<br> Deep Sleep Time: 83 mins<br> Avg Heart Rate: 52 bpm",
          "Sleep Time: 337 mins<br> Deep Sleep Time: 99 mins<br> Avg Heart Rate: 53 bpm",
          "Sleep Time: 357 mins<br> Deep Sleep Time: 124 mins<br> Avg Heart Rate: 57 bpm",
          "Sleep Time: 444 mins<br> Deep Sleep Time: 88 mins<br> Avg Heart Rate: 51 bpm",
          "Sleep Time: 377 mins<br> Deep Sleep Time: 50 mins<br> Avg Heart Rate: 51 bpm",
          "Sleep Time: 441 mins<br> Deep Sleep Time: 163 mins<br> Avg Heart Rate: 55 bpm",
          "Sleep Time: 365 mins<br> Deep Sleep Time: 122 mins<br> Avg Heart Rate: 59 bpm",
          "Sleep Time: 381 mins<br> Deep Sleep Time: 87 mins<br> Avg Heart Rate: 53 bpm",
          "Sleep Time: 404 mins<br> Deep Sleep Time: 0 mins<br> Avg Heart Rate: 55 bpm",
          "Sleep Time: 352 mins<br> Deep Sleep Time: 94 mins<br> Avg Heart Rate: 57 bpm",
          "Sleep Time: 399 mins<br> Deep Sleep Time: 170 mins<br> Avg Heart Rate: 58 bpm",
          "Sleep Time: 499 mins<br> Deep Sleep Time: 114 mins<br> Avg Heart Rate: 59 bpm",
          "Sleep Time: 295 mins<br> Deep Sleep Time: 109 mins<br> Avg Heart Rate: 56 bpm",
          "Sleep Time: 427 mins<br> Deep Sleep Time: 116 mins<br> Avg Heart Rate: 61 bpm",
          "Sleep Time: 471 mins<br> Deep Sleep Time: 148 mins<br> Avg Heart Rate: 60 bpm",
          "Sleep Time: 385 mins<br> Deep Sleep Time: 102 mins<br> Avg Heart Rate: 63 bpm",
          "Sleep Time: 461 mins<br> Deep Sleep Time: 89 mins<br> Avg Heart Rate: 56 bpm",
          "Sleep Time: 452 mins<br> Deep Sleep Time: 91 mins<br> Avg Heart Rate: 57 bpm",
          "Sleep Time: 431 mins<br> Deep Sleep Time: 107 mins<br> Avg Heart Rate: 66 bpm",
          "Sleep Time: 455 mins<br> Deep Sleep Time: 135 mins<br> Avg Heart Rate: 61 bpm",
          "Sleep Time: 406 mins<br> Deep Sleep Time: 96 mins<br> Avg Heart Rate: 66 bpm",
          "Sleep Time: 456 mins<br> Deep Sleep Time: 137 mins<br> Avg Heart Rate: 63 bpm",
          "Sleep Time: 417 mins<br> Deep Sleep Time: 129 mins<br> Avg Heart Rate: 59 bpm",
          "Sleep Time: 398 mins<br> Deep Sleep Time: 72 mins<br> Avg Heart Rate: 61 bpm",
          "Sleep Time: 500 mins<br> Deep Sleep Time: 152 mins<br> Avg Heart Rate: 51 bpm",
          "Sleep Time: 354 mins<br> Deep Sleep Time: 96 mins<br> Avg Heart Rate: 57 bpm",
          "Sleep Time: 427 mins<br> Deep Sleep Time: 140 mins<br> Avg Heart Rate: 55 bpm",
          "Sleep Time: 336 mins<br> Deep Sleep Time: 83 mins<br> Avg Heart Rate: 56 bpm",
          "Sleep Time: 538 mins<br> Deep Sleep Time: 146 mins<br> Avg Heart Rate: 55 bpm"
         ],
         "type": "scatter",
         "x": [
          "2021-11-23T00:00:00",
          "2021-11-24T00:00:00",
          "2021-11-25T00:00:00",
          "2021-11-26T00:00:00",
          "2021-11-27T00:00:00",
          "2021-11-28T00:00:00",
          "2021-11-29T00:00:00",
          "2021-11-30T00:00:00",
          "2021-12-01T00:00:00",
          "2021-12-02T00:00:00",
          "2021-12-03T00:00:00",
          "2021-12-04T00:00:00",
          "2021-12-05T00:00:00",
          "2021-12-06T00:00:00",
          "2021-12-07T00:00:00",
          "2021-12-08T00:00:00",
          "2021-12-09T00:00:00",
          "2021-12-10T00:00:00",
          "2021-12-11T00:00:00",
          "2021-12-12T00:00:00",
          "2021-12-13T00:00:00",
          "2021-12-14T00:00:00",
          "2021-12-15T00:00:00",
          "2021-12-16T00:00:00",
          "2021-12-17T00:00:00",
          "2021-12-18T00:00:00",
          "2021-12-19T00:00:00",
          "2021-12-20T00:00:00",
          "2021-12-21T00:00:00",
          "2021-12-22T00:00:00",
          "2021-12-23T00:00:00",
          "2021-12-24T00:00:00",
          "2021-12-25T00:00:00",
          "2021-12-26T00:00:00",
          "2021-12-27T00:00:00",
          "2021-12-28T00:00:00",
          "2021-12-29T00:00:00",
          "2021-12-30T00:00:00",
          "2021-12-31T00:00:00",
          "2022-01-01T00:00:00",
          "2022-01-02T00:00:00",
          "2022-01-03T00:00:00",
          "2022-01-04T00:00:00",
          "2022-01-05T00:00:00",
          "2022-01-06T00:00:00",
          "2022-01-07T00:00:00",
          "2022-01-08T00:00:00",
          "2022-01-09T00:00:00",
          "2022-01-10T00:00:00",
          "2022-01-11T00:00:00",
          "2022-01-12T00:00:00",
          "2022-01-13T00:00:00",
          "2022-01-14T00:00:00",
          "2022-01-15T00:00:00",
          "2022-01-16T00:00:00",
          "2022-01-17T00:00:00",
          "2022-01-18T00:00:00",
          "2022-01-19T00:00:00",
          "2022-01-20T00:00:00",
          "2022-01-21T00:00:00",
          "2022-01-22T00:00:00",
          "2022-01-23T00:00:00",
          "2022-01-24T00:00:00",
          "2022-01-25T00:00:00",
          "2022-01-26T00:00:00",
          "2022-01-27T00:00:00",
          "2022-01-28T00:00:00",
          "2022-01-29T00:00:00",
          "2022-01-30T00:00:00",
          "2022-01-31T00:00:00",
          "2022-02-01T00:00:00",
          "2022-02-02T00:00:00",
          "2022-02-03T00:00:00",
          "2022-02-04T00:00:00",
          "2022-02-05T00:00:00",
          "2022-02-06T00:00:00",
          "2022-02-07T00:00:00",
          "2022-02-08T00:00:00",
          "2022-02-09T00:00:00",
          "2022-02-10T00:00:00",
          "2022-02-11T00:00:00",
          "2022-02-12T00:00:00",
          "2022-02-13T00:00:00",
          "2022-02-14T00:00:00",
          "2022-02-15T00:00:00",
          "2022-02-16T00:00:00",
          "2022-02-17T00:00:00",
          "2022-02-18T00:00:00",
          "2022-02-19T00:00:00",
          "2022-02-20T00:00:00",
          "2022-02-21T00:00:00",
          "2022-02-22T00:00:00",
          "2022-02-23T00:00:00",
          "2022-02-24T00:00:00",
          "2022-02-25T00:00:00",
          "2022-02-26T00:00:00",
          "2022-02-27T00:00:00",
          "2022-02-28T00:00:00",
          "2022-03-01T00:00:00",
          "2022-03-02T00:00:00",
          "2022-03-03T00:00:00",
          "2022-03-04T00:00:00",
          "2022-03-05T00:00:00",
          "2022-03-07T00:00:00",
          "2022-03-08T00:00:00",
          "2022-03-09T00:00:00",
          "2022-03-10T00:00:00",
          "2022-03-11T00:00:00",
          "2022-03-12T00:00:00",
          "2022-03-13T00:00:00",
          "2022-03-14T00:00:00",
          "2022-03-15T00:00:00",
          "2022-03-16T00:00:00",
          "2022-03-17T00:00:00",
          "2022-03-18T00:00:00",
          "2022-03-19T00:00:00",
          "2022-03-20T00:00:00",
          "2022-03-21T00:00:00",
          "2022-03-22T00:00:00",
          "2022-03-23T00:00:00",
          "2022-03-24T00:00:00",
          "2022-03-25T00:00:00",
          "2022-03-26T00:00:00",
          "2022-03-27T00:00:00",
          "2022-03-28T00:00:00",
          "2022-03-29T00:00:00",
          "2022-03-30T00:00:00",
          "2022-03-31T00:00:00",
          "2022-04-01T00:00:00",
          "2022-04-02T00:00:00",
          "2022-04-03T00:00:00",
          "2022-04-04T00:00:00",
          "2022-04-05T00:00:00",
          "2022-04-06T00:00:00",
          "2022-04-07T00:00:00",
          "2022-04-08T00:00:00",
          "2022-04-09T00:00:00",
          "2022-04-10T00:00:00",
          "2022-04-11T00:00:00",
          "2022-04-12T00:00:00",
          "2022-04-13T00:00:00",
          "2022-04-14T00:00:00",
          "2022-04-15T00:00:00",
          "2022-04-16T00:00:00",
          "2022-04-17T00:00:00",
          "2022-04-18T00:00:00",
          "2022-04-19T00:00:00",
          "2022-04-20T00:00:00",
          "2022-04-21T00:00:00",
          "2022-04-22T00:00:00",
          "2022-04-23T00:00:00",
          "2022-04-24T00:00:00",
          "2022-04-25T00:00:00",
          "2022-04-26T00:00:00",
          "2022-04-27T00:00:00",
          "2022-04-28T00:00:00",
          "2022-04-29T00:00:00",
          "2022-04-30T00:00:00",
          "2022-05-01T00:00:00",
          "2022-05-02T00:00:00",
          "2022-05-03T00:00:00",
          "2022-05-04T00:00:00",
          "2022-05-05T00:00:00",
          "2022-05-06T00:00:00",
          "2022-05-07T00:00:00",
          "2022-05-08T00:00:00",
          "2022-05-09T00:00:00",
          "2022-05-10T00:00:00",
          "2022-05-11T00:00:00",
          "2022-05-12T00:00:00",
          "2022-05-13T00:00:00",
          "2022-05-14T00:00:00",
          "2022-05-15T00:00:00",
          "2022-05-16T00:00:00",
          "2022-05-17T00:00:00",
          "2022-05-18T00:00:00",
          "2022-05-19T00:00:00",
          "2022-05-20T00:00:00",
          "2022-05-21T00:00:00",
          "2022-05-22T00:00:00",
          "2022-05-23T00:00:00",
          "2022-05-24T00:00:00",
          "2022-05-25T00:00:00",
          "2022-05-26T00:00:00",
          "2022-05-27T00:00:00",
          "2022-05-28T00:00:00",
          "2022-05-29T00:00:00",
          "2022-05-30T00:00:00",
          "2022-05-31T00:00:00",
          "2022-06-01T00:00:00",
          "2022-06-02T00:00:00",
          "2022-06-03T00:00:00",
          "2022-06-04T00:00:00",
          "2022-06-05T00:00:00",
          "2022-06-06T00:00:00",
          "2022-06-07T00:00:00",
          "2022-06-08T00:00:00",
          "2022-06-09T00:00:00",
          "2022-06-10T00:00:00",
          "2022-06-11T00:00:00",
          "2022-06-12T00:00:00",
          "2022-06-13T00:00:00",
          "2022-06-14T00:00:00",
          "2022-06-15T00:00:00",
          "2022-06-16T00:00:00",
          "2022-06-17T00:00:00",
          "2022-06-18T00:00:00",
          "2022-06-19T00:00:00",
          "2022-06-20T00:00:00",
          "2022-06-22T00:00:00",
          "2022-06-23T00:00:00",
          "2022-06-24T00:00:00",
          "2022-06-25T00:00:00",
          "2022-06-26T00:00:00",
          "2022-06-27T00:00:00",
          "2022-06-28T00:00:00",
          "2022-06-29T00:00:00",
          "2022-06-30T00:00:00",
          "2022-07-01T00:00:00",
          "2022-07-02T00:00:00",
          "2022-07-03T00:00:00",
          "2022-07-04T00:00:00",
          "2022-07-05T00:00:00",
          "2022-07-06T00:00:00",
          "2022-07-07T00:00:00",
          "2022-07-08T00:00:00",
          "2022-07-09T00:00:00",
          "2022-07-10T00:00:00",
          "2022-07-11T00:00:00",
          "2022-07-12T00:00:00",
          "2022-07-13T00:00:00",
          "2022-07-14T00:00:00",
          "2022-07-15T00:00:00",
          "2022-07-16T00:00:00",
          "2022-07-17T00:00:00",
          "2022-07-18T00:00:00",
          "2022-07-19T00:00:00",
          "2022-07-20T00:00:00",
          "2022-07-21T00:00:00",
          "2022-07-22T00:00:00",
          "2022-07-23T00:00:00",
          "2022-07-24T00:00:00",
          "2022-07-25T00:00:00",
          "2022-07-26T00:00:00",
          "2022-07-27T00:00:00",
          "2022-07-28T00:00:00",
          "2022-07-29T00:00:00",
          "2022-07-30T00:00:00",
          "2022-07-31T00:00:00",
          "2022-08-01T00:00:00",
          "2022-08-02T00:00:00",
          "2022-08-03T00:00:00",
          "2022-08-04T00:00:00",
          "2022-08-05T00:00:00",
          "2022-08-06T00:00:00",
          "2022-08-07T00:00:00",
          "2022-08-08T00:00:00",
          "2022-08-09T00:00:00",
          "2022-08-10T00:00:00",
          "2022-08-11T00:00:00",
          "2022-08-12T00:00:00",
          "2022-08-13T00:00:00",
          "2022-08-14T00:00:00",
          "2022-08-15T00:00:00",
          "2022-08-16T00:00:00",
          "2022-08-17T00:00:00",
          "2022-08-18T00:00:00",
          "2022-08-19T00:00:00",
          "2022-08-20T00:00:00",
          "2022-08-21T00:00:00",
          "2022-08-22T00:00:00",
          "2022-08-23T00:00:00",
          "2022-08-24T00:00:00",
          "2022-08-25T00:00:00",
          "2022-08-26T00:00:00",
          "2022-08-27T00:00:00",
          "2022-08-28T00:00:00",
          "2022-08-29T00:00:00",
          "2022-08-30T00:00:00",
          "2022-08-31T00:00:00",
          "2022-09-01T00:00:00",
          "2022-09-02T00:00:00",
          "2022-09-03T00:00:00",
          "2022-09-04T00:00:00",
          "2022-09-05T00:00:00",
          "2022-09-06T00:00:00",
          "2022-09-07T00:00:00",
          "2022-09-08T00:00:00",
          "2022-09-09T00:00:00",
          "2022-09-10T00:00:00",
          "2022-09-11T00:00:00",
          "2022-09-12T00:00:00",
          "2022-09-13T00:00:00",
          "2022-09-14T00:00:00",
          "2022-09-15T00:00:00",
          "2022-09-16T00:00:00",
          "2022-09-19T00:00:00",
          "2022-09-20T00:00:00",
          "2022-09-21T00:00:00",
          "2022-09-22T00:00:00",
          "2022-09-23T00:00:00",
          "2022-09-24T00:00:00",
          "2022-09-25T00:00:00",
          "2022-09-26T00:00:00",
          "2022-09-27T00:00:00",
          "2022-09-28T00:00:00",
          "2022-09-29T00:00:00",
          "2022-09-30T00:00:00",
          "2022-10-02T00:00:00",
          "2022-10-03T00:00:00",
          "2022-10-04T00:00:00",
          "2022-10-05T00:00:00",
          "2022-10-06T00:00:00",
          "2022-10-07T00:00:00",
          "2022-10-08T00:00:00",
          "2022-10-09T00:00:00",
          "2022-10-10T00:00:00",
          "2022-10-11T00:00:00",
          "2022-10-12T00:00:00",
          "2022-10-13T00:00:00",
          "2022-10-14T00:00:00",
          "2022-10-15T00:00:00",
          "2022-10-16T00:00:00",
          "2022-10-17T00:00:00",
          "2022-10-18T00:00:00",
          "2022-10-19T00:00:00",
          "2022-10-20T00:00:00",
          "2022-10-21T00:00:00",
          "2022-10-22T00:00:00",
          "2022-10-23T00:00:00",
          "2022-10-24T00:00:00",
          "2022-10-25T00:00:00",
          "2022-10-26T00:00:00",
          "2022-10-27T00:00:00",
          "2022-10-28T00:00:00",
          "2022-10-29T00:00:00",
          "2022-10-30T00:00:00",
          "2022-10-31T00:00:00",
          "2022-11-01T00:00:00",
          "2022-11-02T00:00:00",
          "2022-11-03T00:00:00",
          "2022-11-04T00:00:00",
          "2022-11-05T00:00:00",
          "2022-11-06T00:00:00",
          "2022-11-07T00:00:00",
          "2022-11-08T00:00:00",
          "2022-11-09T00:00:00",
          "2022-11-10T00:00:00",
          "2022-11-11T00:00:00"
         ],
         "y": [
          null,
          null,
          null,
          null,
          null,
          null,
          null,
          null,
          null,
          null,
          null,
          null,
          null,
          null,
          null,
          null,
          null,
          null,
          null,
          null,
          null,
          null,
          null,
          null,
          null,
          null,
          null,
          null,
          null,
          410.3666666666667,
          412.76666666666665,
          412.9,
          414.6666666666667,
          412.93333333333334,
          413.76666666666665,
          413.3666666666667,
          411.4,
          408.6,
          407.26666666666665,
          404.46666666666664,
          399.56666666666666,
          399.76666666666665,
          401,
          405.23333333333335,
          408.46666666666664,
          409.96666666666664,
          410.23333333333335,
          409.93333333333334,
          409.26666666666665,
          411.06666666666666,
          415.3333333333333,
          414.46666666666664,
          412.3333333333333,
          411.43333333333334,
          410.3,
          407,
          409.43333333333334,
          407.23333333333335,
          406.3333333333333,
          402.3666666666667,
          401.73333333333335,
          396.76666666666665,
          395,
          396.53333333333336,
          394.2,
          395.8,
          393.1666666666667,
          392.53333333333336,
          392.03333333333336,
          396.1666666666667,
          402.8333333333333,
          397.6,
          397.1666666666667,
          392.93333333333334,
          390.3666666666667,
          388.6,
          388.9,
          386.3333333333333,
          385.1333333333333,
          384,
          383.53333333333336,
          382.76666666666665,
          386,
          385.26666666666665,
          386.7,
          385,
          383.8333333333333,
          380.93333333333334,
          378.26666666666665,
          375.5,
          375.06666666666666,
          373.5,
          374,
          375.46666666666664,
          377.6,
          373.8666666666667,
          377.1333333333333,
          378.73333333333335,
          378.1,
          375.3,
          374.8,
          372.9,
          370.8666666666667,
          373.8666666666667,
          371.4,
          368.8666666666667,
          372.3666666666667,
          373.3,
          374.96666666666664,
          374.06666666666666,
          373.4,
          375.56666666666666,
          374.2,
          375.8666666666667,
          370.6333333333333,
          373.06666666666666,
          370.6,
          377.93333333333334,
          381.23333333333335,
          383.5,
          384.73333333333335,
          388.53333333333336,
          389.1333333333333,
          390.03333333333336,
          389.5,
          394.43333333333334,
          392.1666666666667,
          393.2,
          394.03333333333336,
          396.8,
          397.7,
          403.03333333333336,
          403.4,
          402.2,
          404.8333333333333,
          409.73333333333335,
          406.3666666666667,
          406.73333333333335,
          407.06666666666666,
          408.93333333333334,
          407.93333333333334,
          407.23333333333335,
          404.8,
          403.26666666666665,
          409.7,
          410.6666666666667,
          412.03333333333336,
          407.6666666666667,
          405.56666666666666,
          405.6,
          405.43333333333334,
          402,
          401.46666666666664,
          398.96666666666664,
          397.76666666666665,
          395.56666666666666,
          394.8333333333333,
          394.6,
          395.1333333333333,
          393.5,
          390.53333333333336,
          389.1333333333333,
          389.5,
          388,
          388.93333333333334,
          391.26666666666665,
          390.76666666666665,
          390.93333333333334,
          389.9,
          388.2,
          387.8333333333333,
          383.3333333333333,
          386.23333333333335,
          387.8,
          384.3,
          384.2,
          386,
          385.6666666666667,
          386.5,
          385.3333333333333,
          388.9,
          391.56666666666666,
          392.46666666666664,
          394.03333333333336,
          395,
          396.1666666666667,
          396.4,
          396.3,
          396.6,
          398.1666666666667,
          399.23333333333335,
          397.06666666666666,
          390.56666666666666,
          388.7,
          387.1333333333333,
          380.6,
          379.7,
          379.3,
          378.1333333333333,
          377.56666666666666,
          377.93333333333334,
          379.6,
          377.1,
          376.96666666666664,
          376.46666666666664,
          375.26666666666665,
          370.93333333333334,
          373.46666666666664,
          370.7,
          372.5,
          364.1333333333333,
          364.1333333333333,
          360.6,
          356.3666666666667,
          351.2,
          351.43333333333334,
          352.8333333333333,
          350.4,
          349,
          346.46666666666664,
          347.4,
          350.9,
          356.53333333333336,
          359.1333333333333,
          359.8666666666667,
          361.1666666666667,
          360.43333333333334,
          355.1666666666667,
          354.76666666666665,
          355.6,
          353.8333333333333,
          355.8333333333333,
          355.23333333333335,
          356.26666666666665,
          355.8666666666667,
          357.93333333333334,
          359.6,
          356.96666666666664,
          358.3,
          359.93333333333334,
          359.8333333333333,
          358.6333333333333,
          359.6666666666667,
          364.8666666666667,
          370.53333333333336,
          367.5,
          368.6,
          370.43333333333334,
          374,
          377.6333333333333,
          375.1,
          376.53333333333336,
          377,
          375.6666666666667,
          374.8,
          374.1666666666667,
          374.26666666666665,
          377.06666666666666,
          380.23333333333335,
          382.03333333333336,
          380.6666666666667,
          383.7,
          389.5,
          389.43333333333334,
          392.06666666666666,
          391.1333333333333,
          392,
          394.6,
          395.73333333333335,
          397.3666666666667,
          404.6333333333333,
          406.06666666666666,
          408.1333333333333,
          406.03333333333336,
          404.3666666666667,
          403.93333333333334,
          403.3666666666667,
          402.2,
          398.76666666666665,
          398.8333333333333,
          399.76666666666665,
          394.1,
          395.46666666666664,
          395.3333333333333,
          391.8,
          394.43333333333334,
          396,
          398.6,
          395.53333333333336,
          394.1333333333333,
          393.6333333333333,
          392.06666666666666,
          387.93333333333334,
          386.26666666666665,
          383.93333333333334,
          377.73333333333335,
          380.3,
          375,
          368.53333333333336,
          366.3666666666667,
          363.7,
          361.53333333333336,
          359.6666666666667,
          358.8666666666667,
          363.03333333333336,
          364.43333333333334,
          363.6666666666667,
          363.6333333333333,
          365.7,
          362.6333333333333,
          364.7,
          369.8333333333333,
          369.93333333333334,
          365.1333333333333,
          368.53333333333336,
          366.56666666666666,
          366.56666666666666,
          368.1,
          367.1,
          367.93333333333334,
          372.3666666666667,
          368.93333333333334,
          367.93333333333334,
          369.73333333333335,
          370.23333333333335,
          377.6666666666667,
          374.6666666666667,
          377.3333333333333,
          383.9,
          381.73333333333335,
          382.43333333333334,
          388.3333333333333,
          386.06666666666666,
          388.1666666666667,
          387.5,
          389,
          391.06666666666666,
          394.3666666666667,
          395,
          398.1666666666667,
          397.2,
          397.8,
          397.4,
          403.7,
          408.96666666666664,
          408.76666666666665,
          409.9,
          405.6666666666667,
          412.8333333333333
         ]
        }
       ],
       "layout": {
        "autosize": true,
        "template": {
         "data": {
          "bar": [
           {
            "error_x": {
             "color": "#f2f5fa"
            },
            "error_y": {
             "color": "#f2f5fa"
            },
            "marker": {
             "line": {
              "color": "rgb(17,17,17)",
              "width": 0.5
             },
             "pattern": {
              "fillmode": "overlay",
              "size": 10,
              "solidity": 0.2
             }
            },
            "type": "bar"
           }
          ],
          "barpolar": [
           {
            "marker": {
             "line": {
              "color": "rgb(17,17,17)",
              "width": 0.5
             },
             "pattern": {
              "fillmode": "overlay",
              "size": 10,
              "solidity": 0.2
             }
            },
            "type": "barpolar"
           }
          ],
          "carpet": [
           {
            "aaxis": {
             "endlinecolor": "#A2B1C6",
             "gridcolor": "#506784",
             "linecolor": "#506784",
             "minorgridcolor": "#506784",
             "startlinecolor": "#A2B1C6"
            },
            "baxis": {
             "endlinecolor": "#A2B1C6",
             "gridcolor": "#506784",
             "linecolor": "#506784",
             "minorgridcolor": "#506784",
             "startlinecolor": "#A2B1C6"
            },
            "type": "carpet"
           }
          ],
          "choropleth": [
           {
            "colorbar": {
             "outlinewidth": 0,
             "ticks": ""
            },
            "type": "choropleth"
           }
          ],
          "contour": [
           {
            "colorbar": {
             "outlinewidth": 0,
             "ticks": ""
            },
            "colorscale": [
             [
              0,
              "#0d0887"
             ],
             [
              0.1111111111111111,
              "#46039f"
             ],
             [
              0.2222222222222222,
              "#7201a8"
             ],
             [
              0.3333333333333333,
              "#9c179e"
             ],
             [
              0.4444444444444444,
              "#bd3786"
             ],
             [
              0.5555555555555556,
              "#d8576b"
             ],
             [
              0.6666666666666666,
              "#ed7953"
             ],
             [
              0.7777777777777778,
              "#fb9f3a"
             ],
             [
              0.8888888888888888,
              "#fdca26"
             ],
             [
              1,
              "#f0f921"
             ]
            ],
            "type": "contour"
           }
          ],
          "contourcarpet": [
           {
            "colorbar": {
             "outlinewidth": 0,
             "ticks": ""
            },
            "type": "contourcarpet"
           }
          ],
          "heatmap": [
           {
            "colorbar": {
             "outlinewidth": 0,
             "ticks": ""
            },
            "colorscale": [
             [
              0,
              "#0d0887"
             ],
             [
              0.1111111111111111,
              "#46039f"
             ],
             [
              0.2222222222222222,
              "#7201a8"
             ],
             [
              0.3333333333333333,
              "#9c179e"
             ],
             [
              0.4444444444444444,
              "#bd3786"
             ],
             [
              0.5555555555555556,
              "#d8576b"
             ],
             [
              0.6666666666666666,
              "#ed7953"
             ],
             [
              0.7777777777777778,
              "#fb9f3a"
             ],
             [
              0.8888888888888888,
              "#fdca26"
             ],
             [
              1,
              "#f0f921"
             ]
            ],
            "type": "heatmap"
           }
          ],
          "heatmapgl": [
           {
            "colorbar": {
             "outlinewidth": 0,
             "ticks": ""
            },
            "colorscale": [
             [
              0,
              "#0d0887"
             ],
             [
              0.1111111111111111,
              "#46039f"
             ],
             [
              0.2222222222222222,
              "#7201a8"
             ],
             [
              0.3333333333333333,
              "#9c179e"
             ],
             [
              0.4444444444444444,
              "#bd3786"
             ],
             [
              0.5555555555555556,
              "#d8576b"
             ],
             [
              0.6666666666666666,
              "#ed7953"
             ],
             [
              0.7777777777777778,
              "#fb9f3a"
             ],
             [
              0.8888888888888888,
              "#fdca26"
             ],
             [
              1,
              "#f0f921"
             ]
            ],
            "type": "heatmapgl"
           }
          ],
          "histogram": [
           {
            "marker": {
             "pattern": {
              "fillmode": "overlay",
              "size": 10,
              "solidity": 0.2
             }
            },
            "type": "histogram"
           }
          ],
          "histogram2d": [
           {
            "colorbar": {
             "outlinewidth": 0,
             "ticks": ""
            },
            "colorscale": [
             [
              0,
              "#0d0887"
             ],
             [
              0.1111111111111111,
              "#46039f"
             ],
             [
              0.2222222222222222,
              "#7201a8"
             ],
             [
              0.3333333333333333,
              "#9c179e"
             ],
             [
              0.4444444444444444,
              "#bd3786"
             ],
             [
              0.5555555555555556,
              "#d8576b"
             ],
             [
              0.6666666666666666,
              "#ed7953"
             ],
             [
              0.7777777777777778,
              "#fb9f3a"
             ],
             [
              0.8888888888888888,
              "#fdca26"
             ],
             [
              1,
              "#f0f921"
             ]
            ],
            "type": "histogram2d"
           }
          ],
          "histogram2dcontour": [
           {
            "colorbar": {
             "outlinewidth": 0,
             "ticks": ""
            },
            "colorscale": [
             [
              0,
              "#0d0887"
             ],
             [
              0.1111111111111111,
              "#46039f"
             ],
             [
              0.2222222222222222,
              "#7201a8"
             ],
             [
              0.3333333333333333,
              "#9c179e"
             ],
             [
              0.4444444444444444,
              "#bd3786"
             ],
             [
              0.5555555555555556,
              "#d8576b"
             ],
             [
              0.6666666666666666,
              "#ed7953"
             ],
             [
              0.7777777777777778,
              "#fb9f3a"
             ],
             [
              0.8888888888888888,
              "#fdca26"
             ],
             [
              1,
              "#f0f921"
             ]
            ],
            "type": "histogram2dcontour"
           }
          ],
          "mesh3d": [
           {
            "colorbar": {
             "outlinewidth": 0,
             "ticks": ""
            },
            "type": "mesh3d"
           }
          ],
          "parcoords": [
           {
            "line": {
             "colorbar": {
              "outlinewidth": 0,
              "ticks": ""
             }
            },
            "type": "parcoords"
           }
          ],
          "pie": [
           {
            "automargin": true,
            "type": "pie"
           }
          ],
          "scatter": [
           {
            "marker": {
             "line": {
              "color": "#283442"
             }
            },
            "type": "scatter"
           }
          ],
          "scatter3d": [
           {
            "line": {
             "colorbar": {
              "outlinewidth": 0,
              "ticks": ""
             }
            },
            "marker": {
             "colorbar": {
              "outlinewidth": 0,
              "ticks": ""
             }
            },
            "type": "scatter3d"
           }
          ],
          "scattercarpet": [
           {
            "marker": {
             "colorbar": {
              "outlinewidth": 0,
              "ticks": ""
             }
            },
            "type": "scattercarpet"
           }
          ],
          "scattergeo": [
           {
            "marker": {
             "colorbar": {
              "outlinewidth": 0,
              "ticks": ""
             }
            },
            "type": "scattergeo"
           }
          ],
          "scattergl": [
           {
            "marker": {
             "line": {
              "color": "#283442"
             }
            },
            "type": "scattergl"
           }
          ],
          "scattermapbox": [
           {
            "marker": {
             "colorbar": {
              "outlinewidth": 0,
              "ticks": ""
             }
            },
            "type": "scattermapbox"
           }
          ],
          "scatterpolar": [
           {
            "marker": {
             "colorbar": {
              "outlinewidth": 0,
              "ticks": ""
             }
            },
            "type": "scatterpolar"
           }
          ],
          "scatterpolargl": [
           {
            "marker": {
             "colorbar": {
              "outlinewidth": 0,
              "ticks": ""
             }
            },
            "type": "scatterpolargl"
           }
          ],
          "scatterternary": [
           {
            "marker": {
             "colorbar": {
              "outlinewidth": 0,
              "ticks": ""
             }
            },
            "type": "scatterternary"
           }
          ],
          "surface": [
           {
            "colorbar": {
             "outlinewidth": 0,
             "ticks": ""
            },
            "colorscale": [
             [
              0,
              "#0d0887"
             ],
             [
              0.1111111111111111,
              "#46039f"
             ],
             [
              0.2222222222222222,
              "#7201a8"
             ],
             [
              0.3333333333333333,
              "#9c179e"
             ],
             [
              0.4444444444444444,
              "#bd3786"
             ],
             [
              0.5555555555555556,
              "#d8576b"
             ],
             [
              0.6666666666666666,
              "#ed7953"
             ],
             [
              0.7777777777777778,
              "#fb9f3a"
             ],
             [
              0.8888888888888888,
              "#fdca26"
             ],
             [
              1,
              "#f0f921"
             ]
            ],
            "type": "surface"
           }
          ],
          "table": [
           {
            "cells": {
             "fill": {
              "color": "#506784"
             },
             "line": {
              "color": "rgb(17,17,17)"
             }
            },
            "header": {
             "fill": {
              "color": "#2a3f5f"
             },
             "line": {
              "color": "rgb(17,17,17)"
             }
            },
            "type": "table"
           }
          ]
         },
         "layout": {
          "annotationdefaults": {
           "arrowcolor": "#f2f5fa",
           "arrowhead": 0,
           "arrowwidth": 1
          },
          "autotypenumbers": "strict",
          "coloraxis": {
           "colorbar": {
            "outlinewidth": 0,
            "ticks": ""
           }
          },
          "colorscale": {
           "diverging": [
            [
             0,
             "#8e0152"
            ],
            [
             0.1,
             "#c51b7d"
            ],
            [
             0.2,
             "#de77ae"
            ],
            [
             0.3,
             "#f1b6da"
            ],
            [
             0.4,
             "#fde0ef"
            ],
            [
             0.5,
             "#f7f7f7"
            ],
            [
             0.6,
             "#e6f5d0"
            ],
            [
             0.7,
             "#b8e186"
            ],
            [
             0.8,
             "#7fbc41"
            ],
            [
             0.9,
             "#4d9221"
            ],
            [
             1,
             "#276419"
            ]
           ],
           "sequential": [
            [
             0,
             "#0d0887"
            ],
            [
             0.1111111111111111,
             "#46039f"
            ],
            [
             0.2222222222222222,
             "#7201a8"
            ],
            [
             0.3333333333333333,
             "#9c179e"
            ],
            [
             0.4444444444444444,
             "#bd3786"
            ],
            [
             0.5555555555555556,
             "#d8576b"
            ],
            [
             0.6666666666666666,
             "#ed7953"
            ],
            [
             0.7777777777777778,
             "#fb9f3a"
            ],
            [
             0.8888888888888888,
             "#fdca26"
            ],
            [
             1,
             "#f0f921"
            ]
           ],
           "sequentialminus": [
            [
             0,
             "#0d0887"
            ],
            [
             0.1111111111111111,
             "#46039f"
            ],
            [
             0.2222222222222222,
             "#7201a8"
            ],
            [
             0.3333333333333333,
             "#9c179e"
            ],
            [
             0.4444444444444444,
             "#bd3786"
            ],
            [
             0.5555555555555556,
             "#d8576b"
            ],
            [
             0.6666666666666666,
             "#ed7953"
            ],
            [
             0.7777777777777778,
             "#fb9f3a"
            ],
            [
             0.8888888888888888,
             "#fdca26"
            ],
            [
             1,
             "#f0f921"
            ]
           ]
          },
          "colorway": [
           "#636efa",
           "#EF553B",
           "#00cc96",
           "#ab63fa",
           "#FFA15A",
           "#19d3f3",
           "#FF6692",
           "#B6E880",
           "#FF97FF",
           "#FECB52"
          ],
          "font": {
           "color": "#f2f5fa"
          },
          "geo": {
           "bgcolor": "rgb(17,17,17)",
           "lakecolor": "rgb(17,17,17)",
           "landcolor": "rgb(17,17,17)",
           "showlakes": true,
           "showland": true,
           "subunitcolor": "#506784"
          },
          "hoverlabel": {
           "align": "left"
          },
          "hovermode": "closest",
          "mapbox": {
           "style": "dark"
          },
          "paper_bgcolor": "rgb(17,17,17)",
          "plot_bgcolor": "rgb(17,17,17)",
          "polar": {
           "angularaxis": {
            "gridcolor": "#506784",
            "linecolor": "#506784",
            "ticks": ""
           },
           "bgcolor": "rgb(17,17,17)",
           "radialaxis": {
            "gridcolor": "#506784",
            "linecolor": "#506784",
            "ticks": ""
           }
          },
          "scene": {
           "xaxis": {
            "backgroundcolor": "rgb(17,17,17)",
            "gridcolor": "#506784",
            "gridwidth": 2,
            "linecolor": "#506784",
            "showbackground": true,
            "ticks": "",
            "zerolinecolor": "#C8D4E3"
           },
           "yaxis": {
            "backgroundcolor": "rgb(17,17,17)",
            "gridcolor": "#506784",
            "gridwidth": 2,
            "linecolor": "#506784",
            "showbackground": true,
            "ticks": "",
            "zerolinecolor": "#C8D4E3"
           },
           "zaxis": {
            "backgroundcolor": "rgb(17,17,17)",
            "gridcolor": "#506784",
            "gridwidth": 2,
            "linecolor": "#506784",
            "showbackground": true,
            "ticks": "",
            "zerolinecolor": "#C8D4E3"
           }
          },
          "shapedefaults": {
           "line": {
            "color": "#f2f5fa"
           }
          },
          "sliderdefaults": {
           "bgcolor": "#C8D4E3",
           "bordercolor": "rgb(17,17,17)",
           "borderwidth": 1,
           "tickwidth": 0
          },
          "ternary": {
           "aaxis": {
            "gridcolor": "#506784",
            "linecolor": "#506784",
            "ticks": ""
           },
           "baxis": {
            "gridcolor": "#506784",
            "linecolor": "#506784",
            "ticks": ""
           },
           "bgcolor": "rgb(17,17,17)",
           "caxis": {
            "gridcolor": "#506784",
            "linecolor": "#506784",
            "ticks": ""
           }
          },
          "title": {
           "x": 0.05
          },
          "updatemenudefaults": {
           "bgcolor": "#506784",
           "borderwidth": 0
          },
          "xaxis": {
           "automargin": true,
           "gridcolor": "#283442",
           "linecolor": "#506784",
           "ticks": "",
           "title": {
            "standoff": 15
           },
           "zerolinecolor": "#283442",
           "zerolinewidth": 2
          },
          "yaxis": {
           "automargin": true,
           "gridcolor": "#283442",
           "linecolor": "#506784",
           "ticks": "",
           "title": {
            "standoff": 15
           },
           "zerolinecolor": "#283442",
           "zerolinewidth": 2
          }
         }
        },
        "title": {
         "text": "Total Sleep Time, Rolling 30 Day"
        },
        "xaxis": {
         "autorange": true,
         "range": [
          "2021-11-01 10:23:53.1073",
          "2022-12-02 13:36:06.8927"
         ],
         "title": {
          "text": "Date"
         },
         "type": "date"
        },
        "yaxis": {
         "autorange": true,
         "range": [
          340.78349514563104,
          421.0165048543689
         ],
         "title": {
          "text": "Sleep Time (Mins)"
         },
         "type": "linear"
        }
       }
      },
      "image/png": "[encoded data removed]",
      "text/html": [
       "<div>                            <div id=\"c32f6486-d38b-4bd4-b87a-c93ffc2a5344\" class=\"plotly-graph-div\" style=\"height:525px; width:100%;\"></div>            <script type=\"text/javascript\">                require([\"plotly\"], function(Plotly) {                    window.PLOTLYENV=window.PLOTLYENV || {};                                    if (document.getElementById(\"c32f6486-d38b-4bd4-b87a-c93ffc2a5344\")) {                    Plotly.newPlot(                        \"c32f6486-d38b-4bd4-b87a-c93ffc2a5344\",                        [{\"hoverinfo\":\"text\",\"marker\":{\"colorscale\":[[0.0,\"rgb(75, 41, 145)\"],[0.16666666666666666,\"rgb(135, 44, 162)\"],[0.3333333333333333,\"rgb(192, 54, 157)\"],[0.5,\"rgb(234, 79, 136)\"],[0.6666666666666666,\"rgb(250, 120, 118)\"],[0.8333333333333334,\"rgb(246, 169, 122)\"],[1.0,\"rgb(237, 217, 163)\"]],\"line\":{\"width\":1}},\"mode\":\"markers+lines\",\"name\":\"values\",\"text\":[\"Sleep Time: 315 mins<br> Deep Sleep Time: 57 mins<br> Avg Heart Rate: 52 bpm\",\"Sleep Time: 481 mins<br> Deep Sleep Time: 148 mins<br> Avg Heart Rate: 54 bpm\",\"Sleep Time: 388 mins<br> Deep Sleep Time: 147 mins<br> Avg Heart Rate: 54 bpm\",\"Sleep Time: 385 mins<br> Deep Sleep Time: 155 mins<br> Avg Heart Rate: 51 bpm\",\"Sleep Time: 405 mins<br> Deep Sleep Time: 116 mins<br> Avg Heart Rate: 52 bpm\",\"Sleep Time: 354 mins<br> Deep Sleep Time: 94 mins<br> Avg Heart Rate: 57 bpm\",\"Sleep Time: 487 mins<br> Deep Sleep Time: 186 mins<br> Avg Heart Rate: 57 bpm\",\"Sleep Time: 441 mins<br> Deep Sleep Time: 73 mins<br> Avg Heart Rate: 54 bpm\",\"Sleep Time: 412 mins<br> Deep Sleep Time: 83 mins<br> Avg Heart Rate: 54 bpm\",\"Sleep Time: 380 mins<br> Deep Sleep Time: 80 mins<br> Avg Heart Rate: 56 bpm\",\"Sleep Time: 385 mins<br> Deep Sleep Time: 119 mins<br> Avg Heart Rate: 53 bpm\",\"Sleep Time: 461 mins<br> Deep Sleep Time: 97 mins<br> Avg Heart Rate: 53 bpm\",\"Sleep Time: 412 mins<br> Deep Sleep Time: 88 mins<br> Avg Heart Rate: 54 bpm\",\"Sleep Time: 366 mins<br> Deep Sleep Time: 107 mins<br> Avg Heart Rate: 59 bpm\",\"Sleep Time: 344 mins<br> Deep Sleep Time: 79 mins<br> Avg Heart Rate: 54 bpm\",\"Sleep Time: 383 mins<br> Deep Sleep Time: 61 mins<br> Avg Heart Rate: 52 bpm\",\"Sleep Time: 386 mins<br> Deep Sleep Time: 101 mins<br> Avg Heart Rate: 53 bpm\",\"Sleep Time: 467 mins<br> Deep Sleep Time: 175 mins<br> Avg Heart Rate: 55 bpm\",\"Sleep Time: 424 mins<br> Deep Sleep Time: 98 mins<br> Avg Heart Rate: 55 bpm\",\"Sleep Time: 360 mins<br> Deep Sleep Time: 99 mins<br> Avg Heart Rate: 57 bpm\",\"Sleep Time: 329 mins<br> Deep Sleep Time: 61 mins<br> Avg Heart Rate: 56 bpm\",\"Sleep Time: 426 mins<br> Deep Sleep Time: 66 mins<br> Avg Heart Rate: 59 bpm\",\"Sleep Time: 424 mins<br> Deep Sleep Time: 111 mins<br> Avg Heart Rate: 60 bpm\",\"Sleep Time: 413 mins<br> Deep Sleep Time: 94 mins<br> Avg Heart Rate: 55 bpm\",\"Sleep Time: 440 mins<br> Deep Sleep Time: 124 mins<br> Avg Heart Rate: 55 bpm\",\"Sleep Time: 457 mins<br> Deep Sleep Time: 111 mins<br> Avg Heart Rate: 59 bpm\",\"Sleep Time: 373 mins<br> Deep Sleep Time: 109 mins<br> Avg Heart Rate: 59 bpm\",\"Sleep Time: 459 mins<br> Deep Sleep Time: 91 mins<br> Avg Heart Rate: 60 bpm\",\"Sleep Time: 456 mins<br> Deep Sleep Time: 182 mins<br> Avg Heart Rate: 60 bpm\",\"Sleep Time: 498 mins<br> Deep Sleep Time: 105 mins<br> Avg Heart Rate: 54 bpm\",\"Sleep Time: 387 mins<br> Deep Sleep Time: 145 mins<br> Avg Heart Rate: 52 bpm\",\"Sleep Time: 485 mins<br> Deep Sleep Time: 189 mins<br> Avg Heart Rate: 51 bpm\",\"Sleep Time: 441 mins<br> Deep Sleep Time: 85 mins<br> Avg Heart Rate: 56 bpm\",\"Sleep Time: 333 mins<br> Deep Sleep Time: 109 mins<br> Avg Heart Rate: 49 bpm\",\"Sleep Time: 430 mins<br> Deep Sleep Time: 75 mins<br> Avg Heart Rate: 48 bpm\",\"Sleep Time: 342 mins<br> Deep Sleep Time: 116 mins<br> Avg Heart Rate: 50 bpm\",\"Sleep Time: 428 mins<br> Deep Sleep Time: 51 mins<br> Avg Heart Rate: 57 bpm\",\"Sleep Time: 357 mins<br> Deep Sleep Time: 101 mins<br> Avg Heart Rate: 53 bpm\",\"Sleep Time: 372 mins<br> Deep Sleep Time: 138 mins<br> Avg Heart Rate: 59 bpm\",\"Sleep Time: 296 mins<br> Deep Sleep Time: 66 mins<br> Avg Heart Rate: 54 bpm\",\"Sleep Time: 238 mins<br> Deep Sleep Time: 89 mins<br> Avg Heart Rate: 55 bpm\",\"Sleep Time: 467 mins<br> Deep Sleep Time: 196 mins<br> Avg Heart Rate: 55 bpm\",\"Sleep Time: 449 mins<br> Deep Sleep Time: 66 mins<br> Avg Heart Rate: 55 bpm\",\"Sleep Time: 493 mins<br> Deep Sleep Time: 202 mins<br> Avg Heart Rate: 52 bpm\",\"Sleep Time: 441 mins<br> Deep Sleep Time: 145 mins<br> Avg Heart Rate: 48 bpm\",\"Sleep Time: 428 mins<br> Deep Sleep Time: 123 mins<br> Avg Heart Rate: 51 bpm\",\"Sleep Time: 394 mins<br> Deep Sleep Time: 67 mins<br> Avg Heart Rate: 54 bpm\",\"Sleep Time: 458 mins<br> Deep Sleep Time: 88 mins<br> Avg Heart Rate: 57 bpm\",\"Sleep Time: 404 mins<br> Deep Sleep Time: 99 mins<br> Avg Heart Rate: 49 bpm\",\"Sleep Time: 414 mins<br> Deep Sleep Time: 67 mins<br> Avg Heart Rate: 49 bpm\",\"Sleep Time: 457 mins<br> Deep Sleep Time: 125 mins<br> Avg Heart Rate: 53 bpm\",\"Sleep Time: 400 mins<br> Deep Sleep Time: 149 mins<br> Avg Heart Rate: 50 bpm\",\"Sleep Time: 360 mins<br> Deep Sleep Time: 78 mins<br> Avg Heart Rate: 55 bpm\",\"Sleep Time: 386 mins<br> Deep Sleep Time: 122 mins<br> Avg Heart Rate: 55 bpm\",\"Sleep Time: 406 mins<br> Deep Sleep Time: 87 mins<br> Avg Heart Rate: 56 bpm\",\"Sleep Time: 358 mins<br> Deep Sleep Time: 96 mins<br> Avg Heart Rate: 60 bpm\",\"Sleep Time: 446 mins<br> Deep Sleep Time: 83 mins<br> Avg Heart Rate: 54 bpm\",\"Sleep Time: 393 mins<br> Deep Sleep Time: 116 mins<br> Avg Heart Rate: 56 bpm\",\"Sleep Time: 429 mins<br> Deep Sleep Time: 93 mins<br> Avg Heart Rate: 57 bpm\",\"Sleep Time: 379 mins<br> Deep Sleep Time: 101 mins<br> Avg Heart Rate: 56 bpm\",\"Sleep Time: 368 mins<br> Deep Sleep Time: 85 mins<br> Avg Heart Rate: 54 bpm\",\"Sleep Time: 336 mins<br> Deep Sleep Time: 120 mins<br> Avg Heart Rate: 57 bpm\",\"Sleep Time: 388 mins<br> Deep Sleep Time: 117 mins<br> Avg Heart Rate: 57 bpm\",\"Sleep Time: 379 mins<br> Deep Sleep Time: 121 mins<br> Avg Heart Rate: 61 bpm\",\"Sleep Time: 360 mins<br> Deep Sleep Time: 150 mins<br> Avg Heart Rate: 56 bpm\",\"Sleep Time: 390 mins<br> Deep Sleep Time: 111 mins<br> Avg Heart Rate: 60 bpm\",\"Sleep Time: 349 mins<br> Deep Sleep Time: 97 mins<br> Avg Heart Rate: 58 bpm\",\"Sleep Time: 338 mins<br> Deep Sleep Time: 62 mins<br> Avg Heart Rate: 56 bpm\",\"Sleep Time: 357 mins<br> Deep Sleep Time: 101 mins<br> Avg Heart Rate: 56 bpm\",\"Sleep Time: 420 mins<br> Deep Sleep Time: 102 mins<br> Avg Heart Rate: 61 bpm\",\"Sleep Time: 438 mins<br> Deep Sleep Time: 121 mins<br> Avg Heart Rate: 61 bpm\",\"Sleep Time: 310 mins<br> Deep Sleep Time: 68 mins<br> Avg Heart Rate: 55 bpm\",\"Sleep Time: 436 mins<br> Deep Sleep Time: 119 mins<br> Avg Heart Rate: 53 bpm\",\"Sleep Time: 366 mins<br> Deep Sleep Time: 66 mins<br> Avg Heart Rate: 54 bpm\",\"Sleep Time: 364 mins<br> Deep Sleep Time: 83 mins<br> Avg Heart Rate: 50 bpm\",\"Sleep Time: 375 mins<br> Deep Sleep Time: 103 mins<br> Avg Heart Rate: 57 bpm\",\"Sleep Time: 403 mins<br> Deep Sleep Time: 87 mins<br> Avg Heart Rate: 61 bpm\",\"Sleep Time: 381 mins<br> Deep Sleep Time: 118 mins<br> Avg Heart Rate: 52 bpm\",\"Sleep Time: 368 mins<br> Deep Sleep Time: 72 mins<br> Avg Heart Rate: 56 bpm\",\"Sleep Time: 380 mins<br> Deep Sleep Time: 88 mins<br> Avg Heart Rate: 57 bpm\",\"Sleep Time: 443 mins<br> Deep Sleep Time: 145 mins<br> Avg Heart Rate: 55 bpm\",\"Sleep Time: 377 mins<br> Deep Sleep Time: 128 mins<br> Avg Heart Rate: 52 bpm\",\"Sleep Time: 457 mins<br> Deep Sleep Time: 141 mins<br> Avg Heart Rate: 56 bpm\",\"Sleep Time: 364 mins<br> Deep Sleep Time: 105 mins<br> Avg Heart Rate: 53 bpm\",\"Sleep Time: 449 mins<br> Deep Sleep Time: 116 mins<br> Avg Heart Rate: 53 bpm\",\"Sleep Time: 307 mins<br> Deep Sleep Time: 58 mins<br> Avg Heart Rate: 54 bpm\",\"Sleep Time: 411 mins<br> Deep Sleep Time: 99 mins<br> Avg Heart Rate: 53 bpm\",\"Sleep Time: 306 mins<br> Deep Sleep Time: 68 mins<br> Avg Heart Rate: 52 bpm\",\"Sleep Time: 349 mins<br> Deep Sleep Time: 78 mins<br> Avg Heart Rate: 52 bpm\",\"Sleep Time: 296 mins<br> Deep Sleep Time: 88 mins<br> Avg Heart Rate: 53 bpm\",\"Sleep Time: 355 mins<br> Deep Sleep Time: 104 mins<br> Avg Heart Rate: 50 bpm\",\"Sleep Time: 289 mins<br> Deep Sleep Time: 107 mins<br> Avg Heart Rate: 52 bpm\",\"Sleep Time: 403 mins<br> Deep Sleep Time: 73 mins<br> Avg Heart Rate: 54 bpm\",\"Sleep Time: 423 mins<br> Deep Sleep Time: 94 mins<br> Avg Heart Rate: 52 bpm\",\"Sleep Time: 424 mins<br> Deep Sleep Time: 150 mins<br> Avg Heart Rate: 53 bpm\",\"Sleep Time: 278 mins<br> Deep Sleep Time: 134 mins<br> Avg Heart Rate: 54 bpm\",\"Sleep Time: 447 mins<br> Deep Sleep Time: 92 mins<br> Avg Heart Rate: 52 bpm\",\"Sleep Time: 386 mins<br> Deep Sleep Time: 110 mins<br> Avg Heart Rate: 60 bpm\",\"Sleep Time: 338 mins<br> Deep Sleep Time: 85 mins<br> Avg Heart Rate: 49 bpm\",\"Sleep Time: 336 mins<br> Deep Sleep Time: 125 mins<br> Avg Heart Rate: 51 bpm\",\"Sleep Time: 423 mins<br> Deep Sleep Time: 98 mins<br> Avg Heart Rate: 58 bpm\",\"Sleep Time: 253 mins<br> Deep Sleep Time: 86 mins<br> Avg Heart Rate: 49 bpm\",\"Sleep Time: 375 mins<br> Deep Sleep Time: 136 mins<br> Avg Heart Rate: 49 bpm\",\"Sleep Time: 456 mins<br> Deep Sleep Time: 171 mins<br> Avg Heart Rate: 55 bpm\",\"Sleep Time: 290 mins<br> Deep Sleep Time: 94 mins<br> Avg Heart Rate: 56 bpm\",\"Sleep Time: 299 mins<br> Deep Sleep Time: 123 mins<br> Avg Heart Rate: 53 bpm\",\"Sleep Time: 508 mins<br> Deep Sleep Time: 128 mins<br> Avg Heart Rate: 53 bpm\",\"Sleep Time: 409 mins<br> Deep Sleep Time: 165 mins<br> Avg Heart Rate: 57 bpm\",\"Sleep Time: 418 mins<br> Deep Sleep Time: 143 mins<br> Avg Heart Rate: 51 bpm\",\"Sleep Time: 353 mins<br> Deep Sleep Time: 122 mins<br> Avg Heart Rate: 51 bpm\",\"Sleep Time: 423 mins<br> Deep Sleep Time: 57 mins<br> Avg Heart Rate: 50 bpm\",\"Sleep Time: 442 mins<br> Deep Sleep Time: 54 mins<br> Avg Heart Rate: 51 bpm\",\"Sleep Time: 416 mins<br> Deep Sleep Time: 80 mins<br> Avg Heart Rate: 50 bpm\",\"Sleep Time: 414 mins<br> Deep Sleep Time: 66 mins<br> Avg Heart Rate: 50 bpm\",\"Sleep Time: 292 mins<br> Deep Sleep Time: 84 mins<br> Avg Heart Rate: 50 bpm\",\"Sleep Time: 380 mins<br> Deep Sleep Time: 97 mins<br> Avg Heart Rate: 52 bpm\",\"Sleep Time: 337 mins<br> Deep Sleep Time: 45 mins<br> Avg Heart Rate: 56 bpm\",\"Sleep Time: 526 mins<br> Deep Sleep Time: 99 mins<br> Avg Heart Rate: 54 bpm\",\"Sleep Time: 448 mins<br> Deep Sleep Time: 66 mins<br> Avg Heart Rate: 54 bpm\",\"Sleep Time: 364 mins<br> Deep Sleep Time: 56 mins<br> Avg Heart Rate: 56 bpm\",\"Sleep Time: 392 mins<br> Deep Sleep Time: 125 mins<br> Avg Heart Rate: 57 bpm\",\"Sleep Time: 403 mins<br> Deep Sleep Time: 136 mins<br> Avg Heart Rate: 56 bpm\",\"Sleep Time: 421 mins<br> Deep Sleep Time: 142 mins<br> Avg Heart Rate: 59 bpm\",\"Sleep Time: 450 mins<br> Deep Sleep Time: 85 mins<br> Avg Heart Rate: 59 bpm\",\"Sleep Time: 408 mins<br> Deep Sleep Time: 82 mins<br> Avg Heart Rate: 57 bpm\",\"Sleep Time: 426 mins<br> Deep Sleep Time: 99 mins<br> Avg Heart Rate: 52 bpm\",\"Sleep Time: 379 mins<br> Deep Sleep Time: 144 mins<br> Avg Heart Rate: 59 bpm\",\"Sleep Time: 417 mins<br> Deep Sleep Time: 137 mins<br> Avg Heart Rate: 52 bpm\",\"Sleep Time: 363 mins<br> Deep Sleep Time: 85 mins<br> Avg Heart Rate: 54 bpm\",\"Sleep Time: 419 mins<br> Deep Sleep Time: 114 mins<br> Avg Heart Rate: 52 bpm\",\"Sleep Time: 450 mins<br> Deep Sleep Time: 131 mins<br> Avg Heart Rate: 56 bpm\",\"Sleep Time: 413 mins<br> Deep Sleep Time: 146 mins<br> Avg Heart Rate: 58 bpm\",\"Sleep Time: 386 mins<br> Deep Sleep Time: 122 mins<br> Avg Heart Rate: 58 bpm\",\"Sleep Time: 420 mins<br> Deep Sleep Time: 72 mins<br> Avg Heart Rate: 57 bpm\",\"Sleep Time: 369 mins<br> Deep Sleep Time: 116 mins<br> Avg Heart Rate: 52 bpm\",\"Sleep Time: 446 mins<br> Deep Sleep Time: 134 mins<br> Avg Heart Rate: 58 bpm\",\"Sleep Time: 407 mins<br> Deep Sleep Time: 134 mins<br> Avg Heart Rate: 54 bpm\",\"Sleep Time: 420 mins<br> Deep Sleep Time: 109 mins<br> Avg Heart Rate: 57 bpm\",\"Sleep Time: 428 mins<br> Deep Sleep Time: 125 mins<br> Avg Heart Rate: 60 bpm\",\"Sleep Time: 409 mins<br> Deep Sleep Time: 60 mins<br> Avg Heart Rate: 55 bpm\",\"Sleep Time: 393 mins<br> Deep Sleep Time: 139 mins<br> Avg Heart Rate: 59 bpm\",\"Sleep Time: 421 mins<br> Deep Sleep Time: 137 mins<br> Avg Heart Rate: 57 bpm\",\"Sleep Time: 343 mins<br> Deep Sleep Time: 52 mins<br> Avg Heart Rate: 53 bpm\",\"Sleep Time: 368 mins<br> Deep Sleep Time: 119 mins<br> Avg Heart Rate: 57 bpm\",\"Sleep Time: 485 mins<br> Deep Sleep Time: 150 mins<br> Avg Heart Rate: 53 bpm\",\"Sleep Time: 409 mins<br> Deep Sleep Time: 82 mins<br> Avg Heart Rate: 59 bpm\",\"Sleep Time: 378 mins<br> Deep Sleep Time: 79 mins<br> Avg Heart Rate: 56 bpm\",\"Sleep Time: 395 mins<br> Deep Sleep Time: 64 mins<br> Avg Heart Rate: 53 bpm\",\"Sleep Time: 385 mins<br> Deep Sleep Time: 104 mins<br> Avg Heart Rate: 52 bpm\",\"Sleep Time: 365 mins<br> Deep Sleep Time: 97 mins<br> Avg Heart Rate: 53 bpm\",\"Sleep Time: 387 mins<br> Deep Sleep Time: 114 mins<br> Avg Heart Rate: 53 bpm\",\"Sleep Time: 300 mins<br> Deep Sleep Time: 108 mins<br> Avg Heart Rate: 52 bpm\",\"Sleep Time: 405 mins<br> Deep Sleep Time: 121 mins<br> Avg Heart Rate: 54 bpm\",\"Sleep Time: 375 mins<br> Deep Sleep Time: 67 mins<br> Avg Heart Rate: 54 bpm\",\"Sleep Time: 372 mins<br> Deep Sleep Time: 103 mins<br> Avg Heart Rate: 55 bpm\",\"Sleep Time: 360 mins<br> Deep Sleep Time: 52 mins<br> Avg Heart Rate: 52 bpm\",\"Sleep Time: 357 mins<br> Deep Sleep Time: 152 mins<br> Avg Heart Rate: 56 bpm\",\"Sleep Time: 410 mins<br> Deep Sleep Time: 131 mins<br> Avg Heart Rate: 55 bpm\",\"Sleep Time: 379 mins<br> Deep Sleep Time: 144 mins<br> Avg Heart Rate: 57 bpm\",\"Sleep Time: 370 mins<br> Deep Sleep Time: 115 mins<br> Avg Heart Rate: 56 bpm\",\"Sleep Time: 361 mins<br> Deep Sleep Time: 98 mins<br> Avg Heart Rate: 51 bpm\",\"Sleep Time: 371 mins<br> Deep Sleep Time: 113 mins<br> Avg Heart Rate: 53 bpm\",\"Sleep Time: 397 mins<br> Deep Sleep Time: 67 mins<br> Avg Heart Rate: 55 bpm\",\"Sleep Time: 375 mins<br> Deep Sleep Time: 131 mins<br> Avg Heart Rate: 59 bpm\",\"Sleep Time: 397 mins<br> Deep Sleep Time: 97 mins<br> Avg Heart Rate: 56 bpm\",\"Sleep Time: 516 mins<br> Deep Sleep Time: 108 mins<br> Avg Heart Rate: 60 bpm\",\"Sleep Time: 392 mins<br> Deep Sleep Time: 98 mins<br> Avg Heart Rate: 57 bpm\",\"Sleep Time: 425 mins<br> Deep Sleep Time: 113 mins<br> Avg Heart Rate: 55 bpm\",\"Sleep Time: 397 mins<br> Deep Sleep Time: 139 mins<br> Avg Heart Rate: 59 bpm\",\"Sleep Time: 358 mins<br> Deep Sleep Time: 107 mins<br> Avg Heart Rate: 52 bpm\",\"Sleep Time: 382 mins<br> Deep Sleep Time: 90 mins<br> Avg Heart Rate: 55 bpm\",\"Sleep Time: 286 mins<br> Deep Sleep Time: 55 mins<br> Avg Heart Rate: 59 bpm\",\"Sleep Time: 430 mins<br> Deep Sleep Time: 96 mins<br> Avg Heart Rate: 55 bpm\",\"Sleep Time: 415 mins<br> Deep Sleep Time: 57 mins<br> Avg Heart Rate: 67 bpm\",\"Sleep Time: 380 mins<br> Deep Sleep Time: 74 mins<br> Avg Heart Rate: 62 bpm\",\"Sleep Time: 406 mins<br> Deep Sleep Time: 109 mins<br> Avg Heart Rate: 58 bpm\",\"Sleep Time: 432 mins<br> Deep Sleep Time: 110 mins<br> Avg Heart Rate: 59 bpm\",\"Sleep Time: 385 mins<br> Deep Sleep Time: 115 mins<br> Avg Heart Rate: 59 bpm\",\"Sleep Time: 410 mins<br> Deep Sleep Time: 108 mins<br> Avg Heart Rate: 54 bpm\",\"Sleep Time: 330 mins<br> Deep Sleep Time: 85 mins<br> Avg Heart Rate: 61 bpm\",\"Sleep Time: 494 mins<br> Deep Sleep Time: 102 mins<br> Avg Heart Rate: 62 bpm\",\"Sleep Time: 380 mins<br> Deep Sleep Time: 125 mins<br> Avg Heart Rate: 61 bpm\",\"Sleep Time: 432 mins<br> Deep Sleep Time: 133 mins<br> Avg Heart Rate: 60 bpm\",\"Sleep Time: 422 mins<br> Deep Sleep Time: 107 mins<br> Avg Heart Rate: 55 bpm\",\"Sleep Time: 401 mins<br> Deep Sleep Time: 133 mins<br> Avg Heart Rate: 58 bpm\",\"Sleep Time: 395 mins<br> Deep Sleep Time: 84 mins<br> Avg Heart Rate: 55 bpm\",\"Sleep Time: 364 mins<br> Deep Sleep Time: 86 mins<br> Avg Heart Rate: 62 bpm\",\"Sleep Time: 407 mins<br> Deep Sleep Time: 83 mins<br> Avg Heart Rate: 60 bpm\",\"Sleep Time: 388 mins<br> Deep Sleep Time: 81 mins<br> Avg Heart Rate: 64 bpm\",\"Sleep Time: 417 mins<br> Deep Sleep Time: 122 mins<br> Avg Heart Rate: 59 bpm\",\"Sleep Time: 393 mins<br> Deep Sleep Time: 77 mins<br> Avg Heart Rate: 59 bpm\",\"Sleep Time: 306 mins<br> Deep Sleep Time: 53 mins<br> Avg Heart Rate: 54 bpm\",\"Sleep Time: 202 mins<br> Deep Sleep Time: 41 mins<br> Avg Heart Rate: 62 bpm\",\"Sleep Time: 319 mins<br> Deep Sleep Time: 133 mins<br> Avg Heart Rate: 60 bpm\",\"Sleep Time: 350 mins<br> Deep Sleep Time: 90 mins<br> Avg Heart Rate: 57 bpm\",\"Sleep Time: 320 mins<br> Deep Sleep Time: 105 mins<br> Avg Heart Rate: 50 bpm\",\"Sleep Time: 365 mins<br> Deep Sleep Time: 74 mins<br> Avg Heart Rate: 57 bpm\",\"Sleep Time: 413 mins<br> Deep Sleep Time: 114 mins<br> Avg Heart Rate: 57 bpm\",\"Sleep Time: 362 mins<br> Deep Sleep Time: 96 mins<br> Avg Heart Rate: 52 bpm\",\"Sleep Time: 341 mins<br> Deep Sleep Time: 102 mins<br> Avg Heart Rate: 57 bpm\",\"Sleep Time: 393 mins<br> Deep Sleep Time: 73 mins<br> Avg Heart Rate: 55 bpm\",\"Sleep Time: 336 mins<br> Deep Sleep Time: 108 mins<br> Avg Heart Rate: 52 bpm\",\"Sleep Time: 355 mins<br> Deep Sleep Time: 76 mins<br> Avg Heart Rate: 59 bpm\",\"Sleep Time: 411 mins<br> Deep Sleep Time: 122 mins<br> Avg Heart Rate: 58 bpm\",\"Sleep Time: 365 mins<br> Deep Sleep Time: 106 mins<br> Avg Heart Rate: 57 bpm\",\"Sleep Time: 370 mins<br> Deep Sleep Time: 105 mins<br> Avg Heart Rate: 54 bpm\",\"Sleep Time: 302 mins<br> Deep Sleep Time: 100 mins<br> Avg Heart Rate: 63 bpm\",\"Sleep Time: 461 mins<br> Deep Sleep Time: 169 mins<br> Avg Heart Rate: 57 bpm\",\"Sleep Time: 327 mins<br> Deep Sleep Time: 102 mins<br> Avg Heart Rate: 57 bpm\",\"Sleep Time: 384 mins<br> Deep Sleep Time: 81 mins<br> Avg Heart Rate: 53 bpm\",\"Sleep Time: 243 mins<br> Deep Sleep Time: 61 mins<br> Avg Heart Rate: 56 bpm\",\"Sleep Time: 380 mins<br> Deep Sleep Time: 125 mins<br> Avg Heart Rate: 54 bpm\",\"Sleep Time: 326 mins<br> Deep Sleep Time: 109 mins<br> Avg Heart Rate: 50 bpm\",\"Sleep Time: 295 mins<br> Deep Sleep Time: 83 mins<br> Avg Heart Rate: 62 bpm\",\"Sleep Time: 246 mins<br> Deep Sleep Time: 136 mins<br> Avg Heart Rate: 48 bpm\",\"Sleep Time: 402 mins<br> Deep Sleep Time: 118 mins<br> Avg Heart Rate: 54 bpm\",\"Sleep Time: 406 mins<br> Deep Sleep Time: 141 mins<br> Avg Heart Rate: 54 bpm\",\"Sleep Time: 334 mins<br> Deep Sleep Time: 129 mins<br> Avg Heart Rate: 54 bpm\",\"Sleep Time: 346 mins<br> Deep Sleep Time: 89 mins<br> Avg Heart Rate: 55 bpm\",\"Sleep Time: 341 mins<br> Deep Sleep Time: 131 mins<br> Avg Heart Rate: 51 bpm\",\"Sleep Time: 421 mins<br> Deep Sleep Time: 135 mins<br> Avg Heart Rate: 58 bpm\",\"Sleep Time: 411 mins<br> Deep Sleep Time: 178 mins<br> Avg Heart Rate: 53 bpm\",\"Sleep Time: 371 mins<br> Deep Sleep Time: 69 mins<br> Avg Heart Rate: 58 bpm\",\"Sleep Time: 397 mins<br> Deep Sleep Time: 64 mins<br> Avg Heart Rate: 54 bpm\",\"Sleep Time: 372 mins<br> Deep Sleep Time: 108 mins<br> Avg Heart Rate: 52 bpm\",\"Sleep Time: 359 mins<br> Deep Sleep Time: 111 mins<br> Avg Heart Rate: 55 bpm\",\"Sleep Time: 343 mins<br> Deep Sleep Time: 118 mins<br> Avg Heart Rate: 55 bpm\",\"Sleep Time: 255 mins<br> Deep Sleep Time: 30 mins<br> Avg Heart Rate: 54 bpm\",\"Sleep Time: 350 mins<br> Deep Sleep Time: 67 mins<br> Avg Heart Rate: 57 bpm\",\"Sleep Time: 366 mins<br> Deep Sleep Time: 115 mins<br> Avg Heart Rate: 58 bpm\",\"Sleep Time: 340 mins<br> Deep Sleep Time: 89 mins<br> Avg Heart Rate: 56 bpm\",\"Sleep Time: 396 mins<br> Deep Sleep Time: 50 mins<br> Avg Heart Rate: 60 bpm\",\"Sleep Time: 337 mins<br> Deep Sleep Time: 62 mins<br> Avg Heart Rate: 57 bpm\",\"Sleep Time: 442 mins<br> Deep Sleep Time: 66 mins<br> Avg Heart Rate: 54 bpm\",\"Sleep Time: 353 mins<br> Deep Sleep Time: 139 mins<br> Avg Heart Rate: 59 bpm\",\"Sleep Time: 432 mins<br> Deep Sleep Time: 105 mins<br> Avg Heart Rate: 62 bpm\",\"Sleep Time: 352 mins<br> Deep Sleep Time: 109 mins<br> Avg Heart Rate: 59 bpm\",\"Sleep Time: 382 mins<br> Deep Sleep Time: 91 mins<br> Avg Heart Rate: 64 bpm\",\"Sleep Time: 367 mins<br> Deep Sleep Time: 106 mins<br> Avg Heart Rate: 58 bpm\",\"Sleep Time: 433 mins<br> Deep Sleep Time: 164 mins<br> Avg Heart Rate: 57 bpm\",\"Sleep Time: 240 mins<br> Deep Sleep Time: 76 mins<br> Avg Heart Rate: 53 bpm\",\"Sleep Time: 344 mins<br> Deep Sleep Time: 142 mins<br> Avg Heart Rate: 51 bpm\",\"Sleep Time: 357 mins<br> Deep Sleep Time: 43 mins<br> Avg Heart Rate: 54 bpm\",\"Sleep Time: 451 mins<br> Deep Sleep Time: 81 mins<br> Avg Heart Rate: 58 bpm\",\"Sleep Time: 416 mins<br> Deep Sleep Time: 71 mins<br> Avg Heart Rate: 56 bpm\",\"Sleep Time: 311 mins<br> Deep Sleep Time: 100 mins<br> Avg Heart Rate: 58 bpm\",\"Sleep Time: 439 mins<br> Deep Sleep Time: 85 mins<br> Avg Heart Rate: 54 bpm\",\"Sleep Time: 389 mins<br> Deep Sleep Time: 114 mins<br> Avg Heart Rate: 52 bpm\",\"Sleep Time: 453 mins<br> Deep Sleep Time: 80 mins<br> Avg Heart Rate: 55 bpm\",\"Sleep Time: 450 mins<br> Deep Sleep Time: 85 mins<br> Avg Heart Rate: 61 bpm\",\"Sleep Time: 345 mins<br> Deep Sleep Time: 23 mins<br> Avg Heart Rate: 56 bpm\",\"Sleep Time: 454 mins<br> Deep Sleep Time: 127 mins<br> Avg Heart Rate: 59 bpm\",\"Sleep Time: 385 mins<br> Deep Sleep Time: 80 mins<br> Avg Heart Rate: 58 bpm\",\"Sleep Time: 357 mins<br> Deep Sleep Time: 76 mins<br> Avg Heart Rate: 58 bpm\",\"Sleep Time: 346 mins<br> Deep Sleep Time: 74 mins<br> Avg Heart Rate: 61 bpm\",\"Sleep Time: 340 mins<br> Deep Sleep Time: 68 mins<br> Avg Heart Rate: 57 bpm\",\"Sleep Time: 346 mins<br> Deep Sleep Time: 73 mins<br> Avg Heart Rate: 66 bpm\",\"Sleep Time: 339 mins<br> Deep Sleep Time: 95 mins<br> Avg Heart Rate: 59 bpm\",\"Sleep Time: 445 mins<br> Deep Sleep Time: 43 mins<br> Avg Heart Rate: 58 bpm\",\"Sleep Time: 420 mins<br> Deep Sleep Time: 104 mins<br> Avg Heart Rate: 62 bpm\",\"Sleep Time: 299 mins<br> Deep Sleep Time: 92 mins<br> Avg Heart Rate: 62 bpm\",\"Sleep Time: 487 mins<br> Deep Sleep Time: 71 mins<br> Avg Heart Rate: 61 bpm\",\"Sleep Time: 511 mins<br> Deep Sleep Time: 114 mins<br> Avg Heart Rate: 64 bpm\",\"Sleep Time: 440 mins<br> Deep Sleep Time: 192 mins<br> Avg Heart Rate: 62 bpm\",\"Sleep Time: 432 mins<br> Deep Sleep Time: 118 mins<br> Avg Heart Rate: 64 bpm\",\"Sleep Time: 404 mins<br> Deep Sleep Time: 106 mins<br> Avg Heart Rate: 60 bpm\",\"Sleep Time: 378 mins<br> Deep Sleep Time: 99 mins<br> Avg Heart Rate: 60 bpm\",\"Sleep Time: 460 mins<br> Deep Sleep Time: 122 mins<br> Avg Heart Rate: 65 bpm\",\"Sleep Time: 401 mins<br> Deep Sleep Time: 108 mins<br> Avg Heart Rate: 61 bpm\",\"Sleep Time: 482 mins<br> Deep Sleep Time: 188 mins<br> Avg Heart Rate: 60 bpm\",\"Sleep Time: 458 mins<br> Deep Sleep Time: 134 mins<br> Avg Heart Rate: 69 bpm\",\"Sleep Time: 387 mins<br> Deep Sleep Time: 118 mins<br> Avg Heart Rate: 63 bpm\",\"Sleep Time: 419 mins<br> Deep Sleep Time: 45 mins<br> Avg Heart Rate: 61 bpm\",\"Sleep Time: 388 mins<br> Deep Sleep Time: 97 mins<br> Avg Heart Rate: 59 bpm\",\"Sleep Time: 366 mins<br> Deep Sleep Time: 80 mins<br> Avg Heart Rate: 60 bpm\",\"Sleep Time: 298 mins<br> Deep Sleep Time: 55 mins<br> Avg Heart Rate: 57 bpm\",\"Sleep Time: 422 mins<br> Deep Sleep Time: 76 mins<br> Avg Heart Rate: 58 bpm\",\"Sleep Time: 354 mins<br> Deep Sleep Time: 88 mins<br> Avg Heart Rate: 56 bpm\",\"Sleep Time: 350 mins<br> Deep Sleep Time: 47 mins<br> Avg Heart Rate: 62 bpm\",\"Sleep Time: 452 mins<br> Deep Sleep Time: 91 mins<br> Avg Heart Rate: 63 bpm\",\"Sleep Time: 373 mins<br> Deep Sleep Time: 88 mins<br> Avg Heart Rate: 66 bpm\",\"Sleep Time: 284 mins<br> Deep Sleep Time: 110 mins<br> Avg Heart Rate: 52 bpm\",\"Sleep Time: 426 mins<br> Deep Sleep Time: 120 mins<br> Avg Heart Rate: 60 bpm\",\"Sleep Time: 353 mins<br> Deep Sleep Time: 99 mins<br> Avg Heart Rate: 59 bpm\",\"Sleep Time: 240 mins<br> Deep Sleep Time: 102 mins<br> Avg Heart Rate: 62 bpm\",\"Sleep Time: 419 mins<br> Deep Sleep Time: 50 mins<br> Avg Heart Rate: 64 bpm\",\"Sleep Time: 393 mins<br> Deep Sleep Time: 118 mins<br> Avg Heart Rate: 65 bpm\",\"Sleep Time: 417 mins<br> Deep Sleep Time: 100 mins<br> Avg Heart Rate: 59 bpm\",\"Sleep Time: 353 mins<br> Deep Sleep Time: 37 mins<br> Avg Heart Rate: 61 bpm\",\"Sleep Time: 378 mins<br> Deep Sleep Time: 135 mins<br> Avg Heart Rate: 60 bpm\",\"Sleep Time: 284 mins<br> Deep Sleep Time: 67 mins<br> Avg Heart Rate: 57 bpm\",\"Sleep Time: 440 mins<br> Deep Sleep Time: 112 mins<br> Avg Heart Rate: 60 bpm\",\"Sleep Time: 387 mins<br> Deep Sleep Time: 94 mins<br> Avg Heart Rate: 68 bpm\",\"Sleep Time: 390 mins<br> Deep Sleep Time: 85 mins<br> Avg Heart Rate: 60 bpm\",\"Sleep Time: 362 mins<br> Deep Sleep Time: 124 mins<br> Avg Heart Rate: 61 bpm\",\"Sleep Time: 218 mins<br> Deep Sleep Time: 79 mins<br> Avg Heart Rate: 57 bpm\",\"Sleep Time: 455 mins<br> Deep Sleep Time: 147 mins<br> Avg Heart Rate: 65 bpm\",\"Sleep Time: 301 mins<br> Deep Sleep Time: 88 mins<br> Avg Heart Rate: 55 bpm\",\"Sleep Time: 207 mins<br> Deep Sleep Time: 78 mins<br> Avg Heart Rate: 55 bpm\",\"Sleep Time: 417 mins<br> Deep Sleep Time: 120 mins<br> Avg Heart Rate: 58 bpm\",\"Sleep Time: 378 mins<br> Deep Sleep Time: 99 mins<br> Avg Heart Rate: 59 bpm\",\"Sleep Time: 322 mins<br> Deep Sleep Time: 118 mins<br> Avg Heart Rate: 54 bpm\",\"Sleep Time: 363 mins<br> Deep Sleep Time: 117 mins<br> Avg Heart Rate: 55 bpm\",\"Sleep Time: 364 mins<br> Deep Sleep Time: 106 mins<br> Avg Heart Rate: 63 bpm\",\"Sleep Time: 491 mins<br> Deep Sleep Time: 70 mins<br> Avg Heart Rate: 65 bpm\",\"Sleep Time: 340 mins<br> Deep Sleep Time: 118 mins<br> Avg Heart Rate: 62 bpm\",\"Sleep Time: 399 mins<br> Deep Sleep Time: 93 mins<br> Avg Heart Rate: 62 bpm\",\"Sleep Time: 353 mins<br> Deep Sleep Time: 74 mins<br> Avg Heart Rate: 58 bpm\",\"Sleep Time: 412 mins<br> Deep Sleep Time: 127 mins<br> Avg Heart Rate: 63 bpm\",\"Sleep Time: 360 mins<br> Deep Sleep Time: 79 mins<br> Avg Heart Rate: 60 bpm\",\"Sleep Time: 435 mins<br> Deep Sleep Time: 66 mins<br> Avg Heart Rate: 57 bpm\",\"Sleep Time: 438 mins<br> Deep Sleep Time: 84 mins<br> Avg Heart Rate: 60 bpm\",\"Sleep Time: 429 mins<br> Deep Sleep Time: 144 mins<br> Avg Heart Rate: 56 bpm\",\"Sleep Time: 209 mins<br> Deep Sleep Time: 55 mins<br> Avg Heart Rate: 51 bpm\",\"Sleep Time: 342 mins<br> Deep Sleep Time: 94 mins<br> Avg Heart Rate: 50 bpm\",\"Sleep Time: 360 mins<br> Deep Sleep Time: 118 mins<br> Avg Heart Rate: 63 bpm\",\"Sleep Time: 393 mins<br> Deep Sleep Time: 54 mins<br> Avg Heart Rate: 57 bpm\",\"Sleep Time: 463 mins<br> Deep Sleep Time: 111 mins<br> Avg Heart Rate: 58 bpm\",\"Sleep Time: 323 mins<br> Deep Sleep Time: 42 mins<br> Avg Heart Rate: 56 bpm\",\"Sleep Time: 403 mins<br> Deep Sleep Time: 76 mins<br> Avg Heart Rate: 56 bpm\",\"Sleep Time: 417 mins<br> Deep Sleep Time: 83 mins<br> Avg Heart Rate: 52 bpm\",\"Sleep Time: 337 mins<br> Deep Sleep Time: 99 mins<br> Avg Heart Rate: 53 bpm\",\"Sleep Time: 357 mins<br> Deep Sleep Time: 124 mins<br> Avg Heart Rate: 57 bpm\",\"Sleep Time: 444 mins<br> Deep Sleep Time: 88 mins<br> Avg Heart Rate: 51 bpm\",\"Sleep Time: 377 mins<br> Deep Sleep Time: 50 mins<br> Avg Heart Rate: 51 bpm\",\"Sleep Time: 441 mins<br> Deep Sleep Time: 163 mins<br> Avg Heart Rate: 55 bpm\",\"Sleep Time: 365 mins<br> Deep Sleep Time: 122 mins<br> Avg Heart Rate: 59 bpm\",\"Sleep Time: 381 mins<br> Deep Sleep Time: 87 mins<br> Avg Heart Rate: 53 bpm\",\"Sleep Time: 404 mins<br> Deep Sleep Time: 0 mins<br> Avg Heart Rate: 55 bpm\",\"Sleep Time: 352 mins<br> Deep Sleep Time: 94 mins<br> Avg Heart Rate: 57 bpm\",\"Sleep Time: 399 mins<br> Deep Sleep Time: 170 mins<br> Avg Heart Rate: 58 bpm\",\"Sleep Time: 499 mins<br> Deep Sleep Time: 114 mins<br> Avg Heart Rate: 59 bpm\",\"Sleep Time: 295 mins<br> Deep Sleep Time: 109 mins<br> Avg Heart Rate: 56 bpm\",\"Sleep Time: 427 mins<br> Deep Sleep Time: 116 mins<br> Avg Heart Rate: 61 bpm\",\"Sleep Time: 471 mins<br> Deep Sleep Time: 148 mins<br> Avg Heart Rate: 60 bpm\",\"Sleep Time: 385 mins<br> Deep Sleep Time: 102 mins<br> Avg Heart Rate: 63 bpm\",\"Sleep Time: 461 mins<br> Deep Sleep Time: 89 mins<br> Avg Heart Rate: 56 bpm\",\"Sleep Time: 452 mins<br> Deep Sleep Time: 91 mins<br> Avg Heart Rate: 57 bpm\",\"Sleep Time: 431 mins<br> Deep Sleep Time: 107 mins<br> Avg Heart Rate: 66 bpm\",\"Sleep Time: 455 mins<br> Deep Sleep Time: 135 mins<br> Avg Heart Rate: 61 bpm\",\"Sleep Time: 406 mins<br> Deep Sleep Time: 96 mins<br> Avg Heart Rate: 66 bpm\",\"Sleep Time: 456 mins<br> Deep Sleep Time: 137 mins<br> Avg Heart Rate: 63 bpm\",\"Sleep Time: 417 mins<br> Deep Sleep Time: 129 mins<br> Avg Heart Rate: 59 bpm\",\"Sleep Time: 398 mins<br> Deep Sleep Time: 72 mins<br> Avg Heart Rate: 61 bpm\",\"Sleep Time: 500 mins<br> Deep Sleep Time: 152 mins<br> Avg Heart Rate: 51 bpm\",\"Sleep Time: 354 mins<br> Deep Sleep Time: 96 mins<br> Avg Heart Rate: 57 bpm\",\"Sleep Time: 427 mins<br> Deep Sleep Time: 140 mins<br> Avg Heart Rate: 55 bpm\",\"Sleep Time: 336 mins<br> Deep Sleep Time: 83 mins<br> Avg Heart Rate: 56 bpm\",\"Sleep Time: 538 mins<br> Deep Sleep Time: 146 mins<br> Avg Heart Rate: 55 bpm\"],\"x\":[\"2021-11-23T00:00:00\",\"2021-11-24T00:00:00\",\"2021-11-25T00:00:00\",\"2021-11-26T00:00:00\",\"2021-11-27T00:00:00\",\"2021-11-28T00:00:00\",\"2021-11-29T00:00:00\",\"2021-11-30T00:00:00\",\"2021-12-01T00:00:00\",\"2021-12-02T00:00:00\",\"2021-12-03T00:00:00\",\"2021-12-04T00:00:00\",\"2021-12-05T00:00:00\",\"2021-12-06T00:00:00\",\"2021-12-07T00:00:00\",\"2021-12-08T00:00:00\",\"2021-12-09T00:00:00\",\"2021-12-10T00:00:00\",\"2021-12-11T00:00:00\",\"2021-12-12T00:00:00\",\"2021-12-13T00:00:00\",\"2021-12-14T00:00:00\",\"2021-12-15T00:00:00\",\"2021-12-16T00:00:00\",\"2021-12-17T00:00:00\",\"2021-12-18T00:00:00\",\"2021-12-19T00:00:00\",\"2021-12-20T00:00:00\",\"2021-12-21T00:00:00\",\"2021-12-22T00:00:00\",\"2021-12-23T00:00:00\",\"2021-12-24T00:00:00\",\"2021-12-25T00:00:00\",\"2021-12-26T00:00:00\",\"2021-12-27T00:00:00\",\"2021-12-28T00:00:00\",\"2021-12-29T00:00:00\",\"2021-12-30T00:00:00\",\"2021-12-31T00:00:00\",\"2022-01-01T00:00:00\",\"2022-01-02T00:00:00\",\"2022-01-03T00:00:00\",\"2022-01-04T00:00:00\",\"2022-01-05T00:00:00\",\"2022-01-06T00:00:00\",\"2022-01-07T00:00:00\",\"2022-01-08T00:00:00\",\"2022-01-09T00:00:00\",\"2022-01-10T00:00:00\",\"2022-01-11T00:00:00\",\"2022-01-12T00:00:00\",\"2022-01-13T00:00:00\",\"2022-01-14T00:00:00\",\"2022-01-15T00:00:00\",\"2022-01-16T00:00:00\",\"2022-01-17T00:00:00\",\"2022-01-18T00:00:00\",\"2022-01-19T00:00:00\",\"2022-01-20T00:00:00\",\"2022-01-21T00:00:00\",\"2022-01-22T00:00:00\",\"2022-01-23T00:00:00\",\"2022-01-24T00:00:00\",\"2022-01-25T00:00:00\",\"2022-01-26T00:00:00\",\"2022-01-27T00:00:00\",\"2022-01-28T00:00:00\",\"2022-01-29T00:00:00\",\"2022-01-30T00:00:00\",\"2022-01-31T00:00:00\",\"2022-02-01T00:00:00\",\"2022-02-02T00:00:00\",\"2022-02-03T00:00:00\",\"2022-02-04T00:00:00\",\"2022-02-05T00:00:00\",\"2022-02-06T00:00:00\",\"2022-02-07T00:00:00\",\"2022-02-08T00:00:00\",\"2022-02-09T00:00:00\",\"2022-02-10T00:00:00\",\"2022-02-11T00:00:00\",\"2022-02-12T00:00:00\",\"2022-02-13T00:00:00\",\"2022-02-14T00:00:00\",\"2022-02-15T00:00:00\",\"2022-02-16T00:00:00\",\"2022-02-17T00:00:00\",\"2022-02-18T00:00:00\",\"2022-02-19T00:00:00\",\"2022-02-20T00:00:00\",\"2022-02-21T00:00:00\",\"2022-02-22T00:00:00\",\"2022-02-23T00:00:00\",\"2022-02-24T00:00:00\",\"2022-02-25T00:00:00\",\"2022-02-26T00:00:00\",\"2022-02-27T00:00:00\",\"2022-02-28T00:00:00\",\"2022-03-01T00:00:00\",\"2022-03-02T00:00:00\",\"2022-03-03T00:00:00\",\"2022-03-04T00:00:00\",\"2022-03-05T00:00:00\",\"2022-03-07T00:00:00\",\"2022-03-08T00:00:00\",\"2022-03-09T00:00:00\",\"2022-03-10T00:00:00\",\"2022-03-11T00:00:00\",\"2022-03-12T00:00:00\",\"2022-03-13T00:00:00\",\"2022-03-14T00:00:00\",\"2022-03-15T00:00:00\",\"2022-03-16T00:00:00\",\"2022-03-17T00:00:00\",\"2022-03-18T00:00:00\",\"2022-03-19T00:00:00\",\"2022-03-20T00:00:00\",\"2022-03-21T00:00:00\",\"2022-03-22T00:00:00\",\"2022-03-23T00:00:00\",\"2022-03-24T00:00:00\",\"2022-03-25T00:00:00\",\"2022-03-26T00:00:00\",\"2022-03-27T00:00:00\",\"2022-03-28T00:00:00\",\"2022-03-29T00:00:00\",\"2022-03-30T00:00:00\",\"2022-03-31T00:00:00\",\"2022-04-01T00:00:00\",\"2022-04-02T00:00:00\",\"2022-04-03T00:00:00\",\"2022-04-04T00:00:00\",\"2022-04-05T00:00:00\",\"2022-04-06T00:00:00\",\"2022-04-07T00:00:00\",\"2022-04-08T00:00:00\",\"2022-04-09T00:00:00\",\"2022-04-10T00:00:00\",\"2022-04-11T00:00:00\",\"2022-04-12T00:00:00\",\"2022-04-13T00:00:00\",\"2022-04-14T00:00:00\",\"2022-04-15T00:00:00\",\"2022-04-16T00:00:00\",\"2022-04-17T00:00:00\",\"2022-04-18T00:00:00\",\"2022-04-19T00:00:00\",\"2022-04-20T00:00:00\",\"2022-04-21T00:00:00\",\"2022-04-22T00:00:00\",\"2022-04-23T00:00:00\",\"2022-04-24T00:00:00\",\"2022-04-25T00:00:00\",\"2022-04-26T00:00:00\",\"2022-04-27T00:00:00\",\"2022-04-28T00:00:00\",\"2022-04-29T00:00:00\",\"2022-04-30T00:00:00\",\"2022-05-01T00:00:00\",\"2022-05-02T00:00:00\",\"2022-05-03T00:00:00\",\"2022-05-04T00:00:00\",\"2022-05-05T00:00:00\",\"2022-05-06T00:00:00\",\"2022-05-07T00:00:00\",\"2022-05-08T00:00:00\",\"2022-05-09T00:00:00\",\"2022-05-10T00:00:00\",\"2022-05-11T00:00:00\",\"2022-05-12T00:00:00\",\"2022-05-13T00:00:00\",\"2022-05-14T00:00:00\",\"2022-05-15T00:00:00\",\"2022-05-16T00:00:00\",\"2022-05-17T00:00:00\",\"2022-05-18T00:00:00\",\"2022-05-19T00:00:00\",\"2022-05-20T00:00:00\",\"2022-05-21T00:00:00\",\"2022-05-22T00:00:00\",\"2022-05-23T00:00:00\",\"2022-05-24T00:00:00\",\"2022-05-25T00:00:00\",\"2022-05-26T00:00:00\",\"2022-05-27T00:00:00\",\"2022-05-28T00:00:00\",\"2022-05-29T00:00:00\",\"2022-05-30T00:00:00\",\"2022-05-31T00:00:00\",\"2022-06-01T00:00:00\",\"2022-06-02T00:00:00\",\"2022-06-03T00:00:00\",\"2022-06-04T00:00:00\",\"2022-06-05T00:00:00\",\"2022-06-06T00:00:00\",\"2022-06-07T00:00:00\",\"2022-06-08T00:00:00\",\"2022-06-09T00:00:00\",\"2022-06-10T00:00:00\",\"2022-06-11T00:00:00\",\"2022-06-12T00:00:00\",\"2022-06-13T00:00:00\",\"2022-06-14T00:00:00\",\"2022-06-15T00:00:00\",\"2022-06-16T00:00:00\",\"2022-06-17T00:00:00\",\"2022-06-18T00:00:00\",\"2022-06-19T00:00:00\",\"2022-06-20T00:00:00\",\"2022-06-22T00:00:00\",\"2022-06-23T00:00:00\",\"2022-06-24T00:00:00\",\"2022-06-25T00:00:00\",\"2022-06-26T00:00:00\",\"2022-06-27T00:00:00\",\"2022-06-28T00:00:00\",\"2022-06-29T00:00:00\",\"2022-06-30T00:00:00\",\"2022-07-01T00:00:00\",\"2022-07-02T00:00:00\",\"2022-07-03T00:00:00\",\"2022-07-04T00:00:00\",\"2022-07-05T00:00:00\",\"2022-07-06T00:00:00\",\"2022-07-07T00:00:00\",\"2022-07-08T00:00:00\",\"2022-07-09T00:00:00\",\"2022-07-10T00:00:00\",\"2022-07-11T00:00:00\",\"2022-07-12T00:00:00\",\"2022-07-13T00:00:00\",\"2022-07-14T00:00:00\",\"2022-07-15T00:00:00\",\"2022-07-16T00:00:00\",\"2022-07-17T00:00:00\",\"2022-07-18T00:00:00\",\"2022-07-19T00:00:00\",\"2022-07-20T00:00:00\",\"2022-07-21T00:00:00\",\"2022-07-22T00:00:00\",\"2022-07-23T00:00:00\",\"2022-07-24T00:00:00\",\"2022-07-25T00:00:00\",\"2022-07-26T00:00:00\",\"2022-07-27T00:00:00\",\"2022-07-28T00:00:00\",\"2022-07-29T00:00:00\",\"2022-07-30T00:00:00\",\"2022-07-31T00:00:00\",\"2022-08-01T00:00:00\",\"2022-08-02T00:00:00\",\"2022-08-03T00:00:00\",\"2022-08-04T00:00:00\",\"2022-08-05T00:00:00\",\"2022-08-06T00:00:00\",\"2022-08-07T00:00:00\",\"2022-08-08T00:00:00\",\"2022-08-09T00:00:00\",\"2022-08-10T00:00:00\",\"2022-08-11T00:00:00\",\"2022-08-12T00:00:00\",\"2022-08-13T00:00:00\",\"2022-08-14T00:00:00\",\"2022-08-15T00:00:00\",\"2022-08-16T00:00:00\",\"2022-08-17T00:00:00\",\"2022-08-18T00:00:00\",\"2022-08-19T00:00:00\",\"2022-08-20T00:00:00\",\"2022-08-21T00:00:00\",\"2022-08-22T00:00:00\",\"2022-08-23T00:00:00\",\"2022-08-24T00:00:00\",\"2022-08-25T00:00:00\",\"2022-08-26T00:00:00\",\"2022-08-27T00:00:00\",\"2022-08-28T00:00:00\",\"2022-08-29T00:00:00\",\"2022-08-30T00:00:00\",\"2022-08-31T00:00:00\",\"2022-09-01T00:00:00\",\"2022-09-02T00:00:00\",\"2022-09-03T00:00:00\",\"2022-09-04T00:00:00\",\"2022-09-05T00:00:00\",\"2022-09-06T00:00:00\",\"2022-09-07T00:00:00\",\"2022-09-08T00:00:00\",\"2022-09-09T00:00:00\",\"2022-09-10T00:00:00\",\"2022-09-11T00:00:00\",\"2022-09-12T00:00:00\",\"2022-09-13T00:00:00\",\"2022-09-14T00:00:00\",\"2022-09-15T00:00:00\",\"2022-09-16T00:00:00\",\"2022-09-19T00:00:00\",\"2022-09-20T00:00:00\",\"2022-09-21T00:00:00\",\"2022-09-22T00:00:00\",\"2022-09-23T00:00:00\",\"2022-09-24T00:00:00\",\"2022-09-25T00:00:00\",\"2022-09-26T00:00:00\",\"2022-09-27T00:00:00\",\"2022-09-28T00:00:00\",\"2022-09-29T00:00:00\",\"2022-09-30T00:00:00\",\"2022-10-02T00:00:00\",\"2022-10-03T00:00:00\",\"2022-10-04T00:00:00\",\"2022-10-05T00:00:00\",\"2022-10-06T00:00:00\",\"2022-10-07T00:00:00\",\"2022-10-08T00:00:00\",\"2022-10-09T00:00:00\",\"2022-10-10T00:00:00\",\"2022-10-11T00:00:00\",\"2022-10-12T00:00:00\",\"2022-10-13T00:00:00\",\"2022-10-14T00:00:00\",\"2022-10-15T00:00:00\",\"2022-10-16T00:00:00\",\"2022-10-17T00:00:00\",\"2022-10-18T00:00:00\",\"2022-10-19T00:00:00\",\"2022-10-20T00:00:00\",\"2022-10-21T00:00:00\",\"2022-10-22T00:00:00\",\"2022-10-23T00:00:00\",\"2022-10-24T00:00:00\",\"2022-10-25T00:00:00\",\"2022-10-26T00:00:00\",\"2022-10-27T00:00:00\",\"2022-10-28T00:00:00\",\"2022-10-29T00:00:00\",\"2022-10-30T00:00:00\",\"2022-10-31T00:00:00\",\"2022-11-01T00:00:00\",\"2022-11-02T00:00:00\",\"2022-11-03T00:00:00\",\"2022-11-04T00:00:00\",\"2022-11-05T00:00:00\",\"2022-11-06T00:00:00\",\"2022-11-07T00:00:00\",\"2022-11-08T00:00:00\",\"2022-11-09T00:00:00\",\"2022-11-10T00:00:00\",\"2022-11-11T00:00:00\"],\"y\":[null,null,null,null,null,null,null,null,null,null,null,null,null,null,null,null,null,null,null,null,null,null,null,null,null,null,null,null,null,410.3666666666667,412.76666666666665,412.9,414.6666666666667,412.93333333333334,413.76666666666665,413.3666666666667,411.4,408.6,407.26666666666665,404.46666666666664,399.56666666666666,399.76666666666665,401.0,405.23333333333335,408.46666666666664,409.96666666666664,410.23333333333335,409.93333333333334,409.26666666666665,411.06666666666666,415.3333333333333,414.46666666666664,412.3333333333333,411.43333333333334,410.3,407.0,409.43333333333334,407.23333333333335,406.3333333333333,402.3666666666667,401.73333333333335,396.76666666666665,395.0,396.53333333333336,394.2,395.8,393.1666666666667,392.53333333333336,392.03333333333336,396.1666666666667,402.8333333333333,397.6,397.1666666666667,392.93333333333334,390.3666666666667,388.6,388.9,386.3333333333333,385.1333333333333,384.0,383.53333333333336,382.76666666666665,386.0,385.26666666666665,386.7,385.0,383.8333333333333,380.93333333333334,378.26666666666665,375.5,375.06666666666666,373.5,374.0,375.46666666666664,377.6,373.8666666666667,377.1333333333333,378.73333333333335,378.1,375.3,374.8,372.9,370.8666666666667,373.8666666666667,371.4,368.8666666666667,372.3666666666667,373.3,374.96666666666664,374.06666666666666,373.4,375.56666666666666,374.2,375.8666666666667,370.6333333333333,373.06666666666666,370.6,377.93333333333334,381.23333333333335,383.5,384.73333333333335,388.53333333333336,389.1333333333333,390.03333333333336,389.5,394.43333333333334,392.1666666666667,393.2,394.03333333333336,396.8,397.7,403.03333333333336,403.4,402.2,404.8333333333333,409.73333333333335,406.3666666666667,406.73333333333335,407.06666666666666,408.93333333333334,407.93333333333334,407.23333333333335,404.8,403.26666666666665,409.7,410.6666666666667,412.03333333333336,407.6666666666667,405.56666666666666,405.6,405.43333333333334,402.0,401.46666666666664,398.96666666666664,397.76666666666665,395.56666666666666,394.8333333333333,394.6,395.1333333333333,393.5,390.53333333333336,389.1333333333333,389.5,388.0,388.93333333333334,391.26666666666665,390.76666666666665,390.93333333333334,389.9,388.2,387.8333333333333,383.3333333333333,386.23333333333335,387.8,384.3,384.2,386.0,385.6666666666667,386.5,385.3333333333333,388.9,391.56666666666666,392.46666666666664,394.03333333333336,395.0,396.1666666666667,396.4,396.3,396.6,398.1666666666667,399.23333333333335,397.06666666666666,390.56666666666666,388.7,387.1333333333333,380.6,379.7,379.3,378.1333333333333,377.56666666666666,377.93333333333334,379.6,377.1,376.96666666666664,376.46666666666664,375.26666666666665,370.93333333333334,373.46666666666664,370.7,372.5,364.1333333333333,364.1333333333333,360.6,356.3666666666667,351.2,351.43333333333334,352.8333333333333,350.4,349.0,346.46666666666664,347.4,350.9,356.53333333333336,359.1333333333333,359.8666666666667,361.1666666666667,360.43333333333334,355.1666666666667,354.76666666666665,355.6,353.8333333333333,355.8333333333333,355.23333333333335,356.26666666666665,355.8666666666667,357.93333333333334,359.6,356.96666666666664,358.3,359.93333333333334,359.8333333333333,358.6333333333333,359.6666666666667,364.8666666666667,370.53333333333336,367.5,368.6,370.43333333333334,374.0,377.6333333333333,375.1,376.53333333333336,377.0,375.6666666666667,374.8,374.1666666666667,374.26666666666665,377.06666666666666,380.23333333333335,382.03333333333336,380.6666666666667,383.7,389.5,389.43333333333334,392.06666666666666,391.1333333333333,392.0,394.6,395.73333333333335,397.3666666666667,404.6333333333333,406.06666666666666,408.1333333333333,406.03333333333336,404.3666666666667,403.93333333333334,403.3666666666667,402.2,398.76666666666665,398.8333333333333,399.76666666666665,394.1,395.46666666666664,395.3333333333333,391.8,394.43333333333334,396.0,398.6,395.53333333333336,394.1333333333333,393.6333333333333,392.06666666666666,387.93333333333334,386.26666666666665,383.93333333333334,377.73333333333335,380.3,375.0,368.53333333333336,366.3666666666667,363.7,361.53333333333336,359.6666666666667,358.8666666666667,363.03333333333336,364.43333333333334,363.6666666666667,363.6333333333333,365.7,362.6333333333333,364.7,369.8333333333333,369.93333333333334,365.1333333333333,368.53333333333336,366.56666666666666,366.56666666666666,368.1,367.1,367.93333333333334,372.3666666666667,368.93333333333334,367.93333333333334,369.73333333333335,370.23333333333335,377.6666666666667,374.6666666666667,377.3333333333333,383.9,381.73333333333335,382.43333333333334,388.3333333333333,386.06666666666666,388.1666666666667,387.5,389.0,391.06666666666666,394.3666666666667,395.0,398.1666666666667,397.2,397.8,397.4,403.7,408.96666666666664,408.76666666666665,409.9,405.6666666666667,412.8333333333333],\"type\":\"scatter\"}],                        {\"template\":{\"data\":{\"barpolar\":[{\"marker\":{\"line\":{\"color\":\"rgb(17,17,17)\",\"width\":0.5},\"pattern\":{\"fillmode\":\"overlay\",\"size\":10,\"solidity\":0.2}},\"type\":\"barpolar\"}],\"bar\":[{\"error_x\":{\"color\":\"#f2f5fa\"},\"error_y\":{\"color\":\"#f2f5fa\"},\"marker\":{\"line\":{\"color\":\"rgb(17,17,17)\",\"width\":0.5},\"pattern\":{\"fillmode\":\"overlay\",\"size\":10,\"solidity\":0.2}},\"type\":\"bar\"}],\"carpet\":[{\"aaxis\":{\"endlinecolor\":\"#A2B1C6\",\"gridcolor\":\"#506784\",\"linecolor\":\"#506784\",\"minorgridcolor\":\"#506784\",\"startlinecolor\":\"#A2B1C6\"},\"baxis\":{\"endlinecolor\":\"#A2B1C6\",\"gridcolor\":\"#506784\",\"linecolor\":\"#506784\",\"minorgridcolor\":\"#506784\",\"startlinecolor\":\"#A2B1C6\"},\"type\":\"carpet\"}],\"choropleth\":[{\"colorbar\":{\"outlinewidth\":0,\"ticks\":\"\"},\"type\":\"choropleth\"}],\"contourcarpet\":[{\"colorbar\":{\"outlinewidth\":0,\"ticks\":\"\"},\"type\":\"contourcarpet\"}],\"contour\":[{\"colorbar\":{\"outlinewidth\":0,\"ticks\":\"\"},\"colorscale\":[[0.0,\"#0d0887\"],[0.1111111111111111,\"#46039f\"],[0.2222222222222222,\"#7201a8\"],[0.3333333333333333,\"#9c179e\"],[0.4444444444444444,\"#bd3786\"],[0.5555555555555556,\"#d8576b\"],[0.6666666666666666,\"#ed7953\"],[0.7777777777777778,\"#fb9f3a\"],[0.8888888888888888,\"#fdca26\"],[1.0,\"#f0f921\"]],\"type\":\"contour\"}],\"heatmapgl\":[{\"colorbar\":{\"outlinewidth\":0,\"ticks\":\"\"},\"colorscale\":[[0.0,\"#0d0887\"],[0.1111111111111111,\"#46039f\"],[0.2222222222222222,\"#7201a8\"],[0.3333333333333333,\"#9c179e\"],[0.4444444444444444,\"#bd3786\"],[0.5555555555555556,\"#d8576b\"],[0.6666666666666666,\"#ed7953\"],[0.7777777777777778,\"#fb9f3a\"],[0.8888888888888888,\"#fdca26\"],[1.0,\"#f0f921\"]],\"type\":\"heatmapgl\"}],\"heatmap\":[{\"colorbar\":{\"outlinewidth\":0,\"ticks\":\"\"},\"colorscale\":[[0.0,\"#0d0887\"],[0.1111111111111111,\"#46039f\"],[0.2222222222222222,\"#7201a8\"],[0.3333333333333333,\"#9c179e\"],[0.4444444444444444,\"#bd3786\"],[0.5555555555555556,\"#d8576b\"],[0.6666666666666666,\"#ed7953\"],[0.7777777777777778,\"#fb9f3a\"],[0.8888888888888888,\"#fdca26\"],[1.0,\"#f0f921\"]],\"type\":\"heatmap\"}],\"histogram2dcontour\":[{\"colorbar\":{\"outlinewidth\":0,\"ticks\":\"\"},\"colorscale\":[[0.0,\"#0d0887\"],[0.1111111111111111,\"#46039f\"],[0.2222222222222222,\"#7201a8\"],[0.3333333333333333,\"#9c179e\"],[0.4444444444444444,\"#bd3786\"],[0.5555555555555556,\"#d8576b\"],[0.6666666666666666,\"#ed7953\"],[0.7777777777777778,\"#fb9f3a\"],[0.8888888888888888,\"#fdca26\"],[1.0,\"#f0f921\"]],\"type\":\"histogram2dcontour\"}],\"histogram2d\":[{\"colorbar\":{\"outlinewidth\":0,\"ticks\":\"\"},\"colorscale\":[[0.0,\"#0d0887\"],[0.1111111111111111,\"#46039f\"],[0.2222222222222222,\"#7201a8\"],[0.3333333333333333,\"#9c179e\"],[0.4444444444444444,\"#bd3786\"],[0.5555555555555556,\"#d8576b\"],[0.6666666666666666,\"#ed7953\"],[0.7777777777777778,\"#fb9f3a\"],[0.8888888888888888,\"#fdca26\"],[1.0,\"#f0f921\"]],\"type\":\"histogram2d\"}],\"histogram\":[{\"marker\":{\"pattern\":{\"fillmode\":\"overlay\",\"size\":10,\"solidity\":0.2}},\"type\":\"histogram\"}],\"mesh3d\":[{\"colorbar\":{\"outlinewidth\":0,\"ticks\":\"\"},\"type\":\"mesh3d\"}],\"parcoords\":[{\"line\":{\"colorbar\":{\"outlinewidth\":0,\"ticks\":\"\"}},\"type\":\"parcoords\"}],\"pie\":[{\"automargin\":true,\"type\":\"pie\"}],\"scatter3d\":[{\"line\":{\"colorbar\":{\"outlinewidth\":0,\"ticks\":\"\"}},\"marker\":{\"colorbar\":{\"outlinewidth\":0,\"ticks\":\"\"}},\"type\":\"scatter3d\"}],\"scattercarpet\":[{\"marker\":{\"colorbar\":{\"outlinewidth\":0,\"ticks\":\"\"}},\"type\":\"scattercarpet\"}],\"scattergeo\":[{\"marker\":{\"colorbar\":{\"outlinewidth\":0,\"ticks\":\"\"}},\"type\":\"scattergeo\"}],\"scattergl\":[{\"marker\":{\"line\":{\"color\":\"#283442\"}},\"type\":\"scattergl\"}],\"scattermapbox\":[{\"marker\":{\"colorbar\":{\"outlinewidth\":0,\"ticks\":\"\"}},\"type\":\"scattermapbox\"}],\"scatterpolargl\":[{\"marker\":{\"colorbar\":{\"outlinewidth\":0,\"ticks\":\"\"}},\"type\":\"scatterpolargl\"}],\"scatterpolar\":[{\"marker\":{\"colorbar\":{\"outlinewidth\":0,\"ticks\":\"\"}},\"type\":\"scatterpolar\"}],\"scatter\":[{\"marker\":{\"line\":{\"color\":\"#283442\"}},\"type\":\"scatter\"}],\"scatterternary\":[{\"marker\":{\"colorbar\":{\"outlinewidth\":0,\"ticks\":\"\"}},\"type\":\"scatterternary\"}],\"surface\":[{\"colorbar\":{\"outlinewidth\":0,\"ticks\":\"\"},\"colorscale\":[[0.0,\"#0d0887\"],[0.1111111111111111,\"#46039f\"],[0.2222222222222222,\"#7201a8\"],[0.3333333333333333,\"#9c179e\"],[0.4444444444444444,\"#bd3786\"],[0.5555555555555556,\"#d8576b\"],[0.6666666666666666,\"#ed7953\"],[0.7777777777777778,\"#fb9f3a\"],[0.8888888888888888,\"#fdca26\"],[1.0,\"#f0f921\"]],\"type\":\"surface\"}],\"table\":[{\"cells\":{\"fill\":{\"color\":\"#506784\"},\"line\":{\"color\":\"rgb(17,17,17)\"}},\"header\":{\"fill\":{\"color\":\"#2a3f5f\"},\"line\":{\"color\":\"rgb(17,17,17)\"}},\"type\":\"table\"}]},\"layout\":{\"annotationdefaults\":{\"arrowcolor\":\"#f2f5fa\",\"arrowhead\":0,\"arrowwidth\":1},\"autotypenumbers\":\"strict\",\"coloraxis\":{\"colorbar\":{\"outlinewidth\":0,\"ticks\":\"\"}},\"colorscale\":{\"diverging\":[[0,\"#8e0152\"],[0.1,\"#c51b7d\"],[0.2,\"#de77ae\"],[0.3,\"#f1b6da\"],[0.4,\"#fde0ef\"],[0.5,\"#f7f7f7\"],[0.6,\"#e6f5d0\"],[0.7,\"#b8e186\"],[0.8,\"#7fbc41\"],[0.9,\"#4d9221\"],[1,\"#276419\"]],\"sequential\":[[0.0,\"#0d0887\"],[0.1111111111111111,\"#46039f\"],[0.2222222222222222,\"#7201a8\"],[0.3333333333333333,\"#9c179e\"],[0.4444444444444444,\"#bd3786\"],[0.5555555555555556,\"#d8576b\"],[0.6666666666666666,\"#ed7953\"],[0.7777777777777778,\"#fb9f3a\"],[0.8888888888888888,\"#fdca26\"],[1.0,\"#f0f921\"]],\"sequentialminus\":[[0.0,\"#0d0887\"],[0.1111111111111111,\"#46039f\"],[0.2222222222222222,\"#7201a8\"],[0.3333333333333333,\"#9c179e\"],[0.4444444444444444,\"#bd3786\"],[0.5555555555555556,\"#d8576b\"],[0.6666666666666666,\"#ed7953\"],[0.7777777777777778,\"#fb9f3a\"],[0.8888888888888888,\"#fdca26\"],[1.0,\"#f0f921\"]]},\"colorway\":[\"#636efa\",\"#EF553B\",\"#00cc96\",\"#ab63fa\",\"#FFA15A\",\"#19d3f3\",\"#FF6692\",\"#B6E880\",\"#FF97FF\",\"#FECB52\"],\"font\":{\"color\":\"#f2f5fa\"},\"geo\":{\"bgcolor\":\"rgb(17,17,17)\",\"lakecolor\":\"rgb(17,17,17)\",\"landcolor\":\"rgb(17,17,17)\",\"showlakes\":true,\"showland\":true,\"subunitcolor\":\"#506784\"},\"hoverlabel\":{\"align\":\"left\"},\"hovermode\":\"closest\",\"mapbox\":{\"style\":\"dark\"},\"paper_bgcolor\":\"rgb(17,17,17)\",\"plot_bgcolor\":\"rgb(17,17,17)\",\"polar\":{\"angularaxis\":{\"gridcolor\":\"#506784\",\"linecolor\":\"#506784\",\"ticks\":\"\"},\"bgcolor\":\"rgb(17,17,17)\",\"radialaxis\":{\"gridcolor\":\"#506784\",\"linecolor\":\"#506784\",\"ticks\":\"\"}},\"scene\":{\"xaxis\":{\"backgroundcolor\":\"rgb(17,17,17)\",\"gridcolor\":\"#506784\",\"gridwidth\":2,\"linecolor\":\"#506784\",\"showbackground\":true,\"ticks\":\"\",\"zerolinecolor\":\"#C8D4E3\"},\"yaxis\":{\"backgroundcolor\":\"rgb(17,17,17)\",\"gridcolor\":\"#506784\",\"gridwidth\":2,\"linecolor\":\"#506784\",\"showbackground\":true,\"ticks\":\"\",\"zerolinecolor\":\"#C8D4E3\"},\"zaxis\":{\"backgroundcolor\":\"rgb(17,17,17)\",\"gridcolor\":\"#506784\",\"gridwidth\":2,\"linecolor\":\"#506784\",\"showbackground\":true,\"ticks\":\"\",\"zerolinecolor\":\"#C8D4E3\"}},\"shapedefaults\":{\"line\":{\"color\":\"#f2f5fa\"}},\"sliderdefaults\":{\"bgcolor\":\"#C8D4E3\",\"bordercolor\":\"rgb(17,17,17)\",\"borderwidth\":1,\"tickwidth\":0},\"ternary\":{\"aaxis\":{\"gridcolor\":\"#506784\",\"linecolor\":\"#506784\",\"ticks\":\"\"},\"baxis\":{\"gridcolor\":\"#506784\",\"linecolor\":\"#506784\",\"ticks\":\"\"},\"bgcolor\":\"rgb(17,17,17)\",\"caxis\":{\"gridcolor\":\"#506784\",\"linecolor\":\"#506784\",\"ticks\":\"\"}},\"title\":{\"x\":0.05},\"updatemenudefaults\":{\"bgcolor\":\"#506784\",\"borderwidth\":0},\"xaxis\":{\"automargin\":true,\"gridcolor\":\"#283442\",\"linecolor\":\"#506784\",\"ticks\":\"\",\"title\":{\"standoff\":15},\"zerolinecolor\":\"#283442\",\"zerolinewidth\":2},\"yaxis\":{\"automargin\":true,\"gridcolor\":\"#283442\",\"linecolor\":\"#506784\",\"ticks\":\"\",\"title\":{\"standoff\":15},\"zerolinecolor\":\"#283442\",\"zerolinewidth\":2}}},\"title\":{\"text\":\"Total Sleep Time, Rolling 30 Day\"},\"yaxis\":{\"title\":{\"text\":\"Sleep Time (Mins)\"}},\"xaxis\":{\"title\":{\"text\":\"Date\"}}},                        {\"responsive\": true}                    ).then(function(){\n",
       "                            \n",
       "var gd = document.getElementById('c32f6486-d38b-4bd4-b87a-c93ffc2a5344');\n",
       "var x = new MutationObserver(function (mutations, observer) {{\n",
       "        var display = window.getComputedStyle(gd).display;\n",
       "        if (!display || display === 'none') {{\n",
       "            console.log([gd, 'removed!']);\n",
       "            Plotly.purge(gd);\n",
       "            observer.disconnect();\n",
       "        }}\n",
       "}});\n",
       "\n",
       "// Listen for the removal of the full notebook cells\n",
       "var notebookContainer = gd.closest('#notebook-container');\n",
       "if (notebookContainer) {{\n",
       "    x.observe(notebookContainer, {childList: true});\n",
       "}}\n",
       "\n",
       "// Listen for the clearing of the current output cell\n",
       "var outputEl = gd.closest('.output');\n",
       "if (outputEl) {{\n",
       "    x.observe(outputEl, {childList: true});\n",
       "}}\n",
       "\n",
       "                        })                };                });            </script>        </div>"
      ]
     },
     "metadata": {},
     "output_type": "display_data"
    }
   ],
   "source": [
    "fig = go.Figure()\n",
    "\n",
    "fig.add_trace(\n",
    "    go.Scatter(\n",
    "        x = df['sleepDate']\n",
    "        , y = df['sleepData.totalSleepTime'].rolling(window=30).mean()\n",
    "        # , name = df['sleepDate.weekDay']\n",
    "        , mode='markers+lines'\n",
    "        , name='values'\n",
    "        , text = tick_text\n",
    "        , hoverinfo = 'text'\n",
    "        , marker=dict(\n",
    "            colorscale='agsunset',\n",
    "            line_width=1\n",
    "        )\n",
    "    )\n",
    ")\n",
    " \n",
    "# dark theme \n",
    "fig.layout.template = 'plotly_dark'\n",
    "\n",
    "\n",
    "fig.update_layout(title = 'Total Sleep Time, Rolling 30 Day',\n",
    "                  yaxis_title='Sleep Time (Mins)',\n",
    "                  xaxis_title='Date', \n",
    "                 )\n",
    "\n",
    "# save file to html\n",
    "fig.write_json(os.path.abspath('../../personal-site/static/plotly/sleep-proxy/total-sleep.json'))\n",
    "\n",
    "fig.show()"
   ]
  },
  {
   "cell_type": "code",
   "execution_count": 38,
   "id": "25999d03-9307-4536-b3b7-e40b59f522dc",
   "metadata": {},
   "outputs": [
    {
     "data": {
      "application/vnd.plotly.v1+json": {
       "config": {
        "plotlyServerURL": "https://plot.ly"
       },
       "data": [
        {
         "diagonal": {
          "visible": false
         },
         "dimensions": [
          {
           "label": "Sleep Time",
           "values": [
            315,
            481,
            388,
            385,
            405,
            354,
            487,
            441,
            412,
            380,
            385,
            461,
            412,
            366,
            344,
            383,
            386,
            467,
            424,
            360,
            329,
            426,
            424,
            413,
            440,
            457,
            373,
            459,
            456,
            498,
            387,
            485,
            441,
            333,
            430,
            342,
            428,
            357,
            372,
            296,
            238,
            467,
            449,
            493,
            441,
            428,
            394,
            458,
            404,
            414,
            457,
            400,
            360,
            386,
            406,
            358,
            446,
            393,
            429,
            379,
            368,
            336,
            388,
            379,
            360,
            390,
            349,
            338,
            357,
            420,
            438,
            310,
            436,
            366,
            364,
            375,
            403,
            381,
            368,
            380,
            443,
            377,
            457,
            364,
            449,
            307,
            411,
            306,
            349,
            296,
            355,
            289,
            403,
            423,
            424,
            278,
            447,
            386,
            338,
            336,
            423,
            253,
            375,
            456,
            290,
            299,
            508,
            409,
            418,
            353,
            423,
            442,
            416,
            414,
            292,
            380,
            337,
            526,
            448,
            364,
            392,
            403,
            421,
            450,
            408,
            426,
            379,
            417,
            363,
            419,
            450,
            413,
            386,
            420,
            369,
            446,
            407,
            420,
            428,
            409,
            393,
            421,
            343,
            368,
            485,
            409,
            378,
            395,
            385,
            365,
            387,
            300,
            405,
            375,
            372,
            360,
            357,
            410,
            379,
            370,
            361,
            371,
            397,
            375,
            397,
            516,
            392,
            425,
            397,
            358,
            382,
            286,
            430,
            415,
            380,
            406,
            432,
            385,
            410,
            330,
            494,
            380,
            432,
            422,
            401,
            395,
            364,
            407,
            388,
            417,
            393,
            306,
            202,
            319,
            350,
            320,
            365,
            413,
            362,
            341,
            393,
            336,
            355,
            411,
            365,
            370,
            302,
            461,
            327,
            384,
            243,
            380,
            326,
            295,
            246,
            402,
            406,
            334,
            346,
            341,
            421,
            411,
            371,
            397,
            372,
            359,
            343,
            255,
            350,
            366,
            340,
            396,
            337,
            442,
            353,
            432,
            352,
            382,
            367,
            433,
            240,
            344,
            357,
            451,
            416,
            311,
            439,
            389,
            453,
            450,
            345,
            454,
            385,
            357,
            346,
            340,
            346,
            339,
            445,
            420,
            299,
            487,
            511,
            440,
            432,
            404,
            378,
            460,
            401,
            482,
            458,
            387,
            419,
            388,
            366,
            298,
            422,
            354,
            350,
            452,
            373,
            284,
            426,
            353,
            240,
            419,
            393,
            417,
            353,
            378,
            284,
            440,
            387,
            390,
            362,
            218,
            455,
            301,
            207,
            417,
            378,
            322,
            363,
            364,
            491,
            340,
            399,
            353,
            412,
            360,
            435,
            438,
            429,
            209,
            342,
            360,
            393,
            463,
            323,
            403,
            417,
            337,
            357,
            444,
            377,
            441,
            365,
            381,
            404,
            352,
            399,
            499,
            295,
            427,
            471,
            385,
            461,
            452,
            431,
            455,
            406,
            456,
            417,
            398,
            500,
            354,
            427,
            336,
            538
           ]
          },
          {
           "label": "Deep Time",
           "values": [
            57,
            148,
            147,
            155,
            116,
            94,
            186,
            73,
            83,
            80,
            119,
            97,
            88,
            107,
            79,
            61,
            101,
            175,
            98,
            99,
            61,
            66,
            111,
            94,
            124,
            111,
            109,
            91,
            182,
            105,
            145,
            189,
            85,
            109,
            75,
            116,
            51,
            101,
            138,
            66,
            89,
            196,
            66,
            202,
            145,
            123,
            67,
            88,
            99,
            67,
            125,
            149,
            78,
            122,
            87,
            96,
            83,
            116,
            93,
            101,
            85,
            120,
            117,
            121,
            150,
            111,
            97,
            62,
            101,
            102,
            121,
            68,
            119,
            66,
            83,
            103,
            87,
            118,
            72,
            88,
            145,
            128,
            141,
            105,
            116,
            58,
            99,
            68,
            78,
            88,
            104,
            107,
            73,
            94,
            150,
            134,
            92,
            110,
            85,
            125,
            98,
            86,
            136,
            171,
            94,
            123,
            128,
            165,
            143,
            122,
            57,
            54,
            80,
            66,
            84,
            97,
            45,
            99,
            66,
            56,
            125,
            136,
            142,
            85,
            82,
            99,
            144,
            137,
            85,
            114,
            131,
            146,
            122,
            72,
            116,
            134,
            134,
            109,
            125,
            60,
            139,
            137,
            52,
            119,
            150,
            82,
            79,
            64,
            104,
            97,
            114,
            108,
            121,
            67,
            103,
            52,
            152,
            131,
            144,
            115,
            98,
            113,
            67,
            131,
            97,
            108,
            98,
            113,
            139,
            107,
            90,
            55,
            96,
            57,
            74,
            109,
            110,
            115,
            108,
            85,
            102,
            125,
            133,
            107,
            133,
            84,
            86,
            83,
            81,
            122,
            77,
            53,
            41,
            133,
            90,
            105,
            74,
            114,
            96,
            102,
            73,
            108,
            76,
            122,
            106,
            105,
            100,
            169,
            102,
            81,
            61,
            125,
            109,
            83,
            136,
            118,
            141,
            129,
            89,
            131,
            135,
            178,
            69,
            64,
            108,
            111,
            118,
            30,
            67,
            115,
            89,
            50,
            62,
            66,
            139,
            105,
            109,
            91,
            106,
            164,
            76,
            142,
            43,
            81,
            71,
            100,
            85,
            114,
            80,
            85,
            23,
            127,
            80,
            76,
            74,
            68,
            73,
            95,
            43,
            104,
            92,
            71,
            114,
            192,
            118,
            106,
            99,
            122,
            108,
            188,
            134,
            118,
            45,
            97,
            80,
            55,
            76,
            88,
            47,
            91,
            88,
            110,
            120,
            99,
            102,
            50,
            118,
            100,
            37,
            135,
            67,
            112,
            94,
            85,
            124,
            79,
            147,
            88,
            78,
            120,
            99,
            118,
            117,
            106,
            70,
            118,
            93,
            74,
            127,
            79,
            66,
            84,
            144,
            55,
            94,
            118,
            54,
            111,
            42,
            76,
            83,
            99,
            124,
            88,
            50,
            163,
            122,
            87,
            0,
            94,
            170,
            114,
            109,
            116,
            148,
            102,
            89,
            91,
            107,
            135,
            96,
            137,
            129,
            72,
            152,
            96,
            140,
            83,
            146
           ]
          },
          {
           "label": "Max HR",
           "values": [
            72,
            75,
            69,
            71,
            74,
            81,
            76,
            79,
            75,
            80,
            76,
            72,
            83,
            80,
            76,
            79,
            76,
            74,
            73,
            74,
            76,
            80,
            78,
            77,
            77,
            77,
            78,
            78,
            89,
            75,
            74,
            72,
            87,
            67,
            68,
            68,
            75,
            75,
            72,
            65,
            79,
            76,
            79,
            75,
            68,
            73,
            72,
            74,
            71,
            73,
            71,
            64,
            71,
            71,
            73,
            76,
            74,
            78,
            79,
            72,
            81,
            78,
            75,
            77,
            87,
            78,
            76,
            84,
            75,
            79,
            80,
            78,
            71,
            85,
            60,
            70,
            80,
            68,
            74,
            81,
            71,
            84,
            77,
            69,
            72,
            73,
            73,
            69,
            72,
            58,
            69,
            75,
            79,
            74,
            81,
            67,
            75,
            83,
            70,
            75,
            75,
            70,
            71,
            66,
            62,
            74,
            72,
            75,
            61,
            64,
            76,
            72,
            70,
            69,
            69,
            76,
            69,
            77,
            77,
            74,
            76,
            83,
            81,
            81,
            77,
            72,
            73,
            75,
            70,
            70,
            83,
            73,
            77,
            80,
            75,
            79,
            72,
            73,
            78,
            79,
            77,
            76,
            75,
            76,
            77,
            76,
            82,
            69,
            73,
            80,
            84,
            71,
            78,
            73,
            72,
            78,
            76,
            70,
            78,
            79,
            73,
            75,
            74,
            83,
            77,
            77,
            76,
            75,
            79,
            70,
            75,
            70,
            75,
            89,
            78,
            76,
            79,
            80,
            73,
            80,
            77,
            78,
            78,
            77,
            79,
            85,
            82,
            80,
            80,
            78,
            74,
            79,
            76,
            81,
            77,
            68,
            76,
            80,
            76,
            78,
            81,
            71,
            76,
            79,
            79,
            71,
            86,
            79,
            76,
            79,
            65,
            81,
            68,
            78,
            65,
            74,
            79,
            75,
            74,
            71,
            80,
            74,
            76,
            79,
            73,
            78,
            78,
            71,
            81,
            74,
            93,
            78,
            77,
            77,
            76,
            80,
            77,
            76,
            73,
            86,
            67,
            79,
            75,
            79,
            75,
            81,
            74,
            78,
            76,
            79,
            79,
            78,
            75,
            74,
            93,
            77,
            78,
            82,
            78,
            82,
            80,
            81,
            84,
            77,
            84,
            76,
            79,
            81,
            79,
            80,
            78,
            78,
            76,
            81,
            78,
            77,
            76,
            78,
            77,
            79,
            88,
            76,
            79,
            95,
            79,
            76,
            77,
            79,
            78,
            79,
            82,
            78,
            76,
            79,
            78,
            74,
            86,
            77,
            69,
            78,
            80,
            85,
            80,
            79,
            79,
            75,
            77,
            76,
            81,
            78,
            77,
            79,
            79,
            71,
            83,
            82,
            96,
            78,
            79,
            72,
            85,
            71,
            76,
            75,
            78,
            78,
            81,
            70,
            82,
            81,
            76,
            81,
            92,
            76,
            80,
            77,
            77,
            74,
            78,
            77,
            82,
            76,
            79,
            77,
            71,
            77,
            75,
            95,
            79
           ]
          },
          {
           "label": "Min HR",
           "values": [
            43,
            42,
            43,
            44,
            42,
            42,
            41,
            43,
            43,
            48,
            46,
            43,
            45,
            45,
            45,
            41,
            41,
            49,
            44,
            50,
            40,
            44,
            46,
            43,
            45,
            46,
            53,
            41,
            45,
            42,
            41,
            41,
            40,
            43,
            41,
            42,
            47,
            44,
            52,
            49,
            49,
            41,
            42,
            42,
            41,
            41,
            42,
            39,
            40,
            42,
            45,
            44,
            46,
            51,
            51,
            52,
            44,
            45,
            46,
            48,
            44,
            49,
            44,
            49,
            48,
            46,
            50,
            44,
            45,
            47,
            42,
            43,
            43,
            45,
            45,
            53,
            45,
            45,
            46,
            45,
            48,
            45,
            47,
            47,
            42,
            42,
            43,
            45,
            44,
            48,
            44,
            43,
            42,
            46,
            42,
            45,
            45,
            43,
            41,
            45,
            47,
            43,
            42,
            46,
            50,
            48,
            42,
            51,
            43,
            45,
            43,
            45,
            44,
            41,
            45,
            47,
            52,
            42,
            46,
            50,
            51,
            48,
            49,
            51,
            42,
            41,
            52,
            43,
            48,
            44,
            43,
            47,
            42,
            50,
            43,
            48,
            44,
            45,
            43,
            47,
            40,
            43,
            44,
            42,
            44,
            43,
            43,
            46,
            41,
            47,
            42,
            46,
            45,
            41,
            45,
            37,
            44,
            47,
            48,
            42,
            43,
            42,
            44,
            45,
            48,
            51,
            50,
            42,
            45,
            41,
            41,
            54,
            46,
            51,
            43,
            45,
            42,
            45,
            42,
            46,
            42,
            45,
            46,
            44,
            44,
            43,
            51,
            42,
            42,
            45,
            46,
            44,
            52,
            53,
            42,
            42,
            44,
            46,
            41,
            46,
            46,
            44,
            48,
            45,
            48,
            43,
            51,
            48,
            43,
            42,
            51,
            46,
            44,
            54,
            41,
            41,
            40,
            42,
            41,
            43,
            49,
            45,
            40,
            43,
            42,
            42,
            46,
            47,
            46,
            42,
            43,
            51,
            45,
            43,
            52,
            49,
            43,
            46,
            42,
            42,
            49,
            44,
            45,
            41,
            44,
            52,
            44,
            45,
            45,
            45,
            42,
            41,
            52,
            49,
            46,
            45,
            39,
            46,
            44,
            47,
            52,
            45,
            49,
            48,
            40,
            46,
            44,
            46,
            48,
            42,
            48,
            44,
            41,
            48,
            41,
            50,
            49,
            46,
            44,
            43,
            49,
            43,
            44,
            48,
            42,
            49,
            44,
            43,
            45,
            42,
            45,
            44,
            49,
            43,
            42,
            49,
            49,
            45,
            51,
            42,
            44,
            45,
            48,
            40,
            47,
            43,
            53,
            42,
            52,
            43,
            45,
            46,
            50,
            46,
            45,
            51,
            48,
            42,
            47,
            50,
            42,
            44,
            49,
            42,
            42,
            41,
            51,
            42,
            48,
            47,
            42,
            46,
            45,
            43,
            44,
            46,
            44,
            43,
            44,
            46,
            46,
            43,
            42,
            43,
            44,
            40,
            43,
            48,
            46
           ]
          }
         ],
         "text": [
          "Sleep Time: 315 mins<br> Deep Sleep Time: 57 mins<br> Avg Heart Rate: 52 bpm",
          "Sleep Time: 481 mins<br> Deep Sleep Time: 148 mins<br> Avg Heart Rate: 54 bpm",
          "Sleep Time: 388 mins<br> Deep Sleep Time: 147 mins<br> Avg Heart Rate: 54 bpm",
          "Sleep Time: 385 mins<br> Deep Sleep Time: 155 mins<br> Avg Heart Rate: 51 bpm",
          "Sleep Time: 405 mins<br> Deep Sleep Time: 116 mins<br> Avg Heart Rate: 52 bpm",
          "Sleep Time: 354 mins<br> Deep Sleep Time: 94 mins<br> Avg Heart Rate: 57 bpm",
          "Sleep Time: 487 mins<br> Deep Sleep Time: 186 mins<br> Avg Heart Rate: 57 bpm",
          "Sleep Time: 441 mins<br> Deep Sleep Time: 73 mins<br> Avg Heart Rate: 54 bpm",
          "Sleep Time: 412 mins<br> Deep Sleep Time: 83 mins<br> Avg Heart Rate: 54 bpm",
          "Sleep Time: 380 mins<br> Deep Sleep Time: 80 mins<br> Avg Heart Rate: 56 bpm",
          "Sleep Time: 385 mins<br> Deep Sleep Time: 119 mins<br> Avg Heart Rate: 53 bpm",
          "Sleep Time: 461 mins<br> Deep Sleep Time: 97 mins<br> Avg Heart Rate: 53 bpm",
          "Sleep Time: 412 mins<br> Deep Sleep Time: 88 mins<br> Avg Heart Rate: 54 bpm",
          "Sleep Time: 366 mins<br> Deep Sleep Time: 107 mins<br> Avg Heart Rate: 59 bpm",
          "Sleep Time: 344 mins<br> Deep Sleep Time: 79 mins<br> Avg Heart Rate: 54 bpm",
          "Sleep Time: 383 mins<br> Deep Sleep Time: 61 mins<br> Avg Heart Rate: 52 bpm",
          "Sleep Time: 386 mins<br> Deep Sleep Time: 101 mins<br> Avg Heart Rate: 53 bpm",
          "Sleep Time: 467 mins<br> Deep Sleep Time: 175 mins<br> Avg Heart Rate: 55 bpm",
          "Sleep Time: 424 mins<br> Deep Sleep Time: 98 mins<br> Avg Heart Rate: 55 bpm",
          "Sleep Time: 360 mins<br> Deep Sleep Time: 99 mins<br> Avg Heart Rate: 57 bpm",
          "Sleep Time: 329 mins<br> Deep Sleep Time: 61 mins<br> Avg Heart Rate: 56 bpm",
          "Sleep Time: 426 mins<br> Deep Sleep Time: 66 mins<br> Avg Heart Rate: 59 bpm",
          "Sleep Time: 424 mins<br> Deep Sleep Time: 111 mins<br> Avg Heart Rate: 60 bpm",
          "Sleep Time: 413 mins<br> Deep Sleep Time: 94 mins<br> Avg Heart Rate: 55 bpm",
          "Sleep Time: 440 mins<br> Deep Sleep Time: 124 mins<br> Avg Heart Rate: 55 bpm",
          "Sleep Time: 457 mins<br> Deep Sleep Time: 111 mins<br> Avg Heart Rate: 59 bpm",
          "Sleep Time: 373 mins<br> Deep Sleep Time: 109 mins<br> Avg Heart Rate: 59 bpm",
          "Sleep Time: 459 mins<br> Deep Sleep Time: 91 mins<br> Avg Heart Rate: 60 bpm",
          "Sleep Time: 456 mins<br> Deep Sleep Time: 182 mins<br> Avg Heart Rate: 60 bpm",
          "Sleep Time: 498 mins<br> Deep Sleep Time: 105 mins<br> Avg Heart Rate: 54 bpm",
          "Sleep Time: 387 mins<br> Deep Sleep Time: 145 mins<br> Avg Heart Rate: 52 bpm",
          "Sleep Time: 485 mins<br> Deep Sleep Time: 189 mins<br> Avg Heart Rate: 51 bpm",
          "Sleep Time: 441 mins<br> Deep Sleep Time: 85 mins<br> Avg Heart Rate: 56 bpm",
          "Sleep Time: 333 mins<br> Deep Sleep Time: 109 mins<br> Avg Heart Rate: 49 bpm",
          "Sleep Time: 430 mins<br> Deep Sleep Time: 75 mins<br> Avg Heart Rate: 48 bpm",
          "Sleep Time: 342 mins<br> Deep Sleep Time: 116 mins<br> Avg Heart Rate: 50 bpm",
          "Sleep Time: 428 mins<br> Deep Sleep Time: 51 mins<br> Avg Heart Rate: 57 bpm",
          "Sleep Time: 357 mins<br> Deep Sleep Time: 101 mins<br> Avg Heart Rate: 53 bpm",
          "Sleep Time: 372 mins<br> Deep Sleep Time: 138 mins<br> Avg Heart Rate: 59 bpm",
          "Sleep Time: 296 mins<br> Deep Sleep Time: 66 mins<br> Avg Heart Rate: 54 bpm",
          "Sleep Time: 238 mins<br> Deep Sleep Time: 89 mins<br> Avg Heart Rate: 55 bpm",
          "Sleep Time: 467 mins<br> Deep Sleep Time: 196 mins<br> Avg Heart Rate: 55 bpm",
          "Sleep Time: 449 mins<br> Deep Sleep Time: 66 mins<br> Avg Heart Rate: 55 bpm",
          "Sleep Time: 493 mins<br> Deep Sleep Time: 202 mins<br> Avg Heart Rate: 52 bpm",
          "Sleep Time: 441 mins<br> Deep Sleep Time: 145 mins<br> Avg Heart Rate: 48 bpm",
          "Sleep Time: 428 mins<br> Deep Sleep Time: 123 mins<br> Avg Heart Rate: 51 bpm",
          "Sleep Time: 394 mins<br> Deep Sleep Time: 67 mins<br> Avg Heart Rate: 54 bpm",
          "Sleep Time: 458 mins<br> Deep Sleep Time: 88 mins<br> Avg Heart Rate: 57 bpm",
          "Sleep Time: 404 mins<br> Deep Sleep Time: 99 mins<br> Avg Heart Rate: 49 bpm",
          "Sleep Time: 414 mins<br> Deep Sleep Time: 67 mins<br> Avg Heart Rate: 49 bpm",
          "Sleep Time: 457 mins<br> Deep Sleep Time: 125 mins<br> Avg Heart Rate: 53 bpm",
          "Sleep Time: 400 mins<br> Deep Sleep Time: 149 mins<br> Avg Heart Rate: 50 bpm",
          "Sleep Time: 360 mins<br> Deep Sleep Time: 78 mins<br> Avg Heart Rate: 55 bpm",
          "Sleep Time: 386 mins<br> Deep Sleep Time: 122 mins<br> Avg Heart Rate: 55 bpm",
          "Sleep Time: 406 mins<br> Deep Sleep Time: 87 mins<br> Avg Heart Rate: 56 bpm",
          "Sleep Time: 358 mins<br> Deep Sleep Time: 96 mins<br> Avg Heart Rate: 60 bpm",
          "Sleep Time: 446 mins<br> Deep Sleep Time: 83 mins<br> Avg Heart Rate: 54 bpm",
          "Sleep Time: 393 mins<br> Deep Sleep Time: 116 mins<br> Avg Heart Rate: 56 bpm",
          "Sleep Time: 429 mins<br> Deep Sleep Time: 93 mins<br> Avg Heart Rate: 57 bpm",
          "Sleep Time: 379 mins<br> Deep Sleep Time: 101 mins<br> Avg Heart Rate: 56 bpm",
          "Sleep Time: 368 mins<br> Deep Sleep Time: 85 mins<br> Avg Heart Rate: 54 bpm",
          "Sleep Time: 336 mins<br> Deep Sleep Time: 120 mins<br> Avg Heart Rate: 57 bpm",
          "Sleep Time: 388 mins<br> Deep Sleep Time: 117 mins<br> Avg Heart Rate: 57 bpm",
          "Sleep Time: 379 mins<br> Deep Sleep Time: 121 mins<br> Avg Heart Rate: 61 bpm",
          "Sleep Time: 360 mins<br> Deep Sleep Time: 150 mins<br> Avg Heart Rate: 56 bpm",
          "Sleep Time: 390 mins<br> Deep Sleep Time: 111 mins<br> Avg Heart Rate: 60 bpm",
          "Sleep Time: 349 mins<br> Deep Sleep Time: 97 mins<br> Avg Heart Rate: 58 bpm",
          "Sleep Time: 338 mins<br> Deep Sleep Time: 62 mins<br> Avg Heart Rate: 56 bpm",
          "Sleep Time: 357 mins<br> Deep Sleep Time: 101 mins<br> Avg Heart Rate: 56 bpm",
          "Sleep Time: 420 mins<br> Deep Sleep Time: 102 mins<br> Avg Heart Rate: 61 bpm",
          "Sleep Time: 438 mins<br> Deep Sleep Time: 121 mins<br> Avg Heart Rate: 61 bpm",
          "Sleep Time: 310 mins<br> Deep Sleep Time: 68 mins<br> Avg Heart Rate: 55 bpm",
          "Sleep Time: 436 mins<br> Deep Sleep Time: 119 mins<br> Avg Heart Rate: 53 bpm",
          "Sleep Time: 366 mins<br> Deep Sleep Time: 66 mins<br> Avg Heart Rate: 54 bpm",
          "Sleep Time: 364 mins<br> Deep Sleep Time: 83 mins<br> Avg Heart Rate: 50 bpm",
          "Sleep Time: 375 mins<br> Deep Sleep Time: 103 mins<br> Avg Heart Rate: 57 bpm",
          "Sleep Time: 403 mins<br> Deep Sleep Time: 87 mins<br> Avg Heart Rate: 61 bpm",
          "Sleep Time: 381 mins<br> Deep Sleep Time: 118 mins<br> Avg Heart Rate: 52 bpm",
          "Sleep Time: 368 mins<br> Deep Sleep Time: 72 mins<br> Avg Heart Rate: 56 bpm",
          "Sleep Time: 380 mins<br> Deep Sleep Time: 88 mins<br> Avg Heart Rate: 57 bpm",
          "Sleep Time: 443 mins<br> Deep Sleep Time: 145 mins<br> Avg Heart Rate: 55 bpm",
          "Sleep Time: 377 mins<br> Deep Sleep Time: 128 mins<br> Avg Heart Rate: 52 bpm",
          "Sleep Time: 457 mins<br> Deep Sleep Time: 141 mins<br> Avg Heart Rate: 56 bpm",
          "Sleep Time: 364 mins<br> Deep Sleep Time: 105 mins<br> Avg Heart Rate: 53 bpm",
          "Sleep Time: 449 mins<br> Deep Sleep Time: 116 mins<br> Avg Heart Rate: 53 bpm",
          "Sleep Time: 307 mins<br> Deep Sleep Time: 58 mins<br> Avg Heart Rate: 54 bpm",
          "Sleep Time: 411 mins<br> Deep Sleep Time: 99 mins<br> Avg Heart Rate: 53 bpm",
          "Sleep Time: 306 mins<br> Deep Sleep Time: 68 mins<br> Avg Heart Rate: 52 bpm",
          "Sleep Time: 349 mins<br> Deep Sleep Time: 78 mins<br> Avg Heart Rate: 52 bpm",
          "Sleep Time: 296 mins<br> Deep Sleep Time: 88 mins<br> Avg Heart Rate: 53 bpm",
          "Sleep Time: 355 mins<br> Deep Sleep Time: 104 mins<br> Avg Heart Rate: 50 bpm",
          "Sleep Time: 289 mins<br> Deep Sleep Time: 107 mins<br> Avg Heart Rate: 52 bpm",
          "Sleep Time: 403 mins<br> Deep Sleep Time: 73 mins<br> Avg Heart Rate: 54 bpm",
          "Sleep Time: 423 mins<br> Deep Sleep Time: 94 mins<br> Avg Heart Rate: 52 bpm",
          "Sleep Time: 424 mins<br> Deep Sleep Time: 150 mins<br> Avg Heart Rate: 53 bpm",
          "Sleep Time: 278 mins<br> Deep Sleep Time: 134 mins<br> Avg Heart Rate: 54 bpm",
          "Sleep Time: 447 mins<br> Deep Sleep Time: 92 mins<br> Avg Heart Rate: 52 bpm",
          "Sleep Time: 386 mins<br> Deep Sleep Time: 110 mins<br> Avg Heart Rate: 60 bpm",
          "Sleep Time: 338 mins<br> Deep Sleep Time: 85 mins<br> Avg Heart Rate: 49 bpm",
          "Sleep Time: 336 mins<br> Deep Sleep Time: 125 mins<br> Avg Heart Rate: 51 bpm",
          "Sleep Time: 423 mins<br> Deep Sleep Time: 98 mins<br> Avg Heart Rate: 58 bpm",
          "Sleep Time: 253 mins<br> Deep Sleep Time: 86 mins<br> Avg Heart Rate: 49 bpm",
          "Sleep Time: 375 mins<br> Deep Sleep Time: 136 mins<br> Avg Heart Rate: 49 bpm",
          "Sleep Time: 456 mins<br> Deep Sleep Time: 171 mins<br> Avg Heart Rate: 55 bpm",
          "Sleep Time: 290 mins<br> Deep Sleep Time: 94 mins<br> Avg Heart Rate: 56 bpm",
          "Sleep Time: 299 mins<br> Deep Sleep Time: 123 mins<br> Avg Heart Rate: 53 bpm",
          "Sleep Time: 508 mins<br> Deep Sleep Time: 128 mins<br> Avg Heart Rate: 53 bpm",
          "Sleep Time: 409 mins<br> Deep Sleep Time: 165 mins<br> Avg Heart Rate: 57 bpm",
          "Sleep Time: 418 mins<br> Deep Sleep Time: 143 mins<br> Avg Heart Rate: 51 bpm",
          "Sleep Time: 353 mins<br> Deep Sleep Time: 122 mins<br> Avg Heart Rate: 51 bpm",
          "Sleep Time: 423 mins<br> Deep Sleep Time: 57 mins<br> Avg Heart Rate: 50 bpm",
          "Sleep Time: 442 mins<br> Deep Sleep Time: 54 mins<br> Avg Heart Rate: 51 bpm",
          "Sleep Time: 416 mins<br> Deep Sleep Time: 80 mins<br> Avg Heart Rate: 50 bpm",
          "Sleep Time: 414 mins<br> Deep Sleep Time: 66 mins<br> Avg Heart Rate: 50 bpm",
          "Sleep Time: 292 mins<br> Deep Sleep Time: 84 mins<br> Avg Heart Rate: 50 bpm",
          "Sleep Time: 380 mins<br> Deep Sleep Time: 97 mins<br> Avg Heart Rate: 52 bpm",
          "Sleep Time: 337 mins<br> Deep Sleep Time: 45 mins<br> Avg Heart Rate: 56 bpm",
          "Sleep Time: 526 mins<br> Deep Sleep Time: 99 mins<br> Avg Heart Rate: 54 bpm",
          "Sleep Time: 448 mins<br> Deep Sleep Time: 66 mins<br> Avg Heart Rate: 54 bpm",
          "Sleep Time: 364 mins<br> Deep Sleep Time: 56 mins<br> Avg Heart Rate: 56 bpm",
          "Sleep Time: 392 mins<br> Deep Sleep Time: 125 mins<br> Avg Heart Rate: 57 bpm",
          "Sleep Time: 403 mins<br> Deep Sleep Time: 136 mins<br> Avg Heart Rate: 56 bpm",
          "Sleep Time: 421 mins<br> Deep Sleep Time: 142 mins<br> Avg Heart Rate: 59 bpm",
          "Sleep Time: 450 mins<br> Deep Sleep Time: 85 mins<br> Avg Heart Rate: 59 bpm",
          "Sleep Time: 408 mins<br> Deep Sleep Time: 82 mins<br> Avg Heart Rate: 57 bpm",
          "Sleep Time: 426 mins<br> Deep Sleep Time: 99 mins<br> Avg Heart Rate: 52 bpm",
          "Sleep Time: 379 mins<br> Deep Sleep Time: 144 mins<br> Avg Heart Rate: 59 bpm",
          "Sleep Time: 417 mins<br> Deep Sleep Time: 137 mins<br> Avg Heart Rate: 52 bpm",
          "Sleep Time: 363 mins<br> Deep Sleep Time: 85 mins<br> Avg Heart Rate: 54 bpm",
          "Sleep Time: 419 mins<br> Deep Sleep Time: 114 mins<br> Avg Heart Rate: 52 bpm",
          "Sleep Time: 450 mins<br> Deep Sleep Time: 131 mins<br> Avg Heart Rate: 56 bpm",
          "Sleep Time: 413 mins<br> Deep Sleep Time: 146 mins<br> Avg Heart Rate: 58 bpm",
          "Sleep Time: 386 mins<br> Deep Sleep Time: 122 mins<br> Avg Heart Rate: 58 bpm",
          "Sleep Time: 420 mins<br> Deep Sleep Time: 72 mins<br> Avg Heart Rate: 57 bpm",
          "Sleep Time: 369 mins<br> Deep Sleep Time: 116 mins<br> Avg Heart Rate: 52 bpm",
          "Sleep Time: 446 mins<br> Deep Sleep Time: 134 mins<br> Avg Heart Rate: 58 bpm",
          "Sleep Time: 407 mins<br> Deep Sleep Time: 134 mins<br> Avg Heart Rate: 54 bpm",
          "Sleep Time: 420 mins<br> Deep Sleep Time: 109 mins<br> Avg Heart Rate: 57 bpm",
          "Sleep Time: 428 mins<br> Deep Sleep Time: 125 mins<br> Avg Heart Rate: 60 bpm",
          "Sleep Time: 409 mins<br> Deep Sleep Time: 60 mins<br> Avg Heart Rate: 55 bpm",
          "Sleep Time: 393 mins<br> Deep Sleep Time: 139 mins<br> Avg Heart Rate: 59 bpm",
          "Sleep Time: 421 mins<br> Deep Sleep Time: 137 mins<br> Avg Heart Rate: 57 bpm",
          "Sleep Time: 343 mins<br> Deep Sleep Time: 52 mins<br> Avg Heart Rate: 53 bpm",
          "Sleep Time: 368 mins<br> Deep Sleep Time: 119 mins<br> Avg Heart Rate: 57 bpm",
          "Sleep Time: 485 mins<br> Deep Sleep Time: 150 mins<br> Avg Heart Rate: 53 bpm",
          "Sleep Time: 409 mins<br> Deep Sleep Time: 82 mins<br> Avg Heart Rate: 59 bpm",
          "Sleep Time: 378 mins<br> Deep Sleep Time: 79 mins<br> Avg Heart Rate: 56 bpm",
          "Sleep Time: 395 mins<br> Deep Sleep Time: 64 mins<br> Avg Heart Rate: 53 bpm",
          "Sleep Time: 385 mins<br> Deep Sleep Time: 104 mins<br> Avg Heart Rate: 52 bpm",
          "Sleep Time: 365 mins<br> Deep Sleep Time: 97 mins<br> Avg Heart Rate: 53 bpm",
          "Sleep Time: 387 mins<br> Deep Sleep Time: 114 mins<br> Avg Heart Rate: 53 bpm",
          "Sleep Time: 300 mins<br> Deep Sleep Time: 108 mins<br> Avg Heart Rate: 52 bpm",
          "Sleep Time: 405 mins<br> Deep Sleep Time: 121 mins<br> Avg Heart Rate: 54 bpm",
          "Sleep Time: 375 mins<br> Deep Sleep Time: 67 mins<br> Avg Heart Rate: 54 bpm",
          "Sleep Time: 372 mins<br> Deep Sleep Time: 103 mins<br> Avg Heart Rate: 55 bpm",
          "Sleep Time: 360 mins<br> Deep Sleep Time: 52 mins<br> Avg Heart Rate: 52 bpm",
          "Sleep Time: 357 mins<br> Deep Sleep Time: 152 mins<br> Avg Heart Rate: 56 bpm",
          "Sleep Time: 410 mins<br> Deep Sleep Time: 131 mins<br> Avg Heart Rate: 55 bpm",
          "Sleep Time: 379 mins<br> Deep Sleep Time: 144 mins<br> Avg Heart Rate: 57 bpm",
          "Sleep Time: 370 mins<br> Deep Sleep Time: 115 mins<br> Avg Heart Rate: 56 bpm",
          "Sleep Time: 361 mins<br> Deep Sleep Time: 98 mins<br> Avg Heart Rate: 51 bpm",
          "Sleep Time: 371 mins<br> Deep Sleep Time: 113 mins<br> Avg Heart Rate: 53 bpm",
          "Sleep Time: 397 mins<br> Deep Sleep Time: 67 mins<br> Avg Heart Rate: 55 bpm",
          "Sleep Time: 375 mins<br> Deep Sleep Time: 131 mins<br> Avg Heart Rate: 59 bpm",
          "Sleep Time: 397 mins<br> Deep Sleep Time: 97 mins<br> Avg Heart Rate: 56 bpm",
          "Sleep Time: 516 mins<br> Deep Sleep Time: 108 mins<br> Avg Heart Rate: 60 bpm",
          "Sleep Time: 392 mins<br> Deep Sleep Time: 98 mins<br> Avg Heart Rate: 57 bpm",
          "Sleep Time: 425 mins<br> Deep Sleep Time: 113 mins<br> Avg Heart Rate: 55 bpm",
          "Sleep Time: 397 mins<br> Deep Sleep Time: 139 mins<br> Avg Heart Rate: 59 bpm",
          "Sleep Time: 358 mins<br> Deep Sleep Time: 107 mins<br> Avg Heart Rate: 52 bpm",
          "Sleep Time: 382 mins<br> Deep Sleep Time: 90 mins<br> Avg Heart Rate: 55 bpm",
          "Sleep Time: 286 mins<br> Deep Sleep Time: 55 mins<br> Avg Heart Rate: 59 bpm",
          "Sleep Time: 430 mins<br> Deep Sleep Time: 96 mins<br> Avg Heart Rate: 55 bpm",
          "Sleep Time: 415 mins<br> Deep Sleep Time: 57 mins<br> Avg Heart Rate: 67 bpm",
          "Sleep Time: 380 mins<br> Deep Sleep Time: 74 mins<br> Avg Heart Rate: 62 bpm",
          "Sleep Time: 406 mins<br> Deep Sleep Time: 109 mins<br> Avg Heart Rate: 58 bpm",
          "Sleep Time: 432 mins<br> Deep Sleep Time: 110 mins<br> Avg Heart Rate: 59 bpm",
          "Sleep Time: 385 mins<br> Deep Sleep Time: 115 mins<br> Avg Heart Rate: 59 bpm",
          "Sleep Time: 410 mins<br> Deep Sleep Time: 108 mins<br> Avg Heart Rate: 54 bpm",
          "Sleep Time: 330 mins<br> Deep Sleep Time: 85 mins<br> Avg Heart Rate: 61 bpm",
          "Sleep Time: 494 mins<br> Deep Sleep Time: 102 mins<br> Avg Heart Rate: 62 bpm",
          "Sleep Time: 380 mins<br> Deep Sleep Time: 125 mins<br> Avg Heart Rate: 61 bpm",
          "Sleep Time: 432 mins<br> Deep Sleep Time: 133 mins<br> Avg Heart Rate: 60 bpm",
          "Sleep Time: 422 mins<br> Deep Sleep Time: 107 mins<br> Avg Heart Rate: 55 bpm",
          "Sleep Time: 401 mins<br> Deep Sleep Time: 133 mins<br> Avg Heart Rate: 58 bpm",
          "Sleep Time: 395 mins<br> Deep Sleep Time: 84 mins<br> Avg Heart Rate: 55 bpm",
          "Sleep Time: 364 mins<br> Deep Sleep Time: 86 mins<br> Avg Heart Rate: 62 bpm",
          "Sleep Time: 407 mins<br> Deep Sleep Time: 83 mins<br> Avg Heart Rate: 60 bpm",
          "Sleep Time: 388 mins<br> Deep Sleep Time: 81 mins<br> Avg Heart Rate: 64 bpm",
          "Sleep Time: 417 mins<br> Deep Sleep Time: 122 mins<br> Avg Heart Rate: 59 bpm",
          "Sleep Time: 393 mins<br> Deep Sleep Time: 77 mins<br> Avg Heart Rate: 59 bpm",
          "Sleep Time: 306 mins<br> Deep Sleep Time: 53 mins<br> Avg Heart Rate: 54 bpm",
          "Sleep Time: 202 mins<br> Deep Sleep Time: 41 mins<br> Avg Heart Rate: 62 bpm",
          "Sleep Time: 319 mins<br> Deep Sleep Time: 133 mins<br> Avg Heart Rate: 60 bpm",
          "Sleep Time: 350 mins<br> Deep Sleep Time: 90 mins<br> Avg Heart Rate: 57 bpm",
          "Sleep Time: 320 mins<br> Deep Sleep Time: 105 mins<br> Avg Heart Rate: 50 bpm",
          "Sleep Time: 365 mins<br> Deep Sleep Time: 74 mins<br> Avg Heart Rate: 57 bpm",
          "Sleep Time: 413 mins<br> Deep Sleep Time: 114 mins<br> Avg Heart Rate: 57 bpm",
          "Sleep Time: 362 mins<br> Deep Sleep Time: 96 mins<br> Avg Heart Rate: 52 bpm",
          "Sleep Time: 341 mins<br> Deep Sleep Time: 102 mins<br> Avg Heart Rate: 57 bpm",
          "Sleep Time: 393 mins<br> Deep Sleep Time: 73 mins<br> Avg Heart Rate: 55 bpm",
          "Sleep Time: 336 mins<br> Deep Sleep Time: 108 mins<br> Avg Heart Rate: 52 bpm",
          "Sleep Time: 355 mins<br> Deep Sleep Time: 76 mins<br> Avg Heart Rate: 59 bpm",
          "Sleep Time: 411 mins<br> Deep Sleep Time: 122 mins<br> Avg Heart Rate: 58 bpm",
          "Sleep Time: 365 mins<br> Deep Sleep Time: 106 mins<br> Avg Heart Rate: 57 bpm",
          "Sleep Time: 370 mins<br> Deep Sleep Time: 105 mins<br> Avg Heart Rate: 54 bpm",
          "Sleep Time: 302 mins<br> Deep Sleep Time: 100 mins<br> Avg Heart Rate: 63 bpm",
          "Sleep Time: 461 mins<br> Deep Sleep Time: 169 mins<br> Avg Heart Rate: 57 bpm",
          "Sleep Time: 327 mins<br> Deep Sleep Time: 102 mins<br> Avg Heart Rate: 57 bpm",
          "Sleep Time: 384 mins<br> Deep Sleep Time: 81 mins<br> Avg Heart Rate: 53 bpm",
          "Sleep Time: 243 mins<br> Deep Sleep Time: 61 mins<br> Avg Heart Rate: 56 bpm",
          "Sleep Time: 380 mins<br> Deep Sleep Time: 125 mins<br> Avg Heart Rate: 54 bpm",
          "Sleep Time: 326 mins<br> Deep Sleep Time: 109 mins<br> Avg Heart Rate: 50 bpm",
          "Sleep Time: 295 mins<br> Deep Sleep Time: 83 mins<br> Avg Heart Rate: 62 bpm",
          "Sleep Time: 246 mins<br> Deep Sleep Time: 136 mins<br> Avg Heart Rate: 48 bpm",
          "Sleep Time: 402 mins<br> Deep Sleep Time: 118 mins<br> Avg Heart Rate: 54 bpm",
          "Sleep Time: 406 mins<br> Deep Sleep Time: 141 mins<br> Avg Heart Rate: 54 bpm",
          "Sleep Time: 334 mins<br> Deep Sleep Time: 129 mins<br> Avg Heart Rate: 54 bpm",
          "Sleep Time: 346 mins<br> Deep Sleep Time: 89 mins<br> Avg Heart Rate: 55 bpm",
          "Sleep Time: 341 mins<br> Deep Sleep Time: 131 mins<br> Avg Heart Rate: 51 bpm",
          "Sleep Time: 421 mins<br> Deep Sleep Time: 135 mins<br> Avg Heart Rate: 58 bpm",
          "Sleep Time: 411 mins<br> Deep Sleep Time: 178 mins<br> Avg Heart Rate: 53 bpm",
          "Sleep Time: 371 mins<br> Deep Sleep Time: 69 mins<br> Avg Heart Rate: 58 bpm",
          "Sleep Time: 397 mins<br> Deep Sleep Time: 64 mins<br> Avg Heart Rate: 54 bpm",
          "Sleep Time: 372 mins<br> Deep Sleep Time: 108 mins<br> Avg Heart Rate: 52 bpm",
          "Sleep Time: 359 mins<br> Deep Sleep Time: 111 mins<br> Avg Heart Rate: 55 bpm",
          "Sleep Time: 343 mins<br> Deep Sleep Time: 118 mins<br> Avg Heart Rate: 55 bpm",
          "Sleep Time: 255 mins<br> Deep Sleep Time: 30 mins<br> Avg Heart Rate: 54 bpm",
          "Sleep Time: 350 mins<br> Deep Sleep Time: 67 mins<br> Avg Heart Rate: 57 bpm",
          "Sleep Time: 366 mins<br> Deep Sleep Time: 115 mins<br> Avg Heart Rate: 58 bpm",
          "Sleep Time: 340 mins<br> Deep Sleep Time: 89 mins<br> Avg Heart Rate: 56 bpm",
          "Sleep Time: 396 mins<br> Deep Sleep Time: 50 mins<br> Avg Heart Rate: 60 bpm",
          "Sleep Time: 337 mins<br> Deep Sleep Time: 62 mins<br> Avg Heart Rate: 57 bpm",
          "Sleep Time: 442 mins<br> Deep Sleep Time: 66 mins<br> Avg Heart Rate: 54 bpm",
          "Sleep Time: 353 mins<br> Deep Sleep Time: 139 mins<br> Avg Heart Rate: 59 bpm",
          "Sleep Time: 432 mins<br> Deep Sleep Time: 105 mins<br> Avg Heart Rate: 62 bpm",
          "Sleep Time: 352 mins<br> Deep Sleep Time: 109 mins<br> Avg Heart Rate: 59 bpm",
          "Sleep Time: 382 mins<br> Deep Sleep Time: 91 mins<br> Avg Heart Rate: 64 bpm",
          "Sleep Time: 367 mins<br> Deep Sleep Time: 106 mins<br> Avg Heart Rate: 58 bpm",
          "Sleep Time: 433 mins<br> Deep Sleep Time: 164 mins<br> Avg Heart Rate: 57 bpm",
          "Sleep Time: 240 mins<br> Deep Sleep Time: 76 mins<br> Avg Heart Rate: 53 bpm",
          "Sleep Time: 344 mins<br> Deep Sleep Time: 142 mins<br> Avg Heart Rate: 51 bpm",
          "Sleep Time: 357 mins<br> Deep Sleep Time: 43 mins<br> Avg Heart Rate: 54 bpm",
          "Sleep Time: 451 mins<br> Deep Sleep Time: 81 mins<br> Avg Heart Rate: 58 bpm",
          "Sleep Time: 416 mins<br> Deep Sleep Time: 71 mins<br> Avg Heart Rate: 56 bpm",
          "Sleep Time: 311 mins<br> Deep Sleep Time: 100 mins<br> Avg Heart Rate: 58 bpm",
          "Sleep Time: 439 mins<br> Deep Sleep Time: 85 mins<br> Avg Heart Rate: 54 bpm",
          "Sleep Time: 389 mins<br> Deep Sleep Time: 114 mins<br> Avg Heart Rate: 52 bpm",
          "Sleep Time: 453 mins<br> Deep Sleep Time: 80 mins<br> Avg Heart Rate: 55 bpm",
          "Sleep Time: 450 mins<br> Deep Sleep Time: 85 mins<br> Avg Heart Rate: 61 bpm",
          "Sleep Time: 345 mins<br> Deep Sleep Time: 23 mins<br> Avg Heart Rate: 56 bpm",
          "Sleep Time: 454 mins<br> Deep Sleep Time: 127 mins<br> Avg Heart Rate: 59 bpm",
          "Sleep Time: 385 mins<br> Deep Sleep Time: 80 mins<br> Avg Heart Rate: 58 bpm",
          "Sleep Time: 357 mins<br> Deep Sleep Time: 76 mins<br> Avg Heart Rate: 58 bpm",
          "Sleep Time: 346 mins<br> Deep Sleep Time: 74 mins<br> Avg Heart Rate: 61 bpm",
          "Sleep Time: 340 mins<br> Deep Sleep Time: 68 mins<br> Avg Heart Rate: 57 bpm",
          "Sleep Time: 346 mins<br> Deep Sleep Time: 73 mins<br> Avg Heart Rate: 66 bpm",
          "Sleep Time: 339 mins<br> Deep Sleep Time: 95 mins<br> Avg Heart Rate: 59 bpm",
          "Sleep Time: 445 mins<br> Deep Sleep Time: 43 mins<br> Avg Heart Rate: 58 bpm",
          "Sleep Time: 420 mins<br> Deep Sleep Time: 104 mins<br> Avg Heart Rate: 62 bpm",
          "Sleep Time: 299 mins<br> Deep Sleep Time: 92 mins<br> Avg Heart Rate: 62 bpm",
          "Sleep Time: 487 mins<br> Deep Sleep Time: 71 mins<br> Avg Heart Rate: 61 bpm",
          "Sleep Time: 511 mins<br> Deep Sleep Time: 114 mins<br> Avg Heart Rate: 64 bpm",
          "Sleep Time: 440 mins<br> Deep Sleep Time: 192 mins<br> Avg Heart Rate: 62 bpm",
          "Sleep Time: 432 mins<br> Deep Sleep Time: 118 mins<br> Avg Heart Rate: 64 bpm",
          "Sleep Time: 404 mins<br> Deep Sleep Time: 106 mins<br> Avg Heart Rate: 60 bpm",
          "Sleep Time: 378 mins<br> Deep Sleep Time: 99 mins<br> Avg Heart Rate: 60 bpm",
          "Sleep Time: 460 mins<br> Deep Sleep Time: 122 mins<br> Avg Heart Rate: 65 bpm",
          "Sleep Time: 401 mins<br> Deep Sleep Time: 108 mins<br> Avg Heart Rate: 61 bpm",
          "Sleep Time: 482 mins<br> Deep Sleep Time: 188 mins<br> Avg Heart Rate: 60 bpm",
          "Sleep Time: 458 mins<br> Deep Sleep Time: 134 mins<br> Avg Heart Rate: 69 bpm",
          "Sleep Time: 387 mins<br> Deep Sleep Time: 118 mins<br> Avg Heart Rate: 63 bpm",
          "Sleep Time: 419 mins<br> Deep Sleep Time: 45 mins<br> Avg Heart Rate: 61 bpm",
          "Sleep Time: 388 mins<br> Deep Sleep Time: 97 mins<br> Avg Heart Rate: 59 bpm",
          "Sleep Time: 366 mins<br> Deep Sleep Time: 80 mins<br> Avg Heart Rate: 60 bpm",
          "Sleep Time: 298 mins<br> Deep Sleep Time: 55 mins<br> Avg Heart Rate: 57 bpm",
          "Sleep Time: 422 mins<br> Deep Sleep Time: 76 mins<br> Avg Heart Rate: 58 bpm",
          "Sleep Time: 354 mins<br> Deep Sleep Time: 88 mins<br> Avg Heart Rate: 56 bpm",
          "Sleep Time: 350 mins<br> Deep Sleep Time: 47 mins<br> Avg Heart Rate: 62 bpm",
          "Sleep Time: 452 mins<br> Deep Sleep Time: 91 mins<br> Avg Heart Rate: 63 bpm",
          "Sleep Time: 373 mins<br> Deep Sleep Time: 88 mins<br> Avg Heart Rate: 66 bpm",
          "Sleep Time: 284 mins<br> Deep Sleep Time: 110 mins<br> Avg Heart Rate: 52 bpm",
          "Sleep Time: 426 mins<br> Deep Sleep Time: 120 mins<br> Avg Heart Rate: 60 bpm",
          "Sleep Time: 353 mins<br> Deep Sleep Time: 99 mins<br> Avg Heart Rate: 59 bpm",
          "Sleep Time: 240 mins<br> Deep Sleep Time: 102 mins<br> Avg Heart Rate: 62 bpm",
          "Sleep Time: 419 mins<br> Deep Sleep Time: 50 mins<br> Avg Heart Rate: 64 bpm",
          "Sleep Time: 393 mins<br> Deep Sleep Time: 118 mins<br> Avg Heart Rate: 65 bpm",
          "Sleep Time: 417 mins<br> Deep Sleep Time: 100 mins<br> Avg Heart Rate: 59 bpm",
          "Sleep Time: 353 mins<br> Deep Sleep Time: 37 mins<br> Avg Heart Rate: 61 bpm",
          "Sleep Time: 378 mins<br> Deep Sleep Time: 135 mins<br> Avg Heart Rate: 60 bpm",
          "Sleep Time: 284 mins<br> Deep Sleep Time: 67 mins<br> Avg Heart Rate: 57 bpm",
          "Sleep Time: 440 mins<br> Deep Sleep Time: 112 mins<br> Avg Heart Rate: 60 bpm",
          "Sleep Time: 387 mins<br> Deep Sleep Time: 94 mins<br> Avg Heart Rate: 68 bpm",
          "Sleep Time: 390 mins<br> Deep Sleep Time: 85 mins<br> Avg Heart Rate: 60 bpm",
          "Sleep Time: 362 mins<br> Deep Sleep Time: 124 mins<br> Avg Heart Rate: 61 bpm",
          "Sleep Time: 218 mins<br> Deep Sleep Time: 79 mins<br> Avg Heart Rate: 57 bpm",
          "Sleep Time: 455 mins<br> Deep Sleep Time: 147 mins<br> Avg Heart Rate: 65 bpm",
          "Sleep Time: 301 mins<br> Deep Sleep Time: 88 mins<br> Avg Heart Rate: 55 bpm",
          "Sleep Time: 207 mins<br> Deep Sleep Time: 78 mins<br> Avg Heart Rate: 55 bpm",
          "Sleep Time: 417 mins<br> Deep Sleep Time: 120 mins<br> Avg Heart Rate: 58 bpm",
          "Sleep Time: 378 mins<br> Deep Sleep Time: 99 mins<br> Avg Heart Rate: 59 bpm",
          "Sleep Time: 322 mins<br> Deep Sleep Time: 118 mins<br> Avg Heart Rate: 54 bpm",
          "Sleep Time: 363 mins<br> Deep Sleep Time: 117 mins<br> Avg Heart Rate: 55 bpm",
          "Sleep Time: 364 mins<br> Deep Sleep Time: 106 mins<br> Avg Heart Rate: 63 bpm",
          "Sleep Time: 491 mins<br> Deep Sleep Time: 70 mins<br> Avg Heart Rate: 65 bpm",
          "Sleep Time: 340 mins<br> Deep Sleep Time: 118 mins<br> Avg Heart Rate: 62 bpm",
          "Sleep Time: 399 mins<br> Deep Sleep Time: 93 mins<br> Avg Heart Rate: 62 bpm",
          "Sleep Time: 353 mins<br> Deep Sleep Time: 74 mins<br> Avg Heart Rate: 58 bpm",
          "Sleep Time: 412 mins<br> Deep Sleep Time: 127 mins<br> Avg Heart Rate: 63 bpm",
          "Sleep Time: 360 mins<br> Deep Sleep Time: 79 mins<br> Avg Heart Rate: 60 bpm",
          "Sleep Time: 435 mins<br> Deep Sleep Time: 66 mins<br> Avg Heart Rate: 57 bpm",
          "Sleep Time: 438 mins<br> Deep Sleep Time: 84 mins<br> Avg Heart Rate: 60 bpm",
          "Sleep Time: 429 mins<br> Deep Sleep Time: 144 mins<br> Avg Heart Rate: 56 bpm",
          "Sleep Time: 209 mins<br> Deep Sleep Time: 55 mins<br> Avg Heart Rate: 51 bpm",
          "Sleep Time: 342 mins<br> Deep Sleep Time: 94 mins<br> Avg Heart Rate: 50 bpm",
          "Sleep Time: 360 mins<br> Deep Sleep Time: 118 mins<br> Avg Heart Rate: 63 bpm",
          "Sleep Time: 393 mins<br> Deep Sleep Time: 54 mins<br> Avg Heart Rate: 57 bpm",
          "Sleep Time: 463 mins<br> Deep Sleep Time: 111 mins<br> Avg Heart Rate: 58 bpm",
          "Sleep Time: 323 mins<br> Deep Sleep Time: 42 mins<br> Avg Heart Rate: 56 bpm",
          "Sleep Time: 403 mins<br> Deep Sleep Time: 76 mins<br> Avg Heart Rate: 56 bpm",
          "Sleep Time: 417 mins<br> Deep Sleep Time: 83 mins<br> Avg Heart Rate: 52 bpm",
          "Sleep Time: 337 mins<br> Deep Sleep Time: 99 mins<br> Avg Heart Rate: 53 bpm",
          "Sleep Time: 357 mins<br> Deep Sleep Time: 124 mins<br> Avg Heart Rate: 57 bpm",
          "Sleep Time: 444 mins<br> Deep Sleep Time: 88 mins<br> Avg Heart Rate: 51 bpm",
          "Sleep Time: 377 mins<br> Deep Sleep Time: 50 mins<br> Avg Heart Rate: 51 bpm",
          "Sleep Time: 441 mins<br> Deep Sleep Time: 163 mins<br> Avg Heart Rate: 55 bpm",
          "Sleep Time: 365 mins<br> Deep Sleep Time: 122 mins<br> Avg Heart Rate: 59 bpm",
          "Sleep Time: 381 mins<br> Deep Sleep Time: 87 mins<br> Avg Heart Rate: 53 bpm",
          "Sleep Time: 404 mins<br> Deep Sleep Time: 0 mins<br> Avg Heart Rate: 55 bpm",
          "Sleep Time: 352 mins<br> Deep Sleep Time: 94 mins<br> Avg Heart Rate: 57 bpm",
          "Sleep Time: 399 mins<br> Deep Sleep Time: 170 mins<br> Avg Heart Rate: 58 bpm",
          "Sleep Time: 499 mins<br> Deep Sleep Time: 114 mins<br> Avg Heart Rate: 59 bpm",
          "Sleep Time: 295 mins<br> Deep Sleep Time: 109 mins<br> Avg Heart Rate: 56 bpm",
          "Sleep Time: 427 mins<br> Deep Sleep Time: 116 mins<br> Avg Heart Rate: 61 bpm",
          "Sleep Time: 471 mins<br> Deep Sleep Time: 148 mins<br> Avg Heart Rate: 60 bpm",
          "Sleep Time: 385 mins<br> Deep Sleep Time: 102 mins<br> Avg Heart Rate: 63 bpm",
          "Sleep Time: 461 mins<br> Deep Sleep Time: 89 mins<br> Avg Heart Rate: 56 bpm",
          "Sleep Time: 452 mins<br> Deep Sleep Time: 91 mins<br> Avg Heart Rate: 57 bpm",
          "Sleep Time: 431 mins<br> Deep Sleep Time: 107 mins<br> Avg Heart Rate: 66 bpm",
          "Sleep Time: 455 mins<br> Deep Sleep Time: 135 mins<br> Avg Heart Rate: 61 bpm",
          "Sleep Time: 406 mins<br> Deep Sleep Time: 96 mins<br> Avg Heart Rate: 66 bpm",
          "Sleep Time: 456 mins<br> Deep Sleep Time: 137 mins<br> Avg Heart Rate: 63 bpm",
          "Sleep Time: 417 mins<br> Deep Sleep Time: 129 mins<br> Avg Heart Rate: 59 bpm",
          "Sleep Time: 398 mins<br> Deep Sleep Time: 72 mins<br> Avg Heart Rate: 61 bpm",
          "Sleep Time: 500 mins<br> Deep Sleep Time: 152 mins<br> Avg Heart Rate: 51 bpm",
          "Sleep Time: 354 mins<br> Deep Sleep Time: 96 mins<br> Avg Heart Rate: 57 bpm",
          "Sleep Time: 427 mins<br> Deep Sleep Time: 140 mins<br> Avg Heart Rate: 55 bpm",
          "Sleep Time: 336 mins<br> Deep Sleep Time: 83 mins<br> Avg Heart Rate: 56 bpm",
          "Sleep Time: 538 mins<br> Deep Sleep Time: 146 mins<br> Avg Heart Rate: 55 bpm"
         ],
         "type": "splom"
        }
       ],
       "layout": {
        "autosize": true,
        "template": {
         "data": {
          "bar": [
           {
            "error_x": {
             "color": "#f2f5fa"
            },
            "error_y": {
             "color": "#f2f5fa"
            },
            "marker": {
             "line": {
              "color": "rgb(17,17,17)",
              "width": 0.5
             },
             "pattern": {
              "fillmode": "overlay",
              "size": 10,
              "solidity": 0.2
             }
            },
            "type": "bar"
           }
          ],
          "barpolar": [
           {
            "marker": {
             "line": {
              "color": "rgb(17,17,17)",
              "width": 0.5
             },
             "pattern": {
              "fillmode": "overlay",
              "size": 10,
              "solidity": 0.2
             }
            },
            "type": "barpolar"
           }
          ],
          "carpet": [
           {
            "aaxis": {
             "endlinecolor": "#A2B1C6",
             "gridcolor": "#506784",
             "linecolor": "#506784",
             "minorgridcolor": "#506784",
             "startlinecolor": "#A2B1C6"
            },
            "baxis": {
             "endlinecolor": "#A2B1C6",
             "gridcolor": "#506784",
             "linecolor": "#506784",
             "minorgridcolor": "#506784",
             "startlinecolor": "#A2B1C6"
            },
            "type": "carpet"
           }
          ],
          "choropleth": [
           {
            "colorbar": {
             "outlinewidth": 0,
             "ticks": ""
            },
            "type": "choropleth"
           }
          ],
          "contour": [
           {
            "colorbar": {
             "outlinewidth": 0,
             "ticks": ""
            },
            "colorscale": [
             [
              0,
              "#0d0887"
             ],
             [
              0.1111111111111111,
              "#46039f"
             ],
             [
              0.2222222222222222,
              "#7201a8"
             ],
             [
              0.3333333333333333,
              "#9c179e"
             ],
             [
              0.4444444444444444,
              "#bd3786"
             ],
             [
              0.5555555555555556,
              "#d8576b"
             ],
             [
              0.6666666666666666,
              "#ed7953"
             ],
             [
              0.7777777777777778,
              "#fb9f3a"
             ],
             [
              0.8888888888888888,
              "#fdca26"
             ],
             [
              1,
              "#f0f921"
             ]
            ],
            "type": "contour"
           }
          ],
          "contourcarpet": [
           {
            "colorbar": {
             "outlinewidth": 0,
             "ticks": ""
            },
            "type": "contourcarpet"
           }
          ],
          "heatmap": [
           {
            "colorbar": {
             "outlinewidth": 0,
             "ticks": ""
            },
            "colorscale": [
             [
              0,
              "#0d0887"
             ],
             [
              0.1111111111111111,
              "#46039f"
             ],
             [
              0.2222222222222222,
              "#7201a8"
             ],
             [
              0.3333333333333333,
              "#9c179e"
             ],
             [
              0.4444444444444444,
              "#bd3786"
             ],
             [
              0.5555555555555556,
              "#d8576b"
             ],
             [
              0.6666666666666666,
              "#ed7953"
             ],
             [
              0.7777777777777778,
              "#fb9f3a"
             ],
             [
              0.8888888888888888,
              "#fdca26"
             ],
             [
              1,
              "#f0f921"
             ]
            ],
            "type": "heatmap"
           }
          ],
          "heatmapgl": [
           {
            "colorbar": {
             "outlinewidth": 0,
             "ticks": ""
            },
            "colorscale": [
             [
              0,
              "#0d0887"
             ],
             [
              0.1111111111111111,
              "#46039f"
             ],
             [
              0.2222222222222222,
              "#7201a8"
             ],
             [
              0.3333333333333333,
              "#9c179e"
             ],
             [
              0.4444444444444444,
              "#bd3786"
             ],
             [
              0.5555555555555556,
              "#d8576b"
             ],
             [
              0.6666666666666666,
              "#ed7953"
             ],
             [
              0.7777777777777778,
              "#fb9f3a"
             ],
             [
              0.8888888888888888,
              "#fdca26"
             ],
             [
              1,
              "#f0f921"
             ]
            ],
            "type": "heatmapgl"
           }
          ],
          "histogram": [
           {
            "marker": {
             "pattern": {
              "fillmode": "overlay",
              "size": 10,
              "solidity": 0.2
             }
            },
            "type": "histogram"
           }
          ],
          "histogram2d": [
           {
            "colorbar": {
             "outlinewidth": 0,
             "ticks": ""
            },
            "colorscale": [
             [
              0,
              "#0d0887"
             ],
             [
              0.1111111111111111,
              "#46039f"
             ],
             [
              0.2222222222222222,
              "#7201a8"
             ],
             [
              0.3333333333333333,
              "#9c179e"
             ],
             [
              0.4444444444444444,
              "#bd3786"
             ],
             [
              0.5555555555555556,
              "#d8576b"
             ],
             [
              0.6666666666666666,
              "#ed7953"
             ],
             [
              0.7777777777777778,
              "#fb9f3a"
             ],
             [
              0.8888888888888888,
              "#fdca26"
             ],
             [
              1,
              "#f0f921"
             ]
            ],
            "type": "histogram2d"
           }
          ],
          "histogram2dcontour": [
           {
            "colorbar": {
             "outlinewidth": 0,
             "ticks": ""
            },
            "colorscale": [
             [
              0,
              "#0d0887"
             ],
             [
              0.1111111111111111,
              "#46039f"
             ],
             [
              0.2222222222222222,
              "#7201a8"
             ],
             [
              0.3333333333333333,
              "#9c179e"
             ],
             [
              0.4444444444444444,
              "#bd3786"
             ],
             [
              0.5555555555555556,
              "#d8576b"
             ],
             [
              0.6666666666666666,
              "#ed7953"
             ],
             [
              0.7777777777777778,
              "#fb9f3a"
             ],
             [
              0.8888888888888888,
              "#fdca26"
             ],
             [
              1,
              "#f0f921"
             ]
            ],
            "type": "histogram2dcontour"
           }
          ],
          "mesh3d": [
           {
            "colorbar": {
             "outlinewidth": 0,
             "ticks": ""
            },
            "type": "mesh3d"
           }
          ],
          "parcoords": [
           {
            "line": {
             "colorbar": {
              "outlinewidth": 0,
              "ticks": ""
             }
            },
            "type": "parcoords"
           }
          ],
          "pie": [
           {
            "automargin": true,
            "type": "pie"
           }
          ],
          "scatter": [
           {
            "marker": {
             "line": {
              "color": "#283442"
             }
            },
            "type": "scatter"
           }
          ],
          "scatter3d": [
           {
            "line": {
             "colorbar": {
              "outlinewidth": 0,
              "ticks": ""
             }
            },
            "marker": {
             "colorbar": {
              "outlinewidth": 0,
              "ticks": ""
             }
            },
            "type": "scatter3d"
           }
          ],
          "scattercarpet": [
           {
            "marker": {
             "colorbar": {
              "outlinewidth": 0,
              "ticks": ""
             }
            },
            "type": "scattercarpet"
           }
          ],
          "scattergeo": [
           {
            "marker": {
             "colorbar": {
              "outlinewidth": 0,
              "ticks": ""
             }
            },
            "type": "scattergeo"
           }
          ],
          "scattergl": [
           {
            "marker": {
             "line": {
              "color": "#283442"
             }
            },
            "type": "scattergl"
           }
          ],
          "scattermapbox": [
           {
            "marker": {
             "colorbar": {
              "outlinewidth": 0,
              "ticks": ""
             }
            },
            "type": "scattermapbox"
           }
          ],
          "scatterpolar": [
           {
            "marker": {
             "colorbar": {
              "outlinewidth": 0,
              "ticks": ""
             }
            },
            "type": "scatterpolar"
           }
          ],
          "scatterpolargl": [
           {
            "marker": {
             "colorbar": {
              "outlinewidth": 0,
              "ticks": ""
             }
            },
            "type": "scatterpolargl"
           }
          ],
          "scatterternary": [
           {
            "marker": {
             "colorbar": {
              "outlinewidth": 0,
              "ticks": ""
             }
            },
            "type": "scatterternary"
           }
          ],
          "surface": [
           {
            "colorbar": {
             "outlinewidth": 0,
             "ticks": ""
            },
            "colorscale": [
             [
              0,
              "#0d0887"
             ],
             [
              0.1111111111111111,
              "#46039f"
             ],
             [
              0.2222222222222222,
              "#7201a8"
             ],
             [
              0.3333333333333333,
              "#9c179e"
             ],
             [
              0.4444444444444444,
              "#bd3786"
             ],
             [
              0.5555555555555556,
              "#d8576b"
             ],
             [
              0.6666666666666666,
              "#ed7953"
             ],
             [
              0.7777777777777778,
              "#fb9f3a"
             ],
             [
              0.8888888888888888,
              "#fdca26"
             ],
             [
              1,
              "#f0f921"
             ]
            ],
            "type": "surface"
           }
          ],
          "table": [
           {
            "cells": {
             "fill": {
              "color": "#506784"
             },
             "line": {
              "color": "rgb(17,17,17)"
             }
            },
            "header": {
             "fill": {
              "color": "#2a3f5f"
             },
             "line": {
              "color": "rgb(17,17,17)"
             }
            },
            "type": "table"
           }
          ]
         },
         "layout": {
          "annotationdefaults": {
           "arrowcolor": "#f2f5fa",
           "arrowhead": 0,
           "arrowwidth": 1
          },
          "autotypenumbers": "strict",
          "coloraxis": {
           "colorbar": {
            "outlinewidth": 0,
            "ticks": ""
           }
          },
          "colorscale": {
           "diverging": [
            [
             0,
             "#8e0152"
            ],
            [
             0.1,
             "#c51b7d"
            ],
            [
             0.2,
             "#de77ae"
            ],
            [
             0.3,
             "#f1b6da"
            ],
            [
             0.4,
             "#fde0ef"
            ],
            [
             0.5,
             "#f7f7f7"
            ],
            [
             0.6,
             "#e6f5d0"
            ],
            [
             0.7,
             "#b8e186"
            ],
            [
             0.8,
             "#7fbc41"
            ],
            [
             0.9,
             "#4d9221"
            ],
            [
             1,
             "#276419"
            ]
           ],
           "sequential": [
            [
             0,
             "#0d0887"
            ],
            [
             0.1111111111111111,
             "#46039f"
            ],
            [
             0.2222222222222222,
             "#7201a8"
            ],
            [
             0.3333333333333333,
             "#9c179e"
            ],
            [
             0.4444444444444444,
             "#bd3786"
            ],
            [
             0.5555555555555556,
             "#d8576b"
            ],
            [
             0.6666666666666666,
             "#ed7953"
            ],
            [
             0.7777777777777778,
             "#fb9f3a"
            ],
            [
             0.8888888888888888,
             "#fdca26"
            ],
            [
             1,
             "#f0f921"
            ]
           ],
           "sequentialminus": [
            [
             0,
             "#0d0887"
            ],
            [
             0.1111111111111111,
             "#46039f"
            ],
            [
             0.2222222222222222,
             "#7201a8"
            ],
            [
             0.3333333333333333,
             "#9c179e"
            ],
            [
             0.4444444444444444,
             "#bd3786"
            ],
            [
             0.5555555555555556,
             "#d8576b"
            ],
            [
             0.6666666666666666,
             "#ed7953"
            ],
            [
             0.7777777777777778,
             "#fb9f3a"
            ],
            [
             0.8888888888888888,
             "#fdca26"
            ],
            [
             1,
             "#f0f921"
            ]
           ]
          },
          "colorway": [
           "#636efa",
           "#EF553B",
           "#00cc96",
           "#ab63fa",
           "#FFA15A",
           "#19d3f3",
           "#FF6692",
           "#B6E880",
           "#FF97FF",
           "#FECB52"
          ],
          "font": {
           "color": "#f2f5fa"
          },
          "geo": {
           "bgcolor": "rgb(17,17,17)",
           "lakecolor": "rgb(17,17,17)",
           "landcolor": "rgb(17,17,17)",
           "showlakes": true,
           "showland": true,
           "subunitcolor": "#506784"
          },
          "hoverlabel": {
           "align": "left"
          },
          "hovermode": "closest",
          "mapbox": {
           "style": "dark"
          },
          "paper_bgcolor": "rgb(17,17,17)",
          "plot_bgcolor": "rgb(17,17,17)",
          "polar": {
           "angularaxis": {
            "gridcolor": "#506784",
            "linecolor": "#506784",
            "ticks": ""
           },
           "bgcolor": "rgb(17,17,17)",
           "radialaxis": {
            "gridcolor": "#506784",
            "linecolor": "#506784",
            "ticks": ""
           }
          },
          "scene": {
           "xaxis": {
            "backgroundcolor": "rgb(17,17,17)",
            "gridcolor": "#506784",
            "gridwidth": 2,
            "linecolor": "#506784",
            "showbackground": true,
            "ticks": "",
            "zerolinecolor": "#C8D4E3"
           },
           "yaxis": {
            "backgroundcolor": "rgb(17,17,17)",
            "gridcolor": "#506784",
            "gridwidth": 2,
            "linecolor": "#506784",
            "showbackground": true,
            "ticks": "",
            "zerolinecolor": "#C8D4E3"
           },
           "zaxis": {
            "backgroundcolor": "rgb(17,17,17)",
            "gridcolor": "#506784",
            "gridwidth": 2,
            "linecolor": "#506784",
            "showbackground": true,
            "ticks": "",
            "zerolinecolor": "#C8D4E3"
           }
          },
          "shapedefaults": {
           "line": {
            "color": "#f2f5fa"
           }
          },
          "sliderdefaults": {
           "bgcolor": "#C8D4E3",
           "bordercolor": "rgb(17,17,17)",
           "borderwidth": 1,
           "tickwidth": 0
          },
          "ternary": {
           "aaxis": {
            "gridcolor": "#506784",
            "linecolor": "#506784",
            "ticks": ""
           },
           "baxis": {
            "gridcolor": "#506784",
            "linecolor": "#506784",
            "ticks": ""
           },
           "bgcolor": "rgb(17,17,17)",
           "caxis": {
            "gridcolor": "#506784",
            "linecolor": "#506784",
            "ticks": ""
           }
          },
          "title": {
           "x": 0.05
          },
          "updatemenudefaults": {
           "bgcolor": "#506784",
           "borderwidth": 0
          },
          "xaxis": {
           "automargin": true,
           "gridcolor": "#283442",
           "linecolor": "#506784",
           "ticks": "",
           "title": {
            "standoff": 15
           },
           "zerolinecolor": "#283442",
           "zerolinewidth": 2
          },
          "yaxis": {
           "automargin": true,
           "gridcolor": "#283442",
           "linecolor": "#506784",
           "ticks": "",
           "title": {
            "standoff": 15
           },
           "zerolinecolor": "#283442",
           "zerolinewidth": 2
          }
         }
        },
        "xaxis": {
         "autorange": true,
         "range": [
          174.98968505019943,
          565.0103149498005
         ],
         "type": "linear"
        },
        "xaxis2": {
         "autorange": true,
         "range": [
          -16.238344106725346,
          218.23834410672535
         ],
         "type": "linear"
        },
        "xaxis3": {
         "autorange": true,
         "range": [
          54.945261999724934,
          99.05473800027507
         ],
         "type": "linear"
        },
        "xaxis4": {
         "autorange": true,
         "range": [
          35.63340668408747,
          55.36659331591253
         ],
         "type": "linear"
        },
        "yaxis": {
         "autorange": true,
         "range": [
          136.4864864864865,
          603.5135135135135
         ],
         "type": "linear"
        },
        "yaxis2": {
         "autorange": true,
         "range": [
          -39.38610038610038,
          241.3861003861004
         ],
         "type": "linear"
        },
        "yaxis3": {
         "autorange": true,
         "range": [
          50.59073359073359,
          103.40926640926641
         ],
         "type": "linear"
        },
        "yaxis4": {
         "autorange": true,
         "range": [
          33.68532818532819,
          57.31467181467181
         ],
         "type": "linear"
        }
       }
      },
      "image/png": "[encoded data removed]",
      "text/html": [
       "<div>                            <div id=\"43e672d2-4901-4fe3-96b6-be693656aa1b\" class=\"plotly-graph-div\" style=\"height:525px; width:100%;\"></div>            <script type=\"text/javascript\">                require([\"plotly\"], function(Plotly) {                    window.PLOTLYENV=window.PLOTLYENV || {};                                    if (document.getElementById(\"43e672d2-4901-4fe3-96b6-be693656aa1b\")) {                    Plotly.newPlot(                        \"43e672d2-4901-4fe3-96b6-be693656aa1b\",                        [{\"diagonal\":{\"visible\":false},\"dimensions\":[{\"label\":\"Sleep Time\",\"values\":[315,481,388,385,405,354,487,441,412,380,385,461,412,366,344,383,386,467,424,360,329,426,424,413,440,457,373,459,456,498,387,485,441,333,430,342,428,357,372,296,238,467,449,493,441,428,394,458,404,414,457,400,360,386,406,358,446,393,429,379,368,336,388,379,360,390,349,338,357,420,438,310,436,366,364,375,403,381,368,380,443,377,457,364,449,307,411,306,349,296,355,289,403,423,424,278,447,386,338,336,423,253,375,456,290,299,508,409,418,353,423,442,416,414,292,380,337,526,448,364,392,403,421,450,408,426,379,417,363,419,450,413,386,420,369,446,407,420,428,409,393,421,343,368,485,409,378,395,385,365,387,300,405,375,372,360,357,410,379,370,361,371,397,375,397,516,392,425,397,358,382,286,430,415,380,406,432,385,410,330,494,380,432,422,401,395,364,407,388,417,393,306,202,319,350,320,365,413,362,341,393,336,355,411,365,370,302,461,327,384,243,380,326,295,246,402,406,334,346,341,421,411,371,397,372,359,343,255,350,366,340,396,337,442,353,432,352,382,367,433,240,344,357,451,416,311,439,389,453,450,345,454,385,357,346,340,346,339,445,420,299,487,511,440,432,404,378,460,401,482,458,387,419,388,366,298,422,354,350,452,373,284,426,353,240,419,393,417,353,378,284,440,387,390,362,218,455,301,207,417,378,322,363,364,491,340,399,353,412,360,435,438,429,209,342,360,393,463,323,403,417,337,357,444,377,441,365,381,404,352,399,499,295,427,471,385,461,452,431,455,406,456,417,398,500,354,427,336,538]},{\"label\":\"Deep Time\",\"values\":[57,148,147,155,116,94,186,73,83,80,119,97,88,107,79,61,101,175,98,99,61,66,111,94,124,111,109,91,182,105,145,189,85,109,75,116,51,101,138,66,89,196,66,202,145,123,67,88,99,67,125,149,78,122,87,96,83,116,93,101,85,120,117,121,150,111,97,62,101,102,121,68,119,66,83,103,87,118,72,88,145,128,141,105,116,58,99,68,78,88,104,107,73,94,150,134,92,110,85,125,98,86,136,171,94,123,128,165,143,122,57,54,80,66,84,97,45,99,66,56,125,136,142,85,82,99,144,137,85,114,131,146,122,72,116,134,134,109,125,60,139,137,52,119,150,82,79,64,104,97,114,108,121,67,103,52,152,131,144,115,98,113,67,131,97,108,98,113,139,107,90,55,96,57,74,109,110,115,108,85,102,125,133,107,133,84,86,83,81,122,77,53,41,133,90,105,74,114,96,102,73,108,76,122,106,105,100,169,102,81,61,125,109,83,136,118,141,129,89,131,135,178,69,64,108,111,118,30,67,115,89,50,62,66,139,105,109,91,106,164,76,142,43,81,71,100,85,114,80,85,23,127,80,76,74,68,73,95,43,104,92,71,114,192,118,106,99,122,108,188,134,118,45,97,80,55,76,88,47,91,88,110,120,99,102,50,118,100,37,135,67,112,94,85,124,79,147,88,78,120,99,118,117,106,70,118,93,74,127,79,66,84,144,55,94,118,54,111,42,76,83,99,124,88,50,163,122,87,0,94,170,114,109,116,148,102,89,91,107,135,96,137,129,72,152,96,140,83,146]},{\"label\":\"Max HR\",\"values\":[72,75,69,71,74,81,76,79,75,80,76,72,83,80,76,79,76,74,73,74,76,80,78,77,77,77,78,78,89,75,74,72,87,67,68,68,75,75,72,65,79,76,79,75,68,73,72,74,71,73,71,64,71,71,73,76,74,78,79,72,81,78,75,77,87,78,76,84,75,79,80,78,71,85,60,70,80,68,74,81,71,84,77,69,72,73,73,69,72,58,69,75,79,74,81,67,75,83,70,75,75,70,71,66,62,74,72,75,61,64,76,72,70,69,69,76,69,77,77,74,76,83,81,81,77,72,73,75,70,70,83,73,77,80,75,79,72,73,78,79,77,76,75,76,77,76,82,69,73,80,84,71,78,73,72,78,76,70,78,79,73,75,74,83,77,77,76,75,79,70,75,70,75,89,78,76,79,80,73,80,77,78,78,77,79,85,82,80,80,78,74,79,76,81,77,68,76,80,76,78,81,71,76,79,79,71,86,79,76,79,65,81,68,78,65,74,79,75,74,71,80,74,76,79,73,78,78,71,81,74,93,78,77,77,76,80,77,76,73,86,67,79,75,79,75,81,74,78,76,79,79,78,75,74,93,77,78,82,78,82,80,81,84,77,84,76,79,81,79,80,78,78,76,81,78,77,76,78,77,79,88,76,79,95,79,76,77,79,78,79,82,78,76,79,78,74,86,77,69,78,80,85,80,79,79,75,77,76,81,78,77,79,79,71,83,82,96,78,79,72,85,71,76,75,78,78,81,70,82,81,76,81,92,76,80,77,77,74,78,77,82,76,79,77,71,77,75,95,79]},{\"label\":\"Min HR\",\"values\":[43,42,43,44,42,42,41,43,43,48,46,43,45,45,45,41,41,49,44,50,40,44,46,43,45,46,53,41,45,42,41,41,40,43,41,42,47,44,52,49,49,41,42,42,41,41,42,39,40,42,45,44,46,51,51,52,44,45,46,48,44,49,44,49,48,46,50,44,45,47,42,43,43,45,45,53,45,45,46,45,48,45,47,47,42,42,43,45,44,48,44,43,42,46,42,45,45,43,41,45,47,43,42,46,50,48,42,51,43,45,43,45,44,41,45,47,52,42,46,50,51,48,49,51,42,41,52,43,48,44,43,47,42,50,43,48,44,45,43,47,40,43,44,42,44,43,43,46,41,47,42,46,45,41,45,37,44,47,48,42,43,42,44,45,48,51,50,42,45,41,41,54,46,51,43,45,42,45,42,46,42,45,46,44,44,43,51,42,42,45,46,44,52,53,42,42,44,46,41,46,46,44,48,45,48,43,51,48,43,42,51,46,44,54,41,41,40,42,41,43,49,45,40,43,42,42,46,47,46,42,43,51,45,43,52,49,43,46,42,42,49,44,45,41,44,52,44,45,45,45,42,41,52,49,46,45,39,46,44,47,52,45,49,48,40,46,44,46,48,42,48,44,41,48,41,50,49,46,44,43,49,43,44,48,42,49,44,43,45,42,45,44,49,43,42,49,49,45,51,42,44,45,48,40,47,43,53,42,52,43,45,46,50,46,45,51,48,42,47,50,42,44,49,42,42,41,51,42,48,47,42,46,45,43,44,46,44,43,44,46,46,43,42,43,44,40,43,48,46]}],\"text\":[\"Sleep Time: 315 mins<br> Deep Sleep Time: 57 mins<br> Avg Heart Rate: 52 bpm\",\"Sleep Time: 481 mins<br> Deep Sleep Time: 148 mins<br> Avg Heart Rate: 54 bpm\",\"Sleep Time: 388 mins<br> Deep Sleep Time: 147 mins<br> Avg Heart Rate: 54 bpm\",\"Sleep Time: 385 mins<br> Deep Sleep Time: 155 mins<br> Avg Heart Rate: 51 bpm\",\"Sleep Time: 405 mins<br> Deep Sleep Time: 116 mins<br> Avg Heart Rate: 52 bpm\",\"Sleep Time: 354 mins<br> Deep Sleep Time: 94 mins<br> Avg Heart Rate: 57 bpm\",\"Sleep Time: 487 mins<br> Deep Sleep Time: 186 mins<br> Avg Heart Rate: 57 bpm\",\"Sleep Time: 441 mins<br> Deep Sleep Time: 73 mins<br> Avg Heart Rate: 54 bpm\",\"Sleep Time: 412 mins<br> Deep Sleep Time: 83 mins<br> Avg Heart Rate: 54 bpm\",\"Sleep Time: 380 mins<br> Deep Sleep Time: 80 mins<br> Avg Heart Rate: 56 bpm\",\"Sleep Time: 385 mins<br> Deep Sleep Time: 119 mins<br> Avg Heart Rate: 53 bpm\",\"Sleep Time: 461 mins<br> Deep Sleep Time: 97 mins<br> Avg Heart Rate: 53 bpm\",\"Sleep Time: 412 mins<br> Deep Sleep Time: 88 mins<br> Avg Heart Rate: 54 bpm\",\"Sleep Time: 366 mins<br> Deep Sleep Time: 107 mins<br> Avg Heart Rate: 59 bpm\",\"Sleep Time: 344 mins<br> Deep Sleep Time: 79 mins<br> Avg Heart Rate: 54 bpm\",\"Sleep Time: 383 mins<br> Deep Sleep Time: 61 mins<br> Avg Heart Rate: 52 bpm\",\"Sleep Time: 386 mins<br> Deep Sleep Time: 101 mins<br> Avg Heart Rate: 53 bpm\",\"Sleep Time: 467 mins<br> Deep Sleep Time: 175 mins<br> Avg Heart Rate: 55 bpm\",\"Sleep Time: 424 mins<br> Deep Sleep Time: 98 mins<br> Avg Heart Rate: 55 bpm\",\"Sleep Time: 360 mins<br> Deep Sleep Time: 99 mins<br> Avg Heart Rate: 57 bpm\",\"Sleep Time: 329 mins<br> Deep Sleep Time: 61 mins<br> Avg Heart Rate: 56 bpm\",\"Sleep Time: 426 mins<br> Deep Sleep Time: 66 mins<br> Avg Heart Rate: 59 bpm\",\"Sleep Time: 424 mins<br> Deep Sleep Time: 111 mins<br> Avg Heart Rate: 60 bpm\",\"Sleep Time: 413 mins<br> Deep Sleep Time: 94 mins<br> Avg Heart Rate: 55 bpm\",\"Sleep Time: 440 mins<br> Deep Sleep Time: 124 mins<br> Avg Heart Rate: 55 bpm\",\"Sleep Time: 457 mins<br> Deep Sleep Time: 111 mins<br> Avg Heart Rate: 59 bpm\",\"Sleep Time: 373 mins<br> Deep Sleep Time: 109 mins<br> Avg Heart Rate: 59 bpm\",\"Sleep Time: 459 mins<br> Deep Sleep Time: 91 mins<br> Avg Heart Rate: 60 bpm\",\"Sleep Time: 456 mins<br> Deep Sleep Time: 182 mins<br> Avg Heart Rate: 60 bpm\",\"Sleep Time: 498 mins<br> Deep Sleep Time: 105 mins<br> Avg Heart Rate: 54 bpm\",\"Sleep Time: 387 mins<br> Deep Sleep Time: 145 mins<br> Avg Heart Rate: 52 bpm\",\"Sleep Time: 485 mins<br> Deep Sleep Time: 189 mins<br> Avg Heart Rate: 51 bpm\",\"Sleep Time: 441 mins<br> Deep Sleep Time: 85 mins<br> Avg Heart Rate: 56 bpm\",\"Sleep Time: 333 mins<br> Deep Sleep Time: 109 mins<br> Avg Heart Rate: 49 bpm\",\"Sleep Time: 430 mins<br> Deep Sleep Time: 75 mins<br> Avg Heart Rate: 48 bpm\",\"Sleep Time: 342 mins<br> Deep Sleep Time: 116 mins<br> Avg Heart Rate: 50 bpm\",\"Sleep Time: 428 mins<br> Deep Sleep Time: 51 mins<br> Avg Heart Rate: 57 bpm\",\"Sleep Time: 357 mins<br> Deep Sleep Time: 101 mins<br> Avg Heart Rate: 53 bpm\",\"Sleep Time: 372 mins<br> Deep Sleep Time: 138 mins<br> Avg Heart Rate: 59 bpm\",\"Sleep Time: 296 mins<br> Deep Sleep Time: 66 mins<br> Avg Heart Rate: 54 bpm\",\"Sleep Time: 238 mins<br> Deep Sleep Time: 89 mins<br> Avg Heart Rate: 55 bpm\",\"Sleep Time: 467 mins<br> Deep Sleep Time: 196 mins<br> Avg Heart Rate: 55 bpm\",\"Sleep Time: 449 mins<br> Deep Sleep Time: 66 mins<br> Avg Heart Rate: 55 bpm\",\"Sleep Time: 493 mins<br> Deep Sleep Time: 202 mins<br> Avg Heart Rate: 52 bpm\",\"Sleep Time: 441 mins<br> Deep Sleep Time: 145 mins<br> Avg Heart Rate: 48 bpm\",\"Sleep Time: 428 mins<br> Deep Sleep Time: 123 mins<br> Avg Heart Rate: 51 bpm\",\"Sleep Time: 394 mins<br> Deep Sleep Time: 67 mins<br> Avg Heart Rate: 54 bpm\",\"Sleep Time: 458 mins<br> Deep Sleep Time: 88 mins<br> Avg Heart Rate: 57 bpm\",\"Sleep Time: 404 mins<br> Deep Sleep Time: 99 mins<br> Avg Heart Rate: 49 bpm\",\"Sleep Time: 414 mins<br> Deep Sleep Time: 67 mins<br> Avg Heart Rate: 49 bpm\",\"Sleep Time: 457 mins<br> Deep Sleep Time: 125 mins<br> Avg Heart Rate: 53 bpm\",\"Sleep Time: 400 mins<br> Deep Sleep Time: 149 mins<br> Avg Heart Rate: 50 bpm\",\"Sleep Time: 360 mins<br> Deep Sleep Time: 78 mins<br> Avg Heart Rate: 55 bpm\",\"Sleep Time: 386 mins<br> Deep Sleep Time: 122 mins<br> Avg Heart Rate: 55 bpm\",\"Sleep Time: 406 mins<br> Deep Sleep Time: 87 mins<br> Avg Heart Rate: 56 bpm\",\"Sleep Time: 358 mins<br> Deep Sleep Time: 96 mins<br> Avg Heart Rate: 60 bpm\",\"Sleep Time: 446 mins<br> Deep Sleep Time: 83 mins<br> Avg Heart Rate: 54 bpm\",\"Sleep Time: 393 mins<br> Deep Sleep Time: 116 mins<br> Avg Heart Rate: 56 bpm\",\"Sleep Time: 429 mins<br> Deep Sleep Time: 93 mins<br> Avg Heart Rate: 57 bpm\",\"Sleep Time: 379 mins<br> Deep Sleep Time: 101 mins<br> Avg Heart Rate: 56 bpm\",\"Sleep Time: 368 mins<br> Deep Sleep Time: 85 mins<br> Avg Heart Rate: 54 bpm\",\"Sleep Time: 336 mins<br> Deep Sleep Time: 120 mins<br> Avg Heart Rate: 57 bpm\",\"Sleep Time: 388 mins<br> Deep Sleep Time: 117 mins<br> Avg Heart Rate: 57 bpm\",\"Sleep Time: 379 mins<br> Deep Sleep Time: 121 mins<br> Avg Heart Rate: 61 bpm\",\"Sleep Time: 360 mins<br> Deep Sleep Time: 150 mins<br> Avg Heart Rate: 56 bpm\",\"Sleep Time: 390 mins<br> Deep Sleep Time: 111 mins<br> Avg Heart Rate: 60 bpm\",\"Sleep Time: 349 mins<br> Deep Sleep Time: 97 mins<br> Avg Heart Rate: 58 bpm\",\"Sleep Time: 338 mins<br> Deep Sleep Time: 62 mins<br> Avg Heart Rate: 56 bpm\",\"Sleep Time: 357 mins<br> Deep Sleep Time: 101 mins<br> Avg Heart Rate: 56 bpm\",\"Sleep Time: 420 mins<br> Deep Sleep Time: 102 mins<br> Avg Heart Rate: 61 bpm\",\"Sleep Time: 438 mins<br> Deep Sleep Time: 121 mins<br> Avg Heart Rate: 61 bpm\",\"Sleep Time: 310 mins<br> Deep Sleep Time: 68 mins<br> Avg Heart Rate: 55 bpm\",\"Sleep Time: 436 mins<br> Deep Sleep Time: 119 mins<br> Avg Heart Rate: 53 bpm\",\"Sleep Time: 366 mins<br> Deep Sleep Time: 66 mins<br> Avg Heart Rate: 54 bpm\",\"Sleep Time: 364 mins<br> Deep Sleep Time: 83 mins<br> Avg Heart Rate: 50 bpm\",\"Sleep Time: 375 mins<br> Deep Sleep Time: 103 mins<br> Avg Heart Rate: 57 bpm\",\"Sleep Time: 403 mins<br> Deep Sleep Time: 87 mins<br> Avg Heart Rate: 61 bpm\",\"Sleep Time: 381 mins<br> Deep Sleep Time: 118 mins<br> Avg Heart Rate: 52 bpm\",\"Sleep Time: 368 mins<br> Deep Sleep Time: 72 mins<br> Avg Heart Rate: 56 bpm\",\"Sleep Time: 380 mins<br> Deep Sleep Time: 88 mins<br> Avg Heart Rate: 57 bpm\",\"Sleep Time: 443 mins<br> Deep Sleep Time: 145 mins<br> Avg Heart Rate: 55 bpm\",\"Sleep Time: 377 mins<br> Deep Sleep Time: 128 mins<br> Avg Heart Rate: 52 bpm\",\"Sleep Time: 457 mins<br> Deep Sleep Time: 141 mins<br> Avg Heart Rate: 56 bpm\",\"Sleep Time: 364 mins<br> Deep Sleep Time: 105 mins<br> Avg Heart Rate: 53 bpm\",\"Sleep Time: 449 mins<br> Deep Sleep Time: 116 mins<br> Avg Heart Rate: 53 bpm\",\"Sleep Time: 307 mins<br> Deep Sleep Time: 58 mins<br> Avg Heart Rate: 54 bpm\",\"Sleep Time: 411 mins<br> Deep Sleep Time: 99 mins<br> Avg Heart Rate: 53 bpm\",\"Sleep Time: 306 mins<br> Deep Sleep Time: 68 mins<br> Avg Heart Rate: 52 bpm\",\"Sleep Time: 349 mins<br> Deep Sleep Time: 78 mins<br> Avg Heart Rate: 52 bpm\",\"Sleep Time: 296 mins<br> Deep Sleep Time: 88 mins<br> Avg Heart Rate: 53 bpm\",\"Sleep Time: 355 mins<br> Deep Sleep Time: 104 mins<br> Avg Heart Rate: 50 bpm\",\"Sleep Time: 289 mins<br> Deep Sleep Time: 107 mins<br> Avg Heart Rate: 52 bpm\",\"Sleep Time: 403 mins<br> Deep Sleep Time: 73 mins<br> Avg Heart Rate: 54 bpm\",\"Sleep Time: 423 mins<br> Deep Sleep Time: 94 mins<br> Avg Heart Rate: 52 bpm\",\"Sleep Time: 424 mins<br> Deep Sleep Time: 150 mins<br> Avg Heart Rate: 53 bpm\",\"Sleep Time: 278 mins<br> Deep Sleep Time: 134 mins<br> Avg Heart Rate: 54 bpm\",\"Sleep Time: 447 mins<br> Deep Sleep Time: 92 mins<br> Avg Heart Rate: 52 bpm\",\"Sleep Time: 386 mins<br> Deep Sleep Time: 110 mins<br> Avg Heart Rate: 60 bpm\",\"Sleep Time: 338 mins<br> Deep Sleep Time: 85 mins<br> Avg Heart Rate: 49 bpm\",\"Sleep Time: 336 mins<br> Deep Sleep Time: 125 mins<br> Avg Heart Rate: 51 bpm\",\"Sleep Time: 423 mins<br> Deep Sleep Time: 98 mins<br> Avg Heart Rate: 58 bpm\",\"Sleep Time: 253 mins<br> Deep Sleep Time: 86 mins<br> Avg Heart Rate: 49 bpm\",\"Sleep Time: 375 mins<br> Deep Sleep Time: 136 mins<br> Avg Heart Rate: 49 bpm\",\"Sleep Time: 456 mins<br> Deep Sleep Time: 171 mins<br> Avg Heart Rate: 55 bpm\",\"Sleep Time: 290 mins<br> Deep Sleep Time: 94 mins<br> Avg Heart Rate: 56 bpm\",\"Sleep Time: 299 mins<br> Deep Sleep Time: 123 mins<br> Avg Heart Rate: 53 bpm\",\"Sleep Time: 508 mins<br> Deep Sleep Time: 128 mins<br> Avg Heart Rate: 53 bpm\",\"Sleep Time: 409 mins<br> Deep Sleep Time: 165 mins<br> Avg Heart Rate: 57 bpm\",\"Sleep Time: 418 mins<br> Deep Sleep Time: 143 mins<br> Avg Heart Rate: 51 bpm\",\"Sleep Time: 353 mins<br> Deep Sleep Time: 122 mins<br> Avg Heart Rate: 51 bpm\",\"Sleep Time: 423 mins<br> Deep Sleep Time: 57 mins<br> Avg Heart Rate: 50 bpm\",\"Sleep Time: 442 mins<br> Deep Sleep Time: 54 mins<br> Avg Heart Rate: 51 bpm\",\"Sleep Time: 416 mins<br> Deep Sleep Time: 80 mins<br> Avg Heart Rate: 50 bpm\",\"Sleep Time: 414 mins<br> Deep Sleep Time: 66 mins<br> Avg Heart Rate: 50 bpm\",\"Sleep Time: 292 mins<br> Deep Sleep Time: 84 mins<br> Avg Heart Rate: 50 bpm\",\"Sleep Time: 380 mins<br> Deep Sleep Time: 97 mins<br> Avg Heart Rate: 52 bpm\",\"Sleep Time: 337 mins<br> Deep Sleep Time: 45 mins<br> Avg Heart Rate: 56 bpm\",\"Sleep Time: 526 mins<br> Deep Sleep Time: 99 mins<br> Avg Heart Rate: 54 bpm\",\"Sleep Time: 448 mins<br> Deep Sleep Time: 66 mins<br> Avg Heart Rate: 54 bpm\",\"Sleep Time: 364 mins<br> Deep Sleep Time: 56 mins<br> Avg Heart Rate: 56 bpm\",\"Sleep Time: 392 mins<br> Deep Sleep Time: 125 mins<br> Avg Heart Rate: 57 bpm\",\"Sleep Time: 403 mins<br> Deep Sleep Time: 136 mins<br> Avg Heart Rate: 56 bpm\",\"Sleep Time: 421 mins<br> Deep Sleep Time: 142 mins<br> Avg Heart Rate: 59 bpm\",\"Sleep Time: 450 mins<br> Deep Sleep Time: 85 mins<br> Avg Heart Rate: 59 bpm\",\"Sleep Time: 408 mins<br> Deep Sleep Time: 82 mins<br> Avg Heart Rate: 57 bpm\",\"Sleep Time: 426 mins<br> Deep Sleep Time: 99 mins<br> Avg Heart Rate: 52 bpm\",\"Sleep Time: 379 mins<br> Deep Sleep Time: 144 mins<br> Avg Heart Rate: 59 bpm\",\"Sleep Time: 417 mins<br> Deep Sleep Time: 137 mins<br> Avg Heart Rate: 52 bpm\",\"Sleep Time: 363 mins<br> Deep Sleep Time: 85 mins<br> Avg Heart Rate: 54 bpm\",\"Sleep Time: 419 mins<br> Deep Sleep Time: 114 mins<br> Avg Heart Rate: 52 bpm\",\"Sleep Time: 450 mins<br> Deep Sleep Time: 131 mins<br> Avg Heart Rate: 56 bpm\",\"Sleep Time: 413 mins<br> Deep Sleep Time: 146 mins<br> Avg Heart Rate: 58 bpm\",\"Sleep Time: 386 mins<br> Deep Sleep Time: 122 mins<br> Avg Heart Rate: 58 bpm\",\"Sleep Time: 420 mins<br> Deep Sleep Time: 72 mins<br> Avg Heart Rate: 57 bpm\",\"Sleep Time: 369 mins<br> Deep Sleep Time: 116 mins<br> Avg Heart Rate: 52 bpm\",\"Sleep Time: 446 mins<br> Deep Sleep Time: 134 mins<br> Avg Heart Rate: 58 bpm\",\"Sleep Time: 407 mins<br> Deep Sleep Time: 134 mins<br> Avg Heart Rate: 54 bpm\",\"Sleep Time: 420 mins<br> Deep Sleep Time: 109 mins<br> Avg Heart Rate: 57 bpm\",\"Sleep Time: 428 mins<br> Deep Sleep Time: 125 mins<br> Avg Heart Rate: 60 bpm\",\"Sleep Time: 409 mins<br> Deep Sleep Time: 60 mins<br> Avg Heart Rate: 55 bpm\",\"Sleep Time: 393 mins<br> Deep Sleep Time: 139 mins<br> Avg Heart Rate: 59 bpm\",\"Sleep Time: 421 mins<br> Deep Sleep Time: 137 mins<br> Avg Heart Rate: 57 bpm\",\"Sleep Time: 343 mins<br> Deep Sleep Time: 52 mins<br> Avg Heart Rate: 53 bpm\",\"Sleep Time: 368 mins<br> Deep Sleep Time: 119 mins<br> Avg Heart Rate: 57 bpm\",\"Sleep Time: 485 mins<br> Deep Sleep Time: 150 mins<br> Avg Heart Rate: 53 bpm\",\"Sleep Time: 409 mins<br> Deep Sleep Time: 82 mins<br> Avg Heart Rate: 59 bpm\",\"Sleep Time: 378 mins<br> Deep Sleep Time: 79 mins<br> Avg Heart Rate: 56 bpm\",\"Sleep Time: 395 mins<br> Deep Sleep Time: 64 mins<br> Avg Heart Rate: 53 bpm\",\"Sleep Time: 385 mins<br> Deep Sleep Time: 104 mins<br> Avg Heart Rate: 52 bpm\",\"Sleep Time: 365 mins<br> Deep Sleep Time: 97 mins<br> Avg Heart Rate: 53 bpm\",\"Sleep Time: 387 mins<br> Deep Sleep Time: 114 mins<br> Avg Heart Rate: 53 bpm\",\"Sleep Time: 300 mins<br> Deep Sleep Time: 108 mins<br> Avg Heart Rate: 52 bpm\",\"Sleep Time: 405 mins<br> Deep Sleep Time: 121 mins<br> Avg Heart Rate: 54 bpm\",\"Sleep Time: 375 mins<br> Deep Sleep Time: 67 mins<br> Avg Heart Rate: 54 bpm\",\"Sleep Time: 372 mins<br> Deep Sleep Time: 103 mins<br> Avg Heart Rate: 55 bpm\",\"Sleep Time: 360 mins<br> Deep Sleep Time: 52 mins<br> Avg Heart Rate: 52 bpm\",\"Sleep Time: 357 mins<br> Deep Sleep Time: 152 mins<br> Avg Heart Rate: 56 bpm\",\"Sleep Time: 410 mins<br> Deep Sleep Time: 131 mins<br> Avg Heart Rate: 55 bpm\",\"Sleep Time: 379 mins<br> Deep Sleep Time: 144 mins<br> Avg Heart Rate: 57 bpm\",\"Sleep Time: 370 mins<br> Deep Sleep Time: 115 mins<br> Avg Heart Rate: 56 bpm\",\"Sleep Time: 361 mins<br> Deep Sleep Time: 98 mins<br> Avg Heart Rate: 51 bpm\",\"Sleep Time: 371 mins<br> Deep Sleep Time: 113 mins<br> Avg Heart Rate: 53 bpm\",\"Sleep Time: 397 mins<br> Deep Sleep Time: 67 mins<br> Avg Heart Rate: 55 bpm\",\"Sleep Time: 375 mins<br> Deep Sleep Time: 131 mins<br> Avg Heart Rate: 59 bpm\",\"Sleep Time: 397 mins<br> Deep Sleep Time: 97 mins<br> Avg Heart Rate: 56 bpm\",\"Sleep Time: 516 mins<br> Deep Sleep Time: 108 mins<br> Avg Heart Rate: 60 bpm\",\"Sleep Time: 392 mins<br> Deep Sleep Time: 98 mins<br> Avg Heart Rate: 57 bpm\",\"Sleep Time: 425 mins<br> Deep Sleep Time: 113 mins<br> Avg Heart Rate: 55 bpm\",\"Sleep Time: 397 mins<br> Deep Sleep Time: 139 mins<br> Avg Heart Rate: 59 bpm\",\"Sleep Time: 358 mins<br> Deep Sleep Time: 107 mins<br> Avg Heart Rate: 52 bpm\",\"Sleep Time: 382 mins<br> Deep Sleep Time: 90 mins<br> Avg Heart Rate: 55 bpm\",\"Sleep Time: 286 mins<br> Deep Sleep Time: 55 mins<br> Avg Heart Rate: 59 bpm\",\"Sleep Time: 430 mins<br> Deep Sleep Time: 96 mins<br> Avg Heart Rate: 55 bpm\",\"Sleep Time: 415 mins<br> Deep Sleep Time: 57 mins<br> Avg Heart Rate: 67 bpm\",\"Sleep Time: 380 mins<br> Deep Sleep Time: 74 mins<br> Avg Heart Rate: 62 bpm\",\"Sleep Time: 406 mins<br> Deep Sleep Time: 109 mins<br> Avg Heart Rate: 58 bpm\",\"Sleep Time: 432 mins<br> Deep Sleep Time: 110 mins<br> Avg Heart Rate: 59 bpm\",\"Sleep Time: 385 mins<br> Deep Sleep Time: 115 mins<br> Avg Heart Rate: 59 bpm\",\"Sleep Time: 410 mins<br> Deep Sleep Time: 108 mins<br> Avg Heart Rate: 54 bpm\",\"Sleep Time: 330 mins<br> Deep Sleep Time: 85 mins<br> Avg Heart Rate: 61 bpm\",\"Sleep Time: 494 mins<br> Deep Sleep Time: 102 mins<br> Avg Heart Rate: 62 bpm\",\"Sleep Time: 380 mins<br> Deep Sleep Time: 125 mins<br> Avg Heart Rate: 61 bpm\",\"Sleep Time: 432 mins<br> Deep Sleep Time: 133 mins<br> Avg Heart Rate: 60 bpm\",\"Sleep Time: 422 mins<br> Deep Sleep Time: 107 mins<br> Avg Heart Rate: 55 bpm\",\"Sleep Time: 401 mins<br> Deep Sleep Time: 133 mins<br> Avg Heart Rate: 58 bpm\",\"Sleep Time: 395 mins<br> Deep Sleep Time: 84 mins<br> Avg Heart Rate: 55 bpm\",\"Sleep Time: 364 mins<br> Deep Sleep Time: 86 mins<br> Avg Heart Rate: 62 bpm\",\"Sleep Time: 407 mins<br> Deep Sleep Time: 83 mins<br> Avg Heart Rate: 60 bpm\",\"Sleep Time: 388 mins<br> Deep Sleep Time: 81 mins<br> Avg Heart Rate: 64 bpm\",\"Sleep Time: 417 mins<br> Deep Sleep Time: 122 mins<br> Avg Heart Rate: 59 bpm\",\"Sleep Time: 393 mins<br> Deep Sleep Time: 77 mins<br> Avg Heart Rate: 59 bpm\",\"Sleep Time: 306 mins<br> Deep Sleep Time: 53 mins<br> Avg Heart Rate: 54 bpm\",\"Sleep Time: 202 mins<br> Deep Sleep Time: 41 mins<br> Avg Heart Rate: 62 bpm\",\"Sleep Time: 319 mins<br> Deep Sleep Time: 133 mins<br> Avg Heart Rate: 60 bpm\",\"Sleep Time: 350 mins<br> Deep Sleep Time: 90 mins<br> Avg Heart Rate: 57 bpm\",\"Sleep Time: 320 mins<br> Deep Sleep Time: 105 mins<br> Avg Heart Rate: 50 bpm\",\"Sleep Time: 365 mins<br> Deep Sleep Time: 74 mins<br> Avg Heart Rate: 57 bpm\",\"Sleep Time: 413 mins<br> Deep Sleep Time: 114 mins<br> Avg Heart Rate: 57 bpm\",\"Sleep Time: 362 mins<br> Deep Sleep Time: 96 mins<br> Avg Heart Rate: 52 bpm\",\"Sleep Time: 341 mins<br> Deep Sleep Time: 102 mins<br> Avg Heart Rate: 57 bpm\",\"Sleep Time: 393 mins<br> Deep Sleep Time: 73 mins<br> Avg Heart Rate: 55 bpm\",\"Sleep Time: 336 mins<br> Deep Sleep Time: 108 mins<br> Avg Heart Rate: 52 bpm\",\"Sleep Time: 355 mins<br> Deep Sleep Time: 76 mins<br> Avg Heart Rate: 59 bpm\",\"Sleep Time: 411 mins<br> Deep Sleep Time: 122 mins<br> Avg Heart Rate: 58 bpm\",\"Sleep Time: 365 mins<br> Deep Sleep Time: 106 mins<br> Avg Heart Rate: 57 bpm\",\"Sleep Time: 370 mins<br> Deep Sleep Time: 105 mins<br> Avg Heart Rate: 54 bpm\",\"Sleep Time: 302 mins<br> Deep Sleep Time: 100 mins<br> Avg Heart Rate: 63 bpm\",\"Sleep Time: 461 mins<br> Deep Sleep Time: 169 mins<br> Avg Heart Rate: 57 bpm\",\"Sleep Time: 327 mins<br> Deep Sleep Time: 102 mins<br> Avg Heart Rate: 57 bpm\",\"Sleep Time: 384 mins<br> Deep Sleep Time: 81 mins<br> Avg Heart Rate: 53 bpm\",\"Sleep Time: 243 mins<br> Deep Sleep Time: 61 mins<br> Avg Heart Rate: 56 bpm\",\"Sleep Time: 380 mins<br> Deep Sleep Time: 125 mins<br> Avg Heart Rate: 54 bpm\",\"Sleep Time: 326 mins<br> Deep Sleep Time: 109 mins<br> Avg Heart Rate: 50 bpm\",\"Sleep Time: 295 mins<br> Deep Sleep Time: 83 mins<br> Avg Heart Rate: 62 bpm\",\"Sleep Time: 246 mins<br> Deep Sleep Time: 136 mins<br> Avg Heart Rate: 48 bpm\",\"Sleep Time: 402 mins<br> Deep Sleep Time: 118 mins<br> Avg Heart Rate: 54 bpm\",\"Sleep Time: 406 mins<br> Deep Sleep Time: 141 mins<br> Avg Heart Rate: 54 bpm\",\"Sleep Time: 334 mins<br> Deep Sleep Time: 129 mins<br> Avg Heart Rate: 54 bpm\",\"Sleep Time: 346 mins<br> Deep Sleep Time: 89 mins<br> Avg Heart Rate: 55 bpm\",\"Sleep Time: 341 mins<br> Deep Sleep Time: 131 mins<br> Avg Heart Rate: 51 bpm\",\"Sleep Time: 421 mins<br> Deep Sleep Time: 135 mins<br> Avg Heart Rate: 58 bpm\",\"Sleep Time: 411 mins<br> Deep Sleep Time: 178 mins<br> Avg Heart Rate: 53 bpm\",\"Sleep Time: 371 mins<br> Deep Sleep Time: 69 mins<br> Avg Heart Rate: 58 bpm\",\"Sleep Time: 397 mins<br> Deep Sleep Time: 64 mins<br> Avg Heart Rate: 54 bpm\",\"Sleep Time: 372 mins<br> Deep Sleep Time: 108 mins<br> Avg Heart Rate: 52 bpm\",\"Sleep Time: 359 mins<br> Deep Sleep Time: 111 mins<br> Avg Heart Rate: 55 bpm\",\"Sleep Time: 343 mins<br> Deep Sleep Time: 118 mins<br> Avg Heart Rate: 55 bpm\",\"Sleep Time: 255 mins<br> Deep Sleep Time: 30 mins<br> Avg Heart Rate: 54 bpm\",\"Sleep Time: 350 mins<br> Deep Sleep Time: 67 mins<br> Avg Heart Rate: 57 bpm\",\"Sleep Time: 366 mins<br> Deep Sleep Time: 115 mins<br> Avg Heart Rate: 58 bpm\",\"Sleep Time: 340 mins<br> Deep Sleep Time: 89 mins<br> Avg Heart Rate: 56 bpm\",\"Sleep Time: 396 mins<br> Deep Sleep Time: 50 mins<br> Avg Heart Rate: 60 bpm\",\"Sleep Time: 337 mins<br> Deep Sleep Time: 62 mins<br> Avg Heart Rate: 57 bpm\",\"Sleep Time: 442 mins<br> Deep Sleep Time: 66 mins<br> Avg Heart Rate: 54 bpm\",\"Sleep Time: 353 mins<br> Deep Sleep Time: 139 mins<br> Avg Heart Rate: 59 bpm\",\"Sleep Time: 432 mins<br> Deep Sleep Time: 105 mins<br> Avg Heart Rate: 62 bpm\",\"Sleep Time: 352 mins<br> Deep Sleep Time: 109 mins<br> Avg Heart Rate: 59 bpm\",\"Sleep Time: 382 mins<br> Deep Sleep Time: 91 mins<br> Avg Heart Rate: 64 bpm\",\"Sleep Time: 367 mins<br> Deep Sleep Time: 106 mins<br> Avg Heart Rate: 58 bpm\",\"Sleep Time: 433 mins<br> Deep Sleep Time: 164 mins<br> Avg Heart Rate: 57 bpm\",\"Sleep Time: 240 mins<br> Deep Sleep Time: 76 mins<br> Avg Heart Rate: 53 bpm\",\"Sleep Time: 344 mins<br> Deep Sleep Time: 142 mins<br> Avg Heart Rate: 51 bpm\",\"Sleep Time: 357 mins<br> Deep Sleep Time: 43 mins<br> Avg Heart Rate: 54 bpm\",\"Sleep Time: 451 mins<br> Deep Sleep Time: 81 mins<br> Avg Heart Rate: 58 bpm\",\"Sleep Time: 416 mins<br> Deep Sleep Time: 71 mins<br> Avg Heart Rate: 56 bpm\",\"Sleep Time: 311 mins<br> Deep Sleep Time: 100 mins<br> Avg Heart Rate: 58 bpm\",\"Sleep Time: 439 mins<br> Deep Sleep Time: 85 mins<br> Avg Heart Rate: 54 bpm\",\"Sleep Time: 389 mins<br> Deep Sleep Time: 114 mins<br> Avg Heart Rate: 52 bpm\",\"Sleep Time: 453 mins<br> Deep Sleep Time: 80 mins<br> Avg Heart Rate: 55 bpm\",\"Sleep Time: 450 mins<br> Deep Sleep Time: 85 mins<br> Avg Heart Rate: 61 bpm\",\"Sleep Time: 345 mins<br> Deep Sleep Time: 23 mins<br> Avg Heart Rate: 56 bpm\",\"Sleep Time: 454 mins<br> Deep Sleep Time: 127 mins<br> Avg Heart Rate: 59 bpm\",\"Sleep Time: 385 mins<br> Deep Sleep Time: 80 mins<br> Avg Heart Rate: 58 bpm\",\"Sleep Time: 357 mins<br> Deep Sleep Time: 76 mins<br> Avg Heart Rate: 58 bpm\",\"Sleep Time: 346 mins<br> Deep Sleep Time: 74 mins<br> Avg Heart Rate: 61 bpm\",\"Sleep Time: 340 mins<br> Deep Sleep Time: 68 mins<br> Avg Heart Rate: 57 bpm\",\"Sleep Time: 346 mins<br> Deep Sleep Time: 73 mins<br> Avg Heart Rate: 66 bpm\",\"Sleep Time: 339 mins<br> Deep Sleep Time: 95 mins<br> Avg Heart Rate: 59 bpm\",\"Sleep Time: 445 mins<br> Deep Sleep Time: 43 mins<br> Avg Heart Rate: 58 bpm\",\"Sleep Time: 420 mins<br> Deep Sleep Time: 104 mins<br> Avg Heart Rate: 62 bpm\",\"Sleep Time: 299 mins<br> Deep Sleep Time: 92 mins<br> Avg Heart Rate: 62 bpm\",\"Sleep Time: 487 mins<br> Deep Sleep Time: 71 mins<br> Avg Heart Rate: 61 bpm\",\"Sleep Time: 511 mins<br> Deep Sleep Time: 114 mins<br> Avg Heart Rate: 64 bpm\",\"Sleep Time: 440 mins<br> Deep Sleep Time: 192 mins<br> Avg Heart Rate: 62 bpm\",\"Sleep Time: 432 mins<br> Deep Sleep Time: 118 mins<br> Avg Heart Rate: 64 bpm\",\"Sleep Time: 404 mins<br> Deep Sleep Time: 106 mins<br> Avg Heart Rate: 60 bpm\",\"Sleep Time: 378 mins<br> Deep Sleep Time: 99 mins<br> Avg Heart Rate: 60 bpm\",\"Sleep Time: 460 mins<br> Deep Sleep Time: 122 mins<br> Avg Heart Rate: 65 bpm\",\"Sleep Time: 401 mins<br> Deep Sleep Time: 108 mins<br> Avg Heart Rate: 61 bpm\",\"Sleep Time: 482 mins<br> Deep Sleep Time: 188 mins<br> Avg Heart Rate: 60 bpm\",\"Sleep Time: 458 mins<br> Deep Sleep Time: 134 mins<br> Avg Heart Rate: 69 bpm\",\"Sleep Time: 387 mins<br> Deep Sleep Time: 118 mins<br> Avg Heart Rate: 63 bpm\",\"Sleep Time: 419 mins<br> Deep Sleep Time: 45 mins<br> Avg Heart Rate: 61 bpm\",\"Sleep Time: 388 mins<br> Deep Sleep Time: 97 mins<br> Avg Heart Rate: 59 bpm\",\"Sleep Time: 366 mins<br> Deep Sleep Time: 80 mins<br> Avg Heart Rate: 60 bpm\",\"Sleep Time: 298 mins<br> Deep Sleep Time: 55 mins<br> Avg Heart Rate: 57 bpm\",\"Sleep Time: 422 mins<br> Deep Sleep Time: 76 mins<br> Avg Heart Rate: 58 bpm\",\"Sleep Time: 354 mins<br> Deep Sleep Time: 88 mins<br> Avg Heart Rate: 56 bpm\",\"Sleep Time: 350 mins<br> Deep Sleep Time: 47 mins<br> Avg Heart Rate: 62 bpm\",\"Sleep Time: 452 mins<br> Deep Sleep Time: 91 mins<br> Avg Heart Rate: 63 bpm\",\"Sleep Time: 373 mins<br> Deep Sleep Time: 88 mins<br> Avg Heart Rate: 66 bpm\",\"Sleep Time: 284 mins<br> Deep Sleep Time: 110 mins<br> Avg Heart Rate: 52 bpm\",\"Sleep Time: 426 mins<br> Deep Sleep Time: 120 mins<br> Avg Heart Rate: 60 bpm\",\"Sleep Time: 353 mins<br> Deep Sleep Time: 99 mins<br> Avg Heart Rate: 59 bpm\",\"Sleep Time: 240 mins<br> Deep Sleep Time: 102 mins<br> Avg Heart Rate: 62 bpm\",\"Sleep Time: 419 mins<br> Deep Sleep Time: 50 mins<br> Avg Heart Rate: 64 bpm\",\"Sleep Time: 393 mins<br> Deep Sleep Time: 118 mins<br> Avg Heart Rate: 65 bpm\",\"Sleep Time: 417 mins<br> Deep Sleep Time: 100 mins<br> Avg Heart Rate: 59 bpm\",\"Sleep Time: 353 mins<br> Deep Sleep Time: 37 mins<br> Avg Heart Rate: 61 bpm\",\"Sleep Time: 378 mins<br> Deep Sleep Time: 135 mins<br> Avg Heart Rate: 60 bpm\",\"Sleep Time: 284 mins<br> Deep Sleep Time: 67 mins<br> Avg Heart Rate: 57 bpm\",\"Sleep Time: 440 mins<br> Deep Sleep Time: 112 mins<br> Avg Heart Rate: 60 bpm\",\"Sleep Time: 387 mins<br> Deep Sleep Time: 94 mins<br> Avg Heart Rate: 68 bpm\",\"Sleep Time: 390 mins<br> Deep Sleep Time: 85 mins<br> Avg Heart Rate: 60 bpm\",\"Sleep Time: 362 mins<br> Deep Sleep Time: 124 mins<br> Avg Heart Rate: 61 bpm\",\"Sleep Time: 218 mins<br> Deep Sleep Time: 79 mins<br> Avg Heart Rate: 57 bpm\",\"Sleep Time: 455 mins<br> Deep Sleep Time: 147 mins<br> Avg Heart Rate: 65 bpm\",\"Sleep Time: 301 mins<br> Deep Sleep Time: 88 mins<br> Avg Heart Rate: 55 bpm\",\"Sleep Time: 207 mins<br> Deep Sleep Time: 78 mins<br> Avg Heart Rate: 55 bpm\",\"Sleep Time: 417 mins<br> Deep Sleep Time: 120 mins<br> Avg Heart Rate: 58 bpm\",\"Sleep Time: 378 mins<br> Deep Sleep Time: 99 mins<br> Avg Heart Rate: 59 bpm\",\"Sleep Time: 322 mins<br> Deep Sleep Time: 118 mins<br> Avg Heart Rate: 54 bpm\",\"Sleep Time: 363 mins<br> Deep Sleep Time: 117 mins<br> Avg Heart Rate: 55 bpm\",\"Sleep Time: 364 mins<br> Deep Sleep Time: 106 mins<br> Avg Heart Rate: 63 bpm\",\"Sleep Time: 491 mins<br> Deep Sleep Time: 70 mins<br> Avg Heart Rate: 65 bpm\",\"Sleep Time: 340 mins<br> Deep Sleep Time: 118 mins<br> Avg Heart Rate: 62 bpm\",\"Sleep Time: 399 mins<br> Deep Sleep Time: 93 mins<br> Avg Heart Rate: 62 bpm\",\"Sleep Time: 353 mins<br> Deep Sleep Time: 74 mins<br> Avg Heart Rate: 58 bpm\",\"Sleep Time: 412 mins<br> Deep Sleep Time: 127 mins<br> Avg Heart Rate: 63 bpm\",\"Sleep Time: 360 mins<br> Deep Sleep Time: 79 mins<br> Avg Heart Rate: 60 bpm\",\"Sleep Time: 435 mins<br> Deep Sleep Time: 66 mins<br> Avg Heart Rate: 57 bpm\",\"Sleep Time: 438 mins<br> Deep Sleep Time: 84 mins<br> Avg Heart Rate: 60 bpm\",\"Sleep Time: 429 mins<br> Deep Sleep Time: 144 mins<br> Avg Heart Rate: 56 bpm\",\"Sleep Time: 209 mins<br> Deep Sleep Time: 55 mins<br> Avg Heart Rate: 51 bpm\",\"Sleep Time: 342 mins<br> Deep Sleep Time: 94 mins<br> Avg Heart Rate: 50 bpm\",\"Sleep Time: 360 mins<br> Deep Sleep Time: 118 mins<br> Avg Heart Rate: 63 bpm\",\"Sleep Time: 393 mins<br> Deep Sleep Time: 54 mins<br> Avg Heart Rate: 57 bpm\",\"Sleep Time: 463 mins<br> Deep Sleep Time: 111 mins<br> Avg Heart Rate: 58 bpm\",\"Sleep Time: 323 mins<br> Deep Sleep Time: 42 mins<br> Avg Heart Rate: 56 bpm\",\"Sleep Time: 403 mins<br> Deep Sleep Time: 76 mins<br> Avg Heart Rate: 56 bpm\",\"Sleep Time: 417 mins<br> Deep Sleep Time: 83 mins<br> Avg Heart Rate: 52 bpm\",\"Sleep Time: 337 mins<br> Deep Sleep Time: 99 mins<br> Avg Heart Rate: 53 bpm\",\"Sleep Time: 357 mins<br> Deep Sleep Time: 124 mins<br> Avg Heart Rate: 57 bpm\",\"Sleep Time: 444 mins<br> Deep Sleep Time: 88 mins<br> Avg Heart Rate: 51 bpm\",\"Sleep Time: 377 mins<br> Deep Sleep Time: 50 mins<br> Avg Heart Rate: 51 bpm\",\"Sleep Time: 441 mins<br> Deep Sleep Time: 163 mins<br> Avg Heart Rate: 55 bpm\",\"Sleep Time: 365 mins<br> Deep Sleep Time: 122 mins<br> Avg Heart Rate: 59 bpm\",\"Sleep Time: 381 mins<br> Deep Sleep Time: 87 mins<br> Avg Heart Rate: 53 bpm\",\"Sleep Time: 404 mins<br> Deep Sleep Time: 0 mins<br> Avg Heart Rate: 55 bpm\",\"Sleep Time: 352 mins<br> Deep Sleep Time: 94 mins<br> Avg Heart Rate: 57 bpm\",\"Sleep Time: 399 mins<br> Deep Sleep Time: 170 mins<br> Avg Heart Rate: 58 bpm\",\"Sleep Time: 499 mins<br> Deep Sleep Time: 114 mins<br> Avg Heart Rate: 59 bpm\",\"Sleep Time: 295 mins<br> Deep Sleep Time: 109 mins<br> Avg Heart Rate: 56 bpm\",\"Sleep Time: 427 mins<br> Deep Sleep Time: 116 mins<br> Avg Heart Rate: 61 bpm\",\"Sleep Time: 471 mins<br> Deep Sleep Time: 148 mins<br> Avg Heart Rate: 60 bpm\",\"Sleep Time: 385 mins<br> Deep Sleep Time: 102 mins<br> Avg Heart Rate: 63 bpm\",\"Sleep Time: 461 mins<br> Deep Sleep Time: 89 mins<br> Avg Heart Rate: 56 bpm\",\"Sleep Time: 452 mins<br> Deep Sleep Time: 91 mins<br> Avg Heart Rate: 57 bpm\",\"Sleep Time: 431 mins<br> Deep Sleep Time: 107 mins<br> Avg Heart Rate: 66 bpm\",\"Sleep Time: 455 mins<br> Deep Sleep Time: 135 mins<br> Avg Heart Rate: 61 bpm\",\"Sleep Time: 406 mins<br> Deep Sleep Time: 96 mins<br> Avg Heart Rate: 66 bpm\",\"Sleep Time: 456 mins<br> Deep Sleep Time: 137 mins<br> Avg Heart Rate: 63 bpm\",\"Sleep Time: 417 mins<br> Deep Sleep Time: 129 mins<br> Avg Heart Rate: 59 bpm\",\"Sleep Time: 398 mins<br> Deep Sleep Time: 72 mins<br> Avg Heart Rate: 61 bpm\",\"Sleep Time: 500 mins<br> Deep Sleep Time: 152 mins<br> Avg Heart Rate: 51 bpm\",\"Sleep Time: 354 mins<br> Deep Sleep Time: 96 mins<br> Avg Heart Rate: 57 bpm\",\"Sleep Time: 427 mins<br> Deep Sleep Time: 140 mins<br> Avg Heart Rate: 55 bpm\",\"Sleep Time: 336 mins<br> Deep Sleep Time: 83 mins<br> Avg Heart Rate: 56 bpm\",\"Sleep Time: 538 mins<br> Deep Sleep Time: 146 mins<br> Avg Heart Rate: 55 bpm\"],\"type\":\"splom\"}],                        {\"template\":{\"data\":{\"barpolar\":[{\"marker\":{\"line\":{\"color\":\"rgb(17,17,17)\",\"width\":0.5},\"pattern\":{\"fillmode\":\"overlay\",\"size\":10,\"solidity\":0.2}},\"type\":\"barpolar\"}],\"bar\":[{\"error_x\":{\"color\":\"#f2f5fa\"},\"error_y\":{\"color\":\"#f2f5fa\"},\"marker\":{\"line\":{\"color\":\"rgb(17,17,17)\",\"width\":0.5},\"pattern\":{\"fillmode\":\"overlay\",\"size\":10,\"solidity\":0.2}},\"type\":\"bar\"}],\"carpet\":[{\"aaxis\":{\"endlinecolor\":\"#A2B1C6\",\"gridcolor\":\"#506784\",\"linecolor\":\"#506784\",\"minorgridcolor\":\"#506784\",\"startlinecolor\":\"#A2B1C6\"},\"baxis\":{\"endlinecolor\":\"#A2B1C6\",\"gridcolor\":\"#506784\",\"linecolor\":\"#506784\",\"minorgridcolor\":\"#506784\",\"startlinecolor\":\"#A2B1C6\"},\"type\":\"carpet\"}],\"choropleth\":[{\"colorbar\":{\"outlinewidth\":0,\"ticks\":\"\"},\"type\":\"choropleth\"}],\"contourcarpet\":[{\"colorbar\":{\"outlinewidth\":0,\"ticks\":\"\"},\"type\":\"contourcarpet\"}],\"contour\":[{\"colorbar\":{\"outlinewidth\":0,\"ticks\":\"\"},\"colorscale\":[[0.0,\"#0d0887\"],[0.1111111111111111,\"#46039f\"],[0.2222222222222222,\"#7201a8\"],[0.3333333333333333,\"#9c179e\"],[0.4444444444444444,\"#bd3786\"],[0.5555555555555556,\"#d8576b\"],[0.6666666666666666,\"#ed7953\"],[0.7777777777777778,\"#fb9f3a\"],[0.8888888888888888,\"#fdca26\"],[1.0,\"#f0f921\"]],\"type\":\"contour\"}],\"heatmapgl\":[{\"colorbar\":{\"outlinewidth\":0,\"ticks\":\"\"},\"colorscale\":[[0.0,\"#0d0887\"],[0.1111111111111111,\"#46039f\"],[0.2222222222222222,\"#7201a8\"],[0.3333333333333333,\"#9c179e\"],[0.4444444444444444,\"#bd3786\"],[0.5555555555555556,\"#d8576b\"],[0.6666666666666666,\"#ed7953\"],[0.7777777777777778,\"#fb9f3a\"],[0.8888888888888888,\"#fdca26\"],[1.0,\"#f0f921\"]],\"type\":\"heatmapgl\"}],\"heatmap\":[{\"colorbar\":{\"outlinewidth\":0,\"ticks\":\"\"},\"colorscale\":[[0.0,\"#0d0887\"],[0.1111111111111111,\"#46039f\"],[0.2222222222222222,\"#7201a8\"],[0.3333333333333333,\"#9c179e\"],[0.4444444444444444,\"#bd3786\"],[0.5555555555555556,\"#d8576b\"],[0.6666666666666666,\"#ed7953\"],[0.7777777777777778,\"#fb9f3a\"],[0.8888888888888888,\"#fdca26\"],[1.0,\"#f0f921\"]],\"type\":\"heatmap\"}],\"histogram2dcontour\":[{\"colorbar\":{\"outlinewidth\":0,\"ticks\":\"\"},\"colorscale\":[[0.0,\"#0d0887\"],[0.1111111111111111,\"#46039f\"],[0.2222222222222222,\"#7201a8\"],[0.3333333333333333,\"#9c179e\"],[0.4444444444444444,\"#bd3786\"],[0.5555555555555556,\"#d8576b\"],[0.6666666666666666,\"#ed7953\"],[0.7777777777777778,\"#fb9f3a\"],[0.8888888888888888,\"#fdca26\"],[1.0,\"#f0f921\"]],\"type\":\"histogram2dcontour\"}],\"histogram2d\":[{\"colorbar\":{\"outlinewidth\":0,\"ticks\":\"\"},\"colorscale\":[[0.0,\"#0d0887\"],[0.1111111111111111,\"#46039f\"],[0.2222222222222222,\"#7201a8\"],[0.3333333333333333,\"#9c179e\"],[0.4444444444444444,\"#bd3786\"],[0.5555555555555556,\"#d8576b\"],[0.6666666666666666,\"#ed7953\"],[0.7777777777777778,\"#fb9f3a\"],[0.8888888888888888,\"#fdca26\"],[1.0,\"#f0f921\"]],\"type\":\"histogram2d\"}],\"histogram\":[{\"marker\":{\"pattern\":{\"fillmode\":\"overlay\",\"size\":10,\"solidity\":0.2}},\"type\":\"histogram\"}],\"mesh3d\":[{\"colorbar\":{\"outlinewidth\":0,\"ticks\":\"\"},\"type\":\"mesh3d\"}],\"parcoords\":[{\"line\":{\"colorbar\":{\"outlinewidth\":0,\"ticks\":\"\"}},\"type\":\"parcoords\"}],\"pie\":[{\"automargin\":true,\"type\":\"pie\"}],\"scatter3d\":[{\"line\":{\"colorbar\":{\"outlinewidth\":0,\"ticks\":\"\"}},\"marker\":{\"colorbar\":{\"outlinewidth\":0,\"ticks\":\"\"}},\"type\":\"scatter3d\"}],\"scattercarpet\":[{\"marker\":{\"colorbar\":{\"outlinewidth\":0,\"ticks\":\"\"}},\"type\":\"scattercarpet\"}],\"scattergeo\":[{\"marker\":{\"colorbar\":{\"outlinewidth\":0,\"ticks\":\"\"}},\"type\":\"scattergeo\"}],\"scattergl\":[{\"marker\":{\"line\":{\"color\":\"#283442\"}},\"type\":\"scattergl\"}],\"scattermapbox\":[{\"marker\":{\"colorbar\":{\"outlinewidth\":0,\"ticks\":\"\"}},\"type\":\"scattermapbox\"}],\"scatterpolargl\":[{\"marker\":{\"colorbar\":{\"outlinewidth\":0,\"ticks\":\"\"}},\"type\":\"scatterpolargl\"}],\"scatterpolar\":[{\"marker\":{\"colorbar\":{\"outlinewidth\":0,\"ticks\":\"\"}},\"type\":\"scatterpolar\"}],\"scatter\":[{\"marker\":{\"line\":{\"color\":\"#283442\"}},\"type\":\"scatter\"}],\"scatterternary\":[{\"marker\":{\"colorbar\":{\"outlinewidth\":0,\"ticks\":\"\"}},\"type\":\"scatterternary\"}],\"surface\":[{\"colorbar\":{\"outlinewidth\":0,\"ticks\":\"\"},\"colorscale\":[[0.0,\"#0d0887\"],[0.1111111111111111,\"#46039f\"],[0.2222222222222222,\"#7201a8\"],[0.3333333333333333,\"#9c179e\"],[0.4444444444444444,\"#bd3786\"],[0.5555555555555556,\"#d8576b\"],[0.6666666666666666,\"#ed7953\"],[0.7777777777777778,\"#fb9f3a\"],[0.8888888888888888,\"#fdca26\"],[1.0,\"#f0f921\"]],\"type\":\"surface\"}],\"table\":[{\"cells\":{\"fill\":{\"color\":\"#506784\"},\"line\":{\"color\":\"rgb(17,17,17)\"}},\"header\":{\"fill\":{\"color\":\"#2a3f5f\"},\"line\":{\"color\":\"rgb(17,17,17)\"}},\"type\":\"table\"}]},\"layout\":{\"annotationdefaults\":{\"arrowcolor\":\"#f2f5fa\",\"arrowhead\":0,\"arrowwidth\":1},\"autotypenumbers\":\"strict\",\"coloraxis\":{\"colorbar\":{\"outlinewidth\":0,\"ticks\":\"\"}},\"colorscale\":{\"diverging\":[[0,\"#8e0152\"],[0.1,\"#c51b7d\"],[0.2,\"#de77ae\"],[0.3,\"#f1b6da\"],[0.4,\"#fde0ef\"],[0.5,\"#f7f7f7\"],[0.6,\"#e6f5d0\"],[0.7,\"#b8e186\"],[0.8,\"#7fbc41\"],[0.9,\"#4d9221\"],[1,\"#276419\"]],\"sequential\":[[0.0,\"#0d0887\"],[0.1111111111111111,\"#46039f\"],[0.2222222222222222,\"#7201a8\"],[0.3333333333333333,\"#9c179e\"],[0.4444444444444444,\"#bd3786\"],[0.5555555555555556,\"#d8576b\"],[0.6666666666666666,\"#ed7953\"],[0.7777777777777778,\"#fb9f3a\"],[0.8888888888888888,\"#fdca26\"],[1.0,\"#f0f921\"]],\"sequentialminus\":[[0.0,\"#0d0887\"],[0.1111111111111111,\"#46039f\"],[0.2222222222222222,\"#7201a8\"],[0.3333333333333333,\"#9c179e\"],[0.4444444444444444,\"#bd3786\"],[0.5555555555555556,\"#d8576b\"],[0.6666666666666666,\"#ed7953\"],[0.7777777777777778,\"#fb9f3a\"],[0.8888888888888888,\"#fdca26\"],[1.0,\"#f0f921\"]]},\"colorway\":[\"#636efa\",\"#EF553B\",\"#00cc96\",\"#ab63fa\",\"#FFA15A\",\"#19d3f3\",\"#FF6692\",\"#B6E880\",\"#FF97FF\",\"#FECB52\"],\"font\":{\"color\":\"#f2f5fa\"},\"geo\":{\"bgcolor\":\"rgb(17,17,17)\",\"lakecolor\":\"rgb(17,17,17)\",\"landcolor\":\"rgb(17,17,17)\",\"showlakes\":true,\"showland\":true,\"subunitcolor\":\"#506784\"},\"hoverlabel\":{\"align\":\"left\"},\"hovermode\":\"closest\",\"mapbox\":{\"style\":\"dark\"},\"paper_bgcolor\":\"rgb(17,17,17)\",\"plot_bgcolor\":\"rgb(17,17,17)\",\"polar\":{\"angularaxis\":{\"gridcolor\":\"#506784\",\"linecolor\":\"#506784\",\"ticks\":\"\"},\"bgcolor\":\"rgb(17,17,17)\",\"radialaxis\":{\"gridcolor\":\"#506784\",\"linecolor\":\"#506784\",\"ticks\":\"\"}},\"scene\":{\"xaxis\":{\"backgroundcolor\":\"rgb(17,17,17)\",\"gridcolor\":\"#506784\",\"gridwidth\":2,\"linecolor\":\"#506784\",\"showbackground\":true,\"ticks\":\"\",\"zerolinecolor\":\"#C8D4E3\"},\"yaxis\":{\"backgroundcolor\":\"rgb(17,17,17)\",\"gridcolor\":\"#506784\",\"gridwidth\":2,\"linecolor\":\"#506784\",\"showbackground\":true,\"ticks\":\"\",\"zerolinecolor\":\"#C8D4E3\"},\"zaxis\":{\"backgroundcolor\":\"rgb(17,17,17)\",\"gridcolor\":\"#506784\",\"gridwidth\":2,\"linecolor\":\"#506784\",\"showbackground\":true,\"ticks\":\"\",\"zerolinecolor\":\"#C8D4E3\"}},\"shapedefaults\":{\"line\":{\"color\":\"#f2f5fa\"}},\"sliderdefaults\":{\"bgcolor\":\"#C8D4E3\",\"bordercolor\":\"rgb(17,17,17)\",\"borderwidth\":1,\"tickwidth\":0},\"ternary\":{\"aaxis\":{\"gridcolor\":\"#506784\",\"linecolor\":\"#506784\",\"ticks\":\"\"},\"baxis\":{\"gridcolor\":\"#506784\",\"linecolor\":\"#506784\",\"ticks\":\"\"},\"bgcolor\":\"rgb(17,17,17)\",\"caxis\":{\"gridcolor\":\"#506784\",\"linecolor\":\"#506784\",\"ticks\":\"\"}},\"title\":{\"x\":0.05},\"updatemenudefaults\":{\"bgcolor\":\"#506784\",\"borderwidth\":0},\"xaxis\":{\"automargin\":true,\"gridcolor\":\"#283442\",\"linecolor\":\"#506784\",\"ticks\":\"\",\"title\":{\"standoff\":15},\"zerolinecolor\":\"#283442\",\"zerolinewidth\":2},\"yaxis\":{\"automargin\":true,\"gridcolor\":\"#283442\",\"linecolor\":\"#506784\",\"ticks\":\"\",\"title\":{\"standoff\":15},\"zerolinecolor\":\"#283442\",\"zerolinewidth\":2}}}},                        {\"responsive\": true}                    ).then(function(){\n",
       "                            \n",
       "var gd = document.getElementById('43e672d2-4901-4fe3-96b6-be693656aa1b');\n",
       "var x = new MutationObserver(function (mutations, observer) {{\n",
       "        var display = window.getComputedStyle(gd).display;\n",
       "        if (!display || display === 'none') {{\n",
       "            console.log([gd, 'removed!']);\n",
       "            Plotly.purge(gd);\n",
       "            observer.disconnect();\n",
       "        }}\n",
       "}});\n",
       "\n",
       "// Listen for the removal of the full notebook cells\n",
       "var notebookContainer = gd.closest('#notebook-container');\n",
       "if (notebookContainer) {{\n",
       "    x.observe(notebookContainer, {childList: true});\n",
       "}}\n",
       "\n",
       "// Listen for the clearing of the current output cell\n",
       "var outputEl = gd.closest('.output');\n",
       "if (outputEl) {{\n",
       "    x.observe(outputEl, {childList: true});\n",
       "}}\n",
       "\n",
       "                        })                };                });            </script>        </div>"
      ]
     },
     "metadata": {},
     "output_type": "display_data"
    }
   ],
   "source": [
    "fig = go.Figure()\n",
    "\n",
    "\n",
    "fig.add_splom(\n",
    "    dimensions=[\n",
    "        dict(label='Sleep Time', values=df['sleepData.totalSleepTime']),\n",
    "        dict(label='Deep Time', values=df['sleepData.deepTime']),\n",
    "        dict(label='Max HR', values=df['sleepData.maxHeartRate']),\n",
    "        dict(label='Min HR', values=df['sleepData.minHeartRate'])\n",
    "    ]\n",
    "    , text=tick_text\n",
    "    , diagonal_visible=False\n",
    ")\n",
    "\n",
    "# dark theme \n",
    "fig.layout.template = 'plotly_dark'\n",
    "\n",
    "\n",
    "fig.show()"
   ]
  },
  {
   "cell_type": "code",
   "execution_count": 57,
   "id": "05866098-afa3-477e-bbc3-375673108222",
   "metadata": {},
   "outputs": [
    {
     "data": {
      "application/vnd.plotly.v1+json": {
       "config": {
        "plotlyServerURL": "https://plot.ly"
       },
       "data": [
        {
         "hoverinfo": "text",
         "marker": {
          "colorscale": [
           [
            0,
            "rgb(75, 41, 145)"
           ],
           [
            0.16666666666666666,
            "rgb(135, 44, 162)"
           ],
           [
            0.3333333333333333,
            "rgb(192, 54, 157)"
           ],
           [
            0.5,
            "rgb(234, 79, 136)"
           ],
           [
            0.6666666666666666,
            "rgb(250, 120, 118)"
           ],
           [
            0.8333333333333334,
            "rgb(246, 169, 122)"
           ],
           [
            1,
            "rgb(237, 217, 163)"
           ]
          ],
          "line": {
           "width": 1
          }
         },
         "mode": "markers+lines",
         "name": "values",
         "text": [
          "Sleep Time: 315 mins<br> Deep Sleep Time: 57 mins<br> Avg Heart Rate: 52 bpm",
          "Sleep Time: 481 mins<br> Deep Sleep Time: 148 mins<br> Avg Heart Rate: 54 bpm",
          "Sleep Time: 388 mins<br> Deep Sleep Time: 147 mins<br> Avg Heart Rate: 54 bpm",
          "Sleep Time: 385 mins<br> Deep Sleep Time: 155 mins<br> Avg Heart Rate: 51 bpm",
          "Sleep Time: 405 mins<br> Deep Sleep Time: 116 mins<br> Avg Heart Rate: 52 bpm",
          "Sleep Time: 354 mins<br> Deep Sleep Time: 94 mins<br> Avg Heart Rate: 57 bpm",
          "Sleep Time: 487 mins<br> Deep Sleep Time: 186 mins<br> Avg Heart Rate: 57 bpm",
          "Sleep Time: 441 mins<br> Deep Sleep Time: 73 mins<br> Avg Heart Rate: 54 bpm",
          "Sleep Time: 412 mins<br> Deep Sleep Time: 83 mins<br> Avg Heart Rate: 54 bpm",
          "Sleep Time: 380 mins<br> Deep Sleep Time: 80 mins<br> Avg Heart Rate: 56 bpm",
          "Sleep Time: 385 mins<br> Deep Sleep Time: 119 mins<br> Avg Heart Rate: 53 bpm",
          "Sleep Time: 461 mins<br> Deep Sleep Time: 97 mins<br> Avg Heart Rate: 53 bpm",
          "Sleep Time: 412 mins<br> Deep Sleep Time: 88 mins<br> Avg Heart Rate: 54 bpm",
          "Sleep Time: 366 mins<br> Deep Sleep Time: 107 mins<br> Avg Heart Rate: 59 bpm",
          "Sleep Time: 344 mins<br> Deep Sleep Time: 79 mins<br> Avg Heart Rate: 54 bpm",
          "Sleep Time: 383 mins<br> Deep Sleep Time: 61 mins<br> Avg Heart Rate: 52 bpm",
          "Sleep Time: 386 mins<br> Deep Sleep Time: 101 mins<br> Avg Heart Rate: 53 bpm",
          "Sleep Time: 467 mins<br> Deep Sleep Time: 175 mins<br> Avg Heart Rate: 55 bpm",
          "Sleep Time: 424 mins<br> Deep Sleep Time: 98 mins<br> Avg Heart Rate: 55 bpm",
          "Sleep Time: 360 mins<br> Deep Sleep Time: 99 mins<br> Avg Heart Rate: 57 bpm",
          "Sleep Time: 329 mins<br> Deep Sleep Time: 61 mins<br> Avg Heart Rate: 56 bpm",
          "Sleep Time: 426 mins<br> Deep Sleep Time: 66 mins<br> Avg Heart Rate: 59 bpm",
          "Sleep Time: 424 mins<br> Deep Sleep Time: 111 mins<br> Avg Heart Rate: 60 bpm",
          "Sleep Time: 413 mins<br> Deep Sleep Time: 94 mins<br> Avg Heart Rate: 55 bpm",
          "Sleep Time: 440 mins<br> Deep Sleep Time: 124 mins<br> Avg Heart Rate: 55 bpm",
          "Sleep Time: 457 mins<br> Deep Sleep Time: 111 mins<br> Avg Heart Rate: 59 bpm",
          "Sleep Time: 373 mins<br> Deep Sleep Time: 109 mins<br> Avg Heart Rate: 59 bpm",
          "Sleep Time: 459 mins<br> Deep Sleep Time: 91 mins<br> Avg Heart Rate: 60 bpm",
          "Sleep Time: 456 mins<br> Deep Sleep Time: 182 mins<br> Avg Heart Rate: 60 bpm",
          "Sleep Time: 498 mins<br> Deep Sleep Time: 105 mins<br> Avg Heart Rate: 54 bpm",
          "Sleep Time: 387 mins<br> Deep Sleep Time: 145 mins<br> Avg Heart Rate: 52 bpm",
          "Sleep Time: 485 mins<br> Deep Sleep Time: 189 mins<br> Avg Heart Rate: 51 bpm",
          "Sleep Time: 441 mins<br> Deep Sleep Time: 85 mins<br> Avg Heart Rate: 56 bpm",
          "Sleep Time: 333 mins<br> Deep Sleep Time: 109 mins<br> Avg Heart Rate: 49 bpm",
          "Sleep Time: 430 mins<br> Deep Sleep Time: 75 mins<br> Avg Heart Rate: 48 bpm",
          "Sleep Time: 342 mins<br> Deep Sleep Time: 116 mins<br> Avg Heart Rate: 50 bpm",
          "Sleep Time: 428 mins<br> Deep Sleep Time: 51 mins<br> Avg Heart Rate: 57 bpm",
          "Sleep Time: 357 mins<br> Deep Sleep Time: 101 mins<br> Avg Heart Rate: 53 bpm",
          "Sleep Time: 372 mins<br> Deep Sleep Time: 138 mins<br> Avg Heart Rate: 59 bpm",
          "Sleep Time: 296 mins<br> Deep Sleep Time: 66 mins<br> Avg Heart Rate: 54 bpm",
          "Sleep Time: 238 mins<br> Deep Sleep Time: 89 mins<br> Avg Heart Rate: 55 bpm",
          "Sleep Time: 467 mins<br> Deep Sleep Time: 196 mins<br> Avg Heart Rate: 55 bpm",
          "Sleep Time: 449 mins<br> Deep Sleep Time: 66 mins<br> Avg Heart Rate: 55 bpm",
          "Sleep Time: 493 mins<br> Deep Sleep Time: 202 mins<br> Avg Heart Rate: 52 bpm",
          "Sleep Time: 441 mins<br> Deep Sleep Time: 145 mins<br> Avg Heart Rate: 48 bpm",
          "Sleep Time: 428 mins<br> Deep Sleep Time: 123 mins<br> Avg Heart Rate: 51 bpm",
          "Sleep Time: 394 mins<br> Deep Sleep Time: 67 mins<br> Avg Heart Rate: 54 bpm",
          "Sleep Time: 458 mins<br> Deep Sleep Time: 88 mins<br> Avg Heart Rate: 57 bpm",
          "Sleep Time: 404 mins<br> Deep Sleep Time: 99 mins<br> Avg Heart Rate: 49 bpm",
          "Sleep Time: 414 mins<br> Deep Sleep Time: 67 mins<br> Avg Heart Rate: 49 bpm",
          "Sleep Time: 457 mins<br> Deep Sleep Time: 125 mins<br> Avg Heart Rate: 53 bpm",
          "Sleep Time: 400 mins<br> Deep Sleep Time: 149 mins<br> Avg Heart Rate: 50 bpm",
          "Sleep Time: 360 mins<br> Deep Sleep Time: 78 mins<br> Avg Heart Rate: 55 bpm",
          "Sleep Time: 386 mins<br> Deep Sleep Time: 122 mins<br> Avg Heart Rate: 55 bpm",
          "Sleep Time: 406 mins<br> Deep Sleep Time: 87 mins<br> Avg Heart Rate: 56 bpm",
          "Sleep Time: 358 mins<br> Deep Sleep Time: 96 mins<br> Avg Heart Rate: 60 bpm",
          "Sleep Time: 446 mins<br> Deep Sleep Time: 83 mins<br> Avg Heart Rate: 54 bpm",
          "Sleep Time: 393 mins<br> Deep Sleep Time: 116 mins<br> Avg Heart Rate: 56 bpm",
          "Sleep Time: 429 mins<br> Deep Sleep Time: 93 mins<br> Avg Heart Rate: 57 bpm",
          "Sleep Time: 379 mins<br> Deep Sleep Time: 101 mins<br> Avg Heart Rate: 56 bpm",
          "Sleep Time: 368 mins<br> Deep Sleep Time: 85 mins<br> Avg Heart Rate: 54 bpm",
          "Sleep Time: 336 mins<br> Deep Sleep Time: 120 mins<br> Avg Heart Rate: 57 bpm",
          "Sleep Time: 388 mins<br> Deep Sleep Time: 117 mins<br> Avg Heart Rate: 57 bpm",
          "Sleep Time: 379 mins<br> Deep Sleep Time: 121 mins<br> Avg Heart Rate: 61 bpm",
          "Sleep Time: 360 mins<br> Deep Sleep Time: 150 mins<br> Avg Heart Rate: 56 bpm",
          "Sleep Time: 390 mins<br> Deep Sleep Time: 111 mins<br> Avg Heart Rate: 60 bpm",
          "Sleep Time: 349 mins<br> Deep Sleep Time: 97 mins<br> Avg Heart Rate: 58 bpm",
          "Sleep Time: 338 mins<br> Deep Sleep Time: 62 mins<br> Avg Heart Rate: 56 bpm",
          "Sleep Time: 357 mins<br> Deep Sleep Time: 101 mins<br> Avg Heart Rate: 56 bpm",
          "Sleep Time: 420 mins<br> Deep Sleep Time: 102 mins<br> Avg Heart Rate: 61 bpm",
          "Sleep Time: 438 mins<br> Deep Sleep Time: 121 mins<br> Avg Heart Rate: 61 bpm",
          "Sleep Time: 310 mins<br> Deep Sleep Time: 68 mins<br> Avg Heart Rate: 55 bpm",
          "Sleep Time: 436 mins<br> Deep Sleep Time: 119 mins<br> Avg Heart Rate: 53 bpm",
          "Sleep Time: 366 mins<br> Deep Sleep Time: 66 mins<br> Avg Heart Rate: 54 bpm",
          "Sleep Time: 364 mins<br> Deep Sleep Time: 83 mins<br> Avg Heart Rate: 50 bpm",
          "Sleep Time: 375 mins<br> Deep Sleep Time: 103 mins<br> Avg Heart Rate: 57 bpm",
          "Sleep Time: 403 mins<br> Deep Sleep Time: 87 mins<br> Avg Heart Rate: 61 bpm",
          "Sleep Time: 381 mins<br> Deep Sleep Time: 118 mins<br> Avg Heart Rate: 52 bpm",
          "Sleep Time: 368 mins<br> Deep Sleep Time: 72 mins<br> Avg Heart Rate: 56 bpm",
          "Sleep Time: 380 mins<br> Deep Sleep Time: 88 mins<br> Avg Heart Rate: 57 bpm",
          "Sleep Time: 443 mins<br> Deep Sleep Time: 145 mins<br> Avg Heart Rate: 55 bpm",
          "Sleep Time: 377 mins<br> Deep Sleep Time: 128 mins<br> Avg Heart Rate: 52 bpm",
          "Sleep Time: 457 mins<br> Deep Sleep Time: 141 mins<br> Avg Heart Rate: 56 bpm",
          "Sleep Time: 364 mins<br> Deep Sleep Time: 105 mins<br> Avg Heart Rate: 53 bpm",
          "Sleep Time: 449 mins<br> Deep Sleep Time: 116 mins<br> Avg Heart Rate: 53 bpm",
          "Sleep Time: 307 mins<br> Deep Sleep Time: 58 mins<br> Avg Heart Rate: 54 bpm",
          "Sleep Time: 411 mins<br> Deep Sleep Time: 99 mins<br> Avg Heart Rate: 53 bpm",
          "Sleep Time: 306 mins<br> Deep Sleep Time: 68 mins<br> Avg Heart Rate: 52 bpm",
          "Sleep Time: 349 mins<br> Deep Sleep Time: 78 mins<br> Avg Heart Rate: 52 bpm",
          "Sleep Time: 296 mins<br> Deep Sleep Time: 88 mins<br> Avg Heart Rate: 53 bpm",
          "Sleep Time: 355 mins<br> Deep Sleep Time: 104 mins<br> Avg Heart Rate: 50 bpm",
          "Sleep Time: 289 mins<br> Deep Sleep Time: 107 mins<br> Avg Heart Rate: 52 bpm",
          "Sleep Time: 403 mins<br> Deep Sleep Time: 73 mins<br> Avg Heart Rate: 54 bpm",
          "Sleep Time: 423 mins<br> Deep Sleep Time: 94 mins<br> Avg Heart Rate: 52 bpm",
          "Sleep Time: 424 mins<br> Deep Sleep Time: 150 mins<br> Avg Heart Rate: 53 bpm",
          "Sleep Time: 278 mins<br> Deep Sleep Time: 134 mins<br> Avg Heart Rate: 54 bpm",
          "Sleep Time: 447 mins<br> Deep Sleep Time: 92 mins<br> Avg Heart Rate: 52 bpm",
          "Sleep Time: 386 mins<br> Deep Sleep Time: 110 mins<br> Avg Heart Rate: 60 bpm",
          "Sleep Time: 338 mins<br> Deep Sleep Time: 85 mins<br> Avg Heart Rate: 49 bpm",
          "Sleep Time: 336 mins<br> Deep Sleep Time: 125 mins<br> Avg Heart Rate: 51 bpm",
          "Sleep Time: 423 mins<br> Deep Sleep Time: 98 mins<br> Avg Heart Rate: 58 bpm",
          "Sleep Time: 253 mins<br> Deep Sleep Time: 86 mins<br> Avg Heart Rate: 49 bpm",
          "Sleep Time: 375 mins<br> Deep Sleep Time: 136 mins<br> Avg Heart Rate: 49 bpm",
          "Sleep Time: 456 mins<br> Deep Sleep Time: 171 mins<br> Avg Heart Rate: 55 bpm",
          "Sleep Time: 290 mins<br> Deep Sleep Time: 94 mins<br> Avg Heart Rate: 56 bpm",
          "Sleep Time: 299 mins<br> Deep Sleep Time: 123 mins<br> Avg Heart Rate: 53 bpm",
          "Sleep Time: 508 mins<br> Deep Sleep Time: 128 mins<br> Avg Heart Rate: 53 bpm",
          "Sleep Time: 409 mins<br> Deep Sleep Time: 165 mins<br> Avg Heart Rate: 57 bpm",
          "Sleep Time: 418 mins<br> Deep Sleep Time: 143 mins<br> Avg Heart Rate: 51 bpm",
          "Sleep Time: 353 mins<br> Deep Sleep Time: 122 mins<br> Avg Heart Rate: 51 bpm",
          "Sleep Time: 423 mins<br> Deep Sleep Time: 57 mins<br> Avg Heart Rate: 50 bpm",
          "Sleep Time: 442 mins<br> Deep Sleep Time: 54 mins<br> Avg Heart Rate: 51 bpm",
          "Sleep Time: 416 mins<br> Deep Sleep Time: 80 mins<br> Avg Heart Rate: 50 bpm",
          "Sleep Time: 414 mins<br> Deep Sleep Time: 66 mins<br> Avg Heart Rate: 50 bpm",
          "Sleep Time: 292 mins<br> Deep Sleep Time: 84 mins<br> Avg Heart Rate: 50 bpm",
          "Sleep Time: 380 mins<br> Deep Sleep Time: 97 mins<br> Avg Heart Rate: 52 bpm",
          "Sleep Time: 337 mins<br> Deep Sleep Time: 45 mins<br> Avg Heart Rate: 56 bpm",
          "Sleep Time: 526 mins<br> Deep Sleep Time: 99 mins<br> Avg Heart Rate: 54 bpm",
          "Sleep Time: 448 mins<br> Deep Sleep Time: 66 mins<br> Avg Heart Rate: 54 bpm",
          "Sleep Time: 364 mins<br> Deep Sleep Time: 56 mins<br> Avg Heart Rate: 56 bpm",
          "Sleep Time: 392 mins<br> Deep Sleep Time: 125 mins<br> Avg Heart Rate: 57 bpm",
          "Sleep Time: 403 mins<br> Deep Sleep Time: 136 mins<br> Avg Heart Rate: 56 bpm",
          "Sleep Time: 421 mins<br> Deep Sleep Time: 142 mins<br> Avg Heart Rate: 59 bpm",
          "Sleep Time: 450 mins<br> Deep Sleep Time: 85 mins<br> Avg Heart Rate: 59 bpm",
          "Sleep Time: 408 mins<br> Deep Sleep Time: 82 mins<br> Avg Heart Rate: 57 bpm",
          "Sleep Time: 426 mins<br> Deep Sleep Time: 99 mins<br> Avg Heart Rate: 52 bpm",
          "Sleep Time: 379 mins<br> Deep Sleep Time: 144 mins<br> Avg Heart Rate: 59 bpm",
          "Sleep Time: 417 mins<br> Deep Sleep Time: 137 mins<br> Avg Heart Rate: 52 bpm",
          "Sleep Time: 363 mins<br> Deep Sleep Time: 85 mins<br> Avg Heart Rate: 54 bpm",
          "Sleep Time: 419 mins<br> Deep Sleep Time: 114 mins<br> Avg Heart Rate: 52 bpm",
          "Sleep Time: 450 mins<br> Deep Sleep Time: 131 mins<br> Avg Heart Rate: 56 bpm",
          "Sleep Time: 413 mins<br> Deep Sleep Time: 146 mins<br> Avg Heart Rate: 58 bpm",
          "Sleep Time: 386 mins<br> Deep Sleep Time: 122 mins<br> Avg Heart Rate: 58 bpm",
          "Sleep Time: 420 mins<br> Deep Sleep Time: 72 mins<br> Avg Heart Rate: 57 bpm",
          "Sleep Time: 369 mins<br> Deep Sleep Time: 116 mins<br> Avg Heart Rate: 52 bpm",
          "Sleep Time: 446 mins<br> Deep Sleep Time: 134 mins<br> Avg Heart Rate: 58 bpm",
          "Sleep Time: 407 mins<br> Deep Sleep Time: 134 mins<br> Avg Heart Rate: 54 bpm",
          "Sleep Time: 420 mins<br> Deep Sleep Time: 109 mins<br> Avg Heart Rate: 57 bpm",
          "Sleep Time: 428 mins<br> Deep Sleep Time: 125 mins<br> Avg Heart Rate: 60 bpm",
          "Sleep Time: 409 mins<br> Deep Sleep Time: 60 mins<br> Avg Heart Rate: 55 bpm",
          "Sleep Time: 393 mins<br> Deep Sleep Time: 139 mins<br> Avg Heart Rate: 59 bpm",
          "Sleep Time: 421 mins<br> Deep Sleep Time: 137 mins<br> Avg Heart Rate: 57 bpm",
          "Sleep Time: 343 mins<br> Deep Sleep Time: 52 mins<br> Avg Heart Rate: 53 bpm",
          "Sleep Time: 368 mins<br> Deep Sleep Time: 119 mins<br> Avg Heart Rate: 57 bpm",
          "Sleep Time: 485 mins<br> Deep Sleep Time: 150 mins<br> Avg Heart Rate: 53 bpm",
          "Sleep Time: 409 mins<br> Deep Sleep Time: 82 mins<br> Avg Heart Rate: 59 bpm",
          "Sleep Time: 378 mins<br> Deep Sleep Time: 79 mins<br> Avg Heart Rate: 56 bpm",
          "Sleep Time: 395 mins<br> Deep Sleep Time: 64 mins<br> Avg Heart Rate: 53 bpm",
          "Sleep Time: 385 mins<br> Deep Sleep Time: 104 mins<br> Avg Heart Rate: 52 bpm",
          "Sleep Time: 365 mins<br> Deep Sleep Time: 97 mins<br> Avg Heart Rate: 53 bpm",
          "Sleep Time: 387 mins<br> Deep Sleep Time: 114 mins<br> Avg Heart Rate: 53 bpm",
          "Sleep Time: 300 mins<br> Deep Sleep Time: 108 mins<br> Avg Heart Rate: 52 bpm",
          "Sleep Time: 405 mins<br> Deep Sleep Time: 121 mins<br> Avg Heart Rate: 54 bpm",
          "Sleep Time: 375 mins<br> Deep Sleep Time: 67 mins<br> Avg Heart Rate: 54 bpm",
          "Sleep Time: 372 mins<br> Deep Sleep Time: 103 mins<br> Avg Heart Rate: 55 bpm",
          "Sleep Time: 360 mins<br> Deep Sleep Time: 52 mins<br> Avg Heart Rate: 52 bpm",
          "Sleep Time: 357 mins<br> Deep Sleep Time: 152 mins<br> Avg Heart Rate: 56 bpm",
          "Sleep Time: 410 mins<br> Deep Sleep Time: 131 mins<br> Avg Heart Rate: 55 bpm",
          "Sleep Time: 379 mins<br> Deep Sleep Time: 144 mins<br> Avg Heart Rate: 57 bpm",
          "Sleep Time: 370 mins<br> Deep Sleep Time: 115 mins<br> Avg Heart Rate: 56 bpm",
          "Sleep Time: 361 mins<br> Deep Sleep Time: 98 mins<br> Avg Heart Rate: 51 bpm",
          "Sleep Time: 371 mins<br> Deep Sleep Time: 113 mins<br> Avg Heart Rate: 53 bpm",
          "Sleep Time: 397 mins<br> Deep Sleep Time: 67 mins<br> Avg Heart Rate: 55 bpm",
          "Sleep Time: 375 mins<br> Deep Sleep Time: 131 mins<br> Avg Heart Rate: 59 bpm",
          "Sleep Time: 397 mins<br> Deep Sleep Time: 97 mins<br> Avg Heart Rate: 56 bpm",
          "Sleep Time: 516 mins<br> Deep Sleep Time: 108 mins<br> Avg Heart Rate: 60 bpm",
          "Sleep Time: 392 mins<br> Deep Sleep Time: 98 mins<br> Avg Heart Rate: 57 bpm",
          "Sleep Time: 425 mins<br> Deep Sleep Time: 113 mins<br> Avg Heart Rate: 55 bpm",
          "Sleep Time: 397 mins<br> Deep Sleep Time: 139 mins<br> Avg Heart Rate: 59 bpm",
          "Sleep Time: 358 mins<br> Deep Sleep Time: 107 mins<br> Avg Heart Rate: 52 bpm",
          "Sleep Time: 382 mins<br> Deep Sleep Time: 90 mins<br> Avg Heart Rate: 55 bpm",
          "Sleep Time: 286 mins<br> Deep Sleep Time: 55 mins<br> Avg Heart Rate: 59 bpm",
          "Sleep Time: 430 mins<br> Deep Sleep Time: 96 mins<br> Avg Heart Rate: 55 bpm",
          "Sleep Time: 415 mins<br> Deep Sleep Time: 57 mins<br> Avg Heart Rate: 67 bpm",
          "Sleep Time: 380 mins<br> Deep Sleep Time: 74 mins<br> Avg Heart Rate: 62 bpm",
          "Sleep Time: 406 mins<br> Deep Sleep Time: 109 mins<br> Avg Heart Rate: 58 bpm",
          "Sleep Time: 432 mins<br> Deep Sleep Time: 110 mins<br> Avg Heart Rate: 59 bpm",
          "Sleep Time: 385 mins<br> Deep Sleep Time: 115 mins<br> Avg Heart Rate: 59 bpm",
          "Sleep Time: 410 mins<br> Deep Sleep Time: 108 mins<br> Avg Heart Rate: 54 bpm",
          "Sleep Time: 330 mins<br> Deep Sleep Time: 85 mins<br> Avg Heart Rate: 61 bpm",
          "Sleep Time: 494 mins<br> Deep Sleep Time: 102 mins<br> Avg Heart Rate: 62 bpm",
          "Sleep Time: 380 mins<br> Deep Sleep Time: 125 mins<br> Avg Heart Rate: 61 bpm",
          "Sleep Time: 432 mins<br> Deep Sleep Time: 133 mins<br> Avg Heart Rate: 60 bpm",
          "Sleep Time: 422 mins<br> Deep Sleep Time: 107 mins<br> Avg Heart Rate: 55 bpm",
          "Sleep Time: 401 mins<br> Deep Sleep Time: 133 mins<br> Avg Heart Rate: 58 bpm",
          "Sleep Time: 395 mins<br> Deep Sleep Time: 84 mins<br> Avg Heart Rate: 55 bpm",
          "Sleep Time: 364 mins<br> Deep Sleep Time: 86 mins<br> Avg Heart Rate: 62 bpm",
          "Sleep Time: 407 mins<br> Deep Sleep Time: 83 mins<br> Avg Heart Rate: 60 bpm",
          "Sleep Time: 388 mins<br> Deep Sleep Time: 81 mins<br> Avg Heart Rate: 64 bpm",
          "Sleep Time: 417 mins<br> Deep Sleep Time: 122 mins<br> Avg Heart Rate: 59 bpm",
          "Sleep Time: 393 mins<br> Deep Sleep Time: 77 mins<br> Avg Heart Rate: 59 bpm",
          "Sleep Time: 306 mins<br> Deep Sleep Time: 53 mins<br> Avg Heart Rate: 54 bpm",
          "Sleep Time: 202 mins<br> Deep Sleep Time: 41 mins<br> Avg Heart Rate: 62 bpm",
          "Sleep Time: 319 mins<br> Deep Sleep Time: 133 mins<br> Avg Heart Rate: 60 bpm",
          "Sleep Time: 350 mins<br> Deep Sleep Time: 90 mins<br> Avg Heart Rate: 57 bpm",
          "Sleep Time: 320 mins<br> Deep Sleep Time: 105 mins<br> Avg Heart Rate: 50 bpm",
          "Sleep Time: 365 mins<br> Deep Sleep Time: 74 mins<br> Avg Heart Rate: 57 bpm",
          "Sleep Time: 413 mins<br> Deep Sleep Time: 114 mins<br> Avg Heart Rate: 57 bpm",
          "Sleep Time: 362 mins<br> Deep Sleep Time: 96 mins<br> Avg Heart Rate: 52 bpm",
          "Sleep Time: 341 mins<br> Deep Sleep Time: 102 mins<br> Avg Heart Rate: 57 bpm",
          "Sleep Time: 393 mins<br> Deep Sleep Time: 73 mins<br> Avg Heart Rate: 55 bpm",
          "Sleep Time: 336 mins<br> Deep Sleep Time: 108 mins<br> Avg Heart Rate: 52 bpm",
          "Sleep Time: 355 mins<br> Deep Sleep Time: 76 mins<br> Avg Heart Rate: 59 bpm",
          "Sleep Time: 411 mins<br> Deep Sleep Time: 122 mins<br> Avg Heart Rate: 58 bpm",
          "Sleep Time: 365 mins<br> Deep Sleep Time: 106 mins<br> Avg Heart Rate: 57 bpm",
          "Sleep Time: 370 mins<br> Deep Sleep Time: 105 mins<br> Avg Heart Rate: 54 bpm",
          "Sleep Time: 302 mins<br> Deep Sleep Time: 100 mins<br> Avg Heart Rate: 63 bpm",
          "Sleep Time: 461 mins<br> Deep Sleep Time: 169 mins<br> Avg Heart Rate: 57 bpm",
          "Sleep Time: 327 mins<br> Deep Sleep Time: 102 mins<br> Avg Heart Rate: 57 bpm",
          "Sleep Time: 384 mins<br> Deep Sleep Time: 81 mins<br> Avg Heart Rate: 53 bpm",
          "Sleep Time: 243 mins<br> Deep Sleep Time: 61 mins<br> Avg Heart Rate: 56 bpm",
          "Sleep Time: 380 mins<br> Deep Sleep Time: 125 mins<br> Avg Heart Rate: 54 bpm",
          "Sleep Time: 326 mins<br> Deep Sleep Time: 109 mins<br> Avg Heart Rate: 50 bpm",
          "Sleep Time: 295 mins<br> Deep Sleep Time: 83 mins<br> Avg Heart Rate: 62 bpm",
          "Sleep Time: 246 mins<br> Deep Sleep Time: 136 mins<br> Avg Heart Rate: 48 bpm",
          "Sleep Time: 402 mins<br> Deep Sleep Time: 118 mins<br> Avg Heart Rate: 54 bpm",
          "Sleep Time: 406 mins<br> Deep Sleep Time: 141 mins<br> Avg Heart Rate: 54 bpm",
          "Sleep Time: 334 mins<br> Deep Sleep Time: 129 mins<br> Avg Heart Rate: 54 bpm",
          "Sleep Time: 346 mins<br> Deep Sleep Time: 89 mins<br> Avg Heart Rate: 55 bpm",
          "Sleep Time: 341 mins<br> Deep Sleep Time: 131 mins<br> Avg Heart Rate: 51 bpm",
          "Sleep Time: 421 mins<br> Deep Sleep Time: 135 mins<br> Avg Heart Rate: 58 bpm",
          "Sleep Time: 411 mins<br> Deep Sleep Time: 178 mins<br> Avg Heart Rate: 53 bpm",
          "Sleep Time: 371 mins<br> Deep Sleep Time: 69 mins<br> Avg Heart Rate: 58 bpm",
          "Sleep Time: 397 mins<br> Deep Sleep Time: 64 mins<br> Avg Heart Rate: 54 bpm",
          "Sleep Time: 372 mins<br> Deep Sleep Time: 108 mins<br> Avg Heart Rate: 52 bpm",
          "Sleep Time: 359 mins<br> Deep Sleep Time: 111 mins<br> Avg Heart Rate: 55 bpm",
          "Sleep Time: 343 mins<br> Deep Sleep Time: 118 mins<br> Avg Heart Rate: 55 bpm",
          "Sleep Time: 255 mins<br> Deep Sleep Time: 30 mins<br> Avg Heart Rate: 54 bpm",
          "Sleep Time: 350 mins<br> Deep Sleep Time: 67 mins<br> Avg Heart Rate: 57 bpm",
          "Sleep Time: 366 mins<br> Deep Sleep Time: 115 mins<br> Avg Heart Rate: 58 bpm",
          "Sleep Time: 340 mins<br> Deep Sleep Time: 89 mins<br> Avg Heart Rate: 56 bpm",
          "Sleep Time: 396 mins<br> Deep Sleep Time: 50 mins<br> Avg Heart Rate: 60 bpm",
          "Sleep Time: 337 mins<br> Deep Sleep Time: 62 mins<br> Avg Heart Rate: 57 bpm",
          "Sleep Time: 442 mins<br> Deep Sleep Time: 66 mins<br> Avg Heart Rate: 54 bpm",
          "Sleep Time: 353 mins<br> Deep Sleep Time: 139 mins<br> Avg Heart Rate: 59 bpm",
          "Sleep Time: 432 mins<br> Deep Sleep Time: 105 mins<br> Avg Heart Rate: 62 bpm",
          "Sleep Time: 352 mins<br> Deep Sleep Time: 109 mins<br> Avg Heart Rate: 59 bpm",
          "Sleep Time: 382 mins<br> Deep Sleep Time: 91 mins<br> Avg Heart Rate: 64 bpm",
          "Sleep Time: 367 mins<br> Deep Sleep Time: 106 mins<br> Avg Heart Rate: 58 bpm",
          "Sleep Time: 433 mins<br> Deep Sleep Time: 164 mins<br> Avg Heart Rate: 57 bpm",
          "Sleep Time: 240 mins<br> Deep Sleep Time: 76 mins<br> Avg Heart Rate: 53 bpm",
          "Sleep Time: 344 mins<br> Deep Sleep Time: 142 mins<br> Avg Heart Rate: 51 bpm",
          "Sleep Time: 357 mins<br> Deep Sleep Time: 43 mins<br> Avg Heart Rate: 54 bpm",
          "Sleep Time: 451 mins<br> Deep Sleep Time: 81 mins<br> Avg Heart Rate: 58 bpm",
          "Sleep Time: 416 mins<br> Deep Sleep Time: 71 mins<br> Avg Heart Rate: 56 bpm",
          "Sleep Time: 311 mins<br> Deep Sleep Time: 100 mins<br> Avg Heart Rate: 58 bpm",
          "Sleep Time: 439 mins<br> Deep Sleep Time: 85 mins<br> Avg Heart Rate: 54 bpm",
          "Sleep Time: 389 mins<br> Deep Sleep Time: 114 mins<br> Avg Heart Rate: 52 bpm",
          "Sleep Time: 453 mins<br> Deep Sleep Time: 80 mins<br> Avg Heart Rate: 55 bpm",
          "Sleep Time: 450 mins<br> Deep Sleep Time: 85 mins<br> Avg Heart Rate: 61 bpm",
          "Sleep Time: 345 mins<br> Deep Sleep Time: 23 mins<br> Avg Heart Rate: 56 bpm",
          "Sleep Time: 454 mins<br> Deep Sleep Time: 127 mins<br> Avg Heart Rate: 59 bpm",
          "Sleep Time: 385 mins<br> Deep Sleep Time: 80 mins<br> Avg Heart Rate: 58 bpm",
          "Sleep Time: 357 mins<br> Deep Sleep Time: 76 mins<br> Avg Heart Rate: 58 bpm",
          "Sleep Time: 346 mins<br> Deep Sleep Time: 74 mins<br> Avg Heart Rate: 61 bpm",
          "Sleep Time: 340 mins<br> Deep Sleep Time: 68 mins<br> Avg Heart Rate: 57 bpm",
          "Sleep Time: 346 mins<br> Deep Sleep Time: 73 mins<br> Avg Heart Rate: 66 bpm",
          "Sleep Time: 339 mins<br> Deep Sleep Time: 95 mins<br> Avg Heart Rate: 59 bpm",
          "Sleep Time: 445 mins<br> Deep Sleep Time: 43 mins<br> Avg Heart Rate: 58 bpm",
          "Sleep Time: 420 mins<br> Deep Sleep Time: 104 mins<br> Avg Heart Rate: 62 bpm",
          "Sleep Time: 299 mins<br> Deep Sleep Time: 92 mins<br> Avg Heart Rate: 62 bpm",
          "Sleep Time: 487 mins<br> Deep Sleep Time: 71 mins<br> Avg Heart Rate: 61 bpm",
          "Sleep Time: 511 mins<br> Deep Sleep Time: 114 mins<br> Avg Heart Rate: 64 bpm",
          "Sleep Time: 440 mins<br> Deep Sleep Time: 192 mins<br> Avg Heart Rate: 62 bpm",
          "Sleep Time: 432 mins<br> Deep Sleep Time: 118 mins<br> Avg Heart Rate: 64 bpm",
          "Sleep Time: 404 mins<br> Deep Sleep Time: 106 mins<br> Avg Heart Rate: 60 bpm",
          "Sleep Time: 378 mins<br> Deep Sleep Time: 99 mins<br> Avg Heart Rate: 60 bpm",
          "Sleep Time: 460 mins<br> Deep Sleep Time: 122 mins<br> Avg Heart Rate: 65 bpm",
          "Sleep Time: 401 mins<br> Deep Sleep Time: 108 mins<br> Avg Heart Rate: 61 bpm",
          "Sleep Time: 482 mins<br> Deep Sleep Time: 188 mins<br> Avg Heart Rate: 60 bpm",
          "Sleep Time: 458 mins<br> Deep Sleep Time: 134 mins<br> Avg Heart Rate: 69 bpm",
          "Sleep Time: 387 mins<br> Deep Sleep Time: 118 mins<br> Avg Heart Rate: 63 bpm",
          "Sleep Time: 419 mins<br> Deep Sleep Time: 45 mins<br> Avg Heart Rate: 61 bpm",
          "Sleep Time: 388 mins<br> Deep Sleep Time: 97 mins<br> Avg Heart Rate: 59 bpm",
          "Sleep Time: 366 mins<br> Deep Sleep Time: 80 mins<br> Avg Heart Rate: 60 bpm",
          "Sleep Time: 298 mins<br> Deep Sleep Time: 55 mins<br> Avg Heart Rate: 57 bpm",
          "Sleep Time: 422 mins<br> Deep Sleep Time: 76 mins<br> Avg Heart Rate: 58 bpm",
          "Sleep Time: 354 mins<br> Deep Sleep Time: 88 mins<br> Avg Heart Rate: 56 bpm",
          "Sleep Time: 350 mins<br> Deep Sleep Time: 47 mins<br> Avg Heart Rate: 62 bpm",
          "Sleep Time: 452 mins<br> Deep Sleep Time: 91 mins<br> Avg Heart Rate: 63 bpm",
          "Sleep Time: 373 mins<br> Deep Sleep Time: 88 mins<br> Avg Heart Rate: 66 bpm",
          "Sleep Time: 284 mins<br> Deep Sleep Time: 110 mins<br> Avg Heart Rate: 52 bpm",
          "Sleep Time: 426 mins<br> Deep Sleep Time: 120 mins<br> Avg Heart Rate: 60 bpm",
          "Sleep Time: 353 mins<br> Deep Sleep Time: 99 mins<br> Avg Heart Rate: 59 bpm",
          "Sleep Time: 240 mins<br> Deep Sleep Time: 102 mins<br> Avg Heart Rate: 62 bpm",
          "Sleep Time: 419 mins<br> Deep Sleep Time: 50 mins<br> Avg Heart Rate: 64 bpm",
          "Sleep Time: 393 mins<br> Deep Sleep Time: 118 mins<br> Avg Heart Rate: 65 bpm",
          "Sleep Time: 417 mins<br> Deep Sleep Time: 100 mins<br> Avg Heart Rate: 59 bpm",
          "Sleep Time: 353 mins<br> Deep Sleep Time: 37 mins<br> Avg Heart Rate: 61 bpm",
          "Sleep Time: 378 mins<br> Deep Sleep Time: 135 mins<br> Avg Heart Rate: 60 bpm",
          "Sleep Time: 284 mins<br> Deep Sleep Time: 67 mins<br> Avg Heart Rate: 57 bpm",
          "Sleep Time: 440 mins<br> Deep Sleep Time: 112 mins<br> Avg Heart Rate: 60 bpm",
          "Sleep Time: 387 mins<br> Deep Sleep Time: 94 mins<br> Avg Heart Rate: 68 bpm",
          "Sleep Time: 390 mins<br> Deep Sleep Time: 85 mins<br> Avg Heart Rate: 60 bpm",
          "Sleep Time: 362 mins<br> Deep Sleep Time: 124 mins<br> Avg Heart Rate: 61 bpm",
          "Sleep Time: 218 mins<br> Deep Sleep Time: 79 mins<br> Avg Heart Rate: 57 bpm",
          "Sleep Time: 455 mins<br> Deep Sleep Time: 147 mins<br> Avg Heart Rate: 65 bpm",
          "Sleep Time: 301 mins<br> Deep Sleep Time: 88 mins<br> Avg Heart Rate: 55 bpm",
          "Sleep Time: 207 mins<br> Deep Sleep Time: 78 mins<br> Avg Heart Rate: 55 bpm",
          "Sleep Time: 417 mins<br> Deep Sleep Time: 120 mins<br> Avg Heart Rate: 58 bpm",
          "Sleep Time: 378 mins<br> Deep Sleep Time: 99 mins<br> Avg Heart Rate: 59 bpm",
          "Sleep Time: 322 mins<br> Deep Sleep Time: 118 mins<br> Avg Heart Rate: 54 bpm",
          "Sleep Time: 363 mins<br> Deep Sleep Time: 117 mins<br> Avg Heart Rate: 55 bpm",
          "Sleep Time: 364 mins<br> Deep Sleep Time: 106 mins<br> Avg Heart Rate: 63 bpm",
          "Sleep Time: 491 mins<br> Deep Sleep Time: 70 mins<br> Avg Heart Rate: 65 bpm",
          "Sleep Time: 340 mins<br> Deep Sleep Time: 118 mins<br> Avg Heart Rate: 62 bpm",
          "Sleep Time: 399 mins<br> Deep Sleep Time: 93 mins<br> Avg Heart Rate: 62 bpm",
          "Sleep Time: 353 mins<br> Deep Sleep Time: 74 mins<br> Avg Heart Rate: 58 bpm",
          "Sleep Time: 412 mins<br> Deep Sleep Time: 127 mins<br> Avg Heart Rate: 63 bpm",
          "Sleep Time: 360 mins<br> Deep Sleep Time: 79 mins<br> Avg Heart Rate: 60 bpm",
          "Sleep Time: 435 mins<br> Deep Sleep Time: 66 mins<br> Avg Heart Rate: 57 bpm",
          "Sleep Time: 438 mins<br> Deep Sleep Time: 84 mins<br> Avg Heart Rate: 60 bpm",
          "Sleep Time: 429 mins<br> Deep Sleep Time: 144 mins<br> Avg Heart Rate: 56 bpm",
          "Sleep Time: 209 mins<br> Deep Sleep Time: 55 mins<br> Avg Heart Rate: 51 bpm",
          "Sleep Time: 342 mins<br> Deep Sleep Time: 94 mins<br> Avg Heart Rate: 50 bpm",
          "Sleep Time: 360 mins<br> Deep Sleep Time: 118 mins<br> Avg Heart Rate: 63 bpm",
          "Sleep Time: 393 mins<br> Deep Sleep Time: 54 mins<br> Avg Heart Rate: 57 bpm",
          "Sleep Time: 463 mins<br> Deep Sleep Time: 111 mins<br> Avg Heart Rate: 58 bpm",
          "Sleep Time: 323 mins<br> Deep Sleep Time: 42 mins<br> Avg Heart Rate: 56 bpm",
          "Sleep Time: 403 mins<br> Deep Sleep Time: 76 mins<br> Avg Heart Rate: 56 bpm",
          "Sleep Time: 417 mins<br> Deep Sleep Time: 83 mins<br> Avg Heart Rate: 52 bpm",
          "Sleep Time: 337 mins<br> Deep Sleep Time: 99 mins<br> Avg Heart Rate: 53 bpm",
          "Sleep Time: 357 mins<br> Deep Sleep Time: 124 mins<br> Avg Heart Rate: 57 bpm",
          "Sleep Time: 444 mins<br> Deep Sleep Time: 88 mins<br> Avg Heart Rate: 51 bpm",
          "Sleep Time: 377 mins<br> Deep Sleep Time: 50 mins<br> Avg Heart Rate: 51 bpm",
          "Sleep Time: 441 mins<br> Deep Sleep Time: 163 mins<br> Avg Heart Rate: 55 bpm",
          "Sleep Time: 365 mins<br> Deep Sleep Time: 122 mins<br> Avg Heart Rate: 59 bpm",
          "Sleep Time: 381 mins<br> Deep Sleep Time: 87 mins<br> Avg Heart Rate: 53 bpm",
          "Sleep Time: 404 mins<br> Deep Sleep Time: 0 mins<br> Avg Heart Rate: 55 bpm",
          "Sleep Time: 352 mins<br> Deep Sleep Time: 94 mins<br> Avg Heart Rate: 57 bpm",
          "Sleep Time: 399 mins<br> Deep Sleep Time: 170 mins<br> Avg Heart Rate: 58 bpm",
          "Sleep Time: 499 mins<br> Deep Sleep Time: 114 mins<br> Avg Heart Rate: 59 bpm",
          "Sleep Time: 295 mins<br> Deep Sleep Time: 109 mins<br> Avg Heart Rate: 56 bpm",
          "Sleep Time: 427 mins<br> Deep Sleep Time: 116 mins<br> Avg Heart Rate: 61 bpm",
          "Sleep Time: 471 mins<br> Deep Sleep Time: 148 mins<br> Avg Heart Rate: 60 bpm",
          "Sleep Time: 385 mins<br> Deep Sleep Time: 102 mins<br> Avg Heart Rate: 63 bpm",
          "Sleep Time: 461 mins<br> Deep Sleep Time: 89 mins<br> Avg Heart Rate: 56 bpm",
          "Sleep Time: 452 mins<br> Deep Sleep Time: 91 mins<br> Avg Heart Rate: 57 bpm",
          "Sleep Time: 431 mins<br> Deep Sleep Time: 107 mins<br> Avg Heart Rate: 66 bpm",
          "Sleep Time: 455 mins<br> Deep Sleep Time: 135 mins<br> Avg Heart Rate: 61 bpm",
          "Sleep Time: 406 mins<br> Deep Sleep Time: 96 mins<br> Avg Heart Rate: 66 bpm",
          "Sleep Time: 456 mins<br> Deep Sleep Time: 137 mins<br> Avg Heart Rate: 63 bpm",
          "Sleep Time: 417 mins<br> Deep Sleep Time: 129 mins<br> Avg Heart Rate: 59 bpm",
          "Sleep Time: 398 mins<br> Deep Sleep Time: 72 mins<br> Avg Heart Rate: 61 bpm",
          "Sleep Time: 500 mins<br> Deep Sleep Time: 152 mins<br> Avg Heart Rate: 51 bpm",
          "Sleep Time: 354 mins<br> Deep Sleep Time: 96 mins<br> Avg Heart Rate: 57 bpm",
          "Sleep Time: 427 mins<br> Deep Sleep Time: 140 mins<br> Avg Heart Rate: 55 bpm",
          "Sleep Time: 336 mins<br> Deep Sleep Time: 83 mins<br> Avg Heart Rate: 56 bpm",
          "Sleep Time: 538 mins<br> Deep Sleep Time: 146 mins<br> Avg Heart Rate: 55 bpm"
         ],
         "type": "scatter",
         "x": [
          "2021-11-23T00:00:00",
          "2021-11-24T00:00:00",
          "2021-11-25T00:00:00",
          "2021-11-26T00:00:00",
          "2021-11-27T00:00:00",
          "2021-11-28T00:00:00",
          "2021-11-29T00:00:00",
          "2021-11-30T00:00:00",
          "2021-12-01T00:00:00",
          "2021-12-02T00:00:00",
          "2021-12-03T00:00:00",
          "2021-12-04T00:00:00",
          "2021-12-05T00:00:00",
          "2021-12-06T00:00:00",
          "2021-12-07T00:00:00",
          "2021-12-08T00:00:00",
          "2021-12-09T00:00:00",
          "2021-12-10T00:00:00",
          "2021-12-11T00:00:00",
          "2021-12-12T00:00:00",
          "2021-12-13T00:00:00",
          "2021-12-14T00:00:00",
          "2021-12-15T00:00:00",
          "2021-12-16T00:00:00",
          "2021-12-17T00:00:00",
          "2021-12-18T00:00:00",
          "2021-12-19T00:00:00",
          "2021-12-20T00:00:00",
          "2021-12-21T00:00:00",
          "2021-12-22T00:00:00",
          "2021-12-23T00:00:00",
          "2021-12-24T00:00:00",
          "2021-12-25T00:00:00",
          "2021-12-26T00:00:00",
          "2021-12-27T00:00:00",
          "2021-12-28T00:00:00",
          "2021-12-29T00:00:00",
          "2021-12-30T00:00:00",
          "2021-12-31T00:00:00",
          "2022-01-01T00:00:00",
          "2022-01-02T00:00:00",
          "2022-01-03T00:00:00",
          "2022-01-04T00:00:00",
          "2022-01-05T00:00:00",
          "2022-01-06T00:00:00",
          "2022-01-07T00:00:00",
          "2022-01-08T00:00:00",
          "2022-01-09T00:00:00",
          "2022-01-10T00:00:00",
          "2022-01-11T00:00:00",
          "2022-01-12T00:00:00",
          "2022-01-13T00:00:00",
          "2022-01-14T00:00:00",
          "2022-01-15T00:00:00",
          "2022-01-16T00:00:00",
          "2022-01-17T00:00:00",
          "2022-01-18T00:00:00",
          "2022-01-19T00:00:00",
          "2022-01-20T00:00:00",
          "2022-01-21T00:00:00",
          "2022-01-22T00:00:00",
          "2022-01-23T00:00:00",
          "2022-01-24T00:00:00",
          "2022-01-25T00:00:00",
          "2022-01-26T00:00:00",
          "2022-01-27T00:00:00",
          "2022-01-28T00:00:00",
          "2022-01-29T00:00:00",
          "2022-01-30T00:00:00",
          "2022-01-31T00:00:00",
          "2022-02-01T00:00:00",
          "2022-02-02T00:00:00",
          "2022-02-03T00:00:00",
          "2022-02-04T00:00:00",
          "2022-02-05T00:00:00",
          "2022-02-06T00:00:00",
          "2022-02-07T00:00:00",
          "2022-02-08T00:00:00",
          "2022-02-09T00:00:00",
          "2022-02-10T00:00:00",
          "2022-02-11T00:00:00",
          "2022-02-12T00:00:00",
          "2022-02-13T00:00:00",
          "2022-02-14T00:00:00",
          "2022-02-15T00:00:00",
          "2022-02-16T00:00:00",
          "2022-02-17T00:00:00",
          "2022-02-18T00:00:00",
          "2022-02-19T00:00:00",
          "2022-02-20T00:00:00",
          "2022-02-21T00:00:00",
          "2022-02-22T00:00:00",
          "2022-02-23T00:00:00",
          "2022-02-24T00:00:00",
          "2022-02-25T00:00:00",
          "2022-02-26T00:00:00",
          "2022-02-27T00:00:00",
          "2022-02-28T00:00:00",
          "2022-03-01T00:00:00",
          "2022-03-02T00:00:00",
          "2022-03-03T00:00:00",
          "2022-03-04T00:00:00",
          "2022-03-05T00:00:00",
          "2022-03-07T00:00:00",
          "2022-03-08T00:00:00",
          "2022-03-09T00:00:00",
          "2022-03-10T00:00:00",
          "2022-03-11T00:00:00",
          "2022-03-12T00:00:00",
          "2022-03-13T00:00:00",
          "2022-03-14T00:00:00",
          "2022-03-15T00:00:00",
          "2022-03-16T00:00:00",
          "2022-03-17T00:00:00",
          "2022-03-18T00:00:00",
          "2022-03-19T00:00:00",
          "2022-03-20T00:00:00",
          "2022-03-21T00:00:00",
          "2022-03-22T00:00:00",
          "2022-03-23T00:00:00",
          "2022-03-24T00:00:00",
          "2022-03-25T00:00:00",
          "2022-03-26T00:00:00",
          "2022-03-27T00:00:00",
          "2022-03-28T00:00:00",
          "2022-03-29T00:00:00",
          "2022-03-30T00:00:00",
          "2022-03-31T00:00:00",
          "2022-04-01T00:00:00",
          "2022-04-02T00:00:00",
          "2022-04-03T00:00:00",
          "2022-04-04T00:00:00",
          "2022-04-05T00:00:00",
          "2022-04-06T00:00:00",
          "2022-04-07T00:00:00",
          "2022-04-08T00:00:00",
          "2022-04-09T00:00:00",
          "2022-04-10T00:00:00",
          "2022-04-11T00:00:00",
          "2022-04-12T00:00:00",
          "2022-04-13T00:00:00",
          "2022-04-14T00:00:00",
          "2022-04-15T00:00:00",
          "2022-04-16T00:00:00",
          "2022-04-17T00:00:00",
          "2022-04-18T00:00:00",
          "2022-04-19T00:00:00",
          "2022-04-20T00:00:00",
          "2022-04-21T00:00:00",
          "2022-04-22T00:00:00",
          "2022-04-23T00:00:00",
          "2022-04-24T00:00:00",
          "2022-04-25T00:00:00",
          "2022-04-26T00:00:00",
          "2022-04-27T00:00:00",
          "2022-04-28T00:00:00",
          "2022-04-29T00:00:00",
          "2022-04-30T00:00:00",
          "2022-05-01T00:00:00",
          "2022-05-02T00:00:00",
          "2022-05-03T00:00:00",
          "2022-05-04T00:00:00",
          "2022-05-05T00:00:00",
          "2022-05-06T00:00:00",
          "2022-05-07T00:00:00",
          "2022-05-08T00:00:00",
          "2022-05-09T00:00:00",
          "2022-05-10T00:00:00",
          "2022-05-11T00:00:00",
          "2022-05-12T00:00:00",
          "2022-05-13T00:00:00",
          "2022-05-14T00:00:00",
          "2022-05-15T00:00:00",
          "2022-05-16T00:00:00",
          "2022-05-17T00:00:00",
          "2022-05-18T00:00:00",
          "2022-05-19T00:00:00",
          "2022-05-20T00:00:00",
          "2022-05-21T00:00:00",
          "2022-05-22T00:00:00",
          "2022-05-23T00:00:00",
          "2022-05-24T00:00:00",
          "2022-05-25T00:00:00",
          "2022-05-26T00:00:00",
          "2022-05-27T00:00:00",
          "2022-05-28T00:00:00",
          "2022-05-29T00:00:00",
          "2022-05-30T00:00:00",
          "2022-05-31T00:00:00",
          "2022-06-01T00:00:00",
          "2022-06-02T00:00:00",
          "2022-06-03T00:00:00",
          "2022-06-04T00:00:00",
          "2022-06-05T00:00:00",
          "2022-06-06T00:00:00",
          "2022-06-07T00:00:00",
          "2022-06-08T00:00:00",
          "2022-06-09T00:00:00",
          "2022-06-10T00:00:00",
          "2022-06-11T00:00:00",
          "2022-06-12T00:00:00",
          "2022-06-13T00:00:00",
          "2022-06-14T00:00:00",
          "2022-06-15T00:00:00",
          "2022-06-16T00:00:00",
          "2022-06-17T00:00:00",
          "2022-06-18T00:00:00",
          "2022-06-19T00:00:00",
          "2022-06-20T00:00:00",
          "2022-06-22T00:00:00",
          "2022-06-23T00:00:00",
          "2022-06-24T00:00:00",
          "2022-06-25T00:00:00",
          "2022-06-26T00:00:00",
          "2022-06-27T00:00:00",
          "2022-06-28T00:00:00",
          "2022-06-29T00:00:00",
          "2022-06-30T00:00:00",
          "2022-07-01T00:00:00",
          "2022-07-02T00:00:00",
          "2022-07-03T00:00:00",
          "2022-07-04T00:00:00",
          "2022-07-05T00:00:00",
          "2022-07-06T00:00:00",
          "2022-07-07T00:00:00",
          "2022-07-08T00:00:00",
          "2022-07-09T00:00:00",
          "2022-07-10T00:00:00",
          "2022-07-11T00:00:00",
          "2022-07-12T00:00:00",
          "2022-07-13T00:00:00",
          "2022-07-14T00:00:00",
          "2022-07-15T00:00:00",
          "2022-07-16T00:00:00",
          "2022-07-17T00:00:00",
          "2022-07-18T00:00:00",
          "2022-07-19T00:00:00",
          "2022-07-20T00:00:00",
          "2022-07-21T00:00:00",
          "2022-07-22T00:00:00",
          "2022-07-23T00:00:00",
          "2022-07-24T00:00:00",
          "2022-07-25T00:00:00",
          "2022-07-26T00:00:00",
          "2022-07-27T00:00:00",
          "2022-07-28T00:00:00",
          "2022-07-29T00:00:00",
          "2022-07-30T00:00:00",
          "2022-07-31T00:00:00",
          "2022-08-01T00:00:00",
          "2022-08-02T00:00:00",
          "2022-08-03T00:00:00",
          "2022-08-04T00:00:00",
          "2022-08-05T00:00:00",
          "2022-08-06T00:00:00",
          "2022-08-07T00:00:00",
          "2022-08-08T00:00:00",
          "2022-08-09T00:00:00",
          "2022-08-10T00:00:00",
          "2022-08-11T00:00:00",
          "2022-08-12T00:00:00",
          "2022-08-13T00:00:00",
          "2022-08-14T00:00:00",
          "2022-08-15T00:00:00",
          "2022-08-16T00:00:00",
          "2022-08-17T00:00:00",
          "2022-08-18T00:00:00",
          "2022-08-19T00:00:00",
          "2022-08-20T00:00:00",
          "2022-08-21T00:00:00",
          "2022-08-22T00:00:00",
          "2022-08-23T00:00:00",
          "2022-08-24T00:00:00",
          "2022-08-25T00:00:00",
          "2022-08-26T00:00:00",
          "2022-08-27T00:00:00",
          "2022-08-28T00:00:00",
          "2022-08-29T00:00:00",
          "2022-08-30T00:00:00",
          "2022-08-31T00:00:00",
          "2022-09-01T00:00:00",
          "2022-09-02T00:00:00",
          "2022-09-03T00:00:00",
          "2022-09-04T00:00:00",
          "2022-09-05T00:00:00",
          "2022-09-06T00:00:00",
          "2022-09-07T00:00:00",
          "2022-09-08T00:00:00",
          "2022-09-09T00:00:00",
          "2022-09-10T00:00:00",
          "2022-09-11T00:00:00",
          "2022-09-12T00:00:00",
          "2022-09-13T00:00:00",
          "2022-09-14T00:00:00",
          "2022-09-15T00:00:00",
          "2022-09-16T00:00:00",
          "2022-09-19T00:00:00",
          "2022-09-20T00:00:00",
          "2022-09-21T00:00:00",
          "2022-09-22T00:00:00",
          "2022-09-23T00:00:00",
          "2022-09-24T00:00:00",
          "2022-09-25T00:00:00",
          "2022-09-26T00:00:00",
          "2022-09-27T00:00:00",
          "2022-09-28T00:00:00",
          "2022-09-29T00:00:00",
          "2022-09-30T00:00:00",
          "2022-10-02T00:00:00",
          "2022-10-03T00:00:00",
          "2022-10-04T00:00:00",
          "2022-10-05T00:00:00",
          "2022-10-06T00:00:00",
          "2022-10-07T00:00:00",
          "2022-10-08T00:00:00",
          "2022-10-09T00:00:00",
          "2022-10-10T00:00:00",
          "2022-10-11T00:00:00",
          "2022-10-12T00:00:00",
          "2022-10-13T00:00:00",
          "2022-10-14T00:00:00",
          "2022-10-15T00:00:00",
          "2022-10-16T00:00:00",
          "2022-10-17T00:00:00",
          "2022-10-18T00:00:00",
          "2022-10-19T00:00:00",
          "2022-10-20T00:00:00",
          "2022-10-21T00:00:00",
          "2022-10-22T00:00:00",
          "2022-10-23T00:00:00",
          "2022-10-24T00:00:00",
          "2022-10-25T00:00:00",
          "2022-10-26T00:00:00",
          "2022-10-27T00:00:00",
          "2022-10-28T00:00:00",
          "2022-10-29T00:00:00",
          "2022-10-30T00:00:00",
          "2022-10-31T00:00:00",
          "2022-11-01T00:00:00",
          "2022-11-02T00:00:00",
          "2022-11-03T00:00:00",
          "2022-11-04T00:00:00",
          "2022-11-05T00:00:00",
          "2022-11-06T00:00:00",
          "2022-11-07T00:00:00",
          "2022-11-08T00:00:00",
          "2022-11-09T00:00:00",
          "2022-11-10T00:00:00",
          "2022-11-11T00:00:00"
         ],
         "y": [
          null,
          null,
          null,
          null,
          null,
          null,
          null,
          null,
          null,
          null,
          null,
          null,
          null,
          null,
          null,
          null,
          null,
          null,
          null,
          null,
          null,
          null,
          null,
          null,
          null,
          null,
          null,
          null,
          null,
          107.23333333333333,
          110.16666666666667,
          111.53333333333333,
          109.46666666666667,
          107.93333333333334,
          106.56666666666666,
          107.3,
          102.8,
          103.73333333333333,
          105.56666666666666,
          105.1,
          104.1,
          107.4,
          106.66666666666667,
          109.83333333333333,
          112.03333333333333,
          114.1,
          112.96666666666667,
          110.06666666666666,
          110.1,
          109.03333333333333,
          111.16666666666667,
          113.93333333333334,
          112.83333333333333,
          113.76666666666667,
          112.53333333333333,
          112.03333333333333,
          111.16666666666667,
          112,
          109.03333333333333,
          108.9,
          106.9,
          104.6,
          105.66666666666667,
          106.06666666666666,
          108.56666666666666,
          108.4,
          109.93333333333334,
          108.63333333333334,
          107.4,
          108.6,
          109.66666666666667,
          105.4,
          107.16666666666667,
          102.63333333333334,
          100.56666666666666,
          99.9,
          100.56666666666666,
          101.56666666666666,
          100.66666666666667,
          101.36666666666666,
          102.03333333333333,
          101.33333333333333,
          103.43333333333334,
          102.86666666666666,
          103.83333333333333,
          102.56666666666666,
          103.1,
          101.5,
          101,
          100.56666666666666,
          101.2,
          100.76666666666667,
          99.3,
          98.4,
          98.4,
          99.16666666666667,
          99,
          100.6,
          100.06666666666666,
          100.83333333333333,
          100.06666666666666,
          100.66666666666667,
          101.23333333333333,
          104.73333333333333,
          105.1,
          105.76666666666667,
          107.13333333333334,
          108.7,
          111.06666666666666,
          112.2,
          109.26666666666667,
          106.8,
          104.76666666666667,
          103.46666666666667,
          102.4,
          103.7,
          101.9,
          102.93333333333334,
          102.53333333333333,
          101.46666666666667,
          102.16666666666667,
          103.13333333333334,
          105.43333333333334,
          105.13333333333334,
          102.86666666666666,
          101.7,
          103.43333333333334,
          104.33333333333333,
          104.33333333333333,
          103.96666666666667,
          105.06666666666666,
          107.06666666666666,
          106.6,
          103.3,
          104.03333333333333,
          104.4,
          104.6,
          102.73333333333333,
          102.13333333333334,
          100.06666666666666,
          102.8,
          105.56666666666666,
          104.63333333333334,
          106.4,
          108.6,
          108.1,
          109.23333333333333,
          108.06666666666666,
          109.33333333333333,
          110.7,
          110.33333333333333,
          109.4,
          108.7,
          108.1,
          108.8,
          107.23333333333333,
          107.5,
          107.3,
          109.26666666666667,
          109.3,
          108.2,
          107.1,
          105.26666666666667,
          107.23333333333333,
          106.6,
          105.73333333333333,
          104.53333333333333,
          104.66666666666667,
          105.13333333333334,
          106.7,
          105.06666666666666,
          102.33333333333333,
          103.8,
          101.73333333333333,
          99.2,
          100.1,
          101.13333333333334,
          102.83333333333333,
          102.96666666666667,
          102.56666666666666,
          102.16666666666667,
          102.73333333333333,
          103.13333333333334,
          104.46666666666667,
          105.46666666666667,
          106.53333333333333,
          104.33333333333333,
          102.73333333333333,
          100.63333333333334,
          100.86666666666666,
          100.16666666666667,
          98.16666666666667,
          97.3,
          97.36666666666666,
          97.13333333333334,
          97.03333333333333,
          96.23333333333333,
          96.26666666666667,
          94.83333333333333,
          94.66666666666667,
          94.1,
          95.86666666666666,
          95.2,
          97.36666666666666,
          98.43333333333334,
          98.3,
          97.96666666666667,
          99.76666666666667,
          99.56666666666666,
          99.43333333333334,
          98.06666666666666,
          98.06666666666666,
          97.26666666666667,
          96.46666666666667,
          96.56666666666666,
          97.7,
          99.53333333333333,
          101.06666666666666,
          101.33333333333333,
          101.63333333333334,
          103.56666666666666,
          107.73333333333333,
          108.66666666666667,
          106.36666666666666,
          106.96666666666667,
          107.16666666666667,
          108.63333333333334,
          105.83333333333333,
          104.86666666666666,
          105.3,
          105.83333333333333,
          103.9,
          103.43333333333334,
          101.56666666666666,
          102.66666666666667,
          102.66666666666667,
          102.96666666666667,
          100.36666666666666,
          100.5,
          103.26666666666667,
          103.76666666666667,
          104.33333333333333,
          102.13333333333334,
          102.06666666666666,
          99.9,
          99.3,
          97.43333333333334,
          96.93333333333334,
          96.63333333333334,
          95.1,
          91.36666666666666,
          89.66666666666667,
          90.03333333333333,
          90.43333333333334,
          89.3,
          87.86666666666666,
          86.36666666666666,
          88.53333333333333,
          87.73333333333333,
          87.36666666666666,
          87.46666666666667,
          88.16666666666667,
          89.9,
          94.1,
          93.4,
          93.43333333333334,
          93.1,
          94.13333333333334,
          94.2,
          95,
          96.93333333333334,
          96.13333333333334,
          96.2,
          96.73333333333333,
          97.03333333333333,
          95.53333333333333,
          95.23333333333333,
          94.36666666666666,
          93.26666666666667,
          93.46666666666667,
          95.63333333333334,
          95.06666666666666,
          96.4,
          97.16666666666667,
          98.1,
          97.5,
          99,
          99.16666666666667,
          98.96666666666667,
          100,
          99.16666666666667,
          100.53333333333333,
          99.86666666666666,
          96.3,
          96.5,
          95.6,
          97.2,
          96.06666666666666,
          95.06666666666666,
          92.8,
          91.63333333333334,
          91.63333333333334,
          94.03333333333333,
          94.33333333333333,
          94,
          96.1,
          96.66666666666667,
          96.2,
          98.86666666666666,
          98.46666666666667,
          97.73333333333333,
          96.86666666666666,
          97.66666666666667,
          96.2,
          95.93333333333334,
          98.2,
          96.06666666666666,
          96.43333333333334,
          96.6,
          94.63333333333334,
          95.16666666666667,
          94.73333333333333,
          95.73333333333333,
          95.83333333333333,
          93.36666666666666,
          96.16666666666667,
          95.33333333333333,
          95.3,
          92.7,
          91.83333333333333,
          94.2,
          94.06666666666666,
          93.8,
          94.13333333333334,
          96.73333333333333,
          96.2,
          96.06666666666666,
          96.63333333333334,
          95.96666666666667,
          97.83333333333333,
          98.83333333333333,
          100.6,
          100.1,
          100.66666666666667,
          102.6,
          101.86666666666666,
          104.73333333333333,
          103.8,
          107.26666666666667
         ]
        }
       ],
       "layout": {
        "autosize": true,
        "template": {
         "data": {
          "bar": [
           {
            "error_x": {
             "color": "#f2f5fa"
            },
            "error_y": {
             "color": "#f2f5fa"
            },
            "marker": {
             "line": {
              "color": "rgb(17,17,17)",
              "width": 0.5
             },
             "pattern": {
              "fillmode": "overlay",
              "size": 10,
              "solidity": 0.2
             }
            },
            "type": "bar"
           }
          ],
          "barpolar": [
           {
            "marker": {
             "line": {
              "color": "rgb(17,17,17)",
              "width": 0.5
             },
             "pattern": {
              "fillmode": "overlay",
              "size": 10,
              "solidity": 0.2
             }
            },
            "type": "barpolar"
           }
          ],
          "carpet": [
           {
            "aaxis": {
             "endlinecolor": "#A2B1C6",
             "gridcolor": "#506784",
             "linecolor": "#506784",
             "minorgridcolor": "#506784",
             "startlinecolor": "#A2B1C6"
            },
            "baxis": {
             "endlinecolor": "#A2B1C6",
             "gridcolor": "#506784",
             "linecolor": "#506784",
             "minorgridcolor": "#506784",
             "startlinecolor": "#A2B1C6"
            },
            "type": "carpet"
           }
          ],
          "choropleth": [
           {
            "colorbar": {
             "outlinewidth": 0,
             "ticks": ""
            },
            "type": "choropleth"
           }
          ],
          "contour": [
           {
            "colorbar": {
             "outlinewidth": 0,
             "ticks": ""
            },
            "colorscale": [
             [
              0,
              "#0d0887"
             ],
             [
              0.1111111111111111,
              "#46039f"
             ],
             [
              0.2222222222222222,
              "#7201a8"
             ],
             [
              0.3333333333333333,
              "#9c179e"
             ],
             [
              0.4444444444444444,
              "#bd3786"
             ],
             [
              0.5555555555555556,
              "#d8576b"
             ],
             [
              0.6666666666666666,
              "#ed7953"
             ],
             [
              0.7777777777777778,
              "#fb9f3a"
             ],
             [
              0.8888888888888888,
              "#fdca26"
             ],
             [
              1,
              "#f0f921"
             ]
            ],
            "type": "contour"
           }
          ],
          "contourcarpet": [
           {
            "colorbar": {
             "outlinewidth": 0,
             "ticks": ""
            },
            "type": "contourcarpet"
           }
          ],
          "heatmap": [
           {
            "colorbar": {
             "outlinewidth": 0,
             "ticks": ""
            },
            "colorscale": [
             [
              0,
              "#0d0887"
             ],
             [
              0.1111111111111111,
              "#46039f"
             ],
             [
              0.2222222222222222,
              "#7201a8"
             ],
             [
              0.3333333333333333,
              "#9c179e"
             ],
             [
              0.4444444444444444,
              "#bd3786"
             ],
             [
              0.5555555555555556,
              "#d8576b"
             ],
             [
              0.6666666666666666,
              "#ed7953"
             ],
             [
              0.7777777777777778,
              "#fb9f3a"
             ],
             [
              0.8888888888888888,
              "#fdca26"
             ],
             [
              1,
              "#f0f921"
             ]
            ],
            "type": "heatmap"
           }
          ],
          "heatmapgl": [
           {
            "colorbar": {
             "outlinewidth": 0,
             "ticks": ""
            },
            "colorscale": [
             [
              0,
              "#0d0887"
             ],
             [
              0.1111111111111111,
              "#46039f"
             ],
             [
              0.2222222222222222,
              "#7201a8"
             ],
             [
              0.3333333333333333,
              "#9c179e"
             ],
             [
              0.4444444444444444,
              "#bd3786"
             ],
             [
              0.5555555555555556,
              "#d8576b"
             ],
             [
              0.6666666666666666,
              "#ed7953"
             ],
             [
              0.7777777777777778,
              "#fb9f3a"
             ],
             [
              0.8888888888888888,
              "#fdca26"
             ],
             [
              1,
              "#f0f921"
             ]
            ],
            "type": "heatmapgl"
           }
          ],
          "histogram": [
           {
            "marker": {
             "pattern": {
              "fillmode": "overlay",
              "size": 10,
              "solidity": 0.2
             }
            },
            "type": "histogram"
           }
          ],
          "histogram2d": [
           {
            "colorbar": {
             "outlinewidth": 0,
             "ticks": ""
            },
            "colorscale": [
             [
              0,
              "#0d0887"
             ],
             [
              0.1111111111111111,
              "#46039f"
             ],
             [
              0.2222222222222222,
              "#7201a8"
             ],
             [
              0.3333333333333333,
              "#9c179e"
             ],
             [
              0.4444444444444444,
              "#bd3786"
             ],
             [
              0.5555555555555556,
              "#d8576b"
             ],
             [
              0.6666666666666666,
              "#ed7953"
             ],
             [
              0.7777777777777778,
              "#fb9f3a"
             ],
             [
              0.8888888888888888,
              "#fdca26"
             ],
             [
              1,
              "#f0f921"
             ]
            ],
            "type": "histogram2d"
           }
          ],
          "histogram2dcontour": [
           {
            "colorbar": {
             "outlinewidth": 0,
             "ticks": ""
            },
            "colorscale": [
             [
              0,
              "#0d0887"
             ],
             [
              0.1111111111111111,
              "#46039f"
             ],
             [
              0.2222222222222222,
              "#7201a8"
             ],
             [
              0.3333333333333333,
              "#9c179e"
             ],
             [
              0.4444444444444444,
              "#bd3786"
             ],
             [
              0.5555555555555556,
              "#d8576b"
             ],
             [
              0.6666666666666666,
              "#ed7953"
             ],
             [
              0.7777777777777778,
              "#fb9f3a"
             ],
             [
              0.8888888888888888,
              "#fdca26"
             ],
             [
              1,
              "#f0f921"
             ]
            ],
            "type": "histogram2dcontour"
           }
          ],
          "mesh3d": [
           {
            "colorbar": {
             "outlinewidth": 0,
             "ticks": ""
            },
            "type": "mesh3d"
           }
          ],
          "parcoords": [
           {
            "line": {
             "colorbar": {
              "outlinewidth": 0,
              "ticks": ""
             }
            },
            "type": "parcoords"
           }
          ],
          "pie": [
           {
            "automargin": true,
            "type": "pie"
           }
          ],
          "scatter": [
           {
            "marker": {
             "line": {
              "color": "#283442"
             }
            },
            "type": "scatter"
           }
          ],
          "scatter3d": [
           {
            "line": {
             "colorbar": {
              "outlinewidth": 0,
              "ticks": ""
             }
            },
            "marker": {
             "colorbar": {
              "outlinewidth": 0,
              "ticks": ""
             }
            },
            "type": "scatter3d"
           }
          ],
          "scattercarpet": [
           {
            "marker": {
             "colorbar": {
              "outlinewidth": 0,
              "ticks": ""
             }
            },
            "type": "scattercarpet"
           }
          ],
          "scattergeo": [
           {
            "marker": {
             "colorbar": {
              "outlinewidth": 0,
              "ticks": ""
             }
            },
            "type": "scattergeo"
           }
          ],
          "scattergl": [
           {
            "marker": {
             "line": {
              "color": "#283442"
             }
            },
            "type": "scattergl"
           }
          ],
          "scattermapbox": [
           {
            "marker": {
             "colorbar": {
              "outlinewidth": 0,
              "ticks": ""
             }
            },
            "type": "scattermapbox"
           }
          ],
          "scatterpolar": [
           {
            "marker": {
             "colorbar": {
              "outlinewidth": 0,
              "ticks": ""
             }
            },
            "type": "scatterpolar"
           }
          ],
          "scatterpolargl": [
           {
            "marker": {
             "colorbar": {
              "outlinewidth": 0,
              "ticks": ""
             }
            },
            "type": "scatterpolargl"
           }
          ],
          "scatterternary": [
           {
            "marker": {
             "colorbar": {
              "outlinewidth": 0,
              "ticks": ""
             }
            },
            "type": "scatterternary"
           }
          ],
          "surface": [
           {
            "colorbar": {
             "outlinewidth": 0,
             "ticks": ""
            },
            "colorscale": [
             [
              0,
              "#0d0887"
             ],
             [
              0.1111111111111111,
              "#46039f"
             ],
             [
              0.2222222222222222,
              "#7201a8"
             ],
             [
              0.3333333333333333,
              "#9c179e"
             ],
             [
              0.4444444444444444,
              "#bd3786"
             ],
             [
              0.5555555555555556,
              "#d8576b"
             ],
             [
              0.6666666666666666,
              "#ed7953"
             ],
             [
              0.7777777777777778,
              "#fb9f3a"
             ],
             [
              0.8888888888888888,
              "#fdca26"
             ],
             [
              1,
              "#f0f921"
             ]
            ],
            "type": "surface"
           }
          ],
          "table": [
           {
            "cells": {
             "fill": {
              "color": "#506784"
             },
             "line": {
              "color": "rgb(17,17,17)"
             }
            },
            "header": {
             "fill": {
              "color": "#2a3f5f"
             },
             "line": {
              "color": "rgb(17,17,17)"
             }
            },
            "type": "table"
           }
          ]
         },
         "layout": {
          "annotationdefaults": {
           "arrowcolor": "#f2f5fa",
           "arrowhead": 0,
           "arrowwidth": 1
          },
          "autotypenumbers": "strict",
          "coloraxis": {
           "colorbar": {
            "outlinewidth": 0,
            "ticks": ""
           }
          },
          "colorscale": {
           "diverging": [
            [
             0,
             "#8e0152"
            ],
            [
             0.1,
             "#c51b7d"
            ],
            [
             0.2,
             "#de77ae"
            ],
            [
             0.3,
             "#f1b6da"
            ],
            [
             0.4,
             "#fde0ef"
            ],
            [
             0.5,
             "#f7f7f7"
            ],
            [
             0.6,
             "#e6f5d0"
            ],
            [
             0.7,
             "#b8e186"
            ],
            [
             0.8,
             "#7fbc41"
            ],
            [
             0.9,
             "#4d9221"
            ],
            [
             1,
             "#276419"
            ]
           ],
           "sequential": [
            [
             0,
             "#0d0887"
            ],
            [
             0.1111111111111111,
             "#46039f"
            ],
            [
             0.2222222222222222,
             "#7201a8"
            ],
            [
             0.3333333333333333,
             "#9c179e"
            ],
            [
             0.4444444444444444,
             "#bd3786"
            ],
            [
             0.5555555555555556,
             "#d8576b"
            ],
            [
             0.6666666666666666,
             "#ed7953"
            ],
            [
             0.7777777777777778,
             "#fb9f3a"
            ],
            [
             0.8888888888888888,
             "#fdca26"
            ],
            [
             1,
             "#f0f921"
            ]
           ],
           "sequentialminus": [
            [
             0,
             "#0d0887"
            ],
            [
             0.1111111111111111,
             "#46039f"
            ],
            [
             0.2222222222222222,
             "#7201a8"
            ],
            [
             0.3333333333333333,
             "#9c179e"
            ],
            [
             0.4444444444444444,
             "#bd3786"
            ],
            [
             0.5555555555555556,
             "#d8576b"
            ],
            [
             0.6666666666666666,
             "#ed7953"
            ],
            [
             0.7777777777777778,
             "#fb9f3a"
            ],
            [
             0.8888888888888888,
             "#fdca26"
            ],
            [
             1,
             "#f0f921"
            ]
           ]
          },
          "colorway": [
           "#636efa",
           "#EF553B",
           "#00cc96",
           "#ab63fa",
           "#FFA15A",
           "#19d3f3",
           "#FF6692",
           "#B6E880",
           "#FF97FF",
           "#FECB52"
          ],
          "font": {
           "color": "#f2f5fa"
          },
          "geo": {
           "bgcolor": "rgb(17,17,17)",
           "lakecolor": "rgb(17,17,17)",
           "landcolor": "rgb(17,17,17)",
           "showlakes": true,
           "showland": true,
           "subunitcolor": "#506784"
          },
          "hoverlabel": {
           "align": "left"
          },
          "hovermode": "closest",
          "mapbox": {
           "style": "dark"
          },
          "paper_bgcolor": "rgb(17,17,17)",
          "plot_bgcolor": "rgb(17,17,17)",
          "polar": {
           "angularaxis": {
            "gridcolor": "#506784",
            "linecolor": "#506784",
            "ticks": ""
           },
           "bgcolor": "rgb(17,17,17)",
           "radialaxis": {
            "gridcolor": "#506784",
            "linecolor": "#506784",
            "ticks": ""
           }
          },
          "scene": {
           "xaxis": {
            "backgroundcolor": "rgb(17,17,17)",
            "gridcolor": "#506784",
            "gridwidth": 2,
            "linecolor": "#506784",
            "showbackground": true,
            "ticks": "",
            "zerolinecolor": "#C8D4E3"
           },
           "yaxis": {
            "backgroundcolor": "rgb(17,17,17)",
            "gridcolor": "#506784",
            "gridwidth": 2,
            "linecolor": "#506784",
            "showbackground": true,
            "ticks": "",
            "zerolinecolor": "#C8D4E3"
           },
           "zaxis": {
            "backgroundcolor": "rgb(17,17,17)",
            "gridcolor": "#506784",
            "gridwidth": 2,
            "linecolor": "#506784",
            "showbackground": true,
            "ticks": "",
            "zerolinecolor": "#C8D4E3"
           }
          },
          "shapedefaults": {
           "line": {
            "color": "#f2f5fa"
           }
          },
          "sliderdefaults": {
           "bgcolor": "#C8D4E3",
           "bordercolor": "rgb(17,17,17)",
           "borderwidth": 1,
           "tickwidth": 0
          },
          "ternary": {
           "aaxis": {
            "gridcolor": "#506784",
            "linecolor": "#506784",
            "ticks": ""
           },
           "baxis": {
            "gridcolor": "#506784",
            "linecolor": "#506784",
            "ticks": ""
           },
           "bgcolor": "rgb(17,17,17)",
           "caxis": {
            "gridcolor": "#506784",
            "linecolor": "#506784",
            "ticks": ""
           }
          },
          "title": {
           "x": 0.05
          },
          "updatemenudefaults": {
           "bgcolor": "#506784",
           "borderwidth": 0
          },
          "xaxis": {
           "automargin": true,
           "gridcolor": "#283442",
           "linecolor": "#506784",
           "ticks": "",
           "title": {
            "standoff": 15
           },
           "zerolinecolor": "#283442",
           "zerolinewidth": 2
          },
          "yaxis": {
           "automargin": true,
           "gridcolor": "#283442",
           "linecolor": "#506784",
           "ticks": "",
           "title": {
            "standoff": 15
           },
           "zerolinecolor": "#283442",
           "zerolinewidth": 2
          }
         }
        },
        "title": {
         "text": "Deep Sleep Time Mins, Rolling 30 Day"
        },
        "xaxis": {
         "autorange": true,
         "range": [
          "2021-11-01 10:23:53.1073",
          "2022-12-02 13:36:06.8927"
         ],
         "title": {
          "text": "Date"
         },
         "type": "date"
        },
        "yaxis": {
         "autorange": true,
         "range": [
          84.07799352750808,
          116.38867313915857
         ],
         "title": {
          "text": "Deep Time Mins"
         },
         "type": "linear"
        }
       }
      },
      "image/png": "[encoded data removed]",
      "text/html": [
       "<div>                            <div id=\"556ca202-ce30-422d-9cf7-afbc8f8e931f\" class=\"plotly-graph-div\" style=\"height:525px; width:100%;\"></div>            <script type=\"text/javascript\">                require([\"plotly\"], function(Plotly) {                    window.PLOTLYENV=window.PLOTLYENV || {};                                    if (document.getElementById(\"556ca202-ce30-422d-9cf7-afbc8f8e931f\")) {                    Plotly.newPlot(                        \"556ca202-ce30-422d-9cf7-afbc8f8e931f\",                        [{\"hoverinfo\":\"text\",\"marker\":{\"colorscale\":[[0.0,\"rgb(75, 41, 145)\"],[0.16666666666666666,\"rgb(135, 44, 162)\"],[0.3333333333333333,\"rgb(192, 54, 157)\"],[0.5,\"rgb(234, 79, 136)\"],[0.6666666666666666,\"rgb(250, 120, 118)\"],[0.8333333333333334,\"rgb(246, 169, 122)\"],[1.0,\"rgb(237, 217, 163)\"]],\"line\":{\"width\":1}},\"mode\":\"markers+lines\",\"name\":\"values\",\"text\":[\"Sleep Time: 315 mins<br> Deep Sleep Time: 57 mins<br> Avg Heart Rate: 52 bpm\",\"Sleep Time: 481 mins<br> Deep Sleep Time: 148 mins<br> Avg Heart Rate: 54 bpm\",\"Sleep Time: 388 mins<br> Deep Sleep Time: 147 mins<br> Avg Heart Rate: 54 bpm\",\"Sleep Time: 385 mins<br> Deep Sleep Time: 155 mins<br> Avg Heart Rate: 51 bpm\",\"Sleep Time: 405 mins<br> Deep Sleep Time: 116 mins<br> Avg Heart Rate: 52 bpm\",\"Sleep Time: 354 mins<br> Deep Sleep Time: 94 mins<br> Avg Heart Rate: 57 bpm\",\"Sleep Time: 487 mins<br> Deep Sleep Time: 186 mins<br> Avg Heart Rate: 57 bpm\",\"Sleep Time: 441 mins<br> Deep Sleep Time: 73 mins<br> Avg Heart Rate: 54 bpm\",\"Sleep Time: 412 mins<br> Deep Sleep Time: 83 mins<br> Avg Heart Rate: 54 bpm\",\"Sleep Time: 380 mins<br> Deep Sleep Time: 80 mins<br> Avg Heart Rate: 56 bpm\",\"Sleep Time: 385 mins<br> Deep Sleep Time: 119 mins<br> Avg Heart Rate: 53 bpm\",\"Sleep Time: 461 mins<br> Deep Sleep Time: 97 mins<br> Avg Heart Rate: 53 bpm\",\"Sleep Time: 412 mins<br> Deep Sleep Time: 88 mins<br> Avg Heart Rate: 54 bpm\",\"Sleep Time: 366 mins<br> Deep Sleep Time: 107 mins<br> Avg Heart Rate: 59 bpm\",\"Sleep Time: 344 mins<br> Deep Sleep Time: 79 mins<br> Avg Heart Rate: 54 bpm\",\"Sleep Time: 383 mins<br> Deep Sleep Time: 61 mins<br> Avg Heart Rate: 52 bpm\",\"Sleep Time: 386 mins<br> Deep Sleep Time: 101 mins<br> Avg Heart Rate: 53 bpm\",\"Sleep Time: 467 mins<br> Deep Sleep Time: 175 mins<br> Avg Heart Rate: 55 bpm\",\"Sleep Time: 424 mins<br> Deep Sleep Time: 98 mins<br> Avg Heart Rate: 55 bpm\",\"Sleep Time: 360 mins<br> Deep Sleep Time: 99 mins<br> Avg Heart Rate: 57 bpm\",\"Sleep Time: 329 mins<br> Deep Sleep Time: 61 mins<br> Avg Heart Rate: 56 bpm\",\"Sleep Time: 426 mins<br> Deep Sleep Time: 66 mins<br> Avg Heart Rate: 59 bpm\",\"Sleep Time: 424 mins<br> Deep Sleep Time: 111 mins<br> Avg Heart Rate: 60 bpm\",\"Sleep Time: 413 mins<br> Deep Sleep Time: 94 mins<br> Avg Heart Rate: 55 bpm\",\"Sleep Time: 440 mins<br> Deep Sleep Time: 124 mins<br> Avg Heart Rate: 55 bpm\",\"Sleep Time: 457 mins<br> Deep Sleep Time: 111 mins<br> Avg Heart Rate: 59 bpm\",\"Sleep Time: 373 mins<br> Deep Sleep Time: 109 mins<br> Avg Heart Rate: 59 bpm\",\"Sleep Time: 459 mins<br> Deep Sleep Time: 91 mins<br> Avg Heart Rate: 60 bpm\",\"Sleep Time: 456 mins<br> Deep Sleep Time: 182 mins<br> Avg Heart Rate: 60 bpm\",\"Sleep Time: 498 mins<br> Deep Sleep Time: 105 mins<br> Avg Heart Rate: 54 bpm\",\"Sleep Time: 387 mins<br> Deep Sleep Time: 145 mins<br> Avg Heart Rate: 52 bpm\",\"Sleep Time: 485 mins<br> Deep Sleep Time: 189 mins<br> Avg Heart Rate: 51 bpm\",\"Sleep Time: 441 mins<br> Deep Sleep Time: 85 mins<br> Avg Heart Rate: 56 bpm\",\"Sleep Time: 333 mins<br> Deep Sleep Time: 109 mins<br> Avg Heart Rate: 49 bpm\",\"Sleep Time: 430 mins<br> Deep Sleep Time: 75 mins<br> Avg Heart Rate: 48 bpm\",\"Sleep Time: 342 mins<br> Deep Sleep Time: 116 mins<br> Avg Heart Rate: 50 bpm\",\"Sleep Time: 428 mins<br> Deep Sleep Time: 51 mins<br> Avg Heart Rate: 57 bpm\",\"Sleep Time: 357 mins<br> Deep Sleep Time: 101 mins<br> Avg Heart Rate: 53 bpm\",\"Sleep Time: 372 mins<br> Deep Sleep Time: 138 mins<br> Avg Heart Rate: 59 bpm\",\"Sleep Time: 296 mins<br> Deep Sleep Time: 66 mins<br> Avg Heart Rate: 54 bpm\",\"Sleep Time: 238 mins<br> Deep Sleep Time: 89 mins<br> Avg Heart Rate: 55 bpm\",\"Sleep Time: 467 mins<br> Deep Sleep Time: 196 mins<br> Avg Heart Rate: 55 bpm\",\"Sleep Time: 449 mins<br> Deep Sleep Time: 66 mins<br> Avg Heart Rate: 55 bpm\",\"Sleep Time: 493 mins<br> Deep Sleep Time: 202 mins<br> Avg Heart Rate: 52 bpm\",\"Sleep Time: 441 mins<br> Deep Sleep Time: 145 mins<br> Avg Heart Rate: 48 bpm\",\"Sleep Time: 428 mins<br> Deep Sleep Time: 123 mins<br> Avg Heart Rate: 51 bpm\",\"Sleep Time: 394 mins<br> Deep Sleep Time: 67 mins<br> Avg Heart Rate: 54 bpm\",\"Sleep Time: 458 mins<br> Deep Sleep Time: 88 mins<br> Avg Heart Rate: 57 bpm\",\"Sleep Time: 404 mins<br> Deep Sleep Time: 99 mins<br> Avg Heart Rate: 49 bpm\",\"Sleep Time: 414 mins<br> Deep Sleep Time: 67 mins<br> Avg Heart Rate: 49 bpm\",\"Sleep Time: 457 mins<br> Deep Sleep Time: 125 mins<br> Avg Heart Rate: 53 bpm\",\"Sleep Time: 400 mins<br> Deep Sleep Time: 149 mins<br> Avg Heart Rate: 50 bpm\",\"Sleep Time: 360 mins<br> Deep Sleep Time: 78 mins<br> Avg Heart Rate: 55 bpm\",\"Sleep Time: 386 mins<br> Deep Sleep Time: 122 mins<br> Avg Heart Rate: 55 bpm\",\"Sleep Time: 406 mins<br> Deep Sleep Time: 87 mins<br> Avg Heart Rate: 56 bpm\",\"Sleep Time: 358 mins<br> Deep Sleep Time: 96 mins<br> Avg Heart Rate: 60 bpm\",\"Sleep Time: 446 mins<br> Deep Sleep Time: 83 mins<br> Avg Heart Rate: 54 bpm\",\"Sleep Time: 393 mins<br> Deep Sleep Time: 116 mins<br> Avg Heart Rate: 56 bpm\",\"Sleep Time: 429 mins<br> Deep Sleep Time: 93 mins<br> Avg Heart Rate: 57 bpm\",\"Sleep Time: 379 mins<br> Deep Sleep Time: 101 mins<br> Avg Heart Rate: 56 bpm\",\"Sleep Time: 368 mins<br> Deep Sleep Time: 85 mins<br> Avg Heart Rate: 54 bpm\",\"Sleep Time: 336 mins<br> Deep Sleep Time: 120 mins<br> Avg Heart Rate: 57 bpm\",\"Sleep Time: 388 mins<br> Deep Sleep Time: 117 mins<br> Avg Heart Rate: 57 bpm\",\"Sleep Time: 379 mins<br> Deep Sleep Time: 121 mins<br> Avg Heart Rate: 61 bpm\",\"Sleep Time: 360 mins<br> Deep Sleep Time: 150 mins<br> Avg Heart Rate: 56 bpm\",\"Sleep Time: 390 mins<br> Deep Sleep Time: 111 mins<br> Avg Heart Rate: 60 bpm\",\"Sleep Time: 349 mins<br> Deep Sleep Time: 97 mins<br> Avg Heart Rate: 58 bpm\",\"Sleep Time: 338 mins<br> Deep Sleep Time: 62 mins<br> Avg Heart Rate: 56 bpm\",\"Sleep Time: 357 mins<br> Deep Sleep Time: 101 mins<br> Avg Heart Rate: 56 bpm\",\"Sleep Time: 420 mins<br> Deep Sleep Time: 102 mins<br> Avg Heart Rate: 61 bpm\",\"Sleep Time: 438 mins<br> Deep Sleep Time: 121 mins<br> Avg Heart Rate: 61 bpm\",\"Sleep Time: 310 mins<br> Deep Sleep Time: 68 mins<br> Avg Heart Rate: 55 bpm\",\"Sleep Time: 436 mins<br> Deep Sleep Time: 119 mins<br> Avg Heart Rate: 53 bpm\",\"Sleep Time: 366 mins<br> Deep Sleep Time: 66 mins<br> Avg Heart Rate: 54 bpm\",\"Sleep Time: 364 mins<br> Deep Sleep Time: 83 mins<br> Avg Heart Rate: 50 bpm\",\"Sleep Time: 375 mins<br> Deep Sleep Time: 103 mins<br> Avg Heart Rate: 57 bpm\",\"Sleep Time: 403 mins<br> Deep Sleep Time: 87 mins<br> Avg Heart Rate: 61 bpm\",\"Sleep Time: 381 mins<br> Deep Sleep Time: 118 mins<br> Avg Heart Rate: 52 bpm\",\"Sleep Time: 368 mins<br> Deep Sleep Time: 72 mins<br> Avg Heart Rate: 56 bpm\",\"Sleep Time: 380 mins<br> Deep Sleep Time: 88 mins<br> Avg Heart Rate: 57 bpm\",\"Sleep Time: 443 mins<br> Deep Sleep Time: 145 mins<br> Avg Heart Rate: 55 bpm\",\"Sleep Time: 377 mins<br> Deep Sleep Time: 128 mins<br> Avg Heart Rate: 52 bpm\",\"Sleep Time: 457 mins<br> Deep Sleep Time: 141 mins<br> Avg Heart Rate: 56 bpm\",\"Sleep Time: 364 mins<br> Deep Sleep Time: 105 mins<br> Avg Heart Rate: 53 bpm\",\"Sleep Time: 449 mins<br> Deep Sleep Time: 116 mins<br> Avg Heart Rate: 53 bpm\",\"Sleep Time: 307 mins<br> Deep Sleep Time: 58 mins<br> Avg Heart Rate: 54 bpm\",\"Sleep Time: 411 mins<br> Deep Sleep Time: 99 mins<br> Avg Heart Rate: 53 bpm\",\"Sleep Time: 306 mins<br> Deep Sleep Time: 68 mins<br> Avg Heart Rate: 52 bpm\",\"Sleep Time: 349 mins<br> Deep Sleep Time: 78 mins<br> Avg Heart Rate: 52 bpm\",\"Sleep Time: 296 mins<br> Deep Sleep Time: 88 mins<br> Avg Heart Rate: 53 bpm\",\"Sleep Time: 355 mins<br> Deep Sleep Time: 104 mins<br> Avg Heart Rate: 50 bpm\",\"Sleep Time: 289 mins<br> Deep Sleep Time: 107 mins<br> Avg Heart Rate: 52 bpm\",\"Sleep Time: 403 mins<br> Deep Sleep Time: 73 mins<br> Avg Heart Rate: 54 bpm\",\"Sleep Time: 423 mins<br> Deep Sleep Time: 94 mins<br> Avg Heart Rate: 52 bpm\",\"Sleep Time: 424 mins<br> Deep Sleep Time: 150 mins<br> Avg Heart Rate: 53 bpm\",\"Sleep Time: 278 mins<br> Deep Sleep Time: 134 mins<br> Avg Heart Rate: 54 bpm\",\"Sleep Time: 447 mins<br> Deep Sleep Time: 92 mins<br> Avg Heart Rate: 52 bpm\",\"Sleep Time: 386 mins<br> Deep Sleep Time: 110 mins<br> Avg Heart Rate: 60 bpm\",\"Sleep Time: 338 mins<br> Deep Sleep Time: 85 mins<br> Avg Heart Rate: 49 bpm\",\"Sleep Time: 336 mins<br> Deep Sleep Time: 125 mins<br> Avg Heart Rate: 51 bpm\",\"Sleep Time: 423 mins<br> Deep Sleep Time: 98 mins<br> Avg Heart Rate: 58 bpm\",\"Sleep Time: 253 mins<br> Deep Sleep Time: 86 mins<br> Avg Heart Rate: 49 bpm\",\"Sleep Time: 375 mins<br> Deep Sleep Time: 136 mins<br> Avg Heart Rate: 49 bpm\",\"Sleep Time: 456 mins<br> Deep Sleep Time: 171 mins<br> Avg Heart Rate: 55 bpm\",\"Sleep Time: 290 mins<br> Deep Sleep Time: 94 mins<br> Avg Heart Rate: 56 bpm\",\"Sleep Time: 299 mins<br> Deep Sleep Time: 123 mins<br> Avg Heart Rate: 53 bpm\",\"Sleep Time: 508 mins<br> Deep Sleep Time: 128 mins<br> Avg Heart Rate: 53 bpm\",\"Sleep Time: 409 mins<br> Deep Sleep Time: 165 mins<br> Avg Heart Rate: 57 bpm\",\"Sleep Time: 418 mins<br> Deep Sleep Time: 143 mins<br> Avg Heart Rate: 51 bpm\",\"Sleep Time: 353 mins<br> Deep Sleep Time: 122 mins<br> Avg Heart Rate: 51 bpm\",\"Sleep Time: 423 mins<br> Deep Sleep Time: 57 mins<br> Avg Heart Rate: 50 bpm\",\"Sleep Time: 442 mins<br> Deep Sleep Time: 54 mins<br> Avg Heart Rate: 51 bpm\",\"Sleep Time: 416 mins<br> Deep Sleep Time: 80 mins<br> Avg Heart Rate: 50 bpm\",\"Sleep Time: 414 mins<br> Deep Sleep Time: 66 mins<br> Avg Heart Rate: 50 bpm\",\"Sleep Time: 292 mins<br> Deep Sleep Time: 84 mins<br> Avg Heart Rate: 50 bpm\",\"Sleep Time: 380 mins<br> Deep Sleep Time: 97 mins<br> Avg Heart Rate: 52 bpm\",\"Sleep Time: 337 mins<br> Deep Sleep Time: 45 mins<br> Avg Heart Rate: 56 bpm\",\"Sleep Time: 526 mins<br> Deep Sleep Time: 99 mins<br> Avg Heart Rate: 54 bpm\",\"Sleep Time: 448 mins<br> Deep Sleep Time: 66 mins<br> Avg Heart Rate: 54 bpm\",\"Sleep Time: 364 mins<br> Deep Sleep Time: 56 mins<br> Avg Heart Rate: 56 bpm\",\"Sleep Time: 392 mins<br> Deep Sleep Time: 125 mins<br> Avg Heart Rate: 57 bpm\",\"Sleep Time: 403 mins<br> Deep Sleep Time: 136 mins<br> Avg Heart Rate: 56 bpm\",\"Sleep Time: 421 mins<br> Deep Sleep Time: 142 mins<br> Avg Heart Rate: 59 bpm\",\"Sleep Time: 450 mins<br> Deep Sleep Time: 85 mins<br> Avg Heart Rate: 59 bpm\",\"Sleep Time: 408 mins<br> Deep Sleep Time: 82 mins<br> Avg Heart Rate: 57 bpm\",\"Sleep Time: 426 mins<br> Deep Sleep Time: 99 mins<br> Avg Heart Rate: 52 bpm\",\"Sleep Time: 379 mins<br> Deep Sleep Time: 144 mins<br> Avg Heart Rate: 59 bpm\",\"Sleep Time: 417 mins<br> Deep Sleep Time: 137 mins<br> Avg Heart Rate: 52 bpm\",\"Sleep Time: 363 mins<br> Deep Sleep Time: 85 mins<br> Avg Heart Rate: 54 bpm\",\"Sleep Time: 419 mins<br> Deep Sleep Time: 114 mins<br> Avg Heart Rate: 52 bpm\",\"Sleep Time: 450 mins<br> Deep Sleep Time: 131 mins<br> Avg Heart Rate: 56 bpm\",\"Sleep Time: 413 mins<br> Deep Sleep Time: 146 mins<br> Avg Heart Rate: 58 bpm\",\"Sleep Time: 386 mins<br> Deep Sleep Time: 122 mins<br> Avg Heart Rate: 58 bpm\",\"Sleep Time: 420 mins<br> Deep Sleep Time: 72 mins<br> Avg Heart Rate: 57 bpm\",\"Sleep Time: 369 mins<br> Deep Sleep Time: 116 mins<br> Avg Heart Rate: 52 bpm\",\"Sleep Time: 446 mins<br> Deep Sleep Time: 134 mins<br> Avg Heart Rate: 58 bpm\",\"Sleep Time: 407 mins<br> Deep Sleep Time: 134 mins<br> Avg Heart Rate: 54 bpm\",\"Sleep Time: 420 mins<br> Deep Sleep Time: 109 mins<br> Avg Heart Rate: 57 bpm\",\"Sleep Time: 428 mins<br> Deep Sleep Time: 125 mins<br> Avg Heart Rate: 60 bpm\",\"Sleep Time: 409 mins<br> Deep Sleep Time: 60 mins<br> Avg Heart Rate: 55 bpm\",\"Sleep Time: 393 mins<br> Deep Sleep Time: 139 mins<br> Avg Heart Rate: 59 bpm\",\"Sleep Time: 421 mins<br> Deep Sleep Time: 137 mins<br> Avg Heart Rate: 57 bpm\",\"Sleep Time: 343 mins<br> Deep Sleep Time: 52 mins<br> Avg Heart Rate: 53 bpm\",\"Sleep Time: 368 mins<br> Deep Sleep Time: 119 mins<br> Avg Heart Rate: 57 bpm\",\"Sleep Time: 485 mins<br> Deep Sleep Time: 150 mins<br> Avg Heart Rate: 53 bpm\",\"Sleep Time: 409 mins<br> Deep Sleep Time: 82 mins<br> Avg Heart Rate: 59 bpm\",\"Sleep Time: 378 mins<br> Deep Sleep Time: 79 mins<br> Avg Heart Rate: 56 bpm\",\"Sleep Time: 395 mins<br> Deep Sleep Time: 64 mins<br> Avg Heart Rate: 53 bpm\",\"Sleep Time: 385 mins<br> Deep Sleep Time: 104 mins<br> Avg Heart Rate: 52 bpm\",\"Sleep Time: 365 mins<br> Deep Sleep Time: 97 mins<br> Avg Heart Rate: 53 bpm\",\"Sleep Time: 387 mins<br> Deep Sleep Time: 114 mins<br> Avg Heart Rate: 53 bpm\",\"Sleep Time: 300 mins<br> Deep Sleep Time: 108 mins<br> Avg Heart Rate: 52 bpm\",\"Sleep Time: 405 mins<br> Deep Sleep Time: 121 mins<br> Avg Heart Rate: 54 bpm\",\"Sleep Time: 375 mins<br> Deep Sleep Time: 67 mins<br> Avg Heart Rate: 54 bpm\",\"Sleep Time: 372 mins<br> Deep Sleep Time: 103 mins<br> Avg Heart Rate: 55 bpm\",\"Sleep Time: 360 mins<br> Deep Sleep Time: 52 mins<br> Avg Heart Rate: 52 bpm\",\"Sleep Time: 357 mins<br> Deep Sleep Time: 152 mins<br> Avg Heart Rate: 56 bpm\",\"Sleep Time: 410 mins<br> Deep Sleep Time: 131 mins<br> Avg Heart Rate: 55 bpm\",\"Sleep Time: 379 mins<br> Deep Sleep Time: 144 mins<br> Avg Heart Rate: 57 bpm\",\"Sleep Time: 370 mins<br> Deep Sleep Time: 115 mins<br> Avg Heart Rate: 56 bpm\",\"Sleep Time: 361 mins<br> Deep Sleep Time: 98 mins<br> Avg Heart Rate: 51 bpm\",\"Sleep Time: 371 mins<br> Deep Sleep Time: 113 mins<br> Avg Heart Rate: 53 bpm\",\"Sleep Time: 397 mins<br> Deep Sleep Time: 67 mins<br> Avg Heart Rate: 55 bpm\",\"Sleep Time: 375 mins<br> Deep Sleep Time: 131 mins<br> Avg Heart Rate: 59 bpm\",\"Sleep Time: 397 mins<br> Deep Sleep Time: 97 mins<br> Avg Heart Rate: 56 bpm\",\"Sleep Time: 516 mins<br> Deep Sleep Time: 108 mins<br> Avg Heart Rate: 60 bpm\",\"Sleep Time: 392 mins<br> Deep Sleep Time: 98 mins<br> Avg Heart Rate: 57 bpm\",\"Sleep Time: 425 mins<br> Deep Sleep Time: 113 mins<br> Avg Heart Rate: 55 bpm\",\"Sleep Time: 397 mins<br> Deep Sleep Time: 139 mins<br> Avg Heart Rate: 59 bpm\",\"Sleep Time: 358 mins<br> Deep Sleep Time: 107 mins<br> Avg Heart Rate: 52 bpm\",\"Sleep Time: 382 mins<br> Deep Sleep Time: 90 mins<br> Avg Heart Rate: 55 bpm\",\"Sleep Time: 286 mins<br> Deep Sleep Time: 55 mins<br> Avg Heart Rate: 59 bpm\",\"Sleep Time: 430 mins<br> Deep Sleep Time: 96 mins<br> Avg Heart Rate: 55 bpm\",\"Sleep Time: 415 mins<br> Deep Sleep Time: 57 mins<br> Avg Heart Rate: 67 bpm\",\"Sleep Time: 380 mins<br> Deep Sleep Time: 74 mins<br> Avg Heart Rate: 62 bpm\",\"Sleep Time: 406 mins<br> Deep Sleep Time: 109 mins<br> Avg Heart Rate: 58 bpm\",\"Sleep Time: 432 mins<br> Deep Sleep Time: 110 mins<br> Avg Heart Rate: 59 bpm\",\"Sleep Time: 385 mins<br> Deep Sleep Time: 115 mins<br> Avg Heart Rate: 59 bpm\",\"Sleep Time: 410 mins<br> Deep Sleep Time: 108 mins<br> Avg Heart Rate: 54 bpm\",\"Sleep Time: 330 mins<br> Deep Sleep Time: 85 mins<br> Avg Heart Rate: 61 bpm\",\"Sleep Time: 494 mins<br> Deep Sleep Time: 102 mins<br> Avg Heart Rate: 62 bpm\",\"Sleep Time: 380 mins<br> Deep Sleep Time: 125 mins<br> Avg Heart Rate: 61 bpm\",\"Sleep Time: 432 mins<br> Deep Sleep Time: 133 mins<br> Avg Heart Rate: 60 bpm\",\"Sleep Time: 422 mins<br> Deep Sleep Time: 107 mins<br> Avg Heart Rate: 55 bpm\",\"Sleep Time: 401 mins<br> Deep Sleep Time: 133 mins<br> Avg Heart Rate: 58 bpm\",\"Sleep Time: 395 mins<br> Deep Sleep Time: 84 mins<br> Avg Heart Rate: 55 bpm\",\"Sleep Time: 364 mins<br> Deep Sleep Time: 86 mins<br> Avg Heart Rate: 62 bpm\",\"Sleep Time: 407 mins<br> Deep Sleep Time: 83 mins<br> Avg Heart Rate: 60 bpm\",\"Sleep Time: 388 mins<br> Deep Sleep Time: 81 mins<br> Avg Heart Rate: 64 bpm\",\"Sleep Time: 417 mins<br> Deep Sleep Time: 122 mins<br> Avg Heart Rate: 59 bpm\",\"Sleep Time: 393 mins<br> Deep Sleep Time: 77 mins<br> Avg Heart Rate: 59 bpm\",\"Sleep Time: 306 mins<br> Deep Sleep Time: 53 mins<br> Avg Heart Rate: 54 bpm\",\"Sleep Time: 202 mins<br> Deep Sleep Time: 41 mins<br> Avg Heart Rate: 62 bpm\",\"Sleep Time: 319 mins<br> Deep Sleep Time: 133 mins<br> Avg Heart Rate: 60 bpm\",\"Sleep Time: 350 mins<br> Deep Sleep Time: 90 mins<br> Avg Heart Rate: 57 bpm\",\"Sleep Time: 320 mins<br> Deep Sleep Time: 105 mins<br> Avg Heart Rate: 50 bpm\",\"Sleep Time: 365 mins<br> Deep Sleep Time: 74 mins<br> Avg Heart Rate: 57 bpm\",\"Sleep Time: 413 mins<br> Deep Sleep Time: 114 mins<br> Avg Heart Rate: 57 bpm\",\"Sleep Time: 362 mins<br> Deep Sleep Time: 96 mins<br> Avg Heart Rate: 52 bpm\",\"Sleep Time: 341 mins<br> Deep Sleep Time: 102 mins<br> Avg Heart Rate: 57 bpm\",\"Sleep Time: 393 mins<br> Deep Sleep Time: 73 mins<br> Avg Heart Rate: 55 bpm\",\"Sleep Time: 336 mins<br> Deep Sleep Time: 108 mins<br> Avg Heart Rate: 52 bpm\",\"Sleep Time: 355 mins<br> Deep Sleep Time: 76 mins<br> Avg Heart Rate: 59 bpm\",\"Sleep Time: 411 mins<br> Deep Sleep Time: 122 mins<br> Avg Heart Rate: 58 bpm\",\"Sleep Time: 365 mins<br> Deep Sleep Time: 106 mins<br> Avg Heart Rate: 57 bpm\",\"Sleep Time: 370 mins<br> Deep Sleep Time: 105 mins<br> Avg Heart Rate: 54 bpm\",\"Sleep Time: 302 mins<br> Deep Sleep Time: 100 mins<br> Avg Heart Rate: 63 bpm\",\"Sleep Time: 461 mins<br> Deep Sleep Time: 169 mins<br> Avg Heart Rate: 57 bpm\",\"Sleep Time: 327 mins<br> Deep Sleep Time: 102 mins<br> Avg Heart Rate: 57 bpm\",\"Sleep Time: 384 mins<br> Deep Sleep Time: 81 mins<br> Avg Heart Rate: 53 bpm\",\"Sleep Time: 243 mins<br> Deep Sleep Time: 61 mins<br> Avg Heart Rate: 56 bpm\",\"Sleep Time: 380 mins<br> Deep Sleep Time: 125 mins<br> Avg Heart Rate: 54 bpm\",\"Sleep Time: 326 mins<br> Deep Sleep Time: 109 mins<br> Avg Heart Rate: 50 bpm\",\"Sleep Time: 295 mins<br> Deep Sleep Time: 83 mins<br> Avg Heart Rate: 62 bpm\",\"Sleep Time: 246 mins<br> Deep Sleep Time: 136 mins<br> Avg Heart Rate: 48 bpm\",\"Sleep Time: 402 mins<br> Deep Sleep Time: 118 mins<br> Avg Heart Rate: 54 bpm\",\"Sleep Time: 406 mins<br> Deep Sleep Time: 141 mins<br> Avg Heart Rate: 54 bpm\",\"Sleep Time: 334 mins<br> Deep Sleep Time: 129 mins<br> Avg Heart Rate: 54 bpm\",\"Sleep Time: 346 mins<br> Deep Sleep Time: 89 mins<br> Avg Heart Rate: 55 bpm\",\"Sleep Time: 341 mins<br> Deep Sleep Time: 131 mins<br> Avg Heart Rate: 51 bpm\",\"Sleep Time: 421 mins<br> Deep Sleep Time: 135 mins<br> Avg Heart Rate: 58 bpm\",\"Sleep Time: 411 mins<br> Deep Sleep Time: 178 mins<br> Avg Heart Rate: 53 bpm\",\"Sleep Time: 371 mins<br> Deep Sleep Time: 69 mins<br> Avg Heart Rate: 58 bpm\",\"Sleep Time: 397 mins<br> Deep Sleep Time: 64 mins<br> Avg Heart Rate: 54 bpm\",\"Sleep Time: 372 mins<br> Deep Sleep Time: 108 mins<br> Avg Heart Rate: 52 bpm\",\"Sleep Time: 359 mins<br> Deep Sleep Time: 111 mins<br> Avg Heart Rate: 55 bpm\",\"Sleep Time: 343 mins<br> Deep Sleep Time: 118 mins<br> Avg Heart Rate: 55 bpm\",\"Sleep Time: 255 mins<br> Deep Sleep Time: 30 mins<br> Avg Heart Rate: 54 bpm\",\"Sleep Time: 350 mins<br> Deep Sleep Time: 67 mins<br> Avg Heart Rate: 57 bpm\",\"Sleep Time: 366 mins<br> Deep Sleep Time: 115 mins<br> Avg Heart Rate: 58 bpm\",\"Sleep Time: 340 mins<br> Deep Sleep Time: 89 mins<br> Avg Heart Rate: 56 bpm\",\"Sleep Time: 396 mins<br> Deep Sleep Time: 50 mins<br> Avg Heart Rate: 60 bpm\",\"Sleep Time: 337 mins<br> Deep Sleep Time: 62 mins<br> Avg Heart Rate: 57 bpm\",\"Sleep Time: 442 mins<br> Deep Sleep Time: 66 mins<br> Avg Heart Rate: 54 bpm\",\"Sleep Time: 353 mins<br> Deep Sleep Time: 139 mins<br> Avg Heart Rate: 59 bpm\",\"Sleep Time: 432 mins<br> Deep Sleep Time: 105 mins<br> Avg Heart Rate: 62 bpm\",\"Sleep Time: 352 mins<br> Deep Sleep Time: 109 mins<br> Avg Heart Rate: 59 bpm\",\"Sleep Time: 382 mins<br> Deep Sleep Time: 91 mins<br> Avg Heart Rate: 64 bpm\",\"Sleep Time: 367 mins<br> Deep Sleep Time: 106 mins<br> Avg Heart Rate: 58 bpm\",\"Sleep Time: 433 mins<br> Deep Sleep Time: 164 mins<br> Avg Heart Rate: 57 bpm\",\"Sleep Time: 240 mins<br> Deep Sleep Time: 76 mins<br> Avg Heart Rate: 53 bpm\",\"Sleep Time: 344 mins<br> Deep Sleep Time: 142 mins<br> Avg Heart Rate: 51 bpm\",\"Sleep Time: 357 mins<br> Deep Sleep Time: 43 mins<br> Avg Heart Rate: 54 bpm\",\"Sleep Time: 451 mins<br> Deep Sleep Time: 81 mins<br> Avg Heart Rate: 58 bpm\",\"Sleep Time: 416 mins<br> Deep Sleep Time: 71 mins<br> Avg Heart Rate: 56 bpm\",\"Sleep Time: 311 mins<br> Deep Sleep Time: 100 mins<br> Avg Heart Rate: 58 bpm\",\"Sleep Time: 439 mins<br> Deep Sleep Time: 85 mins<br> Avg Heart Rate: 54 bpm\",\"Sleep Time: 389 mins<br> Deep Sleep Time: 114 mins<br> Avg Heart Rate: 52 bpm\",\"Sleep Time: 453 mins<br> Deep Sleep Time: 80 mins<br> Avg Heart Rate: 55 bpm\",\"Sleep Time: 450 mins<br> Deep Sleep Time: 85 mins<br> Avg Heart Rate: 61 bpm\",\"Sleep Time: 345 mins<br> Deep Sleep Time: 23 mins<br> Avg Heart Rate: 56 bpm\",\"Sleep Time: 454 mins<br> Deep Sleep Time: 127 mins<br> Avg Heart Rate: 59 bpm\",\"Sleep Time: 385 mins<br> Deep Sleep Time: 80 mins<br> Avg Heart Rate: 58 bpm\",\"Sleep Time: 357 mins<br> Deep Sleep Time: 76 mins<br> Avg Heart Rate: 58 bpm\",\"Sleep Time: 346 mins<br> Deep Sleep Time: 74 mins<br> Avg Heart Rate: 61 bpm\",\"Sleep Time: 340 mins<br> Deep Sleep Time: 68 mins<br> Avg Heart Rate: 57 bpm\",\"Sleep Time: 346 mins<br> Deep Sleep Time: 73 mins<br> Avg Heart Rate: 66 bpm\",\"Sleep Time: 339 mins<br> Deep Sleep Time: 95 mins<br> Avg Heart Rate: 59 bpm\",\"Sleep Time: 445 mins<br> Deep Sleep Time: 43 mins<br> Avg Heart Rate: 58 bpm\",\"Sleep Time: 420 mins<br> Deep Sleep Time: 104 mins<br> Avg Heart Rate: 62 bpm\",\"Sleep Time: 299 mins<br> Deep Sleep Time: 92 mins<br> Avg Heart Rate: 62 bpm\",\"Sleep Time: 487 mins<br> Deep Sleep Time: 71 mins<br> Avg Heart Rate: 61 bpm\",\"Sleep Time: 511 mins<br> Deep Sleep Time: 114 mins<br> Avg Heart Rate: 64 bpm\",\"Sleep Time: 440 mins<br> Deep Sleep Time: 192 mins<br> Avg Heart Rate: 62 bpm\",\"Sleep Time: 432 mins<br> Deep Sleep Time: 118 mins<br> Avg Heart Rate: 64 bpm\",\"Sleep Time: 404 mins<br> Deep Sleep Time: 106 mins<br> Avg Heart Rate: 60 bpm\",\"Sleep Time: 378 mins<br> Deep Sleep Time: 99 mins<br> Avg Heart Rate: 60 bpm\",\"Sleep Time: 460 mins<br> Deep Sleep Time: 122 mins<br> Avg Heart Rate: 65 bpm\",\"Sleep Time: 401 mins<br> Deep Sleep Time: 108 mins<br> Avg Heart Rate: 61 bpm\",\"Sleep Time: 482 mins<br> Deep Sleep Time: 188 mins<br> Avg Heart Rate: 60 bpm\",\"Sleep Time: 458 mins<br> Deep Sleep Time: 134 mins<br> Avg Heart Rate: 69 bpm\",\"Sleep Time: 387 mins<br> Deep Sleep Time: 118 mins<br> Avg Heart Rate: 63 bpm\",\"Sleep Time: 419 mins<br> Deep Sleep Time: 45 mins<br> Avg Heart Rate: 61 bpm\",\"Sleep Time: 388 mins<br> Deep Sleep Time: 97 mins<br> Avg Heart Rate: 59 bpm\",\"Sleep Time: 366 mins<br> Deep Sleep Time: 80 mins<br> Avg Heart Rate: 60 bpm\",\"Sleep Time: 298 mins<br> Deep Sleep Time: 55 mins<br> Avg Heart Rate: 57 bpm\",\"Sleep Time: 422 mins<br> Deep Sleep Time: 76 mins<br> Avg Heart Rate: 58 bpm\",\"Sleep Time: 354 mins<br> Deep Sleep Time: 88 mins<br> Avg Heart Rate: 56 bpm\",\"Sleep Time: 350 mins<br> Deep Sleep Time: 47 mins<br> Avg Heart Rate: 62 bpm\",\"Sleep Time: 452 mins<br> Deep Sleep Time: 91 mins<br> Avg Heart Rate: 63 bpm\",\"Sleep Time: 373 mins<br> Deep Sleep Time: 88 mins<br> Avg Heart Rate: 66 bpm\",\"Sleep Time: 284 mins<br> Deep Sleep Time: 110 mins<br> Avg Heart Rate: 52 bpm\",\"Sleep Time: 426 mins<br> Deep Sleep Time: 120 mins<br> Avg Heart Rate: 60 bpm\",\"Sleep Time: 353 mins<br> Deep Sleep Time: 99 mins<br> Avg Heart Rate: 59 bpm\",\"Sleep Time: 240 mins<br> Deep Sleep Time: 102 mins<br> Avg Heart Rate: 62 bpm\",\"Sleep Time: 419 mins<br> Deep Sleep Time: 50 mins<br> Avg Heart Rate: 64 bpm\",\"Sleep Time: 393 mins<br> Deep Sleep Time: 118 mins<br> Avg Heart Rate: 65 bpm\",\"Sleep Time: 417 mins<br> Deep Sleep Time: 100 mins<br> Avg Heart Rate: 59 bpm\",\"Sleep Time: 353 mins<br> Deep Sleep Time: 37 mins<br> Avg Heart Rate: 61 bpm\",\"Sleep Time: 378 mins<br> Deep Sleep Time: 135 mins<br> Avg Heart Rate: 60 bpm\",\"Sleep Time: 284 mins<br> Deep Sleep Time: 67 mins<br> Avg Heart Rate: 57 bpm\",\"Sleep Time: 440 mins<br> Deep Sleep Time: 112 mins<br> Avg Heart Rate: 60 bpm\",\"Sleep Time: 387 mins<br> Deep Sleep Time: 94 mins<br> Avg Heart Rate: 68 bpm\",\"Sleep Time: 390 mins<br> Deep Sleep Time: 85 mins<br> Avg Heart Rate: 60 bpm\",\"Sleep Time: 362 mins<br> Deep Sleep Time: 124 mins<br> Avg Heart Rate: 61 bpm\",\"Sleep Time: 218 mins<br> Deep Sleep Time: 79 mins<br> Avg Heart Rate: 57 bpm\",\"Sleep Time: 455 mins<br> Deep Sleep Time: 147 mins<br> Avg Heart Rate: 65 bpm\",\"Sleep Time: 301 mins<br> Deep Sleep Time: 88 mins<br> Avg Heart Rate: 55 bpm\",\"Sleep Time: 207 mins<br> Deep Sleep Time: 78 mins<br> Avg Heart Rate: 55 bpm\",\"Sleep Time: 417 mins<br> Deep Sleep Time: 120 mins<br> Avg Heart Rate: 58 bpm\",\"Sleep Time: 378 mins<br> Deep Sleep Time: 99 mins<br> Avg Heart Rate: 59 bpm\",\"Sleep Time: 322 mins<br> Deep Sleep Time: 118 mins<br> Avg Heart Rate: 54 bpm\",\"Sleep Time: 363 mins<br> Deep Sleep Time: 117 mins<br> Avg Heart Rate: 55 bpm\",\"Sleep Time: 364 mins<br> Deep Sleep Time: 106 mins<br> Avg Heart Rate: 63 bpm\",\"Sleep Time: 491 mins<br> Deep Sleep Time: 70 mins<br> Avg Heart Rate: 65 bpm\",\"Sleep Time: 340 mins<br> Deep Sleep Time: 118 mins<br> Avg Heart Rate: 62 bpm\",\"Sleep Time: 399 mins<br> Deep Sleep Time: 93 mins<br> Avg Heart Rate: 62 bpm\",\"Sleep Time: 353 mins<br> Deep Sleep Time: 74 mins<br> Avg Heart Rate: 58 bpm\",\"Sleep Time: 412 mins<br> Deep Sleep Time: 127 mins<br> Avg Heart Rate: 63 bpm\",\"Sleep Time: 360 mins<br> Deep Sleep Time: 79 mins<br> Avg Heart Rate: 60 bpm\",\"Sleep Time: 435 mins<br> Deep Sleep Time: 66 mins<br> Avg Heart Rate: 57 bpm\",\"Sleep Time: 438 mins<br> Deep Sleep Time: 84 mins<br> Avg Heart Rate: 60 bpm\",\"Sleep Time: 429 mins<br> Deep Sleep Time: 144 mins<br> Avg Heart Rate: 56 bpm\",\"Sleep Time: 209 mins<br> Deep Sleep Time: 55 mins<br> Avg Heart Rate: 51 bpm\",\"Sleep Time: 342 mins<br> Deep Sleep Time: 94 mins<br> Avg Heart Rate: 50 bpm\",\"Sleep Time: 360 mins<br> Deep Sleep Time: 118 mins<br> Avg Heart Rate: 63 bpm\",\"Sleep Time: 393 mins<br> Deep Sleep Time: 54 mins<br> Avg Heart Rate: 57 bpm\",\"Sleep Time: 463 mins<br> Deep Sleep Time: 111 mins<br> Avg Heart Rate: 58 bpm\",\"Sleep Time: 323 mins<br> Deep Sleep Time: 42 mins<br> Avg Heart Rate: 56 bpm\",\"Sleep Time: 403 mins<br> Deep Sleep Time: 76 mins<br> Avg Heart Rate: 56 bpm\",\"Sleep Time: 417 mins<br> Deep Sleep Time: 83 mins<br> Avg Heart Rate: 52 bpm\",\"Sleep Time: 337 mins<br> Deep Sleep Time: 99 mins<br> Avg Heart Rate: 53 bpm\",\"Sleep Time: 357 mins<br> Deep Sleep Time: 124 mins<br> Avg Heart Rate: 57 bpm\",\"Sleep Time: 444 mins<br> Deep Sleep Time: 88 mins<br> Avg Heart Rate: 51 bpm\",\"Sleep Time: 377 mins<br> Deep Sleep Time: 50 mins<br> Avg Heart Rate: 51 bpm\",\"Sleep Time: 441 mins<br> Deep Sleep Time: 163 mins<br> Avg Heart Rate: 55 bpm\",\"Sleep Time: 365 mins<br> Deep Sleep Time: 122 mins<br> Avg Heart Rate: 59 bpm\",\"Sleep Time: 381 mins<br> Deep Sleep Time: 87 mins<br> Avg Heart Rate: 53 bpm\",\"Sleep Time: 404 mins<br> Deep Sleep Time: 0 mins<br> Avg Heart Rate: 55 bpm\",\"Sleep Time: 352 mins<br> Deep Sleep Time: 94 mins<br> Avg Heart Rate: 57 bpm\",\"Sleep Time: 399 mins<br> Deep Sleep Time: 170 mins<br> Avg Heart Rate: 58 bpm\",\"Sleep Time: 499 mins<br> Deep Sleep Time: 114 mins<br> Avg Heart Rate: 59 bpm\",\"Sleep Time: 295 mins<br> Deep Sleep Time: 109 mins<br> Avg Heart Rate: 56 bpm\",\"Sleep Time: 427 mins<br> Deep Sleep Time: 116 mins<br> Avg Heart Rate: 61 bpm\",\"Sleep Time: 471 mins<br> Deep Sleep Time: 148 mins<br> Avg Heart Rate: 60 bpm\",\"Sleep Time: 385 mins<br> Deep Sleep Time: 102 mins<br> Avg Heart Rate: 63 bpm\",\"Sleep Time: 461 mins<br> Deep Sleep Time: 89 mins<br> Avg Heart Rate: 56 bpm\",\"Sleep Time: 452 mins<br> Deep Sleep Time: 91 mins<br> Avg Heart Rate: 57 bpm\",\"Sleep Time: 431 mins<br> Deep Sleep Time: 107 mins<br> Avg Heart Rate: 66 bpm\",\"Sleep Time: 455 mins<br> Deep Sleep Time: 135 mins<br> Avg Heart Rate: 61 bpm\",\"Sleep Time: 406 mins<br> Deep Sleep Time: 96 mins<br> Avg Heart Rate: 66 bpm\",\"Sleep Time: 456 mins<br> Deep Sleep Time: 137 mins<br> Avg Heart Rate: 63 bpm\",\"Sleep Time: 417 mins<br> Deep Sleep Time: 129 mins<br> Avg Heart Rate: 59 bpm\",\"Sleep Time: 398 mins<br> Deep Sleep Time: 72 mins<br> Avg Heart Rate: 61 bpm\",\"Sleep Time: 500 mins<br> Deep Sleep Time: 152 mins<br> Avg Heart Rate: 51 bpm\",\"Sleep Time: 354 mins<br> Deep Sleep Time: 96 mins<br> Avg Heart Rate: 57 bpm\",\"Sleep Time: 427 mins<br> Deep Sleep Time: 140 mins<br> Avg Heart Rate: 55 bpm\",\"Sleep Time: 336 mins<br> Deep Sleep Time: 83 mins<br> Avg Heart Rate: 56 bpm\",\"Sleep Time: 538 mins<br> Deep Sleep Time: 146 mins<br> Avg Heart Rate: 55 bpm\"],\"x\":[\"2021-11-23T00:00:00\",\"2021-11-24T00:00:00\",\"2021-11-25T00:00:00\",\"2021-11-26T00:00:00\",\"2021-11-27T00:00:00\",\"2021-11-28T00:00:00\",\"2021-11-29T00:00:00\",\"2021-11-30T00:00:00\",\"2021-12-01T00:00:00\",\"2021-12-02T00:00:00\",\"2021-12-03T00:00:00\",\"2021-12-04T00:00:00\",\"2021-12-05T00:00:00\",\"2021-12-06T00:00:00\",\"2021-12-07T00:00:00\",\"2021-12-08T00:00:00\",\"2021-12-09T00:00:00\",\"2021-12-10T00:00:00\",\"2021-12-11T00:00:00\",\"2021-12-12T00:00:00\",\"2021-12-13T00:00:00\",\"2021-12-14T00:00:00\",\"2021-12-15T00:00:00\",\"2021-12-16T00:00:00\",\"2021-12-17T00:00:00\",\"2021-12-18T00:00:00\",\"2021-12-19T00:00:00\",\"2021-12-20T00:00:00\",\"2021-12-21T00:00:00\",\"2021-12-22T00:00:00\",\"2021-12-23T00:00:00\",\"2021-12-24T00:00:00\",\"2021-12-25T00:00:00\",\"2021-12-26T00:00:00\",\"2021-12-27T00:00:00\",\"2021-12-28T00:00:00\",\"2021-12-29T00:00:00\",\"2021-12-30T00:00:00\",\"2021-12-31T00:00:00\",\"2022-01-01T00:00:00\",\"2022-01-02T00:00:00\",\"2022-01-03T00:00:00\",\"2022-01-04T00:00:00\",\"2022-01-05T00:00:00\",\"2022-01-06T00:00:00\",\"2022-01-07T00:00:00\",\"2022-01-08T00:00:00\",\"2022-01-09T00:00:00\",\"2022-01-10T00:00:00\",\"2022-01-11T00:00:00\",\"2022-01-12T00:00:00\",\"2022-01-13T00:00:00\",\"2022-01-14T00:00:00\",\"2022-01-15T00:00:00\",\"2022-01-16T00:00:00\",\"2022-01-17T00:00:00\",\"2022-01-18T00:00:00\",\"2022-01-19T00:00:00\",\"2022-01-20T00:00:00\",\"2022-01-21T00:00:00\",\"2022-01-22T00:00:00\",\"2022-01-23T00:00:00\",\"2022-01-24T00:00:00\",\"2022-01-25T00:00:00\",\"2022-01-26T00:00:00\",\"2022-01-27T00:00:00\",\"2022-01-28T00:00:00\",\"2022-01-29T00:00:00\",\"2022-01-30T00:00:00\",\"2022-01-31T00:00:00\",\"2022-02-01T00:00:00\",\"2022-02-02T00:00:00\",\"2022-02-03T00:00:00\",\"2022-02-04T00:00:00\",\"2022-02-05T00:00:00\",\"2022-02-06T00:00:00\",\"2022-02-07T00:00:00\",\"2022-02-08T00:00:00\",\"2022-02-09T00:00:00\",\"2022-02-10T00:00:00\",\"2022-02-11T00:00:00\",\"2022-02-12T00:00:00\",\"2022-02-13T00:00:00\",\"2022-02-14T00:00:00\",\"2022-02-15T00:00:00\",\"2022-02-16T00:00:00\",\"2022-02-17T00:00:00\",\"2022-02-18T00:00:00\",\"2022-02-19T00:00:00\",\"2022-02-20T00:00:00\",\"2022-02-21T00:00:00\",\"2022-02-22T00:00:00\",\"2022-02-23T00:00:00\",\"2022-02-24T00:00:00\",\"2022-02-25T00:00:00\",\"2022-02-26T00:00:00\",\"2022-02-27T00:00:00\",\"2022-02-28T00:00:00\",\"2022-03-01T00:00:00\",\"2022-03-02T00:00:00\",\"2022-03-03T00:00:00\",\"2022-03-04T00:00:00\",\"2022-03-05T00:00:00\",\"2022-03-07T00:00:00\",\"2022-03-08T00:00:00\",\"2022-03-09T00:00:00\",\"2022-03-10T00:00:00\",\"2022-03-11T00:00:00\",\"2022-03-12T00:00:00\",\"2022-03-13T00:00:00\",\"2022-03-14T00:00:00\",\"2022-03-15T00:00:00\",\"2022-03-16T00:00:00\",\"2022-03-17T00:00:00\",\"2022-03-18T00:00:00\",\"2022-03-19T00:00:00\",\"2022-03-20T00:00:00\",\"2022-03-21T00:00:00\",\"2022-03-22T00:00:00\",\"2022-03-23T00:00:00\",\"2022-03-24T00:00:00\",\"2022-03-25T00:00:00\",\"2022-03-26T00:00:00\",\"2022-03-27T00:00:00\",\"2022-03-28T00:00:00\",\"2022-03-29T00:00:00\",\"2022-03-30T00:00:00\",\"2022-03-31T00:00:00\",\"2022-04-01T00:00:00\",\"2022-04-02T00:00:00\",\"2022-04-03T00:00:00\",\"2022-04-04T00:00:00\",\"2022-04-05T00:00:00\",\"2022-04-06T00:00:00\",\"2022-04-07T00:00:00\",\"2022-04-08T00:00:00\",\"2022-04-09T00:00:00\",\"2022-04-10T00:00:00\",\"2022-04-11T00:00:00\",\"2022-04-12T00:00:00\",\"2022-04-13T00:00:00\",\"2022-04-14T00:00:00\",\"2022-04-15T00:00:00\",\"2022-04-16T00:00:00\",\"2022-04-17T00:00:00\",\"2022-04-18T00:00:00\",\"2022-04-19T00:00:00\",\"2022-04-20T00:00:00\",\"2022-04-21T00:00:00\",\"2022-04-22T00:00:00\",\"2022-04-23T00:00:00\",\"2022-04-24T00:00:00\",\"2022-04-25T00:00:00\",\"2022-04-26T00:00:00\",\"2022-04-27T00:00:00\",\"2022-04-28T00:00:00\",\"2022-04-29T00:00:00\",\"2022-04-30T00:00:00\",\"2022-05-01T00:00:00\",\"2022-05-02T00:00:00\",\"2022-05-03T00:00:00\",\"2022-05-04T00:00:00\",\"2022-05-05T00:00:00\",\"2022-05-06T00:00:00\",\"2022-05-07T00:00:00\",\"2022-05-08T00:00:00\",\"2022-05-09T00:00:00\",\"2022-05-10T00:00:00\",\"2022-05-11T00:00:00\",\"2022-05-12T00:00:00\",\"2022-05-13T00:00:00\",\"2022-05-14T00:00:00\",\"2022-05-15T00:00:00\",\"2022-05-16T00:00:00\",\"2022-05-17T00:00:00\",\"2022-05-18T00:00:00\",\"2022-05-19T00:00:00\",\"2022-05-20T00:00:00\",\"2022-05-21T00:00:00\",\"2022-05-22T00:00:00\",\"2022-05-23T00:00:00\",\"2022-05-24T00:00:00\",\"2022-05-25T00:00:00\",\"2022-05-26T00:00:00\",\"2022-05-27T00:00:00\",\"2022-05-28T00:00:00\",\"2022-05-29T00:00:00\",\"2022-05-30T00:00:00\",\"2022-05-31T00:00:00\",\"2022-06-01T00:00:00\",\"2022-06-02T00:00:00\",\"2022-06-03T00:00:00\",\"2022-06-04T00:00:00\",\"2022-06-05T00:00:00\",\"2022-06-06T00:00:00\",\"2022-06-07T00:00:00\",\"2022-06-08T00:00:00\",\"2022-06-09T00:00:00\",\"2022-06-10T00:00:00\",\"2022-06-11T00:00:00\",\"2022-06-12T00:00:00\",\"2022-06-13T00:00:00\",\"2022-06-14T00:00:00\",\"2022-06-15T00:00:00\",\"2022-06-16T00:00:00\",\"2022-06-17T00:00:00\",\"2022-06-18T00:00:00\",\"2022-06-19T00:00:00\",\"2022-06-20T00:00:00\",\"2022-06-22T00:00:00\",\"2022-06-23T00:00:00\",\"2022-06-24T00:00:00\",\"2022-06-25T00:00:00\",\"2022-06-26T00:00:00\",\"2022-06-27T00:00:00\",\"2022-06-28T00:00:00\",\"2022-06-29T00:00:00\",\"2022-06-30T00:00:00\",\"2022-07-01T00:00:00\",\"2022-07-02T00:00:00\",\"2022-07-03T00:00:00\",\"2022-07-04T00:00:00\",\"2022-07-05T00:00:00\",\"2022-07-06T00:00:00\",\"2022-07-07T00:00:00\",\"2022-07-08T00:00:00\",\"2022-07-09T00:00:00\",\"2022-07-10T00:00:00\",\"2022-07-11T00:00:00\",\"2022-07-12T00:00:00\",\"2022-07-13T00:00:00\",\"2022-07-14T00:00:00\",\"2022-07-15T00:00:00\",\"2022-07-16T00:00:00\",\"2022-07-17T00:00:00\",\"2022-07-18T00:00:00\",\"2022-07-19T00:00:00\",\"2022-07-20T00:00:00\",\"2022-07-21T00:00:00\",\"2022-07-22T00:00:00\",\"2022-07-23T00:00:00\",\"2022-07-24T00:00:00\",\"2022-07-25T00:00:00\",\"2022-07-26T00:00:00\",\"2022-07-27T00:00:00\",\"2022-07-28T00:00:00\",\"2022-07-29T00:00:00\",\"2022-07-30T00:00:00\",\"2022-07-31T00:00:00\",\"2022-08-01T00:00:00\",\"2022-08-02T00:00:00\",\"2022-08-03T00:00:00\",\"2022-08-04T00:00:00\",\"2022-08-05T00:00:00\",\"2022-08-06T00:00:00\",\"2022-08-07T00:00:00\",\"2022-08-08T00:00:00\",\"2022-08-09T00:00:00\",\"2022-08-10T00:00:00\",\"2022-08-11T00:00:00\",\"2022-08-12T00:00:00\",\"2022-08-13T00:00:00\",\"2022-08-14T00:00:00\",\"2022-08-15T00:00:00\",\"2022-08-16T00:00:00\",\"2022-08-17T00:00:00\",\"2022-08-18T00:00:00\",\"2022-08-19T00:00:00\",\"2022-08-20T00:00:00\",\"2022-08-21T00:00:00\",\"2022-08-22T00:00:00\",\"2022-08-23T00:00:00\",\"2022-08-24T00:00:00\",\"2022-08-25T00:00:00\",\"2022-08-26T00:00:00\",\"2022-08-27T00:00:00\",\"2022-08-28T00:00:00\",\"2022-08-29T00:00:00\",\"2022-08-30T00:00:00\",\"2022-08-31T00:00:00\",\"2022-09-01T00:00:00\",\"2022-09-02T00:00:00\",\"2022-09-03T00:00:00\",\"2022-09-04T00:00:00\",\"2022-09-05T00:00:00\",\"2022-09-06T00:00:00\",\"2022-09-07T00:00:00\",\"2022-09-08T00:00:00\",\"2022-09-09T00:00:00\",\"2022-09-10T00:00:00\",\"2022-09-11T00:00:00\",\"2022-09-12T00:00:00\",\"2022-09-13T00:00:00\",\"2022-09-14T00:00:00\",\"2022-09-15T00:00:00\",\"2022-09-16T00:00:00\",\"2022-09-19T00:00:00\",\"2022-09-20T00:00:00\",\"2022-09-21T00:00:00\",\"2022-09-22T00:00:00\",\"2022-09-23T00:00:00\",\"2022-09-24T00:00:00\",\"2022-09-25T00:00:00\",\"2022-09-26T00:00:00\",\"2022-09-27T00:00:00\",\"2022-09-28T00:00:00\",\"2022-09-29T00:00:00\",\"2022-09-30T00:00:00\",\"2022-10-02T00:00:00\",\"2022-10-03T00:00:00\",\"2022-10-04T00:00:00\",\"2022-10-05T00:00:00\",\"2022-10-06T00:00:00\",\"2022-10-07T00:00:00\",\"2022-10-08T00:00:00\",\"2022-10-09T00:00:00\",\"2022-10-10T00:00:00\",\"2022-10-11T00:00:00\",\"2022-10-12T00:00:00\",\"2022-10-13T00:00:00\",\"2022-10-14T00:00:00\",\"2022-10-15T00:00:00\",\"2022-10-16T00:00:00\",\"2022-10-17T00:00:00\",\"2022-10-18T00:00:00\",\"2022-10-19T00:00:00\",\"2022-10-20T00:00:00\",\"2022-10-21T00:00:00\",\"2022-10-22T00:00:00\",\"2022-10-23T00:00:00\",\"2022-10-24T00:00:00\",\"2022-10-25T00:00:00\",\"2022-10-26T00:00:00\",\"2022-10-27T00:00:00\",\"2022-10-28T00:00:00\",\"2022-10-29T00:00:00\",\"2022-10-30T00:00:00\",\"2022-10-31T00:00:00\",\"2022-11-01T00:00:00\",\"2022-11-02T00:00:00\",\"2022-11-03T00:00:00\",\"2022-11-04T00:00:00\",\"2022-11-05T00:00:00\",\"2022-11-06T00:00:00\",\"2022-11-07T00:00:00\",\"2022-11-08T00:00:00\",\"2022-11-09T00:00:00\",\"2022-11-10T00:00:00\",\"2022-11-11T00:00:00\"],\"y\":[null,null,null,null,null,null,null,null,null,null,null,null,null,null,null,null,null,null,null,null,null,null,null,null,null,null,null,null,null,107.23333333333333,110.16666666666667,111.53333333333333,109.46666666666667,107.93333333333334,106.56666666666666,107.3,102.8,103.73333333333333,105.56666666666666,105.1,104.1,107.4,106.66666666666667,109.83333333333333,112.03333333333333,114.1,112.96666666666667,110.06666666666666,110.1,109.03333333333333,111.16666666666667,113.93333333333334,112.83333333333333,113.76666666666667,112.53333333333333,112.03333333333333,111.16666666666667,112.0,109.03333333333333,108.9,106.9,104.6,105.66666666666667,106.06666666666666,108.56666666666666,108.4,109.93333333333334,108.63333333333334,107.4,108.6,109.66666666666667,105.4,107.16666666666667,102.63333333333334,100.56666666666666,99.9,100.56666666666666,101.56666666666666,100.66666666666667,101.36666666666666,102.03333333333333,101.33333333333333,103.43333333333334,102.86666666666666,103.83333333333333,102.56666666666666,103.1,101.5,101.0,100.56666666666666,101.2,100.76666666666667,99.3,98.4,98.4,99.16666666666667,99.0,100.6,100.06666666666666,100.83333333333333,100.06666666666666,100.66666666666667,101.23333333333333,104.73333333333333,105.1,105.76666666666667,107.13333333333334,108.7,111.06666666666666,112.2,109.26666666666667,106.8,104.76666666666667,103.46666666666667,102.4,103.7,101.9,102.93333333333334,102.53333333333333,101.46666666666667,102.16666666666667,103.13333333333334,105.43333333333334,105.13333333333334,102.86666666666666,101.7,103.43333333333334,104.33333333333333,104.33333333333333,103.96666666666667,105.06666666666666,107.06666666666666,106.6,103.3,104.03333333333333,104.4,104.6,102.73333333333333,102.13333333333334,100.06666666666666,102.8,105.56666666666666,104.63333333333334,106.4,108.6,108.1,109.23333333333333,108.06666666666666,109.33333333333333,110.7,110.33333333333333,109.4,108.7,108.1,108.8,107.23333333333333,107.5,107.3,109.26666666666667,109.3,108.2,107.1,105.26666666666667,107.23333333333333,106.6,105.73333333333333,104.53333333333333,104.66666666666667,105.13333333333334,106.7,105.06666666666666,102.33333333333333,103.8,101.73333333333333,99.2,100.1,101.13333333333334,102.83333333333333,102.96666666666667,102.56666666666666,102.16666666666667,102.73333333333333,103.13333333333334,104.46666666666667,105.46666666666667,106.53333333333333,104.33333333333333,102.73333333333333,100.63333333333334,100.86666666666666,100.16666666666667,98.16666666666667,97.3,97.36666666666666,97.13333333333334,97.03333333333333,96.23333333333333,96.26666666666667,94.83333333333333,94.66666666666667,94.1,95.86666666666666,95.2,97.36666666666666,98.43333333333334,98.3,97.96666666666667,99.76666666666667,99.56666666666666,99.43333333333334,98.06666666666666,98.06666666666666,97.26666666666667,96.46666666666667,96.56666666666666,97.7,99.53333333333333,101.06666666666666,101.33333333333333,101.63333333333334,103.56666666666666,107.73333333333333,108.66666666666667,106.36666666666666,106.96666666666667,107.16666666666667,108.63333333333334,105.83333333333333,104.86666666666666,105.3,105.83333333333333,103.9,103.43333333333334,101.56666666666666,102.66666666666667,102.66666666666667,102.96666666666667,100.36666666666666,100.5,103.26666666666667,103.76666666666667,104.33333333333333,102.13333333333334,102.06666666666666,99.9,99.3,97.43333333333334,96.93333333333334,96.63333333333334,95.1,91.36666666666666,89.66666666666667,90.03333333333333,90.43333333333334,89.3,87.86666666666666,86.36666666666666,88.53333333333333,87.73333333333333,87.36666666666666,87.46666666666667,88.16666666666667,89.9,94.1,93.4,93.43333333333334,93.1,94.13333333333334,94.2,95.0,96.93333333333334,96.13333333333334,96.2,96.73333333333333,97.03333333333333,95.53333333333333,95.23333333333333,94.36666666666666,93.26666666666667,93.46666666666667,95.63333333333334,95.06666666666666,96.4,97.16666666666667,98.1,97.5,99.0,99.16666666666667,98.96666666666667,100.0,99.16666666666667,100.53333333333333,99.86666666666666,96.3,96.5,95.6,97.2,96.06666666666666,95.06666666666666,92.8,91.63333333333334,91.63333333333334,94.03333333333333,94.33333333333333,94.0,96.1,96.66666666666667,96.2,98.86666666666666,98.46666666666667,97.73333333333333,96.86666666666666,97.66666666666667,96.2,95.93333333333334,98.2,96.06666666666666,96.43333333333334,96.6,94.63333333333334,95.16666666666667,94.73333333333333,95.73333333333333,95.83333333333333,93.36666666666666,96.16666666666667,95.33333333333333,95.3,92.7,91.83333333333333,94.2,94.06666666666666,93.8,94.13333333333334,96.73333333333333,96.2,96.06666666666666,96.63333333333334,95.96666666666667,97.83333333333333,98.83333333333333,100.6,100.1,100.66666666666667,102.6,101.86666666666666,104.73333333333333,103.8,107.26666666666667],\"type\":\"scatter\"}],                        {\"template\":{\"data\":{\"barpolar\":[{\"marker\":{\"line\":{\"color\":\"rgb(17,17,17)\",\"width\":0.5},\"pattern\":{\"fillmode\":\"overlay\",\"size\":10,\"solidity\":0.2}},\"type\":\"barpolar\"}],\"bar\":[{\"error_x\":{\"color\":\"#f2f5fa\"},\"error_y\":{\"color\":\"#f2f5fa\"},\"marker\":{\"line\":{\"color\":\"rgb(17,17,17)\",\"width\":0.5},\"pattern\":{\"fillmode\":\"overlay\",\"size\":10,\"solidity\":0.2}},\"type\":\"bar\"}],\"carpet\":[{\"aaxis\":{\"endlinecolor\":\"#A2B1C6\",\"gridcolor\":\"#506784\",\"linecolor\":\"#506784\",\"minorgridcolor\":\"#506784\",\"startlinecolor\":\"#A2B1C6\"},\"baxis\":{\"endlinecolor\":\"#A2B1C6\",\"gridcolor\":\"#506784\",\"linecolor\":\"#506784\",\"minorgridcolor\":\"#506784\",\"startlinecolor\":\"#A2B1C6\"},\"type\":\"carpet\"}],\"choropleth\":[{\"colorbar\":{\"outlinewidth\":0,\"ticks\":\"\"},\"type\":\"choropleth\"}],\"contourcarpet\":[{\"colorbar\":{\"outlinewidth\":0,\"ticks\":\"\"},\"type\":\"contourcarpet\"}],\"contour\":[{\"colorbar\":{\"outlinewidth\":0,\"ticks\":\"\"},\"colorscale\":[[0.0,\"#0d0887\"],[0.1111111111111111,\"#46039f\"],[0.2222222222222222,\"#7201a8\"],[0.3333333333333333,\"#9c179e\"],[0.4444444444444444,\"#bd3786\"],[0.5555555555555556,\"#d8576b\"],[0.6666666666666666,\"#ed7953\"],[0.7777777777777778,\"#fb9f3a\"],[0.8888888888888888,\"#fdca26\"],[1.0,\"#f0f921\"]],\"type\":\"contour\"}],\"heatmapgl\":[{\"colorbar\":{\"outlinewidth\":0,\"ticks\":\"\"},\"colorscale\":[[0.0,\"#0d0887\"],[0.1111111111111111,\"#46039f\"],[0.2222222222222222,\"#7201a8\"],[0.3333333333333333,\"#9c179e\"],[0.4444444444444444,\"#bd3786\"],[0.5555555555555556,\"#d8576b\"],[0.6666666666666666,\"#ed7953\"],[0.7777777777777778,\"#fb9f3a\"],[0.8888888888888888,\"#fdca26\"],[1.0,\"#f0f921\"]],\"type\":\"heatmapgl\"}],\"heatmap\":[{\"colorbar\":{\"outlinewidth\":0,\"ticks\":\"\"},\"colorscale\":[[0.0,\"#0d0887\"],[0.1111111111111111,\"#46039f\"],[0.2222222222222222,\"#7201a8\"],[0.3333333333333333,\"#9c179e\"],[0.4444444444444444,\"#bd3786\"],[0.5555555555555556,\"#d8576b\"],[0.6666666666666666,\"#ed7953\"],[0.7777777777777778,\"#fb9f3a\"],[0.8888888888888888,\"#fdca26\"],[1.0,\"#f0f921\"]],\"type\":\"heatmap\"}],\"histogram2dcontour\":[{\"colorbar\":{\"outlinewidth\":0,\"ticks\":\"\"},\"colorscale\":[[0.0,\"#0d0887\"],[0.1111111111111111,\"#46039f\"],[0.2222222222222222,\"#7201a8\"],[0.3333333333333333,\"#9c179e\"],[0.4444444444444444,\"#bd3786\"],[0.5555555555555556,\"#d8576b\"],[0.6666666666666666,\"#ed7953\"],[0.7777777777777778,\"#fb9f3a\"],[0.8888888888888888,\"#fdca26\"],[1.0,\"#f0f921\"]],\"type\":\"histogram2dcontour\"}],\"histogram2d\":[{\"colorbar\":{\"outlinewidth\":0,\"ticks\":\"\"},\"colorscale\":[[0.0,\"#0d0887\"],[0.1111111111111111,\"#46039f\"],[0.2222222222222222,\"#7201a8\"],[0.3333333333333333,\"#9c179e\"],[0.4444444444444444,\"#bd3786\"],[0.5555555555555556,\"#d8576b\"],[0.6666666666666666,\"#ed7953\"],[0.7777777777777778,\"#fb9f3a\"],[0.8888888888888888,\"#fdca26\"],[1.0,\"#f0f921\"]],\"type\":\"histogram2d\"}],\"histogram\":[{\"marker\":{\"pattern\":{\"fillmode\":\"overlay\",\"size\":10,\"solidity\":0.2}},\"type\":\"histogram\"}],\"mesh3d\":[{\"colorbar\":{\"outlinewidth\":0,\"ticks\":\"\"},\"type\":\"mesh3d\"}],\"parcoords\":[{\"line\":{\"colorbar\":{\"outlinewidth\":0,\"ticks\":\"\"}},\"type\":\"parcoords\"}],\"pie\":[{\"automargin\":true,\"type\":\"pie\"}],\"scatter3d\":[{\"line\":{\"colorbar\":{\"outlinewidth\":0,\"ticks\":\"\"}},\"marker\":{\"colorbar\":{\"outlinewidth\":0,\"ticks\":\"\"}},\"type\":\"scatter3d\"}],\"scattercarpet\":[{\"marker\":{\"colorbar\":{\"outlinewidth\":0,\"ticks\":\"\"}},\"type\":\"scattercarpet\"}],\"scattergeo\":[{\"marker\":{\"colorbar\":{\"outlinewidth\":0,\"ticks\":\"\"}},\"type\":\"scattergeo\"}],\"scattergl\":[{\"marker\":{\"line\":{\"color\":\"#283442\"}},\"type\":\"scattergl\"}],\"scattermapbox\":[{\"marker\":{\"colorbar\":{\"outlinewidth\":0,\"ticks\":\"\"}},\"type\":\"scattermapbox\"}],\"scatterpolargl\":[{\"marker\":{\"colorbar\":{\"outlinewidth\":0,\"ticks\":\"\"}},\"type\":\"scatterpolargl\"}],\"scatterpolar\":[{\"marker\":{\"colorbar\":{\"outlinewidth\":0,\"ticks\":\"\"}},\"type\":\"scatterpolar\"}],\"scatter\":[{\"marker\":{\"line\":{\"color\":\"#283442\"}},\"type\":\"scatter\"}],\"scatterternary\":[{\"marker\":{\"colorbar\":{\"outlinewidth\":0,\"ticks\":\"\"}},\"type\":\"scatterternary\"}],\"surface\":[{\"colorbar\":{\"outlinewidth\":0,\"ticks\":\"\"},\"colorscale\":[[0.0,\"#0d0887\"],[0.1111111111111111,\"#46039f\"],[0.2222222222222222,\"#7201a8\"],[0.3333333333333333,\"#9c179e\"],[0.4444444444444444,\"#bd3786\"],[0.5555555555555556,\"#d8576b\"],[0.6666666666666666,\"#ed7953\"],[0.7777777777777778,\"#fb9f3a\"],[0.8888888888888888,\"#fdca26\"],[1.0,\"#f0f921\"]],\"type\":\"surface\"}],\"table\":[{\"cells\":{\"fill\":{\"color\":\"#506784\"},\"line\":{\"color\":\"rgb(17,17,17)\"}},\"header\":{\"fill\":{\"color\":\"#2a3f5f\"},\"line\":{\"color\":\"rgb(17,17,17)\"}},\"type\":\"table\"}]},\"layout\":{\"annotationdefaults\":{\"arrowcolor\":\"#f2f5fa\",\"arrowhead\":0,\"arrowwidth\":1},\"autotypenumbers\":\"strict\",\"coloraxis\":{\"colorbar\":{\"outlinewidth\":0,\"ticks\":\"\"}},\"colorscale\":{\"diverging\":[[0,\"#8e0152\"],[0.1,\"#c51b7d\"],[0.2,\"#de77ae\"],[0.3,\"#f1b6da\"],[0.4,\"#fde0ef\"],[0.5,\"#f7f7f7\"],[0.6,\"#e6f5d0\"],[0.7,\"#b8e186\"],[0.8,\"#7fbc41\"],[0.9,\"#4d9221\"],[1,\"#276419\"]],\"sequential\":[[0.0,\"#0d0887\"],[0.1111111111111111,\"#46039f\"],[0.2222222222222222,\"#7201a8\"],[0.3333333333333333,\"#9c179e\"],[0.4444444444444444,\"#bd3786\"],[0.5555555555555556,\"#d8576b\"],[0.6666666666666666,\"#ed7953\"],[0.7777777777777778,\"#fb9f3a\"],[0.8888888888888888,\"#fdca26\"],[1.0,\"#f0f921\"]],\"sequentialminus\":[[0.0,\"#0d0887\"],[0.1111111111111111,\"#46039f\"],[0.2222222222222222,\"#7201a8\"],[0.3333333333333333,\"#9c179e\"],[0.4444444444444444,\"#bd3786\"],[0.5555555555555556,\"#d8576b\"],[0.6666666666666666,\"#ed7953\"],[0.7777777777777778,\"#fb9f3a\"],[0.8888888888888888,\"#fdca26\"],[1.0,\"#f0f921\"]]},\"colorway\":[\"#636efa\",\"#EF553B\",\"#00cc96\",\"#ab63fa\",\"#FFA15A\",\"#19d3f3\",\"#FF6692\",\"#B6E880\",\"#FF97FF\",\"#FECB52\"],\"font\":{\"color\":\"#f2f5fa\"},\"geo\":{\"bgcolor\":\"rgb(17,17,17)\",\"lakecolor\":\"rgb(17,17,17)\",\"landcolor\":\"rgb(17,17,17)\",\"showlakes\":true,\"showland\":true,\"subunitcolor\":\"#506784\"},\"hoverlabel\":{\"align\":\"left\"},\"hovermode\":\"closest\",\"mapbox\":{\"style\":\"dark\"},\"paper_bgcolor\":\"rgb(17,17,17)\",\"plot_bgcolor\":\"rgb(17,17,17)\",\"polar\":{\"angularaxis\":{\"gridcolor\":\"#506784\",\"linecolor\":\"#506784\",\"ticks\":\"\"},\"bgcolor\":\"rgb(17,17,17)\",\"radialaxis\":{\"gridcolor\":\"#506784\",\"linecolor\":\"#506784\",\"ticks\":\"\"}},\"scene\":{\"xaxis\":{\"backgroundcolor\":\"rgb(17,17,17)\",\"gridcolor\":\"#506784\",\"gridwidth\":2,\"linecolor\":\"#506784\",\"showbackground\":true,\"ticks\":\"\",\"zerolinecolor\":\"#C8D4E3\"},\"yaxis\":{\"backgroundcolor\":\"rgb(17,17,17)\",\"gridcolor\":\"#506784\",\"gridwidth\":2,\"linecolor\":\"#506784\",\"showbackground\":true,\"ticks\":\"\",\"zerolinecolor\":\"#C8D4E3\"},\"zaxis\":{\"backgroundcolor\":\"rgb(17,17,17)\",\"gridcolor\":\"#506784\",\"gridwidth\":2,\"linecolor\":\"#506784\",\"showbackground\":true,\"ticks\":\"\",\"zerolinecolor\":\"#C8D4E3\"}},\"shapedefaults\":{\"line\":{\"color\":\"#f2f5fa\"}},\"sliderdefaults\":{\"bgcolor\":\"#C8D4E3\",\"bordercolor\":\"rgb(17,17,17)\",\"borderwidth\":1,\"tickwidth\":0},\"ternary\":{\"aaxis\":{\"gridcolor\":\"#506784\",\"linecolor\":\"#506784\",\"ticks\":\"\"},\"baxis\":{\"gridcolor\":\"#506784\",\"linecolor\":\"#506784\",\"ticks\":\"\"},\"bgcolor\":\"rgb(17,17,17)\",\"caxis\":{\"gridcolor\":\"#506784\",\"linecolor\":\"#506784\",\"ticks\":\"\"}},\"title\":{\"x\":0.05},\"updatemenudefaults\":{\"bgcolor\":\"#506784\",\"borderwidth\":0},\"xaxis\":{\"automargin\":true,\"gridcolor\":\"#283442\",\"linecolor\":\"#506784\",\"ticks\":\"\",\"title\":{\"standoff\":15},\"zerolinecolor\":\"#283442\",\"zerolinewidth\":2},\"yaxis\":{\"automargin\":true,\"gridcolor\":\"#283442\",\"linecolor\":\"#506784\",\"ticks\":\"\",\"title\":{\"standoff\":15},\"zerolinecolor\":\"#283442\",\"zerolinewidth\":2}}},\"title\":{\"text\":\"Deep Sleep Time Mins, Rolling 30 Day\"},\"xaxis\":{\"title\":{\"text\":\"Date\"}},\"yaxis\":{\"title\":{\"text\":\"Deep Time Mins\"}}},                        {\"responsive\": true}                    ).then(function(){\n",
       "                            \n",
       "var gd = document.getElementById('556ca202-ce30-422d-9cf7-afbc8f8e931f');\n",
       "var x = new MutationObserver(function (mutations, observer) {{\n",
       "        var display = window.getComputedStyle(gd).display;\n",
       "        if (!display || display === 'none') {{\n",
       "            console.log([gd, 'removed!']);\n",
       "            Plotly.purge(gd);\n",
       "            observer.disconnect();\n",
       "        }}\n",
       "}});\n",
       "\n",
       "// Listen for the removal of the full notebook cells\n",
       "var notebookContainer = gd.closest('#notebook-container');\n",
       "if (notebookContainer) {{\n",
       "    x.observe(notebookContainer, {childList: true});\n",
       "}}\n",
       "\n",
       "// Listen for the clearing of the current output cell\n",
       "var outputEl = gd.closest('.output');\n",
       "if (outputEl) {{\n",
       "    x.observe(outputEl, {childList: true});\n",
       "}}\n",
       "\n",
       "                        })                };                });            </script>        </div>"
      ]
     },
     "metadata": {},
     "output_type": "display_data"
    }
   ],
   "source": [
    "fig = go.Figure()\n",
    "\n",
    "fig.add_trace(\n",
    "    go.Scatter(\n",
    "        x = df['sleepDate']\n",
    "        , y = df['sleepData.deepTime'].rolling(window=30).mean()\n",
    "        # , name = df['sleepDate.weekDay']\n",
    "        , mode='markers+lines'\n",
    "        , name='values'\n",
    "        , text = tick_text\n",
    "        , hoverinfo = 'text'\n",
    "        , marker=dict(\n",
    "            colorscale='agsunset',\n",
    "            line_width=1\n",
    "        )\n",
    "    )\n",
    ")\n",
    " \n",
    "# dark theme \n",
    "fig.layout.template = 'plotly_dark'\n",
    "\n",
    "\n",
    "fig.update_layout(title = 'Deep Sleep Time Mins, Rolling 30 Day',\n",
    "                  xaxis_title='Date',\n",
    "                  yaxis_title='Deep Time Mins', \n",
    "                 )\n",
    "\n",
    "# save file to html\n",
    "fig.write_json(os.path.abspath('../../personal-site/static/plotly/sleep-proxy/deep-sleep.json'))\n",
    "\n",
    "fig.show()"
   ]
  },
  {
   "cell_type": "code",
   "execution_count": 58,
   "id": "ae539c03-2e12-45c4-a718-75ddec3ce23b",
   "metadata": {},
   "outputs": [
    {
     "data": {
      "application/vnd.plotly.v1+json": {
       "config": {
        "plotlyServerURL": "https://plot.ly"
       },
       "data": [
        {
         "hoverinfo": "text",
         "marker": {
          "colorscale": [
           [
            0,
            "rgb(75, 41, 145)"
           ],
           [
            0.16666666666666666,
            "rgb(135, 44, 162)"
           ],
           [
            0.3333333333333333,
            "rgb(192, 54, 157)"
           ],
           [
            0.5,
            "rgb(234, 79, 136)"
           ],
           [
            0.6666666666666666,
            "rgb(250, 120, 118)"
           ],
           [
            0.8333333333333334,
            "rgb(246, 169, 122)"
           ],
           [
            1,
            "rgb(237, 217, 163)"
           ]
          ],
          "line": {
           "width": 1
          }
         },
         "name": "Tuesday",
         "type": "scatter",
         "x": [
          "2021-11-23T00:00:00",
          "2021-11-30T00:00:00",
          "2021-12-07T00:00:00",
          "2021-12-14T00:00:00",
          "2021-12-21T00:00:00",
          "2021-12-28T00:00:00",
          "2022-01-04T00:00:00",
          "2022-01-11T00:00:00",
          "2022-01-18T00:00:00",
          "2022-01-25T00:00:00",
          "2022-02-01T00:00:00",
          "2022-02-08T00:00:00",
          "2022-02-15T00:00:00",
          "2022-02-22T00:00:00",
          "2022-03-01T00:00:00",
          "2022-03-08T00:00:00",
          "2022-03-15T00:00:00",
          "2022-03-22T00:00:00",
          "2022-03-29T00:00:00",
          "2022-04-05T00:00:00",
          "2022-04-12T00:00:00",
          "2022-04-19T00:00:00",
          "2022-04-26T00:00:00",
          "2022-05-03T00:00:00",
          "2022-05-10T00:00:00",
          "2022-05-17T00:00:00",
          "2022-05-24T00:00:00",
          "2022-05-31T00:00:00",
          "2022-06-07T00:00:00",
          "2022-06-14T00:00:00",
          "2022-06-28T00:00:00",
          "2022-07-05T00:00:00",
          "2022-07-12T00:00:00",
          "2022-07-19T00:00:00",
          "2022-07-26T00:00:00",
          "2022-08-02T00:00:00",
          "2022-08-09T00:00:00",
          "2022-08-16T00:00:00",
          "2022-08-23T00:00:00",
          "2022-08-30T00:00:00",
          "2022-09-06T00:00:00",
          "2022-09-13T00:00:00",
          "2022-09-20T00:00:00",
          "2022-09-27T00:00:00",
          "2022-10-04T00:00:00",
          "2022-10-11T00:00:00",
          "2022-10-18T00:00:00",
          "2022-10-25T00:00:00",
          "2022-11-01T00:00:00",
          "2022-11-08T00:00:00"
         ],
         "y": [
          null,
          null,
          null,
          null,
          null,
          null,
          null,
          null,
          null,
          401.2,
          413.5,
          407.5,
          418,
          404.3,
          392.5,
          387.3,
          386.6,
          390,
          388,
          388.7,
          385.8,
          385.5,
          378.1,
          385.3,
          394,
          403,
          396.8,
          390.8,
          380.2,
          377.1,
          376.4,
          375.7,
          374.8,
          373.9,
          376.5,
          373,
          368.9,
          373.3,
          380,
          379.5,
          381.2,
          382.8,
          376.3,
          390.2,
          388.6,
          400.4,
          404.2,
          410.9,
          415.3,
          415.7
         ]
        },
        {
         "hoverinfo": "text",
         "marker": {
          "colorscale": [
           [
            0,
            "rgb(75, 41, 145)"
           ],
           [
            0.16666666666666666,
            "rgb(135, 44, 162)"
           ],
           [
            0.3333333333333333,
            "rgb(192, 54, 157)"
           ],
           [
            0.5,
            "rgb(234, 79, 136)"
           ],
           [
            0.6666666666666666,
            "rgb(250, 120, 118)"
           ],
           [
            0.8333333333333334,
            "rgb(246, 169, 122)"
           ],
           [
            1,
            "rgb(237, 217, 163)"
           ]
          ],
          "line": {
           "width": 1
          }
         },
         "name": "Wednesday",
         "type": "scatter",
         "x": [
          "2021-11-24T00:00:00",
          "2021-12-01T00:00:00",
          "2021-12-08T00:00:00",
          "2021-12-15T00:00:00",
          "2021-12-22T00:00:00",
          "2021-12-29T00:00:00",
          "2022-01-05T00:00:00",
          "2022-01-12T00:00:00",
          "2022-01-19T00:00:00",
          "2022-01-26T00:00:00",
          "2022-02-02T00:00:00",
          "2022-02-09T00:00:00",
          "2022-02-16T00:00:00",
          "2022-02-23T00:00:00",
          "2022-03-02T00:00:00",
          "2022-03-09T00:00:00",
          "2022-03-16T00:00:00",
          "2022-03-23T00:00:00",
          "2022-03-30T00:00:00",
          "2022-04-06T00:00:00",
          "2022-04-13T00:00:00",
          "2022-04-20T00:00:00",
          "2022-04-27T00:00:00",
          "2022-05-04T00:00:00",
          "2022-05-11T00:00:00",
          "2022-05-18T00:00:00",
          "2022-05-25T00:00:00",
          "2022-06-01T00:00:00",
          "2022-06-08T00:00:00",
          "2022-06-15T00:00:00",
          "2022-06-22T00:00:00",
          "2022-06-29T00:00:00",
          "2022-07-06T00:00:00",
          "2022-07-13T00:00:00",
          "2022-07-20T00:00:00",
          "2022-07-27T00:00:00",
          "2022-08-03T00:00:00",
          "2022-08-10T00:00:00",
          "2022-08-17T00:00:00",
          "2022-08-24T00:00:00",
          "2022-08-31T00:00:00",
          "2022-09-07T00:00:00",
          "2022-09-14T00:00:00",
          "2022-09-21T00:00:00",
          "2022-09-28T00:00:00",
          "2022-10-05T00:00:00",
          "2022-10-12T00:00:00",
          "2022-10-19T00:00:00",
          "2022-10-26T00:00:00",
          "2022-11-02T00:00:00",
          "2022-11-09T00:00:00"
         ],
         "y": [
          null,
          null,
          null,
          null,
          null,
          null,
          null,
          null,
          null,
          432.9,
          415.8,
          411.4,
          403.8,
          401.7,
          385.5,
          372.6,
          364.9,
          355.6,
          354.2,
          360.2,
          368.5,
          371.2,
          377.7,
          374.5,
          380.6,
          391.3,
          392.9,
          398.2,
          396.8,
          395.9,
          395,
          396.1,
          398.6,
          395.5,
          394,
          395,
          397.2,
          400,
          403.9,
          404.7,
          411.5,
          410.2,
          409.5,
          396.2,
          392,
          394.2,
          381.1,
          380.7,
          369.8,
          373.4,
          370.9
         ]
        },
        {
         "hoverinfo": "text",
         "marker": {
          "colorscale": [
           [
            0,
            "rgb(75, 41, 145)"
           ],
           [
            0.16666666666666666,
            "rgb(135, 44, 162)"
           ],
           [
            0.3333333333333333,
            "rgb(192, 54, 157)"
           ],
           [
            0.5,
            "rgb(234, 79, 136)"
           ],
           [
            0.6666666666666666,
            "rgb(250, 120, 118)"
           ],
           [
            0.8333333333333334,
            "rgb(246, 169, 122)"
           ],
           [
            1,
            "rgb(237, 217, 163)"
           ]
          ],
          "line": {
           "width": 1
          }
         },
         "name": "Thursday",
         "type": "scatter",
         "x": [
          "2021-11-25T00:00:00",
          "2021-12-02T00:00:00",
          "2021-12-09T00:00:00",
          "2021-12-16T00:00:00",
          "2021-12-23T00:00:00",
          "2021-12-30T00:00:00",
          "2022-01-06T00:00:00",
          "2022-01-13T00:00:00",
          "2022-01-20T00:00:00",
          "2022-01-27T00:00:00",
          "2022-02-03T00:00:00",
          "2022-02-10T00:00:00",
          "2022-02-17T00:00:00",
          "2022-02-24T00:00:00",
          "2022-03-03T00:00:00",
          "2022-03-10T00:00:00",
          "2022-03-17T00:00:00",
          "2022-03-24T00:00:00",
          "2022-03-31T00:00:00",
          "2022-04-07T00:00:00",
          "2022-04-14T00:00:00",
          "2022-04-21T00:00:00",
          "2022-04-28T00:00:00",
          "2022-05-05T00:00:00",
          "2022-05-12T00:00:00",
          "2022-05-19T00:00:00",
          "2022-05-26T00:00:00",
          "2022-06-02T00:00:00",
          "2022-06-09T00:00:00",
          "2022-06-16T00:00:00",
          "2022-06-23T00:00:00",
          "2022-06-30T00:00:00",
          "2022-07-07T00:00:00",
          "2022-07-14T00:00:00",
          "2022-07-21T00:00:00",
          "2022-07-28T00:00:00",
          "2022-08-04T00:00:00",
          "2022-08-11T00:00:00",
          "2022-08-18T00:00:00",
          "2022-08-25T00:00:00",
          "2022-09-01T00:00:00",
          "2022-09-08T00:00:00",
          "2022-09-15T00:00:00",
          "2022-09-22T00:00:00",
          "2022-09-29T00:00:00",
          "2022-10-06T00:00:00",
          "2022-10-13T00:00:00",
          "2022-10-20T00:00:00",
          "2022-10-27T00:00:00",
          "2022-11-03T00:00:00",
          "2022-11-10T00:00:00"
         ],
         "y": [
          null,
          null,
          null,
          null,
          null,
          null,
          null,
          null,
          null,
          397.1,
          401.9,
          401.9,
          404.4,
          405.4,
          409,
          424.1,
          421.4,
          420.6,
          419.4,
          417.3,
          415.8,
          416.3,
          411.2,
          408.6,
          402.1,
          394.5,
          395.3,
          395.4,
          395,
          394.6,
          376.8,
          371.7,
          372.9,
          372.8,
          373.7,
          361.6,
          357.9,
          360.6,
          357.1,
          359.4,
          372.4,
          380.7,
          379.7,
          381.8,
          385,
          396.8,
          398.6,
          393.1,
          398,
          399.8,
          396.1
         ]
        },
        {
         "hoverinfo": "text",
         "marker": {
          "colorscale": [
           [
            0,
            "rgb(75, 41, 145)"
           ],
           [
            0.16666666666666666,
            "rgb(135, 44, 162)"
           ],
           [
            0.3333333333333333,
            "rgb(192, 54, 157)"
           ],
           [
            0.5,
            "rgb(234, 79, 136)"
           ],
           [
            0.6666666666666666,
            "rgb(250, 120, 118)"
           ],
           [
            0.8333333333333334,
            "rgb(246, 169, 122)"
           ],
           [
            1,
            "rgb(237, 217, 163)"
           ]
          ],
          "line": {
           "width": 1
          }
         },
         "name": "Friday",
         "type": "scatter",
         "x": [
          "2021-11-26T00:00:00",
          "2021-12-03T00:00:00",
          "2021-12-10T00:00:00",
          "2021-12-17T00:00:00",
          "2021-12-24T00:00:00",
          "2021-12-31T00:00:00",
          "2022-01-07T00:00:00",
          "2022-01-14T00:00:00",
          "2022-01-21T00:00:00",
          "2022-01-28T00:00:00",
          "2022-02-04T00:00:00",
          "2022-02-11T00:00:00",
          "2022-02-18T00:00:00",
          "2022-02-25T00:00:00",
          "2022-03-04T00:00:00",
          "2022-03-11T00:00:00",
          "2022-03-18T00:00:00",
          "2022-03-25T00:00:00",
          "2022-04-01T00:00:00",
          "2022-04-08T00:00:00",
          "2022-04-15T00:00:00",
          "2022-04-22T00:00:00",
          "2022-04-29T00:00:00",
          "2022-05-06T00:00:00",
          "2022-05-13T00:00:00",
          "2022-05-20T00:00:00",
          "2022-05-27T00:00:00",
          "2022-06-03T00:00:00",
          "2022-06-10T00:00:00",
          "2022-06-17T00:00:00",
          "2022-06-24T00:00:00",
          "2022-07-01T00:00:00",
          "2022-07-08T00:00:00",
          "2022-07-15T00:00:00",
          "2022-07-22T00:00:00",
          "2022-07-29T00:00:00",
          "2022-08-05T00:00:00",
          "2022-08-12T00:00:00",
          "2022-08-19T00:00:00",
          "2022-08-26T00:00:00",
          "2022-09-02T00:00:00",
          "2022-09-09T00:00:00",
          "2022-09-16T00:00:00",
          "2022-09-23T00:00:00",
          "2022-09-30T00:00:00",
          "2022-10-07T00:00:00",
          "2022-10-14T00:00:00",
          "2022-10-21T00:00:00",
          "2022-10-28T00:00:00",
          "2022-11-04T00:00:00",
          "2022-11-11T00:00:00"
         ],
         "y": [
          null,
          null,
          null,
          null,
          null,
          null,
          null,
          null,
          null,
          405,
          403.1,
          408.9,
          392.8,
          391.2,
          368,
          371.7,
          358.1,
          362.4,
          360.8,
          370.5,
          368.2,
          360.4,
          365.5,
          360.6,
          373.5,
          371.1,
          382,
          372.3,
          372.2,
          364.6,
          368.3,
          366.4,
          366.6,
          362.8,
          367.9,
          373.3,
          368.9,
          368.2,
          378,
          377.6,
          368,
          368.7,
          354.6,
          358.7,
          350.7,
          327.7,
          333.7,
          341.9,
          343,
          352,
          377.4
         ]
        },
        {
         "hoverinfo": "text",
         "marker": {
          "colorscale": [
           [
            0,
            "rgb(75, 41, 145)"
           ],
           [
            0.16666666666666666,
            "rgb(135, 44, 162)"
           ],
           [
            0.3333333333333333,
            "rgb(192, 54, 157)"
           ],
           [
            0.5,
            "rgb(234, 79, 136)"
           ],
           [
            0.6666666666666666,
            "rgb(250, 120, 118)"
           ],
           [
            0.8333333333333334,
            "rgb(246, 169, 122)"
           ],
           [
            1,
            "rgb(237, 217, 163)"
           ]
          ],
          "line": {
           "width": 1
          }
         },
         "name": "Saturday",
         "type": "scatter",
         "x": [
          "2021-11-27T00:00:00",
          "2021-12-04T00:00:00",
          "2021-12-11T00:00:00",
          "2021-12-18T00:00:00",
          "2021-12-25T00:00:00",
          "2022-01-01T00:00:00",
          "2022-01-08T00:00:00",
          "2022-01-15T00:00:00",
          "2022-01-22T00:00:00",
          "2022-01-29T00:00:00",
          "2022-02-05T00:00:00",
          "2022-02-12T00:00:00",
          "2022-02-19T00:00:00",
          "2022-02-26T00:00:00",
          "2022-03-05T00:00:00",
          "2022-03-12T00:00:00",
          "2022-03-19T00:00:00",
          "2022-03-26T00:00:00",
          "2022-04-02T00:00:00",
          "2022-04-09T00:00:00",
          "2022-04-16T00:00:00",
          "2022-04-23T00:00:00",
          "2022-04-30T00:00:00",
          "2022-05-07T00:00:00",
          "2022-05-14T00:00:00",
          "2022-05-21T00:00:00",
          "2022-05-28T00:00:00",
          "2022-06-04T00:00:00",
          "2022-06-11T00:00:00",
          "2022-06-18T00:00:00",
          "2022-06-25T00:00:00",
          "2022-07-02T00:00:00",
          "2022-07-09T00:00:00",
          "2022-07-16T00:00:00",
          "2022-07-23T00:00:00",
          "2022-07-30T00:00:00",
          "2022-08-06T00:00:00",
          "2022-08-13T00:00:00",
          "2022-08-20T00:00:00",
          "2022-08-27T00:00:00",
          "2022-09-03T00:00:00",
          "2022-09-10T00:00:00",
          "2022-09-24T00:00:00",
          "2022-10-08T00:00:00",
          "2022-10-15T00:00:00",
          "2022-10-22T00:00:00",
          "2022-10-29T00:00:00",
          "2022-11-05T00:00:00"
         ],
         "y": [
          null,
          null,
          null,
          null,
          null,
          null,
          null,
          null,
          null,
          397,
          392.9,
          384.5,
          377,
          359.1,
          352.5,
          364.7,
          363.3,
          366.8,
          371.9,
          378.8,
          379.2,
          380.2,
          386.3,
          398.2,
          389.3,
          388.5,
          390,
          368.1,
          360.3,
          349.8,
          345.6,
          341,
          334.3,
          338.8,
          334.2,
          332.1,
          327.2,
          355.7,
          361.7,
          361.3,
          371.3,
          375,
          372.9,
          362.9,
          372.6,
          374.1,
          378,
          371
         ]
        },
        {
         "hoverinfo": "text",
         "marker": {
          "colorscale": [
           [
            0,
            "rgb(75, 41, 145)"
           ],
           [
            0.16666666666666666,
            "rgb(135, 44, 162)"
           ],
           [
            0.3333333333333333,
            "rgb(192, 54, 157)"
           ],
           [
            0.5,
            "rgb(234, 79, 136)"
           ],
           [
            0.6666666666666666,
            "rgb(250, 120, 118)"
           ],
           [
            0.8333333333333334,
            "rgb(246, 169, 122)"
           ],
           [
            1,
            "rgb(237, 217, 163)"
           ]
          ],
          "line": {
           "width": 1
          }
         },
         "name": "Sunday",
         "type": "scatter",
         "x": [
          "2021-11-28T00:00:00",
          "2021-12-05T00:00:00",
          "2021-12-12T00:00:00",
          "2021-12-19T00:00:00",
          "2021-12-26T00:00:00",
          "2022-01-02T00:00:00",
          "2022-01-09T00:00:00",
          "2022-01-16T00:00:00",
          "2022-01-23T00:00:00",
          "2022-01-30T00:00:00",
          "2022-02-06T00:00:00",
          "2022-02-13T00:00:00",
          "2022-02-20T00:00:00",
          "2022-02-27T00:00:00",
          "2022-03-13T00:00:00",
          "2022-03-20T00:00:00",
          "2022-03-27T00:00:00",
          "2022-04-03T00:00:00",
          "2022-04-10T00:00:00",
          "2022-04-17T00:00:00",
          "2022-04-24T00:00:00",
          "2022-05-01T00:00:00",
          "2022-05-08T00:00:00",
          "2022-05-15T00:00:00",
          "2022-05-22T00:00:00",
          "2022-05-29T00:00:00",
          "2022-06-05T00:00:00",
          "2022-06-12T00:00:00",
          "2022-06-19T00:00:00",
          "2022-06-26T00:00:00",
          "2022-07-03T00:00:00",
          "2022-07-10T00:00:00",
          "2022-07-17T00:00:00",
          "2022-07-24T00:00:00",
          "2022-07-31T00:00:00",
          "2022-08-07T00:00:00",
          "2022-08-14T00:00:00",
          "2022-08-21T00:00:00",
          "2022-08-28T00:00:00",
          "2022-09-04T00:00:00",
          "2022-09-11T00:00:00",
          "2022-09-25T00:00:00",
          "2022-10-02T00:00:00",
          "2022-10-09T00:00:00",
          "2022-10-16T00:00:00",
          "2022-10-23T00:00:00",
          "2022-10-30T00:00:00",
          "2022-11-06T00:00:00"
         ],
         "y": [
          null,
          null,
          null,
          null,
          null,
          null,
          null,
          null,
          null,
          362.7,
          364.8,
          369.3,
          362.9,
          370.3,
          372.3,
          382.2,
          381.4,
          385.8,
          394.2,
          407,
          399.5,
          391.7,
          413.7,
          412,
          409.7,
          412.4,
          399.3,
          393.6,
          397.7,
          378.7,
          390.8,
          378.4,
          362.1,
          353.5,
          365.8,
          363.4,
          382.6,
          391.5,
          387.6,
          393.4,
          379.7,
          390.5,
          396.4,
          398,
          388.4,
          389.6,
          384.6,
          376.2
         ]
        },
        {
         "hoverinfo": "text",
         "marker": {
          "colorscale": [
           [
            0,
            "rgb(75, 41, 145)"
           ],
           [
            0.16666666666666666,
            "rgb(135, 44, 162)"
           ],
           [
            0.3333333333333333,
            "rgb(192, 54, 157)"
           ],
           [
            0.5,
            "rgb(234, 79, 136)"
           ],
           [
            0.6666666666666666,
            "rgb(250, 120, 118)"
           ],
           [
            0.8333333333333334,
            "rgb(246, 169, 122)"
           ],
           [
            1,
            "rgb(237, 217, 163)"
           ]
          ],
          "line": {
           "width": 1
          }
         },
         "name": "Monday",
         "type": "scatter",
         "x": [
          "2021-11-29T00:00:00",
          "2021-12-06T00:00:00",
          "2021-12-13T00:00:00",
          "2021-12-20T00:00:00",
          "2021-12-27T00:00:00",
          "2022-01-03T00:00:00",
          "2022-01-10T00:00:00",
          "2022-01-17T00:00:00",
          "2022-01-24T00:00:00",
          "2022-01-31T00:00:00",
          "2022-02-07T00:00:00",
          "2022-02-14T00:00:00",
          "2022-02-21T00:00:00",
          "2022-02-28T00:00:00",
          "2022-03-07T00:00:00",
          "2022-03-14T00:00:00",
          "2022-03-21T00:00:00",
          "2022-03-28T00:00:00",
          "2022-04-04T00:00:00",
          "2022-04-11T00:00:00",
          "2022-04-18T00:00:00",
          "2022-04-25T00:00:00",
          "2022-05-02T00:00:00",
          "2022-05-09T00:00:00",
          "2022-05-16T00:00:00",
          "2022-05-23T00:00:00",
          "2022-05-30T00:00:00",
          "2022-06-06T00:00:00",
          "2022-06-13T00:00:00",
          "2022-06-20T00:00:00",
          "2022-06-27T00:00:00",
          "2022-07-04T00:00:00",
          "2022-07-11T00:00:00",
          "2022-07-18T00:00:00",
          "2022-07-25T00:00:00",
          "2022-08-01T00:00:00",
          "2022-08-08T00:00:00",
          "2022-08-15T00:00:00",
          "2022-08-22T00:00:00",
          "2022-08-29T00:00:00",
          "2022-09-05T00:00:00",
          "2022-09-12T00:00:00",
          "2022-09-19T00:00:00",
          "2022-09-26T00:00:00",
          "2022-10-03T00:00:00",
          "2022-10-10T00:00:00",
          "2022-10-17T00:00:00",
          "2022-10-24T00:00:00",
          "2022-10-31T00:00:00",
          "2022-11-07T00:00:00"
         ],
         "y": [
          null,
          null,
          null,
          null,
          null,
          null,
          null,
          null,
          null,
          410.8,
          402.4,
          402.2,
          404.8,
          397.5,
          400.1,
          395.7,
          407.9,
          412.9,
          415.4,
          416.2,
          416.8,
          420.9,
          422.4,
          423,
          418.9,
          426,
          414.1,
          408.3,
          400.6,
          390.5,
          374.2,
          374.8,
          372.8,
          376.8,
          371,
          366.6,
          360.5,
          369.5,
          381.7,
          384.4,
          383.8,
          386.7,
          397.2,
          390.4,
          390.7,
          385,
          394.8,
          390.7,
          390.1,
          404.7
         ]
        }
       ],
       "layout": {
        "autosize": true,
        "template": {
         "data": {
          "bar": [
           {
            "error_x": {
             "color": "#f2f5fa"
            },
            "error_y": {
             "color": "#f2f5fa"
            },
            "marker": {
             "line": {
              "color": "rgb(17,17,17)",
              "width": 0.5
             },
             "pattern": {
              "fillmode": "overlay",
              "size": 10,
              "solidity": 0.2
             }
            },
            "type": "bar"
           }
          ],
          "barpolar": [
           {
            "marker": {
             "line": {
              "color": "rgb(17,17,17)",
              "width": 0.5
             },
             "pattern": {
              "fillmode": "overlay",
              "size": 10,
              "solidity": 0.2
             }
            },
            "type": "barpolar"
           }
          ],
          "carpet": [
           {
            "aaxis": {
             "endlinecolor": "#A2B1C6",
             "gridcolor": "#506784",
             "linecolor": "#506784",
             "minorgridcolor": "#506784",
             "startlinecolor": "#A2B1C6"
            },
            "baxis": {
             "endlinecolor": "#A2B1C6",
             "gridcolor": "#506784",
             "linecolor": "#506784",
             "minorgridcolor": "#506784",
             "startlinecolor": "#A2B1C6"
            },
            "type": "carpet"
           }
          ],
          "choropleth": [
           {
            "colorbar": {
             "outlinewidth": 0,
             "ticks": ""
            },
            "type": "choropleth"
           }
          ],
          "contour": [
           {
            "colorbar": {
             "outlinewidth": 0,
             "ticks": ""
            },
            "colorscale": [
             [
              0,
              "#0d0887"
             ],
             [
              0.1111111111111111,
              "#46039f"
             ],
             [
              0.2222222222222222,
              "#7201a8"
             ],
             [
              0.3333333333333333,
              "#9c179e"
             ],
             [
              0.4444444444444444,
              "#bd3786"
             ],
             [
              0.5555555555555556,
              "#d8576b"
             ],
             [
              0.6666666666666666,
              "#ed7953"
             ],
             [
              0.7777777777777778,
              "#fb9f3a"
             ],
             [
              0.8888888888888888,
              "#fdca26"
             ],
             [
              1,
              "#f0f921"
             ]
            ],
            "type": "contour"
           }
          ],
          "contourcarpet": [
           {
            "colorbar": {
             "outlinewidth": 0,
             "ticks": ""
            },
            "type": "contourcarpet"
           }
          ],
          "heatmap": [
           {
            "colorbar": {
             "outlinewidth": 0,
             "ticks": ""
            },
            "colorscale": [
             [
              0,
              "#0d0887"
             ],
             [
              0.1111111111111111,
              "#46039f"
             ],
             [
              0.2222222222222222,
              "#7201a8"
             ],
             [
              0.3333333333333333,
              "#9c179e"
             ],
             [
              0.4444444444444444,
              "#bd3786"
             ],
             [
              0.5555555555555556,
              "#d8576b"
             ],
             [
              0.6666666666666666,
              "#ed7953"
             ],
             [
              0.7777777777777778,
              "#fb9f3a"
             ],
             [
              0.8888888888888888,
              "#fdca26"
             ],
             [
              1,
              "#f0f921"
             ]
            ],
            "type": "heatmap"
           }
          ],
          "heatmapgl": [
           {
            "colorbar": {
             "outlinewidth": 0,
             "ticks": ""
            },
            "colorscale": [
             [
              0,
              "#0d0887"
             ],
             [
              0.1111111111111111,
              "#46039f"
             ],
             [
              0.2222222222222222,
              "#7201a8"
             ],
             [
              0.3333333333333333,
              "#9c179e"
             ],
             [
              0.4444444444444444,
              "#bd3786"
             ],
             [
              0.5555555555555556,
              "#d8576b"
             ],
             [
              0.6666666666666666,
              "#ed7953"
             ],
             [
              0.7777777777777778,
              "#fb9f3a"
             ],
             [
              0.8888888888888888,
              "#fdca26"
             ],
             [
              1,
              "#f0f921"
             ]
            ],
            "type": "heatmapgl"
           }
          ],
          "histogram": [
           {
            "marker": {
             "pattern": {
              "fillmode": "overlay",
              "size": 10,
              "solidity": 0.2
             }
            },
            "type": "histogram"
           }
          ],
          "histogram2d": [
           {
            "colorbar": {
             "outlinewidth": 0,
             "ticks": ""
            },
            "colorscale": [
             [
              0,
              "#0d0887"
             ],
             [
              0.1111111111111111,
              "#46039f"
             ],
             [
              0.2222222222222222,
              "#7201a8"
             ],
             [
              0.3333333333333333,
              "#9c179e"
             ],
             [
              0.4444444444444444,
              "#bd3786"
             ],
             [
              0.5555555555555556,
              "#d8576b"
             ],
             [
              0.6666666666666666,
              "#ed7953"
             ],
             [
              0.7777777777777778,
              "#fb9f3a"
             ],
             [
              0.8888888888888888,
              "#fdca26"
             ],
             [
              1,
              "#f0f921"
             ]
            ],
            "type": "histogram2d"
           }
          ],
          "histogram2dcontour": [
           {
            "colorbar": {
             "outlinewidth": 0,
             "ticks": ""
            },
            "colorscale": [
             [
              0,
              "#0d0887"
             ],
             [
              0.1111111111111111,
              "#46039f"
             ],
             [
              0.2222222222222222,
              "#7201a8"
             ],
             [
              0.3333333333333333,
              "#9c179e"
             ],
             [
              0.4444444444444444,
              "#bd3786"
             ],
             [
              0.5555555555555556,
              "#d8576b"
             ],
             [
              0.6666666666666666,
              "#ed7953"
             ],
             [
              0.7777777777777778,
              "#fb9f3a"
             ],
             [
              0.8888888888888888,
              "#fdca26"
             ],
             [
              1,
              "#f0f921"
             ]
            ],
            "type": "histogram2dcontour"
           }
          ],
          "mesh3d": [
           {
            "colorbar": {
             "outlinewidth": 0,
             "ticks": ""
            },
            "type": "mesh3d"
           }
          ],
          "parcoords": [
           {
            "line": {
             "colorbar": {
              "outlinewidth": 0,
              "ticks": ""
             }
            },
            "type": "parcoords"
           }
          ],
          "pie": [
           {
            "automargin": true,
            "type": "pie"
           }
          ],
          "scatter": [
           {
            "marker": {
             "line": {
              "color": "#283442"
             }
            },
            "type": "scatter"
           }
          ],
          "scatter3d": [
           {
            "line": {
             "colorbar": {
              "outlinewidth": 0,
              "ticks": ""
             }
            },
            "marker": {
             "colorbar": {
              "outlinewidth": 0,
              "ticks": ""
             }
            },
            "type": "scatter3d"
           }
          ],
          "scattercarpet": [
           {
            "marker": {
             "colorbar": {
              "outlinewidth": 0,
              "ticks": ""
             }
            },
            "type": "scattercarpet"
           }
          ],
          "scattergeo": [
           {
            "marker": {
             "colorbar": {
              "outlinewidth": 0,
              "ticks": ""
             }
            },
            "type": "scattergeo"
           }
          ],
          "scattergl": [
           {
            "marker": {
             "line": {
              "color": "#283442"
             }
            },
            "type": "scattergl"
           }
          ],
          "scattermapbox": [
           {
            "marker": {
             "colorbar": {
              "outlinewidth": 0,
              "ticks": ""
             }
            },
            "type": "scattermapbox"
           }
          ],
          "scatterpolar": [
           {
            "marker": {
             "colorbar": {
              "outlinewidth": 0,
              "ticks": ""
             }
            },
            "type": "scatterpolar"
           }
          ],
          "scatterpolargl": [
           {
            "marker": {
             "colorbar": {
              "outlinewidth": 0,
              "ticks": ""
             }
            },
            "type": "scatterpolargl"
           }
          ],
          "scatterternary": [
           {
            "marker": {
             "colorbar": {
              "outlinewidth": 0,
              "ticks": ""
             }
            },
            "type": "scatterternary"
           }
          ],
          "surface": [
           {
            "colorbar": {
             "outlinewidth": 0,
             "ticks": ""
            },
            "colorscale": [
             [
              0,
              "#0d0887"
             ],
             [
              0.1111111111111111,
              "#46039f"
             ],
             [
              0.2222222222222222,
              "#7201a8"
             ],
             [
              0.3333333333333333,
              "#9c179e"
             ],
             [
              0.4444444444444444,
              "#bd3786"
             ],
             [
              0.5555555555555556,
              "#d8576b"
             ],
             [
              0.6666666666666666,
              "#ed7953"
             ],
             [
              0.7777777777777778,
              "#fb9f3a"
             ],
             [
              0.8888888888888888,
              "#fdca26"
             ],
             [
              1,
              "#f0f921"
             ]
            ],
            "type": "surface"
           }
          ],
          "table": [
           {
            "cells": {
             "fill": {
              "color": "#506784"
             },
             "line": {
              "color": "rgb(17,17,17)"
             }
            },
            "header": {
             "fill": {
              "color": "#2a3f5f"
             },
             "line": {
              "color": "rgb(17,17,17)"
             }
            },
            "type": "table"
           }
          ]
         },
         "layout": {
          "annotationdefaults": {
           "arrowcolor": "#f2f5fa",
           "arrowhead": 0,
           "arrowwidth": 1
          },
          "autotypenumbers": "strict",
          "coloraxis": {
           "colorbar": {
            "outlinewidth": 0,
            "ticks": ""
           }
          },
          "colorscale": {
           "diverging": [
            [
             0,
             "#8e0152"
            ],
            [
             0.1,
             "#c51b7d"
            ],
            [
             0.2,
             "#de77ae"
            ],
            [
             0.3,
             "#f1b6da"
            ],
            [
             0.4,
             "#fde0ef"
            ],
            [
             0.5,
             "#f7f7f7"
            ],
            [
             0.6,
             "#e6f5d0"
            ],
            [
             0.7,
             "#b8e186"
            ],
            [
             0.8,
             "#7fbc41"
            ],
            [
             0.9,
             "#4d9221"
            ],
            [
             1,
             "#276419"
            ]
           ],
           "sequential": [
            [
             0,
             "#0d0887"
            ],
            [
             0.1111111111111111,
             "#46039f"
            ],
            [
             0.2222222222222222,
             "#7201a8"
            ],
            [
             0.3333333333333333,
             "#9c179e"
            ],
            [
             0.4444444444444444,
             "#bd3786"
            ],
            [
             0.5555555555555556,
             "#d8576b"
            ],
            [
             0.6666666666666666,
             "#ed7953"
            ],
            [
             0.7777777777777778,
             "#fb9f3a"
            ],
            [
             0.8888888888888888,
             "#fdca26"
            ],
            [
             1,
             "#f0f921"
            ]
           ],
           "sequentialminus": [
            [
             0,
             "#0d0887"
            ],
            [
             0.1111111111111111,
             "#46039f"
            ],
            [
             0.2222222222222222,
             "#7201a8"
            ],
            [
             0.3333333333333333,
             "#9c179e"
            ],
            [
             0.4444444444444444,
             "#bd3786"
            ],
            [
             0.5555555555555556,
             "#d8576b"
            ],
            [
             0.6666666666666666,
             "#ed7953"
            ],
            [
             0.7777777777777778,
             "#fb9f3a"
            ],
            [
             0.8888888888888888,
             "#fdca26"
            ],
            [
             1,
             "#f0f921"
            ]
           ]
          },
          "colorway": [
           "#636efa",
           "#EF553B",
           "#00cc96",
           "#ab63fa",
           "#FFA15A",
           "#19d3f3",
           "#FF6692",
           "#B6E880",
           "#FF97FF",
           "#FECB52"
          ],
          "font": {
           "color": "#f2f5fa"
          },
          "geo": {
           "bgcolor": "rgb(17,17,17)",
           "lakecolor": "rgb(17,17,17)",
           "landcolor": "rgb(17,17,17)",
           "showlakes": true,
           "showland": true,
           "subunitcolor": "#506784"
          },
          "hoverlabel": {
           "align": "left"
          },
          "hovermode": "closest",
          "mapbox": {
           "style": "dark"
          },
          "paper_bgcolor": "rgb(17,17,17)",
          "plot_bgcolor": "rgb(17,17,17)",
          "polar": {
           "angularaxis": {
            "gridcolor": "#506784",
            "linecolor": "#506784",
            "ticks": ""
           },
           "bgcolor": "rgb(17,17,17)",
           "radialaxis": {
            "gridcolor": "#506784",
            "linecolor": "#506784",
            "ticks": ""
           }
          },
          "scene": {
           "xaxis": {
            "backgroundcolor": "rgb(17,17,17)",
            "gridcolor": "#506784",
            "gridwidth": 2,
            "linecolor": "#506784",
            "showbackground": true,
            "ticks": "",
            "zerolinecolor": "#C8D4E3"
           },
           "yaxis": {
            "backgroundcolor": "rgb(17,17,17)",
            "gridcolor": "#506784",
            "gridwidth": 2,
            "linecolor": "#506784",
            "showbackground": true,
            "ticks": "",
            "zerolinecolor": "#C8D4E3"
           },
           "zaxis": {
            "backgroundcolor": "rgb(17,17,17)",
            "gridcolor": "#506784",
            "gridwidth": 2,
            "linecolor": "#506784",
            "showbackground": true,
            "ticks": "",
            "zerolinecolor": "#C8D4E3"
           }
          },
          "shapedefaults": {
           "line": {
            "color": "#f2f5fa"
           }
          },
          "sliderdefaults": {
           "bgcolor": "#C8D4E3",
           "bordercolor": "rgb(17,17,17)",
           "borderwidth": 1,
           "tickwidth": 0
          },
          "ternary": {
           "aaxis": {
            "gridcolor": "#506784",
            "linecolor": "#506784",
            "ticks": ""
           },
           "baxis": {
            "gridcolor": "#506784",
            "linecolor": "#506784",
            "ticks": ""
           },
           "bgcolor": "rgb(17,17,17)",
           "caxis": {
            "gridcolor": "#506784",
            "linecolor": "#506784",
            "ticks": ""
           }
          },
          "title": {
           "x": 0.05
          },
          "updatemenudefaults": {
           "bgcolor": "#506784",
           "borderwidth": 0
          },
          "xaxis": {
           "automargin": true,
           "gridcolor": "#283442",
           "linecolor": "#506784",
           "ticks": "",
           "title": {
            "standoff": 15
           },
           "zerolinecolor": "#283442",
           "zerolinewidth": 2
          },
          "yaxis": {
           "automargin": true,
           "gridcolor": "#283442",
           "linecolor": "#506784",
           "ticks": "",
           "title": {
            "standoff": 15
           },
           "zerolinecolor": "#283442",
           "zerolinewidth": 2
          }
         }
        },
        "title": {
         "text": "Total Sleep Time Mins by Weekday, Rolling 10 Day"
        },
        "xaxis": {
         "autorange": true,
         "range": [
          "2021-11-23",
          "2022-11-11"
         ],
         "title": {
          "text": "Date"
         },
         "type": "date"
        },
        "yaxis": {
         "autorange": true,
         "range": [
          321.3277777777778,
          438.7722222222222
         ],
         "title": {
          "text": "Total Time"
         },
         "type": "linear"
        }
       }
      },
      "image/png": "[encoded data removed]",
      "text/html": [
       "<div>                            <div id=\"92a43be5-a071-4206-8deb-c7afbb632695\" class=\"plotly-graph-div\" style=\"height:525px; width:100%;\"></div>            <script type=\"text/javascript\">                require([\"plotly\"], function(Plotly) {                    window.PLOTLYENV=window.PLOTLYENV || {};                                    if (document.getElementById(\"92a43be5-a071-4206-8deb-c7afbb632695\")) {                    Plotly.newPlot(                        \"92a43be5-a071-4206-8deb-c7afbb632695\",                        [{\"hoverinfo\":\"text\",\"marker\":{\"colorscale\":[[0.0,\"rgb(75, 41, 145)\"],[0.16666666666666666,\"rgb(135, 44, 162)\"],[0.3333333333333333,\"rgb(192, 54, 157)\"],[0.5,\"rgb(234, 79, 136)\"],[0.6666666666666666,\"rgb(250, 120, 118)\"],[0.8333333333333334,\"rgb(246, 169, 122)\"],[1.0,\"rgb(237, 217, 163)\"]],\"line\":{\"width\":1}},\"name\":\"Tuesday\",\"x\":[\"2021-11-23T00:00:00\",\"2021-11-30T00:00:00\",\"2021-12-07T00:00:00\",\"2021-12-14T00:00:00\",\"2021-12-21T00:00:00\",\"2021-12-28T00:00:00\",\"2022-01-04T00:00:00\",\"2022-01-11T00:00:00\",\"2022-01-18T00:00:00\",\"2022-01-25T00:00:00\",\"2022-02-01T00:00:00\",\"2022-02-08T00:00:00\",\"2022-02-15T00:00:00\",\"2022-02-22T00:00:00\",\"2022-03-01T00:00:00\",\"2022-03-08T00:00:00\",\"2022-03-15T00:00:00\",\"2022-03-22T00:00:00\",\"2022-03-29T00:00:00\",\"2022-04-05T00:00:00\",\"2022-04-12T00:00:00\",\"2022-04-19T00:00:00\",\"2022-04-26T00:00:00\",\"2022-05-03T00:00:00\",\"2022-05-10T00:00:00\",\"2022-05-17T00:00:00\",\"2022-05-24T00:00:00\",\"2022-05-31T00:00:00\",\"2022-06-07T00:00:00\",\"2022-06-14T00:00:00\",\"2022-06-28T00:00:00\",\"2022-07-05T00:00:00\",\"2022-07-12T00:00:00\",\"2022-07-19T00:00:00\",\"2022-07-26T00:00:00\",\"2022-08-02T00:00:00\",\"2022-08-09T00:00:00\",\"2022-08-16T00:00:00\",\"2022-08-23T00:00:00\",\"2022-08-30T00:00:00\",\"2022-09-06T00:00:00\",\"2022-09-13T00:00:00\",\"2022-09-20T00:00:00\",\"2022-09-27T00:00:00\",\"2022-10-04T00:00:00\",\"2022-10-11T00:00:00\",\"2022-10-18T00:00:00\",\"2022-10-25T00:00:00\",\"2022-11-01T00:00:00\",\"2022-11-08T00:00:00\"],\"y\":[null,null,null,null,null,null,null,null,null,401.2,413.5,407.5,418.0,404.3,392.5,387.3,386.6,390.0,388.0,388.7,385.8,385.5,378.1,385.3,394.0,403.0,396.8,390.8,380.2,377.1,376.4,375.7,374.8,373.9,376.5,373.0,368.9,373.3,380.0,379.5,381.2,382.8,376.3,390.2,388.6,400.4,404.2,410.9,415.3,415.7],\"type\":\"scatter\"},{\"hoverinfo\":\"text\",\"marker\":{\"colorscale\":[[0.0,\"rgb(75, 41, 145)\"],[0.16666666666666666,\"rgb(135, 44, 162)\"],[0.3333333333333333,\"rgb(192, 54, 157)\"],[0.5,\"rgb(234, 79, 136)\"],[0.6666666666666666,\"rgb(250, 120, 118)\"],[0.8333333333333334,\"rgb(246, 169, 122)\"],[1.0,\"rgb(237, 217, 163)\"]],\"line\":{\"width\":1}},\"name\":\"Wednesday\",\"x\":[\"2021-11-24T00:00:00\",\"2021-12-01T00:00:00\",\"2021-12-08T00:00:00\",\"2021-12-15T00:00:00\",\"2021-12-22T00:00:00\",\"2021-12-29T00:00:00\",\"2022-01-05T00:00:00\",\"2022-01-12T00:00:00\",\"2022-01-19T00:00:00\",\"2022-01-26T00:00:00\",\"2022-02-02T00:00:00\",\"2022-02-09T00:00:00\",\"2022-02-16T00:00:00\",\"2022-02-23T00:00:00\",\"2022-03-02T00:00:00\",\"2022-03-09T00:00:00\",\"2022-03-16T00:00:00\",\"2022-03-23T00:00:00\",\"2022-03-30T00:00:00\",\"2022-04-06T00:00:00\",\"2022-04-13T00:00:00\",\"2022-04-20T00:00:00\",\"2022-04-27T00:00:00\",\"2022-05-04T00:00:00\",\"2022-05-11T00:00:00\",\"2022-05-18T00:00:00\",\"2022-05-25T00:00:00\",\"2022-06-01T00:00:00\",\"2022-06-08T00:00:00\",\"2022-06-15T00:00:00\",\"2022-06-22T00:00:00\",\"2022-06-29T00:00:00\",\"2022-07-06T00:00:00\",\"2022-07-13T00:00:00\",\"2022-07-20T00:00:00\",\"2022-07-27T00:00:00\",\"2022-08-03T00:00:00\",\"2022-08-10T00:00:00\",\"2022-08-17T00:00:00\",\"2022-08-24T00:00:00\",\"2022-08-31T00:00:00\",\"2022-09-07T00:00:00\",\"2022-09-14T00:00:00\",\"2022-09-21T00:00:00\",\"2022-09-28T00:00:00\",\"2022-10-05T00:00:00\",\"2022-10-12T00:00:00\",\"2022-10-19T00:00:00\",\"2022-10-26T00:00:00\",\"2022-11-02T00:00:00\",\"2022-11-09T00:00:00\"],\"y\":[null,null,null,null,null,null,null,null,null,432.9,415.8,411.4,403.8,401.7,385.5,372.6,364.9,355.6,354.2,360.2,368.5,371.2,377.7,374.5,380.6,391.3,392.9,398.2,396.8,395.9,395.0,396.1,398.6,395.5,394.0,395.0,397.2,400.0,403.9,404.7,411.5,410.2,409.5,396.2,392.0,394.2,381.1,380.7,369.8,373.4,370.9],\"type\":\"scatter\"},{\"hoverinfo\":\"text\",\"marker\":{\"colorscale\":[[0.0,\"rgb(75, 41, 145)\"],[0.16666666666666666,\"rgb(135, 44, 162)\"],[0.3333333333333333,\"rgb(192, 54, 157)\"],[0.5,\"rgb(234, 79, 136)\"],[0.6666666666666666,\"rgb(250, 120, 118)\"],[0.8333333333333334,\"rgb(246, 169, 122)\"],[1.0,\"rgb(237, 217, 163)\"]],\"line\":{\"width\":1}},\"name\":\"Thursday\",\"x\":[\"2021-11-25T00:00:00\",\"2021-12-02T00:00:00\",\"2021-12-09T00:00:00\",\"2021-12-16T00:00:00\",\"2021-12-23T00:00:00\",\"2021-12-30T00:00:00\",\"2022-01-06T00:00:00\",\"2022-01-13T00:00:00\",\"2022-01-20T00:00:00\",\"2022-01-27T00:00:00\",\"2022-02-03T00:00:00\",\"2022-02-10T00:00:00\",\"2022-02-17T00:00:00\",\"2022-02-24T00:00:00\",\"2022-03-03T00:00:00\",\"2022-03-10T00:00:00\",\"2022-03-17T00:00:00\",\"2022-03-24T00:00:00\",\"2022-03-31T00:00:00\",\"2022-04-07T00:00:00\",\"2022-04-14T00:00:00\",\"2022-04-21T00:00:00\",\"2022-04-28T00:00:00\",\"2022-05-05T00:00:00\",\"2022-05-12T00:00:00\",\"2022-05-19T00:00:00\",\"2022-05-26T00:00:00\",\"2022-06-02T00:00:00\",\"2022-06-09T00:00:00\",\"2022-06-16T00:00:00\",\"2022-06-23T00:00:00\",\"2022-06-30T00:00:00\",\"2022-07-07T00:00:00\",\"2022-07-14T00:00:00\",\"2022-07-21T00:00:00\",\"2022-07-28T00:00:00\",\"2022-08-04T00:00:00\",\"2022-08-11T00:00:00\",\"2022-08-18T00:00:00\",\"2022-08-25T00:00:00\",\"2022-09-01T00:00:00\",\"2022-09-08T00:00:00\",\"2022-09-15T00:00:00\",\"2022-09-22T00:00:00\",\"2022-09-29T00:00:00\",\"2022-10-06T00:00:00\",\"2022-10-13T00:00:00\",\"2022-10-20T00:00:00\",\"2022-10-27T00:00:00\",\"2022-11-03T00:00:00\",\"2022-11-10T00:00:00\"],\"y\":[null,null,null,null,null,null,null,null,null,397.1,401.9,401.9,404.4,405.4,409.0,424.1,421.4,420.6,419.4,417.3,415.8,416.3,411.2,408.6,402.1,394.5,395.3,395.4,395.0,394.6,376.8,371.7,372.9,372.8,373.7,361.6,357.9,360.6,357.1,359.4,372.4,380.7,379.7,381.8,385.0,396.8,398.6,393.1,398.0,399.8,396.1],\"type\":\"scatter\"},{\"hoverinfo\":\"text\",\"marker\":{\"colorscale\":[[0.0,\"rgb(75, 41, 145)\"],[0.16666666666666666,\"rgb(135, 44, 162)\"],[0.3333333333333333,\"rgb(192, 54, 157)\"],[0.5,\"rgb(234, 79, 136)\"],[0.6666666666666666,\"rgb(250, 120, 118)\"],[0.8333333333333334,\"rgb(246, 169, 122)\"],[1.0,\"rgb(237, 217, 163)\"]],\"line\":{\"width\":1}},\"name\":\"Friday\",\"x\":[\"2021-11-26T00:00:00\",\"2021-12-03T00:00:00\",\"2021-12-10T00:00:00\",\"2021-12-17T00:00:00\",\"2021-12-24T00:00:00\",\"2021-12-31T00:00:00\",\"2022-01-07T00:00:00\",\"2022-01-14T00:00:00\",\"2022-01-21T00:00:00\",\"2022-01-28T00:00:00\",\"2022-02-04T00:00:00\",\"2022-02-11T00:00:00\",\"2022-02-18T00:00:00\",\"2022-02-25T00:00:00\",\"2022-03-04T00:00:00\",\"2022-03-11T00:00:00\",\"2022-03-18T00:00:00\",\"2022-03-25T00:00:00\",\"2022-04-01T00:00:00\",\"2022-04-08T00:00:00\",\"2022-04-15T00:00:00\",\"2022-04-22T00:00:00\",\"2022-04-29T00:00:00\",\"2022-05-06T00:00:00\",\"2022-05-13T00:00:00\",\"2022-05-20T00:00:00\",\"2022-05-27T00:00:00\",\"2022-06-03T00:00:00\",\"2022-06-10T00:00:00\",\"2022-06-17T00:00:00\",\"2022-06-24T00:00:00\",\"2022-07-01T00:00:00\",\"2022-07-08T00:00:00\",\"2022-07-15T00:00:00\",\"2022-07-22T00:00:00\",\"2022-07-29T00:00:00\",\"2022-08-05T00:00:00\",\"2022-08-12T00:00:00\",\"2022-08-19T00:00:00\",\"2022-08-26T00:00:00\",\"2022-09-02T00:00:00\",\"2022-09-09T00:00:00\",\"2022-09-16T00:00:00\",\"2022-09-23T00:00:00\",\"2022-09-30T00:00:00\",\"2022-10-07T00:00:00\",\"2022-10-14T00:00:00\",\"2022-10-21T00:00:00\",\"2022-10-28T00:00:00\",\"2022-11-04T00:00:00\",\"2022-11-11T00:00:00\"],\"y\":[null,null,null,null,null,null,null,null,null,405.0,403.1,408.9,392.8,391.2,368.0,371.7,358.1,362.4,360.8,370.5,368.2,360.4,365.5,360.6,373.5,371.1,382.0,372.3,372.2,364.6,368.3,366.4,366.6,362.8,367.9,373.3,368.9,368.2,378.0,377.6,368.0,368.7,354.6,358.7,350.7,327.7,333.7,341.9,343.0,352.0,377.4],\"type\":\"scatter\"},{\"hoverinfo\":\"text\",\"marker\":{\"colorscale\":[[0.0,\"rgb(75, 41, 145)\"],[0.16666666666666666,\"rgb(135, 44, 162)\"],[0.3333333333333333,\"rgb(192, 54, 157)\"],[0.5,\"rgb(234, 79, 136)\"],[0.6666666666666666,\"rgb(250, 120, 118)\"],[0.8333333333333334,\"rgb(246, 169, 122)\"],[1.0,\"rgb(237, 217, 163)\"]],\"line\":{\"width\":1}},\"name\":\"Saturday\",\"x\":[\"2021-11-27T00:00:00\",\"2021-12-04T00:00:00\",\"2021-12-11T00:00:00\",\"2021-12-18T00:00:00\",\"2021-12-25T00:00:00\",\"2022-01-01T00:00:00\",\"2022-01-08T00:00:00\",\"2022-01-15T00:00:00\",\"2022-01-22T00:00:00\",\"2022-01-29T00:00:00\",\"2022-02-05T00:00:00\",\"2022-02-12T00:00:00\",\"2022-02-19T00:00:00\",\"2022-02-26T00:00:00\",\"2022-03-05T00:00:00\",\"2022-03-12T00:00:00\",\"2022-03-19T00:00:00\",\"2022-03-26T00:00:00\",\"2022-04-02T00:00:00\",\"2022-04-09T00:00:00\",\"2022-04-16T00:00:00\",\"2022-04-23T00:00:00\",\"2022-04-30T00:00:00\",\"2022-05-07T00:00:00\",\"2022-05-14T00:00:00\",\"2022-05-21T00:00:00\",\"2022-05-28T00:00:00\",\"2022-06-04T00:00:00\",\"2022-06-11T00:00:00\",\"2022-06-18T00:00:00\",\"2022-06-25T00:00:00\",\"2022-07-02T00:00:00\",\"2022-07-09T00:00:00\",\"2022-07-16T00:00:00\",\"2022-07-23T00:00:00\",\"2022-07-30T00:00:00\",\"2022-08-06T00:00:00\",\"2022-08-13T00:00:00\",\"2022-08-20T00:00:00\",\"2022-08-27T00:00:00\",\"2022-09-03T00:00:00\",\"2022-09-10T00:00:00\",\"2022-09-24T00:00:00\",\"2022-10-08T00:00:00\",\"2022-10-15T00:00:00\",\"2022-10-22T00:00:00\",\"2022-10-29T00:00:00\",\"2022-11-05T00:00:00\"],\"y\":[null,null,null,null,null,null,null,null,null,397.0,392.9,384.5,377.0,359.1,352.5,364.7,363.3,366.8,371.9,378.8,379.2,380.2,386.3,398.2,389.3,388.5,390.0,368.1,360.3,349.8,345.6,341.0,334.3,338.8,334.2,332.1,327.2,355.7,361.7,361.3,371.3,375.0,372.9,362.9,372.6,374.1,378.0,371.0],\"type\":\"scatter\"},{\"hoverinfo\":\"text\",\"marker\":{\"colorscale\":[[0.0,\"rgb(75, 41, 145)\"],[0.16666666666666666,\"rgb(135, 44, 162)\"],[0.3333333333333333,\"rgb(192, 54, 157)\"],[0.5,\"rgb(234, 79, 136)\"],[0.6666666666666666,\"rgb(250, 120, 118)\"],[0.8333333333333334,\"rgb(246, 169, 122)\"],[1.0,\"rgb(237, 217, 163)\"]],\"line\":{\"width\":1}},\"name\":\"Sunday\",\"x\":[\"2021-11-28T00:00:00\",\"2021-12-05T00:00:00\",\"2021-12-12T00:00:00\",\"2021-12-19T00:00:00\",\"2021-12-26T00:00:00\",\"2022-01-02T00:00:00\",\"2022-01-09T00:00:00\",\"2022-01-16T00:00:00\",\"2022-01-23T00:00:00\",\"2022-01-30T00:00:00\",\"2022-02-06T00:00:00\",\"2022-02-13T00:00:00\",\"2022-02-20T00:00:00\",\"2022-02-27T00:00:00\",\"2022-03-13T00:00:00\",\"2022-03-20T00:00:00\",\"2022-03-27T00:00:00\",\"2022-04-03T00:00:00\",\"2022-04-10T00:00:00\",\"2022-04-17T00:00:00\",\"2022-04-24T00:00:00\",\"2022-05-01T00:00:00\",\"2022-05-08T00:00:00\",\"2022-05-15T00:00:00\",\"2022-05-22T00:00:00\",\"2022-05-29T00:00:00\",\"2022-06-05T00:00:00\",\"2022-06-12T00:00:00\",\"2022-06-19T00:00:00\",\"2022-06-26T00:00:00\",\"2022-07-03T00:00:00\",\"2022-07-10T00:00:00\",\"2022-07-17T00:00:00\",\"2022-07-24T00:00:00\",\"2022-07-31T00:00:00\",\"2022-08-07T00:00:00\",\"2022-08-14T00:00:00\",\"2022-08-21T00:00:00\",\"2022-08-28T00:00:00\",\"2022-09-04T00:00:00\",\"2022-09-11T00:00:00\",\"2022-09-25T00:00:00\",\"2022-10-02T00:00:00\",\"2022-10-09T00:00:00\",\"2022-10-16T00:00:00\",\"2022-10-23T00:00:00\",\"2022-10-30T00:00:00\",\"2022-11-06T00:00:00\"],\"y\":[null,null,null,null,null,null,null,null,null,362.7,364.8,369.3,362.9,370.3,372.3,382.2,381.4,385.8,394.2,407.0,399.5,391.7,413.7,412.0,409.7,412.4,399.3,393.6,397.7,378.7,390.8,378.4,362.1,353.5,365.8,363.4,382.6,391.5,387.6,393.4,379.7,390.5,396.4,398.0,388.4,389.6,384.6,376.2],\"type\":\"scatter\"},{\"hoverinfo\":\"text\",\"marker\":{\"colorscale\":[[0.0,\"rgb(75, 41, 145)\"],[0.16666666666666666,\"rgb(135, 44, 162)\"],[0.3333333333333333,\"rgb(192, 54, 157)\"],[0.5,\"rgb(234, 79, 136)\"],[0.6666666666666666,\"rgb(250, 120, 118)\"],[0.8333333333333334,\"rgb(246, 169, 122)\"],[1.0,\"rgb(237, 217, 163)\"]],\"line\":{\"width\":1}},\"name\":\"Monday\",\"x\":[\"2021-11-29T00:00:00\",\"2021-12-06T00:00:00\",\"2021-12-13T00:00:00\",\"2021-12-20T00:00:00\",\"2021-12-27T00:00:00\",\"2022-01-03T00:00:00\",\"2022-01-10T00:00:00\",\"2022-01-17T00:00:00\",\"2022-01-24T00:00:00\",\"2022-01-31T00:00:00\",\"2022-02-07T00:00:00\",\"2022-02-14T00:00:00\",\"2022-02-21T00:00:00\",\"2022-02-28T00:00:00\",\"2022-03-07T00:00:00\",\"2022-03-14T00:00:00\",\"2022-03-21T00:00:00\",\"2022-03-28T00:00:00\",\"2022-04-04T00:00:00\",\"2022-04-11T00:00:00\",\"2022-04-18T00:00:00\",\"2022-04-25T00:00:00\",\"2022-05-02T00:00:00\",\"2022-05-09T00:00:00\",\"2022-05-16T00:00:00\",\"2022-05-23T00:00:00\",\"2022-05-30T00:00:00\",\"2022-06-06T00:00:00\",\"2022-06-13T00:00:00\",\"2022-06-20T00:00:00\",\"2022-06-27T00:00:00\",\"2022-07-04T00:00:00\",\"2022-07-11T00:00:00\",\"2022-07-18T00:00:00\",\"2022-07-25T00:00:00\",\"2022-08-01T00:00:00\",\"2022-08-08T00:00:00\",\"2022-08-15T00:00:00\",\"2022-08-22T00:00:00\",\"2022-08-29T00:00:00\",\"2022-09-05T00:00:00\",\"2022-09-12T00:00:00\",\"2022-09-19T00:00:00\",\"2022-09-26T00:00:00\",\"2022-10-03T00:00:00\",\"2022-10-10T00:00:00\",\"2022-10-17T00:00:00\",\"2022-10-24T00:00:00\",\"2022-10-31T00:00:00\",\"2022-11-07T00:00:00\"],\"y\":[null,null,null,null,null,null,null,null,null,410.8,402.4,402.2,404.8,397.5,400.1,395.7,407.9,412.9,415.4,416.2,416.8,420.9,422.4,423.0,418.9,426.0,414.1,408.3,400.6,390.5,374.2,374.8,372.8,376.8,371.0,366.6,360.5,369.5,381.7,384.4,383.8,386.7,397.2,390.4,390.7,385.0,394.8,390.7,390.1,404.7],\"type\":\"scatter\"}],                        {\"template\":{\"data\":{\"barpolar\":[{\"marker\":{\"line\":{\"color\":\"rgb(17,17,17)\",\"width\":0.5},\"pattern\":{\"fillmode\":\"overlay\",\"size\":10,\"solidity\":0.2}},\"type\":\"barpolar\"}],\"bar\":[{\"error_x\":{\"color\":\"#f2f5fa\"},\"error_y\":{\"color\":\"#f2f5fa\"},\"marker\":{\"line\":{\"color\":\"rgb(17,17,17)\",\"width\":0.5},\"pattern\":{\"fillmode\":\"overlay\",\"size\":10,\"solidity\":0.2}},\"type\":\"bar\"}],\"carpet\":[{\"aaxis\":{\"endlinecolor\":\"#A2B1C6\",\"gridcolor\":\"#506784\",\"linecolor\":\"#506784\",\"minorgridcolor\":\"#506784\",\"startlinecolor\":\"#A2B1C6\"},\"baxis\":{\"endlinecolor\":\"#A2B1C6\",\"gridcolor\":\"#506784\",\"linecolor\":\"#506784\",\"minorgridcolor\":\"#506784\",\"startlinecolor\":\"#A2B1C6\"},\"type\":\"carpet\"}],\"choropleth\":[{\"colorbar\":{\"outlinewidth\":0,\"ticks\":\"\"},\"type\":\"choropleth\"}],\"contourcarpet\":[{\"colorbar\":{\"outlinewidth\":0,\"ticks\":\"\"},\"type\":\"contourcarpet\"}],\"contour\":[{\"colorbar\":{\"outlinewidth\":0,\"ticks\":\"\"},\"colorscale\":[[0.0,\"#0d0887\"],[0.1111111111111111,\"#46039f\"],[0.2222222222222222,\"#7201a8\"],[0.3333333333333333,\"#9c179e\"],[0.4444444444444444,\"#bd3786\"],[0.5555555555555556,\"#d8576b\"],[0.6666666666666666,\"#ed7953\"],[0.7777777777777778,\"#fb9f3a\"],[0.8888888888888888,\"#fdca26\"],[1.0,\"#f0f921\"]],\"type\":\"contour\"}],\"heatmapgl\":[{\"colorbar\":{\"outlinewidth\":0,\"ticks\":\"\"},\"colorscale\":[[0.0,\"#0d0887\"],[0.1111111111111111,\"#46039f\"],[0.2222222222222222,\"#7201a8\"],[0.3333333333333333,\"#9c179e\"],[0.4444444444444444,\"#bd3786\"],[0.5555555555555556,\"#d8576b\"],[0.6666666666666666,\"#ed7953\"],[0.7777777777777778,\"#fb9f3a\"],[0.8888888888888888,\"#fdca26\"],[1.0,\"#f0f921\"]],\"type\":\"heatmapgl\"}],\"heatmap\":[{\"colorbar\":{\"outlinewidth\":0,\"ticks\":\"\"},\"colorscale\":[[0.0,\"#0d0887\"],[0.1111111111111111,\"#46039f\"],[0.2222222222222222,\"#7201a8\"],[0.3333333333333333,\"#9c179e\"],[0.4444444444444444,\"#bd3786\"],[0.5555555555555556,\"#d8576b\"],[0.6666666666666666,\"#ed7953\"],[0.7777777777777778,\"#fb9f3a\"],[0.8888888888888888,\"#fdca26\"],[1.0,\"#f0f921\"]],\"type\":\"heatmap\"}],\"histogram2dcontour\":[{\"colorbar\":{\"outlinewidth\":0,\"ticks\":\"\"},\"colorscale\":[[0.0,\"#0d0887\"],[0.1111111111111111,\"#46039f\"],[0.2222222222222222,\"#7201a8\"],[0.3333333333333333,\"#9c179e\"],[0.4444444444444444,\"#bd3786\"],[0.5555555555555556,\"#d8576b\"],[0.6666666666666666,\"#ed7953\"],[0.7777777777777778,\"#fb9f3a\"],[0.8888888888888888,\"#fdca26\"],[1.0,\"#f0f921\"]],\"type\":\"histogram2dcontour\"}],\"histogram2d\":[{\"colorbar\":{\"outlinewidth\":0,\"ticks\":\"\"},\"colorscale\":[[0.0,\"#0d0887\"],[0.1111111111111111,\"#46039f\"],[0.2222222222222222,\"#7201a8\"],[0.3333333333333333,\"#9c179e\"],[0.4444444444444444,\"#bd3786\"],[0.5555555555555556,\"#d8576b\"],[0.6666666666666666,\"#ed7953\"],[0.7777777777777778,\"#fb9f3a\"],[0.8888888888888888,\"#fdca26\"],[1.0,\"#f0f921\"]],\"type\":\"histogram2d\"}],\"histogram\":[{\"marker\":{\"pattern\":{\"fillmode\":\"overlay\",\"size\":10,\"solidity\":0.2}},\"type\":\"histogram\"}],\"mesh3d\":[{\"colorbar\":{\"outlinewidth\":0,\"ticks\":\"\"},\"type\":\"mesh3d\"}],\"parcoords\":[{\"line\":{\"colorbar\":{\"outlinewidth\":0,\"ticks\":\"\"}},\"type\":\"parcoords\"}],\"pie\":[{\"automargin\":true,\"type\":\"pie\"}],\"scatter3d\":[{\"line\":{\"colorbar\":{\"outlinewidth\":0,\"ticks\":\"\"}},\"marker\":{\"colorbar\":{\"outlinewidth\":0,\"ticks\":\"\"}},\"type\":\"scatter3d\"}],\"scattercarpet\":[{\"marker\":{\"colorbar\":{\"outlinewidth\":0,\"ticks\":\"\"}},\"type\":\"scattercarpet\"}],\"scattergeo\":[{\"marker\":{\"colorbar\":{\"outlinewidth\":0,\"ticks\":\"\"}},\"type\":\"scattergeo\"}],\"scattergl\":[{\"marker\":{\"line\":{\"color\":\"#283442\"}},\"type\":\"scattergl\"}],\"scattermapbox\":[{\"marker\":{\"colorbar\":{\"outlinewidth\":0,\"ticks\":\"\"}},\"type\":\"scattermapbox\"}],\"scatterpolargl\":[{\"marker\":{\"colorbar\":{\"outlinewidth\":0,\"ticks\":\"\"}},\"type\":\"scatterpolargl\"}],\"scatterpolar\":[{\"marker\":{\"colorbar\":{\"outlinewidth\":0,\"ticks\":\"\"}},\"type\":\"scatterpolar\"}],\"scatter\":[{\"marker\":{\"line\":{\"color\":\"#283442\"}},\"type\":\"scatter\"}],\"scatterternary\":[{\"marker\":{\"colorbar\":{\"outlinewidth\":0,\"ticks\":\"\"}},\"type\":\"scatterternary\"}],\"surface\":[{\"colorbar\":{\"outlinewidth\":0,\"ticks\":\"\"},\"colorscale\":[[0.0,\"#0d0887\"],[0.1111111111111111,\"#46039f\"],[0.2222222222222222,\"#7201a8\"],[0.3333333333333333,\"#9c179e\"],[0.4444444444444444,\"#bd3786\"],[0.5555555555555556,\"#d8576b\"],[0.6666666666666666,\"#ed7953\"],[0.7777777777777778,\"#fb9f3a\"],[0.8888888888888888,\"#fdca26\"],[1.0,\"#f0f921\"]],\"type\":\"surface\"}],\"table\":[{\"cells\":{\"fill\":{\"color\":\"#506784\"},\"line\":{\"color\":\"rgb(17,17,17)\"}},\"header\":{\"fill\":{\"color\":\"#2a3f5f\"},\"line\":{\"color\":\"rgb(17,17,17)\"}},\"type\":\"table\"}]},\"layout\":{\"annotationdefaults\":{\"arrowcolor\":\"#f2f5fa\",\"arrowhead\":0,\"arrowwidth\":1},\"autotypenumbers\":\"strict\",\"coloraxis\":{\"colorbar\":{\"outlinewidth\":0,\"ticks\":\"\"}},\"colorscale\":{\"diverging\":[[0,\"#8e0152\"],[0.1,\"#c51b7d\"],[0.2,\"#de77ae\"],[0.3,\"#f1b6da\"],[0.4,\"#fde0ef\"],[0.5,\"#f7f7f7\"],[0.6,\"#e6f5d0\"],[0.7,\"#b8e186\"],[0.8,\"#7fbc41\"],[0.9,\"#4d9221\"],[1,\"#276419\"]],\"sequential\":[[0.0,\"#0d0887\"],[0.1111111111111111,\"#46039f\"],[0.2222222222222222,\"#7201a8\"],[0.3333333333333333,\"#9c179e\"],[0.4444444444444444,\"#bd3786\"],[0.5555555555555556,\"#d8576b\"],[0.6666666666666666,\"#ed7953\"],[0.7777777777777778,\"#fb9f3a\"],[0.8888888888888888,\"#fdca26\"],[1.0,\"#f0f921\"]],\"sequentialminus\":[[0.0,\"#0d0887\"],[0.1111111111111111,\"#46039f\"],[0.2222222222222222,\"#7201a8\"],[0.3333333333333333,\"#9c179e\"],[0.4444444444444444,\"#bd3786\"],[0.5555555555555556,\"#d8576b\"],[0.6666666666666666,\"#ed7953\"],[0.7777777777777778,\"#fb9f3a\"],[0.8888888888888888,\"#fdca26\"],[1.0,\"#f0f921\"]]},\"colorway\":[\"#636efa\",\"#EF553B\",\"#00cc96\",\"#ab63fa\",\"#FFA15A\",\"#19d3f3\",\"#FF6692\",\"#B6E880\",\"#FF97FF\",\"#FECB52\"],\"font\":{\"color\":\"#f2f5fa\"},\"geo\":{\"bgcolor\":\"rgb(17,17,17)\",\"lakecolor\":\"rgb(17,17,17)\",\"landcolor\":\"rgb(17,17,17)\",\"showlakes\":true,\"showland\":true,\"subunitcolor\":\"#506784\"},\"hoverlabel\":{\"align\":\"left\"},\"hovermode\":\"closest\",\"mapbox\":{\"style\":\"dark\"},\"paper_bgcolor\":\"rgb(17,17,17)\",\"plot_bgcolor\":\"rgb(17,17,17)\",\"polar\":{\"angularaxis\":{\"gridcolor\":\"#506784\",\"linecolor\":\"#506784\",\"ticks\":\"\"},\"bgcolor\":\"rgb(17,17,17)\",\"radialaxis\":{\"gridcolor\":\"#506784\",\"linecolor\":\"#506784\",\"ticks\":\"\"}},\"scene\":{\"xaxis\":{\"backgroundcolor\":\"rgb(17,17,17)\",\"gridcolor\":\"#506784\",\"gridwidth\":2,\"linecolor\":\"#506784\",\"showbackground\":true,\"ticks\":\"\",\"zerolinecolor\":\"#C8D4E3\"},\"yaxis\":{\"backgroundcolor\":\"rgb(17,17,17)\",\"gridcolor\":\"#506784\",\"gridwidth\":2,\"linecolor\":\"#506784\",\"showbackground\":true,\"ticks\":\"\",\"zerolinecolor\":\"#C8D4E3\"},\"zaxis\":{\"backgroundcolor\":\"rgb(17,17,17)\",\"gridcolor\":\"#506784\",\"gridwidth\":2,\"linecolor\":\"#506784\",\"showbackground\":true,\"ticks\":\"\",\"zerolinecolor\":\"#C8D4E3\"}},\"shapedefaults\":{\"line\":{\"color\":\"#f2f5fa\"}},\"sliderdefaults\":{\"bgcolor\":\"#C8D4E3\",\"bordercolor\":\"rgb(17,17,17)\",\"borderwidth\":1,\"tickwidth\":0},\"ternary\":{\"aaxis\":{\"gridcolor\":\"#506784\",\"linecolor\":\"#506784\",\"ticks\":\"\"},\"baxis\":{\"gridcolor\":\"#506784\",\"linecolor\":\"#506784\",\"ticks\":\"\"},\"bgcolor\":\"rgb(17,17,17)\",\"caxis\":{\"gridcolor\":\"#506784\",\"linecolor\":\"#506784\",\"ticks\":\"\"}},\"title\":{\"x\":0.05},\"updatemenudefaults\":{\"bgcolor\":\"#506784\",\"borderwidth\":0},\"xaxis\":{\"automargin\":true,\"gridcolor\":\"#283442\",\"linecolor\":\"#506784\",\"ticks\":\"\",\"title\":{\"standoff\":15},\"zerolinecolor\":\"#283442\",\"zerolinewidth\":2},\"yaxis\":{\"automargin\":true,\"gridcolor\":\"#283442\",\"linecolor\":\"#506784\",\"ticks\":\"\",\"title\":{\"standoff\":15},\"zerolinecolor\":\"#283442\",\"zerolinewidth\":2}}},\"title\":{\"text\":\"Total Sleep Time Mins by Weekday, Rolling 10 Day\"},\"xaxis\":{\"title\":{\"text\":\"Date\"}},\"yaxis\":{\"title\":{\"text\":\"Total Time\"}}},                        {\"responsive\": true}                    ).then(function(){\n",
       "                            \n",
       "var gd = document.getElementById('92a43be5-a071-4206-8deb-c7afbb632695');\n",
       "var x = new MutationObserver(function (mutations, observer) {{\n",
       "        var display = window.getComputedStyle(gd).display;\n",
       "        if (!display || display === 'none') {{\n",
       "            console.log([gd, 'removed!']);\n",
       "            Plotly.purge(gd);\n",
       "            observer.disconnect();\n",
       "        }}\n",
       "}});\n",
       "\n",
       "// Listen for the removal of the full notebook cells\n",
       "var notebookContainer = gd.closest('#notebook-container');\n",
       "if (notebookContainer) {{\n",
       "    x.observe(notebookContainer, {childList: true});\n",
       "}}\n",
       "\n",
       "// Listen for the clearing of the current output cell\n",
       "var outputEl = gd.closest('.output');\n",
       "if (outputEl) {{\n",
       "    x.observe(outputEl, {childList: true});\n",
       "}}\n",
       "\n",
       "                        })                };                });            </script>        </div>"
      ]
     },
     "metadata": {},
     "output_type": "display_data"
    }
   ],
   "source": [
    "fig = go.Figure()\n",
    "\n",
    "for wday in df['sleepDate.weekDay'].unique():  \n",
    "    \n",
    "    fig.add_trace(\n",
    "        go.Scatter(\n",
    "            x = df.loc[df['sleepDate.weekDay'] == wday]['sleepDate']\n",
    "            , y = df.loc[df['sleepDate.weekDay'] == wday]['sleepData.totalSleepTime'].rolling(window=10).mean()\n",
    "            , name=wday\n",
    "            , hoverinfo = 'text'\n",
    "            , marker=dict(\n",
    "                colorscale='agsunset',\n",
    "                line_width=1\n",
    "            )\n",
    "        )\n",
    "    )\n",
    " \n",
    "# dark theme \n",
    "fig.layout.template = 'plotly_dark'\n",
    "\n",
    "\n",
    "fig.update_layout(title = 'Total Sleep Time Mins by Weekday, Rolling 10 Day',\n",
    "                  xaxis_title='Date',\n",
    "                  yaxis_title='Total Time', \n",
    "                 )\n",
    "\n",
    "# save file to html\n",
    "fig.write_json(os.path.abspath('../../personal-site/static/plotly/sleep-proxy/weekday-total-sleep.json'))\n",
    "\n",
    "fig.show()"
   ]
  },
  {
   "cell_type": "code",
   "execution_count": null,
   "id": "de16ccee-0764-4051-aef1-2870040abbe6",
   "metadata": {},
   "outputs": [],
   "source": []
  },
  {
   "cell_type": "code",
   "execution_count": null,
   "id": "ef004fc1-d095-4353-8793-238d7a5d0000",
   "metadata": {},
   "outputs": [],
   "source": []
  },
  {
   "cell_type": "code",
   "execution_count": null,
   "id": "9e2bfaf0-6466-49e8-bbe3-8d6d17ff6ca0",
   "metadata": {},
   "outputs": [],
   "source": []
  }
 ],
 "metadata": {
  "kernelspec": {
   "display_name": "dlrappeport",
   "language": "python",
   "name": "dlrappeport"
  },
  "language_info": {
   "codemirror_mode": {
    "name": "ipython",
    "version": 3
   },
   "file_extension": ".py",
   "mimetype": "text/x-python",
   "name": "python",
   "nbconvert_exporter": "python",
   "pygments_lexer": "ipython3",
   "version": "3.8.5"
  }
 },
 "nbformat": 4,
 "nbformat_minor": 5
}
