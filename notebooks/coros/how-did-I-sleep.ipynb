{
 "cells": [
  {
   "cell_type": "code",
   "execution_count": 1,
   "id": "476540fd-06fa-4ecc-9f83-2cd384428204",
   "metadata": {},
   "outputs": [],
   "source": [
    "import pandas as pd\n",
    "import json\n",
    "import plotly\n",
    "import yaml\n",
    "import requests"
   ]
  },
  {
   "cell_type": "code",
   "execution_count": 2,
   "id": "899b325b-6329-4ba7-995d-231e85f17bdd",
   "metadata": {},
   "outputs": [],
   "source": [
    "with open('/Users/dave/transfer/coros/creds.yml','r') as f:\n",
    "    creds = yaml.safe_load(f)"
   ]
  },
  {
   "cell_type": "code",
   "execution_count": 3,
   "id": "5ea60553-57db-45ce-91c1-f58a49d77898",
   "metadata": {},
   "outputs": [],
   "source": [
    "import pprint\n",
    "pp = pprint.PrettyPrinter(indent=4)"
   ]
  },
  {
   "cell_type": "code",
   "execution_count": 4,
   "id": "53fcd882-0308-40ee-8068-a426a2cacf34",
   "metadata": {},
   "outputs": [],
   "source": [
    "# import requests\n",
    "\n",
    "userId = creds.get('userId')\n",
    "accessToken = creds.get('accessToken')\n",
    "# print(userId, accessToken)\n",
    "\n",
    "## need to update headers and params each time you proxy\n",
    "headers = {\n",
    "    'Host': 'api.coros.com',\n",
    "    'accept': '*/*',\n",
    "    # Already added when you pass json=\n",
    "    # 'content-type': 'application/json',\n",
    "    'yfheader': f'{{\"userId\":{userId},\"appVersion\":563005788913664,\"releaseType\":1,\"clientType\":2,\"timezone\":-20,\"mobileName\":\"iOS\",\"language\":\"en-US\",\"systemVersion\":\"16.1.1\",\"userSettingScope\":\"CAEQARgBIAE=\",\"testFlightInstalled\":0}}',\n",
    "    'x-app-req-env': 'release-202209',\n",
    "    'user-agent': 'Coros/2.13.14 (iPhone; iOS 15.7; Scale/3.00)',\n",
    "    'accept-language': 'en-US;q=1',\n",
    "}\n",
    "\n",
    "params = {\n",
    "    'accessToken': accessToken,\n",
    "}\n",
    "\n",
    "json_data = {\n",
    "    'startTime': 20210101,\n",
    "    'endTime': 20221111,\n",
    "    'accessToken': accessToken,\n",
    "    'dataType': [\n",
    "        5,\n",
    "        13,\n",
    "    ],\n",
    "    'dataVersion': 1,\n",
    "    'statisticType': 1,\n",
    "}\n",
    "\n",
    "response = requests.post('https://api.coros.com/coros/data/statistic/daily', params=params, headers=headers, json=json_data)"
   ]
  },
  {
   "cell_type": "code",
   "execution_count": 5,
   "id": "4250f269-e23c-4a61-8c87-bbea740a563f",
   "metadata": {},
   "outputs": [
    {
     "data": {
      "text/plain": [
       "200"
      ]
     },
     "execution_count": 5,
     "metadata": {},
     "output_type": "execute_result"
    }
   ],
   "source": [
    "response.status_code"
   ]
  },
  {
   "cell_type": "code",
   "execution_count": 6,
   "id": "dbd30741-67a7-41e7-bfa9-c23b93fbd82a",
   "metadata": {},
   "outputs": [],
   "source": [
    "# json_data = json.loads(response.text)\n",
    "\n",
    "with open('/Users/dave/transfer/coros/coros-sleep-data.all.json','w') as f:\n",
    "    f.write(response.text)\n"
   ]
  },
  {
   "cell_type": "code",
   "execution_count": 7,
   "id": "04047a1a-ca32-43a9-b6d7-a067e17c96d3",
   "metadata": {},
   "outputs": [],
   "source": [
    "with open('/Users/dave/transfer/coros/coros-sleep-data.all.json','r') as f:\n",
    "    json_data = json.load(f)"
   ]
  },
  {
   "cell_type": "code",
   "execution_count": 8,
   "id": "73f0a232-0463-4162-9536-24e5d067158c",
   "metadata": {},
   "outputs": [],
   "source": [
    "for dct in json_data.get('data').get('statisticData').get('dayDataList')[-1:-3]:\n",
    "    print(dct)"
   ]
  },
  {
   "cell_type": "code",
   "execution_count": null,
   "id": "e9a32386-79a8-4086-b6be-68e793877d68",
   "metadata": {},
   "outputs": [],
   "source": []
  },
  {
   "cell_type": "markdown",
   "id": "ae0bd8e8-3dbf-4d35-b087-983f326268b0",
   "metadata": {},
   "source": [
    "### Dataframe and Graph(s)"
   ]
  },
  {
   "cell_type": "code",
   "execution_count": 8,
   "id": "94da72cf-eed0-4035-890a-c56a38633151",
   "metadata": {},
   "outputs": [],
   "source": [
    "import plotly.graph_objects as go"
   ]
  },
  {
   "cell_type": "code",
   "execution_count": 9,
   "id": "5e1d163f-61e1-4db0-86fb-7245b2cb8246",
   "metadata": {},
   "outputs": [
    {
     "data": {
      "text/plain": [
       "{'avgHeartRate': 55,\n",
       " 'deepTime': 146,\n",
       " 'eyeTime': 0,\n",
       " 'lightTime': 392,\n",
       " 'maxHeartRate': 79,\n",
       " 'minHeartRate': 46,\n",
       " 'totalSleepTime': 538,\n",
       " 'wakeTime': 33}"
      ]
     },
     "execution_count": 9,
     "metadata": {},
     "output_type": "execute_result"
    }
   ],
   "source": [
    "json_data.get('data').get('statisticData').get('dayDataList')[0]['sleepData']"
   ]
  },
  {
   "cell_type": "code",
   "execution_count": 10,
   "id": "9a649e31-f721-4f64-8bd9-51c79d075cc8",
   "metadata": {},
   "outputs": [],
   "source": [
    "df = pd.json_normalize(json_data.get('data').get('statisticData').get('dayDataList'))"
   ]
  },
  {
   "cell_type": "code",
   "execution_count": 11,
   "id": "51bb3b22-2ee7-4e5f-ac65-b8ea949002b5",
   "metadata": {},
   "outputs": [
    {
     "data": {
      "text/html": [
       "<div>\n",
       "<style scoped>\n",
       "    .dataframe tbody tr th:only-of-type {\n",
       "        vertical-align: middle;\n",
       "    }\n",
       "\n",
       "    .dataframe tbody tr th {\n",
       "        vertical-align: top;\n",
       "    }\n",
       "\n",
       "    .dataframe thead th {\n",
       "        text-align: right;\n",
       "    }\n",
       "</style>\n",
       "<table border=\"1\" class=\"dataframe\">\n",
       "  <thead>\n",
       "    <tr style=\"text-align: right;\">\n",
       "      <th></th>\n",
       "      <th>happenDay</th>\n",
       "      <th>performance</th>\n",
       "      <th>sleepList</th>\n",
       "      <th>sleepData.avgHeartRate</th>\n",
       "      <th>sleepData.deepTime</th>\n",
       "      <th>sleepData.eyeTime</th>\n",
       "      <th>sleepData.lightTime</th>\n",
       "      <th>sleepData.maxHeartRate</th>\n",
       "      <th>sleepData.minHeartRate</th>\n",
       "      <th>sleepData.totalSleepTime</th>\n",
       "      <th>sleepData.wakeTime</th>\n",
       "    </tr>\n",
       "  </thead>\n",
       "  <tbody>\n",
       "    <tr>\n",
       "      <th>0</th>\n",
       "      <td>20221111</td>\n",
       "      <td>-1</td>\n",
       "      <td>[AA8AKAAAAMMAAABaAwAAELVtY+zkOm5j7LeMNAE7AiEAi...</td>\n",
       "      <td>55</td>\n",
       "      <td>146</td>\n",
       "      <td>0</td>\n",
       "      <td>392</td>\n",
       "      <td>79</td>\n",
       "      <td>46</td>\n",
       "      <td>538</td>\n",
       "      <td>33</td>\n",
       "    </tr>\n",
       "    <tr>\n",
       "      <th>1</th>\n",
       "      <td>20221110</td>\n",
       "      <td>-1</td>\n",
       "      <td>[AA8AKAAAAEsAAAAiAgAA6INsY+yw2Wxj7LaMNAFuAR4A/...</td>\n",
       "      <td>56</td>\n",
       "      <td>83</td>\n",
       "      <td>0</td>\n",
       "      <td>253</td>\n",
       "      <td>95</td>\n",
       "      <td>48</td>\n",
       "      <td>336</td>\n",
       "      <td>30</td>\n",
       "    </tr>\n",
       "    <tr>\n",
       "      <th>2</th>\n",
       "      <td>20221109</td>\n",
       "      <td>-1</td>\n",
       "      <td>[AA8AKAAAAJsAAAC4AgAA7CZrY+xwk2tj7LWMNAHPASQAH...</td>\n",
       "      <td>55</td>\n",
       "      <td>140</td>\n",
       "      <td>0</td>\n",
       "      <td>287</td>\n",
       "      <td>75</td>\n",
       "      <td>43</td>\n",
       "      <td>427</td>\n",
       "      <td>36</td>\n",
       "    </tr>\n",
       "    <tr>\n",
       "      <th>3</th>\n",
       "      <td>20221108</td>\n",
       "      <td>-1</td>\n",
       "      <td>[AA8AKAAAAK8AAABnAgAAHMtpY+z4Kmpj7LSMNAGZATcAA...</td>\n",
       "      <td>57</td>\n",
       "      <td>96</td>\n",
       "      <td>0</td>\n",
       "      <td>258</td>\n",
       "      <td>77</td>\n",
       "      <td>40</td>\n",
       "      <td>354</td>\n",
       "      <td>55</td>\n",
       "    </tr>\n",
       "    <tr>\n",
       "      <th>4</th>\n",
       "      <td>20221107</td>\n",
       "      <td>-1</td>\n",
       "      <td>[AA8AKAAAANcAAAAtAwAAjGtoY+zQ6mhj7LOMNAEfAisAX...</td>\n",
       "      <td>51</td>\n",
       "      <td>152</td>\n",
       "      <td>0</td>\n",
       "      <td>348</td>\n",
       "      <td>71</td>\n",
       "      <td>44</td>\n",
       "      <td>500</td>\n",
       "      <td>43</td>\n",
       "    </tr>\n",
       "  </tbody>\n",
       "</table>\n",
       "</div>"
      ],
      "text/plain": [
       "   happenDay  performance                                          sleepList  \\\n",
       "0   20221111           -1  [AA8AKAAAAMMAAABaAwAAELVtY+zkOm5j7LeMNAE7AiEAi...   \n",
       "1   20221110           -1  [AA8AKAAAAEsAAAAiAgAA6INsY+yw2Wxj7LaMNAFuAR4A/...   \n",
       "2   20221109           -1  [AA8AKAAAAJsAAAC4AgAA7CZrY+xwk2tj7LWMNAHPASQAH...   \n",
       "3   20221108           -1  [AA8AKAAAAK8AAABnAgAAHMtpY+z4Kmpj7LSMNAGZATcAA...   \n",
       "4   20221107           -1  [AA8AKAAAANcAAAAtAwAAjGtoY+zQ6mhj7LOMNAEfAisAX...   \n",
       "\n",
       "   sleepData.avgHeartRate  sleepData.deepTime  sleepData.eyeTime  \\\n",
       "0                      55                 146                  0   \n",
       "1                      56                  83                  0   \n",
       "2                      55                 140                  0   \n",
       "3                      57                  96                  0   \n",
       "4                      51                 152                  0   \n",
       "\n",
       "   sleepData.lightTime  sleepData.maxHeartRate  sleepData.minHeartRate  \\\n",
       "0                  392                      79                      46   \n",
       "1                  253                      95                      48   \n",
       "2                  287                      75                      43   \n",
       "3                  258                      77                      40   \n",
       "4                  348                      71                      44   \n",
       "\n",
       "   sleepData.totalSleepTime  sleepData.wakeTime  \n",
       "0                       538                  33  \n",
       "1                       336                  30  \n",
       "2                       427                  36  \n",
       "3                       354                  55  \n",
       "4                       500                  43  "
      ]
     },
     "execution_count": 11,
     "metadata": {},
     "output_type": "execute_result"
    }
   ],
   "source": [
    "df.head()"
   ]
  },
  {
   "cell_type": "code",
   "execution_count": 12,
   "id": "8d36e1d0-d9b2-447f-9e54-f509933616e5",
   "metadata": {},
   "outputs": [],
   "source": [
    "df['sleepDate'] = pd.to_datetime(df.happenDay, format='%Y%m%d')\n",
    "df['sleepDate.weekDay'] = df['sleepDate'].apply(lambda x: x.strftime('%A'))"
   ]
  },
  {
   "cell_type": "code",
   "execution_count": 13,
   "id": "e9fb7799-3e5b-4f87-91b2-a73fc2fe9ea5",
   "metadata": {},
   "outputs": [
    {
     "data": {
      "text/plain": [
       "count                              349\n",
       "mean     2022-05-17 12:39:11.862464256\n",
       "min                2021-11-23 00:00:00\n",
       "25%                2022-02-18 00:00:00\n",
       "50%                2022-05-17 00:00:00\n",
       "75%                2022-08-13 00:00:00\n",
       "max                2022-11-11 00:00:00\n",
       "Name: sleepDate, dtype: object"
      ]
     },
     "execution_count": 13,
     "metadata": {},
     "output_type": "execute_result"
    }
   ],
   "source": [
    "df['sleepDate'].describe(datetime_is_numeric=True)"
   ]
  },
  {
   "cell_type": "code",
   "execution_count": 14,
   "id": "77371975-5630-4182-8ae0-f0c6feca3dde",
   "metadata": {},
   "outputs": [
    {
     "data": {
      "text/html": [
       "<div>\n",
       "<style scoped>\n",
       "    .dataframe tbody tr th:only-of-type {\n",
       "        vertical-align: middle;\n",
       "    }\n",
       "\n",
       "    .dataframe tbody tr th {\n",
       "        vertical-align: top;\n",
       "    }\n",
       "\n",
       "    .dataframe thead th {\n",
       "        text-align: right;\n",
       "    }\n",
       "</style>\n",
       "<table border=\"1\" class=\"dataframe\">\n",
       "  <thead>\n",
       "    <tr style=\"text-align: right;\">\n",
       "      <th></th>\n",
       "      <th>sleepDate</th>\n",
       "    </tr>\n",
       "  </thead>\n",
       "  <tbody>\n",
       "    <tr>\n",
       "      <th>0</th>\n",
       "      <td>2022-11-11</td>\n",
       "    </tr>\n",
       "    <tr>\n",
       "      <th>1</th>\n",
       "      <td>2022-11-10</td>\n",
       "    </tr>\n",
       "    <tr>\n",
       "      <th>2</th>\n",
       "      <td>2022-11-09</td>\n",
       "    </tr>\n",
       "    <tr>\n",
       "      <th>3</th>\n",
       "      <td>2022-11-08</td>\n",
       "    </tr>\n",
       "    <tr>\n",
       "      <th>4</th>\n",
       "      <td>2022-11-07</td>\n",
       "    </tr>\n",
       "  </tbody>\n",
       "</table>\n",
       "</div>"
      ],
      "text/plain": [
       "   sleepDate\n",
       "0 2022-11-11\n",
       "1 2022-11-10\n",
       "2 2022-11-09\n",
       "3 2022-11-08\n",
       "4 2022-11-07"
      ]
     },
     "execution_count": 14,
     "metadata": {},
     "output_type": "execute_result"
    }
   ],
   "source": [
    "df.loc[:,['sleepDate']].head()"
   ]
  },
  {
   "cell_type": "code",
   "execution_count": 29,
   "id": "b255b64a-9136-45d3-9466-04c2f854e851",
   "metadata": {},
   "outputs": [],
   "source": [
    "\n",
    "# print(tick_df.columns.values)\n",
    "# tick_values = tick_df.loc[:, ['sleepTime','deepTime','avgHR']].to_dict()\n",
    "# print(tick_values)"
   ]
  },
  {
   "cell_type": "code",
   "execution_count": 33,
   "id": "36b9a5d3-e6e9-469d-b5da-9831f93b1ef3",
   "metadata": {},
   "outputs": [
    {
     "data": {
      "application/vnd.plotly.v1+json": {
       "config": {
        "plotlyServerURL": "https://plot.ly"
       },
       "data": [
        {
         "hoverinfo": "text",
         "marker": {
          "colorscale": [
           [
            0,
            "rgb(75, 41, 145)"
           ],
           [
            0.16666666666666666,
            "rgb(135, 44, 162)"
           ],
           [
            0.3333333333333333,
            "rgb(192, 54, 157)"
           ],
           [
            0.5,
            "rgb(234, 79, 136)"
           ],
           [
            0.6666666666666666,
            "rgb(250, 120, 118)"
           ],
           [
            0.8333333333333334,
            "rgb(246, 169, 122)"
           ],
           [
            1,
            "rgb(237, 217, 163)"
           ]
          ],
          "line": {
           "width": 1
          }
         },
         "name": "values",
         "text": [
          "Sleep Time: 538 mins<br> Deep Sleep Time: 146 mins<br> Avg Heart Rate: 55 bpm",
          "Sleep Time: 336 mins<br> Deep Sleep Time: 83 mins<br> Avg Heart Rate: 56 bpm",
          "Sleep Time: 427 mins<br> Deep Sleep Time: 140 mins<br> Avg Heart Rate: 55 bpm",
          "Sleep Time: 354 mins<br> Deep Sleep Time: 96 mins<br> Avg Heart Rate: 57 bpm",
          "Sleep Time: 500 mins<br> Deep Sleep Time: 152 mins<br> Avg Heart Rate: 51 bpm",
          "Sleep Time: 398 mins<br> Deep Sleep Time: 72 mins<br> Avg Heart Rate: 61 bpm",
          "Sleep Time: 417 mins<br> Deep Sleep Time: 129 mins<br> Avg Heart Rate: 59 bpm",
          "Sleep Time: 456 mins<br> Deep Sleep Time: 137 mins<br> Avg Heart Rate: 63 bpm",
          "Sleep Time: 406 mins<br> Deep Sleep Time: 96 mins<br> Avg Heart Rate: 66 bpm",
          "Sleep Time: 455 mins<br> Deep Sleep Time: 135 mins<br> Avg Heart Rate: 61 bpm",
          "Sleep Time: 431 mins<br> Deep Sleep Time: 107 mins<br> Avg Heart Rate: 66 bpm",
          "Sleep Time: 452 mins<br> Deep Sleep Time: 91 mins<br> Avg Heart Rate: 57 bpm",
          "Sleep Time: 461 mins<br> Deep Sleep Time: 89 mins<br> Avg Heart Rate: 56 bpm",
          "Sleep Time: 385 mins<br> Deep Sleep Time: 102 mins<br> Avg Heart Rate: 63 bpm",
          "Sleep Time: 471 mins<br> Deep Sleep Time: 148 mins<br> Avg Heart Rate: 60 bpm",
          "Sleep Time: 427 mins<br> Deep Sleep Time: 116 mins<br> Avg Heart Rate: 61 bpm",
          "Sleep Time: 295 mins<br> Deep Sleep Time: 109 mins<br> Avg Heart Rate: 56 bpm",
          "Sleep Time: 499 mins<br> Deep Sleep Time: 114 mins<br> Avg Heart Rate: 59 bpm",
          "Sleep Time: 399 mins<br> Deep Sleep Time: 170 mins<br> Avg Heart Rate: 58 bpm",
          "Sleep Time: 352 mins<br> Deep Sleep Time: 94 mins<br> Avg Heart Rate: 57 bpm",
          "Sleep Time: 404 mins<br> Deep Sleep Time: 0 mins<br> Avg Heart Rate: 55 bpm",
          "Sleep Time: 381 mins<br> Deep Sleep Time: 87 mins<br> Avg Heart Rate: 53 bpm",
          "Sleep Time: 365 mins<br> Deep Sleep Time: 122 mins<br> Avg Heart Rate: 59 bpm",
          "Sleep Time: 441 mins<br> Deep Sleep Time: 163 mins<br> Avg Heart Rate: 55 bpm",
          "Sleep Time: 377 mins<br> Deep Sleep Time: 50 mins<br> Avg Heart Rate: 51 bpm",
          "Sleep Time: 444 mins<br> Deep Sleep Time: 88 mins<br> Avg Heart Rate: 51 bpm",
          "Sleep Time: 357 mins<br> Deep Sleep Time: 124 mins<br> Avg Heart Rate: 57 bpm",
          "Sleep Time: 337 mins<br> Deep Sleep Time: 99 mins<br> Avg Heart Rate: 53 bpm",
          "Sleep Time: 417 mins<br> Deep Sleep Time: 83 mins<br> Avg Heart Rate: 52 bpm",
          "Sleep Time: 403 mins<br> Deep Sleep Time: 76 mins<br> Avg Heart Rate: 56 bpm",
          "Sleep Time: 323 mins<br> Deep Sleep Time: 42 mins<br> Avg Heart Rate: 56 bpm",
          "Sleep Time: 463 mins<br> Deep Sleep Time: 111 mins<br> Avg Heart Rate: 58 bpm",
          "Sleep Time: 393 mins<br> Deep Sleep Time: 54 mins<br> Avg Heart Rate: 57 bpm",
          "Sleep Time: 360 mins<br> Deep Sleep Time: 118 mins<br> Avg Heart Rate: 63 bpm",
          "Sleep Time: 342 mins<br> Deep Sleep Time: 94 mins<br> Avg Heart Rate: 50 bpm",
          "Sleep Time: 209 mins<br> Deep Sleep Time: 55 mins<br> Avg Heart Rate: 51 bpm",
          "Sleep Time: 429 mins<br> Deep Sleep Time: 144 mins<br> Avg Heart Rate: 56 bpm",
          "Sleep Time: 438 mins<br> Deep Sleep Time: 84 mins<br> Avg Heart Rate: 60 bpm",
          "Sleep Time: 435 mins<br> Deep Sleep Time: 66 mins<br> Avg Heart Rate: 57 bpm",
          "Sleep Time: 360 mins<br> Deep Sleep Time: 79 mins<br> Avg Heart Rate: 60 bpm",
          "Sleep Time: 412 mins<br> Deep Sleep Time: 127 mins<br> Avg Heart Rate: 63 bpm",
          "Sleep Time: 353 mins<br> Deep Sleep Time: 74 mins<br> Avg Heart Rate: 58 bpm",
          "Sleep Time: 399 mins<br> Deep Sleep Time: 93 mins<br> Avg Heart Rate: 62 bpm",
          "Sleep Time: 340 mins<br> Deep Sleep Time: 118 mins<br> Avg Heart Rate: 62 bpm",
          "Sleep Time: 491 mins<br> Deep Sleep Time: 70 mins<br> Avg Heart Rate: 65 bpm",
          "Sleep Time: 364 mins<br> Deep Sleep Time: 106 mins<br> Avg Heart Rate: 63 bpm",
          "Sleep Time: 363 mins<br> Deep Sleep Time: 117 mins<br> Avg Heart Rate: 55 bpm",
          "Sleep Time: 322 mins<br> Deep Sleep Time: 118 mins<br> Avg Heart Rate: 54 bpm",
          "Sleep Time: 378 mins<br> Deep Sleep Time: 99 mins<br> Avg Heart Rate: 59 bpm",
          "Sleep Time: 417 mins<br> Deep Sleep Time: 120 mins<br> Avg Heart Rate: 58 bpm",
          "Sleep Time: 207 mins<br> Deep Sleep Time: 78 mins<br> Avg Heart Rate: 55 bpm",
          "Sleep Time: 301 mins<br> Deep Sleep Time: 88 mins<br> Avg Heart Rate: 55 bpm",
          "Sleep Time: 455 mins<br> Deep Sleep Time: 147 mins<br> Avg Heart Rate: 65 bpm",
          "Sleep Time: 218 mins<br> Deep Sleep Time: 79 mins<br> Avg Heart Rate: 57 bpm",
          "Sleep Time: 362 mins<br> Deep Sleep Time: 124 mins<br> Avg Heart Rate: 61 bpm",
          "Sleep Time: 390 mins<br> Deep Sleep Time: 85 mins<br> Avg Heart Rate: 60 bpm",
          "Sleep Time: 387 mins<br> Deep Sleep Time: 94 mins<br> Avg Heart Rate: 68 bpm",
          "Sleep Time: 440 mins<br> Deep Sleep Time: 112 mins<br> Avg Heart Rate: 60 bpm",
          "Sleep Time: 284 mins<br> Deep Sleep Time: 67 mins<br> Avg Heart Rate: 57 bpm",
          "Sleep Time: 378 mins<br> Deep Sleep Time: 135 mins<br> Avg Heart Rate: 60 bpm",
          "Sleep Time: 353 mins<br> Deep Sleep Time: 37 mins<br> Avg Heart Rate: 61 bpm",
          "Sleep Time: 417 mins<br> Deep Sleep Time: 100 mins<br> Avg Heart Rate: 59 bpm",
          "Sleep Time: 393 mins<br> Deep Sleep Time: 118 mins<br> Avg Heart Rate: 65 bpm",
          "Sleep Time: 419 mins<br> Deep Sleep Time: 50 mins<br> Avg Heart Rate: 64 bpm",
          "Sleep Time: 240 mins<br> Deep Sleep Time: 102 mins<br> Avg Heart Rate: 62 bpm",
          "Sleep Time: 353 mins<br> Deep Sleep Time: 99 mins<br> Avg Heart Rate: 59 bpm",
          "Sleep Time: 426 mins<br> Deep Sleep Time: 120 mins<br> Avg Heart Rate: 60 bpm",
          "Sleep Time: 284 mins<br> Deep Sleep Time: 110 mins<br> Avg Heart Rate: 52 bpm",
          "Sleep Time: 373 mins<br> Deep Sleep Time: 88 mins<br> Avg Heart Rate: 66 bpm",
          "Sleep Time: 452 mins<br> Deep Sleep Time: 91 mins<br> Avg Heart Rate: 63 bpm",
          "Sleep Time: 350 mins<br> Deep Sleep Time: 47 mins<br> Avg Heart Rate: 62 bpm",
          "Sleep Time: 354 mins<br> Deep Sleep Time: 88 mins<br> Avg Heart Rate: 56 bpm",
          "Sleep Time: 422 mins<br> Deep Sleep Time: 76 mins<br> Avg Heart Rate: 58 bpm",
          "Sleep Time: 298 mins<br> Deep Sleep Time: 55 mins<br> Avg Heart Rate: 57 bpm",
          "Sleep Time: 366 mins<br> Deep Sleep Time: 80 mins<br> Avg Heart Rate: 60 bpm",
          "Sleep Time: 388 mins<br> Deep Sleep Time: 97 mins<br> Avg Heart Rate: 59 bpm",
          "Sleep Time: 419 mins<br> Deep Sleep Time: 45 mins<br> Avg Heart Rate: 61 bpm",
          "Sleep Time: 387 mins<br> Deep Sleep Time: 118 mins<br> Avg Heart Rate: 63 bpm",
          "Sleep Time: 458 mins<br> Deep Sleep Time: 134 mins<br> Avg Heart Rate: 69 bpm",
          "Sleep Time: 482 mins<br> Deep Sleep Time: 188 mins<br> Avg Heart Rate: 60 bpm",
          "Sleep Time: 401 mins<br> Deep Sleep Time: 108 mins<br> Avg Heart Rate: 61 bpm",
          "Sleep Time: 460 mins<br> Deep Sleep Time: 122 mins<br> Avg Heart Rate: 65 bpm",
          "Sleep Time: 378 mins<br> Deep Sleep Time: 99 mins<br> Avg Heart Rate: 60 bpm",
          "Sleep Time: 404 mins<br> Deep Sleep Time: 106 mins<br> Avg Heart Rate: 60 bpm",
          "Sleep Time: 432 mins<br> Deep Sleep Time: 118 mins<br> Avg Heart Rate: 64 bpm",
          "Sleep Time: 440 mins<br> Deep Sleep Time: 192 mins<br> Avg Heart Rate: 62 bpm",
          "Sleep Time: 511 mins<br> Deep Sleep Time: 114 mins<br> Avg Heart Rate: 64 bpm",
          "Sleep Time: 487 mins<br> Deep Sleep Time: 71 mins<br> Avg Heart Rate: 61 bpm",
          "Sleep Time: 299 mins<br> Deep Sleep Time: 92 mins<br> Avg Heart Rate: 62 bpm",
          "Sleep Time: 420 mins<br> Deep Sleep Time: 104 mins<br> Avg Heart Rate: 62 bpm",
          "Sleep Time: 445 mins<br> Deep Sleep Time: 43 mins<br> Avg Heart Rate: 58 bpm",
          "Sleep Time: 339 mins<br> Deep Sleep Time: 95 mins<br> Avg Heart Rate: 59 bpm",
          "Sleep Time: 346 mins<br> Deep Sleep Time: 73 mins<br> Avg Heart Rate: 66 bpm",
          "Sleep Time: 340 mins<br> Deep Sleep Time: 68 mins<br> Avg Heart Rate: 57 bpm",
          "Sleep Time: 346 mins<br> Deep Sleep Time: 74 mins<br> Avg Heart Rate: 61 bpm",
          "Sleep Time: 357 mins<br> Deep Sleep Time: 76 mins<br> Avg Heart Rate: 58 bpm",
          "Sleep Time: 385 mins<br> Deep Sleep Time: 80 mins<br> Avg Heart Rate: 58 bpm",
          "Sleep Time: 454 mins<br> Deep Sleep Time: 127 mins<br> Avg Heart Rate: 59 bpm",
          "Sleep Time: 345 mins<br> Deep Sleep Time: 23 mins<br> Avg Heart Rate: 56 bpm",
          "Sleep Time: 450 mins<br> Deep Sleep Time: 85 mins<br> Avg Heart Rate: 61 bpm",
          "Sleep Time: 453 mins<br> Deep Sleep Time: 80 mins<br> Avg Heart Rate: 55 bpm",
          "Sleep Time: 389 mins<br> Deep Sleep Time: 114 mins<br> Avg Heart Rate: 52 bpm",
          "Sleep Time: 439 mins<br> Deep Sleep Time: 85 mins<br> Avg Heart Rate: 54 bpm",
          "Sleep Time: 311 mins<br> Deep Sleep Time: 100 mins<br> Avg Heart Rate: 58 bpm",
          "Sleep Time: 416 mins<br> Deep Sleep Time: 71 mins<br> Avg Heart Rate: 56 bpm",
          "Sleep Time: 451 mins<br> Deep Sleep Time: 81 mins<br> Avg Heart Rate: 58 bpm",
          "Sleep Time: 357 mins<br> Deep Sleep Time: 43 mins<br> Avg Heart Rate: 54 bpm",
          "Sleep Time: 344 mins<br> Deep Sleep Time: 142 mins<br> Avg Heart Rate: 51 bpm",
          "Sleep Time: 240 mins<br> Deep Sleep Time: 76 mins<br> Avg Heart Rate: 53 bpm",
          "Sleep Time: 433 mins<br> Deep Sleep Time: 164 mins<br> Avg Heart Rate: 57 bpm",
          "Sleep Time: 367 mins<br> Deep Sleep Time: 106 mins<br> Avg Heart Rate: 58 bpm",
          "Sleep Time: 382 mins<br> Deep Sleep Time: 91 mins<br> Avg Heart Rate: 64 bpm",
          "Sleep Time: 352 mins<br> Deep Sleep Time: 109 mins<br> Avg Heart Rate: 59 bpm",
          "Sleep Time: 432 mins<br> Deep Sleep Time: 105 mins<br> Avg Heart Rate: 62 bpm",
          "Sleep Time: 353 mins<br> Deep Sleep Time: 139 mins<br> Avg Heart Rate: 59 bpm",
          "Sleep Time: 442 mins<br> Deep Sleep Time: 66 mins<br> Avg Heart Rate: 54 bpm",
          "Sleep Time: 337 mins<br> Deep Sleep Time: 62 mins<br> Avg Heart Rate: 57 bpm",
          "Sleep Time: 396 mins<br> Deep Sleep Time: 50 mins<br> Avg Heart Rate: 60 bpm",
          "Sleep Time: 340 mins<br> Deep Sleep Time: 89 mins<br> Avg Heart Rate: 56 bpm",
          "Sleep Time: 366 mins<br> Deep Sleep Time: 115 mins<br> Avg Heart Rate: 58 bpm",
          "Sleep Time: 350 mins<br> Deep Sleep Time: 67 mins<br> Avg Heart Rate: 57 bpm",
          "Sleep Time: 255 mins<br> Deep Sleep Time: 30 mins<br> Avg Heart Rate: 54 bpm",
          "Sleep Time: 343 mins<br> Deep Sleep Time: 118 mins<br> Avg Heart Rate: 55 bpm",
          "Sleep Time: 359 mins<br> Deep Sleep Time: 111 mins<br> Avg Heart Rate: 55 bpm",
          "Sleep Time: 372 mins<br> Deep Sleep Time: 108 mins<br> Avg Heart Rate: 52 bpm",
          "Sleep Time: 397 mins<br> Deep Sleep Time: 64 mins<br> Avg Heart Rate: 54 bpm",
          "Sleep Time: 371 mins<br> Deep Sleep Time: 69 mins<br> Avg Heart Rate: 58 bpm",
          "Sleep Time: 411 mins<br> Deep Sleep Time: 178 mins<br> Avg Heart Rate: 53 bpm",
          "Sleep Time: 421 mins<br> Deep Sleep Time: 135 mins<br> Avg Heart Rate: 58 bpm",
          "Sleep Time: 341 mins<br> Deep Sleep Time: 131 mins<br> Avg Heart Rate: 51 bpm",
          "Sleep Time: 346 mins<br> Deep Sleep Time: 89 mins<br> Avg Heart Rate: 55 bpm",
          "Sleep Time: 334 mins<br> Deep Sleep Time: 129 mins<br> Avg Heart Rate: 54 bpm",
          "Sleep Time: 406 mins<br> Deep Sleep Time: 141 mins<br> Avg Heart Rate: 54 bpm",
          "Sleep Time: 402 mins<br> Deep Sleep Time: 118 mins<br> Avg Heart Rate: 54 bpm",
          "Sleep Time: 246 mins<br> Deep Sleep Time: 136 mins<br> Avg Heart Rate: 48 bpm",
          "Sleep Time: 295 mins<br> Deep Sleep Time: 83 mins<br> Avg Heart Rate: 62 bpm",
          "Sleep Time: 326 mins<br> Deep Sleep Time: 109 mins<br> Avg Heart Rate: 50 bpm",
          "Sleep Time: 380 mins<br> Deep Sleep Time: 125 mins<br> Avg Heart Rate: 54 bpm",
          "Sleep Time: 243 mins<br> Deep Sleep Time: 61 mins<br> Avg Heart Rate: 56 bpm",
          "Sleep Time: 384 mins<br> Deep Sleep Time: 81 mins<br> Avg Heart Rate: 53 bpm",
          "Sleep Time: 327 mins<br> Deep Sleep Time: 102 mins<br> Avg Heart Rate: 57 bpm",
          "Sleep Time: 461 mins<br> Deep Sleep Time: 169 mins<br> Avg Heart Rate: 57 bpm",
          "Sleep Time: 302 mins<br> Deep Sleep Time: 100 mins<br> Avg Heart Rate: 63 bpm",
          "Sleep Time: 370 mins<br> Deep Sleep Time: 105 mins<br> Avg Heart Rate: 54 bpm",
          "Sleep Time: 365 mins<br> Deep Sleep Time: 106 mins<br> Avg Heart Rate: 57 bpm",
          "Sleep Time: 411 mins<br> Deep Sleep Time: 122 mins<br> Avg Heart Rate: 58 bpm",
          "Sleep Time: 355 mins<br> Deep Sleep Time: 76 mins<br> Avg Heart Rate: 59 bpm",
          "Sleep Time: 336 mins<br> Deep Sleep Time: 108 mins<br> Avg Heart Rate: 52 bpm",
          "Sleep Time: 393 mins<br> Deep Sleep Time: 73 mins<br> Avg Heart Rate: 55 bpm",
          "Sleep Time: 341 mins<br> Deep Sleep Time: 102 mins<br> Avg Heart Rate: 57 bpm",
          "Sleep Time: 362 mins<br> Deep Sleep Time: 96 mins<br> Avg Heart Rate: 52 bpm",
          "Sleep Time: 413 mins<br> Deep Sleep Time: 114 mins<br> Avg Heart Rate: 57 bpm",
          "Sleep Time: 365 mins<br> Deep Sleep Time: 74 mins<br> Avg Heart Rate: 57 bpm",
          "Sleep Time: 320 mins<br> Deep Sleep Time: 105 mins<br> Avg Heart Rate: 50 bpm",
          "Sleep Time: 350 mins<br> Deep Sleep Time: 90 mins<br> Avg Heart Rate: 57 bpm",
          "Sleep Time: 319 mins<br> Deep Sleep Time: 133 mins<br> Avg Heart Rate: 60 bpm",
          "Sleep Time: 202 mins<br> Deep Sleep Time: 41 mins<br> Avg Heart Rate: 62 bpm",
          "Sleep Time: 306 mins<br> Deep Sleep Time: 53 mins<br> Avg Heart Rate: 54 bpm",
          "Sleep Time: 393 mins<br> Deep Sleep Time: 77 mins<br> Avg Heart Rate: 59 bpm",
          "Sleep Time: 417 mins<br> Deep Sleep Time: 122 mins<br> Avg Heart Rate: 59 bpm",
          "Sleep Time: 388 mins<br> Deep Sleep Time: 81 mins<br> Avg Heart Rate: 64 bpm",
          "Sleep Time: 407 mins<br> Deep Sleep Time: 83 mins<br> Avg Heart Rate: 60 bpm",
          "Sleep Time: 364 mins<br> Deep Sleep Time: 86 mins<br> Avg Heart Rate: 62 bpm",
          "Sleep Time: 395 mins<br> Deep Sleep Time: 84 mins<br> Avg Heart Rate: 55 bpm",
          "Sleep Time: 401 mins<br> Deep Sleep Time: 133 mins<br> Avg Heart Rate: 58 bpm",
          "Sleep Time: 422 mins<br> Deep Sleep Time: 107 mins<br> Avg Heart Rate: 55 bpm",
          "Sleep Time: 432 mins<br> Deep Sleep Time: 133 mins<br> Avg Heart Rate: 60 bpm",
          "Sleep Time: 380 mins<br> Deep Sleep Time: 125 mins<br> Avg Heart Rate: 61 bpm",
          "Sleep Time: 494 mins<br> Deep Sleep Time: 102 mins<br> Avg Heart Rate: 62 bpm",
          "Sleep Time: 330 mins<br> Deep Sleep Time: 85 mins<br> Avg Heart Rate: 61 bpm",
          "Sleep Time: 410 mins<br> Deep Sleep Time: 108 mins<br> Avg Heart Rate: 54 bpm",
          "Sleep Time: 385 mins<br> Deep Sleep Time: 115 mins<br> Avg Heart Rate: 59 bpm",
          "Sleep Time: 432 mins<br> Deep Sleep Time: 110 mins<br> Avg Heart Rate: 59 bpm",
          "Sleep Time: 406 mins<br> Deep Sleep Time: 109 mins<br> Avg Heart Rate: 58 bpm",
          "Sleep Time: 380 mins<br> Deep Sleep Time: 74 mins<br> Avg Heart Rate: 62 bpm",
          "Sleep Time: 415 mins<br> Deep Sleep Time: 57 mins<br> Avg Heart Rate: 67 bpm",
          "Sleep Time: 430 mins<br> Deep Sleep Time: 96 mins<br> Avg Heart Rate: 55 bpm",
          "Sleep Time: 286 mins<br> Deep Sleep Time: 55 mins<br> Avg Heart Rate: 59 bpm",
          "Sleep Time: 382 mins<br> Deep Sleep Time: 90 mins<br> Avg Heart Rate: 55 bpm",
          "Sleep Time: 358 mins<br> Deep Sleep Time: 107 mins<br> Avg Heart Rate: 52 bpm",
          "Sleep Time: 397 mins<br> Deep Sleep Time: 139 mins<br> Avg Heart Rate: 59 bpm",
          "Sleep Time: 425 mins<br> Deep Sleep Time: 113 mins<br> Avg Heart Rate: 55 bpm",
          "Sleep Time: 392 mins<br> Deep Sleep Time: 98 mins<br> Avg Heart Rate: 57 bpm",
          "Sleep Time: 516 mins<br> Deep Sleep Time: 108 mins<br> Avg Heart Rate: 60 bpm",
          "Sleep Time: 397 mins<br> Deep Sleep Time: 97 mins<br> Avg Heart Rate: 56 bpm",
          "Sleep Time: 375 mins<br> Deep Sleep Time: 131 mins<br> Avg Heart Rate: 59 bpm",
          "Sleep Time: 397 mins<br> Deep Sleep Time: 67 mins<br> Avg Heart Rate: 55 bpm",
          "Sleep Time: 371 mins<br> Deep Sleep Time: 113 mins<br> Avg Heart Rate: 53 bpm",
          "Sleep Time: 361 mins<br> Deep Sleep Time: 98 mins<br> Avg Heart Rate: 51 bpm",
          "Sleep Time: 370 mins<br> Deep Sleep Time: 115 mins<br> Avg Heart Rate: 56 bpm",
          "Sleep Time: 379 mins<br> Deep Sleep Time: 144 mins<br> Avg Heart Rate: 57 bpm",
          "Sleep Time: 410 mins<br> Deep Sleep Time: 131 mins<br> Avg Heart Rate: 55 bpm",
          "Sleep Time: 357 mins<br> Deep Sleep Time: 152 mins<br> Avg Heart Rate: 56 bpm",
          "Sleep Time: 360 mins<br> Deep Sleep Time: 52 mins<br> Avg Heart Rate: 52 bpm",
          "Sleep Time: 372 mins<br> Deep Sleep Time: 103 mins<br> Avg Heart Rate: 55 bpm",
          "Sleep Time: 375 mins<br> Deep Sleep Time: 67 mins<br> Avg Heart Rate: 54 bpm",
          "Sleep Time: 405 mins<br> Deep Sleep Time: 121 mins<br> Avg Heart Rate: 54 bpm",
          "Sleep Time: 300 mins<br> Deep Sleep Time: 108 mins<br> Avg Heart Rate: 52 bpm",
          "Sleep Time: 387 mins<br> Deep Sleep Time: 114 mins<br> Avg Heart Rate: 53 bpm",
          "Sleep Time: 365 mins<br> Deep Sleep Time: 97 mins<br> Avg Heart Rate: 53 bpm",
          "Sleep Time: 385 mins<br> Deep Sleep Time: 104 mins<br> Avg Heart Rate: 52 bpm",
          "Sleep Time: 395 mins<br> Deep Sleep Time: 64 mins<br> Avg Heart Rate: 53 bpm",
          "Sleep Time: 378 mins<br> Deep Sleep Time: 79 mins<br> Avg Heart Rate: 56 bpm",
          "Sleep Time: 409 mins<br> Deep Sleep Time: 82 mins<br> Avg Heart Rate: 59 bpm",
          "Sleep Time: 485 mins<br> Deep Sleep Time: 150 mins<br> Avg Heart Rate: 53 bpm",
          "Sleep Time: 368 mins<br> Deep Sleep Time: 119 mins<br> Avg Heart Rate: 57 bpm",
          "Sleep Time: 343 mins<br> Deep Sleep Time: 52 mins<br> Avg Heart Rate: 53 bpm",
          "Sleep Time: 421 mins<br> Deep Sleep Time: 137 mins<br> Avg Heart Rate: 57 bpm",
          "Sleep Time: 393 mins<br> Deep Sleep Time: 139 mins<br> Avg Heart Rate: 59 bpm",
          "Sleep Time: 409 mins<br> Deep Sleep Time: 60 mins<br> Avg Heart Rate: 55 bpm",
          "Sleep Time: 428 mins<br> Deep Sleep Time: 125 mins<br> Avg Heart Rate: 60 bpm",
          "Sleep Time: 420 mins<br> Deep Sleep Time: 109 mins<br> Avg Heart Rate: 57 bpm",
          "Sleep Time: 407 mins<br> Deep Sleep Time: 134 mins<br> Avg Heart Rate: 54 bpm",
          "Sleep Time: 446 mins<br> Deep Sleep Time: 134 mins<br> Avg Heart Rate: 58 bpm",
          "Sleep Time: 369 mins<br> Deep Sleep Time: 116 mins<br> Avg Heart Rate: 52 bpm",
          "Sleep Time: 420 mins<br> Deep Sleep Time: 72 mins<br> Avg Heart Rate: 57 bpm",
          "Sleep Time: 386 mins<br> Deep Sleep Time: 122 mins<br> Avg Heart Rate: 58 bpm",
          "Sleep Time: 413 mins<br> Deep Sleep Time: 146 mins<br> Avg Heart Rate: 58 bpm",
          "Sleep Time: 450 mins<br> Deep Sleep Time: 131 mins<br> Avg Heart Rate: 56 bpm",
          "Sleep Time: 419 mins<br> Deep Sleep Time: 114 mins<br> Avg Heart Rate: 52 bpm",
          "Sleep Time: 363 mins<br> Deep Sleep Time: 85 mins<br> Avg Heart Rate: 54 bpm",
          "Sleep Time: 417 mins<br> Deep Sleep Time: 137 mins<br> Avg Heart Rate: 52 bpm",
          "Sleep Time: 379 mins<br> Deep Sleep Time: 144 mins<br> Avg Heart Rate: 59 bpm",
          "Sleep Time: 426 mins<br> Deep Sleep Time: 99 mins<br> Avg Heart Rate: 52 bpm",
          "Sleep Time: 408 mins<br> Deep Sleep Time: 82 mins<br> Avg Heart Rate: 57 bpm",
          "Sleep Time: 450 mins<br> Deep Sleep Time: 85 mins<br> Avg Heart Rate: 59 bpm",
          "Sleep Time: 421 mins<br> Deep Sleep Time: 142 mins<br> Avg Heart Rate: 59 bpm",
          "Sleep Time: 403 mins<br> Deep Sleep Time: 136 mins<br> Avg Heart Rate: 56 bpm",
          "Sleep Time: 392 mins<br> Deep Sleep Time: 125 mins<br> Avg Heart Rate: 57 bpm",
          "Sleep Time: 364 mins<br> Deep Sleep Time: 56 mins<br> Avg Heart Rate: 56 bpm",
          "Sleep Time: 448 mins<br> Deep Sleep Time: 66 mins<br> Avg Heart Rate: 54 bpm",
          "Sleep Time: 526 mins<br> Deep Sleep Time: 99 mins<br> Avg Heart Rate: 54 bpm",
          "Sleep Time: 337 mins<br> Deep Sleep Time: 45 mins<br> Avg Heart Rate: 56 bpm",
          "Sleep Time: 380 mins<br> Deep Sleep Time: 97 mins<br> Avg Heart Rate: 52 bpm",
          "Sleep Time: 292 mins<br> Deep Sleep Time: 84 mins<br> Avg Heart Rate: 50 bpm",
          "Sleep Time: 414 mins<br> Deep Sleep Time: 66 mins<br> Avg Heart Rate: 50 bpm",
          "Sleep Time: 416 mins<br> Deep Sleep Time: 80 mins<br> Avg Heart Rate: 50 bpm",
          "Sleep Time: 442 mins<br> Deep Sleep Time: 54 mins<br> Avg Heart Rate: 51 bpm",
          "Sleep Time: 423 mins<br> Deep Sleep Time: 57 mins<br> Avg Heart Rate: 50 bpm",
          "Sleep Time: 353 mins<br> Deep Sleep Time: 122 mins<br> Avg Heart Rate: 51 bpm",
          "Sleep Time: 418 mins<br> Deep Sleep Time: 143 mins<br> Avg Heart Rate: 51 bpm",
          "Sleep Time: 409 mins<br> Deep Sleep Time: 165 mins<br> Avg Heart Rate: 57 bpm",
          "Sleep Time: 508 mins<br> Deep Sleep Time: 128 mins<br> Avg Heart Rate: 53 bpm",
          "Sleep Time: 299 mins<br> Deep Sleep Time: 123 mins<br> Avg Heart Rate: 53 bpm",
          "Sleep Time: 290 mins<br> Deep Sleep Time: 94 mins<br> Avg Heart Rate: 56 bpm",
          "Sleep Time: 456 mins<br> Deep Sleep Time: 171 mins<br> Avg Heart Rate: 55 bpm",
          "Sleep Time: 375 mins<br> Deep Sleep Time: 136 mins<br> Avg Heart Rate: 49 bpm",
          "Sleep Time: 253 mins<br> Deep Sleep Time: 86 mins<br> Avg Heart Rate: 49 bpm",
          "Sleep Time: 423 mins<br> Deep Sleep Time: 98 mins<br> Avg Heart Rate: 58 bpm",
          "Sleep Time: 336 mins<br> Deep Sleep Time: 125 mins<br> Avg Heart Rate: 51 bpm",
          "Sleep Time: 338 mins<br> Deep Sleep Time: 85 mins<br> Avg Heart Rate: 49 bpm",
          "Sleep Time: 386 mins<br> Deep Sleep Time: 110 mins<br> Avg Heart Rate: 60 bpm",
          "Sleep Time: 447 mins<br> Deep Sleep Time: 92 mins<br> Avg Heart Rate: 52 bpm",
          "Sleep Time: 278 mins<br> Deep Sleep Time: 134 mins<br> Avg Heart Rate: 54 bpm",
          "Sleep Time: 424 mins<br> Deep Sleep Time: 150 mins<br> Avg Heart Rate: 53 bpm",
          "Sleep Time: 423 mins<br> Deep Sleep Time: 94 mins<br> Avg Heart Rate: 52 bpm",
          "Sleep Time: 403 mins<br> Deep Sleep Time: 73 mins<br> Avg Heart Rate: 54 bpm",
          "Sleep Time: 289 mins<br> Deep Sleep Time: 107 mins<br> Avg Heart Rate: 52 bpm",
          "Sleep Time: 355 mins<br> Deep Sleep Time: 104 mins<br> Avg Heart Rate: 50 bpm",
          "Sleep Time: 296 mins<br> Deep Sleep Time: 88 mins<br> Avg Heart Rate: 53 bpm",
          "Sleep Time: 349 mins<br> Deep Sleep Time: 78 mins<br> Avg Heart Rate: 52 bpm",
          "Sleep Time: 306 mins<br> Deep Sleep Time: 68 mins<br> Avg Heart Rate: 52 bpm",
          "Sleep Time: 411 mins<br> Deep Sleep Time: 99 mins<br> Avg Heart Rate: 53 bpm",
          "Sleep Time: 307 mins<br> Deep Sleep Time: 58 mins<br> Avg Heart Rate: 54 bpm",
          "Sleep Time: 449 mins<br> Deep Sleep Time: 116 mins<br> Avg Heart Rate: 53 bpm",
          "Sleep Time: 364 mins<br> Deep Sleep Time: 105 mins<br> Avg Heart Rate: 53 bpm",
          "Sleep Time: 457 mins<br> Deep Sleep Time: 141 mins<br> Avg Heart Rate: 56 bpm",
          "Sleep Time: 377 mins<br> Deep Sleep Time: 128 mins<br> Avg Heart Rate: 52 bpm",
          "Sleep Time: 443 mins<br> Deep Sleep Time: 145 mins<br> Avg Heart Rate: 55 bpm",
          "Sleep Time: 380 mins<br> Deep Sleep Time: 88 mins<br> Avg Heart Rate: 57 bpm",
          "Sleep Time: 368 mins<br> Deep Sleep Time: 72 mins<br> Avg Heart Rate: 56 bpm",
          "Sleep Time: 381 mins<br> Deep Sleep Time: 118 mins<br> Avg Heart Rate: 52 bpm",
          "Sleep Time: 403 mins<br> Deep Sleep Time: 87 mins<br> Avg Heart Rate: 61 bpm",
          "Sleep Time: 375 mins<br> Deep Sleep Time: 103 mins<br> Avg Heart Rate: 57 bpm",
          "Sleep Time: 364 mins<br> Deep Sleep Time: 83 mins<br> Avg Heart Rate: 50 bpm",
          "Sleep Time: 366 mins<br> Deep Sleep Time: 66 mins<br> Avg Heart Rate: 54 bpm",
          "Sleep Time: 436 mins<br> Deep Sleep Time: 119 mins<br> Avg Heart Rate: 53 bpm",
          "Sleep Time: 310 mins<br> Deep Sleep Time: 68 mins<br> Avg Heart Rate: 55 bpm",
          "Sleep Time: 438 mins<br> Deep Sleep Time: 121 mins<br> Avg Heart Rate: 61 bpm",
          "Sleep Time: 420 mins<br> Deep Sleep Time: 102 mins<br> Avg Heart Rate: 61 bpm",
          "Sleep Time: 357 mins<br> Deep Sleep Time: 101 mins<br> Avg Heart Rate: 56 bpm",
          "Sleep Time: 338 mins<br> Deep Sleep Time: 62 mins<br> Avg Heart Rate: 56 bpm",
          "Sleep Time: 349 mins<br> Deep Sleep Time: 97 mins<br> Avg Heart Rate: 58 bpm",
          "Sleep Time: 390 mins<br> Deep Sleep Time: 111 mins<br> Avg Heart Rate: 60 bpm",
          "Sleep Time: 360 mins<br> Deep Sleep Time: 150 mins<br> Avg Heart Rate: 56 bpm",
          "Sleep Time: 379 mins<br> Deep Sleep Time: 121 mins<br> Avg Heart Rate: 61 bpm",
          "Sleep Time: 388 mins<br> Deep Sleep Time: 117 mins<br> Avg Heart Rate: 57 bpm",
          "Sleep Time: 336 mins<br> Deep Sleep Time: 120 mins<br> Avg Heart Rate: 57 bpm",
          "Sleep Time: 368 mins<br> Deep Sleep Time: 85 mins<br> Avg Heart Rate: 54 bpm",
          "Sleep Time: 379 mins<br> Deep Sleep Time: 101 mins<br> Avg Heart Rate: 56 bpm",
          "Sleep Time: 429 mins<br> Deep Sleep Time: 93 mins<br> Avg Heart Rate: 57 bpm",
          "Sleep Time: 393 mins<br> Deep Sleep Time: 116 mins<br> Avg Heart Rate: 56 bpm",
          "Sleep Time: 446 mins<br> Deep Sleep Time: 83 mins<br> Avg Heart Rate: 54 bpm",
          "Sleep Time: 358 mins<br> Deep Sleep Time: 96 mins<br> Avg Heart Rate: 60 bpm",
          "Sleep Time: 406 mins<br> Deep Sleep Time: 87 mins<br> Avg Heart Rate: 56 bpm",
          "Sleep Time: 386 mins<br> Deep Sleep Time: 122 mins<br> Avg Heart Rate: 55 bpm",
          "Sleep Time: 360 mins<br> Deep Sleep Time: 78 mins<br> Avg Heart Rate: 55 bpm",
          "Sleep Time: 400 mins<br> Deep Sleep Time: 149 mins<br> Avg Heart Rate: 50 bpm",
          "Sleep Time: 457 mins<br> Deep Sleep Time: 125 mins<br> Avg Heart Rate: 53 bpm",
          "Sleep Time: 414 mins<br> Deep Sleep Time: 67 mins<br> Avg Heart Rate: 49 bpm",
          "Sleep Time: 404 mins<br> Deep Sleep Time: 99 mins<br> Avg Heart Rate: 49 bpm",
          "Sleep Time: 458 mins<br> Deep Sleep Time: 88 mins<br> Avg Heart Rate: 57 bpm",
          "Sleep Time: 394 mins<br> Deep Sleep Time: 67 mins<br> Avg Heart Rate: 54 bpm",
          "Sleep Time: 428 mins<br> Deep Sleep Time: 123 mins<br> Avg Heart Rate: 51 bpm",
          "Sleep Time: 441 mins<br> Deep Sleep Time: 145 mins<br> Avg Heart Rate: 48 bpm",
          "Sleep Time: 493 mins<br> Deep Sleep Time: 202 mins<br> Avg Heart Rate: 52 bpm",
          "Sleep Time: 449 mins<br> Deep Sleep Time: 66 mins<br> Avg Heart Rate: 55 bpm",
          "Sleep Time: 467 mins<br> Deep Sleep Time: 196 mins<br> Avg Heart Rate: 55 bpm",
          "Sleep Time: 238 mins<br> Deep Sleep Time: 89 mins<br> Avg Heart Rate: 55 bpm",
          "Sleep Time: 296 mins<br> Deep Sleep Time: 66 mins<br> Avg Heart Rate: 54 bpm",
          "Sleep Time: 372 mins<br> Deep Sleep Time: 138 mins<br> Avg Heart Rate: 59 bpm",
          "Sleep Time: 357 mins<br> Deep Sleep Time: 101 mins<br> Avg Heart Rate: 53 bpm",
          "Sleep Time: 428 mins<br> Deep Sleep Time: 51 mins<br> Avg Heart Rate: 57 bpm",
          "Sleep Time: 342 mins<br> Deep Sleep Time: 116 mins<br> Avg Heart Rate: 50 bpm",
          "Sleep Time: 430 mins<br> Deep Sleep Time: 75 mins<br> Avg Heart Rate: 48 bpm",
          "Sleep Time: 333 mins<br> Deep Sleep Time: 109 mins<br> Avg Heart Rate: 49 bpm",
          "Sleep Time: 441 mins<br> Deep Sleep Time: 85 mins<br> Avg Heart Rate: 56 bpm",
          "Sleep Time: 485 mins<br> Deep Sleep Time: 189 mins<br> Avg Heart Rate: 51 bpm",
          "Sleep Time: 387 mins<br> Deep Sleep Time: 145 mins<br> Avg Heart Rate: 52 bpm",
          "Sleep Time: 498 mins<br> Deep Sleep Time: 105 mins<br> Avg Heart Rate: 54 bpm",
          "Sleep Time: 456 mins<br> Deep Sleep Time: 182 mins<br> Avg Heart Rate: 60 bpm",
          "Sleep Time: 459 mins<br> Deep Sleep Time: 91 mins<br> Avg Heart Rate: 60 bpm",
          "Sleep Time: 373 mins<br> Deep Sleep Time: 109 mins<br> Avg Heart Rate: 59 bpm",
          "Sleep Time: 457 mins<br> Deep Sleep Time: 111 mins<br> Avg Heart Rate: 59 bpm",
          "Sleep Time: 440 mins<br> Deep Sleep Time: 124 mins<br> Avg Heart Rate: 55 bpm",
          "Sleep Time: 413 mins<br> Deep Sleep Time: 94 mins<br> Avg Heart Rate: 55 bpm",
          "Sleep Time: 424 mins<br> Deep Sleep Time: 111 mins<br> Avg Heart Rate: 60 bpm",
          "Sleep Time: 426 mins<br> Deep Sleep Time: 66 mins<br> Avg Heart Rate: 59 bpm",
          "Sleep Time: 329 mins<br> Deep Sleep Time: 61 mins<br> Avg Heart Rate: 56 bpm",
          "Sleep Time: 360 mins<br> Deep Sleep Time: 99 mins<br> Avg Heart Rate: 57 bpm",
          "Sleep Time: 424 mins<br> Deep Sleep Time: 98 mins<br> Avg Heart Rate: 55 bpm",
          "Sleep Time: 467 mins<br> Deep Sleep Time: 175 mins<br> Avg Heart Rate: 55 bpm",
          "Sleep Time: 386 mins<br> Deep Sleep Time: 101 mins<br> Avg Heart Rate: 53 bpm",
          "Sleep Time: 383 mins<br> Deep Sleep Time: 61 mins<br> Avg Heart Rate: 52 bpm",
          "Sleep Time: 344 mins<br> Deep Sleep Time: 79 mins<br> Avg Heart Rate: 54 bpm",
          "Sleep Time: 366 mins<br> Deep Sleep Time: 107 mins<br> Avg Heart Rate: 59 bpm",
          "Sleep Time: 412 mins<br> Deep Sleep Time: 88 mins<br> Avg Heart Rate: 54 bpm",
          "Sleep Time: 461 mins<br> Deep Sleep Time: 97 mins<br> Avg Heart Rate: 53 bpm",
          "Sleep Time: 385 mins<br> Deep Sleep Time: 119 mins<br> Avg Heart Rate: 53 bpm",
          "Sleep Time: 380 mins<br> Deep Sleep Time: 80 mins<br> Avg Heart Rate: 56 bpm",
          "Sleep Time: 412 mins<br> Deep Sleep Time: 83 mins<br> Avg Heart Rate: 54 bpm",
          "Sleep Time: 441 mins<br> Deep Sleep Time: 73 mins<br> Avg Heart Rate: 54 bpm",
          "Sleep Time: 487 mins<br> Deep Sleep Time: 186 mins<br> Avg Heart Rate: 57 bpm",
          "Sleep Time: 354 mins<br> Deep Sleep Time: 94 mins<br> Avg Heart Rate: 57 bpm",
          "Sleep Time: 405 mins<br> Deep Sleep Time: 116 mins<br> Avg Heart Rate: 52 bpm",
          "Sleep Time: 385 mins<br> Deep Sleep Time: 155 mins<br> Avg Heart Rate: 51 bpm",
          "Sleep Time: 388 mins<br> Deep Sleep Time: 147 mins<br> Avg Heart Rate: 54 bpm",
          "Sleep Time: 481 mins<br> Deep Sleep Time: 148 mins<br> Avg Heart Rate: 54 bpm",
          "Sleep Time: 315 mins<br> Deep Sleep Time: 57 mins<br> Avg Heart Rate: 52 bpm"
         ],
         "type": "scatter",
         "x": [
          "2022-11-11T00:00:00",
          "2022-11-10T00:00:00",
          "2022-11-09T00:00:00",
          "2022-11-08T00:00:00",
          "2022-11-07T00:00:00",
          "2022-11-06T00:00:00",
          "2022-11-05T00:00:00",
          "2022-11-04T00:00:00",
          "2022-11-03T00:00:00",
          "2022-11-02T00:00:00",
          "2022-11-01T00:00:00",
          "2022-10-31T00:00:00",
          "2022-10-30T00:00:00",
          "2022-10-29T00:00:00",
          "2022-10-28T00:00:00",
          "2022-10-27T00:00:00",
          "2022-10-26T00:00:00",
          "2022-10-25T00:00:00",
          "2022-10-24T00:00:00",
          "2022-10-23T00:00:00",
          "2022-10-22T00:00:00",
          "2022-10-21T00:00:00",
          "2022-10-20T00:00:00",
          "2022-10-19T00:00:00",
          "2022-10-18T00:00:00",
          "2022-10-17T00:00:00",
          "2022-10-16T00:00:00",
          "2022-10-15T00:00:00",
          "2022-10-14T00:00:00",
          "2022-10-13T00:00:00",
          "2022-10-12T00:00:00",
          "2022-10-11T00:00:00",
          "2022-10-10T00:00:00",
          "2022-10-09T00:00:00",
          "2022-10-08T00:00:00",
          "2022-10-07T00:00:00",
          "2022-10-06T00:00:00",
          "2022-10-05T00:00:00",
          "2022-10-04T00:00:00",
          "2022-10-03T00:00:00",
          "2022-10-02T00:00:00",
          "2022-09-30T00:00:00",
          "2022-09-29T00:00:00",
          "2022-09-28T00:00:00",
          "2022-09-27T00:00:00",
          "2022-09-26T00:00:00",
          "2022-09-25T00:00:00",
          "2022-09-24T00:00:00",
          "2022-09-23T00:00:00",
          "2022-09-22T00:00:00",
          "2022-09-21T00:00:00",
          "2022-09-20T00:00:00",
          "2022-09-19T00:00:00",
          "2022-09-16T00:00:00",
          "2022-09-15T00:00:00",
          "2022-09-14T00:00:00",
          "2022-09-13T00:00:00",
          "2022-09-12T00:00:00",
          "2022-09-11T00:00:00",
          "2022-09-10T00:00:00",
          "2022-09-09T00:00:00",
          "2022-09-08T00:00:00",
          "2022-09-07T00:00:00",
          "2022-09-06T00:00:00",
          "2022-09-05T00:00:00",
          "2022-09-04T00:00:00",
          "2022-09-03T00:00:00",
          "2022-09-02T00:00:00",
          "2022-09-01T00:00:00",
          "2022-08-31T00:00:00",
          "2022-08-30T00:00:00",
          "2022-08-29T00:00:00",
          "2022-08-28T00:00:00",
          "2022-08-27T00:00:00",
          "2022-08-26T00:00:00",
          "2022-08-25T00:00:00",
          "2022-08-24T00:00:00",
          "2022-08-23T00:00:00",
          "2022-08-22T00:00:00",
          "2022-08-21T00:00:00",
          "2022-08-20T00:00:00",
          "2022-08-19T00:00:00",
          "2022-08-18T00:00:00",
          "2022-08-17T00:00:00",
          "2022-08-16T00:00:00",
          "2022-08-15T00:00:00",
          "2022-08-14T00:00:00",
          "2022-08-13T00:00:00",
          "2022-08-12T00:00:00",
          "2022-08-11T00:00:00",
          "2022-08-10T00:00:00",
          "2022-08-09T00:00:00",
          "2022-08-08T00:00:00",
          "2022-08-07T00:00:00",
          "2022-08-06T00:00:00",
          "2022-08-05T00:00:00",
          "2022-08-04T00:00:00",
          "2022-08-03T00:00:00",
          "2022-08-02T00:00:00",
          "2022-08-01T00:00:00",
          "2022-07-31T00:00:00",
          "2022-07-30T00:00:00",
          "2022-07-29T00:00:00",
          "2022-07-28T00:00:00",
          "2022-07-27T00:00:00",
          "2022-07-26T00:00:00",
          "2022-07-25T00:00:00",
          "2022-07-24T00:00:00",
          "2022-07-23T00:00:00",
          "2022-07-22T00:00:00",
          "2022-07-21T00:00:00",
          "2022-07-20T00:00:00",
          "2022-07-19T00:00:00",
          "2022-07-18T00:00:00",
          "2022-07-17T00:00:00",
          "2022-07-16T00:00:00",
          "2022-07-15T00:00:00",
          "2022-07-14T00:00:00",
          "2022-07-13T00:00:00",
          "2022-07-12T00:00:00",
          "2022-07-11T00:00:00",
          "2022-07-10T00:00:00",
          "2022-07-09T00:00:00",
          "2022-07-08T00:00:00",
          "2022-07-07T00:00:00",
          "2022-07-06T00:00:00",
          "2022-07-05T00:00:00",
          "2022-07-04T00:00:00",
          "2022-07-03T00:00:00",
          "2022-07-02T00:00:00",
          "2022-07-01T00:00:00",
          "2022-06-30T00:00:00",
          "2022-06-29T00:00:00",
          "2022-06-28T00:00:00",
          "2022-06-27T00:00:00",
          "2022-06-26T00:00:00",
          "2022-06-25T00:00:00",
          "2022-06-24T00:00:00",
          "2022-06-23T00:00:00",
          "2022-06-22T00:00:00",
          "2022-06-20T00:00:00",
          "2022-06-19T00:00:00",
          "2022-06-18T00:00:00",
          "2022-06-17T00:00:00",
          "2022-06-16T00:00:00",
          "2022-06-15T00:00:00",
          "2022-06-14T00:00:00",
          "2022-06-13T00:00:00",
          "2022-06-12T00:00:00",
          "2022-06-11T00:00:00",
          "2022-06-10T00:00:00",
          "2022-06-09T00:00:00",
          "2022-06-08T00:00:00",
          "2022-06-07T00:00:00",
          "2022-06-06T00:00:00",
          "2022-06-05T00:00:00",
          "2022-06-04T00:00:00",
          "2022-06-03T00:00:00",
          "2022-06-02T00:00:00",
          "2022-06-01T00:00:00",
          "2022-05-31T00:00:00",
          "2022-05-30T00:00:00",
          "2022-05-29T00:00:00",
          "2022-05-28T00:00:00",
          "2022-05-27T00:00:00",
          "2022-05-26T00:00:00",
          "2022-05-25T00:00:00",
          "2022-05-24T00:00:00",
          "2022-05-23T00:00:00",
          "2022-05-22T00:00:00",
          "2022-05-21T00:00:00",
          "2022-05-20T00:00:00",
          "2022-05-19T00:00:00",
          "2022-05-18T00:00:00",
          "2022-05-17T00:00:00",
          "2022-05-16T00:00:00",
          "2022-05-15T00:00:00",
          "2022-05-14T00:00:00",
          "2022-05-13T00:00:00",
          "2022-05-12T00:00:00",
          "2022-05-11T00:00:00",
          "2022-05-10T00:00:00",
          "2022-05-09T00:00:00",
          "2022-05-08T00:00:00",
          "2022-05-07T00:00:00",
          "2022-05-06T00:00:00",
          "2022-05-05T00:00:00",
          "2022-05-04T00:00:00",
          "2022-05-03T00:00:00",
          "2022-05-02T00:00:00",
          "2022-05-01T00:00:00",
          "2022-04-30T00:00:00",
          "2022-04-29T00:00:00",
          "2022-04-28T00:00:00",
          "2022-04-27T00:00:00",
          "2022-04-26T00:00:00",
          "2022-04-25T00:00:00",
          "2022-04-24T00:00:00",
          "2022-04-23T00:00:00",
          "2022-04-22T00:00:00",
          "2022-04-21T00:00:00",
          "2022-04-20T00:00:00",
          "2022-04-19T00:00:00",
          "2022-04-18T00:00:00",
          "2022-04-17T00:00:00",
          "2022-04-16T00:00:00",
          "2022-04-15T00:00:00",
          "2022-04-14T00:00:00",
          "2022-04-13T00:00:00",
          "2022-04-12T00:00:00",
          "2022-04-11T00:00:00",
          "2022-04-10T00:00:00",
          "2022-04-09T00:00:00",
          "2022-04-08T00:00:00",
          "2022-04-07T00:00:00",
          "2022-04-06T00:00:00",
          "2022-04-05T00:00:00",
          "2022-04-04T00:00:00",
          "2022-04-03T00:00:00",
          "2022-04-02T00:00:00",
          "2022-04-01T00:00:00",
          "2022-03-31T00:00:00",
          "2022-03-30T00:00:00",
          "2022-03-29T00:00:00",
          "2022-03-28T00:00:00",
          "2022-03-27T00:00:00",
          "2022-03-26T00:00:00",
          "2022-03-25T00:00:00",
          "2022-03-24T00:00:00",
          "2022-03-23T00:00:00",
          "2022-03-22T00:00:00",
          "2022-03-21T00:00:00",
          "2022-03-20T00:00:00",
          "2022-03-19T00:00:00",
          "2022-03-18T00:00:00",
          "2022-03-17T00:00:00",
          "2022-03-16T00:00:00",
          "2022-03-15T00:00:00",
          "2022-03-14T00:00:00",
          "2022-03-13T00:00:00",
          "2022-03-12T00:00:00",
          "2022-03-11T00:00:00",
          "2022-03-10T00:00:00",
          "2022-03-09T00:00:00",
          "2022-03-08T00:00:00",
          "2022-03-07T00:00:00",
          "2022-03-05T00:00:00",
          "2022-03-04T00:00:00",
          "2022-03-03T00:00:00",
          "2022-03-02T00:00:00",
          "2022-03-01T00:00:00",
          "2022-02-28T00:00:00",
          "2022-02-27T00:00:00",
          "2022-02-26T00:00:00",
          "2022-02-25T00:00:00",
          "2022-02-24T00:00:00",
          "2022-02-23T00:00:00",
          "2022-02-22T00:00:00",
          "2022-02-21T00:00:00",
          "2022-02-20T00:00:00",
          "2022-02-19T00:00:00",
          "2022-02-18T00:00:00",
          "2022-02-17T00:00:00",
          "2022-02-16T00:00:00",
          "2022-02-15T00:00:00",
          "2022-02-14T00:00:00",
          "2022-02-13T00:00:00",
          "2022-02-12T00:00:00",
          "2022-02-11T00:00:00",
          "2022-02-10T00:00:00",
          "2022-02-09T00:00:00",
          "2022-02-08T00:00:00",
          "2022-02-07T00:00:00",
          "2022-02-06T00:00:00",
          "2022-02-05T00:00:00",
          "2022-02-04T00:00:00",
          "2022-02-03T00:00:00",
          "2022-02-02T00:00:00",
          "2022-02-01T00:00:00",
          "2022-01-31T00:00:00",
          "2022-01-30T00:00:00",
          "2022-01-29T00:00:00",
          "2022-01-28T00:00:00",
          "2022-01-27T00:00:00",
          "2022-01-26T00:00:00",
          "2022-01-25T00:00:00",
          "2022-01-24T00:00:00",
          "2022-01-23T00:00:00",
          "2022-01-22T00:00:00",
          "2022-01-21T00:00:00",
          "2022-01-20T00:00:00",
          "2022-01-19T00:00:00",
          "2022-01-18T00:00:00",
          "2022-01-17T00:00:00",
          "2022-01-16T00:00:00",
          "2022-01-15T00:00:00",
          "2022-01-14T00:00:00",
          "2022-01-13T00:00:00",
          "2022-01-12T00:00:00",
          "2022-01-11T00:00:00",
          "2022-01-10T00:00:00",
          "2022-01-09T00:00:00",
          "2022-01-08T00:00:00",
          "2022-01-07T00:00:00",
          "2022-01-06T00:00:00",
          "2022-01-05T00:00:00",
          "2022-01-04T00:00:00",
          "2022-01-03T00:00:00",
          "2022-01-02T00:00:00",
          "2022-01-01T00:00:00",
          "2021-12-31T00:00:00",
          "2021-12-30T00:00:00",
          "2021-12-29T00:00:00",
          "2021-12-28T00:00:00",
          "2021-12-27T00:00:00",
          "2021-12-26T00:00:00",
          "2021-12-25T00:00:00",
          "2021-12-24T00:00:00",
          "2021-12-23T00:00:00",
          "2021-12-22T00:00:00",
          "2021-12-21T00:00:00",
          "2021-12-20T00:00:00",
          "2021-12-19T00:00:00",
          "2021-12-18T00:00:00",
          "2021-12-17T00:00:00",
          "2021-12-16T00:00:00",
          "2021-12-15T00:00:00",
          "2021-12-14T00:00:00",
          "2021-12-13T00:00:00",
          "2021-12-12T00:00:00",
          "2021-12-11T00:00:00",
          "2021-12-10T00:00:00",
          "2021-12-09T00:00:00",
          "2021-12-08T00:00:00",
          "2021-12-07T00:00:00",
          "2021-12-06T00:00:00",
          "2021-12-05T00:00:00",
          "2021-12-04T00:00:00",
          "2021-12-03T00:00:00",
          "2021-12-02T00:00:00",
          "2021-12-01T00:00:00",
          "2021-11-30T00:00:00",
          "2021-11-29T00:00:00",
          "2021-11-28T00:00:00",
          "2021-11-27T00:00:00",
          "2021-11-26T00:00:00",
          "2021-11-25T00:00:00",
          "2021-11-24T00:00:00",
          "2021-11-23T00:00:00"
         ],
         "y": [
          null,
          null,
          null,
          null,
          null,
          null,
          null,
          null,
          null,
          null,
          null,
          null,
          null,
          null,
          null,
          null,
          null,
          null,
          null,
          null,
          null,
          null,
          null,
          null,
          null,
          null,
          null,
          null,
          null,
          412.8333333333333,
          405.6666666666667,
          409.9,
          408.76666666666665,
          408.96666666666664,
          403.7,
          397.4,
          397.8,
          397.2,
          398.1666666666667,
          395,
          394.3666666666667,
          391.06666666666666,
          389,
          387.5,
          388.1666666666667,
          386.06666666666666,
          388.3333333333333,
          382.43333333333334,
          381.73333333333335,
          383.9,
          377.3333333333333,
          374.6666666666667,
          377.6666666666667,
          370.23333333333335,
          369.73333333333335,
          367.93333333333334,
          368.93333333333334,
          372.3666666666667,
          367.93333333333334,
          367.1,
          368.1,
          366.56666666666666,
          366.56666666666666,
          368.53333333333336,
          365.1333333333333,
          369.93333333333334,
          369.8333333333333,
          364.7,
          362.6333333333333,
          365.7,
          363.6333333333333,
          363.6666666666667,
          364.43333333333334,
          363.03333333333336,
          358.8666666666667,
          359.6666666666667,
          361.53333333333336,
          363.7,
          366.3666666666667,
          368.53333333333336,
          375,
          380.3,
          377.73333333333335,
          383.93333333333334,
          386.26666666666665,
          387.93333333333334,
          392.06666666666666,
          393.6333333333333,
          394.1333333333333,
          395.53333333333336,
          398.6,
          396,
          394.43333333333334,
          391.8,
          395.3333333333333,
          395.46666666666664,
          394.1,
          399.76666666666665,
          398.8333333333333,
          398.76666666666665,
          402.2,
          403.3666666666667,
          403.93333333333334,
          404.3666666666667,
          406.03333333333336,
          408.1333333333333,
          406.06666666666666,
          404.6333333333333,
          397.3666666666667,
          395.73333333333335,
          394.6,
          392,
          391.1333333333333,
          392.06666666666666,
          389.43333333333334,
          389.5,
          383.7,
          380.6666666666667,
          382.03333333333336,
          380.23333333333335,
          377.06666666666666,
          374.26666666666665,
          374.1666666666667,
          374.8,
          375.6666666666667,
          377,
          376.53333333333336,
          375.1,
          377.6333333333333,
          374,
          370.43333333333334,
          368.6,
          367.5,
          370.53333333333336,
          364.8666666666667,
          359.6666666666667,
          358.6333333333333,
          359.8333333333333,
          359.93333333333334,
          358.3,
          356.96666666666664,
          359.6,
          357.93333333333334,
          355.8666666666667,
          356.26666666666665,
          355.23333333333335,
          355.8333333333333,
          353.8333333333333,
          355.6,
          354.76666666666665,
          355.1666666666667,
          360.43333333333334,
          361.1666666666667,
          359.8666666666667,
          359.1333333333333,
          356.53333333333336,
          350.9,
          347.4,
          346.46666666666664,
          349,
          350.4,
          352.8333333333333,
          351.43333333333334,
          351.2,
          356.3666666666667,
          360.6,
          364.1333333333333,
          364.1333333333333,
          372.5,
          370.7,
          373.46666666666664,
          370.93333333333334,
          375.26666666666665,
          376.46666666666664,
          376.96666666666664,
          377.1,
          379.6,
          377.93333333333334,
          377.56666666666666,
          378.1333333333333,
          379.3,
          379.7,
          380.6,
          387.1333333333333,
          388.7,
          390.56666666666666,
          397.06666666666666,
          399.23333333333335,
          398.1666666666667,
          396.6,
          396.3,
          396.4,
          396.1666666666667,
          395,
          394.03333333333336,
          392.46666666666664,
          391.56666666666666,
          388.9,
          385.3333333333333,
          386.5,
          385.6666666666667,
          386,
          384.2,
          384.3,
          387.8,
          386.23333333333335,
          383.3333333333333,
          387.8333333333333,
          388.2,
          389.9,
          390.93333333333334,
          390.76666666666665,
          391.26666666666665,
          388.93333333333334,
          388,
          389.5,
          389.1333333333333,
          390.53333333333336,
          393.5,
          395.1333333333333,
          394.6,
          394.8333333333333,
          395.56666666666666,
          397.76666666666665,
          398.96666666666664,
          401.46666666666664,
          402,
          405.43333333333334,
          405.6,
          405.56666666666666,
          407.6666666666667,
          412.03333333333336,
          410.6666666666667,
          409.7,
          403.26666666666665,
          404.8,
          407.23333333333335,
          407.93333333333334,
          408.93333333333334,
          407.06666666666666,
          406.73333333333335,
          406.3666666666667,
          409.73333333333335,
          404.8333333333333,
          402.2,
          403.4,
          403.03333333333336,
          397.7,
          396.8,
          394.03333333333336,
          393.2,
          392.1666666666667,
          394.43333333333334,
          389.5,
          390.03333333333336,
          389.1333333333333,
          388.53333333333336,
          384.73333333333335,
          383.5,
          381.23333333333335,
          377.93333333333334,
          370.6,
          373.06666666666666,
          370.6333333333333,
          375.8666666666667,
          374.2,
          375.56666666666666,
          373.4,
          374.06666666666666,
          374.96666666666664,
          373.3,
          372.3666666666667,
          368.8666666666667,
          371.4,
          373.8666666666667,
          370.8666666666667,
          372.9,
          374.8,
          375.3,
          378.1,
          378.73333333333335,
          377.1333333333333,
          373.8666666666667,
          377.6,
          375.46666666666664,
          374,
          373.5,
          375.06666666666666,
          375.5,
          378.26666666666665,
          380.93333333333334,
          383.8333333333333,
          385,
          386.7,
          385.26666666666665,
          386,
          382.76666666666665,
          383.53333333333336,
          384,
          385.1333333333333,
          386.3333333333333,
          388.9,
          388.6,
          390.3666666666667,
          392.93333333333334,
          397.1666666666667,
          397.6,
          402.8333333333333,
          396.1666666666667,
          392.03333333333336,
          392.53333333333336,
          393.1666666666667,
          395.8,
          394.2,
          396.53333333333336,
          395,
          396.76666666666665,
          401.73333333333335,
          402.3666666666667,
          406.3333333333333,
          407.23333333333335,
          409.43333333333334,
          407,
          410.3,
          411.43333333333334,
          412.3333333333333,
          414.46666666666664,
          415.3333333333333,
          411.06666666666666,
          409.26666666666665,
          409.93333333333334,
          410.23333333333335,
          409.96666666666664,
          408.46666666666664,
          405.23333333333335,
          401,
          399.76666666666665,
          399.56666666666666,
          404.46666666666664,
          407.26666666666665,
          408.6,
          411.4,
          413.3666666666667,
          413.76666666666665,
          412.93333333333334,
          414.6666666666667,
          412.9,
          412.76666666666665,
          410.3666666666667
         ]
        }
       ],
       "layout": {
        "autosize": true,
        "template": {
         "data": {
          "bar": [
           {
            "error_x": {
             "color": "#f2f5fa"
            },
            "error_y": {
             "color": "#f2f5fa"
            },
            "marker": {
             "line": {
              "color": "rgb(17,17,17)",
              "width": 0.5
             },
             "pattern": {
              "fillmode": "overlay",
              "size": 10,
              "solidity": 0.2
             }
            },
            "type": "bar"
           }
          ],
          "barpolar": [
           {
            "marker": {
             "line": {
              "color": "rgb(17,17,17)",
              "width": 0.5
             },
             "pattern": {
              "fillmode": "overlay",
              "size": 10,
              "solidity": 0.2
             }
            },
            "type": "barpolar"
           }
          ],
          "carpet": [
           {
            "aaxis": {
             "endlinecolor": "#A2B1C6",
             "gridcolor": "#506784",
             "linecolor": "#506784",
             "minorgridcolor": "#506784",
             "startlinecolor": "#A2B1C6"
            },
            "baxis": {
             "endlinecolor": "#A2B1C6",
             "gridcolor": "#506784",
             "linecolor": "#506784",
             "minorgridcolor": "#506784",
             "startlinecolor": "#A2B1C6"
            },
            "type": "carpet"
           }
          ],
          "choropleth": [
           {
            "colorbar": {
             "outlinewidth": 0,
             "ticks": ""
            },
            "type": "choropleth"
           }
          ],
          "contour": [
           {
            "colorbar": {
             "outlinewidth": 0,
             "ticks": ""
            },
            "colorscale": [
             [
              0,
              "#0d0887"
             ],
             [
              0.1111111111111111,
              "#46039f"
             ],
             [
              0.2222222222222222,
              "#7201a8"
             ],
             [
              0.3333333333333333,
              "#9c179e"
             ],
             [
              0.4444444444444444,
              "#bd3786"
             ],
             [
              0.5555555555555556,
              "#d8576b"
             ],
             [
              0.6666666666666666,
              "#ed7953"
             ],
             [
              0.7777777777777778,
              "#fb9f3a"
             ],
             [
              0.8888888888888888,
              "#fdca26"
             ],
             [
              1,
              "#f0f921"
             ]
            ],
            "type": "contour"
           }
          ],
          "contourcarpet": [
           {
            "colorbar": {
             "outlinewidth": 0,
             "ticks": ""
            },
            "type": "contourcarpet"
           }
          ],
          "heatmap": [
           {
            "colorbar": {
             "outlinewidth": 0,
             "ticks": ""
            },
            "colorscale": [
             [
              0,
              "#0d0887"
             ],
             [
              0.1111111111111111,
              "#46039f"
             ],
             [
              0.2222222222222222,
              "#7201a8"
             ],
             [
              0.3333333333333333,
              "#9c179e"
             ],
             [
              0.4444444444444444,
              "#bd3786"
             ],
             [
              0.5555555555555556,
              "#d8576b"
             ],
             [
              0.6666666666666666,
              "#ed7953"
             ],
             [
              0.7777777777777778,
              "#fb9f3a"
             ],
             [
              0.8888888888888888,
              "#fdca26"
             ],
             [
              1,
              "#f0f921"
             ]
            ],
            "type": "heatmap"
           }
          ],
          "heatmapgl": [
           {
            "colorbar": {
             "outlinewidth": 0,
             "ticks": ""
            },
            "colorscale": [
             [
              0,
              "#0d0887"
             ],
             [
              0.1111111111111111,
              "#46039f"
             ],
             [
              0.2222222222222222,
              "#7201a8"
             ],
             [
              0.3333333333333333,
              "#9c179e"
             ],
             [
              0.4444444444444444,
              "#bd3786"
             ],
             [
              0.5555555555555556,
              "#d8576b"
             ],
             [
              0.6666666666666666,
              "#ed7953"
             ],
             [
              0.7777777777777778,
              "#fb9f3a"
             ],
             [
              0.8888888888888888,
              "#fdca26"
             ],
             [
              1,
              "#f0f921"
             ]
            ],
            "type": "heatmapgl"
           }
          ],
          "histogram": [
           {
            "marker": {
             "pattern": {
              "fillmode": "overlay",
              "size": 10,
              "solidity": 0.2
             }
            },
            "type": "histogram"
           }
          ],
          "histogram2d": [
           {
            "colorbar": {
             "outlinewidth": 0,
             "ticks": ""
            },
            "colorscale": [
             [
              0,
              "#0d0887"
             ],
             [
              0.1111111111111111,
              "#46039f"
             ],
             [
              0.2222222222222222,
              "#7201a8"
             ],
             [
              0.3333333333333333,
              "#9c179e"
             ],
             [
              0.4444444444444444,
              "#bd3786"
             ],
             [
              0.5555555555555556,
              "#d8576b"
             ],
             [
              0.6666666666666666,
              "#ed7953"
             ],
             [
              0.7777777777777778,
              "#fb9f3a"
             ],
             [
              0.8888888888888888,
              "#fdca26"
             ],
             [
              1,
              "#f0f921"
             ]
            ],
            "type": "histogram2d"
           }
          ],
          "histogram2dcontour": [
           {
            "colorbar": {
             "outlinewidth": 0,
             "ticks": ""
            },
            "colorscale": [
             [
              0,
              "#0d0887"
             ],
             [
              0.1111111111111111,
              "#46039f"
             ],
             [
              0.2222222222222222,
              "#7201a8"
             ],
             [
              0.3333333333333333,
              "#9c179e"
             ],
             [
              0.4444444444444444,
              "#bd3786"
             ],
             [
              0.5555555555555556,
              "#d8576b"
             ],
             [
              0.6666666666666666,
              "#ed7953"
             ],
             [
              0.7777777777777778,
              "#fb9f3a"
             ],
             [
              0.8888888888888888,
              "#fdca26"
             ],
             [
              1,
              "#f0f921"
             ]
            ],
            "type": "histogram2dcontour"
           }
          ],
          "mesh3d": [
           {
            "colorbar": {
             "outlinewidth": 0,
             "ticks": ""
            },
            "type": "mesh3d"
           }
          ],
          "parcoords": [
           {
            "line": {
             "colorbar": {
              "outlinewidth": 0,
              "ticks": ""
             }
            },
            "type": "parcoords"
           }
          ],
          "pie": [
           {
            "automargin": true,
            "type": "pie"
           }
          ],
          "scatter": [
           {
            "marker": {
             "line": {
              "color": "#283442"
             }
            },
            "type": "scatter"
           }
          ],
          "scatter3d": [
           {
            "line": {
             "colorbar": {
              "outlinewidth": 0,
              "ticks": ""
             }
            },
            "marker": {
             "colorbar": {
              "outlinewidth": 0,
              "ticks": ""
             }
            },
            "type": "scatter3d"
           }
          ],
          "scattercarpet": [
           {
            "marker": {
             "colorbar": {
              "outlinewidth": 0,
              "ticks": ""
             }
            },
            "type": "scattercarpet"
           }
          ],
          "scattergeo": [
           {
            "marker": {
             "colorbar": {
              "outlinewidth": 0,
              "ticks": ""
             }
            },
            "type": "scattergeo"
           }
          ],
          "scattergl": [
           {
            "marker": {
             "line": {
              "color": "#283442"
             }
            },
            "type": "scattergl"
           }
          ],
          "scattermapbox": [
           {
            "marker": {
             "colorbar": {
              "outlinewidth": 0,
              "ticks": ""
             }
            },
            "type": "scattermapbox"
           }
          ],
          "scatterpolar": [
           {
            "marker": {
             "colorbar": {
              "outlinewidth": 0,
              "ticks": ""
             }
            },
            "type": "scatterpolar"
           }
          ],
          "scatterpolargl": [
           {
            "marker": {
             "colorbar": {
              "outlinewidth": 0,
              "ticks": ""
             }
            },
            "type": "scatterpolargl"
           }
          ],
          "scatterternary": [
           {
            "marker": {
             "colorbar": {
              "outlinewidth": 0,
              "ticks": ""
             }
            },
            "type": "scatterternary"
           }
          ],
          "surface": [
           {
            "colorbar": {
             "outlinewidth": 0,
             "ticks": ""
            },
            "colorscale": [
             [
              0,
              "#0d0887"
             ],
             [
              0.1111111111111111,
              "#46039f"
             ],
             [
              0.2222222222222222,
              "#7201a8"
             ],
             [
              0.3333333333333333,
              "#9c179e"
             ],
             [
              0.4444444444444444,
              "#bd3786"
             ],
             [
              0.5555555555555556,
              "#d8576b"
             ],
             [
              0.6666666666666666,
              "#ed7953"
             ],
             [
              0.7777777777777778,
              "#fb9f3a"
             ],
             [
              0.8888888888888888,
              "#fdca26"
             ],
             [
              1,
              "#f0f921"
             ]
            ],
            "type": "surface"
           }
          ],
          "table": [
           {
            "cells": {
             "fill": {
              "color": "#506784"
             },
             "line": {
              "color": "rgb(17,17,17)"
             }
            },
            "header": {
             "fill": {
              "color": "#2a3f5f"
             },
             "line": {
              "color": "rgb(17,17,17)"
             }
            },
            "type": "table"
           }
          ]
         },
         "layout": {
          "annotationdefaults": {
           "arrowcolor": "#f2f5fa",
           "arrowhead": 0,
           "arrowwidth": 1
          },
          "autotypenumbers": "strict",
          "coloraxis": {
           "colorbar": {
            "outlinewidth": 0,
            "ticks": ""
           }
          },
          "colorscale": {
           "diverging": [
            [
             0,
             "#8e0152"
            ],
            [
             0.1,
             "#c51b7d"
            ],
            [
             0.2,
             "#de77ae"
            ],
            [
             0.3,
             "#f1b6da"
            ],
            [
             0.4,
             "#fde0ef"
            ],
            [
             0.5,
             "#f7f7f7"
            ],
            [
             0.6,
             "#e6f5d0"
            ],
            [
             0.7,
             "#b8e186"
            ],
            [
             0.8,
             "#7fbc41"
            ],
            [
             0.9,
             "#4d9221"
            ],
            [
             1,
             "#276419"
            ]
           ],
           "sequential": [
            [
             0,
             "#0d0887"
            ],
            [
             0.1111111111111111,
             "#46039f"
            ],
            [
             0.2222222222222222,
             "#7201a8"
            ],
            [
             0.3333333333333333,
             "#9c179e"
            ],
            [
             0.4444444444444444,
             "#bd3786"
            ],
            [
             0.5555555555555556,
             "#d8576b"
            ],
            [
             0.6666666666666666,
             "#ed7953"
            ],
            [
             0.7777777777777778,
             "#fb9f3a"
            ],
            [
             0.8888888888888888,
             "#fdca26"
            ],
            [
             1,
             "#f0f921"
            ]
           ],
           "sequentialminus": [
            [
             0,
             "#0d0887"
            ],
            [
             0.1111111111111111,
             "#46039f"
            ],
            [
             0.2222222222222222,
             "#7201a8"
            ],
            [
             0.3333333333333333,
             "#9c179e"
            ],
            [
             0.4444444444444444,
             "#bd3786"
            ],
            [
             0.5555555555555556,
             "#d8576b"
            ],
            [
             0.6666666666666666,
             "#ed7953"
            ],
            [
             0.7777777777777778,
             "#fb9f3a"
            ],
            [
             0.8888888888888888,
             "#fdca26"
            ],
            [
             1,
             "#f0f921"
            ]
           ]
          },
          "colorway": [
           "#636efa",
           "#EF553B",
           "#00cc96",
           "#ab63fa",
           "#FFA15A",
           "#19d3f3",
           "#FF6692",
           "#B6E880",
           "#FF97FF",
           "#FECB52"
          ],
          "font": {
           "color": "#f2f5fa"
          },
          "geo": {
           "bgcolor": "rgb(17,17,17)",
           "lakecolor": "rgb(17,17,17)",
           "landcolor": "rgb(17,17,17)",
           "showlakes": true,
           "showland": true,
           "subunitcolor": "#506784"
          },
          "hoverlabel": {
           "align": "left"
          },
          "hovermode": "closest",
          "mapbox": {
           "style": "dark"
          },
          "paper_bgcolor": "rgb(17,17,17)",
          "plot_bgcolor": "rgb(17,17,17)",
          "polar": {
           "angularaxis": {
            "gridcolor": "#506784",
            "linecolor": "#506784",
            "ticks": ""
           },
           "bgcolor": "rgb(17,17,17)",
           "radialaxis": {
            "gridcolor": "#506784",
            "linecolor": "#506784",
            "ticks": ""
           }
          },
          "scene": {
           "xaxis": {
            "backgroundcolor": "rgb(17,17,17)",
            "gridcolor": "#506784",
            "gridwidth": 2,
            "linecolor": "#506784",
            "showbackground": true,
            "ticks": "",
            "zerolinecolor": "#C8D4E3"
           },
           "yaxis": {
            "backgroundcolor": "rgb(17,17,17)",
            "gridcolor": "#506784",
            "gridwidth": 2,
            "linecolor": "#506784",
            "showbackground": true,
            "ticks": "",
            "zerolinecolor": "#C8D4E3"
           },
           "zaxis": {
            "backgroundcolor": "rgb(17,17,17)",
            "gridcolor": "#506784",
            "gridwidth": 2,
            "linecolor": "#506784",
            "showbackground": true,
            "ticks": "",
            "zerolinecolor": "#C8D4E3"
           }
          },
          "shapedefaults": {
           "line": {
            "color": "#f2f5fa"
           }
          },
          "sliderdefaults": {
           "bgcolor": "#C8D4E3",
           "bordercolor": "rgb(17,17,17)",
           "borderwidth": 1,
           "tickwidth": 0
          },
          "ternary": {
           "aaxis": {
            "gridcolor": "#506784",
            "linecolor": "#506784",
            "ticks": ""
           },
           "baxis": {
            "gridcolor": "#506784",
            "linecolor": "#506784",
            "ticks": ""
           },
           "bgcolor": "rgb(17,17,17)",
           "caxis": {
            "gridcolor": "#506784",
            "linecolor": "#506784",
            "ticks": ""
           }
          },
          "title": {
           "x": 0.05
          },
          "updatemenudefaults": {
           "bgcolor": "#506784",
           "borderwidth": 0
          },
          "xaxis": {
           "automargin": true,
           "gridcolor": "#283442",
           "linecolor": "#506784",
           "ticks": "",
           "title": {
            "standoff": 15
           },
           "zerolinecolor": "#283442",
           "zerolinewidth": 2
          },
          "yaxis": {
           "automargin": true,
           "gridcolor": "#283442",
           "linecolor": "#506784",
           "ticks": "",
           "title": {
            "standoff": 15
           },
           "zerolinecolor": "#283442",
           "zerolinewidth": 2
          }
         }
        },
        "title": {
         "text": "Total Sleep Time Mins, Rolling 30 Day"
        },
        "xaxis": {
         "autorange": true,
         "range": [
          "2021-11-23",
          "2022-11-11"
         ],
         "title": {
          "text": "Date"
         },
         "type": "date"
        },
        "yaxis": {
         "autorange": true,
         "range": [
          342.64074074074074,
          419.1592592592592
         ],
         "title": {
          "text": "Sleep Time (Mins)"
         },
         "type": "linear"
        }
       }
      },
      "image/png": "[encoded data removed]",
      "text/html": [
       "<div>                            <div id=\"0d8daebd-91ab-41d6-a904-a7c987be8d41\" class=\"plotly-graph-div\" style=\"height:525px; width:100%;\"></div>            <script type=\"text/javascript\">                require([\"plotly\"], function(Plotly) {                    window.PLOTLYENV=window.PLOTLYENV || {};                                    if (document.getElementById(\"0d8daebd-91ab-41d6-a904-a7c987be8d41\")) {                    Plotly.newPlot(                        \"0d8daebd-91ab-41d6-a904-a7c987be8d41\",                        [{\"hoverinfo\":\"text\",\"marker\":{\"colorscale\":[[0.0,\"rgb(75, 41, 145)\"],[0.16666666666666666,\"rgb(135, 44, 162)\"],[0.3333333333333333,\"rgb(192, 54, 157)\"],[0.5,\"rgb(234, 79, 136)\"],[0.6666666666666666,\"rgb(250, 120, 118)\"],[0.8333333333333334,\"rgb(246, 169, 122)\"],[1.0,\"rgb(237, 217, 163)\"]],\"line\":{\"width\":1}},\"name\":\"values\",\"text\":[\"Sleep Time: 538 mins<br> Deep Sleep Time: 146 mins<br> Avg Heart Rate: 55 bpm\",\"Sleep Time: 336 mins<br> Deep Sleep Time: 83 mins<br> Avg Heart Rate: 56 bpm\",\"Sleep Time: 427 mins<br> Deep Sleep Time: 140 mins<br> Avg Heart Rate: 55 bpm\",\"Sleep Time: 354 mins<br> Deep Sleep Time: 96 mins<br> Avg Heart Rate: 57 bpm\",\"Sleep Time: 500 mins<br> Deep Sleep Time: 152 mins<br> Avg Heart Rate: 51 bpm\",\"Sleep Time: 398 mins<br> Deep Sleep Time: 72 mins<br> Avg Heart Rate: 61 bpm\",\"Sleep Time: 417 mins<br> Deep Sleep Time: 129 mins<br> Avg Heart Rate: 59 bpm\",\"Sleep Time: 456 mins<br> Deep Sleep Time: 137 mins<br> Avg Heart Rate: 63 bpm\",\"Sleep Time: 406 mins<br> Deep Sleep Time: 96 mins<br> Avg Heart Rate: 66 bpm\",\"Sleep Time: 455 mins<br> Deep Sleep Time: 135 mins<br> Avg Heart Rate: 61 bpm\",\"Sleep Time: 431 mins<br> Deep Sleep Time: 107 mins<br> Avg Heart Rate: 66 bpm\",\"Sleep Time: 452 mins<br> Deep Sleep Time: 91 mins<br> Avg Heart Rate: 57 bpm\",\"Sleep Time: 461 mins<br> Deep Sleep Time: 89 mins<br> Avg Heart Rate: 56 bpm\",\"Sleep Time: 385 mins<br> Deep Sleep Time: 102 mins<br> Avg Heart Rate: 63 bpm\",\"Sleep Time: 471 mins<br> Deep Sleep Time: 148 mins<br> Avg Heart Rate: 60 bpm\",\"Sleep Time: 427 mins<br> Deep Sleep Time: 116 mins<br> Avg Heart Rate: 61 bpm\",\"Sleep Time: 295 mins<br> Deep Sleep Time: 109 mins<br> Avg Heart Rate: 56 bpm\",\"Sleep Time: 499 mins<br> Deep Sleep Time: 114 mins<br> Avg Heart Rate: 59 bpm\",\"Sleep Time: 399 mins<br> Deep Sleep Time: 170 mins<br> Avg Heart Rate: 58 bpm\",\"Sleep Time: 352 mins<br> Deep Sleep Time: 94 mins<br> Avg Heart Rate: 57 bpm\",\"Sleep Time: 404 mins<br> Deep Sleep Time: 0 mins<br> Avg Heart Rate: 55 bpm\",\"Sleep Time: 381 mins<br> Deep Sleep Time: 87 mins<br> Avg Heart Rate: 53 bpm\",\"Sleep Time: 365 mins<br> Deep Sleep Time: 122 mins<br> Avg Heart Rate: 59 bpm\",\"Sleep Time: 441 mins<br> Deep Sleep Time: 163 mins<br> Avg Heart Rate: 55 bpm\",\"Sleep Time: 377 mins<br> Deep Sleep Time: 50 mins<br> Avg Heart Rate: 51 bpm\",\"Sleep Time: 444 mins<br> Deep Sleep Time: 88 mins<br> Avg Heart Rate: 51 bpm\",\"Sleep Time: 357 mins<br> Deep Sleep Time: 124 mins<br> Avg Heart Rate: 57 bpm\",\"Sleep Time: 337 mins<br> Deep Sleep Time: 99 mins<br> Avg Heart Rate: 53 bpm\",\"Sleep Time: 417 mins<br> Deep Sleep Time: 83 mins<br> Avg Heart Rate: 52 bpm\",\"Sleep Time: 403 mins<br> Deep Sleep Time: 76 mins<br> Avg Heart Rate: 56 bpm\",\"Sleep Time: 323 mins<br> Deep Sleep Time: 42 mins<br> Avg Heart Rate: 56 bpm\",\"Sleep Time: 463 mins<br> Deep Sleep Time: 111 mins<br> Avg Heart Rate: 58 bpm\",\"Sleep Time: 393 mins<br> Deep Sleep Time: 54 mins<br> Avg Heart Rate: 57 bpm\",\"Sleep Time: 360 mins<br> Deep Sleep Time: 118 mins<br> Avg Heart Rate: 63 bpm\",\"Sleep Time: 342 mins<br> Deep Sleep Time: 94 mins<br> Avg Heart Rate: 50 bpm\",\"Sleep Time: 209 mins<br> Deep Sleep Time: 55 mins<br> Avg Heart Rate: 51 bpm\",\"Sleep Time: 429 mins<br> Deep Sleep Time: 144 mins<br> Avg Heart Rate: 56 bpm\",\"Sleep Time: 438 mins<br> Deep Sleep Time: 84 mins<br> Avg Heart Rate: 60 bpm\",\"Sleep Time: 435 mins<br> Deep Sleep Time: 66 mins<br> Avg Heart Rate: 57 bpm\",\"Sleep Time: 360 mins<br> Deep Sleep Time: 79 mins<br> Avg Heart Rate: 60 bpm\",\"Sleep Time: 412 mins<br> Deep Sleep Time: 127 mins<br> Avg Heart Rate: 63 bpm\",\"Sleep Time: 353 mins<br> Deep Sleep Time: 74 mins<br> Avg Heart Rate: 58 bpm\",\"Sleep Time: 399 mins<br> Deep Sleep Time: 93 mins<br> Avg Heart Rate: 62 bpm\",\"Sleep Time: 340 mins<br> Deep Sleep Time: 118 mins<br> Avg Heart Rate: 62 bpm\",\"Sleep Time: 491 mins<br> Deep Sleep Time: 70 mins<br> Avg Heart Rate: 65 bpm\",\"Sleep Time: 364 mins<br> Deep Sleep Time: 106 mins<br> Avg Heart Rate: 63 bpm\",\"Sleep Time: 363 mins<br> Deep Sleep Time: 117 mins<br> Avg Heart Rate: 55 bpm\",\"Sleep Time: 322 mins<br> Deep Sleep Time: 118 mins<br> Avg Heart Rate: 54 bpm\",\"Sleep Time: 378 mins<br> Deep Sleep Time: 99 mins<br> Avg Heart Rate: 59 bpm\",\"Sleep Time: 417 mins<br> Deep Sleep Time: 120 mins<br> Avg Heart Rate: 58 bpm\",\"Sleep Time: 207 mins<br> Deep Sleep Time: 78 mins<br> Avg Heart Rate: 55 bpm\",\"Sleep Time: 301 mins<br> Deep Sleep Time: 88 mins<br> Avg Heart Rate: 55 bpm\",\"Sleep Time: 455 mins<br> Deep Sleep Time: 147 mins<br> Avg Heart Rate: 65 bpm\",\"Sleep Time: 218 mins<br> Deep Sleep Time: 79 mins<br> Avg Heart Rate: 57 bpm\",\"Sleep Time: 362 mins<br> Deep Sleep Time: 124 mins<br> Avg Heart Rate: 61 bpm\",\"Sleep Time: 390 mins<br> Deep Sleep Time: 85 mins<br> Avg Heart Rate: 60 bpm\",\"Sleep Time: 387 mins<br> Deep Sleep Time: 94 mins<br> Avg Heart Rate: 68 bpm\",\"Sleep Time: 440 mins<br> Deep Sleep Time: 112 mins<br> Avg Heart Rate: 60 bpm\",\"Sleep Time: 284 mins<br> Deep Sleep Time: 67 mins<br> Avg Heart Rate: 57 bpm\",\"Sleep Time: 378 mins<br> Deep Sleep Time: 135 mins<br> Avg Heart Rate: 60 bpm\",\"Sleep Time: 353 mins<br> Deep Sleep Time: 37 mins<br> Avg Heart Rate: 61 bpm\",\"Sleep Time: 417 mins<br> Deep Sleep Time: 100 mins<br> Avg Heart Rate: 59 bpm\",\"Sleep Time: 393 mins<br> Deep Sleep Time: 118 mins<br> Avg Heart Rate: 65 bpm\",\"Sleep Time: 419 mins<br> Deep Sleep Time: 50 mins<br> Avg Heart Rate: 64 bpm\",\"Sleep Time: 240 mins<br> Deep Sleep Time: 102 mins<br> Avg Heart Rate: 62 bpm\",\"Sleep Time: 353 mins<br> Deep Sleep Time: 99 mins<br> Avg Heart Rate: 59 bpm\",\"Sleep Time: 426 mins<br> Deep Sleep Time: 120 mins<br> Avg Heart Rate: 60 bpm\",\"Sleep Time: 284 mins<br> Deep Sleep Time: 110 mins<br> Avg Heart Rate: 52 bpm\",\"Sleep Time: 373 mins<br> Deep Sleep Time: 88 mins<br> Avg Heart Rate: 66 bpm\",\"Sleep Time: 452 mins<br> Deep Sleep Time: 91 mins<br> Avg Heart Rate: 63 bpm\",\"Sleep Time: 350 mins<br> Deep Sleep Time: 47 mins<br> Avg Heart Rate: 62 bpm\",\"Sleep Time: 354 mins<br> Deep Sleep Time: 88 mins<br> Avg Heart Rate: 56 bpm\",\"Sleep Time: 422 mins<br> Deep Sleep Time: 76 mins<br> Avg Heart Rate: 58 bpm\",\"Sleep Time: 298 mins<br> Deep Sleep Time: 55 mins<br> Avg Heart Rate: 57 bpm\",\"Sleep Time: 366 mins<br> Deep Sleep Time: 80 mins<br> Avg Heart Rate: 60 bpm\",\"Sleep Time: 388 mins<br> Deep Sleep Time: 97 mins<br> Avg Heart Rate: 59 bpm\",\"Sleep Time: 419 mins<br> Deep Sleep Time: 45 mins<br> Avg Heart Rate: 61 bpm\",\"Sleep Time: 387 mins<br> Deep Sleep Time: 118 mins<br> Avg Heart Rate: 63 bpm\",\"Sleep Time: 458 mins<br> Deep Sleep Time: 134 mins<br> Avg Heart Rate: 69 bpm\",\"Sleep Time: 482 mins<br> Deep Sleep Time: 188 mins<br> Avg Heart Rate: 60 bpm\",\"Sleep Time: 401 mins<br> Deep Sleep Time: 108 mins<br> Avg Heart Rate: 61 bpm\",\"Sleep Time: 460 mins<br> Deep Sleep Time: 122 mins<br> Avg Heart Rate: 65 bpm\",\"Sleep Time: 378 mins<br> Deep Sleep Time: 99 mins<br> Avg Heart Rate: 60 bpm\",\"Sleep Time: 404 mins<br> Deep Sleep Time: 106 mins<br> Avg Heart Rate: 60 bpm\",\"Sleep Time: 432 mins<br> Deep Sleep Time: 118 mins<br> Avg Heart Rate: 64 bpm\",\"Sleep Time: 440 mins<br> Deep Sleep Time: 192 mins<br> Avg Heart Rate: 62 bpm\",\"Sleep Time: 511 mins<br> Deep Sleep Time: 114 mins<br> Avg Heart Rate: 64 bpm\",\"Sleep Time: 487 mins<br> Deep Sleep Time: 71 mins<br> Avg Heart Rate: 61 bpm\",\"Sleep Time: 299 mins<br> Deep Sleep Time: 92 mins<br> Avg Heart Rate: 62 bpm\",\"Sleep Time: 420 mins<br> Deep Sleep Time: 104 mins<br> Avg Heart Rate: 62 bpm\",\"Sleep Time: 445 mins<br> Deep Sleep Time: 43 mins<br> Avg Heart Rate: 58 bpm\",\"Sleep Time: 339 mins<br> Deep Sleep Time: 95 mins<br> Avg Heart Rate: 59 bpm\",\"Sleep Time: 346 mins<br> Deep Sleep Time: 73 mins<br> Avg Heart Rate: 66 bpm\",\"Sleep Time: 340 mins<br> Deep Sleep Time: 68 mins<br> Avg Heart Rate: 57 bpm\",\"Sleep Time: 346 mins<br> Deep Sleep Time: 74 mins<br> Avg Heart Rate: 61 bpm\",\"Sleep Time: 357 mins<br> Deep Sleep Time: 76 mins<br> Avg Heart Rate: 58 bpm\",\"Sleep Time: 385 mins<br> Deep Sleep Time: 80 mins<br> Avg Heart Rate: 58 bpm\",\"Sleep Time: 454 mins<br> Deep Sleep Time: 127 mins<br> Avg Heart Rate: 59 bpm\",\"Sleep Time: 345 mins<br> Deep Sleep Time: 23 mins<br> Avg Heart Rate: 56 bpm\",\"Sleep Time: 450 mins<br> Deep Sleep Time: 85 mins<br> Avg Heart Rate: 61 bpm\",\"Sleep Time: 453 mins<br> Deep Sleep Time: 80 mins<br> Avg Heart Rate: 55 bpm\",\"Sleep Time: 389 mins<br> Deep Sleep Time: 114 mins<br> Avg Heart Rate: 52 bpm\",\"Sleep Time: 439 mins<br> Deep Sleep Time: 85 mins<br> Avg Heart Rate: 54 bpm\",\"Sleep Time: 311 mins<br> Deep Sleep Time: 100 mins<br> Avg Heart Rate: 58 bpm\",\"Sleep Time: 416 mins<br> Deep Sleep Time: 71 mins<br> Avg Heart Rate: 56 bpm\",\"Sleep Time: 451 mins<br> Deep Sleep Time: 81 mins<br> Avg Heart Rate: 58 bpm\",\"Sleep Time: 357 mins<br> Deep Sleep Time: 43 mins<br> Avg Heart Rate: 54 bpm\",\"Sleep Time: 344 mins<br> Deep Sleep Time: 142 mins<br> Avg Heart Rate: 51 bpm\",\"Sleep Time: 240 mins<br> Deep Sleep Time: 76 mins<br> Avg Heart Rate: 53 bpm\",\"Sleep Time: 433 mins<br> Deep Sleep Time: 164 mins<br> Avg Heart Rate: 57 bpm\",\"Sleep Time: 367 mins<br> Deep Sleep Time: 106 mins<br> Avg Heart Rate: 58 bpm\",\"Sleep Time: 382 mins<br> Deep Sleep Time: 91 mins<br> Avg Heart Rate: 64 bpm\",\"Sleep Time: 352 mins<br> Deep Sleep Time: 109 mins<br> Avg Heart Rate: 59 bpm\",\"Sleep Time: 432 mins<br> Deep Sleep Time: 105 mins<br> Avg Heart Rate: 62 bpm\",\"Sleep Time: 353 mins<br> Deep Sleep Time: 139 mins<br> Avg Heart Rate: 59 bpm\",\"Sleep Time: 442 mins<br> Deep Sleep Time: 66 mins<br> Avg Heart Rate: 54 bpm\",\"Sleep Time: 337 mins<br> Deep Sleep Time: 62 mins<br> Avg Heart Rate: 57 bpm\",\"Sleep Time: 396 mins<br> Deep Sleep Time: 50 mins<br> Avg Heart Rate: 60 bpm\",\"Sleep Time: 340 mins<br> Deep Sleep Time: 89 mins<br> Avg Heart Rate: 56 bpm\",\"Sleep Time: 366 mins<br> Deep Sleep Time: 115 mins<br> Avg Heart Rate: 58 bpm\",\"Sleep Time: 350 mins<br> Deep Sleep Time: 67 mins<br> Avg Heart Rate: 57 bpm\",\"Sleep Time: 255 mins<br> Deep Sleep Time: 30 mins<br> Avg Heart Rate: 54 bpm\",\"Sleep Time: 343 mins<br> Deep Sleep Time: 118 mins<br> Avg Heart Rate: 55 bpm\",\"Sleep Time: 359 mins<br> Deep Sleep Time: 111 mins<br> Avg Heart Rate: 55 bpm\",\"Sleep Time: 372 mins<br> Deep Sleep Time: 108 mins<br> Avg Heart Rate: 52 bpm\",\"Sleep Time: 397 mins<br> Deep Sleep Time: 64 mins<br> Avg Heart Rate: 54 bpm\",\"Sleep Time: 371 mins<br> Deep Sleep Time: 69 mins<br> Avg Heart Rate: 58 bpm\",\"Sleep Time: 411 mins<br> Deep Sleep Time: 178 mins<br> Avg Heart Rate: 53 bpm\",\"Sleep Time: 421 mins<br> Deep Sleep Time: 135 mins<br> Avg Heart Rate: 58 bpm\",\"Sleep Time: 341 mins<br> Deep Sleep Time: 131 mins<br> Avg Heart Rate: 51 bpm\",\"Sleep Time: 346 mins<br> Deep Sleep Time: 89 mins<br> Avg Heart Rate: 55 bpm\",\"Sleep Time: 334 mins<br> Deep Sleep Time: 129 mins<br> Avg Heart Rate: 54 bpm\",\"Sleep Time: 406 mins<br> Deep Sleep Time: 141 mins<br> Avg Heart Rate: 54 bpm\",\"Sleep Time: 402 mins<br> Deep Sleep Time: 118 mins<br> Avg Heart Rate: 54 bpm\",\"Sleep Time: 246 mins<br> Deep Sleep Time: 136 mins<br> Avg Heart Rate: 48 bpm\",\"Sleep Time: 295 mins<br> Deep Sleep Time: 83 mins<br> Avg Heart Rate: 62 bpm\",\"Sleep Time: 326 mins<br> Deep Sleep Time: 109 mins<br> Avg Heart Rate: 50 bpm\",\"Sleep Time: 380 mins<br> Deep Sleep Time: 125 mins<br> Avg Heart Rate: 54 bpm\",\"Sleep Time: 243 mins<br> Deep Sleep Time: 61 mins<br> Avg Heart Rate: 56 bpm\",\"Sleep Time: 384 mins<br> Deep Sleep Time: 81 mins<br> Avg Heart Rate: 53 bpm\",\"Sleep Time: 327 mins<br> Deep Sleep Time: 102 mins<br> Avg Heart Rate: 57 bpm\",\"Sleep Time: 461 mins<br> Deep Sleep Time: 169 mins<br> Avg Heart Rate: 57 bpm\",\"Sleep Time: 302 mins<br> Deep Sleep Time: 100 mins<br> Avg Heart Rate: 63 bpm\",\"Sleep Time: 370 mins<br> Deep Sleep Time: 105 mins<br> Avg Heart Rate: 54 bpm\",\"Sleep Time: 365 mins<br> Deep Sleep Time: 106 mins<br> Avg Heart Rate: 57 bpm\",\"Sleep Time: 411 mins<br> Deep Sleep Time: 122 mins<br> Avg Heart Rate: 58 bpm\",\"Sleep Time: 355 mins<br> Deep Sleep Time: 76 mins<br> Avg Heart Rate: 59 bpm\",\"Sleep Time: 336 mins<br> Deep Sleep Time: 108 mins<br> Avg Heart Rate: 52 bpm\",\"Sleep Time: 393 mins<br> Deep Sleep Time: 73 mins<br> Avg Heart Rate: 55 bpm\",\"Sleep Time: 341 mins<br> Deep Sleep Time: 102 mins<br> Avg Heart Rate: 57 bpm\",\"Sleep Time: 362 mins<br> Deep Sleep Time: 96 mins<br> Avg Heart Rate: 52 bpm\",\"Sleep Time: 413 mins<br> Deep Sleep Time: 114 mins<br> Avg Heart Rate: 57 bpm\",\"Sleep Time: 365 mins<br> Deep Sleep Time: 74 mins<br> Avg Heart Rate: 57 bpm\",\"Sleep Time: 320 mins<br> Deep Sleep Time: 105 mins<br> Avg Heart Rate: 50 bpm\",\"Sleep Time: 350 mins<br> Deep Sleep Time: 90 mins<br> Avg Heart Rate: 57 bpm\",\"Sleep Time: 319 mins<br> Deep Sleep Time: 133 mins<br> Avg Heart Rate: 60 bpm\",\"Sleep Time: 202 mins<br> Deep Sleep Time: 41 mins<br> Avg Heart Rate: 62 bpm\",\"Sleep Time: 306 mins<br> Deep Sleep Time: 53 mins<br> Avg Heart Rate: 54 bpm\",\"Sleep Time: 393 mins<br> Deep Sleep Time: 77 mins<br> Avg Heart Rate: 59 bpm\",\"Sleep Time: 417 mins<br> Deep Sleep Time: 122 mins<br> Avg Heart Rate: 59 bpm\",\"Sleep Time: 388 mins<br> Deep Sleep Time: 81 mins<br> Avg Heart Rate: 64 bpm\",\"Sleep Time: 407 mins<br> Deep Sleep Time: 83 mins<br> Avg Heart Rate: 60 bpm\",\"Sleep Time: 364 mins<br> Deep Sleep Time: 86 mins<br> Avg Heart Rate: 62 bpm\",\"Sleep Time: 395 mins<br> Deep Sleep Time: 84 mins<br> Avg Heart Rate: 55 bpm\",\"Sleep Time: 401 mins<br> Deep Sleep Time: 133 mins<br> Avg Heart Rate: 58 bpm\",\"Sleep Time: 422 mins<br> Deep Sleep Time: 107 mins<br> Avg Heart Rate: 55 bpm\",\"Sleep Time: 432 mins<br> Deep Sleep Time: 133 mins<br> Avg Heart Rate: 60 bpm\",\"Sleep Time: 380 mins<br> Deep Sleep Time: 125 mins<br> Avg Heart Rate: 61 bpm\",\"Sleep Time: 494 mins<br> Deep Sleep Time: 102 mins<br> Avg Heart Rate: 62 bpm\",\"Sleep Time: 330 mins<br> Deep Sleep Time: 85 mins<br> Avg Heart Rate: 61 bpm\",\"Sleep Time: 410 mins<br> Deep Sleep Time: 108 mins<br> Avg Heart Rate: 54 bpm\",\"Sleep Time: 385 mins<br> Deep Sleep Time: 115 mins<br> Avg Heart Rate: 59 bpm\",\"Sleep Time: 432 mins<br> Deep Sleep Time: 110 mins<br> Avg Heart Rate: 59 bpm\",\"Sleep Time: 406 mins<br> Deep Sleep Time: 109 mins<br> Avg Heart Rate: 58 bpm\",\"Sleep Time: 380 mins<br> Deep Sleep Time: 74 mins<br> Avg Heart Rate: 62 bpm\",\"Sleep Time: 415 mins<br> Deep Sleep Time: 57 mins<br> Avg Heart Rate: 67 bpm\",\"Sleep Time: 430 mins<br> Deep Sleep Time: 96 mins<br> Avg Heart Rate: 55 bpm\",\"Sleep Time: 286 mins<br> Deep Sleep Time: 55 mins<br> Avg Heart Rate: 59 bpm\",\"Sleep Time: 382 mins<br> Deep Sleep Time: 90 mins<br> Avg Heart Rate: 55 bpm\",\"Sleep Time: 358 mins<br> Deep Sleep Time: 107 mins<br> Avg Heart Rate: 52 bpm\",\"Sleep Time: 397 mins<br> Deep Sleep Time: 139 mins<br> Avg Heart Rate: 59 bpm\",\"Sleep Time: 425 mins<br> Deep Sleep Time: 113 mins<br> Avg Heart Rate: 55 bpm\",\"Sleep Time: 392 mins<br> Deep Sleep Time: 98 mins<br> Avg Heart Rate: 57 bpm\",\"Sleep Time: 516 mins<br> Deep Sleep Time: 108 mins<br> Avg Heart Rate: 60 bpm\",\"Sleep Time: 397 mins<br> Deep Sleep Time: 97 mins<br> Avg Heart Rate: 56 bpm\",\"Sleep Time: 375 mins<br> Deep Sleep Time: 131 mins<br> Avg Heart Rate: 59 bpm\",\"Sleep Time: 397 mins<br> Deep Sleep Time: 67 mins<br> Avg Heart Rate: 55 bpm\",\"Sleep Time: 371 mins<br> Deep Sleep Time: 113 mins<br> Avg Heart Rate: 53 bpm\",\"Sleep Time: 361 mins<br> Deep Sleep Time: 98 mins<br> Avg Heart Rate: 51 bpm\",\"Sleep Time: 370 mins<br> Deep Sleep Time: 115 mins<br> Avg Heart Rate: 56 bpm\",\"Sleep Time: 379 mins<br> Deep Sleep Time: 144 mins<br> Avg Heart Rate: 57 bpm\",\"Sleep Time: 410 mins<br> Deep Sleep Time: 131 mins<br> Avg Heart Rate: 55 bpm\",\"Sleep Time: 357 mins<br> Deep Sleep Time: 152 mins<br> Avg Heart Rate: 56 bpm\",\"Sleep Time: 360 mins<br> Deep Sleep Time: 52 mins<br> Avg Heart Rate: 52 bpm\",\"Sleep Time: 372 mins<br> Deep Sleep Time: 103 mins<br> Avg Heart Rate: 55 bpm\",\"Sleep Time: 375 mins<br> Deep Sleep Time: 67 mins<br> Avg Heart Rate: 54 bpm\",\"Sleep Time: 405 mins<br> Deep Sleep Time: 121 mins<br> Avg Heart Rate: 54 bpm\",\"Sleep Time: 300 mins<br> Deep Sleep Time: 108 mins<br> Avg Heart Rate: 52 bpm\",\"Sleep Time: 387 mins<br> Deep Sleep Time: 114 mins<br> Avg Heart Rate: 53 bpm\",\"Sleep Time: 365 mins<br> Deep Sleep Time: 97 mins<br> Avg Heart Rate: 53 bpm\",\"Sleep Time: 385 mins<br> Deep Sleep Time: 104 mins<br> Avg Heart Rate: 52 bpm\",\"Sleep Time: 395 mins<br> Deep Sleep Time: 64 mins<br> Avg Heart Rate: 53 bpm\",\"Sleep Time: 378 mins<br> Deep Sleep Time: 79 mins<br> Avg Heart Rate: 56 bpm\",\"Sleep Time: 409 mins<br> Deep Sleep Time: 82 mins<br> Avg Heart Rate: 59 bpm\",\"Sleep Time: 485 mins<br> Deep Sleep Time: 150 mins<br> Avg Heart Rate: 53 bpm\",\"Sleep Time: 368 mins<br> Deep Sleep Time: 119 mins<br> Avg Heart Rate: 57 bpm\",\"Sleep Time: 343 mins<br> Deep Sleep Time: 52 mins<br> Avg Heart Rate: 53 bpm\",\"Sleep Time: 421 mins<br> Deep Sleep Time: 137 mins<br> Avg Heart Rate: 57 bpm\",\"Sleep Time: 393 mins<br> Deep Sleep Time: 139 mins<br> Avg Heart Rate: 59 bpm\",\"Sleep Time: 409 mins<br> Deep Sleep Time: 60 mins<br> Avg Heart Rate: 55 bpm\",\"Sleep Time: 428 mins<br> Deep Sleep Time: 125 mins<br> Avg Heart Rate: 60 bpm\",\"Sleep Time: 420 mins<br> Deep Sleep Time: 109 mins<br> Avg Heart Rate: 57 bpm\",\"Sleep Time: 407 mins<br> Deep Sleep Time: 134 mins<br> Avg Heart Rate: 54 bpm\",\"Sleep Time: 446 mins<br> Deep Sleep Time: 134 mins<br> Avg Heart Rate: 58 bpm\",\"Sleep Time: 369 mins<br> Deep Sleep Time: 116 mins<br> Avg Heart Rate: 52 bpm\",\"Sleep Time: 420 mins<br> Deep Sleep Time: 72 mins<br> Avg Heart Rate: 57 bpm\",\"Sleep Time: 386 mins<br> Deep Sleep Time: 122 mins<br> Avg Heart Rate: 58 bpm\",\"Sleep Time: 413 mins<br> Deep Sleep Time: 146 mins<br> Avg Heart Rate: 58 bpm\",\"Sleep Time: 450 mins<br> Deep Sleep Time: 131 mins<br> Avg Heart Rate: 56 bpm\",\"Sleep Time: 419 mins<br> Deep Sleep Time: 114 mins<br> Avg Heart Rate: 52 bpm\",\"Sleep Time: 363 mins<br> Deep Sleep Time: 85 mins<br> Avg Heart Rate: 54 bpm\",\"Sleep Time: 417 mins<br> Deep Sleep Time: 137 mins<br> Avg Heart Rate: 52 bpm\",\"Sleep Time: 379 mins<br> Deep Sleep Time: 144 mins<br> Avg Heart Rate: 59 bpm\",\"Sleep Time: 426 mins<br> Deep Sleep Time: 99 mins<br> Avg Heart Rate: 52 bpm\",\"Sleep Time: 408 mins<br> Deep Sleep Time: 82 mins<br> Avg Heart Rate: 57 bpm\",\"Sleep Time: 450 mins<br> Deep Sleep Time: 85 mins<br> Avg Heart Rate: 59 bpm\",\"Sleep Time: 421 mins<br> Deep Sleep Time: 142 mins<br> Avg Heart Rate: 59 bpm\",\"Sleep Time: 403 mins<br> Deep Sleep Time: 136 mins<br> Avg Heart Rate: 56 bpm\",\"Sleep Time: 392 mins<br> Deep Sleep Time: 125 mins<br> Avg Heart Rate: 57 bpm\",\"Sleep Time: 364 mins<br> Deep Sleep Time: 56 mins<br> Avg Heart Rate: 56 bpm\",\"Sleep Time: 448 mins<br> Deep Sleep Time: 66 mins<br> Avg Heart Rate: 54 bpm\",\"Sleep Time: 526 mins<br> Deep Sleep Time: 99 mins<br> Avg Heart Rate: 54 bpm\",\"Sleep Time: 337 mins<br> Deep Sleep Time: 45 mins<br> Avg Heart Rate: 56 bpm\",\"Sleep Time: 380 mins<br> Deep Sleep Time: 97 mins<br> Avg Heart Rate: 52 bpm\",\"Sleep Time: 292 mins<br> Deep Sleep Time: 84 mins<br> Avg Heart Rate: 50 bpm\",\"Sleep Time: 414 mins<br> Deep Sleep Time: 66 mins<br> Avg Heart Rate: 50 bpm\",\"Sleep Time: 416 mins<br> Deep Sleep Time: 80 mins<br> Avg Heart Rate: 50 bpm\",\"Sleep Time: 442 mins<br> Deep Sleep Time: 54 mins<br> Avg Heart Rate: 51 bpm\",\"Sleep Time: 423 mins<br> Deep Sleep Time: 57 mins<br> Avg Heart Rate: 50 bpm\",\"Sleep Time: 353 mins<br> Deep Sleep Time: 122 mins<br> Avg Heart Rate: 51 bpm\",\"Sleep Time: 418 mins<br> Deep Sleep Time: 143 mins<br> Avg Heart Rate: 51 bpm\",\"Sleep Time: 409 mins<br> Deep Sleep Time: 165 mins<br> Avg Heart Rate: 57 bpm\",\"Sleep Time: 508 mins<br> Deep Sleep Time: 128 mins<br> Avg Heart Rate: 53 bpm\",\"Sleep Time: 299 mins<br> Deep Sleep Time: 123 mins<br> Avg Heart Rate: 53 bpm\",\"Sleep Time: 290 mins<br> Deep Sleep Time: 94 mins<br> Avg Heart Rate: 56 bpm\",\"Sleep Time: 456 mins<br> Deep Sleep Time: 171 mins<br> Avg Heart Rate: 55 bpm\",\"Sleep Time: 375 mins<br> Deep Sleep Time: 136 mins<br> Avg Heart Rate: 49 bpm\",\"Sleep Time: 253 mins<br> Deep Sleep Time: 86 mins<br> Avg Heart Rate: 49 bpm\",\"Sleep Time: 423 mins<br> Deep Sleep Time: 98 mins<br> Avg Heart Rate: 58 bpm\",\"Sleep Time: 336 mins<br> Deep Sleep Time: 125 mins<br> Avg Heart Rate: 51 bpm\",\"Sleep Time: 338 mins<br> Deep Sleep Time: 85 mins<br> Avg Heart Rate: 49 bpm\",\"Sleep Time: 386 mins<br> Deep Sleep Time: 110 mins<br> Avg Heart Rate: 60 bpm\",\"Sleep Time: 447 mins<br> Deep Sleep Time: 92 mins<br> Avg Heart Rate: 52 bpm\",\"Sleep Time: 278 mins<br> Deep Sleep Time: 134 mins<br> Avg Heart Rate: 54 bpm\",\"Sleep Time: 424 mins<br> Deep Sleep Time: 150 mins<br> Avg Heart Rate: 53 bpm\",\"Sleep Time: 423 mins<br> Deep Sleep Time: 94 mins<br> Avg Heart Rate: 52 bpm\",\"Sleep Time: 403 mins<br> Deep Sleep Time: 73 mins<br> Avg Heart Rate: 54 bpm\",\"Sleep Time: 289 mins<br> Deep Sleep Time: 107 mins<br> Avg Heart Rate: 52 bpm\",\"Sleep Time: 355 mins<br> Deep Sleep Time: 104 mins<br> Avg Heart Rate: 50 bpm\",\"Sleep Time: 296 mins<br> Deep Sleep Time: 88 mins<br> Avg Heart Rate: 53 bpm\",\"Sleep Time: 349 mins<br> Deep Sleep Time: 78 mins<br> Avg Heart Rate: 52 bpm\",\"Sleep Time: 306 mins<br> Deep Sleep Time: 68 mins<br> Avg Heart Rate: 52 bpm\",\"Sleep Time: 411 mins<br> Deep Sleep Time: 99 mins<br> Avg Heart Rate: 53 bpm\",\"Sleep Time: 307 mins<br> Deep Sleep Time: 58 mins<br> Avg Heart Rate: 54 bpm\",\"Sleep Time: 449 mins<br> Deep Sleep Time: 116 mins<br> Avg Heart Rate: 53 bpm\",\"Sleep Time: 364 mins<br> Deep Sleep Time: 105 mins<br> Avg Heart Rate: 53 bpm\",\"Sleep Time: 457 mins<br> Deep Sleep Time: 141 mins<br> Avg Heart Rate: 56 bpm\",\"Sleep Time: 377 mins<br> Deep Sleep Time: 128 mins<br> Avg Heart Rate: 52 bpm\",\"Sleep Time: 443 mins<br> Deep Sleep Time: 145 mins<br> Avg Heart Rate: 55 bpm\",\"Sleep Time: 380 mins<br> Deep Sleep Time: 88 mins<br> Avg Heart Rate: 57 bpm\",\"Sleep Time: 368 mins<br> Deep Sleep Time: 72 mins<br> Avg Heart Rate: 56 bpm\",\"Sleep Time: 381 mins<br> Deep Sleep Time: 118 mins<br> Avg Heart Rate: 52 bpm\",\"Sleep Time: 403 mins<br> Deep Sleep Time: 87 mins<br> Avg Heart Rate: 61 bpm\",\"Sleep Time: 375 mins<br> Deep Sleep Time: 103 mins<br> Avg Heart Rate: 57 bpm\",\"Sleep Time: 364 mins<br> Deep Sleep Time: 83 mins<br> Avg Heart Rate: 50 bpm\",\"Sleep Time: 366 mins<br> Deep Sleep Time: 66 mins<br> Avg Heart Rate: 54 bpm\",\"Sleep Time: 436 mins<br> Deep Sleep Time: 119 mins<br> Avg Heart Rate: 53 bpm\",\"Sleep Time: 310 mins<br> Deep Sleep Time: 68 mins<br> Avg Heart Rate: 55 bpm\",\"Sleep Time: 438 mins<br> Deep Sleep Time: 121 mins<br> Avg Heart Rate: 61 bpm\",\"Sleep Time: 420 mins<br> Deep Sleep Time: 102 mins<br> Avg Heart Rate: 61 bpm\",\"Sleep Time: 357 mins<br> Deep Sleep Time: 101 mins<br> Avg Heart Rate: 56 bpm\",\"Sleep Time: 338 mins<br> Deep Sleep Time: 62 mins<br> Avg Heart Rate: 56 bpm\",\"Sleep Time: 349 mins<br> Deep Sleep Time: 97 mins<br> Avg Heart Rate: 58 bpm\",\"Sleep Time: 390 mins<br> Deep Sleep Time: 111 mins<br> Avg Heart Rate: 60 bpm\",\"Sleep Time: 360 mins<br> Deep Sleep Time: 150 mins<br> Avg Heart Rate: 56 bpm\",\"Sleep Time: 379 mins<br> Deep Sleep Time: 121 mins<br> Avg Heart Rate: 61 bpm\",\"Sleep Time: 388 mins<br> Deep Sleep Time: 117 mins<br> Avg Heart Rate: 57 bpm\",\"Sleep Time: 336 mins<br> Deep Sleep Time: 120 mins<br> Avg Heart Rate: 57 bpm\",\"Sleep Time: 368 mins<br> Deep Sleep Time: 85 mins<br> Avg Heart Rate: 54 bpm\",\"Sleep Time: 379 mins<br> Deep Sleep Time: 101 mins<br> Avg Heart Rate: 56 bpm\",\"Sleep Time: 429 mins<br> Deep Sleep Time: 93 mins<br> Avg Heart Rate: 57 bpm\",\"Sleep Time: 393 mins<br> Deep Sleep Time: 116 mins<br> Avg Heart Rate: 56 bpm\",\"Sleep Time: 446 mins<br> Deep Sleep Time: 83 mins<br> Avg Heart Rate: 54 bpm\",\"Sleep Time: 358 mins<br> Deep Sleep Time: 96 mins<br> Avg Heart Rate: 60 bpm\",\"Sleep Time: 406 mins<br> Deep Sleep Time: 87 mins<br> Avg Heart Rate: 56 bpm\",\"Sleep Time: 386 mins<br> Deep Sleep Time: 122 mins<br> Avg Heart Rate: 55 bpm\",\"Sleep Time: 360 mins<br> Deep Sleep Time: 78 mins<br> Avg Heart Rate: 55 bpm\",\"Sleep Time: 400 mins<br> Deep Sleep Time: 149 mins<br> Avg Heart Rate: 50 bpm\",\"Sleep Time: 457 mins<br> Deep Sleep Time: 125 mins<br> Avg Heart Rate: 53 bpm\",\"Sleep Time: 414 mins<br> Deep Sleep Time: 67 mins<br> Avg Heart Rate: 49 bpm\",\"Sleep Time: 404 mins<br> Deep Sleep Time: 99 mins<br> Avg Heart Rate: 49 bpm\",\"Sleep Time: 458 mins<br> Deep Sleep Time: 88 mins<br> Avg Heart Rate: 57 bpm\",\"Sleep Time: 394 mins<br> Deep Sleep Time: 67 mins<br> Avg Heart Rate: 54 bpm\",\"Sleep Time: 428 mins<br> Deep Sleep Time: 123 mins<br> Avg Heart Rate: 51 bpm\",\"Sleep Time: 441 mins<br> Deep Sleep Time: 145 mins<br> Avg Heart Rate: 48 bpm\",\"Sleep Time: 493 mins<br> Deep Sleep Time: 202 mins<br> Avg Heart Rate: 52 bpm\",\"Sleep Time: 449 mins<br> Deep Sleep Time: 66 mins<br> Avg Heart Rate: 55 bpm\",\"Sleep Time: 467 mins<br> Deep Sleep Time: 196 mins<br> Avg Heart Rate: 55 bpm\",\"Sleep Time: 238 mins<br> Deep Sleep Time: 89 mins<br> Avg Heart Rate: 55 bpm\",\"Sleep Time: 296 mins<br> Deep Sleep Time: 66 mins<br> Avg Heart Rate: 54 bpm\",\"Sleep Time: 372 mins<br> Deep Sleep Time: 138 mins<br> Avg Heart Rate: 59 bpm\",\"Sleep Time: 357 mins<br> Deep Sleep Time: 101 mins<br> Avg Heart Rate: 53 bpm\",\"Sleep Time: 428 mins<br> Deep Sleep Time: 51 mins<br> Avg Heart Rate: 57 bpm\",\"Sleep Time: 342 mins<br> Deep Sleep Time: 116 mins<br> Avg Heart Rate: 50 bpm\",\"Sleep Time: 430 mins<br> Deep Sleep Time: 75 mins<br> Avg Heart Rate: 48 bpm\",\"Sleep Time: 333 mins<br> Deep Sleep Time: 109 mins<br> Avg Heart Rate: 49 bpm\",\"Sleep Time: 441 mins<br> Deep Sleep Time: 85 mins<br> Avg Heart Rate: 56 bpm\",\"Sleep Time: 485 mins<br> Deep Sleep Time: 189 mins<br> Avg Heart Rate: 51 bpm\",\"Sleep Time: 387 mins<br> Deep Sleep Time: 145 mins<br> Avg Heart Rate: 52 bpm\",\"Sleep Time: 498 mins<br> Deep Sleep Time: 105 mins<br> Avg Heart Rate: 54 bpm\",\"Sleep Time: 456 mins<br> Deep Sleep Time: 182 mins<br> Avg Heart Rate: 60 bpm\",\"Sleep Time: 459 mins<br> Deep Sleep Time: 91 mins<br> Avg Heart Rate: 60 bpm\",\"Sleep Time: 373 mins<br> Deep Sleep Time: 109 mins<br> Avg Heart Rate: 59 bpm\",\"Sleep Time: 457 mins<br> Deep Sleep Time: 111 mins<br> Avg Heart Rate: 59 bpm\",\"Sleep Time: 440 mins<br> Deep Sleep Time: 124 mins<br> Avg Heart Rate: 55 bpm\",\"Sleep Time: 413 mins<br> Deep Sleep Time: 94 mins<br> Avg Heart Rate: 55 bpm\",\"Sleep Time: 424 mins<br> Deep Sleep Time: 111 mins<br> Avg Heart Rate: 60 bpm\",\"Sleep Time: 426 mins<br> Deep Sleep Time: 66 mins<br> Avg Heart Rate: 59 bpm\",\"Sleep Time: 329 mins<br> Deep Sleep Time: 61 mins<br> Avg Heart Rate: 56 bpm\",\"Sleep Time: 360 mins<br> Deep Sleep Time: 99 mins<br> Avg Heart Rate: 57 bpm\",\"Sleep Time: 424 mins<br> Deep Sleep Time: 98 mins<br> Avg Heart Rate: 55 bpm\",\"Sleep Time: 467 mins<br> Deep Sleep Time: 175 mins<br> Avg Heart Rate: 55 bpm\",\"Sleep Time: 386 mins<br> Deep Sleep Time: 101 mins<br> Avg Heart Rate: 53 bpm\",\"Sleep Time: 383 mins<br> Deep Sleep Time: 61 mins<br> Avg Heart Rate: 52 bpm\",\"Sleep Time: 344 mins<br> Deep Sleep Time: 79 mins<br> Avg Heart Rate: 54 bpm\",\"Sleep Time: 366 mins<br> Deep Sleep Time: 107 mins<br> Avg Heart Rate: 59 bpm\",\"Sleep Time: 412 mins<br> Deep Sleep Time: 88 mins<br> Avg Heart Rate: 54 bpm\",\"Sleep Time: 461 mins<br> Deep Sleep Time: 97 mins<br> Avg Heart Rate: 53 bpm\",\"Sleep Time: 385 mins<br> Deep Sleep Time: 119 mins<br> Avg Heart Rate: 53 bpm\",\"Sleep Time: 380 mins<br> Deep Sleep Time: 80 mins<br> Avg Heart Rate: 56 bpm\",\"Sleep Time: 412 mins<br> Deep Sleep Time: 83 mins<br> Avg Heart Rate: 54 bpm\",\"Sleep Time: 441 mins<br> Deep Sleep Time: 73 mins<br> Avg Heart Rate: 54 bpm\",\"Sleep Time: 487 mins<br> Deep Sleep Time: 186 mins<br> Avg Heart Rate: 57 bpm\",\"Sleep Time: 354 mins<br> Deep Sleep Time: 94 mins<br> Avg Heart Rate: 57 bpm\",\"Sleep Time: 405 mins<br> Deep Sleep Time: 116 mins<br> Avg Heart Rate: 52 bpm\",\"Sleep Time: 385 mins<br> Deep Sleep Time: 155 mins<br> Avg Heart Rate: 51 bpm\",\"Sleep Time: 388 mins<br> Deep Sleep Time: 147 mins<br> Avg Heart Rate: 54 bpm\",\"Sleep Time: 481 mins<br> Deep Sleep Time: 148 mins<br> Avg Heart Rate: 54 bpm\",\"Sleep Time: 315 mins<br> Deep Sleep Time: 57 mins<br> Avg Heart Rate: 52 bpm\"],\"x\":[\"2022-11-11T00:00:00\",\"2022-11-10T00:00:00\",\"2022-11-09T00:00:00\",\"2022-11-08T00:00:00\",\"2022-11-07T00:00:00\",\"2022-11-06T00:00:00\",\"2022-11-05T00:00:00\",\"2022-11-04T00:00:00\",\"2022-11-03T00:00:00\",\"2022-11-02T00:00:00\",\"2022-11-01T00:00:00\",\"2022-10-31T00:00:00\",\"2022-10-30T00:00:00\",\"2022-10-29T00:00:00\",\"2022-10-28T00:00:00\",\"2022-10-27T00:00:00\",\"2022-10-26T00:00:00\",\"2022-10-25T00:00:00\",\"2022-10-24T00:00:00\",\"2022-10-23T00:00:00\",\"2022-10-22T00:00:00\",\"2022-10-21T00:00:00\",\"2022-10-20T00:00:00\",\"2022-10-19T00:00:00\",\"2022-10-18T00:00:00\",\"2022-10-17T00:00:00\",\"2022-10-16T00:00:00\",\"2022-10-15T00:00:00\",\"2022-10-14T00:00:00\",\"2022-10-13T00:00:00\",\"2022-10-12T00:00:00\",\"2022-10-11T00:00:00\",\"2022-10-10T00:00:00\",\"2022-10-09T00:00:00\",\"2022-10-08T00:00:00\",\"2022-10-07T00:00:00\",\"2022-10-06T00:00:00\",\"2022-10-05T00:00:00\",\"2022-10-04T00:00:00\",\"2022-10-03T00:00:00\",\"2022-10-02T00:00:00\",\"2022-09-30T00:00:00\",\"2022-09-29T00:00:00\",\"2022-09-28T00:00:00\",\"2022-09-27T00:00:00\",\"2022-09-26T00:00:00\",\"2022-09-25T00:00:00\",\"2022-09-24T00:00:00\",\"2022-09-23T00:00:00\",\"2022-09-22T00:00:00\",\"2022-09-21T00:00:00\",\"2022-09-20T00:00:00\",\"2022-09-19T00:00:00\",\"2022-09-16T00:00:00\",\"2022-09-15T00:00:00\",\"2022-09-14T00:00:00\",\"2022-09-13T00:00:00\",\"2022-09-12T00:00:00\",\"2022-09-11T00:00:00\",\"2022-09-10T00:00:00\",\"2022-09-09T00:00:00\",\"2022-09-08T00:00:00\",\"2022-09-07T00:00:00\",\"2022-09-06T00:00:00\",\"2022-09-05T00:00:00\",\"2022-09-04T00:00:00\",\"2022-09-03T00:00:00\",\"2022-09-02T00:00:00\",\"2022-09-01T00:00:00\",\"2022-08-31T00:00:00\",\"2022-08-30T00:00:00\",\"2022-08-29T00:00:00\",\"2022-08-28T00:00:00\",\"2022-08-27T00:00:00\",\"2022-08-26T00:00:00\",\"2022-08-25T00:00:00\",\"2022-08-24T00:00:00\",\"2022-08-23T00:00:00\",\"2022-08-22T00:00:00\",\"2022-08-21T00:00:00\",\"2022-08-20T00:00:00\",\"2022-08-19T00:00:00\",\"2022-08-18T00:00:00\",\"2022-08-17T00:00:00\",\"2022-08-16T00:00:00\",\"2022-08-15T00:00:00\",\"2022-08-14T00:00:00\",\"2022-08-13T00:00:00\",\"2022-08-12T00:00:00\",\"2022-08-11T00:00:00\",\"2022-08-10T00:00:00\",\"2022-08-09T00:00:00\",\"2022-08-08T00:00:00\",\"2022-08-07T00:00:00\",\"2022-08-06T00:00:00\",\"2022-08-05T00:00:00\",\"2022-08-04T00:00:00\",\"2022-08-03T00:00:00\",\"2022-08-02T00:00:00\",\"2022-08-01T00:00:00\",\"2022-07-31T00:00:00\",\"2022-07-30T00:00:00\",\"2022-07-29T00:00:00\",\"2022-07-28T00:00:00\",\"2022-07-27T00:00:00\",\"2022-07-26T00:00:00\",\"2022-07-25T00:00:00\",\"2022-07-24T00:00:00\",\"2022-07-23T00:00:00\",\"2022-07-22T00:00:00\",\"2022-07-21T00:00:00\",\"2022-07-20T00:00:00\",\"2022-07-19T00:00:00\",\"2022-07-18T00:00:00\",\"2022-07-17T00:00:00\",\"2022-07-16T00:00:00\",\"2022-07-15T00:00:00\",\"2022-07-14T00:00:00\",\"2022-07-13T00:00:00\",\"2022-07-12T00:00:00\",\"2022-07-11T00:00:00\",\"2022-07-10T00:00:00\",\"2022-07-09T00:00:00\",\"2022-07-08T00:00:00\",\"2022-07-07T00:00:00\",\"2022-07-06T00:00:00\",\"2022-07-05T00:00:00\",\"2022-07-04T00:00:00\",\"2022-07-03T00:00:00\",\"2022-07-02T00:00:00\",\"2022-07-01T00:00:00\",\"2022-06-30T00:00:00\",\"2022-06-29T00:00:00\",\"2022-06-28T00:00:00\",\"2022-06-27T00:00:00\",\"2022-06-26T00:00:00\",\"2022-06-25T00:00:00\",\"2022-06-24T00:00:00\",\"2022-06-23T00:00:00\",\"2022-06-22T00:00:00\",\"2022-06-20T00:00:00\",\"2022-06-19T00:00:00\",\"2022-06-18T00:00:00\",\"2022-06-17T00:00:00\",\"2022-06-16T00:00:00\",\"2022-06-15T00:00:00\",\"2022-06-14T00:00:00\",\"2022-06-13T00:00:00\",\"2022-06-12T00:00:00\",\"2022-06-11T00:00:00\",\"2022-06-10T00:00:00\",\"2022-06-09T00:00:00\",\"2022-06-08T00:00:00\",\"2022-06-07T00:00:00\",\"2022-06-06T00:00:00\",\"2022-06-05T00:00:00\",\"2022-06-04T00:00:00\",\"2022-06-03T00:00:00\",\"2022-06-02T00:00:00\",\"2022-06-01T00:00:00\",\"2022-05-31T00:00:00\",\"2022-05-30T00:00:00\",\"2022-05-29T00:00:00\",\"2022-05-28T00:00:00\",\"2022-05-27T00:00:00\",\"2022-05-26T00:00:00\",\"2022-05-25T00:00:00\",\"2022-05-24T00:00:00\",\"2022-05-23T00:00:00\",\"2022-05-22T00:00:00\",\"2022-05-21T00:00:00\",\"2022-05-20T00:00:00\",\"2022-05-19T00:00:00\",\"2022-05-18T00:00:00\",\"2022-05-17T00:00:00\",\"2022-05-16T00:00:00\",\"2022-05-15T00:00:00\",\"2022-05-14T00:00:00\",\"2022-05-13T00:00:00\",\"2022-05-12T00:00:00\",\"2022-05-11T00:00:00\",\"2022-05-10T00:00:00\",\"2022-05-09T00:00:00\",\"2022-05-08T00:00:00\",\"2022-05-07T00:00:00\",\"2022-05-06T00:00:00\",\"2022-05-05T00:00:00\",\"2022-05-04T00:00:00\",\"2022-05-03T00:00:00\",\"2022-05-02T00:00:00\",\"2022-05-01T00:00:00\",\"2022-04-30T00:00:00\",\"2022-04-29T00:00:00\",\"2022-04-28T00:00:00\",\"2022-04-27T00:00:00\",\"2022-04-26T00:00:00\",\"2022-04-25T00:00:00\",\"2022-04-24T00:00:00\",\"2022-04-23T00:00:00\",\"2022-04-22T00:00:00\",\"2022-04-21T00:00:00\",\"2022-04-20T00:00:00\",\"2022-04-19T00:00:00\",\"2022-04-18T00:00:00\",\"2022-04-17T00:00:00\",\"2022-04-16T00:00:00\",\"2022-04-15T00:00:00\",\"2022-04-14T00:00:00\",\"2022-04-13T00:00:00\",\"2022-04-12T00:00:00\",\"2022-04-11T00:00:00\",\"2022-04-10T00:00:00\",\"2022-04-09T00:00:00\",\"2022-04-08T00:00:00\",\"2022-04-07T00:00:00\",\"2022-04-06T00:00:00\",\"2022-04-05T00:00:00\",\"2022-04-04T00:00:00\",\"2022-04-03T00:00:00\",\"2022-04-02T00:00:00\",\"2022-04-01T00:00:00\",\"2022-03-31T00:00:00\",\"2022-03-30T00:00:00\",\"2022-03-29T00:00:00\",\"2022-03-28T00:00:00\",\"2022-03-27T00:00:00\",\"2022-03-26T00:00:00\",\"2022-03-25T00:00:00\",\"2022-03-24T00:00:00\",\"2022-03-23T00:00:00\",\"2022-03-22T00:00:00\",\"2022-03-21T00:00:00\",\"2022-03-20T00:00:00\",\"2022-03-19T00:00:00\",\"2022-03-18T00:00:00\",\"2022-03-17T00:00:00\",\"2022-03-16T00:00:00\",\"2022-03-15T00:00:00\",\"2022-03-14T00:00:00\",\"2022-03-13T00:00:00\",\"2022-03-12T00:00:00\",\"2022-03-11T00:00:00\",\"2022-03-10T00:00:00\",\"2022-03-09T00:00:00\",\"2022-03-08T00:00:00\",\"2022-03-07T00:00:00\",\"2022-03-05T00:00:00\",\"2022-03-04T00:00:00\",\"2022-03-03T00:00:00\",\"2022-03-02T00:00:00\",\"2022-03-01T00:00:00\",\"2022-02-28T00:00:00\",\"2022-02-27T00:00:00\",\"2022-02-26T00:00:00\",\"2022-02-25T00:00:00\",\"2022-02-24T00:00:00\",\"2022-02-23T00:00:00\",\"2022-02-22T00:00:00\",\"2022-02-21T00:00:00\",\"2022-02-20T00:00:00\",\"2022-02-19T00:00:00\",\"2022-02-18T00:00:00\",\"2022-02-17T00:00:00\",\"2022-02-16T00:00:00\",\"2022-02-15T00:00:00\",\"2022-02-14T00:00:00\",\"2022-02-13T00:00:00\",\"2022-02-12T00:00:00\",\"2022-02-11T00:00:00\",\"2022-02-10T00:00:00\",\"2022-02-09T00:00:00\",\"2022-02-08T00:00:00\",\"2022-02-07T00:00:00\",\"2022-02-06T00:00:00\",\"2022-02-05T00:00:00\",\"2022-02-04T00:00:00\",\"2022-02-03T00:00:00\",\"2022-02-02T00:00:00\",\"2022-02-01T00:00:00\",\"2022-01-31T00:00:00\",\"2022-01-30T00:00:00\",\"2022-01-29T00:00:00\",\"2022-01-28T00:00:00\",\"2022-01-27T00:00:00\",\"2022-01-26T00:00:00\",\"2022-01-25T00:00:00\",\"2022-01-24T00:00:00\",\"2022-01-23T00:00:00\",\"2022-01-22T00:00:00\",\"2022-01-21T00:00:00\",\"2022-01-20T00:00:00\",\"2022-01-19T00:00:00\",\"2022-01-18T00:00:00\",\"2022-01-17T00:00:00\",\"2022-01-16T00:00:00\",\"2022-01-15T00:00:00\",\"2022-01-14T00:00:00\",\"2022-01-13T00:00:00\",\"2022-01-12T00:00:00\",\"2022-01-11T00:00:00\",\"2022-01-10T00:00:00\",\"2022-01-09T00:00:00\",\"2022-01-08T00:00:00\",\"2022-01-07T00:00:00\",\"2022-01-06T00:00:00\",\"2022-01-05T00:00:00\",\"2022-01-04T00:00:00\",\"2022-01-03T00:00:00\",\"2022-01-02T00:00:00\",\"2022-01-01T00:00:00\",\"2021-12-31T00:00:00\",\"2021-12-30T00:00:00\",\"2021-12-29T00:00:00\",\"2021-12-28T00:00:00\",\"2021-12-27T00:00:00\",\"2021-12-26T00:00:00\",\"2021-12-25T00:00:00\",\"2021-12-24T00:00:00\",\"2021-12-23T00:00:00\",\"2021-12-22T00:00:00\",\"2021-12-21T00:00:00\",\"2021-12-20T00:00:00\",\"2021-12-19T00:00:00\",\"2021-12-18T00:00:00\",\"2021-12-17T00:00:00\",\"2021-12-16T00:00:00\",\"2021-12-15T00:00:00\",\"2021-12-14T00:00:00\",\"2021-12-13T00:00:00\",\"2021-12-12T00:00:00\",\"2021-12-11T00:00:00\",\"2021-12-10T00:00:00\",\"2021-12-09T00:00:00\",\"2021-12-08T00:00:00\",\"2021-12-07T00:00:00\",\"2021-12-06T00:00:00\",\"2021-12-05T00:00:00\",\"2021-12-04T00:00:00\",\"2021-12-03T00:00:00\",\"2021-12-02T00:00:00\",\"2021-12-01T00:00:00\",\"2021-11-30T00:00:00\",\"2021-11-29T00:00:00\",\"2021-11-28T00:00:00\",\"2021-11-27T00:00:00\",\"2021-11-26T00:00:00\",\"2021-11-25T00:00:00\",\"2021-11-24T00:00:00\",\"2021-11-23T00:00:00\"],\"y\":[null,null,null,null,null,null,null,null,null,null,null,null,null,null,null,null,null,null,null,null,null,null,null,null,null,null,null,null,null,412.8333333333333,405.6666666666667,409.9,408.76666666666665,408.96666666666664,403.7,397.4,397.8,397.2,398.1666666666667,395.0,394.3666666666667,391.06666666666666,389.0,387.5,388.1666666666667,386.06666666666666,388.3333333333333,382.43333333333334,381.73333333333335,383.9,377.3333333333333,374.6666666666667,377.6666666666667,370.23333333333335,369.73333333333335,367.93333333333334,368.93333333333334,372.3666666666667,367.93333333333334,367.1,368.1,366.56666666666666,366.56666666666666,368.53333333333336,365.1333333333333,369.93333333333334,369.8333333333333,364.7,362.6333333333333,365.7,363.6333333333333,363.6666666666667,364.43333333333334,363.03333333333336,358.8666666666667,359.6666666666667,361.53333333333336,363.7,366.3666666666667,368.53333333333336,375.0,380.3,377.73333333333335,383.93333333333334,386.26666666666665,387.93333333333334,392.06666666666666,393.6333333333333,394.1333333333333,395.53333333333336,398.6,396.0,394.43333333333334,391.8,395.3333333333333,395.46666666666664,394.1,399.76666666666665,398.8333333333333,398.76666666666665,402.2,403.3666666666667,403.93333333333334,404.3666666666667,406.03333333333336,408.1333333333333,406.06666666666666,404.6333333333333,397.3666666666667,395.73333333333335,394.6,392.0,391.1333333333333,392.06666666666666,389.43333333333334,389.5,383.7,380.6666666666667,382.03333333333336,380.23333333333335,377.06666666666666,374.26666666666665,374.1666666666667,374.8,375.6666666666667,377.0,376.53333333333336,375.1,377.6333333333333,374.0,370.43333333333334,368.6,367.5,370.53333333333336,364.8666666666667,359.6666666666667,358.6333333333333,359.8333333333333,359.93333333333334,358.3,356.96666666666664,359.6,357.93333333333334,355.8666666666667,356.26666666666665,355.23333333333335,355.8333333333333,353.8333333333333,355.6,354.76666666666665,355.1666666666667,360.43333333333334,361.1666666666667,359.8666666666667,359.1333333333333,356.53333333333336,350.9,347.4,346.46666666666664,349.0,350.4,352.8333333333333,351.43333333333334,351.2,356.3666666666667,360.6,364.1333333333333,364.1333333333333,372.5,370.7,373.46666666666664,370.93333333333334,375.26666666666665,376.46666666666664,376.96666666666664,377.1,379.6,377.93333333333334,377.56666666666666,378.1333333333333,379.3,379.7,380.6,387.1333333333333,388.7,390.56666666666666,397.06666666666666,399.23333333333335,398.1666666666667,396.6,396.3,396.4,396.1666666666667,395.0,394.03333333333336,392.46666666666664,391.56666666666666,388.9,385.3333333333333,386.5,385.6666666666667,386.0,384.2,384.3,387.8,386.23333333333335,383.3333333333333,387.8333333333333,388.2,389.9,390.93333333333334,390.76666666666665,391.26666666666665,388.93333333333334,388.0,389.5,389.1333333333333,390.53333333333336,393.5,395.1333333333333,394.6,394.8333333333333,395.56666666666666,397.76666666666665,398.96666666666664,401.46666666666664,402.0,405.43333333333334,405.6,405.56666666666666,407.6666666666667,412.03333333333336,410.6666666666667,409.7,403.26666666666665,404.8,407.23333333333335,407.93333333333334,408.93333333333334,407.06666666666666,406.73333333333335,406.3666666666667,409.73333333333335,404.8333333333333,402.2,403.4,403.03333333333336,397.7,396.8,394.03333333333336,393.2,392.1666666666667,394.43333333333334,389.5,390.03333333333336,389.1333333333333,388.53333333333336,384.73333333333335,383.5,381.23333333333335,377.93333333333334,370.6,373.06666666666666,370.6333333333333,375.8666666666667,374.2,375.56666666666666,373.4,374.06666666666666,374.96666666666664,373.3,372.3666666666667,368.8666666666667,371.4,373.8666666666667,370.8666666666667,372.9,374.8,375.3,378.1,378.73333333333335,377.1333333333333,373.8666666666667,377.6,375.46666666666664,374.0,373.5,375.06666666666666,375.5,378.26666666666665,380.93333333333334,383.8333333333333,385.0,386.7,385.26666666666665,386.0,382.76666666666665,383.53333333333336,384.0,385.1333333333333,386.3333333333333,388.9,388.6,390.3666666666667,392.93333333333334,397.1666666666667,397.6,402.8333333333333,396.1666666666667,392.03333333333336,392.53333333333336,393.1666666666667,395.8,394.2,396.53333333333336,395.0,396.76666666666665,401.73333333333335,402.3666666666667,406.3333333333333,407.23333333333335,409.43333333333334,407.0,410.3,411.43333333333334,412.3333333333333,414.46666666666664,415.3333333333333,411.06666666666666,409.26666666666665,409.93333333333334,410.23333333333335,409.96666666666664,408.46666666666664,405.23333333333335,401.0,399.76666666666665,399.56666666666666,404.46666666666664,407.26666666666665,408.6,411.4,413.3666666666667,413.76666666666665,412.93333333333334,414.6666666666667,412.9,412.76666666666665,410.3666666666667],\"type\":\"scatter\"}],                        {\"template\":{\"data\":{\"barpolar\":[{\"marker\":{\"line\":{\"color\":\"rgb(17,17,17)\",\"width\":0.5},\"pattern\":{\"fillmode\":\"overlay\",\"size\":10,\"solidity\":0.2}},\"type\":\"barpolar\"}],\"bar\":[{\"error_x\":{\"color\":\"#f2f5fa\"},\"error_y\":{\"color\":\"#f2f5fa\"},\"marker\":{\"line\":{\"color\":\"rgb(17,17,17)\",\"width\":0.5},\"pattern\":{\"fillmode\":\"overlay\",\"size\":10,\"solidity\":0.2}},\"type\":\"bar\"}],\"carpet\":[{\"aaxis\":{\"endlinecolor\":\"#A2B1C6\",\"gridcolor\":\"#506784\",\"linecolor\":\"#506784\",\"minorgridcolor\":\"#506784\",\"startlinecolor\":\"#A2B1C6\"},\"baxis\":{\"endlinecolor\":\"#A2B1C6\",\"gridcolor\":\"#506784\",\"linecolor\":\"#506784\",\"minorgridcolor\":\"#506784\",\"startlinecolor\":\"#A2B1C6\"},\"type\":\"carpet\"}],\"choropleth\":[{\"colorbar\":{\"outlinewidth\":0,\"ticks\":\"\"},\"type\":\"choropleth\"}],\"contourcarpet\":[{\"colorbar\":{\"outlinewidth\":0,\"ticks\":\"\"},\"type\":\"contourcarpet\"}],\"contour\":[{\"colorbar\":{\"outlinewidth\":0,\"ticks\":\"\"},\"colorscale\":[[0.0,\"#0d0887\"],[0.1111111111111111,\"#46039f\"],[0.2222222222222222,\"#7201a8\"],[0.3333333333333333,\"#9c179e\"],[0.4444444444444444,\"#bd3786\"],[0.5555555555555556,\"#d8576b\"],[0.6666666666666666,\"#ed7953\"],[0.7777777777777778,\"#fb9f3a\"],[0.8888888888888888,\"#fdca26\"],[1.0,\"#f0f921\"]],\"type\":\"contour\"}],\"heatmapgl\":[{\"colorbar\":{\"outlinewidth\":0,\"ticks\":\"\"},\"colorscale\":[[0.0,\"#0d0887\"],[0.1111111111111111,\"#46039f\"],[0.2222222222222222,\"#7201a8\"],[0.3333333333333333,\"#9c179e\"],[0.4444444444444444,\"#bd3786\"],[0.5555555555555556,\"#d8576b\"],[0.6666666666666666,\"#ed7953\"],[0.7777777777777778,\"#fb9f3a\"],[0.8888888888888888,\"#fdca26\"],[1.0,\"#f0f921\"]],\"type\":\"heatmapgl\"}],\"heatmap\":[{\"colorbar\":{\"outlinewidth\":0,\"ticks\":\"\"},\"colorscale\":[[0.0,\"#0d0887\"],[0.1111111111111111,\"#46039f\"],[0.2222222222222222,\"#7201a8\"],[0.3333333333333333,\"#9c179e\"],[0.4444444444444444,\"#bd3786\"],[0.5555555555555556,\"#d8576b\"],[0.6666666666666666,\"#ed7953\"],[0.7777777777777778,\"#fb9f3a\"],[0.8888888888888888,\"#fdca26\"],[1.0,\"#f0f921\"]],\"type\":\"heatmap\"}],\"histogram2dcontour\":[{\"colorbar\":{\"outlinewidth\":0,\"ticks\":\"\"},\"colorscale\":[[0.0,\"#0d0887\"],[0.1111111111111111,\"#46039f\"],[0.2222222222222222,\"#7201a8\"],[0.3333333333333333,\"#9c179e\"],[0.4444444444444444,\"#bd3786\"],[0.5555555555555556,\"#d8576b\"],[0.6666666666666666,\"#ed7953\"],[0.7777777777777778,\"#fb9f3a\"],[0.8888888888888888,\"#fdca26\"],[1.0,\"#f0f921\"]],\"type\":\"histogram2dcontour\"}],\"histogram2d\":[{\"colorbar\":{\"outlinewidth\":0,\"ticks\":\"\"},\"colorscale\":[[0.0,\"#0d0887\"],[0.1111111111111111,\"#46039f\"],[0.2222222222222222,\"#7201a8\"],[0.3333333333333333,\"#9c179e\"],[0.4444444444444444,\"#bd3786\"],[0.5555555555555556,\"#d8576b\"],[0.6666666666666666,\"#ed7953\"],[0.7777777777777778,\"#fb9f3a\"],[0.8888888888888888,\"#fdca26\"],[1.0,\"#f0f921\"]],\"type\":\"histogram2d\"}],\"histogram\":[{\"marker\":{\"pattern\":{\"fillmode\":\"overlay\",\"size\":10,\"solidity\":0.2}},\"type\":\"histogram\"}],\"mesh3d\":[{\"colorbar\":{\"outlinewidth\":0,\"ticks\":\"\"},\"type\":\"mesh3d\"}],\"parcoords\":[{\"line\":{\"colorbar\":{\"outlinewidth\":0,\"ticks\":\"\"}},\"type\":\"parcoords\"}],\"pie\":[{\"automargin\":true,\"type\":\"pie\"}],\"scatter3d\":[{\"line\":{\"colorbar\":{\"outlinewidth\":0,\"ticks\":\"\"}},\"marker\":{\"colorbar\":{\"outlinewidth\":0,\"ticks\":\"\"}},\"type\":\"scatter3d\"}],\"scattercarpet\":[{\"marker\":{\"colorbar\":{\"outlinewidth\":0,\"ticks\":\"\"}},\"type\":\"scattercarpet\"}],\"scattergeo\":[{\"marker\":{\"colorbar\":{\"outlinewidth\":0,\"ticks\":\"\"}},\"type\":\"scattergeo\"}],\"scattergl\":[{\"marker\":{\"line\":{\"color\":\"#283442\"}},\"type\":\"scattergl\"}],\"scattermapbox\":[{\"marker\":{\"colorbar\":{\"outlinewidth\":0,\"ticks\":\"\"}},\"type\":\"scattermapbox\"}],\"scatterpolargl\":[{\"marker\":{\"colorbar\":{\"outlinewidth\":0,\"ticks\":\"\"}},\"type\":\"scatterpolargl\"}],\"scatterpolar\":[{\"marker\":{\"colorbar\":{\"outlinewidth\":0,\"ticks\":\"\"}},\"type\":\"scatterpolar\"}],\"scatter\":[{\"marker\":{\"line\":{\"color\":\"#283442\"}},\"type\":\"scatter\"}],\"scatterternary\":[{\"marker\":{\"colorbar\":{\"outlinewidth\":0,\"ticks\":\"\"}},\"type\":\"scatterternary\"}],\"surface\":[{\"colorbar\":{\"outlinewidth\":0,\"ticks\":\"\"},\"colorscale\":[[0.0,\"#0d0887\"],[0.1111111111111111,\"#46039f\"],[0.2222222222222222,\"#7201a8\"],[0.3333333333333333,\"#9c179e\"],[0.4444444444444444,\"#bd3786\"],[0.5555555555555556,\"#d8576b\"],[0.6666666666666666,\"#ed7953\"],[0.7777777777777778,\"#fb9f3a\"],[0.8888888888888888,\"#fdca26\"],[1.0,\"#f0f921\"]],\"type\":\"surface\"}],\"table\":[{\"cells\":{\"fill\":{\"color\":\"#506784\"},\"line\":{\"color\":\"rgb(17,17,17)\"}},\"header\":{\"fill\":{\"color\":\"#2a3f5f\"},\"line\":{\"color\":\"rgb(17,17,17)\"}},\"type\":\"table\"}]},\"layout\":{\"annotationdefaults\":{\"arrowcolor\":\"#f2f5fa\",\"arrowhead\":0,\"arrowwidth\":1},\"autotypenumbers\":\"strict\",\"coloraxis\":{\"colorbar\":{\"outlinewidth\":0,\"ticks\":\"\"}},\"colorscale\":{\"diverging\":[[0,\"#8e0152\"],[0.1,\"#c51b7d\"],[0.2,\"#de77ae\"],[0.3,\"#f1b6da\"],[0.4,\"#fde0ef\"],[0.5,\"#f7f7f7\"],[0.6,\"#e6f5d0\"],[0.7,\"#b8e186\"],[0.8,\"#7fbc41\"],[0.9,\"#4d9221\"],[1,\"#276419\"]],\"sequential\":[[0.0,\"#0d0887\"],[0.1111111111111111,\"#46039f\"],[0.2222222222222222,\"#7201a8\"],[0.3333333333333333,\"#9c179e\"],[0.4444444444444444,\"#bd3786\"],[0.5555555555555556,\"#d8576b\"],[0.6666666666666666,\"#ed7953\"],[0.7777777777777778,\"#fb9f3a\"],[0.8888888888888888,\"#fdca26\"],[1.0,\"#f0f921\"]],\"sequentialminus\":[[0.0,\"#0d0887\"],[0.1111111111111111,\"#46039f\"],[0.2222222222222222,\"#7201a8\"],[0.3333333333333333,\"#9c179e\"],[0.4444444444444444,\"#bd3786\"],[0.5555555555555556,\"#d8576b\"],[0.6666666666666666,\"#ed7953\"],[0.7777777777777778,\"#fb9f3a\"],[0.8888888888888888,\"#fdca26\"],[1.0,\"#f0f921\"]]},\"colorway\":[\"#636efa\",\"#EF553B\",\"#00cc96\",\"#ab63fa\",\"#FFA15A\",\"#19d3f3\",\"#FF6692\",\"#B6E880\",\"#FF97FF\",\"#FECB52\"],\"font\":{\"color\":\"#f2f5fa\"},\"geo\":{\"bgcolor\":\"rgb(17,17,17)\",\"lakecolor\":\"rgb(17,17,17)\",\"landcolor\":\"rgb(17,17,17)\",\"showlakes\":true,\"showland\":true,\"subunitcolor\":\"#506784\"},\"hoverlabel\":{\"align\":\"left\"},\"hovermode\":\"closest\",\"mapbox\":{\"style\":\"dark\"},\"paper_bgcolor\":\"rgb(17,17,17)\",\"plot_bgcolor\":\"rgb(17,17,17)\",\"polar\":{\"angularaxis\":{\"gridcolor\":\"#506784\",\"linecolor\":\"#506784\",\"ticks\":\"\"},\"bgcolor\":\"rgb(17,17,17)\",\"radialaxis\":{\"gridcolor\":\"#506784\",\"linecolor\":\"#506784\",\"ticks\":\"\"}},\"scene\":{\"xaxis\":{\"backgroundcolor\":\"rgb(17,17,17)\",\"gridcolor\":\"#506784\",\"gridwidth\":2,\"linecolor\":\"#506784\",\"showbackground\":true,\"ticks\":\"\",\"zerolinecolor\":\"#C8D4E3\"},\"yaxis\":{\"backgroundcolor\":\"rgb(17,17,17)\",\"gridcolor\":\"#506784\",\"gridwidth\":2,\"linecolor\":\"#506784\",\"showbackground\":true,\"ticks\":\"\",\"zerolinecolor\":\"#C8D4E3\"},\"zaxis\":{\"backgroundcolor\":\"rgb(17,17,17)\",\"gridcolor\":\"#506784\",\"gridwidth\":2,\"linecolor\":\"#506784\",\"showbackground\":true,\"ticks\":\"\",\"zerolinecolor\":\"#C8D4E3\"}},\"shapedefaults\":{\"line\":{\"color\":\"#f2f5fa\"}},\"sliderdefaults\":{\"bgcolor\":\"#C8D4E3\",\"bordercolor\":\"rgb(17,17,17)\",\"borderwidth\":1,\"tickwidth\":0},\"ternary\":{\"aaxis\":{\"gridcolor\":\"#506784\",\"linecolor\":\"#506784\",\"ticks\":\"\"},\"baxis\":{\"gridcolor\":\"#506784\",\"linecolor\":\"#506784\",\"ticks\":\"\"},\"bgcolor\":\"rgb(17,17,17)\",\"caxis\":{\"gridcolor\":\"#506784\",\"linecolor\":\"#506784\",\"ticks\":\"\"}},\"title\":{\"x\":0.05},\"updatemenudefaults\":{\"bgcolor\":\"#506784\",\"borderwidth\":0},\"xaxis\":{\"automargin\":true,\"gridcolor\":\"#283442\",\"linecolor\":\"#506784\",\"ticks\":\"\",\"title\":{\"standoff\":15},\"zerolinecolor\":\"#283442\",\"zerolinewidth\":2},\"yaxis\":{\"automargin\":true,\"gridcolor\":\"#283442\",\"linecolor\":\"#506784\",\"ticks\":\"\",\"title\":{\"standoff\":15},\"zerolinecolor\":\"#283442\",\"zerolinewidth\":2}}},\"title\":{\"text\":\"Total Sleep Time Mins, Rolling 30 Day\"},\"yaxis\":{\"title\":{\"text\":\"Sleep Time (Mins)\"}},\"xaxis\":{\"title\":{\"text\":\"Date\"}}},                        {\"responsive\": true}                    ).then(function(){\n",
       "                            \n",
       "var gd = document.getElementById('0d8daebd-91ab-41d6-a904-a7c987be8d41');\n",
       "var x = new MutationObserver(function (mutations, observer) {{\n",
       "        var display = window.getComputedStyle(gd).display;\n",
       "        if (!display || display === 'none') {{\n",
       "            console.log([gd, 'removed!']);\n",
       "            Plotly.purge(gd);\n",
       "            observer.disconnect();\n",
       "        }}\n",
       "}});\n",
       "\n",
       "// Listen for the removal of the full notebook cells\n",
       "var notebookContainer = gd.closest('#notebook-container');\n",
       "if (notebookContainer) {{\n",
       "    x.observe(notebookContainer, {childList: true});\n",
       "}}\n",
       "\n",
       "// Listen for the clearing of the current output cell\n",
       "var outputEl = gd.closest('.output');\n",
       "if (outputEl) {{\n",
       "    x.observe(outputEl, {childList: true});\n",
       "}}\n",
       "\n",
       "                        })                };                });            </script>        </div>"
      ]
     },
     "metadata": {},
     "output_type": "display_data"
    }
   ],
   "source": [
    "fig = go.Figure()\n",
    "\n",
    "tick_values_df = df.rename(columns={'sleepData.totalSleepTime':'sleepTime', 'sleepData.deepTime':'deepTime', 'sleepData.avgHeartRate':'avgHR'})\\\n",
    "    .loc[:, ['sleepTime','deepTime','avgHR']]\n",
    "\n",
    "tick_text = [f'Sleep Time: {sleepTime} mins<br> Deep Sleep Time: {deepTime} mins<br> Avg Heart Rate: {avgHR} bpm' \n",
    "             for (sleepTime, deepTime, avgHR) in tick_values_df.values]\n",
    "\n",
    "fig.add_trace(\n",
    "    go.Scatter(\n",
    "        x = df['sleepDate']\n",
    "        , y = df['sleepData.totalSleepTime'].rolling(window=30).mean()\n",
    "        # , name = df['sleepDate.weekDay']\n",
    "        # , mode='markers'\n",
    "        , name='values'\n",
    "        , text = tick_text\n",
    "        , hoverinfo = 'text'\n",
    "        , marker=dict(\n",
    "            colorscale='agsunset',\n",
    "            line_width=1\n",
    "        )\n",
    "    )\n",
    ")\n",
    " \n",
    "# dark theme \n",
    "fig.layout.template = 'plotly_dark'\n",
    "\n",
    "\n",
    "fig.update_layout(title = 'Total Sleep Time Mins, Rolling 30 Day',\n",
    "                  yaxis_title='Sleep Time (Mins)',\n",
    "                  xaxis_title='Date', \n",
    "                 )\n",
    "\n",
    "# save file to html\n",
    "# fig.write_json(os.path.abspath('../../personal-site/static/plotly/diamonds-forever/be-size-vs-carat.json'))\n",
    "\n",
    "fig.show()"
   ]
  },
  {
   "cell_type": "code",
   "execution_count": 17,
   "id": "05866098-afa3-477e-bbc3-375673108222",
   "metadata": {},
   "outputs": [
    {
     "data": {
      "application/vnd.plotly.v1+json": {
       "config": {
        "plotlyServerURL": "https://plot.ly"
       },
       "data": [
        {
         "hoverinfo": "text",
         "marker": {
          "colorscale": [
           [
            0,
            "rgb(75, 41, 145)"
           ],
           [
            0.16666666666666666,
            "rgb(135, 44, 162)"
           ],
           [
            0.3333333333333333,
            "rgb(192, 54, 157)"
           ],
           [
            0.5,
            "rgb(234, 79, 136)"
           ],
           [
            0.6666666666666666,
            "rgb(250, 120, 118)"
           ],
           [
            0.8333333333333334,
            "rgb(246, 169, 122)"
           ],
           [
            1,
            "rgb(237, 217, 163)"
           ]
          ],
          "line": {
           "width": 1
          }
         },
         "name": "values",
         "type": "scatter",
         "x": [
          "2022-11-11T00:00:00",
          "2022-11-10T00:00:00",
          "2022-11-09T00:00:00",
          "2022-11-08T00:00:00",
          "2022-11-07T00:00:00",
          "2022-11-06T00:00:00",
          "2022-11-05T00:00:00",
          "2022-11-04T00:00:00",
          "2022-11-03T00:00:00",
          "2022-11-02T00:00:00",
          "2022-11-01T00:00:00",
          "2022-10-31T00:00:00",
          "2022-10-30T00:00:00",
          "2022-10-29T00:00:00",
          "2022-10-28T00:00:00",
          "2022-10-27T00:00:00",
          "2022-10-26T00:00:00",
          "2022-10-25T00:00:00",
          "2022-10-24T00:00:00",
          "2022-10-23T00:00:00",
          "2022-10-22T00:00:00",
          "2022-10-21T00:00:00",
          "2022-10-20T00:00:00",
          "2022-10-19T00:00:00",
          "2022-10-18T00:00:00",
          "2022-10-17T00:00:00",
          "2022-10-16T00:00:00",
          "2022-10-15T00:00:00",
          "2022-10-14T00:00:00",
          "2022-10-13T00:00:00",
          "2022-10-12T00:00:00",
          "2022-10-11T00:00:00",
          "2022-10-10T00:00:00",
          "2022-10-09T00:00:00",
          "2022-10-08T00:00:00",
          "2022-10-07T00:00:00",
          "2022-10-06T00:00:00",
          "2022-10-05T00:00:00",
          "2022-10-04T00:00:00",
          "2022-10-03T00:00:00",
          "2022-10-02T00:00:00",
          "2022-09-30T00:00:00",
          "2022-09-29T00:00:00",
          "2022-09-28T00:00:00",
          "2022-09-27T00:00:00",
          "2022-09-26T00:00:00",
          "2022-09-25T00:00:00",
          "2022-09-24T00:00:00",
          "2022-09-23T00:00:00",
          "2022-09-22T00:00:00",
          "2022-09-21T00:00:00",
          "2022-09-20T00:00:00",
          "2022-09-19T00:00:00",
          "2022-09-16T00:00:00",
          "2022-09-15T00:00:00",
          "2022-09-14T00:00:00",
          "2022-09-13T00:00:00",
          "2022-09-12T00:00:00",
          "2022-09-11T00:00:00",
          "2022-09-10T00:00:00",
          "2022-09-09T00:00:00",
          "2022-09-08T00:00:00",
          "2022-09-07T00:00:00",
          "2022-09-06T00:00:00",
          "2022-09-05T00:00:00",
          "2022-09-04T00:00:00",
          "2022-09-03T00:00:00",
          "2022-09-02T00:00:00",
          "2022-09-01T00:00:00",
          "2022-08-31T00:00:00",
          "2022-08-30T00:00:00",
          "2022-08-29T00:00:00",
          "2022-08-28T00:00:00",
          "2022-08-27T00:00:00",
          "2022-08-26T00:00:00",
          "2022-08-25T00:00:00",
          "2022-08-24T00:00:00",
          "2022-08-23T00:00:00",
          "2022-08-22T00:00:00",
          "2022-08-21T00:00:00",
          "2022-08-20T00:00:00",
          "2022-08-19T00:00:00",
          "2022-08-18T00:00:00",
          "2022-08-17T00:00:00",
          "2022-08-16T00:00:00",
          "2022-08-15T00:00:00",
          "2022-08-14T00:00:00",
          "2022-08-13T00:00:00",
          "2022-08-12T00:00:00",
          "2022-08-11T00:00:00",
          "2022-08-10T00:00:00",
          "2022-08-09T00:00:00",
          "2022-08-08T00:00:00",
          "2022-08-07T00:00:00",
          "2022-08-06T00:00:00",
          "2022-08-05T00:00:00",
          "2022-08-04T00:00:00",
          "2022-08-03T00:00:00",
          "2022-08-02T00:00:00",
          "2022-08-01T00:00:00",
          "2022-07-31T00:00:00",
          "2022-07-30T00:00:00",
          "2022-07-29T00:00:00",
          "2022-07-28T00:00:00",
          "2022-07-27T00:00:00",
          "2022-07-26T00:00:00",
          "2022-07-25T00:00:00",
          "2022-07-24T00:00:00",
          "2022-07-23T00:00:00",
          "2022-07-22T00:00:00",
          "2022-07-21T00:00:00",
          "2022-07-20T00:00:00",
          "2022-07-19T00:00:00",
          "2022-07-18T00:00:00",
          "2022-07-17T00:00:00",
          "2022-07-16T00:00:00",
          "2022-07-15T00:00:00",
          "2022-07-14T00:00:00",
          "2022-07-13T00:00:00",
          "2022-07-12T00:00:00",
          "2022-07-11T00:00:00",
          "2022-07-10T00:00:00",
          "2022-07-09T00:00:00",
          "2022-07-08T00:00:00",
          "2022-07-07T00:00:00",
          "2022-07-06T00:00:00",
          "2022-07-05T00:00:00",
          "2022-07-04T00:00:00",
          "2022-07-03T00:00:00",
          "2022-07-02T00:00:00",
          "2022-07-01T00:00:00",
          "2022-06-30T00:00:00",
          "2022-06-29T00:00:00",
          "2022-06-28T00:00:00",
          "2022-06-27T00:00:00",
          "2022-06-26T00:00:00",
          "2022-06-25T00:00:00",
          "2022-06-24T00:00:00",
          "2022-06-23T00:00:00",
          "2022-06-22T00:00:00",
          "2022-06-20T00:00:00",
          "2022-06-19T00:00:00",
          "2022-06-18T00:00:00",
          "2022-06-17T00:00:00",
          "2022-06-16T00:00:00",
          "2022-06-15T00:00:00",
          "2022-06-14T00:00:00",
          "2022-06-13T00:00:00",
          "2022-06-12T00:00:00",
          "2022-06-11T00:00:00",
          "2022-06-10T00:00:00",
          "2022-06-09T00:00:00",
          "2022-06-08T00:00:00",
          "2022-06-07T00:00:00",
          "2022-06-06T00:00:00",
          "2022-06-05T00:00:00",
          "2022-06-04T00:00:00",
          "2022-06-03T00:00:00",
          "2022-06-02T00:00:00",
          "2022-06-01T00:00:00",
          "2022-05-31T00:00:00",
          "2022-05-30T00:00:00",
          "2022-05-29T00:00:00",
          "2022-05-28T00:00:00",
          "2022-05-27T00:00:00",
          "2022-05-26T00:00:00",
          "2022-05-25T00:00:00",
          "2022-05-24T00:00:00",
          "2022-05-23T00:00:00",
          "2022-05-22T00:00:00",
          "2022-05-21T00:00:00",
          "2022-05-20T00:00:00",
          "2022-05-19T00:00:00",
          "2022-05-18T00:00:00",
          "2022-05-17T00:00:00",
          "2022-05-16T00:00:00",
          "2022-05-15T00:00:00",
          "2022-05-14T00:00:00",
          "2022-05-13T00:00:00",
          "2022-05-12T00:00:00",
          "2022-05-11T00:00:00",
          "2022-05-10T00:00:00",
          "2022-05-09T00:00:00",
          "2022-05-08T00:00:00",
          "2022-05-07T00:00:00",
          "2022-05-06T00:00:00",
          "2022-05-05T00:00:00",
          "2022-05-04T00:00:00",
          "2022-05-03T00:00:00",
          "2022-05-02T00:00:00",
          "2022-05-01T00:00:00",
          "2022-04-30T00:00:00",
          "2022-04-29T00:00:00",
          "2022-04-28T00:00:00",
          "2022-04-27T00:00:00",
          "2022-04-26T00:00:00",
          "2022-04-25T00:00:00",
          "2022-04-24T00:00:00",
          "2022-04-23T00:00:00",
          "2022-04-22T00:00:00",
          "2022-04-21T00:00:00",
          "2022-04-20T00:00:00",
          "2022-04-19T00:00:00",
          "2022-04-18T00:00:00",
          "2022-04-17T00:00:00",
          "2022-04-16T00:00:00",
          "2022-04-15T00:00:00",
          "2022-04-14T00:00:00",
          "2022-04-13T00:00:00",
          "2022-04-12T00:00:00",
          "2022-04-11T00:00:00",
          "2022-04-10T00:00:00",
          "2022-04-09T00:00:00",
          "2022-04-08T00:00:00",
          "2022-04-07T00:00:00",
          "2022-04-06T00:00:00",
          "2022-04-05T00:00:00",
          "2022-04-04T00:00:00",
          "2022-04-03T00:00:00",
          "2022-04-02T00:00:00",
          "2022-04-01T00:00:00",
          "2022-03-31T00:00:00",
          "2022-03-30T00:00:00",
          "2022-03-29T00:00:00",
          "2022-03-28T00:00:00",
          "2022-03-27T00:00:00",
          "2022-03-26T00:00:00",
          "2022-03-25T00:00:00",
          "2022-03-24T00:00:00",
          "2022-03-23T00:00:00",
          "2022-03-22T00:00:00",
          "2022-03-21T00:00:00",
          "2022-03-20T00:00:00",
          "2022-03-19T00:00:00",
          "2022-03-18T00:00:00",
          "2022-03-17T00:00:00",
          "2022-03-16T00:00:00",
          "2022-03-15T00:00:00",
          "2022-03-14T00:00:00",
          "2022-03-13T00:00:00",
          "2022-03-12T00:00:00",
          "2022-03-11T00:00:00",
          "2022-03-10T00:00:00",
          "2022-03-09T00:00:00",
          "2022-03-08T00:00:00",
          "2022-03-07T00:00:00",
          "2022-03-05T00:00:00",
          "2022-03-04T00:00:00",
          "2022-03-03T00:00:00",
          "2022-03-02T00:00:00",
          "2022-03-01T00:00:00",
          "2022-02-28T00:00:00",
          "2022-02-27T00:00:00",
          "2022-02-26T00:00:00",
          "2022-02-25T00:00:00",
          "2022-02-24T00:00:00",
          "2022-02-23T00:00:00",
          "2022-02-22T00:00:00",
          "2022-02-21T00:00:00",
          "2022-02-20T00:00:00",
          "2022-02-19T00:00:00",
          "2022-02-18T00:00:00",
          "2022-02-17T00:00:00",
          "2022-02-16T00:00:00",
          "2022-02-15T00:00:00",
          "2022-02-14T00:00:00",
          "2022-02-13T00:00:00",
          "2022-02-12T00:00:00",
          "2022-02-11T00:00:00",
          "2022-02-10T00:00:00",
          "2022-02-09T00:00:00",
          "2022-02-08T00:00:00",
          "2022-02-07T00:00:00",
          "2022-02-06T00:00:00",
          "2022-02-05T00:00:00",
          "2022-02-04T00:00:00",
          "2022-02-03T00:00:00",
          "2022-02-02T00:00:00",
          "2022-02-01T00:00:00",
          "2022-01-31T00:00:00",
          "2022-01-30T00:00:00",
          "2022-01-29T00:00:00",
          "2022-01-28T00:00:00",
          "2022-01-27T00:00:00",
          "2022-01-26T00:00:00",
          "2022-01-25T00:00:00",
          "2022-01-24T00:00:00",
          "2022-01-23T00:00:00",
          "2022-01-22T00:00:00",
          "2022-01-21T00:00:00",
          "2022-01-20T00:00:00",
          "2022-01-19T00:00:00",
          "2022-01-18T00:00:00",
          "2022-01-17T00:00:00",
          "2022-01-16T00:00:00",
          "2022-01-15T00:00:00",
          "2022-01-14T00:00:00",
          "2022-01-13T00:00:00",
          "2022-01-12T00:00:00",
          "2022-01-11T00:00:00",
          "2022-01-10T00:00:00",
          "2022-01-09T00:00:00",
          "2022-01-08T00:00:00",
          "2022-01-07T00:00:00",
          "2022-01-06T00:00:00",
          "2022-01-05T00:00:00",
          "2022-01-04T00:00:00",
          "2022-01-03T00:00:00",
          "2022-01-02T00:00:00",
          "2022-01-01T00:00:00",
          "2021-12-31T00:00:00",
          "2021-12-30T00:00:00",
          "2021-12-29T00:00:00",
          "2021-12-28T00:00:00",
          "2021-12-27T00:00:00",
          "2021-12-26T00:00:00",
          "2021-12-25T00:00:00",
          "2021-12-24T00:00:00",
          "2021-12-23T00:00:00",
          "2021-12-22T00:00:00",
          "2021-12-21T00:00:00",
          "2021-12-20T00:00:00",
          "2021-12-19T00:00:00",
          "2021-12-18T00:00:00",
          "2021-12-17T00:00:00",
          "2021-12-16T00:00:00",
          "2021-12-15T00:00:00",
          "2021-12-14T00:00:00",
          "2021-12-13T00:00:00",
          "2021-12-12T00:00:00",
          "2021-12-11T00:00:00",
          "2021-12-10T00:00:00",
          "2021-12-09T00:00:00",
          "2021-12-08T00:00:00",
          "2021-12-07T00:00:00",
          "2021-12-06T00:00:00",
          "2021-12-05T00:00:00",
          "2021-12-04T00:00:00",
          "2021-12-03T00:00:00",
          "2021-12-02T00:00:00",
          "2021-12-01T00:00:00",
          "2021-11-30T00:00:00",
          "2021-11-29T00:00:00",
          "2021-11-28T00:00:00",
          "2021-11-27T00:00:00",
          "2021-11-26T00:00:00",
          "2021-11-25T00:00:00",
          "2021-11-24T00:00:00",
          "2021-11-23T00:00:00"
         ],
         "y": [
          null,
          null,
          null,
          null,
          null,
          null,
          null,
          null,
          null,
          null,
          null,
          null,
          null,
          null,
          null,
          null,
          null,
          null,
          null,
          null,
          null,
          null,
          null,
          null,
          null,
          null,
          null,
          null,
          null,
          107.26666666666667,
          103.8,
          104.73333333333333,
          101.86666666666666,
          102.6,
          100.66666666666667,
          100.1,
          100.6,
          98.83333333333333,
          97.83333333333333,
          95.96666666666667,
          96.63333333333334,
          96.06666666666666,
          96.2,
          96.73333333333333,
          94.13333333333334,
          93.8,
          94.06666666666666,
          94.2,
          91.83333333333333,
          92.7,
          95.3,
          95.33333333333333,
          96.16666666666667,
          93.36666666666666,
          95.83333333333333,
          95.73333333333333,
          94.73333333333333,
          95.16666666666667,
          94.63333333333334,
          96.6,
          96.43333333333334,
          96.06666666666666,
          98.2,
          95.93333333333334,
          96.2,
          97.66666666666667,
          96.86666666666666,
          97.73333333333333,
          98.46666666666667,
          98.86666666666666,
          96.2,
          96.66666666666667,
          96.1,
          94,
          94.33333333333333,
          94.03333333333333,
          91.63333333333334,
          91.63333333333334,
          92.8,
          95.06666666666666,
          96.06666666666666,
          97.2,
          95.6,
          96.5,
          96.3,
          99.86666666666666,
          100.53333333333333,
          99.16666666666667,
          100,
          98.96666666666667,
          99.16666666666667,
          99,
          97.5,
          98.1,
          97.16666666666667,
          96.4,
          95.06666666666666,
          95.63333333333334,
          93.46666666666667,
          93.26666666666667,
          94.36666666666666,
          95.23333333333333,
          95.53333333333333,
          97.03333333333333,
          96.73333333333333,
          96.2,
          96.13333333333334,
          96.93333333333334,
          95,
          94.2,
          94.13333333333334,
          93.1,
          93.43333333333334,
          93.4,
          94.1,
          89.9,
          88.16666666666667,
          87.46666666666667,
          87.36666666666666,
          87.73333333333333,
          88.53333333333333,
          86.36666666666666,
          87.86666666666666,
          89.3,
          90.43333333333334,
          90.03333333333333,
          89.66666666666667,
          91.36666666666666,
          95.1,
          96.63333333333334,
          96.93333333333334,
          97.43333333333334,
          99.3,
          99.9,
          102.06666666666666,
          102.13333333333334,
          104.33333333333333,
          103.76666666666667,
          103.26666666666667,
          100.5,
          100.36666666666666,
          102.96666666666667,
          102.66666666666667,
          102.66666666666667,
          101.56666666666666,
          103.43333333333334,
          103.9,
          105.83333333333333,
          105.3,
          104.86666666666666,
          105.83333333333333,
          108.63333333333334,
          107.16666666666667,
          106.96666666666667,
          106.36666666666666,
          108.66666666666667,
          107.73333333333333,
          103.56666666666666,
          101.63333333333334,
          101.33333333333333,
          101.06666666666666,
          99.53333333333333,
          97.7,
          96.56666666666666,
          96.46666666666667,
          97.26666666666667,
          98.06666666666666,
          98.06666666666666,
          99.43333333333334,
          99.56666666666666,
          99.76666666666667,
          97.96666666666667,
          98.3,
          98.43333333333334,
          97.36666666666666,
          95.2,
          95.86666666666666,
          94.1,
          94.66666666666667,
          94.83333333333333,
          96.26666666666667,
          96.23333333333333,
          97.03333333333333,
          97.13333333333334,
          97.36666666666666,
          97.3,
          98.16666666666667,
          100.16666666666667,
          100.86666666666666,
          100.63333333333334,
          102.73333333333333,
          104.33333333333333,
          106.53333333333333,
          105.46666666666667,
          104.46666666666667,
          103.13333333333334,
          102.73333333333333,
          102.16666666666667,
          102.56666666666666,
          102.96666666666667,
          102.83333333333333,
          101.13333333333334,
          100.1,
          99.2,
          101.73333333333333,
          103.8,
          102.33333333333333,
          105.06666666666666,
          106.7,
          105.13333333333334,
          104.66666666666667,
          104.53333333333333,
          105.73333333333333,
          106.6,
          107.23333333333333,
          105.26666666666667,
          107.1,
          108.2,
          109.3,
          109.26666666666667,
          107.3,
          107.5,
          107.23333333333333,
          108.8,
          108.1,
          108.7,
          109.4,
          110.33333333333333,
          110.7,
          109.33333333333333,
          108.06666666666666,
          109.23333333333333,
          108.1,
          108.6,
          106.4,
          104.63333333333334,
          105.56666666666666,
          102.8,
          100.06666666666666,
          102.13333333333334,
          102.73333333333333,
          104.6,
          104.4,
          104.03333333333333,
          103.3,
          106.6,
          107.06666666666666,
          105.06666666666666,
          103.96666666666667,
          104.33333333333333,
          104.33333333333333,
          103.43333333333334,
          101.7,
          102.86666666666666,
          105.13333333333334,
          105.43333333333334,
          103.13333333333334,
          102.16666666666667,
          101.46666666666667,
          102.53333333333333,
          102.93333333333334,
          101.9,
          103.7,
          102.4,
          103.46666666666667,
          104.76666666666667,
          106.8,
          109.26666666666667,
          112.2,
          111.06666666666666,
          108.7,
          107.13333333333334,
          105.76666666666667,
          105.1,
          104.73333333333333,
          101.23333333333333,
          100.66666666666667,
          100.06666666666666,
          100.83333333333333,
          100.06666666666666,
          100.6,
          99,
          99.16666666666667,
          98.4,
          98.4,
          99.3,
          100.76666666666667,
          101.2,
          100.56666666666666,
          101,
          101.5,
          103.1,
          102.56666666666666,
          103.83333333333333,
          102.86666666666666,
          103.43333333333334,
          101.33333333333333,
          102.03333333333333,
          101.36666666666666,
          100.66666666666667,
          101.56666666666666,
          100.56666666666666,
          99.9,
          100.56666666666666,
          102.63333333333334,
          107.16666666666667,
          105.4,
          109.66666666666667,
          108.6,
          107.4,
          108.63333333333334,
          109.93333333333334,
          108.4,
          108.56666666666666,
          106.06666666666666,
          105.66666666666667,
          104.6,
          106.9,
          108.9,
          109.03333333333333,
          112,
          111.16666666666667,
          112.03333333333333,
          112.53333333333333,
          113.76666666666667,
          112.83333333333333,
          113.93333333333334,
          111.16666666666667,
          109.03333333333333,
          110.1,
          110.06666666666666,
          112.96666666666667,
          114.1,
          112.03333333333333,
          109.83333333333333,
          106.66666666666667,
          107.4,
          104.1,
          105.1,
          105.56666666666666,
          103.73333333333333,
          102.8,
          107.3,
          106.56666666666666,
          107.93333333333334,
          109.46666666666667,
          111.53333333333333,
          110.16666666666667,
          107.23333333333333
         ]
        }
       ],
       "layout": {
        "autosize": true,
        "template": {
         "data": {
          "bar": [
           {
            "error_x": {
             "color": "#f2f5fa"
            },
            "error_y": {
             "color": "#f2f5fa"
            },
            "marker": {
             "line": {
              "color": "rgb(17,17,17)",
              "width": 0.5
             },
             "pattern": {
              "fillmode": "overlay",
              "size": 10,
              "solidity": 0.2
             }
            },
            "type": "bar"
           }
          ],
          "barpolar": [
           {
            "marker": {
             "line": {
              "color": "rgb(17,17,17)",
              "width": 0.5
             },
             "pattern": {
              "fillmode": "overlay",
              "size": 10,
              "solidity": 0.2
             }
            },
            "type": "barpolar"
           }
          ],
          "carpet": [
           {
            "aaxis": {
             "endlinecolor": "#A2B1C6",
             "gridcolor": "#506784",
             "linecolor": "#506784",
             "minorgridcolor": "#506784",
             "startlinecolor": "#A2B1C6"
            },
            "baxis": {
             "endlinecolor": "#A2B1C6",
             "gridcolor": "#506784",
             "linecolor": "#506784",
             "minorgridcolor": "#506784",
             "startlinecolor": "#A2B1C6"
            },
            "type": "carpet"
           }
          ],
          "choropleth": [
           {
            "colorbar": {
             "outlinewidth": 0,
             "ticks": ""
            },
            "type": "choropleth"
           }
          ],
          "contour": [
           {
            "colorbar": {
             "outlinewidth": 0,
             "ticks": ""
            },
            "colorscale": [
             [
              0,
              "#0d0887"
             ],
             [
              0.1111111111111111,
              "#46039f"
             ],
             [
              0.2222222222222222,
              "#7201a8"
             ],
             [
              0.3333333333333333,
              "#9c179e"
             ],
             [
              0.4444444444444444,
              "#bd3786"
             ],
             [
              0.5555555555555556,
              "#d8576b"
             ],
             [
              0.6666666666666666,
              "#ed7953"
             ],
             [
              0.7777777777777778,
              "#fb9f3a"
             ],
             [
              0.8888888888888888,
              "#fdca26"
             ],
             [
              1,
              "#f0f921"
             ]
            ],
            "type": "contour"
           }
          ],
          "contourcarpet": [
           {
            "colorbar": {
             "outlinewidth": 0,
             "ticks": ""
            },
            "type": "contourcarpet"
           }
          ],
          "heatmap": [
           {
            "colorbar": {
             "outlinewidth": 0,
             "ticks": ""
            },
            "colorscale": [
             [
              0,
              "#0d0887"
             ],
             [
              0.1111111111111111,
              "#46039f"
             ],
             [
              0.2222222222222222,
              "#7201a8"
             ],
             [
              0.3333333333333333,
              "#9c179e"
             ],
             [
              0.4444444444444444,
              "#bd3786"
             ],
             [
              0.5555555555555556,
              "#d8576b"
             ],
             [
              0.6666666666666666,
              "#ed7953"
             ],
             [
              0.7777777777777778,
              "#fb9f3a"
             ],
             [
              0.8888888888888888,
              "#fdca26"
             ],
             [
              1,
              "#f0f921"
             ]
            ],
            "type": "heatmap"
           }
          ],
          "heatmapgl": [
           {
            "colorbar": {
             "outlinewidth": 0,
             "ticks": ""
            },
            "colorscale": [
             [
              0,
              "#0d0887"
             ],
             [
              0.1111111111111111,
              "#46039f"
             ],
             [
              0.2222222222222222,
              "#7201a8"
             ],
             [
              0.3333333333333333,
              "#9c179e"
             ],
             [
              0.4444444444444444,
              "#bd3786"
             ],
             [
              0.5555555555555556,
              "#d8576b"
             ],
             [
              0.6666666666666666,
              "#ed7953"
             ],
             [
              0.7777777777777778,
              "#fb9f3a"
             ],
             [
              0.8888888888888888,
              "#fdca26"
             ],
             [
              1,
              "#f0f921"
             ]
            ],
            "type": "heatmapgl"
           }
          ],
          "histogram": [
           {
            "marker": {
             "pattern": {
              "fillmode": "overlay",
              "size": 10,
              "solidity": 0.2
             }
            },
            "type": "histogram"
           }
          ],
          "histogram2d": [
           {
            "colorbar": {
             "outlinewidth": 0,
             "ticks": ""
            },
            "colorscale": [
             [
              0,
              "#0d0887"
             ],
             [
              0.1111111111111111,
              "#46039f"
             ],
             [
              0.2222222222222222,
              "#7201a8"
             ],
             [
              0.3333333333333333,
              "#9c179e"
             ],
             [
              0.4444444444444444,
              "#bd3786"
             ],
             [
              0.5555555555555556,
              "#d8576b"
             ],
             [
              0.6666666666666666,
              "#ed7953"
             ],
             [
              0.7777777777777778,
              "#fb9f3a"
             ],
             [
              0.8888888888888888,
              "#fdca26"
             ],
             [
              1,
              "#f0f921"
             ]
            ],
            "type": "histogram2d"
           }
          ],
          "histogram2dcontour": [
           {
            "colorbar": {
             "outlinewidth": 0,
             "ticks": ""
            },
            "colorscale": [
             [
              0,
              "#0d0887"
             ],
             [
              0.1111111111111111,
              "#46039f"
             ],
             [
              0.2222222222222222,
              "#7201a8"
             ],
             [
              0.3333333333333333,
              "#9c179e"
             ],
             [
              0.4444444444444444,
              "#bd3786"
             ],
             [
              0.5555555555555556,
              "#d8576b"
             ],
             [
              0.6666666666666666,
              "#ed7953"
             ],
             [
              0.7777777777777778,
              "#fb9f3a"
             ],
             [
              0.8888888888888888,
              "#fdca26"
             ],
             [
              1,
              "#f0f921"
             ]
            ],
            "type": "histogram2dcontour"
           }
          ],
          "mesh3d": [
           {
            "colorbar": {
             "outlinewidth": 0,
             "ticks": ""
            },
            "type": "mesh3d"
           }
          ],
          "parcoords": [
           {
            "line": {
             "colorbar": {
              "outlinewidth": 0,
              "ticks": ""
             }
            },
            "type": "parcoords"
           }
          ],
          "pie": [
           {
            "automargin": true,
            "type": "pie"
           }
          ],
          "scatter": [
           {
            "marker": {
             "line": {
              "color": "#283442"
             }
            },
            "type": "scatter"
           }
          ],
          "scatter3d": [
           {
            "line": {
             "colorbar": {
              "outlinewidth": 0,
              "ticks": ""
             }
            },
            "marker": {
             "colorbar": {
              "outlinewidth": 0,
              "ticks": ""
             }
            },
            "type": "scatter3d"
           }
          ],
          "scattercarpet": [
           {
            "marker": {
             "colorbar": {
              "outlinewidth": 0,
              "ticks": ""
             }
            },
            "type": "scattercarpet"
           }
          ],
          "scattergeo": [
           {
            "marker": {
             "colorbar": {
              "outlinewidth": 0,
              "ticks": ""
             }
            },
            "type": "scattergeo"
           }
          ],
          "scattergl": [
           {
            "marker": {
             "line": {
              "color": "#283442"
             }
            },
            "type": "scattergl"
           }
          ],
          "scattermapbox": [
           {
            "marker": {
             "colorbar": {
              "outlinewidth": 0,
              "ticks": ""
             }
            },
            "type": "scattermapbox"
           }
          ],
          "scatterpolar": [
           {
            "marker": {
             "colorbar": {
              "outlinewidth": 0,
              "ticks": ""
             }
            },
            "type": "scatterpolar"
           }
          ],
          "scatterpolargl": [
           {
            "marker": {
             "colorbar": {
              "outlinewidth": 0,
              "ticks": ""
             }
            },
            "type": "scatterpolargl"
           }
          ],
          "scatterternary": [
           {
            "marker": {
             "colorbar": {
              "outlinewidth": 0,
              "ticks": ""
             }
            },
            "type": "scatterternary"
           }
          ],
          "surface": [
           {
            "colorbar": {
             "outlinewidth": 0,
             "ticks": ""
            },
            "colorscale": [
             [
              0,
              "#0d0887"
             ],
             [
              0.1111111111111111,
              "#46039f"
             ],
             [
              0.2222222222222222,
              "#7201a8"
             ],
             [
              0.3333333333333333,
              "#9c179e"
             ],
             [
              0.4444444444444444,
              "#bd3786"
             ],
             [
              0.5555555555555556,
              "#d8576b"
             ],
             [
              0.6666666666666666,
              "#ed7953"
             ],
             [
              0.7777777777777778,
              "#fb9f3a"
             ],
             [
              0.8888888888888888,
              "#fdca26"
             ],
             [
              1,
              "#f0f921"
             ]
            ],
            "type": "surface"
           }
          ],
          "table": [
           {
            "cells": {
             "fill": {
              "color": "#506784"
             },
             "line": {
              "color": "rgb(17,17,17)"
             }
            },
            "header": {
             "fill": {
              "color": "#2a3f5f"
             },
             "line": {
              "color": "rgb(17,17,17)"
             }
            },
            "type": "table"
           }
          ]
         },
         "layout": {
          "annotationdefaults": {
           "arrowcolor": "#f2f5fa",
           "arrowhead": 0,
           "arrowwidth": 1
          },
          "autotypenumbers": "strict",
          "coloraxis": {
           "colorbar": {
            "outlinewidth": 0,
            "ticks": ""
           }
          },
          "colorscale": {
           "diverging": [
            [
             0,
             "#8e0152"
            ],
            [
             0.1,
             "#c51b7d"
            ],
            [
             0.2,
             "#de77ae"
            ],
            [
             0.3,
             "#f1b6da"
            ],
            [
             0.4,
             "#fde0ef"
            ],
            [
             0.5,
             "#f7f7f7"
            ],
            [
             0.6,
             "#e6f5d0"
            ],
            [
             0.7,
             "#b8e186"
            ],
            [
             0.8,
             "#7fbc41"
            ],
            [
             0.9,
             "#4d9221"
            ],
            [
             1,
             "#276419"
            ]
           ],
           "sequential": [
            [
             0,
             "#0d0887"
            ],
            [
             0.1111111111111111,
             "#46039f"
            ],
            [
             0.2222222222222222,
             "#7201a8"
            ],
            [
             0.3333333333333333,
             "#9c179e"
            ],
            [
             0.4444444444444444,
             "#bd3786"
            ],
            [
             0.5555555555555556,
             "#d8576b"
            ],
            [
             0.6666666666666666,
             "#ed7953"
            ],
            [
             0.7777777777777778,
             "#fb9f3a"
            ],
            [
             0.8888888888888888,
             "#fdca26"
            ],
            [
             1,
             "#f0f921"
            ]
           ],
           "sequentialminus": [
            [
             0,
             "#0d0887"
            ],
            [
             0.1111111111111111,
             "#46039f"
            ],
            [
             0.2222222222222222,
             "#7201a8"
            ],
            [
             0.3333333333333333,
             "#9c179e"
            ],
            [
             0.4444444444444444,
             "#bd3786"
            ],
            [
             0.5555555555555556,
             "#d8576b"
            ],
            [
             0.6666666666666666,
             "#ed7953"
            ],
            [
             0.7777777777777778,
             "#fb9f3a"
            ],
            [
             0.8888888888888888,
             "#fdca26"
            ],
            [
             1,
             "#f0f921"
            ]
           ]
          },
          "colorway": [
           "#636efa",
           "#EF553B",
           "#00cc96",
           "#ab63fa",
           "#FFA15A",
           "#19d3f3",
           "#FF6692",
           "#B6E880",
           "#FF97FF",
           "#FECB52"
          ],
          "font": {
           "color": "#f2f5fa"
          },
          "geo": {
           "bgcolor": "rgb(17,17,17)",
           "lakecolor": "rgb(17,17,17)",
           "landcolor": "rgb(17,17,17)",
           "showlakes": true,
           "showland": true,
           "subunitcolor": "#506784"
          },
          "hoverlabel": {
           "align": "left"
          },
          "hovermode": "closest",
          "mapbox": {
           "style": "dark"
          },
          "paper_bgcolor": "rgb(17,17,17)",
          "plot_bgcolor": "rgb(17,17,17)",
          "polar": {
           "angularaxis": {
            "gridcolor": "#506784",
            "linecolor": "#506784",
            "ticks": ""
           },
           "bgcolor": "rgb(17,17,17)",
           "radialaxis": {
            "gridcolor": "#506784",
            "linecolor": "#506784",
            "ticks": ""
           }
          },
          "scene": {
           "xaxis": {
            "backgroundcolor": "rgb(17,17,17)",
            "gridcolor": "#506784",
            "gridwidth": 2,
            "linecolor": "#506784",
            "showbackground": true,
            "ticks": "",
            "zerolinecolor": "#C8D4E3"
           },
           "yaxis": {
            "backgroundcolor": "rgb(17,17,17)",
            "gridcolor": "#506784",
            "gridwidth": 2,
            "linecolor": "#506784",
            "showbackground": true,
            "ticks": "",
            "zerolinecolor": "#C8D4E3"
           },
           "zaxis": {
            "backgroundcolor": "rgb(17,17,17)",
            "gridcolor": "#506784",
            "gridwidth": 2,
            "linecolor": "#506784",
            "showbackground": true,
            "ticks": "",
            "zerolinecolor": "#C8D4E3"
           }
          },
          "shapedefaults": {
           "line": {
            "color": "#f2f5fa"
           }
          },
          "sliderdefaults": {
           "bgcolor": "#C8D4E3",
           "bordercolor": "rgb(17,17,17)",
           "borderwidth": 1,
           "tickwidth": 0
          },
          "ternary": {
           "aaxis": {
            "gridcolor": "#506784",
            "linecolor": "#506784",
            "ticks": ""
           },
           "baxis": {
            "gridcolor": "#506784",
            "linecolor": "#506784",
            "ticks": ""
           },
           "bgcolor": "rgb(17,17,17)",
           "caxis": {
            "gridcolor": "#506784",
            "linecolor": "#506784",
            "ticks": ""
           }
          },
          "title": {
           "x": 0.05
          },
          "updatemenudefaults": {
           "bgcolor": "#506784",
           "borderwidth": 0
          },
          "xaxis": {
           "automargin": true,
           "gridcolor": "#283442",
           "linecolor": "#506784",
           "ticks": "",
           "title": {
            "standoff": 15
           },
           "zerolinecolor": "#283442",
           "zerolinewidth": 2
          },
          "yaxis": {
           "automargin": true,
           "gridcolor": "#283442",
           "linecolor": "#506784",
           "ticks": "",
           "title": {
            "standoff": 15
           },
           "zerolinecolor": "#283442",
           "zerolinewidth": 2
          }
         }
        },
        "title": {
         "text": "Deep Sleep Time Mins, Rolling 30 Day"
        },
        "xaxis": {
         "autorange": true,
         "range": [
          "2021-11-23",
          "2022-11-11"
         ],
         "type": "date"
        },
        "yaxis": {
         "autorange": true,
         "range": [
          84.82592592592592,
          115.64074074074074
         ],
         "type": "linear"
        }
       }
      },
      "image/png": "[encoded data removed]",
      "text/html": [
       "<div>                            <div id=\"1faa8328-003c-4d52-b6a0-3c22f6cb7fb9\" class=\"plotly-graph-div\" style=\"height:525px; width:100%;\"></div>            <script type=\"text/javascript\">                require([\"plotly\"], function(Plotly) {                    window.PLOTLYENV=window.PLOTLYENV || {};                                    if (document.getElementById(\"1faa8328-003c-4d52-b6a0-3c22f6cb7fb9\")) {                    Plotly.newPlot(                        \"1faa8328-003c-4d52-b6a0-3c22f6cb7fb9\",                        [{\"hoverinfo\":\"text\",\"marker\":{\"colorscale\":[[0.0,\"rgb(75, 41, 145)\"],[0.16666666666666666,\"rgb(135, 44, 162)\"],[0.3333333333333333,\"rgb(192, 54, 157)\"],[0.5,\"rgb(234, 79, 136)\"],[0.6666666666666666,\"rgb(250, 120, 118)\"],[0.8333333333333334,\"rgb(246, 169, 122)\"],[1.0,\"rgb(237, 217, 163)\"]],\"line\":{\"width\":1}},\"name\":\"values\",\"x\":[\"2022-11-11T00:00:00\",\"2022-11-10T00:00:00\",\"2022-11-09T00:00:00\",\"2022-11-08T00:00:00\",\"2022-11-07T00:00:00\",\"2022-11-06T00:00:00\",\"2022-11-05T00:00:00\",\"2022-11-04T00:00:00\",\"2022-11-03T00:00:00\",\"2022-11-02T00:00:00\",\"2022-11-01T00:00:00\",\"2022-10-31T00:00:00\",\"2022-10-30T00:00:00\",\"2022-10-29T00:00:00\",\"2022-10-28T00:00:00\",\"2022-10-27T00:00:00\",\"2022-10-26T00:00:00\",\"2022-10-25T00:00:00\",\"2022-10-24T00:00:00\",\"2022-10-23T00:00:00\",\"2022-10-22T00:00:00\",\"2022-10-21T00:00:00\",\"2022-10-20T00:00:00\",\"2022-10-19T00:00:00\",\"2022-10-18T00:00:00\",\"2022-10-17T00:00:00\",\"2022-10-16T00:00:00\",\"2022-10-15T00:00:00\",\"2022-10-14T00:00:00\",\"2022-10-13T00:00:00\",\"2022-10-12T00:00:00\",\"2022-10-11T00:00:00\",\"2022-10-10T00:00:00\",\"2022-10-09T00:00:00\",\"2022-10-08T00:00:00\",\"2022-10-07T00:00:00\",\"2022-10-06T00:00:00\",\"2022-10-05T00:00:00\",\"2022-10-04T00:00:00\",\"2022-10-03T00:00:00\",\"2022-10-02T00:00:00\",\"2022-09-30T00:00:00\",\"2022-09-29T00:00:00\",\"2022-09-28T00:00:00\",\"2022-09-27T00:00:00\",\"2022-09-26T00:00:00\",\"2022-09-25T00:00:00\",\"2022-09-24T00:00:00\",\"2022-09-23T00:00:00\",\"2022-09-22T00:00:00\",\"2022-09-21T00:00:00\",\"2022-09-20T00:00:00\",\"2022-09-19T00:00:00\",\"2022-09-16T00:00:00\",\"2022-09-15T00:00:00\",\"2022-09-14T00:00:00\",\"2022-09-13T00:00:00\",\"2022-09-12T00:00:00\",\"2022-09-11T00:00:00\",\"2022-09-10T00:00:00\",\"2022-09-09T00:00:00\",\"2022-09-08T00:00:00\",\"2022-09-07T00:00:00\",\"2022-09-06T00:00:00\",\"2022-09-05T00:00:00\",\"2022-09-04T00:00:00\",\"2022-09-03T00:00:00\",\"2022-09-02T00:00:00\",\"2022-09-01T00:00:00\",\"2022-08-31T00:00:00\",\"2022-08-30T00:00:00\",\"2022-08-29T00:00:00\",\"2022-08-28T00:00:00\",\"2022-08-27T00:00:00\",\"2022-08-26T00:00:00\",\"2022-08-25T00:00:00\",\"2022-08-24T00:00:00\",\"2022-08-23T00:00:00\",\"2022-08-22T00:00:00\",\"2022-08-21T00:00:00\",\"2022-08-20T00:00:00\",\"2022-08-19T00:00:00\",\"2022-08-18T00:00:00\",\"2022-08-17T00:00:00\",\"2022-08-16T00:00:00\",\"2022-08-15T00:00:00\",\"2022-08-14T00:00:00\",\"2022-08-13T00:00:00\",\"2022-08-12T00:00:00\",\"2022-08-11T00:00:00\",\"2022-08-10T00:00:00\",\"2022-08-09T00:00:00\",\"2022-08-08T00:00:00\",\"2022-08-07T00:00:00\",\"2022-08-06T00:00:00\",\"2022-08-05T00:00:00\",\"2022-08-04T00:00:00\",\"2022-08-03T00:00:00\",\"2022-08-02T00:00:00\",\"2022-08-01T00:00:00\",\"2022-07-31T00:00:00\",\"2022-07-30T00:00:00\",\"2022-07-29T00:00:00\",\"2022-07-28T00:00:00\",\"2022-07-27T00:00:00\",\"2022-07-26T00:00:00\",\"2022-07-25T00:00:00\",\"2022-07-24T00:00:00\",\"2022-07-23T00:00:00\",\"2022-07-22T00:00:00\",\"2022-07-21T00:00:00\",\"2022-07-20T00:00:00\",\"2022-07-19T00:00:00\",\"2022-07-18T00:00:00\",\"2022-07-17T00:00:00\",\"2022-07-16T00:00:00\",\"2022-07-15T00:00:00\",\"2022-07-14T00:00:00\",\"2022-07-13T00:00:00\",\"2022-07-12T00:00:00\",\"2022-07-11T00:00:00\",\"2022-07-10T00:00:00\",\"2022-07-09T00:00:00\",\"2022-07-08T00:00:00\",\"2022-07-07T00:00:00\",\"2022-07-06T00:00:00\",\"2022-07-05T00:00:00\",\"2022-07-04T00:00:00\",\"2022-07-03T00:00:00\",\"2022-07-02T00:00:00\",\"2022-07-01T00:00:00\",\"2022-06-30T00:00:00\",\"2022-06-29T00:00:00\",\"2022-06-28T00:00:00\",\"2022-06-27T00:00:00\",\"2022-06-26T00:00:00\",\"2022-06-25T00:00:00\",\"2022-06-24T00:00:00\",\"2022-06-23T00:00:00\",\"2022-06-22T00:00:00\",\"2022-06-20T00:00:00\",\"2022-06-19T00:00:00\",\"2022-06-18T00:00:00\",\"2022-06-17T00:00:00\",\"2022-06-16T00:00:00\",\"2022-06-15T00:00:00\",\"2022-06-14T00:00:00\",\"2022-06-13T00:00:00\",\"2022-06-12T00:00:00\",\"2022-06-11T00:00:00\",\"2022-06-10T00:00:00\",\"2022-06-09T00:00:00\",\"2022-06-08T00:00:00\",\"2022-06-07T00:00:00\",\"2022-06-06T00:00:00\",\"2022-06-05T00:00:00\",\"2022-06-04T00:00:00\",\"2022-06-03T00:00:00\",\"2022-06-02T00:00:00\",\"2022-06-01T00:00:00\",\"2022-05-31T00:00:00\",\"2022-05-30T00:00:00\",\"2022-05-29T00:00:00\",\"2022-05-28T00:00:00\",\"2022-05-27T00:00:00\",\"2022-05-26T00:00:00\",\"2022-05-25T00:00:00\",\"2022-05-24T00:00:00\",\"2022-05-23T00:00:00\",\"2022-05-22T00:00:00\",\"2022-05-21T00:00:00\",\"2022-05-20T00:00:00\",\"2022-05-19T00:00:00\",\"2022-05-18T00:00:00\",\"2022-05-17T00:00:00\",\"2022-05-16T00:00:00\",\"2022-05-15T00:00:00\",\"2022-05-14T00:00:00\",\"2022-05-13T00:00:00\",\"2022-05-12T00:00:00\",\"2022-05-11T00:00:00\",\"2022-05-10T00:00:00\",\"2022-05-09T00:00:00\",\"2022-05-08T00:00:00\",\"2022-05-07T00:00:00\",\"2022-05-06T00:00:00\",\"2022-05-05T00:00:00\",\"2022-05-04T00:00:00\",\"2022-05-03T00:00:00\",\"2022-05-02T00:00:00\",\"2022-05-01T00:00:00\",\"2022-04-30T00:00:00\",\"2022-04-29T00:00:00\",\"2022-04-28T00:00:00\",\"2022-04-27T00:00:00\",\"2022-04-26T00:00:00\",\"2022-04-25T00:00:00\",\"2022-04-24T00:00:00\",\"2022-04-23T00:00:00\",\"2022-04-22T00:00:00\",\"2022-04-21T00:00:00\",\"2022-04-20T00:00:00\",\"2022-04-19T00:00:00\",\"2022-04-18T00:00:00\",\"2022-04-17T00:00:00\",\"2022-04-16T00:00:00\",\"2022-04-15T00:00:00\",\"2022-04-14T00:00:00\",\"2022-04-13T00:00:00\",\"2022-04-12T00:00:00\",\"2022-04-11T00:00:00\",\"2022-04-10T00:00:00\",\"2022-04-09T00:00:00\",\"2022-04-08T00:00:00\",\"2022-04-07T00:00:00\",\"2022-04-06T00:00:00\",\"2022-04-05T00:00:00\",\"2022-04-04T00:00:00\",\"2022-04-03T00:00:00\",\"2022-04-02T00:00:00\",\"2022-04-01T00:00:00\",\"2022-03-31T00:00:00\",\"2022-03-30T00:00:00\",\"2022-03-29T00:00:00\",\"2022-03-28T00:00:00\",\"2022-03-27T00:00:00\",\"2022-03-26T00:00:00\",\"2022-03-25T00:00:00\",\"2022-03-24T00:00:00\",\"2022-03-23T00:00:00\",\"2022-03-22T00:00:00\",\"2022-03-21T00:00:00\",\"2022-03-20T00:00:00\",\"2022-03-19T00:00:00\",\"2022-03-18T00:00:00\",\"2022-03-17T00:00:00\",\"2022-03-16T00:00:00\",\"2022-03-15T00:00:00\",\"2022-03-14T00:00:00\",\"2022-03-13T00:00:00\",\"2022-03-12T00:00:00\",\"2022-03-11T00:00:00\",\"2022-03-10T00:00:00\",\"2022-03-09T00:00:00\",\"2022-03-08T00:00:00\",\"2022-03-07T00:00:00\",\"2022-03-05T00:00:00\",\"2022-03-04T00:00:00\",\"2022-03-03T00:00:00\",\"2022-03-02T00:00:00\",\"2022-03-01T00:00:00\",\"2022-02-28T00:00:00\",\"2022-02-27T00:00:00\",\"2022-02-26T00:00:00\",\"2022-02-25T00:00:00\",\"2022-02-24T00:00:00\",\"2022-02-23T00:00:00\",\"2022-02-22T00:00:00\",\"2022-02-21T00:00:00\",\"2022-02-20T00:00:00\",\"2022-02-19T00:00:00\",\"2022-02-18T00:00:00\",\"2022-02-17T00:00:00\",\"2022-02-16T00:00:00\",\"2022-02-15T00:00:00\",\"2022-02-14T00:00:00\",\"2022-02-13T00:00:00\",\"2022-02-12T00:00:00\",\"2022-02-11T00:00:00\",\"2022-02-10T00:00:00\",\"2022-02-09T00:00:00\",\"2022-02-08T00:00:00\",\"2022-02-07T00:00:00\",\"2022-02-06T00:00:00\",\"2022-02-05T00:00:00\",\"2022-02-04T00:00:00\",\"2022-02-03T00:00:00\",\"2022-02-02T00:00:00\",\"2022-02-01T00:00:00\",\"2022-01-31T00:00:00\",\"2022-01-30T00:00:00\",\"2022-01-29T00:00:00\",\"2022-01-28T00:00:00\",\"2022-01-27T00:00:00\",\"2022-01-26T00:00:00\",\"2022-01-25T00:00:00\",\"2022-01-24T00:00:00\",\"2022-01-23T00:00:00\",\"2022-01-22T00:00:00\",\"2022-01-21T00:00:00\",\"2022-01-20T00:00:00\",\"2022-01-19T00:00:00\",\"2022-01-18T00:00:00\",\"2022-01-17T00:00:00\",\"2022-01-16T00:00:00\",\"2022-01-15T00:00:00\",\"2022-01-14T00:00:00\",\"2022-01-13T00:00:00\",\"2022-01-12T00:00:00\",\"2022-01-11T00:00:00\",\"2022-01-10T00:00:00\",\"2022-01-09T00:00:00\",\"2022-01-08T00:00:00\",\"2022-01-07T00:00:00\",\"2022-01-06T00:00:00\",\"2022-01-05T00:00:00\",\"2022-01-04T00:00:00\",\"2022-01-03T00:00:00\",\"2022-01-02T00:00:00\",\"2022-01-01T00:00:00\",\"2021-12-31T00:00:00\",\"2021-12-30T00:00:00\",\"2021-12-29T00:00:00\",\"2021-12-28T00:00:00\",\"2021-12-27T00:00:00\",\"2021-12-26T00:00:00\",\"2021-12-25T00:00:00\",\"2021-12-24T00:00:00\",\"2021-12-23T00:00:00\",\"2021-12-22T00:00:00\",\"2021-12-21T00:00:00\",\"2021-12-20T00:00:00\",\"2021-12-19T00:00:00\",\"2021-12-18T00:00:00\",\"2021-12-17T00:00:00\",\"2021-12-16T00:00:00\",\"2021-12-15T00:00:00\",\"2021-12-14T00:00:00\",\"2021-12-13T00:00:00\",\"2021-12-12T00:00:00\",\"2021-12-11T00:00:00\",\"2021-12-10T00:00:00\",\"2021-12-09T00:00:00\",\"2021-12-08T00:00:00\",\"2021-12-07T00:00:00\",\"2021-12-06T00:00:00\",\"2021-12-05T00:00:00\",\"2021-12-04T00:00:00\",\"2021-12-03T00:00:00\",\"2021-12-02T00:00:00\",\"2021-12-01T00:00:00\",\"2021-11-30T00:00:00\",\"2021-11-29T00:00:00\",\"2021-11-28T00:00:00\",\"2021-11-27T00:00:00\",\"2021-11-26T00:00:00\",\"2021-11-25T00:00:00\",\"2021-11-24T00:00:00\",\"2021-11-23T00:00:00\"],\"y\":[null,null,null,null,null,null,null,null,null,null,null,null,null,null,null,null,null,null,null,null,null,null,null,null,null,null,null,null,null,107.26666666666667,103.8,104.73333333333333,101.86666666666666,102.6,100.66666666666667,100.1,100.6,98.83333333333333,97.83333333333333,95.96666666666667,96.63333333333334,96.06666666666666,96.2,96.73333333333333,94.13333333333334,93.8,94.06666666666666,94.2,91.83333333333333,92.7,95.3,95.33333333333333,96.16666666666667,93.36666666666666,95.83333333333333,95.73333333333333,94.73333333333333,95.16666666666667,94.63333333333334,96.6,96.43333333333334,96.06666666666666,98.2,95.93333333333334,96.2,97.66666666666667,96.86666666666666,97.73333333333333,98.46666666666667,98.86666666666666,96.2,96.66666666666667,96.1,94.0,94.33333333333333,94.03333333333333,91.63333333333334,91.63333333333334,92.8,95.06666666666666,96.06666666666666,97.2,95.6,96.5,96.3,99.86666666666666,100.53333333333333,99.16666666666667,100.0,98.96666666666667,99.16666666666667,99.0,97.5,98.1,97.16666666666667,96.4,95.06666666666666,95.63333333333334,93.46666666666667,93.26666666666667,94.36666666666666,95.23333333333333,95.53333333333333,97.03333333333333,96.73333333333333,96.2,96.13333333333334,96.93333333333334,95.0,94.2,94.13333333333334,93.1,93.43333333333334,93.4,94.1,89.9,88.16666666666667,87.46666666666667,87.36666666666666,87.73333333333333,88.53333333333333,86.36666666666666,87.86666666666666,89.3,90.43333333333334,90.03333333333333,89.66666666666667,91.36666666666666,95.1,96.63333333333334,96.93333333333334,97.43333333333334,99.3,99.9,102.06666666666666,102.13333333333334,104.33333333333333,103.76666666666667,103.26666666666667,100.5,100.36666666666666,102.96666666666667,102.66666666666667,102.66666666666667,101.56666666666666,103.43333333333334,103.9,105.83333333333333,105.3,104.86666666666666,105.83333333333333,108.63333333333334,107.16666666666667,106.96666666666667,106.36666666666666,108.66666666666667,107.73333333333333,103.56666666666666,101.63333333333334,101.33333333333333,101.06666666666666,99.53333333333333,97.7,96.56666666666666,96.46666666666667,97.26666666666667,98.06666666666666,98.06666666666666,99.43333333333334,99.56666666666666,99.76666666666667,97.96666666666667,98.3,98.43333333333334,97.36666666666666,95.2,95.86666666666666,94.1,94.66666666666667,94.83333333333333,96.26666666666667,96.23333333333333,97.03333333333333,97.13333333333334,97.36666666666666,97.3,98.16666666666667,100.16666666666667,100.86666666666666,100.63333333333334,102.73333333333333,104.33333333333333,106.53333333333333,105.46666666666667,104.46666666666667,103.13333333333334,102.73333333333333,102.16666666666667,102.56666666666666,102.96666666666667,102.83333333333333,101.13333333333334,100.1,99.2,101.73333333333333,103.8,102.33333333333333,105.06666666666666,106.7,105.13333333333334,104.66666666666667,104.53333333333333,105.73333333333333,106.6,107.23333333333333,105.26666666666667,107.1,108.2,109.3,109.26666666666667,107.3,107.5,107.23333333333333,108.8,108.1,108.7,109.4,110.33333333333333,110.7,109.33333333333333,108.06666666666666,109.23333333333333,108.1,108.6,106.4,104.63333333333334,105.56666666666666,102.8,100.06666666666666,102.13333333333334,102.73333333333333,104.6,104.4,104.03333333333333,103.3,106.6,107.06666666666666,105.06666666666666,103.96666666666667,104.33333333333333,104.33333333333333,103.43333333333334,101.7,102.86666666666666,105.13333333333334,105.43333333333334,103.13333333333334,102.16666666666667,101.46666666666667,102.53333333333333,102.93333333333334,101.9,103.7,102.4,103.46666666666667,104.76666666666667,106.8,109.26666666666667,112.2,111.06666666666666,108.7,107.13333333333334,105.76666666666667,105.1,104.73333333333333,101.23333333333333,100.66666666666667,100.06666666666666,100.83333333333333,100.06666666666666,100.6,99.0,99.16666666666667,98.4,98.4,99.3,100.76666666666667,101.2,100.56666666666666,101.0,101.5,103.1,102.56666666666666,103.83333333333333,102.86666666666666,103.43333333333334,101.33333333333333,102.03333333333333,101.36666666666666,100.66666666666667,101.56666666666666,100.56666666666666,99.9,100.56666666666666,102.63333333333334,107.16666666666667,105.4,109.66666666666667,108.6,107.4,108.63333333333334,109.93333333333334,108.4,108.56666666666666,106.06666666666666,105.66666666666667,104.6,106.9,108.9,109.03333333333333,112.0,111.16666666666667,112.03333333333333,112.53333333333333,113.76666666666667,112.83333333333333,113.93333333333334,111.16666666666667,109.03333333333333,110.1,110.06666666666666,112.96666666666667,114.1,112.03333333333333,109.83333333333333,106.66666666666667,107.4,104.1,105.1,105.56666666666666,103.73333333333333,102.8,107.3,106.56666666666666,107.93333333333334,109.46666666666667,111.53333333333333,110.16666666666667,107.23333333333333],\"type\":\"scatter\"}],                        {\"template\":{\"data\":{\"barpolar\":[{\"marker\":{\"line\":{\"color\":\"rgb(17,17,17)\",\"width\":0.5},\"pattern\":{\"fillmode\":\"overlay\",\"size\":10,\"solidity\":0.2}},\"type\":\"barpolar\"}],\"bar\":[{\"error_x\":{\"color\":\"#f2f5fa\"},\"error_y\":{\"color\":\"#f2f5fa\"},\"marker\":{\"line\":{\"color\":\"rgb(17,17,17)\",\"width\":0.5},\"pattern\":{\"fillmode\":\"overlay\",\"size\":10,\"solidity\":0.2}},\"type\":\"bar\"}],\"carpet\":[{\"aaxis\":{\"endlinecolor\":\"#A2B1C6\",\"gridcolor\":\"#506784\",\"linecolor\":\"#506784\",\"minorgridcolor\":\"#506784\",\"startlinecolor\":\"#A2B1C6\"},\"baxis\":{\"endlinecolor\":\"#A2B1C6\",\"gridcolor\":\"#506784\",\"linecolor\":\"#506784\",\"minorgridcolor\":\"#506784\",\"startlinecolor\":\"#A2B1C6\"},\"type\":\"carpet\"}],\"choropleth\":[{\"colorbar\":{\"outlinewidth\":0,\"ticks\":\"\"},\"type\":\"choropleth\"}],\"contourcarpet\":[{\"colorbar\":{\"outlinewidth\":0,\"ticks\":\"\"},\"type\":\"contourcarpet\"}],\"contour\":[{\"colorbar\":{\"outlinewidth\":0,\"ticks\":\"\"},\"colorscale\":[[0.0,\"#0d0887\"],[0.1111111111111111,\"#46039f\"],[0.2222222222222222,\"#7201a8\"],[0.3333333333333333,\"#9c179e\"],[0.4444444444444444,\"#bd3786\"],[0.5555555555555556,\"#d8576b\"],[0.6666666666666666,\"#ed7953\"],[0.7777777777777778,\"#fb9f3a\"],[0.8888888888888888,\"#fdca26\"],[1.0,\"#f0f921\"]],\"type\":\"contour\"}],\"heatmapgl\":[{\"colorbar\":{\"outlinewidth\":0,\"ticks\":\"\"},\"colorscale\":[[0.0,\"#0d0887\"],[0.1111111111111111,\"#46039f\"],[0.2222222222222222,\"#7201a8\"],[0.3333333333333333,\"#9c179e\"],[0.4444444444444444,\"#bd3786\"],[0.5555555555555556,\"#d8576b\"],[0.6666666666666666,\"#ed7953\"],[0.7777777777777778,\"#fb9f3a\"],[0.8888888888888888,\"#fdca26\"],[1.0,\"#f0f921\"]],\"type\":\"heatmapgl\"}],\"heatmap\":[{\"colorbar\":{\"outlinewidth\":0,\"ticks\":\"\"},\"colorscale\":[[0.0,\"#0d0887\"],[0.1111111111111111,\"#46039f\"],[0.2222222222222222,\"#7201a8\"],[0.3333333333333333,\"#9c179e\"],[0.4444444444444444,\"#bd3786\"],[0.5555555555555556,\"#d8576b\"],[0.6666666666666666,\"#ed7953\"],[0.7777777777777778,\"#fb9f3a\"],[0.8888888888888888,\"#fdca26\"],[1.0,\"#f0f921\"]],\"type\":\"heatmap\"}],\"histogram2dcontour\":[{\"colorbar\":{\"outlinewidth\":0,\"ticks\":\"\"},\"colorscale\":[[0.0,\"#0d0887\"],[0.1111111111111111,\"#46039f\"],[0.2222222222222222,\"#7201a8\"],[0.3333333333333333,\"#9c179e\"],[0.4444444444444444,\"#bd3786\"],[0.5555555555555556,\"#d8576b\"],[0.6666666666666666,\"#ed7953\"],[0.7777777777777778,\"#fb9f3a\"],[0.8888888888888888,\"#fdca26\"],[1.0,\"#f0f921\"]],\"type\":\"histogram2dcontour\"}],\"histogram2d\":[{\"colorbar\":{\"outlinewidth\":0,\"ticks\":\"\"},\"colorscale\":[[0.0,\"#0d0887\"],[0.1111111111111111,\"#46039f\"],[0.2222222222222222,\"#7201a8\"],[0.3333333333333333,\"#9c179e\"],[0.4444444444444444,\"#bd3786\"],[0.5555555555555556,\"#d8576b\"],[0.6666666666666666,\"#ed7953\"],[0.7777777777777778,\"#fb9f3a\"],[0.8888888888888888,\"#fdca26\"],[1.0,\"#f0f921\"]],\"type\":\"histogram2d\"}],\"histogram\":[{\"marker\":{\"pattern\":{\"fillmode\":\"overlay\",\"size\":10,\"solidity\":0.2}},\"type\":\"histogram\"}],\"mesh3d\":[{\"colorbar\":{\"outlinewidth\":0,\"ticks\":\"\"},\"type\":\"mesh3d\"}],\"parcoords\":[{\"line\":{\"colorbar\":{\"outlinewidth\":0,\"ticks\":\"\"}},\"type\":\"parcoords\"}],\"pie\":[{\"automargin\":true,\"type\":\"pie\"}],\"scatter3d\":[{\"line\":{\"colorbar\":{\"outlinewidth\":0,\"ticks\":\"\"}},\"marker\":{\"colorbar\":{\"outlinewidth\":0,\"ticks\":\"\"}},\"type\":\"scatter3d\"}],\"scattercarpet\":[{\"marker\":{\"colorbar\":{\"outlinewidth\":0,\"ticks\":\"\"}},\"type\":\"scattercarpet\"}],\"scattergeo\":[{\"marker\":{\"colorbar\":{\"outlinewidth\":0,\"ticks\":\"\"}},\"type\":\"scattergeo\"}],\"scattergl\":[{\"marker\":{\"line\":{\"color\":\"#283442\"}},\"type\":\"scattergl\"}],\"scattermapbox\":[{\"marker\":{\"colorbar\":{\"outlinewidth\":0,\"ticks\":\"\"}},\"type\":\"scattermapbox\"}],\"scatterpolargl\":[{\"marker\":{\"colorbar\":{\"outlinewidth\":0,\"ticks\":\"\"}},\"type\":\"scatterpolargl\"}],\"scatterpolar\":[{\"marker\":{\"colorbar\":{\"outlinewidth\":0,\"ticks\":\"\"}},\"type\":\"scatterpolar\"}],\"scatter\":[{\"marker\":{\"line\":{\"color\":\"#283442\"}},\"type\":\"scatter\"}],\"scatterternary\":[{\"marker\":{\"colorbar\":{\"outlinewidth\":0,\"ticks\":\"\"}},\"type\":\"scatterternary\"}],\"surface\":[{\"colorbar\":{\"outlinewidth\":0,\"ticks\":\"\"},\"colorscale\":[[0.0,\"#0d0887\"],[0.1111111111111111,\"#46039f\"],[0.2222222222222222,\"#7201a8\"],[0.3333333333333333,\"#9c179e\"],[0.4444444444444444,\"#bd3786\"],[0.5555555555555556,\"#d8576b\"],[0.6666666666666666,\"#ed7953\"],[0.7777777777777778,\"#fb9f3a\"],[0.8888888888888888,\"#fdca26\"],[1.0,\"#f0f921\"]],\"type\":\"surface\"}],\"table\":[{\"cells\":{\"fill\":{\"color\":\"#506784\"},\"line\":{\"color\":\"rgb(17,17,17)\"}},\"header\":{\"fill\":{\"color\":\"#2a3f5f\"},\"line\":{\"color\":\"rgb(17,17,17)\"}},\"type\":\"table\"}]},\"layout\":{\"annotationdefaults\":{\"arrowcolor\":\"#f2f5fa\",\"arrowhead\":0,\"arrowwidth\":1},\"autotypenumbers\":\"strict\",\"coloraxis\":{\"colorbar\":{\"outlinewidth\":0,\"ticks\":\"\"}},\"colorscale\":{\"diverging\":[[0,\"#8e0152\"],[0.1,\"#c51b7d\"],[0.2,\"#de77ae\"],[0.3,\"#f1b6da\"],[0.4,\"#fde0ef\"],[0.5,\"#f7f7f7\"],[0.6,\"#e6f5d0\"],[0.7,\"#b8e186\"],[0.8,\"#7fbc41\"],[0.9,\"#4d9221\"],[1,\"#276419\"]],\"sequential\":[[0.0,\"#0d0887\"],[0.1111111111111111,\"#46039f\"],[0.2222222222222222,\"#7201a8\"],[0.3333333333333333,\"#9c179e\"],[0.4444444444444444,\"#bd3786\"],[0.5555555555555556,\"#d8576b\"],[0.6666666666666666,\"#ed7953\"],[0.7777777777777778,\"#fb9f3a\"],[0.8888888888888888,\"#fdca26\"],[1.0,\"#f0f921\"]],\"sequentialminus\":[[0.0,\"#0d0887\"],[0.1111111111111111,\"#46039f\"],[0.2222222222222222,\"#7201a8\"],[0.3333333333333333,\"#9c179e\"],[0.4444444444444444,\"#bd3786\"],[0.5555555555555556,\"#d8576b\"],[0.6666666666666666,\"#ed7953\"],[0.7777777777777778,\"#fb9f3a\"],[0.8888888888888888,\"#fdca26\"],[1.0,\"#f0f921\"]]},\"colorway\":[\"#636efa\",\"#EF553B\",\"#00cc96\",\"#ab63fa\",\"#FFA15A\",\"#19d3f3\",\"#FF6692\",\"#B6E880\",\"#FF97FF\",\"#FECB52\"],\"font\":{\"color\":\"#f2f5fa\"},\"geo\":{\"bgcolor\":\"rgb(17,17,17)\",\"lakecolor\":\"rgb(17,17,17)\",\"landcolor\":\"rgb(17,17,17)\",\"showlakes\":true,\"showland\":true,\"subunitcolor\":\"#506784\"},\"hoverlabel\":{\"align\":\"left\"},\"hovermode\":\"closest\",\"mapbox\":{\"style\":\"dark\"},\"paper_bgcolor\":\"rgb(17,17,17)\",\"plot_bgcolor\":\"rgb(17,17,17)\",\"polar\":{\"angularaxis\":{\"gridcolor\":\"#506784\",\"linecolor\":\"#506784\",\"ticks\":\"\"},\"bgcolor\":\"rgb(17,17,17)\",\"radialaxis\":{\"gridcolor\":\"#506784\",\"linecolor\":\"#506784\",\"ticks\":\"\"}},\"scene\":{\"xaxis\":{\"backgroundcolor\":\"rgb(17,17,17)\",\"gridcolor\":\"#506784\",\"gridwidth\":2,\"linecolor\":\"#506784\",\"showbackground\":true,\"ticks\":\"\",\"zerolinecolor\":\"#C8D4E3\"},\"yaxis\":{\"backgroundcolor\":\"rgb(17,17,17)\",\"gridcolor\":\"#506784\",\"gridwidth\":2,\"linecolor\":\"#506784\",\"showbackground\":true,\"ticks\":\"\",\"zerolinecolor\":\"#C8D4E3\"},\"zaxis\":{\"backgroundcolor\":\"rgb(17,17,17)\",\"gridcolor\":\"#506784\",\"gridwidth\":2,\"linecolor\":\"#506784\",\"showbackground\":true,\"ticks\":\"\",\"zerolinecolor\":\"#C8D4E3\"}},\"shapedefaults\":{\"line\":{\"color\":\"#f2f5fa\"}},\"sliderdefaults\":{\"bgcolor\":\"#C8D4E3\",\"bordercolor\":\"rgb(17,17,17)\",\"borderwidth\":1,\"tickwidth\":0},\"ternary\":{\"aaxis\":{\"gridcolor\":\"#506784\",\"linecolor\":\"#506784\",\"ticks\":\"\"},\"baxis\":{\"gridcolor\":\"#506784\",\"linecolor\":\"#506784\",\"ticks\":\"\"},\"bgcolor\":\"rgb(17,17,17)\",\"caxis\":{\"gridcolor\":\"#506784\",\"linecolor\":\"#506784\",\"ticks\":\"\"}},\"title\":{\"x\":0.05},\"updatemenudefaults\":{\"bgcolor\":\"#506784\",\"borderwidth\":0},\"xaxis\":{\"automargin\":true,\"gridcolor\":\"#283442\",\"linecolor\":\"#506784\",\"ticks\":\"\",\"title\":{\"standoff\":15},\"zerolinecolor\":\"#283442\",\"zerolinewidth\":2},\"yaxis\":{\"automargin\":true,\"gridcolor\":\"#283442\",\"linecolor\":\"#506784\",\"ticks\":\"\",\"title\":{\"standoff\":15},\"zerolinecolor\":\"#283442\",\"zerolinewidth\":2}}},\"title\":{\"text\":\"Deep Sleep Time Mins, Rolling 30 Day\"}},                        {\"responsive\": true}                    ).then(function(){\n",
       "                            \n",
       "var gd = document.getElementById('1faa8328-003c-4d52-b6a0-3c22f6cb7fb9');\n",
       "var x = new MutationObserver(function (mutations, observer) {{\n",
       "        var display = window.getComputedStyle(gd).display;\n",
       "        if (!display || display === 'none') {{\n",
       "            console.log([gd, 'removed!']);\n",
       "            Plotly.purge(gd);\n",
       "            observer.disconnect();\n",
       "        }}\n",
       "}});\n",
       "\n",
       "// Listen for the removal of the full notebook cells\n",
       "var notebookContainer = gd.closest('#notebook-container');\n",
       "if (notebookContainer) {{\n",
       "    x.observe(notebookContainer, {childList: true});\n",
       "}}\n",
       "\n",
       "// Listen for the clearing of the current output cell\n",
       "var outputEl = gd.closest('.output');\n",
       "if (outputEl) {{\n",
       "    x.observe(outputEl, {childList: true});\n",
       "}}\n",
       "\n",
       "                        })                };                });            </script>        </div>"
      ]
     },
     "metadata": {},
     "output_type": "display_data"
    }
   ],
   "source": [
    "fig = go.Figure()\n",
    "\n",
    "fig.add_trace(\n",
    "    go.Scatter(\n",
    "        x = df['sleepDate']\n",
    "        , y = df['sleepData.deepTime'].rolling(window=30).mean()\n",
    "        # , name = df['sleepDate.weekDay']\n",
    "        # , mode='markers'\n",
    "        , name='values'\n",
    "        # , text = ['Carat: %s<br>Measurements: %s mms'%(a,b) for a,b in graph_df.loc[:,['carat','measurements']].values]\n",
    "        , hoverinfo = 'text'\n",
    "        , marker=dict(\n",
    "            colorscale='agsunset',\n",
    "            line_width=1\n",
    "        )\n",
    "    )\n",
    ")\n",
    " \n",
    "# dark theme \n",
    "fig.layout.template = 'plotly_dark'\n",
    "\n",
    "\n",
    "fig.update_layout(title = 'Deep Sleep Time Mins, Rolling 30 Day',\n",
    "                  # xaxis_title='Carat (0.2g)',\n",
    "                  # yaxis_title='Approx. Horizontal Area (mm^2)', \n",
    "                 )\n",
    "\n",
    "# save file to html\n",
    "# fig.write_json(os.path.abspath('../../personal-site/static/plotly/diamonds-forever/be-size-vs-carat.json'))\n",
    "\n",
    "fig.show()"
   ]
  },
  {
   "cell_type": "code",
   "execution_count": 24,
   "id": "ae539c03-2e12-45c4-a718-75ddec3ce23b",
   "metadata": {},
   "outputs": [
    {
     "data": {
      "application/vnd.plotly.v1+json": {
       "config": {
        "plotlyServerURL": "https://plot.ly"
       },
       "data": [
        {
         "hoverinfo": "text",
         "marker": {
          "colorscale": [
           [
            0,
            "rgb(75, 41, 145)"
           ],
           [
            0.16666666666666666,
            "rgb(135, 44, 162)"
           ],
           [
            0.3333333333333333,
            "rgb(192, 54, 157)"
           ],
           [
            0.5,
            "rgb(234, 79, 136)"
           ],
           [
            0.6666666666666666,
            "rgb(250, 120, 118)"
           ],
           [
            0.8333333333333334,
            "rgb(246, 169, 122)"
           ],
           [
            1,
            "rgb(237, 217, 163)"
           ]
          ],
          "line": {
           "width": 1
          }
         },
         "name": "Friday",
         "type": "scatter",
         "x": [
          "2022-11-11T00:00:00",
          "2022-11-04T00:00:00",
          "2022-10-28T00:00:00",
          "2022-10-21T00:00:00",
          "2022-10-14T00:00:00",
          "2022-10-07T00:00:00",
          "2022-09-30T00:00:00",
          "2022-09-23T00:00:00",
          "2022-09-16T00:00:00",
          "2022-09-09T00:00:00",
          "2022-09-02T00:00:00",
          "2022-08-26T00:00:00",
          "2022-08-19T00:00:00",
          "2022-08-12T00:00:00",
          "2022-08-05T00:00:00",
          "2022-07-29T00:00:00",
          "2022-07-22T00:00:00",
          "2022-07-15T00:00:00",
          "2022-07-08T00:00:00",
          "2022-07-01T00:00:00",
          "2022-06-24T00:00:00",
          "2022-06-17T00:00:00",
          "2022-06-10T00:00:00",
          "2022-06-03T00:00:00",
          "2022-05-27T00:00:00",
          "2022-05-20T00:00:00",
          "2022-05-13T00:00:00",
          "2022-05-06T00:00:00",
          "2022-04-29T00:00:00",
          "2022-04-22T00:00:00",
          "2022-04-15T00:00:00",
          "2022-04-08T00:00:00",
          "2022-04-01T00:00:00",
          "2022-03-25T00:00:00",
          "2022-03-18T00:00:00",
          "2022-03-11T00:00:00",
          "2022-03-04T00:00:00",
          "2022-02-25T00:00:00",
          "2022-02-18T00:00:00",
          "2022-02-11T00:00:00",
          "2022-02-04T00:00:00",
          "2022-01-28T00:00:00",
          "2022-01-21T00:00:00",
          "2022-01-14T00:00:00",
          "2022-01-07T00:00:00",
          "2021-12-31T00:00:00",
          "2021-12-24T00:00:00",
          "2021-12-17T00:00:00",
          "2021-12-10T00:00:00",
          "2021-12-03T00:00:00",
          "2021-11-26T00:00:00"
         ],
         "y": [
          null,
          null,
          null,
          null,
          null,
          null,
          null,
          null,
          null,
          377.4,
          352,
          343,
          341.9,
          333.7,
          327.7,
          350.7,
          358.7,
          354.6,
          368.7,
          368,
          377.6,
          378,
          368.2,
          368.9,
          373.3,
          367.9,
          362.8,
          366.6,
          366.4,
          368.3,
          364.6,
          372.2,
          372.3,
          382,
          371.1,
          373.5,
          360.6,
          365.5,
          360.4,
          368.2,
          370.5,
          360.8,
          362.4,
          358.1,
          371.7,
          368,
          391.2,
          392.8,
          408.9,
          403.1,
          405
         ]
        },
        {
         "hoverinfo": "text",
         "marker": {
          "colorscale": [
           [
            0,
            "rgb(75, 41, 145)"
           ],
           [
            0.16666666666666666,
            "rgb(135, 44, 162)"
           ],
           [
            0.3333333333333333,
            "rgb(192, 54, 157)"
           ],
           [
            0.5,
            "rgb(234, 79, 136)"
           ],
           [
            0.6666666666666666,
            "rgb(250, 120, 118)"
           ],
           [
            0.8333333333333334,
            "rgb(246, 169, 122)"
           ],
           [
            1,
            "rgb(237, 217, 163)"
           ]
          ],
          "line": {
           "width": 1
          }
         },
         "name": "Thursday",
         "type": "scatter",
         "x": [
          "2022-11-10T00:00:00",
          "2022-11-03T00:00:00",
          "2022-10-27T00:00:00",
          "2022-10-20T00:00:00",
          "2022-10-13T00:00:00",
          "2022-10-06T00:00:00",
          "2022-09-29T00:00:00",
          "2022-09-22T00:00:00",
          "2022-09-15T00:00:00",
          "2022-09-08T00:00:00",
          "2022-09-01T00:00:00",
          "2022-08-25T00:00:00",
          "2022-08-18T00:00:00",
          "2022-08-11T00:00:00",
          "2022-08-04T00:00:00",
          "2022-07-28T00:00:00",
          "2022-07-21T00:00:00",
          "2022-07-14T00:00:00",
          "2022-07-07T00:00:00",
          "2022-06-30T00:00:00",
          "2022-06-23T00:00:00",
          "2022-06-16T00:00:00",
          "2022-06-09T00:00:00",
          "2022-06-02T00:00:00",
          "2022-05-26T00:00:00",
          "2022-05-19T00:00:00",
          "2022-05-12T00:00:00",
          "2022-05-05T00:00:00",
          "2022-04-28T00:00:00",
          "2022-04-21T00:00:00",
          "2022-04-14T00:00:00",
          "2022-04-07T00:00:00",
          "2022-03-31T00:00:00",
          "2022-03-24T00:00:00",
          "2022-03-17T00:00:00",
          "2022-03-10T00:00:00",
          "2022-03-03T00:00:00",
          "2022-02-24T00:00:00",
          "2022-02-17T00:00:00",
          "2022-02-10T00:00:00",
          "2022-02-03T00:00:00",
          "2022-01-27T00:00:00",
          "2022-01-20T00:00:00",
          "2022-01-13T00:00:00",
          "2022-01-06T00:00:00",
          "2021-12-30T00:00:00",
          "2021-12-23T00:00:00",
          "2021-12-16T00:00:00",
          "2021-12-09T00:00:00",
          "2021-12-02T00:00:00",
          "2021-11-25T00:00:00"
         ],
         "y": [
          null,
          null,
          null,
          null,
          null,
          null,
          null,
          null,
          null,
          396.1,
          399.8,
          398,
          393.1,
          398.6,
          396.8,
          385,
          381.8,
          379.7,
          380.7,
          372.4,
          359.4,
          357.1,
          360.6,
          357.9,
          361.6,
          373.7,
          372.8,
          372.9,
          371.7,
          376.8,
          394.6,
          395,
          395.4,
          395.3,
          394.5,
          402.1,
          408.6,
          411.2,
          416.3,
          415.8,
          417.3,
          419.4,
          420.6,
          421.4,
          424.1,
          409,
          405.4,
          404.4,
          401.9,
          401.9,
          397.1
         ]
        },
        {
         "hoverinfo": "text",
         "marker": {
          "colorscale": [
           [
            0,
            "rgb(75, 41, 145)"
           ],
           [
            0.16666666666666666,
            "rgb(135, 44, 162)"
           ],
           [
            0.3333333333333333,
            "rgb(192, 54, 157)"
           ],
           [
            0.5,
            "rgb(234, 79, 136)"
           ],
           [
            0.6666666666666666,
            "rgb(250, 120, 118)"
           ],
           [
            0.8333333333333334,
            "rgb(246, 169, 122)"
           ],
           [
            1,
            "rgb(237, 217, 163)"
           ]
          ],
          "line": {
           "width": 1
          }
         },
         "name": "Wednesday",
         "type": "scatter",
         "x": [
          "2022-11-09T00:00:00",
          "2022-11-02T00:00:00",
          "2022-10-26T00:00:00",
          "2022-10-19T00:00:00",
          "2022-10-12T00:00:00",
          "2022-10-05T00:00:00",
          "2022-09-28T00:00:00",
          "2022-09-21T00:00:00",
          "2022-09-14T00:00:00",
          "2022-09-07T00:00:00",
          "2022-08-31T00:00:00",
          "2022-08-24T00:00:00",
          "2022-08-17T00:00:00",
          "2022-08-10T00:00:00",
          "2022-08-03T00:00:00",
          "2022-07-27T00:00:00",
          "2022-07-20T00:00:00",
          "2022-07-13T00:00:00",
          "2022-07-06T00:00:00",
          "2022-06-29T00:00:00",
          "2022-06-22T00:00:00",
          "2022-06-15T00:00:00",
          "2022-06-08T00:00:00",
          "2022-06-01T00:00:00",
          "2022-05-25T00:00:00",
          "2022-05-18T00:00:00",
          "2022-05-11T00:00:00",
          "2022-05-04T00:00:00",
          "2022-04-27T00:00:00",
          "2022-04-20T00:00:00",
          "2022-04-13T00:00:00",
          "2022-04-06T00:00:00",
          "2022-03-30T00:00:00",
          "2022-03-23T00:00:00",
          "2022-03-16T00:00:00",
          "2022-03-09T00:00:00",
          "2022-03-02T00:00:00",
          "2022-02-23T00:00:00",
          "2022-02-16T00:00:00",
          "2022-02-09T00:00:00",
          "2022-02-02T00:00:00",
          "2022-01-26T00:00:00",
          "2022-01-19T00:00:00",
          "2022-01-12T00:00:00",
          "2022-01-05T00:00:00",
          "2021-12-29T00:00:00",
          "2021-12-22T00:00:00",
          "2021-12-15T00:00:00",
          "2021-12-08T00:00:00",
          "2021-12-01T00:00:00",
          "2021-11-24T00:00:00"
         ],
         "y": [
          null,
          null,
          null,
          null,
          null,
          null,
          null,
          null,
          null,
          370.9,
          373.4,
          369.8,
          380.7,
          381.1,
          394.2,
          392,
          396.2,
          409.5,
          410.2,
          411.5,
          404.7,
          403.9,
          400,
          397.2,
          395,
          394,
          395.5,
          398.6,
          396.1,
          395,
          395.9,
          396.8,
          398.2,
          392.9,
          391.3,
          380.6,
          374.5,
          377.7,
          371.2,
          368.5,
          360.2,
          354.2,
          355.6,
          364.9,
          372.6,
          385.5,
          401.7,
          403.8,
          411.4,
          415.8,
          432.9
         ]
        },
        {
         "hoverinfo": "text",
         "marker": {
          "colorscale": [
           [
            0,
            "rgb(75, 41, 145)"
           ],
           [
            0.16666666666666666,
            "rgb(135, 44, 162)"
           ],
           [
            0.3333333333333333,
            "rgb(192, 54, 157)"
           ],
           [
            0.5,
            "rgb(234, 79, 136)"
           ],
           [
            0.6666666666666666,
            "rgb(250, 120, 118)"
           ],
           [
            0.8333333333333334,
            "rgb(246, 169, 122)"
           ],
           [
            1,
            "rgb(237, 217, 163)"
           ]
          ],
          "line": {
           "width": 1
          }
         },
         "name": "Tuesday",
         "type": "scatter",
         "x": [
          "2022-11-08T00:00:00",
          "2022-11-01T00:00:00",
          "2022-10-25T00:00:00",
          "2022-10-18T00:00:00",
          "2022-10-11T00:00:00",
          "2022-10-04T00:00:00",
          "2022-09-27T00:00:00",
          "2022-09-20T00:00:00",
          "2022-09-13T00:00:00",
          "2022-09-06T00:00:00",
          "2022-08-30T00:00:00",
          "2022-08-23T00:00:00",
          "2022-08-16T00:00:00",
          "2022-08-09T00:00:00",
          "2022-08-02T00:00:00",
          "2022-07-26T00:00:00",
          "2022-07-19T00:00:00",
          "2022-07-12T00:00:00",
          "2022-07-05T00:00:00",
          "2022-06-28T00:00:00",
          "2022-06-14T00:00:00",
          "2022-06-07T00:00:00",
          "2022-05-31T00:00:00",
          "2022-05-24T00:00:00",
          "2022-05-17T00:00:00",
          "2022-05-10T00:00:00",
          "2022-05-03T00:00:00",
          "2022-04-26T00:00:00",
          "2022-04-19T00:00:00",
          "2022-04-12T00:00:00",
          "2022-04-05T00:00:00",
          "2022-03-29T00:00:00",
          "2022-03-22T00:00:00",
          "2022-03-15T00:00:00",
          "2022-03-08T00:00:00",
          "2022-03-01T00:00:00",
          "2022-02-22T00:00:00",
          "2022-02-15T00:00:00",
          "2022-02-08T00:00:00",
          "2022-02-01T00:00:00",
          "2022-01-25T00:00:00",
          "2022-01-18T00:00:00",
          "2022-01-11T00:00:00",
          "2022-01-04T00:00:00",
          "2021-12-28T00:00:00",
          "2021-12-21T00:00:00",
          "2021-12-14T00:00:00",
          "2021-12-07T00:00:00",
          "2021-11-30T00:00:00",
          "2021-11-23T00:00:00"
         ],
         "y": [
          null,
          null,
          null,
          null,
          null,
          null,
          null,
          null,
          null,
          415.7,
          415.3,
          410.9,
          404.2,
          400.4,
          388.6,
          390.2,
          376.3,
          382.8,
          381.2,
          379.5,
          380,
          373.3,
          368.9,
          373,
          376.5,
          373.9,
          374.8,
          375.7,
          376.4,
          377.1,
          380.2,
          390.8,
          396.8,
          403,
          394,
          385.3,
          378.1,
          385.5,
          385.8,
          388.7,
          388,
          390,
          386.6,
          387.3,
          392.5,
          404.3,
          418,
          407.5,
          413.5,
          401.2
         ]
        },
        {
         "hoverinfo": "text",
         "marker": {
          "colorscale": [
           [
            0,
            "rgb(75, 41, 145)"
           ],
           [
            0.16666666666666666,
            "rgb(135, 44, 162)"
           ],
           [
            0.3333333333333333,
            "rgb(192, 54, 157)"
           ],
           [
            0.5,
            "rgb(234, 79, 136)"
           ],
           [
            0.6666666666666666,
            "rgb(250, 120, 118)"
           ],
           [
            0.8333333333333334,
            "rgb(246, 169, 122)"
           ],
           [
            1,
            "rgb(237, 217, 163)"
           ]
          ],
          "line": {
           "width": 1
          }
         },
         "name": "Monday",
         "type": "scatter",
         "x": [
          "2022-11-07T00:00:00",
          "2022-10-31T00:00:00",
          "2022-10-24T00:00:00",
          "2022-10-17T00:00:00",
          "2022-10-10T00:00:00",
          "2022-10-03T00:00:00",
          "2022-09-26T00:00:00",
          "2022-09-19T00:00:00",
          "2022-09-12T00:00:00",
          "2022-09-05T00:00:00",
          "2022-08-29T00:00:00",
          "2022-08-22T00:00:00",
          "2022-08-15T00:00:00",
          "2022-08-08T00:00:00",
          "2022-08-01T00:00:00",
          "2022-07-25T00:00:00",
          "2022-07-18T00:00:00",
          "2022-07-11T00:00:00",
          "2022-07-04T00:00:00",
          "2022-06-27T00:00:00",
          "2022-06-20T00:00:00",
          "2022-06-13T00:00:00",
          "2022-06-06T00:00:00",
          "2022-05-30T00:00:00",
          "2022-05-23T00:00:00",
          "2022-05-16T00:00:00",
          "2022-05-09T00:00:00",
          "2022-05-02T00:00:00",
          "2022-04-25T00:00:00",
          "2022-04-18T00:00:00",
          "2022-04-11T00:00:00",
          "2022-04-04T00:00:00",
          "2022-03-28T00:00:00",
          "2022-03-21T00:00:00",
          "2022-03-14T00:00:00",
          "2022-03-07T00:00:00",
          "2022-02-28T00:00:00",
          "2022-02-21T00:00:00",
          "2022-02-14T00:00:00",
          "2022-02-07T00:00:00",
          "2022-01-31T00:00:00",
          "2022-01-24T00:00:00",
          "2022-01-17T00:00:00",
          "2022-01-10T00:00:00",
          "2022-01-03T00:00:00",
          "2021-12-27T00:00:00",
          "2021-12-20T00:00:00",
          "2021-12-13T00:00:00",
          "2021-12-06T00:00:00",
          "2021-11-29T00:00:00"
         ],
         "y": [
          null,
          null,
          null,
          null,
          null,
          null,
          null,
          null,
          null,
          404.7,
          390.1,
          390.7,
          394.8,
          385,
          390.7,
          390.4,
          397.2,
          386.7,
          383.8,
          384.4,
          381.7,
          369.5,
          360.5,
          366.6,
          371,
          376.8,
          372.8,
          374.8,
          374.2,
          390.5,
          400.6,
          408.3,
          414.1,
          426,
          418.9,
          423,
          422.4,
          420.9,
          416.8,
          416.2,
          415.4,
          412.9,
          407.9,
          395.7,
          400.1,
          397.5,
          404.8,
          402.2,
          402.4,
          410.8
         ]
        },
        {
         "hoverinfo": "text",
         "marker": {
          "colorscale": [
           [
            0,
            "rgb(75, 41, 145)"
           ],
           [
            0.16666666666666666,
            "rgb(135, 44, 162)"
           ],
           [
            0.3333333333333333,
            "rgb(192, 54, 157)"
           ],
           [
            0.5,
            "rgb(234, 79, 136)"
           ],
           [
            0.6666666666666666,
            "rgb(250, 120, 118)"
           ],
           [
            0.8333333333333334,
            "rgb(246, 169, 122)"
           ],
           [
            1,
            "rgb(237, 217, 163)"
           ]
          ],
          "line": {
           "width": 1
          }
         },
         "name": "Sunday",
         "type": "scatter",
         "x": [
          "2022-11-06T00:00:00",
          "2022-10-30T00:00:00",
          "2022-10-23T00:00:00",
          "2022-10-16T00:00:00",
          "2022-10-09T00:00:00",
          "2022-10-02T00:00:00",
          "2022-09-25T00:00:00",
          "2022-09-11T00:00:00",
          "2022-09-04T00:00:00",
          "2022-08-28T00:00:00",
          "2022-08-21T00:00:00",
          "2022-08-14T00:00:00",
          "2022-08-07T00:00:00",
          "2022-07-31T00:00:00",
          "2022-07-24T00:00:00",
          "2022-07-17T00:00:00",
          "2022-07-10T00:00:00",
          "2022-07-03T00:00:00",
          "2022-06-26T00:00:00",
          "2022-06-19T00:00:00",
          "2022-06-12T00:00:00",
          "2022-06-05T00:00:00",
          "2022-05-29T00:00:00",
          "2022-05-22T00:00:00",
          "2022-05-15T00:00:00",
          "2022-05-08T00:00:00",
          "2022-05-01T00:00:00",
          "2022-04-24T00:00:00",
          "2022-04-17T00:00:00",
          "2022-04-10T00:00:00",
          "2022-04-03T00:00:00",
          "2022-03-27T00:00:00",
          "2022-03-20T00:00:00",
          "2022-03-13T00:00:00",
          "2022-02-27T00:00:00",
          "2022-02-20T00:00:00",
          "2022-02-13T00:00:00",
          "2022-02-06T00:00:00",
          "2022-01-30T00:00:00",
          "2022-01-23T00:00:00",
          "2022-01-16T00:00:00",
          "2022-01-09T00:00:00",
          "2022-01-02T00:00:00",
          "2021-12-26T00:00:00",
          "2021-12-19T00:00:00",
          "2021-12-12T00:00:00",
          "2021-12-05T00:00:00",
          "2021-11-28T00:00:00"
         ],
         "y": [
          null,
          null,
          null,
          null,
          null,
          null,
          null,
          null,
          null,
          376.2,
          384.6,
          389.6,
          388.4,
          398,
          396.4,
          390.5,
          379.7,
          393.4,
          387.6,
          391.5,
          382.6,
          363.4,
          365.8,
          353.5,
          362.1,
          378.4,
          390.8,
          378.7,
          397.7,
          393.6,
          399.3,
          412.4,
          409.7,
          412,
          413.7,
          391.7,
          399.5,
          407,
          394.2,
          385.8,
          381.4,
          382.2,
          372.3,
          370.3,
          362.9,
          369.3,
          364.8,
          362.7
         ]
        },
        {
         "hoverinfo": "text",
         "marker": {
          "colorscale": [
           [
            0,
            "rgb(75, 41, 145)"
           ],
           [
            0.16666666666666666,
            "rgb(135, 44, 162)"
           ],
           [
            0.3333333333333333,
            "rgb(192, 54, 157)"
           ],
           [
            0.5,
            "rgb(234, 79, 136)"
           ],
           [
            0.6666666666666666,
            "rgb(250, 120, 118)"
           ],
           [
            0.8333333333333334,
            "rgb(246, 169, 122)"
           ],
           [
            1,
            "rgb(237, 217, 163)"
           ]
          ],
          "line": {
           "width": 1
          }
         },
         "name": "Saturday",
         "type": "scatter",
         "x": [
          "2022-11-05T00:00:00",
          "2022-10-29T00:00:00",
          "2022-10-22T00:00:00",
          "2022-10-15T00:00:00",
          "2022-10-08T00:00:00",
          "2022-09-24T00:00:00",
          "2022-09-10T00:00:00",
          "2022-09-03T00:00:00",
          "2022-08-27T00:00:00",
          "2022-08-20T00:00:00",
          "2022-08-13T00:00:00",
          "2022-08-06T00:00:00",
          "2022-07-30T00:00:00",
          "2022-07-23T00:00:00",
          "2022-07-16T00:00:00",
          "2022-07-09T00:00:00",
          "2022-07-02T00:00:00",
          "2022-06-25T00:00:00",
          "2022-06-18T00:00:00",
          "2022-06-11T00:00:00",
          "2022-06-04T00:00:00",
          "2022-05-28T00:00:00",
          "2022-05-21T00:00:00",
          "2022-05-14T00:00:00",
          "2022-05-07T00:00:00",
          "2022-04-30T00:00:00",
          "2022-04-23T00:00:00",
          "2022-04-16T00:00:00",
          "2022-04-09T00:00:00",
          "2022-04-02T00:00:00",
          "2022-03-26T00:00:00",
          "2022-03-19T00:00:00",
          "2022-03-12T00:00:00",
          "2022-03-05T00:00:00",
          "2022-02-26T00:00:00",
          "2022-02-19T00:00:00",
          "2022-02-12T00:00:00",
          "2022-02-05T00:00:00",
          "2022-01-29T00:00:00",
          "2022-01-22T00:00:00",
          "2022-01-15T00:00:00",
          "2022-01-08T00:00:00",
          "2022-01-01T00:00:00",
          "2021-12-25T00:00:00",
          "2021-12-18T00:00:00",
          "2021-12-11T00:00:00",
          "2021-12-04T00:00:00",
          "2021-11-27T00:00:00"
         ],
         "y": [
          null,
          null,
          null,
          null,
          null,
          null,
          null,
          null,
          null,
          371,
          378,
          374.1,
          372.6,
          362.9,
          372.9,
          375,
          371.3,
          361.3,
          361.7,
          355.7,
          327.2,
          332.1,
          334.2,
          338.8,
          334.3,
          341,
          345.6,
          349.8,
          360.3,
          368.1,
          390,
          388.5,
          389.3,
          398.2,
          386.3,
          380.2,
          379.2,
          378.8,
          371.9,
          366.8,
          363.3,
          364.7,
          352.5,
          359.1,
          377,
          384.5,
          392.9,
          397
         ]
        }
       ],
       "layout": {
        "autosize": true,
        "template": {
         "data": {
          "bar": [
           {
            "error_x": {
             "color": "#f2f5fa"
            },
            "error_y": {
             "color": "#f2f5fa"
            },
            "marker": {
             "line": {
              "color": "rgb(17,17,17)",
              "width": 0.5
             },
             "pattern": {
              "fillmode": "overlay",
              "size": 10,
              "solidity": 0.2
             }
            },
            "type": "bar"
           }
          ],
          "barpolar": [
           {
            "marker": {
             "line": {
              "color": "rgb(17,17,17)",
              "width": 0.5
             },
             "pattern": {
              "fillmode": "overlay",
              "size": 10,
              "solidity": 0.2
             }
            },
            "type": "barpolar"
           }
          ],
          "carpet": [
           {
            "aaxis": {
             "endlinecolor": "#A2B1C6",
             "gridcolor": "#506784",
             "linecolor": "#506784",
             "minorgridcolor": "#506784",
             "startlinecolor": "#A2B1C6"
            },
            "baxis": {
             "endlinecolor": "#A2B1C6",
             "gridcolor": "#506784",
             "linecolor": "#506784",
             "minorgridcolor": "#506784",
             "startlinecolor": "#A2B1C6"
            },
            "type": "carpet"
           }
          ],
          "choropleth": [
           {
            "colorbar": {
             "outlinewidth": 0,
             "ticks": ""
            },
            "type": "choropleth"
           }
          ],
          "contour": [
           {
            "colorbar": {
             "outlinewidth": 0,
             "ticks": ""
            },
            "colorscale": [
             [
              0,
              "#0d0887"
             ],
             [
              0.1111111111111111,
              "#46039f"
             ],
             [
              0.2222222222222222,
              "#7201a8"
             ],
             [
              0.3333333333333333,
              "#9c179e"
             ],
             [
              0.4444444444444444,
              "#bd3786"
             ],
             [
              0.5555555555555556,
              "#d8576b"
             ],
             [
              0.6666666666666666,
              "#ed7953"
             ],
             [
              0.7777777777777778,
              "#fb9f3a"
             ],
             [
              0.8888888888888888,
              "#fdca26"
             ],
             [
              1,
              "#f0f921"
             ]
            ],
            "type": "contour"
           }
          ],
          "contourcarpet": [
           {
            "colorbar": {
             "outlinewidth": 0,
             "ticks": ""
            },
            "type": "contourcarpet"
           }
          ],
          "heatmap": [
           {
            "colorbar": {
             "outlinewidth": 0,
             "ticks": ""
            },
            "colorscale": [
             [
              0,
              "#0d0887"
             ],
             [
              0.1111111111111111,
              "#46039f"
             ],
             [
              0.2222222222222222,
              "#7201a8"
             ],
             [
              0.3333333333333333,
              "#9c179e"
             ],
             [
              0.4444444444444444,
              "#bd3786"
             ],
             [
              0.5555555555555556,
              "#d8576b"
             ],
             [
              0.6666666666666666,
              "#ed7953"
             ],
             [
              0.7777777777777778,
              "#fb9f3a"
             ],
             [
              0.8888888888888888,
              "#fdca26"
             ],
             [
              1,
              "#f0f921"
             ]
            ],
            "type": "heatmap"
           }
          ],
          "heatmapgl": [
           {
            "colorbar": {
             "outlinewidth": 0,
             "ticks": ""
            },
            "colorscale": [
             [
              0,
              "#0d0887"
             ],
             [
              0.1111111111111111,
              "#46039f"
             ],
             [
              0.2222222222222222,
              "#7201a8"
             ],
             [
              0.3333333333333333,
              "#9c179e"
             ],
             [
              0.4444444444444444,
              "#bd3786"
             ],
             [
              0.5555555555555556,
              "#d8576b"
             ],
             [
              0.6666666666666666,
              "#ed7953"
             ],
             [
              0.7777777777777778,
              "#fb9f3a"
             ],
             [
              0.8888888888888888,
              "#fdca26"
             ],
             [
              1,
              "#f0f921"
             ]
            ],
            "type": "heatmapgl"
           }
          ],
          "histogram": [
           {
            "marker": {
             "pattern": {
              "fillmode": "overlay",
              "size": 10,
              "solidity": 0.2
             }
            },
            "type": "histogram"
           }
          ],
          "histogram2d": [
           {
            "colorbar": {
             "outlinewidth": 0,
             "ticks": ""
            },
            "colorscale": [
             [
              0,
              "#0d0887"
             ],
             [
              0.1111111111111111,
              "#46039f"
             ],
             [
              0.2222222222222222,
              "#7201a8"
             ],
             [
              0.3333333333333333,
              "#9c179e"
             ],
             [
              0.4444444444444444,
              "#bd3786"
             ],
             [
              0.5555555555555556,
              "#d8576b"
             ],
             [
              0.6666666666666666,
              "#ed7953"
             ],
             [
              0.7777777777777778,
              "#fb9f3a"
             ],
             [
              0.8888888888888888,
              "#fdca26"
             ],
             [
              1,
              "#f0f921"
             ]
            ],
            "type": "histogram2d"
           }
          ],
          "histogram2dcontour": [
           {
            "colorbar": {
             "outlinewidth": 0,
             "ticks": ""
            },
            "colorscale": [
             [
              0,
              "#0d0887"
             ],
             [
              0.1111111111111111,
              "#46039f"
             ],
             [
              0.2222222222222222,
              "#7201a8"
             ],
             [
              0.3333333333333333,
              "#9c179e"
             ],
             [
              0.4444444444444444,
              "#bd3786"
             ],
             [
              0.5555555555555556,
              "#d8576b"
             ],
             [
              0.6666666666666666,
              "#ed7953"
             ],
             [
              0.7777777777777778,
              "#fb9f3a"
             ],
             [
              0.8888888888888888,
              "#fdca26"
             ],
             [
              1,
              "#f0f921"
             ]
            ],
            "type": "histogram2dcontour"
           }
          ],
          "mesh3d": [
           {
            "colorbar": {
             "outlinewidth": 0,
             "ticks": ""
            },
            "type": "mesh3d"
           }
          ],
          "parcoords": [
           {
            "line": {
             "colorbar": {
              "outlinewidth": 0,
              "ticks": ""
             }
            },
            "type": "parcoords"
           }
          ],
          "pie": [
           {
            "automargin": true,
            "type": "pie"
           }
          ],
          "scatter": [
           {
            "marker": {
             "line": {
              "color": "#283442"
             }
            },
            "type": "scatter"
           }
          ],
          "scatter3d": [
           {
            "line": {
             "colorbar": {
              "outlinewidth": 0,
              "ticks": ""
             }
            },
            "marker": {
             "colorbar": {
              "outlinewidth": 0,
              "ticks": ""
             }
            },
            "type": "scatter3d"
           }
          ],
          "scattercarpet": [
           {
            "marker": {
             "colorbar": {
              "outlinewidth": 0,
              "ticks": ""
             }
            },
            "type": "scattercarpet"
           }
          ],
          "scattergeo": [
           {
            "marker": {
             "colorbar": {
              "outlinewidth": 0,
              "ticks": ""
             }
            },
            "type": "scattergeo"
           }
          ],
          "scattergl": [
           {
            "marker": {
             "line": {
              "color": "#283442"
             }
            },
            "type": "scattergl"
           }
          ],
          "scattermapbox": [
           {
            "marker": {
             "colorbar": {
              "outlinewidth": 0,
              "ticks": ""
             }
            },
            "type": "scattermapbox"
           }
          ],
          "scatterpolar": [
           {
            "marker": {
             "colorbar": {
              "outlinewidth": 0,
              "ticks": ""
             }
            },
            "type": "scatterpolar"
           }
          ],
          "scatterpolargl": [
           {
            "marker": {
             "colorbar": {
              "outlinewidth": 0,
              "ticks": ""
             }
            },
            "type": "scatterpolargl"
           }
          ],
          "scatterternary": [
           {
            "marker": {
             "colorbar": {
              "outlinewidth": 0,
              "ticks": ""
             }
            },
            "type": "scatterternary"
           }
          ],
          "surface": [
           {
            "colorbar": {
             "outlinewidth": 0,
             "ticks": ""
            },
            "colorscale": [
             [
              0,
              "#0d0887"
             ],
             [
              0.1111111111111111,
              "#46039f"
             ],
             [
              0.2222222222222222,
              "#7201a8"
             ],
             [
              0.3333333333333333,
              "#9c179e"
             ],
             [
              0.4444444444444444,
              "#bd3786"
             ],
             [
              0.5555555555555556,
              "#d8576b"
             ],
             [
              0.6666666666666666,
              "#ed7953"
             ],
             [
              0.7777777777777778,
              "#fb9f3a"
             ],
             [
              0.8888888888888888,
              "#fdca26"
             ],
             [
              1,
              "#f0f921"
             ]
            ],
            "type": "surface"
           }
          ],
          "table": [
           {
            "cells": {
             "fill": {
              "color": "#506784"
             },
             "line": {
              "color": "rgb(17,17,17)"
             }
            },
            "header": {
             "fill": {
              "color": "#2a3f5f"
             },
             "line": {
              "color": "rgb(17,17,17)"
             }
            },
            "type": "table"
           }
          ]
         },
         "layout": {
          "annotationdefaults": {
           "arrowcolor": "#f2f5fa",
           "arrowhead": 0,
           "arrowwidth": 1
          },
          "autotypenumbers": "strict",
          "coloraxis": {
           "colorbar": {
            "outlinewidth": 0,
            "ticks": ""
           }
          },
          "colorscale": {
           "diverging": [
            [
             0,
             "#8e0152"
            ],
            [
             0.1,
             "#c51b7d"
            ],
            [
             0.2,
             "#de77ae"
            ],
            [
             0.3,
             "#f1b6da"
            ],
            [
             0.4,
             "#fde0ef"
            ],
            [
             0.5,
             "#f7f7f7"
            ],
            [
             0.6,
             "#e6f5d0"
            ],
            [
             0.7,
             "#b8e186"
            ],
            [
             0.8,
             "#7fbc41"
            ],
            [
             0.9,
             "#4d9221"
            ],
            [
             1,
             "#276419"
            ]
           ],
           "sequential": [
            [
             0,
             "#0d0887"
            ],
            [
             0.1111111111111111,
             "#46039f"
            ],
            [
             0.2222222222222222,
             "#7201a8"
            ],
            [
             0.3333333333333333,
             "#9c179e"
            ],
            [
             0.4444444444444444,
             "#bd3786"
            ],
            [
             0.5555555555555556,
             "#d8576b"
            ],
            [
             0.6666666666666666,
             "#ed7953"
            ],
            [
             0.7777777777777778,
             "#fb9f3a"
            ],
            [
             0.8888888888888888,
             "#fdca26"
            ],
            [
             1,
             "#f0f921"
            ]
           ],
           "sequentialminus": [
            [
             0,
             "#0d0887"
            ],
            [
             0.1111111111111111,
             "#46039f"
            ],
            [
             0.2222222222222222,
             "#7201a8"
            ],
            [
             0.3333333333333333,
             "#9c179e"
            ],
            [
             0.4444444444444444,
             "#bd3786"
            ],
            [
             0.5555555555555556,
             "#d8576b"
            ],
            [
             0.6666666666666666,
             "#ed7953"
            ],
            [
             0.7777777777777778,
             "#fb9f3a"
            ],
            [
             0.8888888888888888,
             "#fdca26"
            ],
            [
             1,
             "#f0f921"
            ]
           ]
          },
          "colorway": [
           "#636efa",
           "#EF553B",
           "#00cc96",
           "#ab63fa",
           "#FFA15A",
           "#19d3f3",
           "#FF6692",
           "#B6E880",
           "#FF97FF",
           "#FECB52"
          ],
          "font": {
           "color": "#f2f5fa"
          },
          "geo": {
           "bgcolor": "rgb(17,17,17)",
           "lakecolor": "rgb(17,17,17)",
           "landcolor": "rgb(17,17,17)",
           "showlakes": true,
           "showland": true,
           "subunitcolor": "#506784"
          },
          "hoverlabel": {
           "align": "left"
          },
          "hovermode": "closest",
          "mapbox": {
           "style": "dark"
          },
          "paper_bgcolor": "rgb(17,17,17)",
          "plot_bgcolor": "rgb(17,17,17)",
          "polar": {
           "angularaxis": {
            "gridcolor": "#506784",
            "linecolor": "#506784",
            "ticks": ""
           },
           "bgcolor": "rgb(17,17,17)",
           "radialaxis": {
            "gridcolor": "#506784",
            "linecolor": "#506784",
            "ticks": ""
           }
          },
          "scene": {
           "xaxis": {
            "backgroundcolor": "rgb(17,17,17)",
            "gridcolor": "#506784",
            "gridwidth": 2,
            "linecolor": "#506784",
            "showbackground": true,
            "ticks": "",
            "zerolinecolor": "#C8D4E3"
           },
           "yaxis": {
            "backgroundcolor": "rgb(17,17,17)",
            "gridcolor": "#506784",
            "gridwidth": 2,
            "linecolor": "#506784",
            "showbackground": true,
            "ticks": "",
            "zerolinecolor": "#C8D4E3"
           },
           "zaxis": {
            "backgroundcolor": "rgb(17,17,17)",
            "gridcolor": "#506784",
            "gridwidth": 2,
            "linecolor": "#506784",
            "showbackground": true,
            "ticks": "",
            "zerolinecolor": "#C8D4E3"
           }
          },
          "shapedefaults": {
           "line": {
            "color": "#f2f5fa"
           }
          },
          "sliderdefaults": {
           "bgcolor": "#C8D4E3",
           "bordercolor": "rgb(17,17,17)",
           "borderwidth": 1,
           "tickwidth": 0
          },
          "ternary": {
           "aaxis": {
            "gridcolor": "#506784",
            "linecolor": "#506784",
            "ticks": ""
           },
           "baxis": {
            "gridcolor": "#506784",
            "linecolor": "#506784",
            "ticks": ""
           },
           "bgcolor": "rgb(17,17,17)",
           "caxis": {
            "gridcolor": "#506784",
            "linecolor": "#506784",
            "ticks": ""
           }
          },
          "title": {
           "x": 0.05
          },
          "updatemenudefaults": {
           "bgcolor": "#506784",
           "borderwidth": 0
          },
          "xaxis": {
           "automargin": true,
           "gridcolor": "#283442",
           "linecolor": "#506784",
           "ticks": "",
           "title": {
            "standoff": 15
           },
           "zerolinecolor": "#283442",
           "zerolinewidth": 2
          },
          "yaxis": {
           "automargin": true,
           "gridcolor": "#283442",
           "linecolor": "#506784",
           "ticks": "",
           "title": {
            "standoff": 15
           },
           "zerolinecolor": "#283442",
           "zerolinewidth": 2
          }
         }
        },
        "title": {
         "text": "Total Sleep Time Mins by Weekday rollling avg"
        },
        "xaxis": {
         "autorange": true,
         "range": [
          "2021-11-23",
          "2022-11-11"
         ],
         "type": "date"
        },
        "yaxis": {
         "autorange": true,
         "range": [
          321.3277777777778,
          438.7722222222222
         ],
         "type": "linear"
        }
       }
      },
      "image/png": "[encoded data removed]",
      "text/html": [
       "<div>                            <div id=\"b9825ec3-143b-4505-bf39-002cc9262689\" class=\"plotly-graph-div\" style=\"height:525px; width:100%;\"></div>            <script type=\"text/javascript\">                require([\"plotly\"], function(Plotly) {                    window.PLOTLYENV=window.PLOTLYENV || {};                                    if (document.getElementById(\"b9825ec3-143b-4505-bf39-002cc9262689\")) {                    Plotly.newPlot(                        \"b9825ec3-143b-4505-bf39-002cc9262689\",                        [{\"hoverinfo\":\"text\",\"marker\":{\"colorscale\":[[0.0,\"rgb(75, 41, 145)\"],[0.16666666666666666,\"rgb(135, 44, 162)\"],[0.3333333333333333,\"rgb(192, 54, 157)\"],[0.5,\"rgb(234, 79, 136)\"],[0.6666666666666666,\"rgb(250, 120, 118)\"],[0.8333333333333334,\"rgb(246, 169, 122)\"],[1.0,\"rgb(237, 217, 163)\"]],\"line\":{\"width\":1}},\"name\":\"Friday\",\"x\":[\"2022-11-11T00:00:00\",\"2022-11-04T00:00:00\",\"2022-10-28T00:00:00\",\"2022-10-21T00:00:00\",\"2022-10-14T00:00:00\",\"2022-10-07T00:00:00\",\"2022-09-30T00:00:00\",\"2022-09-23T00:00:00\",\"2022-09-16T00:00:00\",\"2022-09-09T00:00:00\",\"2022-09-02T00:00:00\",\"2022-08-26T00:00:00\",\"2022-08-19T00:00:00\",\"2022-08-12T00:00:00\",\"2022-08-05T00:00:00\",\"2022-07-29T00:00:00\",\"2022-07-22T00:00:00\",\"2022-07-15T00:00:00\",\"2022-07-08T00:00:00\",\"2022-07-01T00:00:00\",\"2022-06-24T00:00:00\",\"2022-06-17T00:00:00\",\"2022-06-10T00:00:00\",\"2022-06-03T00:00:00\",\"2022-05-27T00:00:00\",\"2022-05-20T00:00:00\",\"2022-05-13T00:00:00\",\"2022-05-06T00:00:00\",\"2022-04-29T00:00:00\",\"2022-04-22T00:00:00\",\"2022-04-15T00:00:00\",\"2022-04-08T00:00:00\",\"2022-04-01T00:00:00\",\"2022-03-25T00:00:00\",\"2022-03-18T00:00:00\",\"2022-03-11T00:00:00\",\"2022-03-04T00:00:00\",\"2022-02-25T00:00:00\",\"2022-02-18T00:00:00\",\"2022-02-11T00:00:00\",\"2022-02-04T00:00:00\",\"2022-01-28T00:00:00\",\"2022-01-21T00:00:00\",\"2022-01-14T00:00:00\",\"2022-01-07T00:00:00\",\"2021-12-31T00:00:00\",\"2021-12-24T00:00:00\",\"2021-12-17T00:00:00\",\"2021-12-10T00:00:00\",\"2021-12-03T00:00:00\",\"2021-11-26T00:00:00\"],\"y\":[null,null,null,null,null,null,null,null,null,377.4,352.0,343.0,341.9,333.7,327.7,350.7,358.7,354.6,368.7,368.0,377.6,378.0,368.2,368.9,373.3,367.9,362.8,366.6,366.4,368.3,364.6,372.2,372.3,382.0,371.1,373.5,360.6,365.5,360.4,368.2,370.5,360.8,362.4,358.1,371.7,368.0,391.2,392.8,408.9,403.1,405.0],\"type\":\"scatter\"},{\"hoverinfo\":\"text\",\"marker\":{\"colorscale\":[[0.0,\"rgb(75, 41, 145)\"],[0.16666666666666666,\"rgb(135, 44, 162)\"],[0.3333333333333333,\"rgb(192, 54, 157)\"],[0.5,\"rgb(234, 79, 136)\"],[0.6666666666666666,\"rgb(250, 120, 118)\"],[0.8333333333333334,\"rgb(246, 169, 122)\"],[1.0,\"rgb(237, 217, 163)\"]],\"line\":{\"width\":1}},\"name\":\"Thursday\",\"x\":[\"2022-11-10T00:00:00\",\"2022-11-03T00:00:00\",\"2022-10-27T00:00:00\",\"2022-10-20T00:00:00\",\"2022-10-13T00:00:00\",\"2022-10-06T00:00:00\",\"2022-09-29T00:00:00\",\"2022-09-22T00:00:00\",\"2022-09-15T00:00:00\",\"2022-09-08T00:00:00\",\"2022-09-01T00:00:00\",\"2022-08-25T00:00:00\",\"2022-08-18T00:00:00\",\"2022-08-11T00:00:00\",\"2022-08-04T00:00:00\",\"2022-07-28T00:00:00\",\"2022-07-21T00:00:00\",\"2022-07-14T00:00:00\",\"2022-07-07T00:00:00\",\"2022-06-30T00:00:00\",\"2022-06-23T00:00:00\",\"2022-06-16T00:00:00\",\"2022-06-09T00:00:00\",\"2022-06-02T00:00:00\",\"2022-05-26T00:00:00\",\"2022-05-19T00:00:00\",\"2022-05-12T00:00:00\",\"2022-05-05T00:00:00\",\"2022-04-28T00:00:00\",\"2022-04-21T00:00:00\",\"2022-04-14T00:00:00\",\"2022-04-07T00:00:00\",\"2022-03-31T00:00:00\",\"2022-03-24T00:00:00\",\"2022-03-17T00:00:00\",\"2022-03-10T00:00:00\",\"2022-03-03T00:00:00\",\"2022-02-24T00:00:00\",\"2022-02-17T00:00:00\",\"2022-02-10T00:00:00\",\"2022-02-03T00:00:00\",\"2022-01-27T00:00:00\",\"2022-01-20T00:00:00\",\"2022-01-13T00:00:00\",\"2022-01-06T00:00:00\",\"2021-12-30T00:00:00\",\"2021-12-23T00:00:00\",\"2021-12-16T00:00:00\",\"2021-12-09T00:00:00\",\"2021-12-02T00:00:00\",\"2021-11-25T00:00:00\"],\"y\":[null,null,null,null,null,null,null,null,null,396.1,399.8,398.0,393.1,398.6,396.8,385.0,381.8,379.7,380.7,372.4,359.4,357.1,360.6,357.9,361.6,373.7,372.8,372.9,371.7,376.8,394.6,395.0,395.4,395.3,394.5,402.1,408.6,411.2,416.3,415.8,417.3,419.4,420.6,421.4,424.1,409.0,405.4,404.4,401.9,401.9,397.1],\"type\":\"scatter\"},{\"hoverinfo\":\"text\",\"marker\":{\"colorscale\":[[0.0,\"rgb(75, 41, 145)\"],[0.16666666666666666,\"rgb(135, 44, 162)\"],[0.3333333333333333,\"rgb(192, 54, 157)\"],[0.5,\"rgb(234, 79, 136)\"],[0.6666666666666666,\"rgb(250, 120, 118)\"],[0.8333333333333334,\"rgb(246, 169, 122)\"],[1.0,\"rgb(237, 217, 163)\"]],\"line\":{\"width\":1}},\"name\":\"Wednesday\",\"x\":[\"2022-11-09T00:00:00\",\"2022-11-02T00:00:00\",\"2022-10-26T00:00:00\",\"2022-10-19T00:00:00\",\"2022-10-12T00:00:00\",\"2022-10-05T00:00:00\",\"2022-09-28T00:00:00\",\"2022-09-21T00:00:00\",\"2022-09-14T00:00:00\",\"2022-09-07T00:00:00\",\"2022-08-31T00:00:00\",\"2022-08-24T00:00:00\",\"2022-08-17T00:00:00\",\"2022-08-10T00:00:00\",\"2022-08-03T00:00:00\",\"2022-07-27T00:00:00\",\"2022-07-20T00:00:00\",\"2022-07-13T00:00:00\",\"2022-07-06T00:00:00\",\"2022-06-29T00:00:00\",\"2022-06-22T00:00:00\",\"2022-06-15T00:00:00\",\"2022-06-08T00:00:00\",\"2022-06-01T00:00:00\",\"2022-05-25T00:00:00\",\"2022-05-18T00:00:00\",\"2022-05-11T00:00:00\",\"2022-05-04T00:00:00\",\"2022-04-27T00:00:00\",\"2022-04-20T00:00:00\",\"2022-04-13T00:00:00\",\"2022-04-06T00:00:00\",\"2022-03-30T00:00:00\",\"2022-03-23T00:00:00\",\"2022-03-16T00:00:00\",\"2022-03-09T00:00:00\",\"2022-03-02T00:00:00\",\"2022-02-23T00:00:00\",\"2022-02-16T00:00:00\",\"2022-02-09T00:00:00\",\"2022-02-02T00:00:00\",\"2022-01-26T00:00:00\",\"2022-01-19T00:00:00\",\"2022-01-12T00:00:00\",\"2022-01-05T00:00:00\",\"2021-12-29T00:00:00\",\"2021-12-22T00:00:00\",\"2021-12-15T00:00:00\",\"2021-12-08T00:00:00\",\"2021-12-01T00:00:00\",\"2021-11-24T00:00:00\"],\"y\":[null,null,null,null,null,null,null,null,null,370.9,373.4,369.8,380.7,381.1,394.2,392.0,396.2,409.5,410.2,411.5,404.7,403.9,400.0,397.2,395.0,394.0,395.5,398.6,396.1,395.0,395.9,396.8,398.2,392.9,391.3,380.6,374.5,377.7,371.2,368.5,360.2,354.2,355.6,364.9,372.6,385.5,401.7,403.8,411.4,415.8,432.9],\"type\":\"scatter\"},{\"hoverinfo\":\"text\",\"marker\":{\"colorscale\":[[0.0,\"rgb(75, 41, 145)\"],[0.16666666666666666,\"rgb(135, 44, 162)\"],[0.3333333333333333,\"rgb(192, 54, 157)\"],[0.5,\"rgb(234, 79, 136)\"],[0.6666666666666666,\"rgb(250, 120, 118)\"],[0.8333333333333334,\"rgb(246, 169, 122)\"],[1.0,\"rgb(237, 217, 163)\"]],\"line\":{\"width\":1}},\"name\":\"Tuesday\",\"x\":[\"2022-11-08T00:00:00\",\"2022-11-01T00:00:00\",\"2022-10-25T00:00:00\",\"2022-10-18T00:00:00\",\"2022-10-11T00:00:00\",\"2022-10-04T00:00:00\",\"2022-09-27T00:00:00\",\"2022-09-20T00:00:00\",\"2022-09-13T00:00:00\",\"2022-09-06T00:00:00\",\"2022-08-30T00:00:00\",\"2022-08-23T00:00:00\",\"2022-08-16T00:00:00\",\"2022-08-09T00:00:00\",\"2022-08-02T00:00:00\",\"2022-07-26T00:00:00\",\"2022-07-19T00:00:00\",\"2022-07-12T00:00:00\",\"2022-07-05T00:00:00\",\"2022-06-28T00:00:00\",\"2022-06-14T00:00:00\",\"2022-06-07T00:00:00\",\"2022-05-31T00:00:00\",\"2022-05-24T00:00:00\",\"2022-05-17T00:00:00\",\"2022-05-10T00:00:00\",\"2022-05-03T00:00:00\",\"2022-04-26T00:00:00\",\"2022-04-19T00:00:00\",\"2022-04-12T00:00:00\",\"2022-04-05T00:00:00\",\"2022-03-29T00:00:00\",\"2022-03-22T00:00:00\",\"2022-03-15T00:00:00\",\"2022-03-08T00:00:00\",\"2022-03-01T00:00:00\",\"2022-02-22T00:00:00\",\"2022-02-15T00:00:00\",\"2022-02-08T00:00:00\",\"2022-02-01T00:00:00\",\"2022-01-25T00:00:00\",\"2022-01-18T00:00:00\",\"2022-01-11T00:00:00\",\"2022-01-04T00:00:00\",\"2021-12-28T00:00:00\",\"2021-12-21T00:00:00\",\"2021-12-14T00:00:00\",\"2021-12-07T00:00:00\",\"2021-11-30T00:00:00\",\"2021-11-23T00:00:00\"],\"y\":[null,null,null,null,null,null,null,null,null,415.7,415.3,410.9,404.2,400.4,388.6,390.2,376.3,382.8,381.2,379.5,380.0,373.3,368.9,373.0,376.5,373.9,374.8,375.7,376.4,377.1,380.2,390.8,396.8,403.0,394.0,385.3,378.1,385.5,385.8,388.7,388.0,390.0,386.6,387.3,392.5,404.3,418.0,407.5,413.5,401.2],\"type\":\"scatter\"},{\"hoverinfo\":\"text\",\"marker\":{\"colorscale\":[[0.0,\"rgb(75, 41, 145)\"],[0.16666666666666666,\"rgb(135, 44, 162)\"],[0.3333333333333333,\"rgb(192, 54, 157)\"],[0.5,\"rgb(234, 79, 136)\"],[0.6666666666666666,\"rgb(250, 120, 118)\"],[0.8333333333333334,\"rgb(246, 169, 122)\"],[1.0,\"rgb(237, 217, 163)\"]],\"line\":{\"width\":1}},\"name\":\"Monday\",\"x\":[\"2022-11-07T00:00:00\",\"2022-10-31T00:00:00\",\"2022-10-24T00:00:00\",\"2022-10-17T00:00:00\",\"2022-10-10T00:00:00\",\"2022-10-03T00:00:00\",\"2022-09-26T00:00:00\",\"2022-09-19T00:00:00\",\"2022-09-12T00:00:00\",\"2022-09-05T00:00:00\",\"2022-08-29T00:00:00\",\"2022-08-22T00:00:00\",\"2022-08-15T00:00:00\",\"2022-08-08T00:00:00\",\"2022-08-01T00:00:00\",\"2022-07-25T00:00:00\",\"2022-07-18T00:00:00\",\"2022-07-11T00:00:00\",\"2022-07-04T00:00:00\",\"2022-06-27T00:00:00\",\"2022-06-20T00:00:00\",\"2022-06-13T00:00:00\",\"2022-06-06T00:00:00\",\"2022-05-30T00:00:00\",\"2022-05-23T00:00:00\",\"2022-05-16T00:00:00\",\"2022-05-09T00:00:00\",\"2022-05-02T00:00:00\",\"2022-04-25T00:00:00\",\"2022-04-18T00:00:00\",\"2022-04-11T00:00:00\",\"2022-04-04T00:00:00\",\"2022-03-28T00:00:00\",\"2022-03-21T00:00:00\",\"2022-03-14T00:00:00\",\"2022-03-07T00:00:00\",\"2022-02-28T00:00:00\",\"2022-02-21T00:00:00\",\"2022-02-14T00:00:00\",\"2022-02-07T00:00:00\",\"2022-01-31T00:00:00\",\"2022-01-24T00:00:00\",\"2022-01-17T00:00:00\",\"2022-01-10T00:00:00\",\"2022-01-03T00:00:00\",\"2021-12-27T00:00:00\",\"2021-12-20T00:00:00\",\"2021-12-13T00:00:00\",\"2021-12-06T00:00:00\",\"2021-11-29T00:00:00\"],\"y\":[null,null,null,null,null,null,null,null,null,404.7,390.1,390.7,394.8,385.0,390.7,390.4,397.2,386.7,383.8,384.4,381.7,369.5,360.5,366.6,371.0,376.8,372.8,374.8,374.2,390.5,400.6,408.3,414.1,426.0,418.9,423.0,422.4,420.9,416.8,416.2,415.4,412.9,407.9,395.7,400.1,397.5,404.8,402.2,402.4,410.8],\"type\":\"scatter\"},{\"hoverinfo\":\"text\",\"marker\":{\"colorscale\":[[0.0,\"rgb(75, 41, 145)\"],[0.16666666666666666,\"rgb(135, 44, 162)\"],[0.3333333333333333,\"rgb(192, 54, 157)\"],[0.5,\"rgb(234, 79, 136)\"],[0.6666666666666666,\"rgb(250, 120, 118)\"],[0.8333333333333334,\"rgb(246, 169, 122)\"],[1.0,\"rgb(237, 217, 163)\"]],\"line\":{\"width\":1}},\"name\":\"Sunday\",\"x\":[\"2022-11-06T00:00:00\",\"2022-10-30T00:00:00\",\"2022-10-23T00:00:00\",\"2022-10-16T00:00:00\",\"2022-10-09T00:00:00\",\"2022-10-02T00:00:00\",\"2022-09-25T00:00:00\",\"2022-09-11T00:00:00\",\"2022-09-04T00:00:00\",\"2022-08-28T00:00:00\",\"2022-08-21T00:00:00\",\"2022-08-14T00:00:00\",\"2022-08-07T00:00:00\",\"2022-07-31T00:00:00\",\"2022-07-24T00:00:00\",\"2022-07-17T00:00:00\",\"2022-07-10T00:00:00\",\"2022-07-03T00:00:00\",\"2022-06-26T00:00:00\",\"2022-06-19T00:00:00\",\"2022-06-12T00:00:00\",\"2022-06-05T00:00:00\",\"2022-05-29T00:00:00\",\"2022-05-22T00:00:00\",\"2022-05-15T00:00:00\",\"2022-05-08T00:00:00\",\"2022-05-01T00:00:00\",\"2022-04-24T00:00:00\",\"2022-04-17T00:00:00\",\"2022-04-10T00:00:00\",\"2022-04-03T00:00:00\",\"2022-03-27T00:00:00\",\"2022-03-20T00:00:00\",\"2022-03-13T00:00:00\",\"2022-02-27T00:00:00\",\"2022-02-20T00:00:00\",\"2022-02-13T00:00:00\",\"2022-02-06T00:00:00\",\"2022-01-30T00:00:00\",\"2022-01-23T00:00:00\",\"2022-01-16T00:00:00\",\"2022-01-09T00:00:00\",\"2022-01-02T00:00:00\",\"2021-12-26T00:00:00\",\"2021-12-19T00:00:00\",\"2021-12-12T00:00:00\",\"2021-12-05T00:00:00\",\"2021-11-28T00:00:00\"],\"y\":[null,null,null,null,null,null,null,null,null,376.2,384.6,389.6,388.4,398.0,396.4,390.5,379.7,393.4,387.6,391.5,382.6,363.4,365.8,353.5,362.1,378.4,390.8,378.7,397.7,393.6,399.3,412.4,409.7,412.0,413.7,391.7,399.5,407.0,394.2,385.8,381.4,382.2,372.3,370.3,362.9,369.3,364.8,362.7],\"type\":\"scatter\"},{\"hoverinfo\":\"text\",\"marker\":{\"colorscale\":[[0.0,\"rgb(75, 41, 145)\"],[0.16666666666666666,\"rgb(135, 44, 162)\"],[0.3333333333333333,\"rgb(192, 54, 157)\"],[0.5,\"rgb(234, 79, 136)\"],[0.6666666666666666,\"rgb(250, 120, 118)\"],[0.8333333333333334,\"rgb(246, 169, 122)\"],[1.0,\"rgb(237, 217, 163)\"]],\"line\":{\"width\":1}},\"name\":\"Saturday\",\"x\":[\"2022-11-05T00:00:00\",\"2022-10-29T00:00:00\",\"2022-10-22T00:00:00\",\"2022-10-15T00:00:00\",\"2022-10-08T00:00:00\",\"2022-09-24T00:00:00\",\"2022-09-10T00:00:00\",\"2022-09-03T00:00:00\",\"2022-08-27T00:00:00\",\"2022-08-20T00:00:00\",\"2022-08-13T00:00:00\",\"2022-08-06T00:00:00\",\"2022-07-30T00:00:00\",\"2022-07-23T00:00:00\",\"2022-07-16T00:00:00\",\"2022-07-09T00:00:00\",\"2022-07-02T00:00:00\",\"2022-06-25T00:00:00\",\"2022-06-18T00:00:00\",\"2022-06-11T00:00:00\",\"2022-06-04T00:00:00\",\"2022-05-28T00:00:00\",\"2022-05-21T00:00:00\",\"2022-05-14T00:00:00\",\"2022-05-07T00:00:00\",\"2022-04-30T00:00:00\",\"2022-04-23T00:00:00\",\"2022-04-16T00:00:00\",\"2022-04-09T00:00:00\",\"2022-04-02T00:00:00\",\"2022-03-26T00:00:00\",\"2022-03-19T00:00:00\",\"2022-03-12T00:00:00\",\"2022-03-05T00:00:00\",\"2022-02-26T00:00:00\",\"2022-02-19T00:00:00\",\"2022-02-12T00:00:00\",\"2022-02-05T00:00:00\",\"2022-01-29T00:00:00\",\"2022-01-22T00:00:00\",\"2022-01-15T00:00:00\",\"2022-01-08T00:00:00\",\"2022-01-01T00:00:00\",\"2021-12-25T00:00:00\",\"2021-12-18T00:00:00\",\"2021-12-11T00:00:00\",\"2021-12-04T00:00:00\",\"2021-11-27T00:00:00\"],\"y\":[null,null,null,null,null,null,null,null,null,371.0,378.0,374.1,372.6,362.9,372.9,375.0,371.3,361.3,361.7,355.7,327.2,332.1,334.2,338.8,334.3,341.0,345.6,349.8,360.3,368.1,390.0,388.5,389.3,398.2,386.3,380.2,379.2,378.8,371.9,366.8,363.3,364.7,352.5,359.1,377.0,384.5,392.9,397.0],\"type\":\"scatter\"}],                        {\"template\":{\"data\":{\"barpolar\":[{\"marker\":{\"line\":{\"color\":\"rgb(17,17,17)\",\"width\":0.5},\"pattern\":{\"fillmode\":\"overlay\",\"size\":10,\"solidity\":0.2}},\"type\":\"barpolar\"}],\"bar\":[{\"error_x\":{\"color\":\"#f2f5fa\"},\"error_y\":{\"color\":\"#f2f5fa\"},\"marker\":{\"line\":{\"color\":\"rgb(17,17,17)\",\"width\":0.5},\"pattern\":{\"fillmode\":\"overlay\",\"size\":10,\"solidity\":0.2}},\"type\":\"bar\"}],\"carpet\":[{\"aaxis\":{\"endlinecolor\":\"#A2B1C6\",\"gridcolor\":\"#506784\",\"linecolor\":\"#506784\",\"minorgridcolor\":\"#506784\",\"startlinecolor\":\"#A2B1C6\"},\"baxis\":{\"endlinecolor\":\"#A2B1C6\",\"gridcolor\":\"#506784\",\"linecolor\":\"#506784\",\"minorgridcolor\":\"#506784\",\"startlinecolor\":\"#A2B1C6\"},\"type\":\"carpet\"}],\"choropleth\":[{\"colorbar\":{\"outlinewidth\":0,\"ticks\":\"\"},\"type\":\"choropleth\"}],\"contourcarpet\":[{\"colorbar\":{\"outlinewidth\":0,\"ticks\":\"\"},\"type\":\"contourcarpet\"}],\"contour\":[{\"colorbar\":{\"outlinewidth\":0,\"ticks\":\"\"},\"colorscale\":[[0.0,\"#0d0887\"],[0.1111111111111111,\"#46039f\"],[0.2222222222222222,\"#7201a8\"],[0.3333333333333333,\"#9c179e\"],[0.4444444444444444,\"#bd3786\"],[0.5555555555555556,\"#d8576b\"],[0.6666666666666666,\"#ed7953\"],[0.7777777777777778,\"#fb9f3a\"],[0.8888888888888888,\"#fdca26\"],[1.0,\"#f0f921\"]],\"type\":\"contour\"}],\"heatmapgl\":[{\"colorbar\":{\"outlinewidth\":0,\"ticks\":\"\"},\"colorscale\":[[0.0,\"#0d0887\"],[0.1111111111111111,\"#46039f\"],[0.2222222222222222,\"#7201a8\"],[0.3333333333333333,\"#9c179e\"],[0.4444444444444444,\"#bd3786\"],[0.5555555555555556,\"#d8576b\"],[0.6666666666666666,\"#ed7953\"],[0.7777777777777778,\"#fb9f3a\"],[0.8888888888888888,\"#fdca26\"],[1.0,\"#f0f921\"]],\"type\":\"heatmapgl\"}],\"heatmap\":[{\"colorbar\":{\"outlinewidth\":0,\"ticks\":\"\"},\"colorscale\":[[0.0,\"#0d0887\"],[0.1111111111111111,\"#46039f\"],[0.2222222222222222,\"#7201a8\"],[0.3333333333333333,\"#9c179e\"],[0.4444444444444444,\"#bd3786\"],[0.5555555555555556,\"#d8576b\"],[0.6666666666666666,\"#ed7953\"],[0.7777777777777778,\"#fb9f3a\"],[0.8888888888888888,\"#fdca26\"],[1.0,\"#f0f921\"]],\"type\":\"heatmap\"}],\"histogram2dcontour\":[{\"colorbar\":{\"outlinewidth\":0,\"ticks\":\"\"},\"colorscale\":[[0.0,\"#0d0887\"],[0.1111111111111111,\"#46039f\"],[0.2222222222222222,\"#7201a8\"],[0.3333333333333333,\"#9c179e\"],[0.4444444444444444,\"#bd3786\"],[0.5555555555555556,\"#d8576b\"],[0.6666666666666666,\"#ed7953\"],[0.7777777777777778,\"#fb9f3a\"],[0.8888888888888888,\"#fdca26\"],[1.0,\"#f0f921\"]],\"type\":\"histogram2dcontour\"}],\"histogram2d\":[{\"colorbar\":{\"outlinewidth\":0,\"ticks\":\"\"},\"colorscale\":[[0.0,\"#0d0887\"],[0.1111111111111111,\"#46039f\"],[0.2222222222222222,\"#7201a8\"],[0.3333333333333333,\"#9c179e\"],[0.4444444444444444,\"#bd3786\"],[0.5555555555555556,\"#d8576b\"],[0.6666666666666666,\"#ed7953\"],[0.7777777777777778,\"#fb9f3a\"],[0.8888888888888888,\"#fdca26\"],[1.0,\"#f0f921\"]],\"type\":\"histogram2d\"}],\"histogram\":[{\"marker\":{\"pattern\":{\"fillmode\":\"overlay\",\"size\":10,\"solidity\":0.2}},\"type\":\"histogram\"}],\"mesh3d\":[{\"colorbar\":{\"outlinewidth\":0,\"ticks\":\"\"},\"type\":\"mesh3d\"}],\"parcoords\":[{\"line\":{\"colorbar\":{\"outlinewidth\":0,\"ticks\":\"\"}},\"type\":\"parcoords\"}],\"pie\":[{\"automargin\":true,\"type\":\"pie\"}],\"scatter3d\":[{\"line\":{\"colorbar\":{\"outlinewidth\":0,\"ticks\":\"\"}},\"marker\":{\"colorbar\":{\"outlinewidth\":0,\"ticks\":\"\"}},\"type\":\"scatter3d\"}],\"scattercarpet\":[{\"marker\":{\"colorbar\":{\"outlinewidth\":0,\"ticks\":\"\"}},\"type\":\"scattercarpet\"}],\"scattergeo\":[{\"marker\":{\"colorbar\":{\"outlinewidth\":0,\"ticks\":\"\"}},\"type\":\"scattergeo\"}],\"scattergl\":[{\"marker\":{\"line\":{\"color\":\"#283442\"}},\"type\":\"scattergl\"}],\"scattermapbox\":[{\"marker\":{\"colorbar\":{\"outlinewidth\":0,\"ticks\":\"\"}},\"type\":\"scattermapbox\"}],\"scatterpolargl\":[{\"marker\":{\"colorbar\":{\"outlinewidth\":0,\"ticks\":\"\"}},\"type\":\"scatterpolargl\"}],\"scatterpolar\":[{\"marker\":{\"colorbar\":{\"outlinewidth\":0,\"ticks\":\"\"}},\"type\":\"scatterpolar\"}],\"scatter\":[{\"marker\":{\"line\":{\"color\":\"#283442\"}},\"type\":\"scatter\"}],\"scatterternary\":[{\"marker\":{\"colorbar\":{\"outlinewidth\":0,\"ticks\":\"\"}},\"type\":\"scatterternary\"}],\"surface\":[{\"colorbar\":{\"outlinewidth\":0,\"ticks\":\"\"},\"colorscale\":[[0.0,\"#0d0887\"],[0.1111111111111111,\"#46039f\"],[0.2222222222222222,\"#7201a8\"],[0.3333333333333333,\"#9c179e\"],[0.4444444444444444,\"#bd3786\"],[0.5555555555555556,\"#d8576b\"],[0.6666666666666666,\"#ed7953\"],[0.7777777777777778,\"#fb9f3a\"],[0.8888888888888888,\"#fdca26\"],[1.0,\"#f0f921\"]],\"type\":\"surface\"}],\"table\":[{\"cells\":{\"fill\":{\"color\":\"#506784\"},\"line\":{\"color\":\"rgb(17,17,17)\"}},\"header\":{\"fill\":{\"color\":\"#2a3f5f\"},\"line\":{\"color\":\"rgb(17,17,17)\"}},\"type\":\"table\"}]},\"layout\":{\"annotationdefaults\":{\"arrowcolor\":\"#f2f5fa\",\"arrowhead\":0,\"arrowwidth\":1},\"autotypenumbers\":\"strict\",\"coloraxis\":{\"colorbar\":{\"outlinewidth\":0,\"ticks\":\"\"}},\"colorscale\":{\"diverging\":[[0,\"#8e0152\"],[0.1,\"#c51b7d\"],[0.2,\"#de77ae\"],[0.3,\"#f1b6da\"],[0.4,\"#fde0ef\"],[0.5,\"#f7f7f7\"],[0.6,\"#e6f5d0\"],[0.7,\"#b8e186\"],[0.8,\"#7fbc41\"],[0.9,\"#4d9221\"],[1,\"#276419\"]],\"sequential\":[[0.0,\"#0d0887\"],[0.1111111111111111,\"#46039f\"],[0.2222222222222222,\"#7201a8\"],[0.3333333333333333,\"#9c179e\"],[0.4444444444444444,\"#bd3786\"],[0.5555555555555556,\"#d8576b\"],[0.6666666666666666,\"#ed7953\"],[0.7777777777777778,\"#fb9f3a\"],[0.8888888888888888,\"#fdca26\"],[1.0,\"#f0f921\"]],\"sequentialminus\":[[0.0,\"#0d0887\"],[0.1111111111111111,\"#46039f\"],[0.2222222222222222,\"#7201a8\"],[0.3333333333333333,\"#9c179e\"],[0.4444444444444444,\"#bd3786\"],[0.5555555555555556,\"#d8576b\"],[0.6666666666666666,\"#ed7953\"],[0.7777777777777778,\"#fb9f3a\"],[0.8888888888888888,\"#fdca26\"],[1.0,\"#f0f921\"]]},\"colorway\":[\"#636efa\",\"#EF553B\",\"#00cc96\",\"#ab63fa\",\"#FFA15A\",\"#19d3f3\",\"#FF6692\",\"#B6E880\",\"#FF97FF\",\"#FECB52\"],\"font\":{\"color\":\"#f2f5fa\"},\"geo\":{\"bgcolor\":\"rgb(17,17,17)\",\"lakecolor\":\"rgb(17,17,17)\",\"landcolor\":\"rgb(17,17,17)\",\"showlakes\":true,\"showland\":true,\"subunitcolor\":\"#506784\"},\"hoverlabel\":{\"align\":\"left\"},\"hovermode\":\"closest\",\"mapbox\":{\"style\":\"dark\"},\"paper_bgcolor\":\"rgb(17,17,17)\",\"plot_bgcolor\":\"rgb(17,17,17)\",\"polar\":{\"angularaxis\":{\"gridcolor\":\"#506784\",\"linecolor\":\"#506784\",\"ticks\":\"\"},\"bgcolor\":\"rgb(17,17,17)\",\"radialaxis\":{\"gridcolor\":\"#506784\",\"linecolor\":\"#506784\",\"ticks\":\"\"}},\"scene\":{\"xaxis\":{\"backgroundcolor\":\"rgb(17,17,17)\",\"gridcolor\":\"#506784\",\"gridwidth\":2,\"linecolor\":\"#506784\",\"showbackground\":true,\"ticks\":\"\",\"zerolinecolor\":\"#C8D4E3\"},\"yaxis\":{\"backgroundcolor\":\"rgb(17,17,17)\",\"gridcolor\":\"#506784\",\"gridwidth\":2,\"linecolor\":\"#506784\",\"showbackground\":true,\"ticks\":\"\",\"zerolinecolor\":\"#C8D4E3\"},\"zaxis\":{\"backgroundcolor\":\"rgb(17,17,17)\",\"gridcolor\":\"#506784\",\"gridwidth\":2,\"linecolor\":\"#506784\",\"showbackground\":true,\"ticks\":\"\",\"zerolinecolor\":\"#C8D4E3\"}},\"shapedefaults\":{\"line\":{\"color\":\"#f2f5fa\"}},\"sliderdefaults\":{\"bgcolor\":\"#C8D4E3\",\"bordercolor\":\"rgb(17,17,17)\",\"borderwidth\":1,\"tickwidth\":0},\"ternary\":{\"aaxis\":{\"gridcolor\":\"#506784\",\"linecolor\":\"#506784\",\"ticks\":\"\"},\"baxis\":{\"gridcolor\":\"#506784\",\"linecolor\":\"#506784\",\"ticks\":\"\"},\"bgcolor\":\"rgb(17,17,17)\",\"caxis\":{\"gridcolor\":\"#506784\",\"linecolor\":\"#506784\",\"ticks\":\"\"}},\"title\":{\"x\":0.05},\"updatemenudefaults\":{\"bgcolor\":\"#506784\",\"borderwidth\":0},\"xaxis\":{\"automargin\":true,\"gridcolor\":\"#283442\",\"linecolor\":\"#506784\",\"ticks\":\"\",\"title\":{\"standoff\":15},\"zerolinecolor\":\"#283442\",\"zerolinewidth\":2},\"yaxis\":{\"automargin\":true,\"gridcolor\":\"#283442\",\"linecolor\":\"#506784\",\"ticks\":\"\",\"title\":{\"standoff\":15},\"zerolinecolor\":\"#283442\",\"zerolinewidth\":2}}},\"title\":{\"text\":\"Total Sleep Time Mins by Weekday rollling avg\"}},                        {\"responsive\": true}                    ).then(function(){\n",
       "                            \n",
       "var gd = document.getElementById('b9825ec3-143b-4505-bf39-002cc9262689');\n",
       "var x = new MutationObserver(function (mutations, observer) {{\n",
       "        var display = window.getComputedStyle(gd).display;\n",
       "        if (!display || display === 'none') {{\n",
       "            console.log([gd, 'removed!']);\n",
       "            Plotly.purge(gd);\n",
       "            observer.disconnect();\n",
       "        }}\n",
       "}});\n",
       "\n",
       "// Listen for the removal of the full notebook cells\n",
       "var notebookContainer = gd.closest('#notebook-container');\n",
       "if (notebookContainer) {{\n",
       "    x.observe(notebookContainer, {childList: true});\n",
       "}}\n",
       "\n",
       "// Listen for the clearing of the current output cell\n",
       "var outputEl = gd.closest('.output');\n",
       "if (outputEl) {{\n",
       "    x.observe(outputEl, {childList: true});\n",
       "}}\n",
       "\n",
       "                        })                };                });            </script>        </div>"
      ]
     },
     "metadata": {},
     "output_type": "display_data"
    }
   ],
   "source": [
    "fig = go.Figure()\n",
    "\n",
    "for wday in df['sleepDate.weekDay'].unique():\n",
    "    \n",
    "\n",
    "    fig.add_trace(\n",
    "        go.Scatter(\n",
    "            x = df.loc[df['sleepDate.weekDay'] == wday]['sleepDate']\n",
    "            , y = df.loc[df['sleepDate.weekDay'] == wday]['sleepData.totalSleepTime'].rolling(window=10).mean()\n",
    "            , name=wday\n",
    "            # , text = ['Carat: %s<br>Measurements: %s mms'%(a,b) for a,b in graph_df.loc[:,['carat','measurements']].values]\n",
    "            , hoverinfo = 'text'\n",
    "            , marker=dict(\n",
    "                colorscale='agsunset',\n",
    "                line_width=1\n",
    "            )\n",
    "        )\n",
    "    )\n",
    " \n",
    "# dark theme \n",
    "fig.layout.template = 'plotly_dark'\n",
    "\n",
    "\n",
    "fig.update_layout(title = 'Total Sleep Time Mins by Weekday rollling avg',\n",
    "                  # xaxis_title='Carat (0.2g)',\n",
    "                  # yaxis_title='Approx. Horizontal Area (mm^2)', \n",
    "                 )\n",
    "\n",
    "# # save file to html\n",
    "# # fig.write_json(os.path.abspath('../../personal-site/static/plotly/diamonds-forever/be-size-vs-carat.json'))\n",
    "\n",
    "fig.show()"
   ]
  },
  {
   "cell_type": "code",
   "execution_count": null,
   "id": "de16ccee-0764-4051-aef1-2870040abbe6",
   "metadata": {},
   "outputs": [],
   "source": []
  },
  {
   "cell_type": "code",
   "execution_count": null,
   "id": "ef004fc1-d095-4353-8793-238d7a5d0000",
   "metadata": {},
   "outputs": [],
   "source": []
  },
  {
   "cell_type": "code",
   "execution_count": null,
   "id": "9e2bfaf0-6466-49e8-bbe3-8d6d17ff6ca0",
   "metadata": {},
   "outputs": [],
   "source": []
  }
 ],
 "metadata": {
  "kernelspec": {
   "display_name": "dlrappeport",
   "language": "python",
   "name": "dlrappeport"
  },
  "language_info": {
   "codemirror_mode": {
    "name": "ipython",
    "version": 3
   },
   "file_extension": ".py",
   "mimetype": "text/x-python",
   "name": "python",
   "nbconvert_exporter": "python",
   "pygments_lexer": "ipython3",
   "version": "3.8.5"
  }
 },
 "nbformat": 4,
 "nbformat_minor": 5
}
