{
 "cells": [
  {
   "cell_type": "markdown",
   "metadata": {},
   "source": [
    "[tutorial notes](http://docs.tweepy.org/en/latest/getting_started.html)"
   ]
  },
  {
   "cell_type": "code",
   "execution_count": 1,
   "metadata": {},
   "outputs": [],
   "source": [
    "import os\n",
    "import yaml\n",
    "import tweepy"
   ]
  },
  {
   "cell_type": "code",
   "execution_count": 2,
   "metadata": {},
   "outputs": [],
   "source": [
    "# api creds\n",
    "creds = yaml.load(\n",
    "    open(os.path.expanduser('~/.twitter/creds.yml')), \n",
    "    Loader=yaml.FullLoader)"
   ]
  },
  {
   "cell_type": "code",
   "execution_count": 3,
   "metadata": {},
   "outputs": [],
   "source": [
    "# api auth\n",
    "auth = tweepy.OAuthHandler(\n",
    "    consumer_key=creds['api-key'], \n",
    "    consumer_secret=creds['api-secret']\n",
    ")\n",
    "\n",
    "auth.set_access_token(\n",
    "    key=creds['access-token'], \n",
    "    secret=creds['access-token-secret']\n",
    ")\n",
    "\n",
    "api = tweepy.API(auth)"
   ]
  },
  {
   "cell_type": "code",
   "execution_count": 4,
   "metadata": {},
   "outputs": [
    {
     "name": "stdout",
     "output_type": "stream",
     "text": [
      "If Matt Stafford makes that pass Taysom Hill just made, everyone woud be saying that if Patrick Mahomes made that p… https://t.co/bVXohWvPjF\n",
      "Is it too late to get David Montgomery in the Pro Bowl?\n",
      "Was thinking on a caption that could make every one the maddest and I settled on possbly the best run by a QB weari… https://t.co/oYEeBJD0P3\n",
      "Prince’s “Sign o’ the Times” is our latest Diary of a Song. His closest collaborators offer an exclusive look at ho… https://t.co/G1RNfmJKMI\n",
      "RT @PardonMyMeme: @PFTCommenter Browns fans reading this https://t.co/Esh5Q5ftWz\n",
      "Medical symptoms, including dizziness and memory loss, experienced by diplomats posted in Cuba and China were most… https://t.co/kspJcaEUoM\n",
      "Can't sleep on hockey... https://t.co/9MFFV1hBto\n",
      "\"The pack is with you.\" 💛🐺\n",
      "\n",
      "Every Wolves player is wearing a special t-shirt in support of Raul Jimenez who is reco… https://t.co/jMWbP8MzLE\n",
      "The browns are basicaly a ska band https://t.co/eKKYYX4ai8\n",
      "The Browns look like Super Bowl favorites today\n",
      "RT @woonomic: I've never been so bullish for 2021. This re-accumulation phase coincides with spot market inventory depletion roughly 2x lon…\n",
      "Everyone is missing extra points and my brain can’t handle the math\n",
      "The signal did indeed cut out right in the middle of me saying my vows and my sister had to text me with what the o… https://t.co/0efp1285pH\n",
      "Christine and the Queens (@QueensChristine) is listening to @TameImpala and investigating how time is just a blatan… https://t.co/C3cJhoTGm9\n",
      "RT @crookedmedia: On #LovettorLeaveIt, @jonlovett speaks with former Chancellor of DC Public Schools and co-host of @PodSaveThePpl @Henders…\n",
      "🎧 Trees appear to be communicating through underground networks of fungi. What exactly are they sharing with one an… https://t.co/sRkkWiVrov\n",
      "The new coronavirus infected people in the U.S. in mid-December 2019, a few weeks before it was officially identifi… https://t.co/8IuSCN0dEw\n",
      "Steven Gerrard's Rangers league form this season is ridiculous:\n",
      "\n",
      "WWWDWWWDWWWWWWWW\n",
      "\n",
      "Goals: 45\n",
      "Conceded: 3\n",
      "Clean shee… https://t.co/zL23ovqxaf\n",
      "Every retail experience moving forward must be an EXPERIENCE. Either it's magical efficiency like @standardAI  'pic… https://t.co/hnIK4IQFVw\n",
      "RT @NFL_DovKleiman: Fullback pump-up speech? @PFTCommenter\n",
      "\n",
      "\"Do your job!\"\n",
      "\n",
      "https://t.co/lqVUbLrDkB\n"
     ]
    }
   ],
   "source": [
    "public_tweets = api.home_timeline()\n",
    "for tweet in public_tweets:\n",
    "    print(tweet.text)"
   ]
  },
  {
   "cell_type": "code",
   "execution_count": null,
   "metadata": {},
   "outputs": [],
   "source": []
  },
  {
   "cell_type": "code",
   "execution_count": null,
   "metadata": {},
   "outputs": [],
   "source": []
  },
  {
   "cell_type": "code",
   "execution_count": null,
   "metadata": {},
   "outputs": [],
   "source": []
  }
 ],
 "metadata": {
  "kernelspec": {
   "display_name": "Python 3",
   "language": "python",
   "name": "python3"
  },
  "language_info": {
   "codemirror_mode": {
    "name": "ipython",
    "version": 3
   },
   "file_extension": ".py",
   "mimetype": "text/x-python",
   "name": "python",
   "nbconvert_exporter": "python",
   "pygments_lexer": "ipython3",
   "version": "3.6.8"
  }
 },
 "nbformat": 4,
 "nbformat_minor": 4
}
