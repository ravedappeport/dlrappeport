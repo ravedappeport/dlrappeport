{
 "cells": [
  {
   "cell_type": "markdown",
   "metadata": {},
   "source": [
    "[tutorial notes](http://docs.tweepy.org/en/latest/getting_started.html)ß"
   ]
  },
  {
   "cell_type": "code",
   "execution_count": 1,
   "metadata": {},
   "outputs": [],
   "source": [
    "import os\n",
    "import yaml\n",
    "import tweepy"
   ]
  },
  {
   "cell_type": "code",
   "execution_count": 4,
   "metadata": {},
   "outputs": [],
   "source": [
    "# api creds\n",
    "creds = yaml.load(\n",
    "    open(os.path.expanduser('~/.twitter/creds.yml')), \n",
    "    Loader=yaml.FullLoader)"
   ]
  },
  {
   "cell_type": "code",
   "execution_count": 8,
   "metadata": {},
   "outputs": [],
   "source": [
    "# api auth\n",
    "auth = tweepy.OAuthHandler(\n",
    "    consumer_key=creds['api-key'], \n",
    "    consumer_secret=creds['api-secret']\n",
    ")\n",
    "\n",
    "auth.set_access_token(\n",
    "    key=creds['access-token'], \n",
    "    secret=creds['access-token-secret']\n",
    ")\n",
    "\n",
    "api = tweepy.API(auth)"
   ]
  },
  {
   "cell_type": "code",
   "execution_count": 9,
   "metadata": {},
   "outputs": [
    {
     "name": "stdout",
     "output_type": "stream",
     "text": [
      "Insider Report Reveals Obama Tried Persuading Ginsburg To Die During His Presidency https://t.co/u66MIyuVNv https://t.co/a4XE86Aice\n",
      "Venezuelan President Nicolás Maduro is expected to win control of congress, and his country will join Cuba and Nica… https://t.co/YLmRFhHMP0\n",
      "Is getting \"natural immunity\" from Covid-19 better than from a vaccine? The resounding answer from experts: no. \n",
      "\n",
      "I… https://t.co/8F0hqx7yuN\n",
      "#5Dic En el Día del Profesor Universitario vaya el máximo reconocimiento a los profesores que a pesar de la crisis… https://t.co/gKffB33FjB\n",
      "We need to see Ederson take a penalty 😂 https://t.co/xLJa22B0UC\n",
      "The K-pop superstars’ second album of new material in 2020 fixates on the frustration and grief of life in quaranti… https://t.co/5H0OXCjeph\n",
      "p.s. I'm not advocating for any particular \"side\" in the lockdown debate, though I think a short-term, circuit-brea… https://t.co/6I4EaP49Be\n",
      "\"If your stores are crap, your online will be as well.” Barnes &amp; Noble is overhauling its business with a focus on… https://t.co/ENm4ogYX2Z\n",
      "What if I just win every bet today? The thought has crossed my mind\n",
      "The Great Dispersion offers immense opportunities and poses great risks. \n",
      "\n",
      "👉 https://t.co/5gzB043QHj… https://t.co/qu269dXhB9\n",
      "1) FL's true number of infections is likely ~50% higher than NY right now once you adjust for the amount of testing… https://t.co/4v6lF1j7hR\n",
      "An Irish film collector is seeking to identify the subjects of a lost 70-year-old film roll. The 22 photos show a c… https://t.co/x8KIDXiAvI\n",
      "Most jobs added in the U.S. in November were in the transportation and warehousing industries, which package, ship… https://t.co/3dBKYOqPwj\n",
      "Two months into the current cycle for college financial aid applications, the number of high-school seniors who hav… https://t.co/GGQpCYHrwe\n",
      "I think the all-in syndicate is going to become one of the biggest investment funds of all time pretty much overnig… https://t.co/FwMNzf5wds\n",
      "CFB Week 14 is Live. Egg Bowl Bet is paid off \n",
      "\n",
      "https://t.co/gTGe0MA2bc\n",
      "Nike CEO Steps Down In Disgrace After Footage Emerges Of A Guy Running Really Slow While Wearing Their Sneakers… https://t.co/hkxN1ZM66Q\n",
      "Here’s a look at what President Trump can and can’t do with his pardon power https://t.co/5lxiOsfmUn\n",
      "In Opinion\n",
      "\n",
      "“Pornhub prides itself on being the cheery, winking face of naughty,” @NickKristof writes. “Yet there’s… https://t.co/EE8fWZDT9s\n",
      "RT @barstoolsports: Barstool College Football Show presented by @PhilipsNorelco - Week 14 https://t.co/W6l29zLxsD\n"
     ]
    }
   ],
   "source": [
    "public_tweets = api.home_timeline()\n",
    "for tweet in public_tweets:\n",
    "    print(tweet.text)"
   ]
  },
  {
   "cell_type": "code",
   "execution_count": null,
   "metadata": {},
   "outputs": [],
   "source": []
  }
 ],
 "metadata": {
  "kernelspec": {
   "display_name": "Python 3",
   "language": "python",
   "name": "python3"
  },
  "language_info": {
   "codemirror_mode": {
    "name": "ipython",
    "version": 3
   },
   "file_extension": ".py",
   "mimetype": "text/x-python",
   "name": "python",
   "nbconvert_exporter": "python",
   "pygments_lexer": "ipython3",
   "version": "3.6.8"
  }
 },
 "nbformat": 4,
 "nbformat_minor": 4
}
